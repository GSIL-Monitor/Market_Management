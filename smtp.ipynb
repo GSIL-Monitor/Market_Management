{
 "cells": [
  {
   "cell_type": "code",
   "execution_count": 1,
   "metadata": {},
   "outputs": [],
   "source": [
    "import smtplib\n",
    "from email.mime.multipart import MIMEMultipart\n",
    "from email.mime.text import MIMEText"
   ]
  },
  {
   "cell_type": "code",
   "execution_count": 2,
   "metadata": {},
   "outputs": [],
   "source": [
    "server = smtplib.SMTP('smtp.glittergroupcn.com', 25)"
   ]
  },
  {
   "cell_type": "code",
   "execution_count": 3,
   "metadata": {},
   "outputs": [
    {
     "name": "stdout",
     "output_type": "stream",
     "text": [
      "邮件发送成功！\n"
     ]
    }
   ],
   "source": [
    "username = \"eyelash@glittergroupcn.com\"\n",
    "password = \"Wangzhen68970747\"\n",
    "\n",
    "# 收件人地址列表，支持多个收件人，最多30个\n",
    "rcptlist = ['odingdongo@hotmail.com']\n",
    "receivers = ','.join(rcptlist)\n",
    "\n",
    "# 构建 multipart 的邮件消息\n",
    "msg = MIMEMultipart('mixed')\n",
    "msg['Subject'] = 'this is a test email'\n",
    "msg['From'] = username\n",
    "msg['To'] = receivers\n",
    "\n",
    "# 构建 multipart/alternative 的 text/plain 部分\n",
    "alternative = MIMEMultipart('alternative')\n",
    "textplain = MIMEText('测试邮件', 'plain', 'utf-8')\n",
    "alternative.attach(textplain)\n",
    "\n",
    "# 构建 multipart/alternative 的 text/html 部分\n",
    "html = '<h3>Video links of individual product:</h3><a href=\"https://drive.google.com/open?id=19lOBrFL4AEf7ZBrmV1QdR_TZE-oW5PrC\">Mink Eyelash 11A01</a>'\n",
    "html += '<h3>Product Catalog:</h3><a href=\"https://drive.google.com/open?id=1iOUkkt2lLj_3szNeHm30bFT5QWUzPM7A\">Glitter Eyelashes 2018 Product Catalog.pdf</a>'\n",
    "html = '<html><body>'+ html +'</body></html>'\n",
    "texthtml = MIMEText(html, 'html', 'utf-8')\n",
    "alternative.attach(texthtml)\n",
    "\n",
    "msg.attach(alternative)\n",
    "try:\n",
    "    client = smtplib.SMTP()\n",
    "    #python 2.7以上版本，若需要使用SSL，可以这样创建client\n",
    "    #client = smtplib.SMTP_SSL()\n",
    "    client.connect('smtp.glittergroupcn.com')\n",
    "    client.login(username, password)\n",
    "    #发件人和认证地址必须一致\n",
    "    client.sendmail(username, rcptlist, msg.as_string())\n",
    "    client.quit()\n",
    "    print('邮件发送成功！')\n",
    "except smtplib.SMTPRecipientsRefused:\n",
    "    print('邮件发送失败，收件人被拒绝')\n",
    "except smtplib.SMTPAuthenticationError:\n",
    "    print('邮件发送失败，认证错误')\n",
    "except smtplib.SMTPSenderRefused:\n",
    "    print('邮件发送失败，发件人被拒绝')\n",
    "except smtplib.SMTPException as e:\n",
    "    print('邮件发送失败, ', e.message)"
   ]
  },
  {
   "cell_type": "code",
   "execution_count": null,
   "metadata": {},
   "outputs": [],
   "source": []
  },
  {
   "cell_type": "code",
   "execution_count": null,
   "metadata": {},
   "outputs": [],
   "source": []
  },
  {
   "cell_type": "code",
   "execution_count": null,
   "metadata": {},
   "outputs": [],
   "source": []
  },
  {
   "cell_type": "code",
   "execution_count": null,
   "metadata": {},
   "outputs": [],
   "source": []
  },
  {
   "cell_type": "code",
   "execution_count": null,
   "metadata": {},
   "outputs": [],
   "source": []
  }
 ],
 "metadata": {
  "kernelspec": {
   "display_name": "Python 3",
   "language": "python",
   "name": "python3"
  },
  "language_info": {
   "codemirror_mode": {
    "name": "ipython",
    "version": 3
   },
   "file_extension": ".py",
   "mimetype": "text/x-python",
   "name": "python",
   "nbconvert_exporter": "python",
   "pygments_lexer": "ipython3",
   "version": "3.6.6"
  }
 },
 "nbformat": 4,
 "nbformat_minor": 2
}
