{
 "cells": [
  {
   "cell_type": "code",
   "execution_count": 32,
   "metadata": {},
   "outputs": [],
   "source": [
    "import smtplib\n",
    "from libs.json import JSON\n",
    "from email.mime.text import MIMEText\n",
    "from email.mime.multipart import MIMEMultipart\n",
    "from string import Template"
   ]
  },
  {
   "cell_type": "code",
   "execution_count": 49,
   "metadata": {},
   "outputs": [
    {
     "name": "stdout",
     "output_type": "stream",
     "text": [
      ". storage markets.json\n",
      ".\\storage\\markets.json was deserialized!\n"
     ]
    },
    {
     "data": {
      "text/plain": [
       "{'name': 'Eyelashes',\n",
       " 'directory': 'E:\\\\glitter\\\\Eyelashes',\n",
       " 'lid': 'eyelash@glittergroupcn.com',\n",
       " 'lpwd': 'Wangzhen68970747',\n",
       " 'homepage': 'www.glittereyelash.en.alibaba.com'}"
      ]
     },
     "execution_count": 49,
     "metadata": {},
     "output_type": "execute_result"
    }
   ],
   "source": [
    "market = JSON.deserialize('.', 'storage', 'markets.json')['Eyelashes']\n",
    "market['homepage'] = \"www.glittereyelash.en.alibaba.com\"\n",
    "market"
   ]
  },
  {
   "cell_type": "code",
   "execution_count": 62,
   "metadata": {},
   "outputs": [],
   "source": [
    "class Email:\n",
    "    @classmethod\n",
    "    def send(cls, market, receivers, message):\n",
    "        try:\n",
    "            message['From'] = market['lid']\n",
    "            message['To'] = ','.join(receivers)\n",
    "            client = smtplib.SMTP()\n",
    "            client.connect('smtp.glittergroupcn.com')\n",
    "            client.login(username, password)\n",
    "            client.sendmail(market['lid'], receivers, msg.as_string())\n",
    "            print('邮件发送成功！')\n",
    "        except smtplib.SMTPRecipientsRefused:\n",
    "            print('邮件发送失败，收件人被拒绝')\n",
    "        except smtplib.SMTPAuthenticationError:\n",
    "            print('邮件发送失败，认证错误')\n",
    "        except smtplib.SMTPSenderRefused:\n",
    "            print('邮件发送失败，发件人被拒绝')\n",
    "        except smtplib.SMTPException as e:\n",
    "            print('邮件发送失败, ', e.message)\n",
    "        finally:\n",
    "            client.quit()\n",
    "\n",
    "    @classmethod\n",
    "    def message_of_product_catalog(cls, market, buyer, sender):\n",
    "#         file = market['directory'] + '_config' + '//' + 'email_template_product_catalog.html'\n",
    "        catalog_href = \"https://drive.google.com/open?id=1gfHwDl1qPomAMnkFGCjiVk74e8CQagoI\"\n",
    "        file = './/email_template_product_catalog.html'\n",
    "        with open(file, 'r') as f:\n",
    "            text = f.read()\n",
    "        t = Template(text)\n",
    "        content = t.substitute({'buyer': buyer.split(' ')[0], 'sender': sender.split(' ')[0], 'catalog_href':catalog_href, 'homepage':market['homepage']})\n",
    "        msg = MIMEText(content, 'html', 'utf-8')\n",
    "        msg['Subject'] = 'Glitter Eyelash 2018 Product Catalog'\n",
    "        return msg"
   ]
  },
  {
   "cell_type": "code",
   "execution_count": null,
   "metadata": {},
   "outputs": [],
   "source": []
  },
  {
   "cell_type": "code",
   "execution_count": null,
   "metadata": {},
   "outputs": [],
   "source": []
  },
  {
   "cell_type": "code",
   "execution_count": 60,
   "metadata": {},
   "outputs": [
    {
     "name": "stdout",
     "output_type": "stream",
     "text": [
      "邮件发送成功！\n"
     ]
    }
   ],
   "source": [
    "buyer = 'Prestl Bernhard'\n",
    "sender = 'Jeremy Wang'\n",
    "\n",
    "msg = Email.message_of_product_catalog(market, buyer, sender)\n",
    "receivers = ['odingdongo@hotmail.com', 'changshu.qd@gmail.com']\n",
    "Email.send(market, receivers, msg)"
   ]
  },
  {
   "cell_type": "code",
   "execution_count": null,
   "metadata": {},
   "outputs": [],
   "source": []
  },
  {
   "cell_type": "code",
   "execution_count": 46,
   "metadata": {},
   "outputs": [
    {
     "data": {
      "text/plain": [
       "'Content-Type: text/html; charset=\"utf-8\"\\nMIME-Version: 1.0\\nContent-Transfer-Encoding: base64\\nSubject: Glitter Eyelash Product Catalog.pdf\\n\\nPGh0bWw+CiAgICA8Ym9keT4KICAgICAgICA8ZGl2PkRlYXIgUHJlc3RsLDwvZGl2PgogICAgICAg\\nIDxwPjwvcD4KICAgICAgICA8cD5IZXJlIGlzIHRoZSBsaW5rIHRvIG91ciA8YSBocmVmPSIjIj5G\\nYWxzZSBFeWVsYXNoIENhdGFsb2c8L2E+LjwvcD4KICAgICAgICA8cD5Zb3UgY2FuIGFsc28gZG93\\nbmxvYWQgaXQgYW5kIHJlYWQgb2ZmbGluZS4gVGhlIGJ1dHRvbiB0byBkb3dubG9hZCBsb2NhdGVz\\nIGF0IHRoZSB0b3AgcmlnaHQgY29ybmVyLCBhZnRlciB5b3Ugb3BlbiBpdCBpbiBhIHdlYiBicm93\\nc2VyLjwvcD4KICAgICAgICA8cD5JZiBhbnkgbGFzaGVzIGludGVyZXN0IHlvdSwgcGxlYXNlIGlu\\nZm9ybSBtZSBhYm91dCB0aGUgcHJvZHVjdCBjb2Rlcy4gSSdsbCBzZW5kIHlvdSBwaG90b3MgYW5k\\nIHZpZGVvcyBmb3IgaW5kaXZpZHVhbCBsYXNoZXMgd2l0aCBtb3JlIGNsZWFyYW5jZS48L3A+CiAg\\nICAgICAgPHA+PC9wPgogICAgICAgIDxwPkFueSBhZHZpY2Ugd291bGQgYmUgZ3JlYXRseSBhcHBy\\nZWNpYXRlZCE8L3A+CiAgICAgICAgPHA+PC9wPgogICAgICAgIDxwPkJlc3QgUmVnYXJkczwvcD4K\\nICAgICAgICA8cD5KZXJlbXk8L3A+CiAgICAgICAgPGRpdj48YSBocmVmPSJ3d3cuZ2xpdHRlcmV5\\nZWxhc2guZW4uYWxpYmFiYS5jb20iPlFpbmdkYW8gR2xpdHRlciBFeWVsYXNoIENvLixMdGQ8L2E+\\nPC9kaXY+CiAgICAgICAgPGRpdj5XaGF0c0FwcC9Ta3lwZTogKzg2IDE3Njg1NTkzMTAwPC9kaXY+\\nCiAgICAgICAgPGRpdj5FbWFpbDogIGV5ZWxhc2hAZ2xpdHRlcmdyb3VwY24uY29tPC9kaXY+CiAg\\nICA8L2JvZHk+CjwvaHRtbD4=\\n'"
      ]
     },
     "execution_count": 46,
     "metadata": {},
     "output_type": "execute_result"
    }
   ],
   "source": [
    "msg.as_string()"
   ]
  },
  {
   "cell_type": "code",
   "execution_count": 35,
   "metadata": {},
   "outputs": [],
   "source": []
  },
  {
   "cell_type": "code",
   "execution_count": 36,
   "metadata": {},
   "outputs": [
    {
     "data": {
      "text/plain": [
       "'<html>\\n    <body>\\n        <h3>Hi Prestl Bernhard,</h3>\\n        <p></p>\\n        <p>Here is the link to our <a href=\"#\">False Eyelash Catalog</a></p>\\n        <p>You can also download it and read offline. The button to download locates at the top right corner, after you open it in a web browser.</p>\\n        <p>If any lashes interest you, please inform me about the product codes. I\\'ll send you photos and videos for individual lashes with more clearance.</p>\\n        <p></p>\\n        <p>Any advice would be greatly appreciated!</p>\\n        <p></p>\\n        <p>Best Regards</p>\\n        <h4>Jeremy Wang</h4>\\n        <p><a href=\"#\">Qingdao Glitter Eyelash co., ltd.</a></p>\\n    </body>\\n</html>'"
      ]
     },
     "execution_count": 36,
     "metadata": {},
     "output_type": "execute_result"
    }
   ],
   "source": [
    "content"
   ]
  },
  {
   "cell_type": "code",
   "execution_count": null,
   "metadata": {},
   "outputs": [],
   "source": []
  },
  {
   "cell_type": "code",
   "execution_count": null,
   "metadata": {},
   "outputs": [],
   "source": []
  },
  {
   "cell_type": "code",
   "execution_count": null,
   "metadata": {},
   "outputs": [],
   "source": []
  },
  {
   "cell_type": "code",
   "execution_count": 3,
   "metadata": {},
   "outputs": [
    {
     "name": "stdout",
     "output_type": "stream",
     "text": [
      "邮件发送成功！\n"
     ]
    }
   ],
   "source": []
  },
  {
   "cell_type": "code",
   "execution_count": 3,
   "metadata": {},
   "outputs": [
    {
     "name": "stdout",
     "output_type": "stream",
     "text": [
      "邮件发送成功！\n"
     ]
    }
   ],
   "source": [
    "username = \"eyelash@glittergroupcn.com\"\n",
    "password = \"Wangzhen68970747\"\n",
    "\n",
    "# 收件人地址列表，支持多个收件人，最多30个\n",
    "rcptlist = ['odingdongo@hotmail.com', 'changshu.qd@gmail.com']\n",
    "receivers = ','.join(rcptlist)\n",
    "\n",
    "content = '<h3>Video links of individual product:</h3><a href=\"https://drive.google.com/open?id=19lOBrFL4AEf7ZBrmV1QdR_TZE-oW5PrC\">Mink Eyelash 11A01</a>'\n",
    "content += '<h3>Product Catalog:</h3><a href=\"https://drive.google.com/open?id=1iOUkkt2lLj_3szNeHm30bFT5QWUzPM7A\">Glitter Eyelashes 2018 Product Catalog.pdf</a>'\n",
    "content = '<html><body>'+ content +'</body></html>'\n",
    "msg = MIMEText(content, 'html', 'utf-8')\n",
    "\n",
    "msg['Subject'] = 'this is a test email with html content'\n",
    "msg['From'] = username\n",
    "msg['To'] = receivers\n",
    "\n",
    "# 构建 multipart/alternative 的 t\n",
    "try:\n",
    "    client = smtplib.SMTP()\n",
    "    #python 2.7以上版本，若需要使用SSL，可以这样创建client\n",
    "    #client = smtplib.SMTP_SSL()\n",
    "    client.connect('smtp.glittergroupcn.com')\n",
    "    client.login(username, password)\n",
    "    #发件人和认证地址必须一致\n",
    "    client.sendmail(username, rcptlist, msg.as_string())\n",
    "    client.quit()\n",
    "    print('邮件发送成功！')\n",
    "except smtplib.SMTPRecipientsRefused:\n",
    "    print('邮件发送失败，收件人被拒绝')\n",
    "except smtplib.SMTPAuthenticationError:\n",
    "    print('邮件发送失败，认证错误')\n",
    "except smtplib.SMTPSenderRefused:\n",
    "    print('邮件发送失败，发件人被拒绝')\n",
    "except smtplib.SMTPException as e:\n",
    "    print('邮件发送失败, ', e.message)"
   ]
  },
  {
   "cell_type": "code",
   "execution_count": null,
   "metadata": {},
   "outputs": [],
   "source": []
  },
  {
   "cell_type": "code",
   "execution_count": null,
   "metadata": {},
   "outputs": [],
   "source": []
  },
  {
   "cell_type": "code",
   "execution_count": null,
   "metadata": {},
   "outputs": [],
   "source": []
  },
  {
   "cell_type": "code",
   "execution_count": null,
   "metadata": {},
   "outputs": [],
   "source": []
  }
 ],
 "metadata": {
  "kernelspec": {
   "display_name": "Python 3",
   "language": "python",
   "name": "python3"
  },
  "language_info": {
   "codemirror_mode": {
    "name": "ipython",
    "version": 3
   },
   "file_extension": ".py",
   "mimetype": "text/x-python",
   "name": "python",
   "nbconvert_exporter": "python",
   "pygments_lexer": "ipython3",
   "version": "3.6.5"
  }
 },
 "nbformat": 4,
 "nbformat_minor": 2
}
