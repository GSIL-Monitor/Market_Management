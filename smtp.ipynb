{
 "cells": [
  {
   "cell_type": "code",
   "execution_count": 3,
   "metadata": {},
   "outputs": [],
   "source": [
    "import smtplib\n",
    "from libs.json import JSON\n",
    "from email.mime.text import MIMEText\n",
    "from email.mime.multipart import MIMEMultipart\n",
    "from string import Template"
   ]
  },
  {
   "cell_type": "code",
   "execution_count": 49,
   "metadata": {},
   "outputs": [
    {
     "name": "stdout",
     "output_type": "stream",
     "text": [
      ". storage markets.json\n",
      ".\\storage\\markets.json was deserialized!\n"
     ]
    },
    {
     "data": {
      "text/plain": [
       "{'name': 'Eyelashes',\n",
       " 'directory': 'E:\\\\glitter\\\\Eyelashes',\n",
       " 'lid': 'eyelash@glittergroupcn.com',\n",
       " 'lpwd': 'Wangzhen68970747',\n",
       " 'homepage': 'www.glittereyelash.en.alibaba.com'}"
      ]
     },
     "execution_count": 49,
     "metadata": {},
     "output_type": "execute_result"
    }
   ],
   "source": [
    "market = JSON.deserialize('.', 'storage', 'markets.json')['Eyelashes']\n",
    "market['homepage'] = \"www.glittereyelash.en.alibaba.com\"\n",
    "market"
   ]
  },
  {
   "cell_type": "code",
   "execution_count": 9,
   "metadata": {},
   "outputs": [],
   "source": [
    "class Email:\n",
    "    @classmethod\n",
    "    def send(cls, account, receivers, message):\n",
    "        successfull = False\n",
    "        try:\n",
    "            message['From'] = account['lid']\n",
    "            message['To'] = ','.join(receivers)\n",
    "            client = smtplib.SMTP()\n",
    "            client.connect('smtp.glittergroupcn.com')\n",
    "            client.login(account['lid'], account['lpwd'])\n",
    "            client.sendmail(account['lid'], receivers, message.as_string())\n",
    "            successfull = True\n",
    "            print('邮件发送成功！')\n",
    "        except smtplib.SMTPRecipientsRefused:\n",
    "            print('邮件发送失败，收件人被拒绝')\n",
    "        except smtplib.SMTPAuthenticationError:\n",
    "            print('邮件发送失败，认证错误')\n",
    "        except smtplib.SMTPSenderRefused:\n",
    "            print('邮件发送失败，发件人被拒绝')\n",
    "        except smtplib.SMTPException as e:\n",
    "            print('邮件发送失败, ', e.message)\n",
    "        finally:\n",
    "            client.quit()\n",
    "        return successfull\n",
    "\n",
    "    @classmethod\n",
    "    def message_of_product_catalog(cls, market, buyer, sender):\n",
    "#         file = market['directory'] + '_config' + '//' + 'email_template_product_catalog.html'\n",
    "        catalog_href = \"https://drive.google.com/open?id=1gfHwDl1qPomAMnkFGCjiVk74e8CQagoI\"\n",
    "        file = './/templates//email_template_product_catalog.html'\n",
    "        with open(file, 'r') as f:\n",
    "            text = f.read()\n",
    "        t = Template(text)\n",
    "        params = {'buyer': buyer, 'sender': sender, 'catalog_href':catalog_href, 'homepage':market['homepage']}\n",
    "        content = t.substitute(params)\n",
    "        msg = MIMEText(content, 'html', 'utf-8')\n",
    "        msg['Subject'] = 'Glitter Eyelash 2018 Product Catalog'\n",
    "        return msg"
   ]
  },
  {
   "cell_type": "code",
   "execution_count": null,
   "metadata": {},
   "outputs": [],
   "source": []
  },
  {
   "cell_type": "code",
   "execution_count": null,
   "metadata": {},
   "outputs": [],
   "source": []
  },
  {
   "cell_type": "code",
   "execution_count": 60,
   "metadata": {},
   "outputs": [
    {
     "name": "stdout",
     "output_type": "stream",
     "text": [
      "邮件发送成功！\n"
     ]
    }
   ],
   "source": [
    "buyer = 'Prestl Bernhard'\n",
    "sender = 'Jeremy Wang'\n",
    "\n",
    "msg = Email.message_of_product_catalog(market, buyer, sender)\n",
    "receivers = ['odingdongo@hotmail.com', 'changshu.qd@gmail.com']\n",
    "Email.send(market, receivers, msg)"
   ]
  },
  {
   "cell_type": "code",
   "execution_count": null,
   "metadata": {},
   "outputs": [],
   "source": []
  },
  {
   "cell_type": "code",
   "execution_count": null,
   "metadata": {},
   "outputs": [],
   "source": []
  },
  {
   "cell_type": "code",
   "execution_count": 35,
   "metadata": {},
   "outputs": [],
   "source": []
  },
  {
   "cell_type": "code",
   "execution_count": null,
   "metadata": {},
   "outputs": [],
   "source": []
  },
  {
   "cell_type": "code",
   "execution_count": null,
   "metadata": {},
   "outputs": [],
   "source": []
  },
  {
   "cell_type": "code",
   "execution_count": null,
   "metadata": {},
   "outputs": [],
   "source": []
  },
  {
   "cell_type": "code",
   "execution_count": null,
   "metadata": {},
   "outputs": [],
   "source": []
  },
  {
   "cell_type": "code",
   "execution_count": null,
   "metadata": {},
   "outputs": [],
   "source": []
  },
  {
   "cell_type": "code",
   "execution_count": null,
   "metadata": {},
   "outputs": [],
   "source": []
  },
  {
   "cell_type": "code",
   "execution_count": 5,
   "metadata": {},
   "outputs": [],
   "source": [
    "\n"
   ]
  },
  {
   "cell_type": "code",
   "execution_count": 7,
   "metadata": {},
   "outputs": [],
   "source": []
  },
  {
   "cell_type": "code",
   "execution_count": null,
   "metadata": {},
   "outputs": [],
   "source": []
  },
  {
   "cell_type": "code",
   "execution_count": null,
   "metadata": {},
   "outputs": [],
   "source": []
  }
 ],
 "metadata": {
  "kernelspec": {
   "display_name": "Python 3",
   "language": "python",
   "name": "python3"
  },
  "language_info": {
   "codemirror_mode": {
    "name": "ipython",
    "version": 3
   },
   "file_extension": ".py",
   "mimetype": "text/x-python",
   "name": "python",
   "nbconvert_exporter": "python",
   "pygments_lexer": "ipython3",
   "version": "3.6.5"
  }
 },
 "nbformat": 4,
 "nbformat_minor": 2
}
