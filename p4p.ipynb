{
 "cells": [
  {
   "cell_type": "code",
   "execution_count": 1,
   "metadata": {},
   "outputs": [],
   "source": [
    "from libs.alibaba.alibaba import Alibaba\n",
    "from libs.alibaba.p4p import P4P\n",
    "from libs.json import JSON\n",
    "\n",
    "from selenium import webdriver\n",
    "from selenium.webdriver.common.keys import Keys\n",
    "from selenium.webdriver.support.ui import WebDriverWait\n",
    "from selenium.webdriver.support import expected_conditions as EC\n",
    "from selenium.common.exceptions import WebDriverException\n",
    "from selenium.common.exceptions import TimeoutException\n",
    "from selenium.common.exceptions import NoSuchElementException\n",
    "from selenium.common.exceptions import StaleElementReferenceException\n",
    "from selenium.webdriver.common.by import By\n",
    "from selenium.webdriver.common.action_chains import ActionChains\n",
    "from datetime import datetime\n",
    "from bs4 import BeautifulSoup\n",
    "from pyquery import PyQuery as pq\n",
    "\n",
    "import json\n",
    "import requests\n",
    "import redis\n",
    "import pendulum\n",
    "import arrow\n",
    "import imp\n",
    "import time\n",
    "import re\n",
    "\n",
    "import types\n",
    "import traceback \n",
    "import threading"
   ]
  },
  {
   "cell_type": "code",
   "execution_count": 2,
   "metadata": {},
   "outputs": [],
   "source": [
    "chrome_options = webdriver.ChromeOptions()\n",
    "chrome_options.add_argument('--disable-gpu')\n",
    "chrome_options.add_argument('--disable-software-rasterizer')\n",
    "chrome_options.add_argument('--disable-extensions')\n",
    "chrome_options.add_argument('--disable-logging')\n",
    "chrome_options.add_argument('--disable-infobars')\n",
    "chrome_options.add_argument('--ignore-certificate-errors')\n",
    "browser = webdriver.Chrome(chrome_options=chrome_options)"
   ]
  },
  {
   "cell_type": "code",
   "execution_count": 3,
   "metadata": {},
   "outputs": [
    {
     "name": "stdout",
     "output_type": "stream",
     "text": [
      ". storage markets.json\n",
      ".\\storage\\markets.json was deserialized!\n",
      "E:\\glitter\\Tools_config [] p4p_keywords_list_recording.json\n",
      "E:\\glitter\\Tools_config\\p4p_keywords_list_recording.json was deserialized!\n",
      "E:\\glitter\\Tools_config [] p4p_keywords_list_monitor.json\n",
      "E:\\glitter\\Tools_config\\p4p_keywords_list_monitor.json was deserialized!\n"
     ]
    }
   ],
   "source": [
    "broker_url = 'redis://localhost:6379/0'\n",
    "market = JSON.deserialize('.', 'storage', 'markets.json')['Tools']\n",
    "p4p = P4P(market, market['lid'], market['lpwd'],broker_url=broker_url, headless=False, browser=browser)"
   ]
  },
  {
   "cell_type": "code",
   "execution_count": null,
   "metadata": {},
   "outputs": [],
   "source": [
    "def crawl(self, group=\"all\"):\n",
    "\n",
    "    try:\n",
    "        keywords = []\n",
    "        # self.load_keywords('recording')\n",
    "        with self.lock:\n",
    "            self.load_url()\n",
    "            # all_kws_count = int(self.browser.find_element_by_css_selector('a.all-kwcount span').text)\n",
    "            all_kws_count = self.switch_to_group(group)\n",
    "\n",
    "            kws_count = 0\n",
    "            while True:\n",
    "                css_selector = \"div.keyword-manage .bp-table-main-wraper>table\"\n",
    "                table = self.browser.find_element_by_css_selector(css_selector)\n",
    "\n",
    "                trs = table.find_elements_by_css_selector('tbody tr')\n",
    "\n",
    "                has_checked = False\n",
    "                for idx, tr in enumerate(trs):\n",
    "                    kws_count += 1\n",
    "\n",
    "                    print('index:', idx, len(trs), end=' > ')\n",
    "                    ActionChains(self.browser).move_to_element(tr).perform()\n",
    "                    id = tr.find_element_by_css_selector('td:first-child input').get_attribute('value').strip()\n",
    "                    # if id not in self.keywords_list['recording']:\n",
    "                    #     print('skipped_not_in_recording')\n",
    "                    #     continue\n",
    "\n",
    "                    grp = tr.find_element_by_css_selector('td:nth-child(4)').text.strip()\n",
    "                    if group != 'all':\n",
    "                        if group not in grp:\n",
    "                            print('skipped_not_in_group', group, grp)\n",
    "                            continue\n",
    "\n",
    "                    dt = datetime.now().strftime('%Y-%m-%d %H:%M:%S')\n",
    "                    kws = tr.find_element_by_css_selector('td:nth-child(3)').text.strip()\n",
    "\n",
    "                    print(kws, end=' > ')\n",
    "\n",
    "                    if not self.open_price_dialog(tr):\n",
    "                        print('skipped_2')\n",
    "                        continue\n",
    "\n",
    "                    [prices, sponsors] = self.find_prices_and_sponsors()\n",
    "\n",
    "                    if prices:\n",
    "                        keywords.append([dt, id, kws, grp, prices, sponsors])\n",
    "\n",
    "                        if (id not in self.recent_prices):\n",
    "                            self.recent_prices[id] = []\n",
    "                        self.recent_prices[id].append(prices)\n",
    "                        if len(self.recent_prices[id]) > 5:\n",
    "                            self.recent_prices[id].pop(0)\n",
    "\n",
    "                    print(' >>>>>> successful end ')\n",
    "\n",
    "                if not self.next_page():\n",
    "                    break\n",
    "        if keywords:\n",
    "            print('==================================')\n",
    "            self.save_crawling_result(keywords)\n",
    "\n",
    "    except Exception as e:\n",
    "        print('Error: ', e)\n",
    "        traceback.print_exc()\n",
    "\n",
    "p4p.crawl = types.MethodType(crawl, p4p)"
   ]
  },
  {
   "cell_type": "code",
   "execution_count": null,
   "metadata": {},
   "outputs": [],
   "source": [
    "def save_crawling_result(self, keywords):\n",
    "    root = self.market['directory'] + '_config'\n",
    "    date_str = keywords[0][0].split(' ')[0]\n",
    "    fn = 'p4p_keywords_crawl_result_'+date_str+'.json.gz'\n",
    "    print(fn, root)\n",
    "    JSON.serialize(keywords, root, [], fn, append=True)\n",
    "    \n",
    "p4p.save_crawling_result = types.MethodType(save_crawling_result, p4p)"
   ]
  },
  {
   "cell_type": "code",
   "execution_count": null,
   "metadata": {},
   "outputs": [],
   "source": [
    "def find_prices_and_sponsors(self, close=True):\n",
    "    prices = []\n",
    "    sponsors = None\n",
    "\n",
    "    kws = self.browser.find_element_by_css_selector(\n",
    "        '.sc-manage-edit-price-dialog span[data-role=\"span-keyword\"]').text.strip()\n",
    "    sponsors = self.find_sponsors(kws)\n",
    "\n",
    "    while True:\n",
    "        try:\n",
    "            price_table_tbody_selector = \".sc-manage-edit-price-dialog table tbody,.sc-manage-edit-price-dialog p.util-clearfix\"\n",
    "            price_table_tbody = WebDriverWait(self.browser, 15).until(\n",
    "                EC.presence_of_element_located((By.CSS_SELECTOR, price_table_tbody_selector)))\n",
    "\n",
    "            if price_table_tbody.tag_name == 'p':\n",
    "                prices = None\n",
    "                break\n",
    "\n",
    "            for btn in price_table_tbody.find_elements_by_css_selector('a'):\n",
    "                price = btn.text.strip()\n",
    "                float(price)\n",
    "                prices.append(price)\n",
    "\n",
    "            self.check_balance()\n",
    "            break\n",
    "        except StaleElementReferenceException:\n",
    "            #             self.browser.implicitly_wait(0.5)\n",
    "            time.sleep(0.5)\n",
    "            continue\n",
    "        except ValueError:\n",
    "            prices = []\n",
    "            break\n",
    "    if close:\n",
    "        webdriver.ActionChains(self.browser).send_keys(Keys.ESCAPE).perform()\n",
    "    return [prices, sponsors]\n",
    "p4p.find_prices_and_sponsors = types.MethodType(find_prices_and_sponsors, p4p)"
   ]
  },
  {
   "cell_type": "code",
   "execution_count": 24,
   "metadata": {},
   "outputs": [],
   "source": [
    "def find_sponsors(self, kws):\n",
    "    url = 'https://www.alibaba.com/trade/search?fsb=y&IndexArea=product_en&viewtype=L&CatId=&SearchText=' + re.sub(\n",
    "        ' +', '+', kws)\n",
    "    self.headers['Referer'] = url\n",
    "    \n",
    "    print('---------------')\n",
    "    print(url)\n",
    "    \n",
    "    response = None\n",
    "    while response is None:\n",
    "        try:\n",
    "            response = requests.get(url, headers=self.headers)\n",
    "            break\n",
    "        except Exception as e:\n",
    "            traceback.print_exc()\n",
    "            time.sleep(3)\n",
    "            print('====================== retry in 3 seconds =================================')\n",
    "            response = None\n",
    "            continue\n",
    "\n",
    "    top_sponsor = None\n",
    "    sponsor_list = []\n",
    "\n",
    "    result = re.search(r'_search_result_data =(.*)page.setPageData\\(_search_result_data\\)', response.text,\n",
    "                       re.M | re.DOTALL)\n",
    "    result = re.sub(',[\\n\\t ]*}', '}',result.group(1))\n",
    "    obj = json.loads(result)\n",
    "    items = obj['normalList']\n",
    "    for idx, item in enumerate(items):\n",
    "        company = {}\n",
    "        if (item['isBrandAd']):\n",
    "            top_sponsor = company\n",
    "        elif (item['isP4p']):\n",
    "            sponsor_list.append(company)\n",
    "        else:\n",
    "            break\n",
    "\n",
    "        company['years'] = item['supplierYear']\n",
    "        company['name'] = item['supplierName']\n",
    "        company['url'] = item['supplierHref']\n",
    "        if 'record' in item:\n",
    "            company['record'] = []\n",
    "            if 'transaction' in item['record']:\n",
    "                company['record'].append(item['record']['transaction']['num'])\n",
    "                company['record'].append('Transactions(6 months)')\n",
    "                company['record'].append(item['record']['transaction']['conducted'])\n",
    "            if 'responseRate' in item['record']:\n",
    "                company['record'].append('Response Rate')\n",
    "                company['record'].append(item['record']['responseRate'])\n",
    "\n",
    "    print({'top_sponsor': top_sponsor, 'sponsor_list': sponsor_list})\n",
    "    return {'top_sponsor': top_sponsor, 'sponsor_list': sponsor_list}\n",
    "p4p.find_sponsors = types.MethodType(find_sponsors, p4p)"
   ]
  },
  {
   "cell_type": "code",
   "execution_count": null,
   "metadata": {},
   "outputs": [],
   "source": [
    "p4p.browser.set_window_size(1920, 1200)"
   ]
  },
  {
   "cell_type": "code",
   "execution_count": null,
   "metadata": {},
   "outputs": [],
   "source": [
    "p4p.browser.save_screenshot('screenie.png')"
   ]
  },
  {
   "cell_type": "code",
   "execution_count": 10,
   "metadata": {},
   "outputs": [],
   "source": [
    "group = '0直通车'"
   ]
  },
  {
   "cell_type": "code",
   "execution_count": null,
   "metadata": {},
   "outputs": [],
   "source": [
    "p4p.load_url()\n",
    "p4p.switch_to_group(group)"
   ]
  },
  {
   "cell_type": "code",
   "execution_count": null,
   "metadata": {},
   "outputs": [],
   "source": [
    "p4p.crawl(group=group)"
   ]
  },
  {
   "cell_type": "code",
   "execution_count": 25,
   "metadata": {},
   "outputs": [
    {
     "name": "stdout",
     "output_type": "stream",
     "text": [
      "Task Monitor start to run with group=\"0直通车\"\n",
      "switch to group: 0直通车\n",
      "index: 0 12 > axe > ---------------\n",
      "https://www.alibaba.com/trade/search?fsb=y&IndexArea=product_en&viewtype=L&CatId=&SearchText=axe\n",
      "{'top_sponsor': None, 'sponsor_list': [{'years': '3', 'name': 'Ronix(Zhangjiagang Bonded Area) Trading Co., Ltd.', 'url': '//ronixtools.en.alibaba.com/company_profile.html#top-nav-bar', 'record': ['28', 'Transactions(6 months)', '770,000+', 'Response Rate', '94.3%']}, {'years': '6', 'name': 'Ningbo Worldsourcing I/E Co., Ltd.', 'url': '//worldsourcingcn.en.alibaba.com/company_profile.html#top-nav-bar', 'record': ['Response Rate', '45.5%']}, {'years': '1', 'name': 'KE Trading Co., Ltd.', 'url': '//yjketrading.en.alibaba.com/company_profile.html#top-nav-bar', 'record': []}, {'years': '2', 'name': 'Qingdao Glitter Tools Co., Ltd.', 'url': '//glittertools.en.alibaba.com/company_profile.html#top-nav-bar', 'record': ['14', 'Transactions(6 months)', '50,000+', 'Response Rate', '94.4%']}, {'years': '7', 'name': 'Xuzhou Fanya Import & Export Co., Ltd.', 'url': '//fanya-machine.en.alibaba.com/company_profile.html#top-nav-bar', 'record': ['15', 'Transactions(6 months)', '140,000+', 'Response Rate', '93.9%']}]}\n",
      "不需要改变价格 >  >>>>>> successful end \n",
      "index: 1 12 > bench vice > ---------------\n",
      "https://www.alibaba.com/trade/search?fsb=y&IndexArea=product_en&viewtype=L&CatId=&SearchText=bench+vice\n",
      "{'top_sponsor': None, 'sponsor_list': [{'years': '4', 'name': 'Qingdao Roxxtek Machinery Co., Ltd.', 'url': '//roxxtektools.en.alibaba.com/company_profile.html#top-nav-bar', 'record': []}, {'years': '8', 'name': 'Shandong Sishui Oli Machine Co., Ltd.', 'url': '//olima.en.alibaba.com/company_profile.html#top-nav-bar', 'record': ['18', 'Transactions(6 months)', '40,000+', 'Response Rate', '95.8%']}, {'years': '4', 'name': 'Foshan Asaki Hardware Tools Co., Ltd.', 'url': '//asakitool.en.alibaba.com/company_profile.html#top-nav-bar', 'record': ['3', 'Transactions(6 months)', '1,000+', 'Response Rate', '70.6%']}, {'years': '2', 'name': 'Tianjin Beiwei International Trade Co., Ltd.', 'url': '//chinabeiwei.en.alibaba.com/company_profile.html#top-nav-bar', 'record': ['9', 'Transactions(6 months)', '10,000+', 'Response Rate', '63.6%']}, {'years': '2', 'name': 'Qingdao Glitter Tools Co., Ltd.', 'url': '//glittertools.en.alibaba.com/company_profile.html#top-nav-bar', 'record': ['14', 'Transactions(6 months)', '50,000+', 'Response Rate', '94.4%']}]}\n",
      " >>>>>> successful end \n",
      "index: 2 12 > bench vise > ---------------\n",
      "https://www.alibaba.com/trade/search?fsb=y&IndexArea=product_en&viewtype=L&CatId=&SearchText=bench+vise\n",
      "{'top_sponsor': None, 'sponsor_list': [{'years': '1', 'name': 'Zhejiang Meiri Intelligent Machinery Co., Ltd.', 'url': '//mrcm.en.alibaba.com/company_profile.html#top-nav-bar', 'record': ['14', 'Transactions(6 months)', '10,000+', 'Response Rate', '96.2%']}, {'years': '1', 'name': 'Shandong Sishui Benteng Machinery Co., Ltd.', 'url': '//sdbtjx.en.alibaba.com/company_profile.html#top-nav-bar', 'record': ['15', 'Transactions(6 months)', '9,000+', 'Response Rate', '85.7%']}, {'years': '2', 'name': 'Qingdao Glitter Tools Co., Ltd.', 'url': '//glittertools.en.alibaba.com/company_profile.html#top-nav-bar', 'record': ['14', 'Transactions(6 months)', '50,000+', 'Response Rate', '94.4%']}, {'years': '7', 'name': 'Xuzhou Fanya Import & Export Co., Ltd.', 'url': '//fanya-machine.en.alibaba.com/company_profile.html#top-nav-bar', 'record': ['15', 'Transactions(6 months)', '140,000+', 'Response Rate', '93.9%']}, {'years': '2', 'name': 'Landing Tools (Shanghai) Co., Ltd.', 'url': '//landinggroup.en.alibaba.com/company_profile.html#top-nav-bar', 'record': ['7', 'Transactions(6 months)', '170,000+', 'Response Rate', '75.6%']}]}\n",
      "不需要改变价格 >  >>>>>> successful end \n",
      "index: 3 12 > bolt cutter > ---------------\n",
      "https://www.alibaba.com/trade/search?fsb=y&IndexArea=product_en&viewtype=L&CatId=&SearchText=bolt+cutter\n",
      "{'top_sponsor': None, 'sponsor_list': [{'years': '3', 'name': 'Zhangjiagang Free Trade Zone Srock Tool & Bag Co., Ltd.', 'url': '//srocktools.en.alibaba.com/company_profile.html#top-nav-bar', 'record': ['11', 'Transactions(6 months)', '50,000+', 'Response Rate', '100.0%']}, {'years': '1', 'name': 'DAIKEN TOOLS ENTERPRISES CO., LTD.', 'url': '//daikentools.en.alibaba.com/company_profile.html#top-nav-bar', 'record': ['Response Rate', '90.9%']}, {'years': '1', 'name': 'Shanghai Suntung Industry Co., Ltd.', 'url': '//suntungtools.en.alibaba.com/company_profile.html#top-nav-bar', 'record': ['1', 'Transactions(6 months)', '1,000+', 'Response Rate', '76.2%']}, {'years': '7', 'name': 'Xuzhou Fanya Import & Export Co., Ltd.', 'url': '//fanya-machine.en.alibaba.com/company_profile.html#top-nav-bar', 'record': ['15', 'Transactions(6 months)', '140,000+', 'Response Rate', '93.9%']}, {'years': '2', 'name': 'Qingdao Glitter Tools Co., Ltd.', 'url': '//glittertools.en.alibaba.com/company_profile.html#top-nav-bar', 'record': ['14', 'Transactions(6 months)', '50,000+', 'Response Rate', '94.4%']}]}\n",
      " >>>>>> successful end \n",
      "index: 4 12 > cable cutter > ---------------\n",
      "https://www.alibaba.com/trade/search?fsb=y&IndexArea=product_en&viewtype=L&CatId=&SearchText=cable+cutter\n",
      "{'top_sponsor': {'years': '12', 'name': 'Taizhou Ruiqi Tools Co., Ltd.', 'url': '//tzhuanhu.en.alibaba.com/company_profile.html#top-nav-bar', 'record': ['6', 'Transactions(6 months)', '10,000+']}, 'sponsor_list': [{'years': '8', 'name': 'Shenzhen Dowell Industrial Co., Ltd.', 'url': '//cndo-well.en.alibaba.com/company_profile.html#top-nav-bar', 'record': ['Response Rate', '85.3%']}, {'years': '5', 'name': 'Shenzhen Solnde Communication Electronics Co., Ltd.', 'url': '//solnde.en.alibaba.com/company_profile.html#top-nav-bar', 'record': ['19', 'Transactions(6 months)', '10,000+', 'Response Rate', '97.1%']}, {'years': '2', 'name': 'Taizhou Naibo Machinery Co., Ltd.', 'url': '//napot.en.alibaba.com/company_profile.html#top-nav-bar', 'record': ['Response Rate', '91.7%']}, {'years': '2', 'name': 'Zhejiang Lawrence Electric Co., Ltd.', 'url': '//laorunsi.en.alibaba.com/company_profile.html#top-nav-bar', 'record': ['2', 'Transactions(6 months)', '200+', 'Response Rate', '81.3%']}, {'years': '10', 'name': 'Wantok Tools Company Ltd. (Xian)', 'url': '//wantok.en.alibaba.com/company_profile.html#top-nav-bar', 'record': ['1', 'Transactions(6 months)', '4,000+', 'Response Rate', '52.3%']}]}\n",
      " >>>>>> successful end \n",
      "index: 5 12 > clamping square > ---------------\n",
      "https://www.alibaba.com/trade/search?fsb=y&IndexArea=product_en&viewtype=L&CatId=&SearchText=clamping+square\n",
      "{'top_sponsor': None, 'sponsor_list': [{'years': '2', 'name': 'Gaoyao Mingrun Hardware Factory', 'url': '//mr-hardware.en.alibaba.com/company_profile.html#top-nav-bar', 'record': ['Response Rate', '100.0%']}, {'years': '8', 'name': 'Jiangsu Susen Clamps Manufacturing Co., Ltd.', 'url': '//jssxgj.en.alibaba.com/company_profile.html#top-nav-bar', 'record': ['1', 'Transactions(6 months)', '1,000+', 'Response Rate', '33.3%']}, {'years': '1', 'name': 'Dongying Zhengheng Precision Metal Co., Ltd.', 'url': '//dyzhengheng.en.alibaba.com/company_profile.html#top-nav-bar', 'record': ['1', 'Transactions(6 months)', '50+', 'Response Rate', '100.0%']}, {'years': '4', 'name': 'Foshan Bopai Metal Product Limited', 'url': '//bopai.en.alibaba.com/company_profile.html#top-nav-bar', 'record': ['1', 'Transactions(6 months)', '2,000+', 'Response Rate', '62.5%']}, {'years': '14', 'name': 'Shanxi Goodwill Industrial & Trading Co., Ltd.', 'url': '//shanxigoodwill.en.alibaba.com/company_profile.html#top-nav-bar', 'record': ['5', 'Transactions(6 months)', '9,000+', 'Response Rate', '93.0%']}]}\n",
      " >>>>>> successful end \n",
      "index: 6 12 > claw hammer > ---------------\n",
      "https://www.alibaba.com/trade/search?fsb=y&IndexArea=product_en&viewtype=L&CatId=&SearchText=claw+hammer\n",
      "{'top_sponsor': {'years': '7', 'name': 'Xuzhou Fanya Import & Export Co., Ltd.', 'url': '//fanya-machine.en.alibaba.com/company_profile.html#top-nav-bar', 'record': ['15', 'Transactions(6 months)', '140,000+', 'Response Rate', '93.9%']}, 'sponsor_list': [{'years': '3', 'name': 'Zhangjiagang Free Trade Zone Srock Tool & Bag Co., Ltd.', 'url': '//srocktools.en.alibaba.com/company_profile.html#top-nav-bar', 'record': ['11', 'Transactions(6 months)', '50,000+', 'Response Rate', '100.0%']}, {'years': '4', 'name': 'Tianjin Oak Safety Tools Co., Ltd.', 'url': '//oak-tools.en.alibaba.com/company_profile.html#top-nav-bar', 'record': ['7', 'Transactions(6 months)', '10,000+', 'Response Rate', '64.5%']}, {'years': '5', 'name': 'Jinhua City Finder Hardware Co., Ltd.', 'url': '//findertools.en.alibaba.com/company_profile.html#top-nav-bar', 'record': ['8', 'Transactions(6 months)', '7,000+', 'Response Rate', '76.5%']}, {'years': '6', 'name': 'Ningbo Worldsourcing I/E Co., Ltd.', 'url': '//worldsourcingcn.en.alibaba.com/company_profile.html#top-nav-bar', 'record': ['Response Rate', '45.5%']}, {'years': '2', 'name': 'Qingdao Glitter Tools Co., Ltd.', 'url': '//glittertools.en.alibaba.com/company_profile.html#top-nav-bar', 'record': ['14', 'Transactions(6 months)', '50,000+', 'Response Rate', '94.4%']}]}\n",
      " >>>>>> successful end \n"
     ]
    },
    {
     "name": "stdout",
     "output_type": "stream",
     "text": [
      "index: 7 12 > f clamp > ---------------\n",
      "https://www.alibaba.com/trade/search?fsb=y&IndexArea=product_en&viewtype=L&CatId=&SearchText=f+clamp\n",
      "{'top_sponsor': {'years': '2', 'name': 'Suzhou Kota Hardware&Tools Co., Ltd.', 'url': '//kotatool.en.alibaba.com/company_profile.html#top-nav-bar', 'record': ['6', 'Transactions(6 months)', '100,000+', 'Response Rate', '97.7%']}, 'sponsor_list': [{'years': '5', 'name': 'Shandong Haihong Electric Power Equipment Co., Ltd.', 'url': '//sdhhdlqc.en.alibaba.com/company_profile.html#top-nav-bar', 'record': ['1', 'Transactions(6 months)', '500+', 'Response Rate', '83.3%']}, {'years': '1', 'name': 'Handan Yongnian Yifeng Industrial And Mining Power Fittings Co., Ltd.', 'url': '//yfgkdl.en.alibaba.com/company_profile.html#top-nav-bar', 'record': ['Response Rate', '100.0%']}, {'years': '11', 'name': 'Cixi Zonghan Xinyi Hardware Factory', 'url': '//china-nbxinyi.en.alibaba.com/company_profile.html#top-nav-bar', 'record': ['Response Rate', '75.0%']}, {'years': '2', 'name': 'Qingdao Glitter Tools Co., Ltd.', 'url': '//glittertools.en.alibaba.com/company_profile.html#top-nav-bar', 'record': ['14', 'Transactions(6 months)', '50,000+', 'Response Rate', '94.4%']}, {'years': '2', 'name': 'Ruian Zhifeng Precision Hardware Co., Ltd.', 'url': '//zfhxf.en.alibaba.com/company_profile.html#top-nav-bar', 'record': ['2', 'Transactions(6 months)', '200+', 'Response Rate', '100.0%']}]}\n",
      "不需要改变价格 >  >>>>>> successful end \n",
      "index: 8 12 > gear puller > ---------------\n",
      "https://www.alibaba.com/trade/search?fsb=y&IndexArea=product_en&viewtype=L&CatId=&SearchText=gear+puller\n",
      "{'top_sponsor': None, 'sponsor_list': [{'years': '9', 'name': 'Yixing Boyu Electric Power Machinery Co., Ltd.', 'url': '//yxby.en.alibaba.com/company_profile.html#top-nav-bar', 'record': ['20', 'Transactions(6 months)', '580,000+', 'Response Rate', '83.3%']}, {'years': '9', 'name': 'Jiangsu Feiyao Machinery Manufacturing Co., Ltd.', 'url': '//cnfeiyao.en.alibaba.com/company_profile.html#top-nav-bar', 'record': ['1', 'Transactions(6 months)', '7,000+', 'Response Rate', '95.7%']}, {'years': '5', 'name': 'Jiangsu Canete Machinery Manufacturing Co., Ltd.', 'url': '//kiet.en.alibaba.com/company_profile.html#top-nav-bar', 'record': ['8', 'Transactions(6 months)', '20,000+', 'Response Rate', '95.8%']}, {'years': '4', 'name': 'Yuhuan Hengguang Hydraulic Tools Co., Ltd.', 'url': '//hgtools.en.alibaba.com/company_profile.html#top-nav-bar', 'record': ['2', 'Transactions(6 months)', '1,000+', 'Response Rate', '100.0%']}, {'years': '2', 'name': 'Qingdao Glitter Tools Co., Ltd.', 'url': '//glittertools.en.alibaba.com/company_profile.html#top-nav-bar', 'record': ['14', 'Transactions(6 months)', '50,000+', 'Response Rate', '94.4%']}]}\n",
      " >>>>>> successful end \n",
      "index: 9 12 > machine vice > ---------------\n",
      "https://www.alibaba.com/trade/search?fsb=y&IndexArea=product_en&viewtype=L&CatId=&SearchText=machine+vice\n",
      "{'top_sponsor': None, 'sponsor_list': [{'years': '3', 'name': 'Shandong Fangzheng Machine Tools Co., Ltd.', 'url': '//fangzhengtool.en.alibaba.com/company_profile.html#top-nav-bar', 'record': ['7', 'Transactions(6 months)', '1,000+', 'Response Rate', '100.0%']}, {'years': '1', 'name': 'Shandong Sishui Benteng Machinery Co., Ltd.', 'url': '//sdbtjx.en.alibaba.com/company_profile.html#top-nav-bar', 'record': ['15', 'Transactions(6 months)', '9,000+', 'Response Rate', '85.7%']}, {'years': '8', 'name': 'Shandong Sishui Oli Machine Co., Ltd.', 'url': '//olima.en.alibaba.com/company_profile.html#top-nav-bar', 'record': ['18', 'Transactions(6 months)', '40,000+', 'Response Rate', '95.8%']}, {'years': '2', 'name': 'Pingyuan Zhenghao Machinery Co., Ltd.', 'url': '//sdzhjx.en.alibaba.com/company_profile.html#top-nav-bar', 'record': ['16', 'Transactions(6 months)', '10,000+', 'Response Rate', '95.8%']}, {'years': '2', 'name': 'Qingdao Glitter Tools Co., Ltd.', 'url': '//glittertools.en.alibaba.com/company_profile.html#top-nav-bar', 'record': ['14', 'Transactions(6 months)', '50,000+', 'Response Rate', '94.4%']}]}\n",
      " >>>>>> successful end \n",
      "index: 10 12 > machine vise > ---------------\n",
      "https://www.alibaba.com/trade/search?fsb=y&IndexArea=product_en&viewtype=L&CatId=&SearchText=machine+vise\n",
      "{'top_sponsor': {'years': '3', 'name': 'Qingdao New Reaching Machinery Co., Ltd.', 'url': '//qnr.en.alibaba.com/company_profile.html#top-nav-bar', 'record': []}, 'sponsor_list': [{'years': '1', 'name': 'Yucheng Gerzhuo Mechatronics Technology Co., Ltd.', 'url': '//cn1521168266ioxf.en.alibaba.com/company_profile.html#top-nav-bar', 'record': ['7', 'Transactions(6 months)', '7,000+', 'Response Rate', '100.0%']}, {'years': '3', 'name': 'Shandong Fangzheng Machine Tools Co., Ltd.', 'url': '//fangzhengtool.en.alibaba.com/company_profile.html#top-nav-bar', 'record': ['7', 'Transactions(6 months)', '1,000+', 'Response Rate', '100.0%']}, {'years': '2', 'name': 'Pingyuan Zhenghao Machinery Co., Ltd.', 'url': '//sdzhjx.en.alibaba.com/company_profile.html#top-nav-bar', 'record': ['16', 'Transactions(6 months)', '10,000+', 'Response Rate', '95.8%']}, {'years': '8', 'name': 'Shandong Sishui Oli Machine Co., Ltd.', 'url': '//olima.en.alibaba.com/company_profile.html#top-nav-bar', 'record': ['18', 'Transactions(6 months)', '40,000+', 'Response Rate', '95.8%']}, {'years': '2', 'name': 'Qingdao Glitter Tools Co., Ltd.', 'url': '//glittertools.en.alibaba.com/company_profile.html#top-nav-bar', 'record': ['14', 'Transactions(6 months)', '50,000+', 'Response Rate', '94.4%']}]}\n",
      " >>>>>> successful end \n",
      "index: 11 12 > wire cutter > ---------------\n",
      "https://www.alibaba.com/trade/search?fsb=y&IndexArea=product_en&viewtype=L&CatId=&SearchText=wire+cutter\n",
      "{'top_sponsor': {'years': '1', 'name': 'Jiangsu Hexon Imp. & Exp. Co., Ltd.', 'url': '//hexon.en.alibaba.com/company_profile.html#top-nav-bar', 'record': ['Response Rate', '100.0%']}, 'sponsor_list': [{'years': '8', 'name': 'Shenzhen Dowell Industrial Co., Ltd.', 'url': '//cndo-well.en.alibaba.com/company_profile.html#top-nav-bar', 'record': ['Response Rate', '85.3%']}, {'years': '5', 'name': 'Shenzhen Solnde Communication Electronics Co., Ltd.', 'url': '//solnde.en.alibaba.com/company_profile.html#top-nav-bar', 'record': ['19', 'Transactions(6 months)', '10,000+', 'Response Rate', '97.1%']}, {'years': '2', 'name': 'Taizhou Naibo Machinery Co., Ltd.', 'url': '//napot.en.alibaba.com/company_profile.html#top-nav-bar', 'record': ['Response Rate', '91.7%']}, {'years': '11', 'name': 'Shijiazhuang Puhuasheng Company Ltd.', 'url': '//phstrade.en.alibaba.com/company_profile.html#top-nav-bar', 'record': ['16', 'Transactions(6 months)', '130,000+', 'Response Rate', '97.1%']}, {'years': '2', 'name': 'Qingdao Glitter Tools Co., Ltd.', 'url': '//glittertools.en.alibaba.com/company_profile.html#top-nav-bar', 'record': ['14', 'Transactions(6 months)', '50,000+', 'Response Rate', '94.4%']}]}\n",
      " >>>>>> successful end \n",
      "next_page: False\n"
     ]
    }
   ],
   "source": [
    "p4p.monitor(group=group)"
   ]
  },
  {
   "cell_type": "code",
   "execution_count": null,
   "metadata": {},
   "outputs": [],
   "source": [
    "p4p.turn_all_off(group=group)"
   ]
  },
  {
   "cell_type": "code",
   "execution_count": null,
   "metadata": {},
   "outputs": [],
   "source": [
    "float('300.00') == 300"
   ]
  },
  {
   "cell_type": "code",
   "execution_count": null,
   "metadata": {},
   "outputs": [],
   "source": [
    "p4p.alibaba = None"
   ]
  },
  {
   "cell_type": "code",
   "execution_count": 12,
   "metadata": {
    "scrolled": true
   },
   "outputs": [
    {
     "data": {
      "text/plain": [
       "'\\n\\t\\t\"_custid\": \"243557396,232961259,214156002,237512884,240697261\"\\n\\t\\t\\t},\\n\\t\\t\\t\\t\\t\\t\\t\"sideP4p\": {\\n\\t\\t\\t\\t\\t\\t\"testVersion\": \"\",\\n\\t\\t\\t\"showIntelMatch\": true ,\\n\\t\\t\\t\"urlPrefix\": \"//p4p-enmatch.alibaba.com/async/b2bad.do\",\\n\\t\\t\\t\"dcatid\": \"\",\\n\\t\\t\\t\"styleVersion\": \"\",\\n\\t\\t\\t\"offertype\": \"magellan011131124087-2018-09-01\",\\n\\t\\t\\t\"export_market\": \"\",\\n\\t\\t\\t\"imgSizeRule\": \"140x140\",\\n\\t\\t\\t\"clickServerDomain\": \"http://hz.clickproxy.p4p.alibaba.com/clickRedirect.do\",\\n\\t\\t\\t\"pageIndex\": 1 ,\\n\\t\\t\\t\"mt\": \"ec\",\\n\\t\\t\\t\"dl\": \"r\",\\n\\t\\t\\t\"ip\": \"123.168.123.1\",\\n\\t\\t\\t\"pid\": \"601_0000_0103\",\\n\\t\\t\\t\"server\": \"\",\\n\\t\\t\\t\"count\": 10 ,\\n\\t\\t\\t\"keyword\": \"axe\",\\n\\t\\t\\t\"domain\": \"//www.alibaba.com\",\\n\\t\\t\\t\"offset\":  0 ,\\n\\t\\t\\t\"country\": \"\",\\n            \"currentLang\": \"\"\\n\\t\\t\\t},\\n\\t\\t\\t\\t\\t\\t\\t\"bottomP4p\": {\\n\\t\\t\\t\\t\\t\\t\"testVersion\": \"\",\\n\\t\\t\\t\"showIntelMatch\": true ,\\n\\t\\t\\t\"urlPrefix\": \"//p4p-enmatch.alibaba.com/async/b2bad.do\",\\n\\t\\t\\t\"dcatid\": \"\",\\n\\t\\t\\t\"styleVersion\": \"\",\\n\\t\\t\\t\"offertype\": \"magellan011131124087-2018-09-01\",\\n\\t\\t\\t\"export_market\": \"\",\\n\\t\\t\\t\"imgSizeRule\": \"200x200\",\\n\\t\\t\\t\"clickServerDomain\": \"http://hz.clickproxy.p4p.alibaba.com/clickRedirect.do\",\\n\\t\\t\\t\"pageIndex\": 1 ,\\n\\t\\t\\t\"mt\": \"ec\",\\n\\t\\t\\t\"dl\": \"r\",\\n\\t\\t\\t\"ip\": \"123.168.123.1\",\\n\\t\\t\\t\"pid\": \"601_0000_0102\",\\n\\t\\t\\t\"server\": \"\",\\n\\t\\t\\t\"count\": 4 ,\\n\\t\\t\\t\"keyword\": \"axe\",\\n\\t\\t\\t\"domain\": \"//www.alibaba.com\",\\n\\t\\t\\t\"offset\": 10 ,\\n\\t\\t\\t\"country\": \"\",\\n            \"currentLang\": \"\"\\n\\t\\t\\t},\\n\\t\\t\\t\\t\"end\":0,\\n\\t}\\n\\n    '"
      ]
     },
     "execution_count": 12,
     "metadata": {},
     "output_type": "execute_result"
    }
   ],
   "source": [
    "text = '''\n",
    "\t\t\"_custid\": \"243557396,232961259,214156002,237512884,240697261\"\n",
    "\t\t\t},\n",
    "\t\t\t\t\t\t\t\"sideP4p\": {\n",
    "\t\t\t\t\t\t\"testVersion\": \"\",\n",
    "\t\t\t\"showIntelMatch\": true ,\n",
    "\t\t\t\"urlPrefix\": \"\\u002f\\u002fp4p\\u002denmatch.alibaba.com\\u002fasync\\u002fb2bad.do\",\n",
    "\t\t\t\"dcatid\": \"\",\n",
    "\t\t\t\"styleVersion\": \"\",\n",
    "\t\t\t\"offertype\": \"magellan011131124087-2018-09-01\",\n",
    "\t\t\t\"export_market\": \"\",\n",
    "\t\t\t\"imgSizeRule\": \"140x140\",\n",
    "\t\t\t\"clickServerDomain\": \"http\\u003a\\u002f\\u002fhz.clickproxy.p4p.alibaba.com\\u002fclickRedirect.do\",\n",
    "\t\t\t\"pageIndex\": 1 ,\n",
    "\t\t\t\"mt\": \"ec\",\n",
    "\t\t\t\"dl\": \"r\",\n",
    "\t\t\t\"ip\": \"123.168.123.1\",\n",
    "\t\t\t\"pid\": \"601_0000_0103\",\n",
    "\t\t\t\"server\": \"\",\n",
    "\t\t\t\"count\": 10 ,\n",
    "\t\t\t\"keyword\": \"axe\",\n",
    "\t\t\t\"domain\": \"\\u002f\\u002fwww.alibaba.com\",\n",
    "\t\t\t\"offset\":  0 ,\n",
    "\t\t\t\"country\": \"\",\n",
    "            \"currentLang\": \"\"\n",
    "\t\t\t},\n",
    "\t\t\t\t\t\t\t\"bottomP4p\": {\n",
    "\t\t\t\t\t\t\"testVersion\": \"\",\n",
    "\t\t\t\"showIntelMatch\": true ,\n",
    "\t\t\t\"urlPrefix\": \"\\u002f\\u002fp4p\\u002denmatch.alibaba.com\\u002fasync\\u002fb2bad.do\",\n",
    "\t\t\t\"dcatid\": \"\",\n",
    "\t\t\t\"styleVersion\": \"\",\n",
    "\t\t\t\"offertype\": \"magellan011131124087-2018-09-01\",\n",
    "\t\t\t\"export_market\": \"\",\n",
    "\t\t\t\"imgSizeRule\": \"200x200\",\n",
    "\t\t\t\"clickServerDomain\": \"http\\u003a\\u002f\\u002fhz.clickproxy.p4p.alibaba.com\\u002fclickRedirect.do\",\n",
    "\t\t\t\"pageIndex\": 1 ,\n",
    "\t\t\t\"mt\": \"ec\",\n",
    "\t\t\t\"dl\": \"r\",\n",
    "\t\t\t\"ip\": \"123.168.123.1\",\n",
    "\t\t\t\"pid\": \"601_0000_0102\",\n",
    "\t\t\t\"server\": \"\",\n",
    "\t\t\t\"count\": 4 ,\n",
    "\t\t\t\"keyword\": \"axe\",\n",
    "\t\t\t\"domain\": \"\\u002f\\u002fwww.alibaba.com\",\n",
    "\t\t\t\"offset\": 10 ,\n",
    "\t\t\t\"country\": \"\",\n",
    "            \"currentLang\": \"\"\n",
    "\t\t\t},\n",
    "\t\t\t\t\"end\":0,\n",
    "\t}\n",
    "\n",
    "    '''\n",
    "text"
   ]
  },
  {
   "cell_type": "code",
   "execution_count": 13,
   "metadata": {},
   "outputs": [
    {
     "name": "stdout",
     "output_type": "stream",
     "text": [
      "\n",
      "\t\t\"_custid\": \"243557396,232961259,214156002,237512884,240697261\"\n",
      "\t\t\t},\n",
      "\t\t\t\t\t\t\t\"sideP4p\": {\n",
      "\t\t\t\t\t\t\"testVersion\": \"\",\n",
      "\t\t\t\"showIntelMatch\": true ,\n",
      "\t\t\t\"urlPrefix\": \"//p4p-enmatch.alibaba.com/async/b2bad.do\",\n",
      "\t\t\t\"dcatid\": \"\",\n",
      "\t\t\t\"styleVersion\": \"\",\n",
      "\t\t\t\"offertype\": \"magellan011131124087-2018-09-01\",\n",
      "\t\t\t\"export_market\": \"\",\n",
      "\t\t\t\"imgSizeRule\": \"140x140\",\n",
      "\t\t\t\"clickServerDomain\": \"http://hz.clickproxy.p4p.alibaba.com/clickRedirect.do\",\n",
      "\t\t\t\"pageIndex\": 1 ,\n",
      "\t\t\t\"mt\": \"ec\",\n",
      "\t\t\t\"dl\": \"r\",\n",
      "\t\t\t\"ip\": \"123.168.123.1\",\n",
      "\t\t\t\"pid\": \"601_0000_0103\",\n",
      "\t\t\t\"server\": \"\",\n",
      "\t\t\t\"count\": 10 ,\n",
      "\t\t\t\"keyword\": \"axe\",\n",
      "\t\t\t\"domain\": \"//www.alibaba.com\",\n",
      "\t\t\t\"offset\":  0 ,\n",
      "\t\t\t\"country\": \"\",\n",
      "            \"currentLang\": \"\"\n",
      "\t\t\t},\n",
      "\t\t\t\t\t\t\t\"bottomP4p\": {\n",
      "\t\t\t\t\t\t\"testVersion\": \"\",\n",
      "\t\t\t\"showIntelMatch\": true ,\n",
      "\t\t\t\"urlPrefix\": \"//p4p-enmatch.alibaba.com/async/b2bad.do\",\n",
      "\t\t\t\"dcatid\": \"\",\n",
      "\t\t\t\"styleVersion\": \"\",\n",
      "\t\t\t\"offertype\": \"magellan011131124087-2018-09-01\",\n",
      "\t\t\t\"export_market\": \"\",\n",
      "\t\t\t\"imgSizeRule\": \"200x200\",\n",
      "\t\t\t\"clickServerDomain\": \"http://hz.clickproxy.p4p.alibaba.com/clickRedirect.do\",\n",
      "\t\t\t\"pageIndex\": 1 ,\n",
      "\t\t\t\"mt\": \"ec\",\n",
      "\t\t\t\"dl\": \"r\",\n",
      "\t\t\t\"ip\": \"123.168.123.1\",\n",
      "\t\t\t\"pid\": \"601_0000_0102\",\n",
      "\t\t\t\"server\": \"\",\n",
      "\t\t\t\"count\": 4 ,\n",
      "\t\t\t\"keyword\": \"axe\",\n",
      "\t\t\t\"domain\": \"//www.alibaba.com\",\n",
      "\t\t\t\"offset\": 10 ,\n",
      "\t\t\t\"country\": \"\",\n",
      "            \"currentLang\": \"\"\n",
      "\t\t\t},\n",
      "\t\t\t\t\"end\":0,\n",
      "\t}\n",
      "\n",
      "    \n"
     ]
    }
   ],
   "source": [
    "print(text)"
   ]
  },
  {
   "cell_type": "code",
   "execution_count": 21,
   "metadata": {},
   "outputs": [
    {
     "name": "stdout",
     "output_type": "stream",
     "text": [
      "\n",
      "\t\t\"_custid\": \"243557396,232961259,214156002,237512884,240697261\"\n",
      "\t\t\t},\n",
      "\t\t\t\t\t\t\t\"sideP4p\": {\n",
      "\t\t\t\t\t\t\"testVersion\": \"\",\n",
      "\t\t\t\"showIntelMatch\": true ,\n",
      "\t\t\t\"urlPrefix\": \"//p4p-enmatch.alibaba.com/async/b2bad.do\",\n",
      "\t\t\t\"dcatid\": \"\",\n",
      "\t\t\t\"styleVersion\": \"\",\n",
      "\t\t\t\"offertype\": \"magellan011131124087-2018-09-01\",\n",
      "\t\t\t\"export_market\": \"\",\n",
      "\t\t\t\"imgSizeRule\": \"140x140\",\n",
      "\t\t\t\"clickServerDomain\": \"http://hz.clickproxy.p4p.alibaba.com/clickRedirect.do\",\n",
      "\t\t\t\"pageIndex\": 1 ,\n",
      "\t\t\t\"mt\": \"ec\",\n",
      "\t\t\t\"dl\": \"r\",\n",
      "\t\t\t\"ip\": \"123.168.123.1\",\n",
      "\t\t\t\"pid\": \"601_0000_0103\",\n",
      "\t\t\t\"server\": \"\",\n",
      "\t\t\t\"count\": 10 ,\n",
      "\t\t\t\"keyword\": \"axe\",\n",
      "\t\t\t\"domain\": \"//www.alibaba.com\",\n",
      "\t\t\t\"offset\":  0 ,\n",
      "\t\t\t\"country\": \"\",\n",
      "            \"currentLang\": \"\"\n",
      "\t\t\t},\n",
      "\t\t\t\t\t\t\t\"bottomP4p\": {\n",
      "\t\t\t\t\t\t\"testVersion\": \"\",\n",
      "\t\t\t\"showIntelMatch\": true ,\n",
      "\t\t\t\"urlPrefix\": \"//p4p-enmatch.alibaba.com/async/b2bad.do\",\n",
      "\t\t\t\"dcatid\": \"\",\n",
      "\t\t\t\"styleVersion\": \"\",\n",
      "\t\t\t\"offertype\": \"magellan011131124087-2018-09-01\",\n",
      "\t\t\t\"export_market\": \"\",\n",
      "\t\t\t\"imgSizeRule\": \"200x200\",\n",
      "\t\t\t\"clickServerDomain\": \"http://hz.clickproxy.p4p.alibaba.com/clickRedirect.do\",\n",
      "\t\t\t\"pageIndex\": 1 ,\n",
      "\t\t\t\"mt\": \"ec\",\n",
      "\t\t\t\"dl\": \"r\",\n",
      "\t\t\t\"ip\": \"123.168.123.1\",\n",
      "\t\t\t\"pid\": \"601_0000_0102\",\n",
      "\t\t\t\"server\": \"\",\n",
      "\t\t\t\"count\": 4 ,\n",
      "\t\t\t\"keyword\": \"axe\",\n",
      "\t\t\t\"domain\": \"//www.alibaba.com\",\n",
      "\t\t\t\"offset\": 10 ,\n",
      "\t\t\t\"country\": \"\",\n",
      "            \"currentLang\": \"\"\n",
      "\t\t\t},\n",
      "\t\t\t\t\"end\":0\n",
      "}\n",
      "\n",
      "    \n"
     ]
    }
   ],
   "source": [
    "result = re.sub(',[\\n\\t ]*}', '\\n}',text)\n",
    "print(result)"
   ]
  },
  {
   "cell_type": "code",
   "execution_count": null,
   "metadata": {},
   "outputs": [],
   "source": []
  },
  {
   "cell_type": "code",
   "execution_count": null,
   "metadata": {},
   "outputs": [],
   "source": [
    "# p4p.load_url()\n",
    "\n",
    "# css_selector = \"div.keyword-manage .bp-table-main-wraper>table\"\n",
    "# table = p4p.browser.find_element_by_css_selector(css_selector)\n",
    "# trs = table.find_elements_by_css_selector('tbody tr')\n",
    "# idx = 1\n",
    "# for tr in trs:\n",
    "#     print()\n",
    "#     print(idx, end=': ')\n",
    "#     idx += 1\n",
    "    \n",
    "#     kws = tr.find_element_by_css_selector('td:nth-child(3)').text.strip()\n",
    "#     print(kws, end=\": \")\n",
    "        \n",
    "#     if not p4p.open_price_dialog(tr):\n",
    "#         print('skipped_2')\n",
    "#         idx += 1\n",
    "#         continue\n",
    "        \n",
    "#     [prices, sponsors] = p4p.find_prices_and_sponsors()\n",
    "#     print(prices, sponsors)\n",
    "#     if idx > 10:\n",
    "#         break"
   ]
  },
  {
   "cell_type": "code",
   "execution_count": null,
   "metadata": {},
   "outputs": [],
   "source": [
    "tr = trs[8]\n",
    "kws = tr.find_element_by_css_selector('td:nth-child(3)').text.strip()\n",
    "print(kws, end=\": \")\n",
    "\n",
    "if not p4p.open_price_dialog(tr):\n",
    "    print('skipped_2')\n",
    "else:\n",
    "#     time.sleep(1)\n",
    "    prices = p4p.find_prices()"
   ]
  },
  {
   "cell_type": "code",
   "execution_count": null,
   "metadata": {},
   "outputs": [],
   "source": []
  },
  {
   "cell_type": "code",
   "execution_count": null,
   "metadata": {},
   "outputs": [],
   "source": []
  },
  {
   "cell_type": "code",
   "execution_count": null,
   "metadata": {},
   "outputs": [],
   "source": [
    "market = JSON.deserialize('.', 'storage', 'markets.json')['Tools']"
   ]
  },
  {
   "cell_type": "code",
   "execution_count": null,
   "metadata": {},
   "outputs": [],
   "source": []
  },
  {
   "cell_type": "code",
   "execution_count": null,
   "metadata": {},
   "outputs": [],
   "source": []
  },
  {
   "cell_type": "code",
   "execution_count": null,
   "metadata": {},
   "outputs": [],
   "source": [
    "def set_sub_budget(self, sub_budget):\n",
    "    self.redis.set(self.market['name']+'_p4p_sub_budget', sub_budget)\n",
    "\n",
    "def unset_sub_budget(self):\n",
    "    self.redis.delete(self.market['name']+'_p4p_sub_budget')"
   ]
  },
  {
   "cell_type": "code",
   "execution_count": null,
   "metadata": {},
   "outputs": [],
   "source": [
    "diff = '19.63'\n",
    "diff = 0-float(diff)\n",
    "sub_budget = self.redis.get(self.market['name']+'_p4p_sub_budget')\n",
    "if sub_budget is not None and float(sub_budget) > 0:\n",
    "    if self.redis.incrbyfloat(self.market['name']+'_p4p_sub_budget', diff) < 0:\n",
    "        self.redis.set(self.market['name']+'_p4p_sub_budget_overflow', True)"
   ]
  },
  {
   "cell_type": "code",
   "execution_count": null,
   "metadata": {},
   "outputs": [],
   "source": [
    "r = redis.StrictRedis.from_url(p4p.broker_url)"
   ]
  },
  {
   "cell_type": "code",
   "execution_count": null,
   "metadata": {},
   "outputs": [],
   "source": [
    "sub_budget = '90.00'\n",
    "r.set(p4p.market['name']+'_p4p_sub_budget', sub_budget)"
   ]
  },
  {
   "cell_type": "code",
   "execution_count": null,
   "metadata": {},
   "outputs": [],
   "source": [
    "float(r.get(p4p.market['name']+'_p4p_sub_budget'))"
   ]
  },
  {
   "cell_type": "code",
   "execution_count": null,
   "metadata": {},
   "outputs": [],
   "source": [
    "r.get(p4p.market['name']+'_p4p_sub_budget')"
   ]
  },
  {
   "cell_type": "code",
   "execution_count": null,
   "metadata": {},
   "outputs": [],
   "source": [
    "r.incrbyfloat(p4p.market['name']+'_p4p_sub_budget', -19.63)"
   ]
  },
  {
   "cell_type": "code",
   "execution_count": null,
   "metadata": {},
   "outputs": [],
   "source": [
    "r.delete(p4p.market['name']+'_p4p_sub_budget')"
   ]
  },
  {
   "cell_type": "code",
   "execution_count": null,
   "metadata": {},
   "outputs": [],
   "source": [
    "diff = '19.63'\n",
    "diff = 0-float(diff)\n",
    "diff"
   ]
  },
  {
   "cell_type": "code",
   "execution_count": null,
   "metadata": {},
   "outputs": [],
   "source": [
    "r.delete(p4p.market['name']+'_p4p_sub_budget_overflow')"
   ]
  },
  {
   "cell_type": "code",
   "execution_count": null,
   "metadata": {},
   "outputs": [],
   "source": []
  }
 ],
 "metadata": {
  "kernelspec": {
   "display_name": "Python 3",
   "language": "python",
   "name": "python3"
  },
  "language_info": {
   "codemirror_mode": {
    "name": "ipython",
    "version": 3
   },
   "file_extension": ".py",
   "mimetype": "text/x-python",
   "name": "python",
   "nbconvert_exporter": "python",
   "pygments_lexer": "ipython3",
   "version": "3.6.6"
  }
 },
 "nbformat": 4,
 "nbformat_minor": 2
}
