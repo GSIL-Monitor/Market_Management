{
 "cells": [
  {
   "cell_type": "code",
   "execution_count": 1,
   "metadata": {},
   "outputs": [],
   "source": [
    "from libs.alibaba.alibaba import Alibaba\n",
    "from libs.alibaba.p4p import P4P\n",
    "from libs.json import JSON\n",
    "\n",
    "from selenium import webdriver\n",
    "from selenium.webdriver.common.keys import Keys\n",
    "from selenium.webdriver.support.ui import WebDriverWait\n",
    "from selenium.webdriver.support import expected_conditions as EC\n",
    "from selenium.common.exceptions import WebDriverException\n",
    "from selenium.common.exceptions import TimeoutException\n",
    "from selenium.common.exceptions import NoSuchElementException\n",
    "from selenium.common.exceptions import StaleElementReferenceException\n",
    "from selenium.webdriver.common.by import By\n",
    "from selenium.webdriver.common.action_chains import ActionChains\n",
    "from datetime import datetime\n",
    "from bs4 import BeautifulSoup\n",
    "from pyquery import PyQuery as pq\n",
    "\n",
    "import json\n",
    "import requests\n",
    "import redis\n",
    "import pendulum\n",
    "import arrow\n",
    "import imp\n",
    "import time\n",
    "import re\n",
    "\n",
    "import types\n",
    "import traceback \n",
    "import threading"
   ]
  },
  {
   "cell_type": "code",
   "execution_count": 2,
   "metadata": {},
   "outputs": [],
   "source": [
    "chrome_options = webdriver.ChromeOptions()\n",
    "chrome_options.add_argument('--disable-gpu')\n",
    "chrome_options.add_argument('--disable-software-rasterizer')\n",
    "chrome_options.add_argument('--disable-extensions')\n",
    "chrome_options.add_argument('--disable-logging')\n",
    "chrome_options.add_argument('--disable-infobars')\n",
    "chrome_options.add_argument('--ignore-certificate-errors')\n",
    "browser = webdriver.Chrome(chrome_options=chrome_options)"
   ]
  },
  {
   "cell_type": "code",
   "execution_count": 3,
   "metadata": {},
   "outputs": [
    {
     "name": "stdout",
     "output_type": "stream",
     "text": [
      ". storage markets.json\n",
      ".\\storage\\markets.json was deserialized!\n",
      "E:\\glitter\\Eyelashes_config [] p4p_keywords_list_recording.json\n",
      "E:\\glitter\\Eyelashes_config\\p4p_keywords_list_recording.json was deserialized!\n",
      "E:\\glitter\\Eyelashes_config [] p4p_keywords_list_monitor.json\n",
      "E:\\glitter\\Eyelashes_config\\p4p_keywords_list_monitor.json was deserialized!\n"
     ]
    }
   ],
   "source": [
    "broker_url = 'redis://localhost:6379/0'\n",
    "market = JSON.deserialize('.', 'storage', 'markets.json')['Eyelashes']\n",
    "p4p = P4P(market, market['lid'], market['lpwd'],broker_url=broker_url, headless=False, browser=browser)"
   ]
  },
  {
   "cell_type": "code",
   "execution_count": 19,
   "metadata": {},
   "outputs": [],
   "source": [
    "p4p.monitor = types.MethodType(monitor, p4p)"
   ]
  },
  {
   "cell_type": "code",
   "execution_count": null,
   "metadata": {},
   "outputs": [],
   "source": [
    "p4p.save_crawling_result = types.MethodType(save_crawling_result, p4p)"
   ]
  },
  {
   "cell_type": "code",
   "execution_count": 21,
   "metadata": {},
   "outputs": [],
   "source": [
    "def find_sponsors(self, kws):\n",
    "\n",
    "    top_sponsor = None\n",
    "    sponsor_list = []\n",
    "\n",
    "    url = 'https://www.alibaba.com/trade/search?fsb=y&IndexArea=product_en&viewtype=L&CatId=&SearchText=' + re.sub(\n",
    "        ' +', '+', kws)\n",
    "    self.headers['Referer'] = url\n",
    "\n",
    "    response = None\n",
    "    result = None\n",
    "    while response is None:\n",
    "        try:\n",
    "            response = requests.get(url, headers=self.headers, timeout=(10, 20))\n",
    "\n",
    "            result = re.search(r'_search_result_data =(.*)page.setPageData\\(_search_result_data\\)', response.text,\n",
    "                           re.M | re.DOTALL)\n",
    "\n",
    "            result = re.sub(',[\\n\\t ]*}', '}',result.group(1))\n",
    "#             result = re.sub('\"\" === \"true\"', '\"\\\\\"\\\\\" === \\\\\"true\\\\\"\"', result)\n",
    "            result = re.sub(' === \"true\"', '', result)\n",
    "\n",
    "            break\n",
    "\n",
    "        except Exception as e:\n",
    "            print('Error: ', e)\n",
    "            traceback.print_exc()\n",
    "            time.sleep(3)\n",
    "            print('============================== retry in 3 seconds =================================')\n",
    "            response = None\n",
    "            continue\n",
    "    \n",
    "#     print(result)\n",
    "    obj = json.loads(result)\n",
    "    items = obj['normalList']\n",
    "    for idx, item in enumerate(items):\n",
    "        company = {}\n",
    "        if (item['isBrandAd']):\n",
    "            top_sponsor = company\n",
    "        elif (item['isP4p']):\n",
    "            sponsor_list.append(company)\n",
    "        else:\n",
    "            break\n",
    "\n",
    "        company['years'] = item['supplierYear']\n",
    "        company['name'] = item['supplierName']\n",
    "        company['url'] = item['supplierHref']\n",
    "        if 'record' in item:\n",
    "            company['record'] = []\n",
    "            if 'transaction' in item['record']:\n",
    "                company['record'].append(item['record']['transaction']['num'])\n",
    "                company['record'].append('Transactions(6 months)')\n",
    "                company['record'].append(item['record']['transaction']['conducted'])\n",
    "            if 'responseRate' in item['record']:\n",
    "                company['record'].append('Response Rate')\n",
    "                company['record'].append(item['record']['responseRate'])\n",
    "\n",
    "    return {'top_sponsor': top_sponsor, 'sponsor_list': sponsor_list}\n",
    "p4p.find_sponsors = types.MethodType(find_sponsors, p4p)"
   ]
  },
  {
   "cell_type": "code",
   "execution_count": 17,
   "metadata": {},
   "outputs": [],
   "source": [
    "p4p.next_page = types.MethodType(next_page, p4p)"
   ]
  },
  {
   "cell_type": "code",
   "execution_count": null,
   "metadata": {},
   "outputs": [],
   "source": []
  },
  {
   "cell_type": "code",
   "execution_count": 4,
   "metadata": {},
   "outputs": [],
   "source": [
    "p4p.browser.set_window_size(1280, 1240)"
   ]
  },
  {
   "cell_type": "code",
   "execution_count": null,
   "metadata": {},
   "outputs": [],
   "source": [
    "p4p.browser.save_screenshot('screenie.png')"
   ]
  },
  {
   "cell_type": "code",
   "execution_count": 5,
   "metadata": {},
   "outputs": [],
   "source": [
    "group = '关注词_2'\n",
    "group = '直通车高消费词'\n",
    "group = '直通车App'"
   ]
  },
  {
   "cell_type": "code",
   "execution_count": 7,
   "metadata": {},
   "outputs": [
    {
     "name": "stdout",
     "output_type": "stream",
     "text": [
      "primary 打开网址：https://i.alibaba.com\n",
      "primary 等待登陆页面加载 ... ...\n",
      "primary 输入登录信息， 并登录\n",
      "success 成功 登录 阿里巴巴 国际站！用户名：Jeremy\n"
     ]
    },
    {
     "data": {
      "text/plain": [
       "64"
      ]
     },
     "execution_count": 7,
     "metadata": {},
     "output_type": "execute_result"
    }
   ],
   "source": [
    "p4p.load_url()\n",
    "p4p.switch_to_group(group)"
   ]
  },
  {
   "cell_type": "code",
   "execution_count": null,
   "metadata": {},
   "outputs": [],
   "source": [
    "p4p.crawl(group=group)"
   ]
  },
  {
   "cell_type": "code",
   "execution_count": null,
   "metadata": {},
   "outputs": [],
   "source": [
    "p4p.set_sub_budget(85)"
   ]
  },
  {
   "cell_type": "code",
   "execution_count": null,
   "metadata": {},
   "outputs": [],
   "source": [
    "p4p.unset_sub_budget()"
   ]
  },
  {
   "cell_type": "code",
   "execution_count": 6,
   "metadata": {
    "scrolled": false
   },
   "outputs": [
    {
     "name": "stdout",
     "output_type": "stream",
     "text": [
      "Task Monitor start to run with group=\"直通车App\"\n",
      "primary 打开网址：https://i.alibaba.com\n",
      "primary 等待登陆页面加载 ... ...\n",
      "primary 输入登录信息， 并登录\n",
      "success 成功 登录 阿里巴巴 国际站！用户名：Jeremy\n",
      "switch to group: 直通车App\n",
      "index: 0 45 > blooming eyelash >  >>>>>> successful end \n",
      "index: 1 45 > blooming eyelash extension >  >>>>>> successful end \n",
      "index: 2 45 > blooming lash >  >>>>>> successful end \n",
      "index: 3 45 > bulk eyelash extension >  >>>>>> successful end \n",
      "index: 4 45 > camellia eyelash >  >>>>>> successful end \n",
      "index: 5 45 > camellia eyelash extensions >  >>>>>> successful end \n",
      "index: 6 45 > easy fan eyelash >  >>>>>> successful end \n",
      "index: 7 45 > easy fan lash extensions >  >>>>>> successful end \n",
      "index: 8 45 > ellipse eyelash extensions >  >>>>>> successful end \n",
      "index: 9 45 > ellipse flat eyelash extensions >  >>>>>> successful end \n",
      "index: 10 45 > ellipse flat lash >  >>>>>> successful end \n",
      "index: 11 45 > ellipse lash >  >>>>>> successful end \n",
      "index: 12 45 > eyelash extension flat >  >>>>>> successful end \n",
      "index: 13 45 > eyelash extension wholesale >  >>>>>> successful end \n",
      "index: 14 45 > eyelash extensions supplies >  >>>>>> successful end \n",
      "index: 15 45 > eyelash magnet >  >>>>>> successful end \n",
      "index: 16 45 > eyelash magnetic >  >>>>>> successful end \n",
      "index: 17 45 > eyelashes extension professional >  >>>>>> successful end \n",
      "index: 18 45 > false eyelash magnetic >  >>>>>> successful end \n",
      "index: 19 45 > flat eyelash >  >>>>>> successful end \n",
      "index: 20 45 > flat eyelash extensions >  >>>>>> successful end \n",
      "index: 21 45 > flat lash extension >  >>>>>> successful end \n",
      "index: 22 45 > flat lashes >  >>>>>> successful end \n",
      "index: 23 45 > individual eyelash extensions >  >>>>>> successful end \n",
      "index: 24 45 > individual eyelash extensions private label >  >>>>>> successful end \n",
      "index: 25 45 > korean eyelash extensions >  >>>>>> successful end \n",
      "index: 26 45 > lash extension supplies >  >>>>>> successful end \n",
      "index: 27 45 > lash magnetic >  >>>>>> successful end \n",
      "index: 28 45 > magnet lash >  >>>>>> successful end \n",
      "index: 29 45 > magnetic eye lash >  >>>>>> successful end \n",
      "index: 30 45 > magnetic false eyelash >  >>>>>> successful end \n",
      "index: 31 45 > magnetic lash >  >>>>>> successful end \n",
      "index: 32 45 > matt flat lashes >  >>>>>> successful end \n",
      "index: 33 45 > ombre color eyelash extensions >  >>>>>> successful end \n",
      "index: 34 45 > ombre eyelash extensions >  >>>>>> successful end \n",
      "index: 35 45 > premium eyelash extensions >  >>>>>> successful end \n",
      "index: 36 45 > private label eyelash extensions >  >>>>>> successful end \n",
      "index: 37 45 > silk eyelash extension >  >>>>>> successful end \n",
      "index: 38 45 > silk eyelash extensions private label >  >>>>>> successful end \n",
      "index: 39 45 > split eyelash extensions >  >>>>>> successful end \n",
      "index: 40 45 > split lashes > 不需要改变价格 >  >>>>>> successful end \n",
      "index: 41 45 > split tip lashes > 不需要改变价格 >  >>>>>> successful end \n",
      "index: 42 45 > wholesale eyelash extensions >  >>>>>> successful end \n",
      "index: 43 45 > wholesale individual eyelash extension >  >>>>>> successful end \n",
      "index: 44 45 > wholesale individual eyelashes >  >>>>>> successful end \n",
      "next_page: False\n"
     ]
    }
   ],
   "source": [
    "p4p.monitor(group=group)"
   ]
  },
  {
   "cell_type": "code",
   "execution_count": null,
   "metadata": {},
   "outputs": [],
   "source": [
    "p4p.monitor(group=group, sub_budget_limited=True)"
   ]
  },
  {
   "cell_type": "code",
   "execution_count": null,
   "metadata": {},
   "outputs": [],
   "source": [
    "p4p.turn_all_off(group=group)"
   ]
  },
  {
   "cell_type": "code",
   "execution_count": null,
   "metadata": {},
   "outputs": [],
   "source": []
  },
  {
   "cell_type": "code",
   "execution_count": null,
   "metadata": {},
   "outputs": [],
   "source": []
  },
  {
   "cell_type": "code",
   "execution_count": null,
   "metadata": {},
   "outputs": [],
   "source": [
    "p4p.browser.find_element_by_tag_name('html').send_keys(Keys.CONTROL + Keys.SUBTRACT)"
   ]
  },
  {
   "cell_type": "code",
   "execution_count": null,
   "metadata": {},
   "outputs": [],
   "source": []
  },
  {
   "cell_type": "code",
   "execution_count": null,
   "metadata": {},
   "outputs": [],
   "source": []
  },
  {
   "cell_type": "code",
   "execution_count": null,
   "metadata": {},
   "outputs": [],
   "source": []
  },
  {
   "cell_type": "code",
   "execution_count": null,
   "metadata": {},
   "outputs": [],
   "source": []
  },
  {
   "cell_type": "code",
   "execution_count": null,
   "metadata": {},
   "outputs": [],
   "source": []
  },
  {
   "cell_type": "code",
   "execution_count": null,
   "metadata": {},
   "outputs": [],
   "source": []
  },
  {
   "cell_type": "code",
   "execution_count": null,
   "metadata": {},
   "outputs": [],
   "source": []
  },
  {
   "cell_type": "code",
   "execution_count": null,
   "metadata": {},
   "outputs": [],
   "source": []
  },
  {
   "cell_type": "code",
   "execution_count": null,
   "metadata": {},
   "outputs": [],
   "source": []
  },
  {
   "cell_type": "code",
   "execution_count": null,
   "metadata": {},
   "outputs": [],
   "source": []
  },
  {
   "cell_type": "code",
   "execution_count": null,
   "metadata": {},
   "outputs": [],
   "source": []
  },
  {
   "cell_type": "code",
   "execution_count": 16,
   "metadata": {},
   "outputs": [
    {
     "data": {
      "text/plain": [
       "'{\"hasVideo\":\"true\"}'"
      ]
     },
     "execution_count": 16,
     "metadata": {},
     "output_type": "execute_result"
    }
   ],
   "source": [
    "string = '''{\"hasVideo\":\"true\" === \"true\"}'''\n",
    "re.sub(' === \"true\"', '', string)"
   ]
  },
  {
   "cell_type": "code",
   "execution_count": null,
   "metadata": {},
   "outputs": [],
   "source": []
  },
  {
   "cell_type": "code",
   "execution_count": null,
   "metadata": {},
   "outputs": [],
   "source": []
  },
  {
   "cell_type": "code",
   "execution_count": null,
   "metadata": {},
   "outputs": [],
   "source": []
  },
  {
   "cell_type": "code",
   "execution_count": null,
   "metadata": {},
   "outputs": [],
   "source": []
  },
  {
   "cell_type": "code",
   "execution_count": null,
   "metadata": {},
   "outputs": [],
   "source": []
  }
 ],
 "metadata": {
  "kernelspec": {
   "display_name": "Python 3",
   "language": "python",
   "name": "python3"
  },
  "language_info": {
   "codemirror_mode": {
    "name": "ipython",
    "version": 3
   },
   "file_extension": ".py",
   "mimetype": "text/x-python",
   "name": "python",
   "nbconvert_exporter": "python",
   "pygments_lexer": "ipython3",
   "version": "3.6.6"
  }
 },
 "nbformat": 4,
 "nbformat_minor": 2
}
