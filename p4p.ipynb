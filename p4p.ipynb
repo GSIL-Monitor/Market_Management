{
 "cells": [
  {
   "cell_type": "code",
   "execution_count": 1,
   "metadata": {},
   "outputs": [],
   "source": [
    "from libs.alibaba.alibaba import Alibaba\n",
    "from libs.alibaba.p4p import P4P\n",
    "from libs.json import JSON\n",
    "\n",
    "from selenium import webdriver\n",
    "from selenium.webdriver.common.keys import Keys\n",
    "from selenium.webdriver.support.ui import WebDriverWait\n",
    "from selenium.webdriver.support import expected_conditions as EC\n",
    "from selenium.common.exceptions import WebDriverException\n",
    "from selenium.common.exceptions import TimeoutException\n",
    "from selenium.common.exceptions import NoSuchElementException\n",
    "from selenium.common.exceptions import StaleElementReferenceException\n",
    "from selenium.webdriver.common.by import By\n",
    "from selenium.webdriver.common.action_chains import ActionChains\n",
    "from datetime import datetime\n",
    "from bs4 import BeautifulSoup\n",
    "from pyquery import PyQuery as pq\n",
    "\n",
    "import json\n",
    "import requests\n",
    "import redis\n",
    "import pendulum\n",
    "import arrow\n",
    "import imp\n",
    "import time\n",
    "import re\n",
    "\n",
    "import types\n",
    "import traceback \n",
    "import threading"
   ]
  },
  {
   "cell_type": "code",
   "execution_count": 2,
   "metadata": {},
   "outputs": [],
   "source": [
    "chrome_options = webdriver.ChromeOptions()\n",
    "chrome_options.add_argument('--disable-gpu')\n",
    "chrome_options.add_argument('--disable-software-rasterizer')\n",
    "chrome_options.add_argument('--disable-extensions')\n",
    "chrome_options.add_argument('--disable-logging')\n",
    "chrome_options.add_argument('--disable-infobars')\n",
    "chrome_options.add_argument('--ignore-certificate-errors')\n",
    "browser = webdriver.Chrome(chrome_options=chrome_options)"
   ]
  },
  {
   "cell_type": "code",
   "execution_count": 3,
   "metadata": {},
   "outputs": [
    {
     "name": "stdout",
     "output_type": "stream",
     "text": [
      ". storage markets.json\n",
      ".\\storage\\markets.json was deserialized!\n",
      "E:\\glitter\\Eyelashes_config [] p4p_keywords_list_recording.json\n",
      "E:\\glitter\\Eyelashes_config\\p4p_keywords_list_recording.json was deserialized!\n",
      "E:\\glitter\\Eyelashes_config [] p4p_keywords_list_monitor.json\n",
      "E:\\glitter\\Eyelashes_config\\p4p_keywords_list_monitor.json was deserialized!\n"
     ]
    }
   ],
   "source": [
    "broker_url = 'redis://localhost:6379/0'\n",
    "market = JSON.deserialize('.', 'storage', 'markets.json')['Eyelashes']\n",
    "p4p = P4P(market, market['lid'], market['lpwd'],broker_url=broker_url, headless=False, browser=browser)"
   ]
  },
  {
   "cell_type": "code",
   "execution_count": 19,
   "metadata": {},
   "outputs": [],
   "source": [
    "p4p.monitor = types.MethodType(monitor, p4p)"
   ]
  },
  {
   "cell_type": "code",
   "execution_count": null,
   "metadata": {},
   "outputs": [],
   "source": [
    "p4p.save_crawling_result = types.MethodType(save_crawling_result, p4p)"
   ]
  },
  {
   "cell_type": "code",
   "execution_count": null,
   "metadata": {},
   "outputs": [],
   "source": [
    "p4p.find_prices_and_sponsors = types.MethodType(find_prices_and_sponsors, p4p)"
   ]
  },
  {
   "cell_type": "code",
   "execution_count": 17,
   "metadata": {},
   "outputs": [],
   "source": [
    "p4p.next_page = types.MethodType(next_page, p4p)"
   ]
  },
  {
   "cell_type": "code",
   "execution_count": null,
   "metadata": {},
   "outputs": [],
   "source": []
  },
  {
   "cell_type": "code",
   "execution_count": 4,
   "metadata": {},
   "outputs": [],
   "source": [
    "p4p.browser.set_window_size(1280, 1240)"
   ]
  },
  {
   "cell_type": "code",
   "execution_count": null,
   "metadata": {},
   "outputs": [],
   "source": [
    "p4p.browser.save_screenshot('screenie.png')"
   ]
  },
  {
   "cell_type": "code",
   "execution_count": 5,
   "metadata": {},
   "outputs": [],
   "source": [
    "group = '关注词_2'\n",
    "group = '直通车高消费词'\n",
    "group = '直通车App'"
   ]
  },
  {
   "cell_type": "code",
   "execution_count": 6,
   "metadata": {},
   "outputs": [
    {
     "name": "stdout",
     "output_type": "stream",
     "text": [
      "primary 打开网址：https://i.alibaba.com\n",
      "primary 等待登陆页面加载 ... ...\n",
      "primary 输入登录信息， 并登录\n",
      "success 成功 登录 阿里巴巴 国际站！用户名：Jeremy\n"
     ]
    },
    {
     "data": {
      "text/plain": [
       "78"
      ]
     },
     "execution_count": 6,
     "metadata": {},
     "output_type": "execute_result"
    }
   ],
   "source": [
    "p4p.load_url()\n",
    "p4p.switch_to_group(group)"
   ]
  },
  {
   "cell_type": "code",
   "execution_count": null,
   "metadata": {},
   "outputs": [],
   "source": [
    "p4p.crawl(group=group)"
   ]
  },
  {
   "cell_type": "code",
   "execution_count": null,
   "metadata": {},
   "outputs": [],
   "source": [
    "p4p.set_sub_budget(85)"
   ]
  },
  {
   "cell_type": "code",
   "execution_count": null,
   "metadata": {},
   "outputs": [],
   "source": [
    "p4p.unset_sub_budget()"
   ]
  },
  {
   "cell_type": "code",
   "execution_count": 10,
   "metadata": {},
   "outputs": [
    {
     "name": "stdout",
     "output_type": "stream",
     "text": [
      "Task Monitor start to run with group=\"直通车App\"\n",
      "switch to group: 直通车App\n",
      "index: 0 50 > 3d mink lashes private label > 不需要改变价格 > make selected >  >>>>>> successful end \n",
      "index: 1 50 > 3d mink lashes wholesale > 不需要改变价格 > make selected >  >>>>>> successful end \n",
      "index: 2 50 > blooming eyelash > 不需要改变价格 > make selected >  >>>>>> successful end \n",
      "index: 3 50 > blooming eyelash extension > 不需要改变价格 > make selected >  >>>>>> successful end \n",
      "index: 4 50 > blooming lash > 不需要改变价格 > make selected >  >>>>>> successful end \n",
      "index: 5 50 > bulk eyelash extension > 不需要改变价格 > make selected >  >>>>>> successful end \n",
      "index: 6 50 > camellia eyelash > 不需要改变价格 > make selected >  >>>>>> successful end \n",
      "index: 7 50 > camellia eyelash extensions > 不需要改变价格 > make selected >  >>>>>> successful end \n",
      "index: 8 50 > color eye lash > 不需要改变价格 > make selected >  >>>>>> successful end \n",
      "index: 9 50 > color lash > 不需要改变价格 > make selected >  >>>>>> successful end \n",
      "index: 10 50 > color lash extension > 不需要改变价格 > make selected >  >>>>>> successful end \n",
      "index: 11 50 > color silk eyelash > 不需要改变价格 > make selected >  >>>>>> successful end \n",
      "index: 12 50 > colored eyelash extensions > 不需要改变价格 > make selected >  >>>>>> successful end \n",
      "index: 13 50 > colored eyelashes > 不需要改变价格 > make selected >  >>>>>> successful end \n",
      "index: 14 50 > colored false eyelash > 不需要改变价格 > make selected >  >>>>>> successful end \n",
      "index: 15 50 > colored individual lash > 不需要改变价格 > make selected >  >>>>>> successful end \n",
      "index: 16 50 > cruelty free 3d mink eyelashes > 不需要改变价格 > make selected >  >>>>>> successful end \n",
      "index: 17 50 > cruelty free mink eyelashes > make selected >  >>>>>> successful end \n",
      "index: 18 50 > easy fan eyelash > 不需要改变价格 > make selected >  >>>>>> successful end \n",
      "index: 19 50 > easy fan lash extensions > 不需要改变价格 > make selected >  >>>>>> successful end \n",
      "index: 20 50 > easy volume lash > 不需要改变价格 > make selected >  >>>>>> successful end \n",
      "index: 21 50 > ellipse eyelash extensions > make selected >  >>>>>> successful end \n",
      "index: 22 50 > ellipse flat eyelash extensions > make selected >  >>>>>> successful end \n",
      "index: 23 50 > ellipse flat lash > 不需要改变价格 > make selected >  >>>>>> successful end \n",
      "index: 24 50 > ellipse lash > 不需要改变价格 > make selected >  >>>>>> successful end \n",
      "index: 25 50 > eyelash colorful > make selected >  >>>>>> successful end \n",
      "index: 26 50 > eyelash extension color > 不需要改变价格 > make selected >  >>>>>> successful end \n",
      "index: 27 50 > eyelash extension flat > 不需要改变价格 > make selected >  >>>>>> successful end \n",
      "index: 28 50 > eyelash extension wholesale > 不需要改变价格 > make selected >  >>>>>> successful end \n",
      "index: 29 50 > eyelash extensions supplies > make selected >  >>>>>> successful end \n",
      "index: 30 50 > eyelash magnet > make selected >  >>>>>> successful end \n",
      "index: 31 50 > eyelash magnetic > make selected >  >>>>>> successful end \n",
      "index: 32 50 > eyelash wholesale > make selected >  >>>>>> successful end \n",
      "index: 33 50 > eyelashes extension professional > make selected >  >>>>>> successful end \n",
      "index: 34 50 > eyelashes mink > make selected >  >>>>>> successful end \n",
      "index: 35 50 > false eyelash magnetic > make selected >  >>>>>> successful end \n",
      "index: 36 50 > fast fanning eyelash extensions > make selected >  >>>>>> successful end \n",
      "index: 37 50 > flat eyelash > make selected >  >>>>>> successful end \n",
      "index: 38 50 > flat eyelash extensions > make selected >  >>>>>> successful end \n",
      "index: 39 50 > flat lash extension > make selected >  >>>>>> successful end \n",
      "index: 40 50 > flat lashes > make selected >  >>>>>> successful end \n",
      "index: 41 50 > individual eyelash extensions > make selected >  >>>>>> successful end \n",
      "index: 42 50 > individual eyelash extensions private label > make selected >  >>>>>> successful end \n",
      "index: 43 50 > korean eyelash extensions > make selected >  >>>>>> successful end \n",
      "index: 44 50 > lash colored > make selected >  >>>>>> successful end \n",
      "index: 45 50 > lash extension supplies > make selected >  >>>>>> successful end \n",
      "index: 46 50 > lash magnetic > make selected >  >>>>>> successful end \n",
      "index: 47 50 > magnet lash > make selected >  >>>>>> successful end \n",
      "index: 48 50 > magnetic eye lash > make selected >  >>>>>> successful end \n",
      "index: 49 50 > magnetic false eyelash >  >>>>>> successful end \n",
      "switch selected on.\n",
      "next_page: True\n",
      "index: 0 27 > magnetic lash >  >>>>>> successful end \n",
      "index: 1 27 > matt flat lashes >  >>>>>> successful end \n",
      "index: 2 27 > mink eyelash wholesale >  >>>>>> successful end \n",
      "index: 3 27 > mink eyelashes vendor >  >>>>>> successful end \n",
      "index: 4 27 > mink lashes vendor >  >>>>>> successful end \n",
      "index: 5 27 > mink lashes wholesale >  >>>>>> successful end \n",
      "index: 6 27 > ombre color eyelash extensions >  >>>>>> successful end \n",
      "index: 7 27 > ombre eyelash extensions >  >>>>>> successful end \n",
      "index: 8 27 > own brand eyelashes >  >>>>>> successful end \n",
      "index: 9 27 > premium eyelash extensions >  >>>>>> successful end \n",
      "index: 10 27 > private label 3d mink lashes >  >>>>>> successful end \n",
      "index: 11 27 > private label eyelash extensions >  >>>>>> successful end \n",
      "index: 12 27 > private label mink lashes >  >>>>>> successful end \n",
      "index: 13 27 > real mink eyelashes >  >>>>>> successful end \n",
      "index: 14 27 > silk eyelash extension >  >>>>>> successful end \n",
      "index: 15 27 > silk eyelash extensions private label >  >>>>>> successful end \n",
      "index: 16 27 > split eyelash extensions >  >>>>>> successful end \n",
      "index: 17 27 > split lashes > 不需要改变价格 >  >>>>>> successful end \n",
      "index: 18 27 > split tip lashes > 不需要改变价格 >  >>>>>> successful end \n",
      "index: 19 27 > wholesale 3d mink lashes >  >>>>>> successful end \n",
      "index: 20 27 > wholesale eyelash extensions >  >>>>>> successful end \n",
      "index: 21 27 > wholesale individual eyelash extension >  >>>>>> successful end \n",
      "index: 22 27 > wholesale individual eyelashes >  >>>>>> successful end \n",
      "index: 23 27 > wholesale lash vendors >  >>>>>> successful end \n",
      "index: 24 27 > wholesale lashes >  >>>>>> successful end \n",
      "index: 25 27 > wholesale mink eyelash >  >>>>>> successful end \n",
      "index: 26 27 > wholesale mink lashes >  >>>>>> successful end \n",
      "next_page: False\n"
     ]
    }
   ],
   "source": [
    "p4p.monitor(group=group)"
   ]
  },
  {
   "cell_type": "code",
   "execution_count": null,
   "metadata": {},
   "outputs": [],
   "source": [
    "p4p.monitor(group=group, sub_budget_limited=True)"
   ]
  },
  {
   "cell_type": "code",
   "execution_count": null,
   "metadata": {},
   "outputs": [],
   "source": [
    "p4p.turn_all_off(group=group)"
   ]
  },
  {
   "cell_type": "code",
   "execution_count": null,
   "metadata": {},
   "outputs": [],
   "source": []
  },
  {
   "cell_type": "code",
   "execution_count": null,
   "metadata": {},
   "outputs": [],
   "source": []
  },
  {
   "cell_type": "code",
   "execution_count": null,
   "metadata": {},
   "outputs": [],
   "source": [
    "p4p.browser.find_element_by_tag_name('html').send_keys(Keys.CONTROL + Keys.SUBTRACT)"
   ]
  },
  {
   "cell_type": "code",
   "execution_count": null,
   "metadata": {},
   "outputs": [],
   "source": []
  },
  {
   "cell_type": "code",
   "execution_count": null,
   "metadata": {},
   "outputs": [],
   "source": []
  },
  {
   "cell_type": "code",
   "execution_count": null,
   "metadata": {},
   "outputs": [],
   "source": []
  },
  {
   "cell_type": "code",
   "execution_count": null,
   "metadata": {},
   "outputs": [],
   "source": []
  },
  {
   "cell_type": "code",
   "execution_count": null,
   "metadata": {},
   "outputs": [],
   "source": [
    "text = "
   ]
  },
  {
   "cell_type": "code",
   "execution_count": null,
   "metadata": {},
   "outputs": [],
   "source": [
    "re.sub(': *\"[]\",', '', text)"
   ]
  },
  {
   "cell_type": "code",
   "execution_count": null,
   "metadata": {},
   "outputs": [],
   "source": [
    "text"
   ]
  },
  {
   "cell_type": "code",
   "execution_count": null,
   "metadata": {},
   "outputs": [],
   "source": []
  },
  {
   "cell_type": "code",
   "execution_count": null,
   "metadata": {},
   "outputs": [],
   "source": []
  },
  {
   "cell_type": "code",
   "execution_count": null,
   "metadata": {},
   "outputs": [],
   "source": []
  },
  {
   "cell_type": "code",
   "execution_count": null,
   "metadata": {},
   "outputs": [],
   "source": []
  },
  {
   "cell_type": "code",
   "execution_count": 9,
   "metadata": {},
   "outputs": [
    {
     "name": "stdout",
     "output_type": "stream",
     "text": [
      "next_page: True\n"
     ]
    },
    {
     "data": {
      "text/plain": [
       "True"
      ]
     },
     "execution_count": 9,
     "metadata": {},
     "output_type": "execute_result"
    }
   ],
   "source": [
    "p4p.next_page()"
   ]
  },
  {
   "cell_type": "code",
   "execution_count": null,
   "metadata": {},
   "outputs": [],
   "source": []
  },
  {
   "cell_type": "code",
   "execution_count": null,
   "metadata": {},
   "outputs": [],
   "source": []
  },
  {
   "cell_type": "code",
   "execution_count": null,
   "metadata": {},
   "outputs": [],
   "source": []
  },
  {
   "cell_type": "code",
   "execution_count": null,
   "metadata": {},
   "outputs": [],
   "source": []
  },
  {
   "cell_type": "code",
   "execution_count": null,
   "metadata": {},
   "outputs": [],
   "source": []
  }
 ],
 "metadata": {
  "kernelspec": {
   "display_name": "Python 3",
   "language": "python",
   "name": "python3"
  },
  "language_info": {
   "codemirror_mode": {
    "name": "ipython",
    "version": 3
   },
   "file_extension": ".py",
   "mimetype": "text/x-python",
   "name": "python",
   "nbconvert_exporter": "python",
   "pygments_lexer": "ipython3",
   "version": "3.6.6"
  }
 },
 "nbformat": 4,
 "nbformat_minor": 2
}
