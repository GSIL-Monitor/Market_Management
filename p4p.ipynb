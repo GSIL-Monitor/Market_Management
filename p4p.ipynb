{
 "cells": [
  {
   "cell_type": "code",
   "execution_count": 1,
   "metadata": {},
   "outputs": [],
   "source": [
    "from libs.alibaba.alibaba import Alibaba\n",
    "from libs.alibaba.p4p import P4P\n",
    "from libs.json import JSON\n",
    "\n",
    "from selenium import webdriver\n",
    "from selenium.webdriver.common.keys import Keys\n",
    "from selenium.webdriver.support.ui import WebDriverWait\n",
    "from selenium.webdriver.support import expected_conditions as EC\n",
    "from selenium.common.exceptions import WebDriverException\n",
    "from selenium.common.exceptions import TimeoutException\n",
    "from selenium.common.exceptions import NoSuchElementException\n",
    "from selenium.common.exceptions import StaleElementReferenceException\n",
    "from selenium.webdriver.common.by import By\n",
    "from selenium.webdriver.common.action_chains import ActionChains\n",
    "from datetime import datetime\n",
    "from bs4 import BeautifulSoup\n",
    "from pyquery import PyQuery as pq\n",
    "\n",
    "import json\n",
    "import requests\n",
    "import redis\n",
    "import pendulum\n",
    "import arrow\n",
    "import imp\n",
    "import time\n",
    "import re\n",
    "\n",
    "import types\n",
    "import traceback \n",
    "import threading"
   ]
  },
  {
   "cell_type": "code",
   "execution_count": 2,
   "metadata": {},
   "outputs": [],
   "source": [
    "chrome_options = webdriver.ChromeOptions()\n",
    "chrome_options.add_argument('--disable-gpu')\n",
    "chrome_options.add_argument('--disable-software-rasterizer')\n",
    "chrome_options.add_argument('--disable-extensions')\n",
    "chrome_options.add_argument('--disable-logging')\n",
    "chrome_options.add_argument('--disable-infobars')\n",
    "chrome_options.add_argument('--ignore-certificate-errors')\n",
    "browser = webdriver.Chrome(chrome_options=chrome_options)"
   ]
  },
  {
   "cell_type": "code",
   "execution_count": 3,
   "metadata": {},
   "outputs": [
    {
     "name": "stdout",
     "output_type": "stream",
     "text": [
      ". storage markets.json\n",
      ".\\storage\\markets.json was deserialized!\n",
      "E:\\glitter\\Eyelashes_config [] p4p_keywords_list_recording.json\n",
      "E:\\glitter\\Eyelashes_config\\p4p_keywords_list_recording.json was deserialized!\n",
      "E:\\glitter\\Eyelashes_config [] p4p_keywords_list_monitor.json\n",
      "E:\\glitter\\Eyelashes_config\\p4p_keywords_list_monitor.json was deserialized!\n"
     ]
    }
   ],
   "source": [
    "broker_url = 'redis://localhost:6379/0'\n",
    "market = JSON.deserialize('.', 'storage', 'markets.json')['Eyelashes']\n",
    "p4p = P4P(market, market['lid'], market['lpwd'],broker_url=broker_url, headless=False, browser=browser)"
   ]
  },
  {
   "cell_type": "code",
   "execution_count": null,
   "metadata": {},
   "outputs": [],
   "source": [
    "p4p.crawl = types.MethodType(crawl, p4p)"
   ]
  },
  {
   "cell_type": "code",
   "execution_count": null,
   "metadata": {},
   "outputs": [],
   "source": [
    "p4p.save_crawling_result = types.MethodType(save_crawling_result, p4p)"
   ]
  },
  {
   "cell_type": "code",
   "execution_count": null,
   "metadata": {},
   "outputs": [],
   "source": [
    "p4p.find_prices_and_sponsors = types.MethodType(find_prices_and_sponsors, p4p)"
   ]
  },
  {
   "cell_type": "code",
   "execution_count": 10,
   "metadata": {},
   "outputs": [],
   "source": [
    "p4p.find_sponsors = types.MethodType(find_sponsors, p4p)"
   ]
  },
  {
   "cell_type": "code",
   "execution_count": null,
   "metadata": {},
   "outputs": [],
   "source": []
  },
  {
   "cell_type": "code",
   "execution_count": 4,
   "metadata": {},
   "outputs": [],
   "source": [
    "p4p.browser.set_window_size(1280, 1240)"
   ]
  },
  {
   "cell_type": "code",
   "execution_count": null,
   "metadata": {},
   "outputs": [],
   "source": [
    "p4p.browser.save_screenshot('screenie.png')"
   ]
  },
  {
   "cell_type": "code",
   "execution_count": 5,
   "metadata": {},
   "outputs": [],
   "source": [
    "group = '关注词_2'\n",
    "group = '直通车高消费词'\n",
    "group = '直通车App'"
   ]
  },
  {
   "cell_type": "code",
   "execution_count": 6,
   "metadata": {},
   "outputs": [
    {
     "name": "stdout",
     "output_type": "stream",
     "text": [
      "primary 打开网址：https://i.alibaba.com\n",
      "primary 等待登陆页面加载 ... ...\n",
      "primary 输入登录信息， 并登录\n",
      "success 成功 登录 阿里巴巴 国际站！用户名：Jeremy\n"
     ]
    },
    {
     "data": {
      "text/plain": [
       "52"
      ]
     },
     "execution_count": 6,
     "metadata": {},
     "output_type": "execute_result"
    }
   ],
   "source": [
    "p4p.load_url()\n",
    "p4p.switch_to_group(group)"
   ]
  },
  {
   "cell_type": "code",
   "execution_count": null,
   "metadata": {},
   "outputs": [],
   "source": [
    "p4p.crawl(group=group)"
   ]
  },
  {
   "cell_type": "code",
   "execution_count": 6,
   "metadata": {},
   "outputs": [],
   "source": [
    "p4p.set_sub_budget(85)"
   ]
  },
  {
   "cell_type": "code",
   "execution_count": 13,
   "metadata": {},
   "outputs": [],
   "source": [
    "p4p.unset_sub_budget()"
   ]
  },
  {
   "cell_type": "code",
   "execution_count": 12,
   "metadata": {},
   "outputs": [
    {
     "name": "stdout",
     "output_type": "stream",
     "text": [
      "Task Monitor start to run with group=\"直通车App\"\n",
      "switch to group: 直通车App\n",
      "index: 0 50 > blooming eyelash >  >>>>>> successful end \n",
      "index: 1 50 > blooming eyelash extension >  >>>>>> successful end \n",
      "index: 2 50 > bulk eyelash extension >  >>>>>> successful end \n",
      "index: 3 50 > color eye lash >  >>>>>> successful end \n",
      "index: 4 50 > color lash >  >>>>>> successful end \n",
      "index: 5 50 > color lash extension >  >>>>>> successful end \n",
      "index: 6 50 > color silk eyelash > 不需要改变价格 >  >>>>>> successful end \n",
      "index: 7 50 > colored eyelash extensions >  >>>>>> successful end \n",
      "index: 8 50 > colored eyelashes >  >>>>>> successful end \n",
      "index: 9 50 > colored false eyelash >  >>>>>> successful end \n",
      "index: 10 50 > colored individual lash >  >>>>>> successful end \n",
      "index: 11 50 > cruelty free 3d mink eyelashes >  >>>>>> successful end \n",
      "index: 12 50 > cruelty free mink eyelashes >  >>>>>> successful end \n",
      "index: 13 50 > easy fan eyelash >  >>>>>> successful end \n",
      "index: 14 50 > easy fan lash extensions >  >>>>>> successful end \n",
      "index: 15 50 > easy volume lash > 不需要改变价格 >  >>>>>> successful end \n",
      "index: 16 50 > ellipse flat eyelash extensions >  >>>>>> successful end \n",
      "index: 17 50 > ellipse flat lash >  >>>>>> successful end \n",
      "index: 18 50 > eyelash colorful >  >>>>>> successful end \n",
      "index: 19 50 > eyelash extension color >  >>>>>> successful end \n",
      "index: 20 50 > eyelash extension flat >  >>>>>> successful end \n",
      "index: 21 50 > eyelash extension wholesale >  >>>>>> successful end \n",
      "index: 22 50 > eyelash extensions supplies >  >>>>>> successful end \n",
      "index: 23 50 > eyelash magnet >  >>>>>> successful end \n",
      "index: 24 50 > eyelash magnetic >  >>>>>> successful end \n",
      "index: 25 50 > eyelash wholesale >  >>>>>> successful end \n",
      "index: 26 50 > eyelashes extension professional >  >>>>>> successful end \n",
      "index: 27 50 > false eyelash magnetic >  >>>>>> successful end \n",
      "index: 28 50 > flat eyelash >  >>>>>> successful end \n",
      "index: 29 50 > flat eyelash extensions >  >>>>>> successful end \n",
      "index: 30 50 > flat lash extension >  >>>>>> successful end \n",
      "index: 31 50 > flat lashes >  >>>>>> successful end \n",
      "index: 32 50 > individual eyelash extensions >  >>>>>> successful end \n",
      "index: 33 50 > individual eyelash extensions private label >  >>>>>> successful end \n",
      "index: 34 50 > korean eyelash extensions >  >>>>>> successful end \n",
      "index: 35 50 > lash colored >  >>>>>> successful end \n",
      "index: 36 50 > lash extension supplies >  >>>>>> successful end \n",
      "index: 37 50 > lash magnetic >  >>>>>> successful end \n",
      "index: 38 50 > magnet lash >  >>>>>> successful end \n",
      "index: 39 50 > magnetic eye lash >  >>>>>> successful end \n",
      "index: 40 50 > magnetic false eyelash >  >>>>>> successful end \n",
      "index: 41 50 > magnetic lash >  >>>>>> successful end \n",
      "index: 42 50 > matt flat lashes >  >>>>>> successful end \n",
      "index: 43 50 > mink eyelash wholesale >  >>>>>> successful end \n",
      "index: 44 50 > mink eyelashes vendor >  >>>>>> successful end \n",
      "index: 45 50 > own brand eyelashes >  >>>>>> successful end \n",
      "index: 46 50 > premium eyelash extensions >  >>>>>> successful end \n",
      "index: 47 50 > private label eyelash extensions >  >>>>>> successful end \n",
      "index: 48 50 > silk eyelash extension >  >>>>>> successful end \n",
      "index: 49 50 > silk eyelash extensions private label >  >>>>>> successful end \n",
      "next_page: True\n",
      "index: 0 4 > wholesale eyelash extensions >  >>>>>> successful end \n",
      "index: 1 4 > wholesale individual eyelash extension >  >>>>>> successful end \n",
      "index: 2 4 > wholesale individual eyelashes >  >>>>>> successful end \n",
      "index: 3 4 > wholesale lash vendors >  >>>>>> successful end \n",
      "next_page: False\n"
     ]
    }
   ],
   "source": [
    "p4p.monitor(group=group)"
   ]
  },
  {
   "cell_type": "code",
   "execution_count": 10,
   "metadata": {},
   "outputs": [],
   "source": [
    "p4p.monitor(group=group, sub_budget_limited=True)"
   ]
  },
  {
   "cell_type": "code",
   "execution_count": null,
   "metadata": {},
   "outputs": [],
   "source": [
    "p4p.turn_all_off(group=group)"
   ]
  },
  {
   "cell_type": "code",
   "execution_count": null,
   "metadata": {},
   "outputs": [],
   "source": []
  },
  {
   "cell_type": "code",
   "execution_count": null,
   "metadata": {},
   "outputs": [],
   "source": []
  },
  {
   "cell_type": "code",
   "execution_count": 18,
   "metadata": {},
   "outputs": [],
   "source": [
    "p4p.browser.find_element_by_tag_name('html').send_keys(Keys.CONTROL + Keys.SUBTRACT)"
   ]
  },
  {
   "cell_type": "code",
   "execution_count": 21,
   "metadata": {},
   "outputs": [],
   "source": []
  },
  {
   "cell_type": "code",
   "execution_count": null,
   "metadata": {},
   "outputs": [],
   "source": []
  },
  {
   "cell_type": "code",
   "execution_count": null,
   "metadata": {},
   "outputs": [],
   "source": []
  },
  {
   "cell_type": "code",
   "execution_count": null,
   "metadata": {},
   "outputs": [],
   "source": []
  },
  {
   "cell_type": "code",
   "execution_count": 30,
   "metadata": {},
   "outputs": [],
   "source": [
    "text = "
   ]
  },
  {
   "cell_type": "code",
   "execution_count": 15,
   "metadata": {},
   "outputs": [
    {
     "data": {
      "text/plain": [
       "'\"needCompareOfferAttr\": \"\" === \"true\", '"
      ]
     },
     "execution_count": 15,
     "metadata": {},
     "output_type": "execute_result"
    }
   ],
   "source": [
    "re.sub(': *\"[]\",', '', text)"
   ]
  },
  {
   "cell_type": "code",
   "execution_count": 32,
   "metadata": {},
   "outputs": [
    {
     "data": {
      "text/plain": [
       "'\"\" === \"true\"'"
      ]
     },
     "execution_count": 32,
     "metadata": {},
     "output_type": "execute_result"
    }
   ],
   "source": [
    "text"
   ]
  },
  {
   "cell_type": "code",
   "execution_count": null,
   "metadata": {},
   "outputs": [],
   "source": []
  },
  {
   "cell_type": "code",
   "execution_count": null,
   "metadata": {},
   "outputs": [],
   "source": []
  },
  {
   "cell_type": "code",
   "execution_count": null,
   "metadata": {},
   "outputs": [],
   "source": []
  },
  {
   "cell_type": "code",
   "execution_count": null,
   "metadata": {},
   "outputs": [],
   "source": []
  },
  {
   "cell_type": "code",
   "execution_count": null,
   "metadata": {},
   "outputs": [],
   "source": []
  },
  {
   "cell_type": "code",
   "execution_count": null,
   "metadata": {},
   "outputs": [],
   "source": []
  },
  {
   "cell_type": "code",
   "execution_count": null,
   "metadata": {},
   "outputs": [],
   "source": []
  },
  {
   "cell_type": "code",
   "execution_count": null,
   "metadata": {},
   "outputs": [],
   "source": []
  },
  {
   "cell_type": "code",
   "execution_count": null,
   "metadata": {},
   "outputs": [],
   "source": []
  },
  {
   "cell_type": "code",
   "execution_count": null,
   "metadata": {},
   "outputs": [],
   "source": []
  }
 ],
 "metadata": {
  "kernelspec": {
   "display_name": "Python 3",
   "language": "python",
   "name": "python3"
  },
  "language_info": {
   "codemirror_mode": {
    "name": "ipython",
    "version": 3
   },
   "file_extension": ".py",
   "mimetype": "text/x-python",
   "name": "python",
   "nbconvert_exporter": "python",
   "pygments_lexer": "ipython3",
   "version": "3.6.6"
  }
 },
 "nbformat": 4,
 "nbformat_minor": 2
}
