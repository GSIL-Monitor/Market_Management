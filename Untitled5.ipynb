{
 "cells": [
  {
   "cell_type": "code",
   "execution_count": 1,
   "metadata": {},
   "outputs": [],
   "source": [
    "from libs.alibaba.visitor import Visitor\n",
    "\n",
    "from libs.json import JSON\n",
    "from openpyxl import load_workbook\n",
    "\n",
    "from selenium.webdriver.common.keys import Keys\n",
    "from selenium.webdriver.common.action_chains import ActionChains\n",
    "from selenium import webdriver\n",
    "from selenium.webdriver.common.by import By\n",
    "from selenium.webdriver.support.ui import WebDriverWait\n",
    "from selenium.webdriver.support import expected_conditions as EC\n",
    "from selenium.common.exceptions import WebDriverException\n",
    "from selenium.common.exceptions import NoSuchElementException\n",
    "from selenium.common.exceptions import TimeoutException\n",
    "from selenium.common.exceptions import StaleElementReferenceException\n",
    "from selenium.webdriver.support.select import Select\n",
    "from bs4 import BeautifulSoup\n",
    "from pyquery import PyQuery as pq\n",
    "from libs.CeleryTasks import tasks\n",
    "import html\n",
    "import time\n",
    "import re\n",
    "import os\n",
    "import traceback\n",
    "import types\n",
    "import pendulum"
   ]
  },
  {
   "cell_type": "code",
   "execution_count": 23,
   "metadata": {},
   "outputs": [],
   "source": []
  },
  {
   "cell_type": "code",
   "execution_count": 2,
   "metadata": {},
   "outputs": [
    {
     "name": "stdout",
     "output_type": "stream",
     "text": [
      ". storage markets.json\n",
      ".\\storage\\markets.json was deserialized!\n",
      "E:\\glitter\\Eyelashes_config . product_list.json\n",
      "E:\\glitter\\Eyelashes_config\\.\\product_list.json was deserialized!\n"
     ]
    }
   ],
   "source": [
    "market = JSON.deserialize('.', 'storage', 'markets.json')['Eyelashes']\n",
    "visitor = Visitor(market, headless=False)"
   ]
  },
  {
   "cell_type": "code",
   "execution_count": null,
   "metadata": {},
   "outputs": [],
   "source": []
  },
  {
   "cell_type": "code",
   "execution_count": 3,
   "metadata": {},
   "outputs": [],
   "source": [
    "def mail(self):\n",
    "    self.load_url()\n",
    "    close_btn = self.browser.find_elements_by_css_selector('div.ui-window a.ui-window-close')\n",
    "    if close_btn and close_btn[0].is_displayed():\n",
    "        close_btn[0].click()\n",
    "        \n",
    "    self.switch_to_last_31_days()\n",
    "    \n",
    "    self.browser.implicitly_wait(0.5)\n",
    "    WebDriverWait(self.browser, 15).until(\n",
    "            EC.invisibility_of_element_located((By.CSS_SELECTOR, 'div#J-visitors-tip-loading')))\n",
    "    \n",
    "    div_overview_has_mails = WebDriverWait(self.browser, 15).until(\n",
    "            EC.presence_of_element_located((By.CSS_SELECTOR, 'div.overview-has-mails')))\n",
    "    remain = div_overview_has_mails.find_element_by_css_selector('span.overview-remain').get_attribute('data-remain')\n",
    "    remain = int(remain)\n",
    "    \n",
    "    if remain == 0:\n",
    "        print('20 个 可营销 名额 已用尽！')\n",
    "        return\n",
    "    \n",
    "    check_box = self.browser.find_elements_by_css_selector('input#J-condition-mailable')\n",
    "    if check_box:\n",
    "        check_box[0].click()\n",
    "\n",
    "    while remain>0:\n",
    "        remain = self.mail_to_current_page_visitors(remain)\n",
    "        if not self.next_page():\n",
    "            break\n",
    "visitor.mail = types.MethodType(mail, visitor)"
   ]
  },
  {
   "cell_type": "code",
   "execution_count": 24,
   "metadata": {},
   "outputs": [],
   "source": [
    "def mail_to_current_page_visitors(self, remain):\n",
    "    css_tbody = '#J-visitors-tbl-tbody'\n",
    "    tbody = WebDriverWait(self.browser, 15).until(\n",
    "        EC.visibility_of_element_located((By.CSS_SELECTOR, css_tbody)))\n",
    "\n",
    "    count = 0\n",
    "    for tr in tbody.find_elements_by_css_selector(css_tbody+' tr.J-visitors-table-tr'):\n",
    "        if count >= remain:\n",
    "            break\n",
    "        ActionChains(self.browser).move_to_element(tr).perform()\n",
    "        \n",
    "        visitor = self.parse_tr(tr)\n",
    "        \n",
    "        rps = []\n",
    "        for pv in visitor['pv-detail']:\n",
    "            url = pv['page']\n",
    "            result = re.search('(_|\\/)(\\d+)(\\.html|\\/)', url, re.IGNORECASE)\n",
    "            if result:\n",
    "                rp = {}\n",
    "                ali_id = result.group(2)\n",
    "                rp['ali_id'] = ali_id\n",
    "                if '-' == pv['stay']:\n",
    "                    rp['stay'] = 0\n",
    "                else:\n",
    "                    rp['stay'] = int(pv['stay'][0:-1])\n",
    "                    \n",
    "                category = self.products[ali_id]['category'].lower()\n",
    "                for key in self.recommended:\n",
    "                    if key in category:\n",
    "                        rp['recommended'] = self.recommended[key]\n",
    "                        break\n",
    " \n",
    "                rps.append(rp)\n",
    "\n",
    "        rps = sorted(rps, key=lambda rp : rp['stay'], reverse=True)\n",
    "\n",
    "        for rp in rps:\n",
    "            print(rp)\n",
    " \n",
    "        ps = {}\n",
    "        for rp in rps:\n",
    "            ali_id = rp['ali_id']\n",
    "            if ali_id not in ps:\n",
    "                ps[ali_id] = rp\n",
    "            else:\n",
    "                ps[ali_id]['stay'] += rp['stay']\n",
    "                \n",
    "        recommendation = []\n",
    "        for key in ps:\n",
    "            print('=>', ps[key])\n",
    "            rid = key\n",
    "            if ps[key]['stay'] < 20:\n",
    "                for ali_id in ps[key]['recommended']:\n",
    "                    if key != ali_id:\n",
    "                        rid = ali_id\n",
    "                        break\n",
    "            recommendation.append(rid)\n",
    "            \n",
    "        print('-->', recommendation)\n",
    "        \n",
    "        if 'D181104' in visitor['id']:\n",
    "            self.mail_to_visitor(tr, recommendation)\n",
    "            count += 1\n",
    "\n",
    "    return remain - count\n",
    "visitor.mail_to_current_page_visitors = types.MethodType(mail_to_current_page_visitors, visitor) "
   ]
  },
  {
   "cell_type": "code",
   "execution_count": 58,
   "metadata": {},
   "outputs": [],
   "source": []
  },
  {
   "cell_type": "code",
   "execution_count": 5,
   "metadata": {},
   "outputs": [],
   "source": [
    "def mail_to_visitor(self, tr, recommendation):\n",
    "    td = tr.find_element_by_css_selector('td:last-child')\n",
    "    spans = td.find_elements_by_css_selector('span.mailable')\n",
    "    if not spans:\n",
    "        return False\n",
    "    \n",
    "    span = td.find_element_by_css_selector('span.mail-send')\n",
    "    span.click()\n",
    "    WebDriverWait(self.browser, 3).until(EC.visibility_of_element_located((By.CSS_SELECTOR, 'div.ui-mask')))\n",
    "    \n",
    "    confirm_button = None\n",
    "    while True:\n",
    "        confirm_window = self.browser.find_elements_by_css_selector('div.ui-window')\n",
    "        if not confirm_window or not confirm_window[-1].is_displayed():\n",
    "            self.browser.implicitly_wait(0.5)\n",
    "            continue\n",
    "\n",
    "        confirm_button = confirm_window[-1].find_element_by_css_selector('input[data-role=\"confirm\"]')\n",
    "        break\n",
    "        \n",
    "    # 点击 “营销”\n",
    "    confirm_button.click()\n",
    "    if len(self.browser.window_handles) == 1:\n",
    "        return False\n",
    "    \n",
    "    self.browser.switch_to_window(self.browser.window_handles[1])\n",
    "    \n",
    "    # 切换至新 Tab\n",
    "    form = self.browser.find_element_by_css_selector('div.negotiation-product-form')\n",
    "    div_product_items = form.find_element_by_css_selector('div.product-editable div[data-role=\"product-items\"]')\n",
    "    \n",
    "    # remove first product item\n",
    "    product_item = div_product_items.find_element_by_css_selector('div.product-item:first-child')\n",
    "    product_item.find_element_by_css_selector('div.remove-item a').click()\n",
    "    \n",
    "    for ali_id in recommendation:\n",
    "        print('-----------------', ali_id, '---------------------')\n",
    "        subject = self.products[ali_id]['title']\n",
    "    \n",
    "        btn_choose_product = form.find_element_by_css_selector('a[data-role=\"chooseProduct\"]')\n",
    "        btn_choose_product.click()\n",
    "        WebDriverWait(self.browser, 3).until(EC.visibility_of_element_located((By.CSS_SELECTOR, 'div.ui-modal')))\n",
    "        \n",
    "        # switch to iframe\n",
    "        WebDriverWait(self.browser, 3).until(EC.frame_to_be_available_and_switch_to_it((By.CSS_SELECTOR, 'iframe.simple-content-iframe')))\n",
    "        \n",
    "        WebDriverWait(self.browser, 3).until(EC.visibility_of_element_located((By.CSS_SELECTOR, 'ul#sp-products-list li:first-child')))\n",
    "        \n",
    "        btn_search = self.browser.find_element_by_css_selector('input#sp-basicSearchSubmit')\n",
    "        self.browser.execute_script(\"document.getElementById('sp-basicSearchSubject').value='\"+subject+\"'\")\n",
    "        \n",
    "        ul_last_product = self.browser.find_elements_by_css_selector('ul#sp-products-list li:last-child')\n",
    "        btn_search.click()\n",
    "        if ul_last_product:\n",
    "            WebDriverWait(self.browser, 3).until(EC.staleness_of(ul_last_product[0]))\n",
    "            \n",
    "        last_li = None\n",
    "        found = False\n",
    "        while True:\n",
    "            \n",
    "            if last_li:\n",
    "                WebDriverWait(self.browser, 3).until(EC.staleness_of(last_li))\n",
    "            WebDriverWait(self.browser, 3).until(EC.visibility_of_element_located((By.CSS_SELECTOR, 'ul#sp-products-list li:first-child')))\n",
    "                \n",
    "            lis_products = self.browser.find_elements_by_css_selector('ul#sp-products-list li')\n",
    "            print(len(lis_products))\n",
    "            for li in lis_products:\n",
    "                last_li = li\n",
    "                if ali_id in li.get_attribute('id'):\n",
    "                    li.click()\n",
    "                    found = True\n",
    "                    break\n",
    "\n",
    "            if found:\n",
    "                break\n",
    "\n",
    "            btn_next = self.browser.find_element_by_css_selector('div#sp-paginator a:last-child')\n",
    "            if not btn_next.is_displayed():\n",
    "                break\n",
    "            else:\n",
    "                btn_next.click()\n",
    "                \n",
    "        btn_add_product_submit = self.browser.find_element_by_css_selector('input#sp-addProductSubmit')\n",
    "        btn_add_product_submit.click()\n",
    "        \n",
    "        # switch back from iframe\n",
    "        self.browser.switch_to.default_content()\n",
    "        \n",
    "        div = None\n",
    "        while True:\n",
    "            div = self.browser.find_elements_by_css_selector('div.product-item[data-pid=\"'+ali_id+'\"]')\n",
    "            if div:\n",
    "                div = div[0]\n",
    "                break\n",
    "            else:\n",
    "                self.browser.implicitly_wait(0.5)\n",
    "        \n",
    "        # fill the quantity\n",
    "#         div = self.browser.find_element_by_css_selector('div.product-item[data-pid=\"'+ali_id+'\"]')\n",
    "        input_quantity = div.find_element_by_css_selector('input[name=\"quantity\"]')\n",
    "        input_quantity.send_keys('1')\n",
    "        # select unit\n",
    "        unit = self.products[ali_id]['price'].split('/')[-1].strip()\n",
    "        div.find_element_by_css_selector('div.products-unit').click()\n",
    "        ul_unit_list = div.find_element_by_css_selector('div[data-role=\"unit-list\"] ul')\n",
    "        WebDriverWait(self.browser, 3).until(EC.visibility_of(ul_unit_list))\n",
    "        for li in ul_unit_list.find_elements_by_css_selector('li'):\n",
    "            if li.text.startswith(unit):\n",
    "                ActionChains(self.browser).move_to_element(li).perform()\n",
    "                li.click()\n",
    "                break\n",
    "        # set the price\n",
    "        price = self.products[ali_id]['price']\n",
    "        min_price = price.split('-')[0].split('$')[1].strip()\n",
    "        max_price = price.split('-')[1].split('/')[0].strip()\n",
    "        input_price = div.find_element_by_css_selector('input[name=\"unitPrice\"]')\n",
    "        input_price.send_keys(max_price)\n",
    "        \n",
    "        div.find_element_by_css_selector('div.products-price').click()\n",
    "        \n",
    "    self.browser.execute_script('document.querySelector(\"textarea\").value=\"'+self.mail_message+'\"')\n",
    "    \n",
    "    btn_send = visitor.browser.find_element_by_css_selector('a.aui-leads-send-button')\n",
    "    ActionChains(self.browser).move_to_element(btn_send).perform()\n",
    "    btn_send.click()\n",
    "    WebDriverWait(self.browser, 5).until(EC.visibility_of_element_located((By.CSS_SELECTOR, 'div.ui2-feedback-success')))\n",
    "    \n",
    "    self.browser.close()\n",
    "    self.browser.switch_to_window(self.browser.window_handles[0])\n",
    "visitor.mail_to_visitor = types.MethodType(mail_to_visitor, visitor)"
   ]
  },
  {
   "cell_type": "code",
   "execution_count": null,
   "metadata": {},
   "outputs": [],
   "source": []
  },
  {
   "cell_type": "code",
   "execution_count": 6,
   "metadata": {},
   "outputs": [
    {
     "name": "stdout",
     "output_type": "stream",
     "text": [
      "primary 打开网址：https://i.alibaba.com\n",
      "primary 等待登陆页面加载 ... ...\n",
      "primary 输入登录信息， 并登录\n",
      "success 成功 登录 阿里巴巴 国际站！用户名：Jeremy\n"
     ]
    }
   ],
   "source": [
    "visitor.load_url()"
   ]
  },
  {
   "cell_type": "code",
   "execution_count": 25,
   "metadata": {
    "scrolled": false
   },
   "outputs": [
    {
     "name": "stdout",
     "output_type": "stream",
     "text": [
      "{'ali_id': '60761530720', 'stay': 2, 'recommended': ['60761530720', '60763122328']}\n",
      "=> {'ali_id': '60761530720', 'stay': 2, 'recommended': ['60761530720', '60763122328']}\n",
      "--> ['60763122328']\n",
      "{'ali_id': '60761530720', 'stay': 110, 'recommended': ['60761530720', '60763122328']}\n",
      "=> {'ali_id': '60761530720', 'stay': 110, 'recommended': ['60761530720', '60763122328']}\n",
      "--> ['60761530720']\n",
      "{'ali_id': '60764332933', 'stay': 51, 'recommended': ['60732345735', '60764332933']}\n",
      "=> {'ali_id': '60764332933', 'stay': 51, 'recommended': ['60732345735', '60764332933']}\n",
      "--> ['60764332933']\n",
      "{'ali_id': '60764140968', 'stay': 6, 'recommended': ['60761530720', '60763122328']}\n",
      "=> {'ali_id': '60764140968', 'stay': 6, 'recommended': ['60761530720', '60763122328']}\n",
      "--> ['60761530720']\n",
      "{'ali_id': '60772324115', 'stay': 29, 'recommended': ['60795757606', '60792506357']}\n",
      "{'ali_id': '60772324115', 'stay': 5, 'recommended': ['60795757606', '60792506357']}\n",
      "=> {'ali_id': '60772324115', 'stay': 34, 'recommended': ['60795757606', '60792506357']}\n",
      "--> ['60772324115']\n",
      "{'ali_id': '60762375105', 'stay': 50, 'recommended': ['60732345735', '60764332933']}\n",
      "=> {'ali_id': '60762375105', 'stay': 50, 'recommended': ['60732345735', '60764332933']}\n",
      "--> ['60762375105']\n",
      "{'ali_id': '60761530720', 'stay': 5, 'recommended': ['60761530720', '60763122328']}\n",
      "{'ali_id': '60761530720', 'stay': 1, 'recommended': ['60761530720', '60763122328']}\n",
      "=> {'ali_id': '60761530720', 'stay': 6, 'recommended': ['60761530720', '60763122328']}\n",
      "--> ['60763122328']\n",
      "----------------- 60763122328 ---------------------\n",
      "2\n",
      "{'ali_id': '60763607812', 'stay': 119, 'recommended': ['60763607812', '60762283935']}\n",
      "=> {'ali_id': '60763607812', 'stay': 119, 'recommended': ['60763607812', '60762283935']}\n",
      "--> ['60763607812']\n",
      "----------------- 60763607812 ---------------------\n",
      "1\n",
      "{'ali_id': '60765347045', 'stay': 30, 'recommended': ['60732345735', '60764332933']}\n",
      "=> {'ali_id': '60765347045', 'stay': 30, 'recommended': ['60732345735', '60764332933']}\n",
      "--> ['60765347045']\n",
      "----------------- 60765347045 ---------------------\n",
      "1\n",
      "{'ali_id': '60761530720', 'stay': 4, 'recommended': ['60761530720', '60763122328']}\n",
      "=> {'ali_id': '60761530720', 'stay': 4, 'recommended': ['60761530720', '60763122328']}\n",
      "--> ['60763122328']\n",
      "----------------- 60763122328 ---------------------\n",
      "2\n"
     ]
    }
   ],
   "source": [
    "visitor.mail()"
   ]
  },
  {
   "cell_type": "code",
   "execution_count": 336,
   "metadata": {},
   "outputs": [
    {
     "name": "stdout",
     "output_type": "stream",
     "text": [
      "{'ali_id': '60811334390', 'stay': 26, 'recommended': ['60762376749', '60795868865']}\n",
      "=> {'ali_id': '60811334390', 'stay': 26, 'recommended': ['60762376749', '60795868865']}\n",
      "--> ['60811334390']\n",
      "{'ali_id': '60732345735', 'stay': 20, 'recommended': ['60732345735', '60764332933']}\n",
      "=> {'ali_id': '60732345735', 'stay': 20, 'recommended': ['60732345735', '60764332933']}\n",
      "--> ['60732345735']\n",
      "{'ali_id': '60761530720', 'stay': 24, 'recommended': ['60761530720', '60763122328']}\n",
      "{'ali_id': '60761530720', 'stay': 7, 'recommended': ['60761530720', '60763122328']}\n",
      "{'ali_id': '60761530720', 'stay': 3, 'recommended': ['60761530720', '60763122328']}\n",
      "{'ali_id': '60761530720', 'stay': 1, 'recommended': ['60761530720', '60763122328']}\n",
      "{'ali_id': '60761530720', 'stay': 0, 'recommended': ['60761530720', '60763122328']}\n",
      "=> {'ali_id': '60761530720', 'stay': 35, 'recommended': ['60761530720', '60763122328']}\n",
      "--> ['60761530720']\n",
      "{'ali_id': '60763607812', 'stay': 7, 'recommended': ['60763607812', '60762283935']}\n",
      "=> {'ali_id': '60763607812', 'stay': 7, 'recommended': ['60763607812', '60762283935']}\n",
      "--> ['60762283935']\n",
      "{'ali_id': '60770970038', 'stay': 55, 'recommended': ['60795757606', '60792506357']}\n",
      "{'ali_id': '60761530720', 'stay': 18, 'recommended': ['60761530720', '60763122328']}\n",
      "{'ali_id': '60761530720', 'stay': 11, 'recommended': ['60761530720', '60763122328']}\n",
      "{'ali_id': '60761530720', 'stay': 9, 'recommended': ['60761530720', '60763122328']}\n",
      "{'ali_id': '60770970038', 'stay': 7, 'recommended': ['60795757606', '60792506357']}\n",
      "{'ali_id': '60770970038', 'stay': 7, 'recommended': ['60795757606', '60792506357']}\n",
      "=> {'ali_id': '60770970038', 'stay': 69, 'recommended': ['60795757606', '60792506357']}\n",
      "=> {'ali_id': '60761530720', 'stay': 38, 'recommended': ['60761530720', '60763122328']}\n",
      "--> ['60770970038', '60761530720']\n",
      "----------------- 60770970038 ---------------------\n",
      "1\n",
      "----------------- 60761530720 ---------------------\n",
      "2\n"
     ]
    }
   ],
   "source": [
    "visitor.mail_to_current_page_visitors()"
   ]
  },
  {
   "cell_type": "code",
   "execution_count": 342,
   "metadata": {},
   "outputs": [],
   "source": [
    "visitor.browser.close()\n",
    "visitor.browser.switch_to_window(visitor.browser.window_handles[0])"
   ]
  },
  {
   "cell_type": "code",
   "execution_count": 111,
   "metadata": {},
   "outputs": [],
   "source": []
  },
  {
   "cell_type": "code",
   "execution_count": 340,
   "metadata": {},
   "outputs": [
    {
     "data": {
      "text/plain": [
       "False"
      ]
     },
     "execution_count": 340,
     "metadata": {},
     "output_type": "execute_result"
    }
   ],
   "source": [
    "\n",
    "            \n"
   ]
  },
  {
   "cell_type": "code",
   "execution_count": 312,
   "metadata": {},
   "outputs": [],
   "source": []
  },
  {
   "cell_type": "code",
   "execution_count": 306,
   "metadata": {},
   "outputs": [],
   "source": []
  },
  {
   "cell_type": "code",
   "execution_count": 346,
   "metadata": {},
   "outputs": [
    {
     "name": "stdout",
     "output_type": "stream",
     "text": [
      "19\n"
     ]
    }
   ],
   "source": [
    "div_overview_has_mails = visitor.browser.find_element_by_css_selector('div.overview-has-mails')\n",
    "if div_overview_has_mails.is_displayed():\n",
    "    remains = div_overview_has_mails.find_element_by_css_selector('span.overview-remain').get_attribute('data-remain')\n",
    "    print(remains)"
   ]
  },
  {
   "cell_type": "code",
   "execution_count": 345,
   "metadata": {},
   "outputs": [
    {
     "data": {
      "text/plain": [
       "<selenium.webdriver.remote.webelement.WebElement (session=\"3069d329f37d1a6bf9aa85c6ddd6b11b\", element=\"0.8251679052984116-1\")>"
      ]
     },
     "execution_count": 345,
     "metadata": {},
     "output_type": "execute_result"
    }
   ],
   "source": [
    "div_overview_has_mails"
   ]
  },
  {
   "cell_type": "code",
   "execution_count": 149,
   "metadata": {},
   "outputs": [],
   "source": []
  },
  {
   "cell_type": "code",
   "execution_count": null,
   "metadata": {},
   "outputs": [],
   "source": []
  },
  {
   "cell_type": "code",
   "execution_count": 392,
   "metadata": {},
   "outputs": [],
   "source": []
  },
  {
   "cell_type": "code",
   "execution_count": null,
   "metadata": {},
   "outputs": [],
   "source": []
  },
  {
   "cell_type": "code",
   "execution_count": 275,
   "metadata": {},
   "outputs": [],
   "source": []
  },
  {
   "cell_type": "code",
   "execution_count": 49,
   "metadata": {},
   "outputs": [],
   "source": [
    "confirm_button = visitor.browser.find_elements_by_css_selector('div.ui-window')"
   ]
  },
  {
   "cell_type": "code",
   "execution_count": 15,
   "metadata": {},
   "outputs": [
    {
     "data": {
      "text/plain": [
       "5"
      ]
     },
     "execution_count": 15,
     "metadata": {},
     "output_type": "execute_result"
    }
   ],
   "source": [
    "len(confirm_button)"
   ]
  },
  {
   "cell_type": "code",
   "execution_count": null,
   "metadata": {},
   "outputs": [],
   "source": []
  },
  {
   "cell_type": "code",
   "execution_count": 80,
   "metadata": {},
   "outputs": [],
   "source": []
  },
  {
   "cell_type": "code",
   "execution_count": 32,
   "metadata": {},
   "outputs": [],
   "source": []
  },
  {
   "cell_type": "code",
   "execution_count": 33,
   "metadata": {},
   "outputs": [],
   "source": []
  },
  {
   "cell_type": "code",
   "execution_count": 49,
   "metadata": {},
   "outputs": [],
   "source": [
    "# choose product\n",
    "btn_choose_product = form.find_element_by_css_selector('a[data-role=\"chooseProduct\"]')\n",
    "btn_choose_product.click()\n",
    "WebDriverWait(visitor.browser, 3).until(EC.visibility_of_element_located((By.CSS_SELECTOR, 'div.ui-modal')))\n",
    "WebDriverWait(visitor.browser, 3).until(EC.frame_to_be_available_and_switch_to_it((By.CSS_SELECTOR, 'iframe.simple-content-iframe')))\n",
    "\n",
    "btn_search = visitor.browser.find_element_by_css_selector('input#sp-basicSearchSubmit')\n",
    "\n",
    "subject = 'mink eyelash'\n",
    "pid = '60792031704'\n",
    "\n",
    "visitor.browser.execute_script(\"document.getElementById('sp-basicSearchSubject').value='\"+subject+\"'\")\n",
    "btn_search.click()\n",
    "\n",
    "while True:\n",
    "    ul_last_product = visitor.browser.find_elements_by_css_selector('ul#sp-products-list li:last-child')\n",
    "    if ul_last_product:\n",
    "        ul_last_product = ul_last_product[0]\n",
    "        WebDriverWait(visitor.browser, 3).until(EC.staleness_of(ul_last_product))\n",
    "\n",
    "    lis_products = visitor.browser.find_elements_by_css_selector('ul#sp-products-list li')\n",
    "    found = False\n",
    "    for li in lis_products:\n",
    "        if pid in li.get_attribute('id'):\n",
    "            li.click()\n",
    "            found = True\n",
    "            break\n",
    "            \n",
    "    if found:\n",
    "        break\n",
    "\n",
    "    btn_next = visitor.browser.find_element_by_css_selector('div#sp-paginator a:last-child')\n",
    "    if not btn_next.is_displayed():\n",
    "        break\n",
    "    else:\n",
    "        btn_next.click()\n",
    "\n",
    "btn_add_product_submit = visitor.browser.find_element_by_css_selector('input#sp-addProductSubmit')\n",
    "btn_add_product_submit.click()"
   ]
  },
  {
   "cell_type": "code",
   "execution_count": 50,
   "metadata": {},
   "outputs": [],
   "source": [
    "visitor.browser.switch_to.default_content()"
   ]
  },
  {
   "cell_type": "code",
   "execution_count": 25,
   "metadata": {},
   "outputs": [],
   "source": [
    "# visitor.browser.close()\n",
    "visitor.browser.switch_to_window(visitor.browser.window_handles[0])"
   ]
  },
  {
   "cell_type": "code",
   "execution_count": null,
   "metadata": {},
   "outputs": [],
   "source": []
  },
  {
   "cell_type": "code",
   "execution_count": null,
   "metadata": {},
   "outputs": [],
   "source": []
  },
  {
   "cell_type": "code",
   "execution_count": null,
   "metadata": {},
   "outputs": [],
   "source": [
    "visitor.browser.find_element_by_css_selector"
   ]
  },
  {
   "cell_type": "code",
   "execution_count": 108,
   "metadata": {},
   "outputs": [],
   "source": []
  },
  {
   "cell_type": "code",
   "execution_count": null,
   "metadata": {},
   "outputs": [],
   "source": []
  },
  {
   "cell_type": "code",
   "execution_count": 105,
   "metadata": {},
   "outputs": [
    {
     "data": {
      "text/plain": [
       "True"
      ]
     },
     "execution_count": 105,
     "metadata": {},
     "output_type": "execute_result"
    }
   ],
   "source": []
  },
  {
   "cell_type": "code",
   "execution_count": 115,
   "metadata": {},
   "outputs": [],
   "source": []
  },
  {
   "cell_type": "code",
   "execution_count": 32,
   "metadata": {},
   "outputs": [
    {
     "data": {
      "text/plain": [
       "True"
      ]
     },
     "execution_count": 32,
     "metadata": {},
     "output_type": "execute_result"
    }
   ],
   "source": []
  },
  {
   "cell_type": "code",
   "execution_count": null,
   "metadata": {},
   "outputs": [],
   "source": []
  },
  {
   "cell_type": "code",
   "execution_count": null,
   "metadata": {},
   "outputs": [],
   "source": []
  },
  {
   "cell_type": "code",
   "execution_count": null,
   "metadata": {},
   "outputs": [],
   "source": []
  },
  {
   "cell_type": "code",
   "execution_count": 323,
   "metadata": {},
   "outputs": [
    {
     "name": "stdout",
     "output_type": "stream",
     "text": [
      "primary 打开网址：https://i.alibaba.com\n",
      "primary 等待登陆页面加载 ... ...\n",
      "primary 输入登录信息， 并登录\n",
      "success 成功 登录 阿里巴巴 国际站！用户名：Jeremy\n"
     ]
    }
   ],
   "source": [
    "visitor.login()"
   ]
  },
  {
   "cell_type": "code",
   "execution_count": null,
   "metadata": {},
   "outputs": [],
   "source": []
  },
  {
   "cell_type": "code",
   "execution_count": null,
   "metadata": {},
   "outputs": [],
   "source": []
  },
  {
   "cell_type": "code",
   "execution_count": null,
   "metadata": {},
   "outputs": [],
   "source": []
  },
  {
   "cell_type": "code",
   "execution_count": null,
   "metadata": {},
   "outputs": [],
   "source": []
  },
  {
   "cell_type": "code",
   "execution_count": null,
   "metadata": {},
   "outputs": [],
   "source": []
  },
  {
   "cell_type": "code",
   "execution_count": null,
   "metadata": {},
   "outputs": [],
   "source": []
  },
  {
   "cell_type": "code",
   "execution_count": null,
   "metadata": {},
   "outputs": [],
   "source": []
  },
  {
   "cell_type": "code",
   "execution_count": null,
   "metadata": {},
   "outputs": [],
   "source": []
  },
  {
   "cell_type": "code",
   "execution_count": null,
   "metadata": {},
   "outputs": [],
   "source": []
  },
  {
   "cell_type": "code",
   "execution_count": null,
   "metadata": {},
   "outputs": [],
   "source": []
  },
  {
   "cell_type": "code",
   "execution_count": null,
   "metadata": {},
   "outputs": [],
   "source": []
  },
  {
   "cell_type": "code",
   "execution_count": null,
   "metadata": {},
   "outputs": [],
   "source": []
  },
  {
   "cell_type": "code",
   "execution_count": null,
   "metadata": {},
   "outputs": [],
   "source": []
  },
  {
   "cell_type": "code",
   "execution_count": null,
   "metadata": {},
   "outputs": [],
   "source": []
  },
  {
   "cell_type": "code",
   "execution_count": null,
   "metadata": {},
   "outputs": [],
   "source": []
  },
  {
   "cell_type": "code",
   "execution_count": null,
   "metadata": {},
   "outputs": [],
   "source": []
  },
  {
   "cell_type": "code",
   "execution_count": null,
   "metadata": {},
   "outputs": [],
   "source": []
  },
  {
   "cell_type": "code",
   "execution_count": null,
   "metadata": {},
   "outputs": [],
   "source": []
  }
 ],
 "metadata": {
  "kernelspec": {
   "display_name": "Python 3",
   "language": "python",
   "name": "python3"
  },
  "language_info": {
   "codemirror_mode": {
    "name": "ipython",
    "version": 3
   },
   "file_extension": ".py",
   "mimetype": "text/x-python",
   "name": "python",
   "nbconvert_exporter": "python",
   "pygments_lexer": "ipython3",
   "version": "3.6.6"
  }
 },
 "nbformat": 4,
 "nbformat_minor": 2
}
