{
 "cells": [
  {
   "cell_type": "code",
   "execution_count": 1,
   "metadata": {},
   "outputs": [],
   "source": [
    "from libs.alibaba.visitor import Visitor\n",
    "\n",
    "from libs.json import JSON\n",
    "from openpyxl import load_workbook\n",
    "\n",
    "from selenium.webdriver.common.keys import Keys\n",
    "from selenium.webdriver.common.action_chains import ActionChains\n",
    "from selenium import webdriver\n",
    "from selenium.webdriver.common.by import By\n",
    "from selenium.webdriver.support.ui import WebDriverWait\n",
    "from selenium.webdriver.support import expected_conditions as EC\n",
    "from selenium.common.exceptions import WebDriverException\n",
    "from selenium.common.exceptions import NoSuchElementException\n",
    "from selenium.common.exceptions import TimeoutException\n",
    "from selenium.common.exceptions import StaleElementReferenceException\n",
    "from selenium.webdriver.support.select import Select\n",
    "from bs4 import BeautifulSoup\n",
    "from pyquery import PyQuery as pq\n",
    "from libs.CeleryTasks import tasks\n",
    "import html\n",
    "import time\n",
    "import re\n",
    "import os\n",
    "import traceback\n",
    "import types\n",
    "import pendulum"
   ]
  },
  {
   "cell_type": "code",
   "execution_count": 4,
   "metadata": {},
   "outputs": [
    {
     "name": "stdout",
     "output_type": "stream",
     "text": [
      ". storage markets.json\n",
      ".\\storage\\markets.json was deserialized!\n"
     ]
    }
   ],
   "source": [
    "market = JSON.deserialize('.', 'storage', 'markets.json')['Eyelashes']\n",
    "visitor = Visitor(market, headless=False)"
   ]
  },
  {
   "cell_type": "code",
   "execution_count": 5,
   "metadata": {},
   "outputs": [
    {
     "name": "stdout",
     "output_type": "stream",
     "text": [
      "primary 打开网址：https://i.alibaba.com\n",
      "primary 等待登陆页面加载 ... ...\n",
      "primary 输入登录信息， 并登录\n",
      "success 成功 登录 阿里巴巴 国际站！用户名：Jeremy\n"
     ]
    }
   ],
   "source": [
    "visitor.login()"
   ]
  },
  {
   "cell_type": "code",
   "execution_count": 8,
   "metadata": {},
   "outputs": [],
   "source": [
    "visitor.browser.get(visitor.api)\n",
    "close_btn = visitor.browser.find_elements_by_css_selector('div.ui-window a.ui-window-close')\n",
    "if close_btn and close_btn[0].is_displayed():\n",
    "    close_btn[0].click()\n",
    "visitor.switch_to_last_31_days()"
   ]
  },
  {
   "cell_type": "code",
   "execution_count": 9,
   "metadata": {},
   "outputs": [],
   "source": [
    "check_box = visitor.browser.find_elements_by_css_selector('input#J-condition-mailable')\n",
    "if check_box:\n",
    "    check_box[0].click()"
   ]
  },
  {
   "cell_type": "code",
   "execution_count": 15,
   "metadata": {},
   "outputs": [],
   "source": [
    "def mail_to_current_page_visitors(self):\n",
    "    css_tbody = '#J-visitors-tbl-tbody'\n",
    "    tbody = WebDriverWait(self.browser, 15).until(\n",
    "        EC.visibility_of_element_located((By.CSS_SELECTOR, css_tbody)))\n",
    "\n",
    "    visitors = []\n",
    "\n",
    "    for tr in tbody.find_elements_by_css_selector(css_tbody+' tr.J-visitors-table-tr'):\n",
    "        visitor = {}\n",
    "        ActionChains(self.browser).move_to_element(tr).perform()\n",
    "        date = tr.find_element_by_css_selector('td.td-checkbox input').get_attribute('statdate')\n",
    "        visitor['date'] = date\n",
    "        visitor['id'] = tr.find_element_by_css_selector('td.td-checkbox input').get_attribute('visitorid')\n",
    "        visitor['idx'] = tr.find_element_by_css_selector('td.td-checkbox input').get_attribute('visitoridx')    \n",
    "        \n",
    "        print(visitor)\n",
    "        visitors.append(visitor)\n",
    "        \n",
    "        print(self.parse_tr(tr))\n",
    "        \n",
    "#         if visitor['id'] == 'D18110412':\n",
    "#             self.mail_to_visitor(tr)\n",
    "#             break\n",
    "    return visitors\n",
    "\n",
    "visitor.mail_to_current_page_visitors = types.MethodType(mail_to_current_page_visitors, visitor) "
   ]
  },
  {
   "cell_type": "code",
   "execution_count": 11,
   "metadata": {},
   "outputs": [],
   "source": [
    "def mail(self):\n",
    "    self.switch_to_last_31_days()\n",
    "    check_box = self.browser.find_elements_by_css_selector('input#J-condition-mailable')\n",
    "    if check_box:\n",
    "        check_box[0].click()\n",
    "        \n",
    "    visitors = []\n",
    "    while True:\n",
    "            result = self.mail_to_current_page_visitors()\n",
    "            if result:\n",
    "                visitors += result\n",
    "            if not result or not self.next_page():\n",
    "                break\n",
    "    return visitors\n",
    "visitor.mail = types.MethodType(mail, visitor)"
   ]
  },
  {
   "cell_type": "code",
   "execution_count": 17,
   "metadata": {},
   "outputs": [],
   "source": [
    "def mail_to_visitor(self, tr):\n",
    "    td = tr.find_element_by_css_selector('td:last-child')\n",
    "    spans = td.find_elements_by_css_selector('span.mailable')\n",
    "    if not spans:\n",
    "        return False\n",
    "    \n",
    "    span = td.find_element_by_css_selector('span.mail-send')\n",
    "    span.click()\n",
    "    WebDriverWait(self.browser, 3).until(EC.visibility_of_element_located((By.CSS_SELECTOR, 'div.ui-mask')))\n",
    "    \n",
    "    confirm_button = None\n",
    "    while True:\n",
    "        confirm_window = visitor.browser.find_elements_by_css_selector('div.ui-window')\n",
    "        if not confirm_window or not confirm_window[-1].is_displayed():\n",
    "            self.browser.implicitly_wait(0.5)\n",
    "            continue\n",
    "\n",
    "        confirm_button = confirm_window[-1].find_element_by_css_selector('input[data-role=\"confirm\"]')\n",
    "        print(confirm_window[-1].get_attribute('data-widget-cid'))\n",
    "        break\n",
    "    confirm_button.click()\n",
    "    \n",
    "    if len(self.browser.window_handles) == 1:\n",
    "        return False\n",
    "    \n",
    "    self.browser.switch_to_window(self.browser.window_handles[1])\n",
    "    \n",
    "    \n",
    "    \n",
    "#     self.browser.close()\n",
    "#     self.browser.switch_to_window(self.browser.window_handles[0])\n",
    "visitor.mail_to_visitor = types.MethodType(mail_to_visitor, visitor)"
   ]
  },
  {
   "cell_type": "code",
   "execution_count": null,
   "metadata": {},
   "outputs": [],
   "source": [
    "def "
   ]
  },
  {
   "cell_type": "code",
   "execution_count": 16,
   "metadata": {},
   "outputs": [
    {
     "name": "stdout",
     "output_type": "stream",
     "text": [
      "{'date': '2018-11-21', 'id': 'D18112140', 'idx': '40'}\n",
      "{'id': 'D18112140', 'idx': '40', 'date': '2018-11-21', 'region': 'United States', 'pv': '3', 'pv-detail': [{'idx': '1', 'page': 'http://www.alibaba.com/product-detail/own-brand-mink-lashes-wholesale-vendor-cruelty-free-real-mink-strip-eyelash-private-label-3d-mink-eyelashes_60761530720.html', 'inquiried': False, 'tm_inquiried': False, 'stay': '482s', 'time': '2018-11-21 03:49:07'}, {'idx': '2', 'page': 'http://www.alibaba.com/product-detail/own-brand-mink-lashes-wholesale-vendor-cruelty-free-real-mink-strip-eyelash-private-label-3d-mink-eyelashes_60761530720.html', 'inquiried': False, 'tm_inquiried': False, 'stay': '71s', 'time': '2018-11-21 03:50:07'}, {'idx': '3', 'page': 'http://www.alibaba.com/product-detail/own-brand-mink-lashes-wholesale-vendor-cruelty-free-real-mink-strip-eyelash-private-label-3d-mink-eyelashes_60761530720.html', 'inquiried': False, 'tm_inquiried': False, 'stay': '23s', 'time': '2018-11-21 03:50:37'}], 'stay': '576s', 'keywords': [], 'search_keyword_indices': [], 'minisite-acts': [], 'website-acts': ['总浏览量85', '浏览8个供应商', '对3个供应商发起5个TradeManager咨询']}\n",
      "{'date': '2018-11-04', 'id': 'D18110412', 'idx': '12'}\n",
      "{'id': 'D18110412', 'idx': '12', 'date': '2018-11-04', 'region': 'United States', 'pv': '1', 'pv-detail': [{'idx': '1', 'page': 'http://www.alibaba.com/product-detail/own-brand-mink-lashes-wholesale-vendor-cruelty-free-real-mink-strip-eyelash-private-label-3d-mink-eyelashes_60761530720.html', 'inquiried': False, 'tm_inquiried': False, 'stay': '4s', 'time': '2018-11-04 15:13:12'}], 'stay': '4s', 'keywords': [], 'search_keyword_indices': [], 'minisite-acts': [], 'website-acts': ['总浏览量43', '浏览9个供应商', '对1个供应商发起3个TradeManager咨询']}\n",
      "{'date': '2018-10-29', 'id': 'D18102927', 'idx': '27'}\n",
      "{'id': 'D18102927', 'idx': '27', 'date': '2018-10-29', 'region': 'Nigeria', 'pv': '1', 'pv-detail': [{'idx': '1', 'page': 'http://www.alibaba.com/product-detail/bulk-synthetic-false-magnetic-eyelash-magnet-lash-magnetic-eye-lash-with-triple-magnets-lash-eyelash-magnetic-eyelashes_60763607812.html', 'inquiried': False, 'tm_inquiried': False, 'stay': '11s', 'time': '2018-10-29 11:03:16'}], 'stay': '11s', 'keywords': ['magnetic eyelashes'], 'search_keyword_indices': [0], 'minisite-acts': [], 'website-acts': ['总浏览量45', '浏览8个供应商']}\n"
     ]
    },
    {
     "data": {
      "text/plain": [
       "[{'date': '2018-11-21', 'id': 'D18112140', 'idx': '40'},\n",
       " {'date': '2018-11-04', 'id': 'D18110412', 'idx': '12'},\n",
       " {'date': '2018-10-29', 'id': 'D18102927', 'idx': '27'}]"
      ]
     },
     "execution_count": 16,
     "metadata": {},
     "output_type": "execute_result"
    }
   ],
   "source": [
    "visitor.mail_to_current_page_visitors()"
   ]
  },
  {
   "cell_type": "code",
   "execution_count": null,
   "metadata": {},
   "outputs": [],
   "source": [
    "visitor.browser.close()\n",
    "visitor.browser.switch_to_window(self.browser.window_handles[0])"
   ]
  },
  {
   "cell_type": "code",
   "execution_count": null,
   "metadata": {},
   "outputs": [],
   "source": []
  },
  {
   "cell_type": "code",
   "execution_count": null,
   "metadata": {},
   "outputs": [],
   "source": []
  },
  {
   "cell_type": "code",
   "execution_count": null,
   "metadata": {},
   "outputs": [],
   "source": []
  },
  {
   "cell_type": "code",
   "execution_count": 43,
   "metadata": {},
   "outputs": [
    {
     "data": {
      "text/plain": [
       "'60763607812'"
      ]
     },
     "execution_count": 43,
     "metadata": {},
     "output_type": "execute_result"
    }
   ],
   "source": [
    "link = \"http://spanish.alibaba.com/product-detail/bulk-synthetic-false-magnetic-eyelash-magnet-60763607812.html?spm=a271v.8028085.0.0.66ce3e5fNWTS9L&s=p\"\n",
    "pid_search = re.search('(\\d+)', link, re.IGNORECASE)\n",
    "if pid_search:\n",
    "    pid = pid_search.group(1)\n",
    "pid"
   ]
  },
  {
   "cell_type": "code",
   "execution_count": 14,
   "metadata": {},
   "outputs": [],
   "source": [
    "confirm_button = visitor.browser.find_elements_by_css_selector('div.ui-window')"
   ]
  },
  {
   "cell_type": "code",
   "execution_count": 15,
   "metadata": {},
   "outputs": [
    {
     "data": {
      "text/plain": [
       "5"
      ]
     },
     "execution_count": 15,
     "metadata": {},
     "output_type": "execute_result"
    }
   ],
   "source": [
    "len(confirm_button)"
   ]
  },
  {
   "cell_type": "code",
   "execution_count": null,
   "metadata": {},
   "outputs": [],
   "source": []
  },
  {
   "cell_type": "code",
   "execution_count": 80,
   "metadata": {},
   "outputs": [],
   "source": []
  },
  {
   "cell_type": "code",
   "execution_count": 32,
   "metadata": {},
   "outputs": [],
   "source": [
    "form = visitor.browser.find_element_by_css_selector('div.negotiation-product-form')\n",
    "div_product_items = form.find_element_by_css_selector('div.product-editable div[data-role=\"product-items\"]')"
   ]
  },
  {
   "cell_type": "code",
   "execution_count": 33,
   "metadata": {},
   "outputs": [],
   "source": [
    "# remove first product item\n",
    "product_item = div_product_items.find_element_by_css_selector('div.product-item:first-child')\n",
    "product_item.find_element_by_css_selector('div.remove-item a').click()"
   ]
  },
  {
   "cell_type": "code",
   "execution_count": 49,
   "metadata": {},
   "outputs": [],
   "source": [
    "# choose product\n",
    "btn_choose_product = form.find_element_by_css_selector('a[data-role=\"chooseProduct\"]')\n",
    "btn_choose_product.click()\n",
    "WebDriverWait(visitor.browser, 3).until(EC.visibility_of_element_located((By.CSS_SELECTOR, 'div.ui-modal')))\n",
    "WebDriverWait(visitor.browser, 3).until(EC.frame_to_be_available_and_switch_to_it((By.CSS_SELECTOR, 'iframe.simple-content-iframe')))\n",
    "\n",
    "btn_search = visitor.browser.find_element_by_css_selector('input#sp-basicSearchSubmit')\n",
    "\n",
    "subject = 'mink eyelash'\n",
    "pid = '60792031704'\n",
    "\n",
    "visitor.browser.execute_script(\"document.getElementById('sp-basicSearchSubject').value='\"+subject+\"'\")\n",
    "btn_search.click()\n",
    "\n",
    "while True:\n",
    "    ul_last_product = visitor.browser.find_elements_by_css_selector('ul#sp-products-list li:last-child')\n",
    "    if ul_last_product:\n",
    "        ul_last_product = ul_last_product[0]\n",
    "        WebDriverWait(visitor.browser, 3).until(EC.staleness_of(ul_last_product))\n",
    "\n",
    "    lis_products = visitor.browser.find_elements_by_css_selector('ul#sp-products-list li')\n",
    "    found = False\n",
    "    for li in lis_products:\n",
    "        if pid in li.get_attribute('id'):\n",
    "            li.click()\n",
    "            found = True\n",
    "            break\n",
    "            \n",
    "    if found:\n",
    "        break\n",
    "\n",
    "    btn_next = visitor.browser.find_element_by_css_selector('div#sp-paginator a:last-child')\n",
    "    if not btn_next.is_displayed():\n",
    "        break\n",
    "    else:\n",
    "        btn_next.click()\n",
    "    \n",
    "btn_add_product_submit = visitor.browser.find_element_by_css_selector('input#sp-addProductSubmit')\n",
    "btn_add_product_submit.click()"
   ]
  },
  {
   "cell_type": "code",
   "execution_count": 50,
   "metadata": {},
   "outputs": [],
   "source": [
    "visitor.browser.switch_to.default_content()"
   ]
  },
  {
   "cell_type": "code",
   "execution_count": 25,
   "metadata": {},
   "outputs": [],
   "source": [
    "# visitor.browser.close()\n",
    "visitor.browser.switch_to_window(visitor.browser.window_handles[0])"
   ]
  },
  {
   "cell_type": "code",
   "execution_count": null,
   "metadata": {},
   "outputs": [],
   "source": []
  },
  {
   "cell_type": "code",
   "execution_count": null,
   "metadata": {},
   "outputs": [],
   "source": []
  },
  {
   "cell_type": "code",
   "execution_count": null,
   "metadata": {},
   "outputs": [],
   "source": [
    "visitor.browser.find_element_by_css_selector"
   ]
  },
  {
   "cell_type": "code",
   "execution_count": 108,
   "metadata": {},
   "outputs": [],
   "source": []
  },
  {
   "cell_type": "code",
   "execution_count": null,
   "metadata": {},
   "outputs": [],
   "source": []
  },
  {
   "cell_type": "code",
   "execution_count": 105,
   "metadata": {},
   "outputs": [
    {
     "data": {
      "text/plain": [
       "True"
      ]
     },
     "execution_count": 105,
     "metadata": {},
     "output_type": "execute_result"
    }
   ],
   "source": []
  },
  {
   "cell_type": "code",
   "execution_count": 115,
   "metadata": {},
   "outputs": [],
   "source": []
  },
  {
   "cell_type": "code",
   "execution_count": 32,
   "metadata": {},
   "outputs": [
    {
     "data": {
      "text/plain": [
       "True"
      ]
     },
     "execution_count": 32,
     "metadata": {},
     "output_type": "execute_result"
    }
   ],
   "source": [
    "now = pendulum.now()\n",
    "today_0800 = now.set(hour=8, minute=0, second=0, microsecond=0)\n",
    "today_2000 = now.set(hour=20, minute=0, second=0, microsecond=0)\n",
    "today_0800 < now < today_2000"
   ]
  },
  {
   "cell_type": "code",
   "execution_count": null,
   "metadata": {},
   "outputs": [],
   "source": []
  },
  {
   "cell_type": "code",
   "execution_count": null,
   "metadata": {},
   "outputs": [],
   "source": []
  },
  {
   "cell_type": "code",
   "execution_count": null,
   "metadata": {},
   "outputs": [],
   "source": []
  },
  {
   "cell_type": "code",
   "execution_count": null,
   "metadata": {},
   "outputs": [],
   "source": []
  },
  {
   "cell_type": "code",
   "execution_count": null,
   "metadata": {},
   "outputs": [],
   "source": []
  },
  {
   "cell_type": "code",
   "execution_count": null,
   "metadata": {},
   "outputs": [],
   "source": []
  },
  {
   "cell_type": "code",
   "execution_count": null,
   "metadata": {},
   "outputs": [],
   "source": []
  },
  {
   "cell_type": "code",
   "execution_count": null,
   "metadata": {},
   "outputs": [],
   "source": []
  },
  {
   "cell_type": "code",
   "execution_count": null,
   "metadata": {},
   "outputs": [],
   "source": []
  },
  {
   "cell_type": "code",
   "execution_count": null,
   "metadata": {},
   "outputs": [],
   "source": []
  },
  {
   "cell_type": "code",
   "execution_count": null,
   "metadata": {},
   "outputs": [],
   "source": []
  },
  {
   "cell_type": "code",
   "execution_count": null,
   "metadata": {},
   "outputs": [],
   "source": []
  },
  {
   "cell_type": "code",
   "execution_count": null,
   "metadata": {},
   "outputs": [],
   "source": []
  },
  {
   "cell_type": "code",
   "execution_count": null,
   "metadata": {},
   "outputs": [],
   "source": []
  },
  {
   "cell_type": "code",
   "execution_count": null,
   "metadata": {},
   "outputs": [],
   "source": []
  },
  {
   "cell_type": "code",
   "execution_count": null,
   "metadata": {},
   "outputs": [],
   "source": []
  },
  {
   "cell_type": "code",
   "execution_count": null,
   "metadata": {},
   "outputs": [],
   "source": []
  },
  {
   "cell_type": "code",
   "execution_count": null,
   "metadata": {},
   "outputs": [],
   "source": []
  },
  {
   "cell_type": "code",
   "execution_count": null,
   "metadata": {},
   "outputs": [],
   "source": []
  },
  {
   "cell_type": "code",
   "execution_count": null,
   "metadata": {},
   "outputs": [],
   "source": []
  },
  {
   "cell_type": "code",
   "execution_count": null,
   "metadata": {},
   "outputs": [],
   "source": []
  },
  {
   "cell_type": "code",
   "execution_count": null,
   "metadata": {},
   "outputs": [],
   "source": []
  }
 ],
 "metadata": {
  "kernelspec": {
   "display_name": "Python 3",
   "language": "python",
   "name": "python3"
  },
  "language_info": {
   "codemirror_mode": {
    "name": "ipython",
    "version": 3
   },
   "file_extension": ".py",
   "mimetype": "text/x-python",
   "name": "python",
   "nbconvert_exporter": "python",
   "pygments_lexer": "ipython3",
   "version": "3.6.6"
  }
 },
 "nbformat": 4,
 "nbformat_minor": 2
}
