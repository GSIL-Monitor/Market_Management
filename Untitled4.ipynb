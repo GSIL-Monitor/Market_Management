{
 "cells": [
  {
   "cell_type": "code",
   "execution_count": 1,
   "metadata": {},
   "outputs": [],
   "source": [
    "from libs.crawlers.keywords_crawler_ali_sp import KwclrAliSp\n",
    "from selenium.common.exceptions import NoSuchElementException\n",
    "from selenium import webdriver\n",
    "from selenium.webdriver.common.by import By\n",
    "import types\n",
    "import re"
   ]
  },
  {
   "cell_type": "code",
   "execution_count": 2,
   "metadata": {},
   "outputs": [],
   "source": [
    "chrome_options = webdriver.ChromeOptions()\n",
    "chrome_options.add_argument('--disable-gpu')\n",
    "chrome_options.add_argument('--disable-software-rasterizer')\n",
    "chrome_options.add_argument('--disable-extensions')\n",
    "chrome_options.add_argument('--disable-logging')\n",
    "chrome_options.add_argument('--disable-infobars')\n",
    "chrome_options.add_argument('--ignore-certificate-errors')\n",
    "browser = webdriver.Chrome(chrome_options=chrome_options)\n",
    "browser.set_window_size(1920, 1200)"
   ]
  },
  {
   "cell_type": "code",
   "execution_count": 3,
   "metadata": {},
   "outputs": [],
   "source": [
    "keyword = 'https://worldbeautylashes.en.alibaba.com/productgrouplist-805861738/3D_Mink_Eyelashes.html'\n",
    "page_quantity = 3\n",
    "\n",
    "supplier = re.search('https:\\/\\/([^\\.]+)', keyword).group(1)\n",
    "category = 'all_products'\n",
    "if 'productgrouplist' in keyword:\n",
    "    category = re.search('\\/([^\\/]+.html)', keyword).group(1)\n",
    "    if category:\n",
    "        category = re.sub('.html', '',category)\n",
    "crawler_name = supplier + ' - ' + category + ' - ' + str(page_quantity) + '页 - 阿里(商家)'\n",
    "crawler = KwclrAliSp(browser, keyword, page_quantity)\n",
    "crawler.max_pn = 99"
   ]
  },
  {
   "cell_type": "code",
   "execution_count": 4,
   "metadata": {},
   "outputs": [],
   "source": [
    "def crawl(self):\n",
    "    results = []\n",
    "\n",
    "    try:\n",
    "        label = self.browser.find_element_by_css_selector(self.cl_max_pn)\n",
    "    except NoSuchElementException:\n",
    "        pass\n",
    "\n",
    "    # self.max_pn = int(label.text.strip().split(' ')[2])\n",
    "\n",
    "    items = self.browser.find_elements_by_css_selector(self.cl_item)\n",
    "    for item in items:\n",
    "        result = {'title': \"\", 'keywords': [], 'img': \"\"}\n",
    "        result['title'] = item.find_element_by_css_selector(self.cl_title).get_attribute('title')\n",
    "        href = item.find_element_by_css_selector(self.cl_title).get_attribute('href')\n",
    "        result['href'] = href\n",
    "        result['img'] = item.find_element_by_css_selector(self.cl_img).get_attribute('src')\n",
    "\n",
    "        result['isCrowned'] = False\n",
    "        result['isAd'] = False\n",
    "\n",
    "        self.product_urls.append(href)\n",
    "        self.products[href] = result\n",
    "        results.append(result)\n",
    "\n",
    "    count = 1\n",
    "    for url in self.product_urls:\n",
    "        msg = {'type':'primary'}\n",
    "        msg['content'] = '正在抓取产品列表，第'+str(self.current_pn)+'页，第'+str(count)+'个产品详情页，网址：'+url\n",
    "        if self.socket:\n",
    "            self.socket.emit('notify', msg, namespace='/markets', room=self.sid)\n",
    "\n",
    "        self.browser.get(url)\n",
    "        # time.sleep(1)\n",
    "        self.crawl_product_page(url)\n",
    "        count = count + 1\n",
    "        if count > 2:\n",
    "            break\n",
    "    del self.product_urls[:]\n",
    "    self.products = {}\n",
    "\n",
    "    return results\n",
    "crawler.crawl = types.MethodType(crawl, crawler)"
   ]
  },
  {
   "cell_type": "code",
   "execution_count": 5,
   "metadata": {},
   "outputs": [],
   "source": [
    "def next_page(self):\n",
    "    print(self.current_pn)\n",
    "    \n",
    "    self.current_pn = self.current_pn + 1\n",
    "    if self.api is None:\n",
    "        self.api = re.sub(r\"\\?.*$\", \"\", self.keyword)\n",
    "        # self.api = self.keyword\n",
    "        self.keyword = None\n",
    "\n",
    "    if self.current_pn == 1:\n",
    "        url = self.api\n",
    "    elif 'productlist' in self.api:\n",
    "        url = re.sub(r'productlist.*\\.html', 'productlist-' + str(self.current_pn)+'.html', self.api)\n",
    "    elif 'productgrouplist' in self.api:\n",
    "        url = re.sub(r'(productgrouplist-\\d+)(-\\d*)?', r'\\1-' + str(self.current_pn), self.api)\n",
    "\n",
    "    msg = {'type':'primary'}\n",
    "    msg['content'] = '正在抓取产品列表，第'+str(self.current_pn)+'页，网址：'+url\n",
    "    if self.socket:\n",
    "        self.socket.emit('notify', msg, namespace='/markets', room=self.sid)\n",
    "\n",
    "    self.browser.get(url)\n",
    "    \n",
    "    next_btn = self.browser.find_element_by_css_selector('#site_content div.ui-pagination-body .ui-pagination-next')\n",
    "    if 'ui-pagination-disabled' in next_btn.get_attribute('class'):\n",
    "        self.has_next_page = False\n",
    "    else:\n",
    "        self.has_next_page = True\n",
    "    \n",
    "    sl_last_product_img = '#products-container ul:last-child li.last-product .product-img img'\n",
    "    sl_uls = '#products-container ul'\n",
    "    # actions = ActionChains(self.browser)\n",
    "    for ul in self.browser.find_elements(*(By.CSS_SELECTOR, sl_uls)):\n",
    "        # actions.move_to_element(ul).perform()\n",
    "        self.browser.execute_script(\"arguments[0].scrollIntoView();\", ul)\n",
    "        \n",
    "crawler.next_page = types.MethodType(next_page, crawler)"
   ]
  },
  {
   "cell_type": "code",
   "execution_count": 6,
   "metadata": {},
   "outputs": [],
   "source": [
    "result = crawler.start()"
   ]
  },
  {
   "cell_type": "code",
   "execution_count": null,
   "metadata": {},
   "outputs": [],
   "source": [
    "result"
   ]
  },
  {
   "cell_type": "code",
   "execution_count": null,
   "metadata": {},
   "outputs": [],
   "source": []
  },
  {
   "cell_type": "code",
   "execution_count": null,
   "metadata": {},
   "outputs": [],
   "source": []
  }
 ],
 "metadata": {
  "kernelspec": {
   "display_name": "Python 3",
   "language": "python",
   "name": "python3"
  },
  "language_info": {
   "codemirror_mode": {
    "name": "ipython",
    "version": 3
   },
   "file_extension": ".py",
   "mimetype": "text/x-python",
   "name": "python",
   "nbconvert_exporter": "python",
   "pygments_lexer": "ipython3",
   "version": "3.6.6"
  }
 },
 "nbformat": 4,
 "nbformat_minor": 2
}
