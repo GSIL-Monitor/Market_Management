{
 "cells": [
  {
   "cell_type": "code",
   "execution_count": null,
   "metadata": {},
   "outputs": [],
   "source": [
    "from libs.alibaba.alibaba import Alibaba\n",
    "from libs.alibaba.p4p import P4P\n",
    "from libs.json import JSON\n",
    "\n",
    "from selenium import webdriver\n",
    "from selenium.webdriver.common.keys import Keys\n",
    "from selenium.webdriver.support.ui import WebDriverWait\n",
    "from selenium.webdriver.support import expected_conditions as EC\n",
    "from selenium.common.exceptions import WebDriverException\n",
    "from selenium.common.exceptions import TimeoutException\n",
    "from selenium.common.exceptions import NoSuchElementException\n",
    "from selenium.common.exceptions import StaleElementReferenceException\n",
    "from selenium.webdriver.common.by import By\n",
    "from selenium.webdriver.common.action_chains import ActionChains\n",
    "from datetime import datetime\n",
    "from bs4 import BeautifulSoup\n",
    "from pyquery import PyQuery as pq\n",
    "\n",
    "import pendulum\n",
    "import arrow\n",
    "import imp\n",
    "import time\n",
    "import re\n",
    "\n",
    "import types\n",
    "import traceback \n",
    "import threading"
   ]
  },
  {
   "cell_type": "code",
   "execution_count": null,
   "metadata": {},
   "outputs": [],
   "source": []
  },
  {
   "cell_type": "code",
   "execution_count": 3,
   "metadata": {},
   "outputs": [
    {
     "name": "stdout",
     "output_type": "stream",
     "text": [
      ". storage markets.json\n",
      ".\\storage\\markets.json was deserialized!\n",
      "E:\\glitter\\Eyelashes_config [] p4p_keywords_list_recording.json\n",
      "E:\\glitter\\Eyelashes_config\\p4p_keywords_list_recording.json was deserialized!\n",
      "E:\\glitter\\Eyelashes_config [] p4p_keywords_list_monitor.json\n",
      "E:\\glitter\\Eyelashes_config\\p4p_keywords_list_monitor.json was deserialized!\n"
     ]
    }
   ],
   "source": [
    "market = JSON.deserialize('.', 'storage', 'markets.json')['Eyelashes']\n",
    "p4p = P4P(market, market['lid'], market['lpwd'])"
   ]
  },
  {
   "cell_type": "code",
   "execution_count": 4,
   "metadata": {},
   "outputs": [],
   "source": [
    "def monitor(self, group='all', tid=None, socketio=None, tasks=None):\n",
    "    if tid:\n",
    "        tasks[tid]['is_running'] = True\n",
    "        msg = {'name': 'P4P.monitor', 'tid': tid, 'group': group, 'is_last_run': tasks[tid]['is_last_run']}\n",
    "        socketio.emit('event_task_start_running', msg, namespace='/markets', broadcast=True)\n",
    "\n",
    "    try:\n",
    "        print('Task Monitor start to run with group=\"' + group + '\"')\n",
    "        keywords = []\n",
    "        # self.load_keywords('monitor')\n",
    "        if tid:\n",
    "            tasks[tid]['progress'] = 1\n",
    "            socketio.emit('event_task_progress', {'tid': tid, 'progress': 1}, namespace='/markets', broadcast=True)\n",
    "        with self.lock:\n",
    "            self.load_url()\n",
    "            if tid:\n",
    "                tasks[tid]['progress'] = 2\n",
    "                socketio.emit('event_task_progress', {'tid': tid, 'progress': 2}, namespace='/markets',\n",
    "                              broadcast=True)\n",
    "            # all_kws_count = int(self.browser.find_element_by_css_selector('a.all-kwcount span').text)\n",
    "            print('switch to group:', group)\n",
    "            all_kws_count = self.switch_to_group(group)\n",
    "            #             time.sleep(5)\n",
    "            kws_count = 0\n",
    "            while True:\n",
    "                css_selector = \"div.keyword-manage .bp-table-main-wraper>table\"\n",
    "                table = self.browser.find_element_by_css_selector(css_selector)\n",
    "\n",
    "                trs = table.find_elements_by_css_selector('tbody tr')\n",
    "\n",
    "                has_checked = False\n",
    "                for idx, tr in enumerate(trs):\n",
    "                    kws_count += 1\n",
    "                    if tid:\n",
    "                        tasks[tid]['progress'] = int(kws_count / all_kws_count * 97) + 3\n",
    "                        socketio.emit('event_task_progress', {'tid': tid, 'progress': tasks[tid]['progress']},\n",
    "                                      namespace='/markets', broadcast=True)\n",
    "\n",
    "                    print('index:', idx, len(trs), end=' > ')\n",
    "                    ActionChains(self.browser).move_to_element(tr).perform()\n",
    "                    id = tr.find_element_by_css_selector('td:first-child input').get_attribute('value').strip()\n",
    "                    # if id not in self.keywords_list['monitor']:\n",
    "                    #     print('skipped_not_in_monitoring')\n",
    "                    #     continue\n",
    "\n",
    "                    grp = tr.find_element_by_css_selector('td:nth-child(4)').text.strip()\n",
    "                    if group != 'all':\n",
    "                        if group not in grp:\n",
    "                            print('skipped_not_in_group', group, grp)\n",
    "                            continue\n",
    "\n",
    "                    dt = datetime.now().strftime('%Y-%m-%d %H:%M:%S')\n",
    "                    kws = tr.find_element_by_css_selector('td:nth-child(3)').text.strip()\n",
    "\n",
    "                    print(kws, end=' > ')\n",
    "\n",
    "                    if not self.open_price_dialog(tr):\n",
    "                        print('skipped_2')\n",
    "                        continue\n",
    "\n",
    "                    [prices, sponsors] = self.find_prices_and_sponsors(close=False)\n",
    "\n",
    "                    if prices:\n",
    "                        keywords.append([dt, id, kws, grp, prices, sponsors])\n",
    "\n",
    "                    current_position = self.find_sponsor_list_position(sponsors=sponsors['sponsor_list'])\n",
    "                    click_position = self.get_click_position(id, current_position)\n",
    "\n",
    "                    if click_position != -1:\n",
    "                        self.set_price(position=click_position)\n",
    "                    else:\n",
    "                        webdriver.ActionChains(self.browser).send_keys(Keys.ESCAPE).perform()\n",
    "\n",
    "                    WebDriverWait(self.browser, 15).until(\n",
    "                        EC.invisibility_of_element_located((By.CSS_SELECTOR, 'div.ui-mask')))\n",
    "\n",
    "                    if not self.is_on(tr):\n",
    "                        print('make selected', end=\" > \")\n",
    "                        tr.find_element_by_css_selector(\"td:first-child input\").click()\n",
    "                        has_checked = True\n",
    "\n",
    "                    print(' >>>>>> successful end ')\n",
    "\n",
    "                if has_checked:\n",
    "                    css_selector = '.bp-table .toolbar a[data-role=\"btn-start\"]'\n",
    "                    btn_start = self.browser.find_element_by_css_selector(css_selector)\n",
    "                    self.click(btn_start)\n",
    "                    print('switch selected on.')\n",
    "\n",
    "                    self.browser.implicitly_wait(1)\n",
    "                    WebDriverWait(self.browser, 15).until(\n",
    "                        EC.invisibility_of_element_located((By.CSS_SELECTOR, 'div.bp-loading-panel')))\n",
    "\n",
    "                if not self.next_page():\n",
    "                    break\n",
    "\n",
    "        if keywords:\n",
    "            self.save_crawling_result(keywords)\n",
    "        if tid:\n",
    "            tasks[tid]['progress'] = 100\n",
    "            socketio.emit('event_task_progress', {'tid': tid, 'progress': 100}, namespace='/markets',\n",
    "                          broadcast=True)\n",
    "    except Exception as e:\n",
    "        print('Error: ', e)\n",
    "        traceback.print_exc()\n",
    "    finally:\n",
    "        if tid:\n",
    "            tasks[tid]['is_running'] = False\n",
    "            tasks[tid]['progress'] = 0\n",
    "            if tasks[tid]['is_last_run']:\n",
    "                del tasks[tid]\n",
    "                socketio.emit('event_task_last_run_finished', {'tid': tid}, namespace='/markets', broadcast=True)\n",
    "\n",
    "p4p.monitor = types.MethodType(monitor, p4p)"
   ]
  },
  {
   "cell_type": "code",
   "execution_count": 8,
   "metadata": {},
   "outputs": [],
   "source": [
    "p4p.browser.set_window_size(1920, 1200)"
   ]
  },
  {
   "cell_type": "code",
   "execution_count": null,
   "metadata": {},
   "outputs": [],
   "source": [
    "p4p.browser.save_screenshot('screenie.png')"
   ]
  },
  {
   "cell_type": "code",
   "execution_count": 9,
   "metadata": {},
   "outputs": [],
   "source": [
    "group = '直通车App'"
   ]
  },
  {
   "cell_type": "code",
   "execution_count": 6,
   "metadata": {},
   "outputs": [
    {
     "name": "stdout",
     "output_type": "stream",
     "text": [
      "primary 打开网址：https://i.alibaba.com\n",
      "primary 等待登陆页面加载 ... ...\n",
      "primary 输入登录信息， 并登录\n",
      "success 成功 登录 阿里巴巴 国际站！用户名：Jeremy\n"
     ]
    },
    {
     "ename": "NameError",
     "evalue": "name 'group' is not defined",
     "output_type": "error",
     "traceback": [
      "\u001b[1;31m---------------------------------------------------------------------------\u001b[0m",
      "\u001b[1;31mNameError\u001b[0m                                 Traceback (most recent call last)",
      "\u001b[1;32m<ipython-input-6-58f487013695>\u001b[0m in \u001b[0;36m<module>\u001b[1;34m()\u001b[0m\n\u001b[0;32m      1\u001b[0m \u001b[0mp4p\u001b[0m\u001b[1;33m.\u001b[0m\u001b[0mload_url\u001b[0m\u001b[1;33m(\u001b[0m\u001b[1;33m)\u001b[0m\u001b[1;33m\u001b[0m\u001b[0m\n\u001b[1;32m----> 2\u001b[1;33m \u001b[0mp4p\u001b[0m\u001b[1;33m.\u001b[0m\u001b[0mswitch_to_group\u001b[0m\u001b[1;33m(\u001b[0m\u001b[0mgroup\u001b[0m\u001b[1;33m)\u001b[0m\u001b[1;33m\u001b[0m\u001b[0m\n\u001b[0m",
      "\u001b[1;31mNameError\u001b[0m: name 'group' is not defined"
     ]
    }
   ],
   "source": [
    "p4p.load_url()\n",
    "p4p.switch_to_group(group)"
   ]
  },
  {
   "cell_type": "code",
   "execution_count": 12,
   "metadata": {},
   "outputs": [
    {
     "name": "stdout",
     "output_type": "stream",
     "text": [
      "index: 0 8 > flare eyelash >  >>>>>> successful end \n",
      "index: 1 8 > flare eyelash extension >  >>>>>> successful end \n",
      "index: 2 8 > magnetic eyelashes >  >>>>>> successful end \n",
      "index: 3 8 > silk eyelashes >  >>>>>> successful end \n",
      "index: 4 8 > strip eyelash >  >>>>>> successful end \n",
      "index: 5 8 > synthetic eyelashes >  >>>>>> successful end \n",
      "index: 6 8 > volume eyelash >  >>>>>> successful end \n",
      "index: 7 8 > volume eyelash extension >  >>>>>> successful end \n",
      "next_page: False\n"
     ]
    }
   ],
   "source": [
    "p4p.crawl(group=group)"
   ]
  },
  {
   "cell_type": "code",
   "execution_count": 10,
   "metadata": {},
   "outputs": [
    {
     "name": "stdout",
     "output_type": "stream",
     "text": [
      "Task Monitor start to run with group=\"直通车App\"\n",
      "switch to group: 直通车App\n",
      "index: 0 8 > flare eyelash >  >>>>>> successful end \n",
      "index: 1 8 > flare eyelash extension >  >>>>>> successful end \n",
      "index: 2 8 > magnetic eyelashes > make selected >  >>>>>> successful end \n",
      "index: 3 8 > silk eyelashes > make selected >  >>>>>> successful end \n",
      "index: 4 8 > strip eyelash > make selected >  >>>>>> successful end \n",
      "index: 5 8 > synthetic eyelashes > make selected >  >>>>>> successful end \n",
      "index: 6 8 > volume eyelash >  >>>>>> successful end \n",
      "index: 7 8 > volume eyelash extension >  >>>>>> successful end \n",
      "switch selected on.\n",
      "next_page: False\n"
     ]
    }
   ],
   "source": [
    "p4p.monitor(group=group)"
   ]
  },
  {
   "cell_type": "code",
   "execution_count": 11,
   "metadata": {},
   "outputs": [
    {
     "name": "stdout",
     "output_type": "stream",
     "text": [
      "next_page: False\n"
     ]
    }
   ],
   "source": [
    "p4p.turn_all_off(group=group)"
   ]
  },
  {
   "cell_type": "code",
   "execution_count": null,
   "metadata": {},
   "outputs": [],
   "source": []
  },
  {
   "cell_type": "code",
   "execution_count": null,
   "metadata": {},
   "outputs": [],
   "source": []
  },
  {
   "cell_type": "code",
   "execution_count": null,
   "metadata": {
    "scrolled": true
   },
   "outputs": [],
   "source": []
  },
  {
   "cell_type": "code",
   "execution_count": null,
   "metadata": {},
   "outputs": [],
   "source": [
    "p4p.kws_tracking"
   ]
  },
  {
   "cell_type": "code",
   "execution_count": null,
   "metadata": {},
   "outputs": [],
   "source": []
  },
  {
   "cell_type": "code",
   "execution_count": null,
   "metadata": {},
   "outputs": [],
   "source": [
    "# p4p.load_url()\n",
    "\n",
    "# css_selector = \"div.keyword-manage .bp-table-main-wraper>table\"\n",
    "# table = p4p.browser.find_element_by_css_selector(css_selector)\n",
    "# trs = table.find_elements_by_css_selector('tbody tr')\n",
    "# idx = 1\n",
    "# for tr in trs:\n",
    "#     print()\n",
    "#     print(idx, end=': ')\n",
    "#     idx += 1\n",
    "    \n",
    "#     kws = tr.find_element_by_css_selector('td:nth-child(3)').text.strip()\n",
    "#     print(kws, end=\": \")\n",
    "        \n",
    "#     if not p4p.open_price_dialog(tr):\n",
    "#         print('skipped_2')\n",
    "#         idx += 1\n",
    "#         continue\n",
    "        \n",
    "#     [prices, sponsors] = p4p.find_prices_and_sponsors()\n",
    "#     print(prices, sponsors)\n",
    "#     if idx > 10:\n",
    "#         break"
   ]
  },
  {
   "cell_type": "code",
   "execution_count": null,
   "metadata": {},
   "outputs": [],
   "source": [
    "tr = trs[8]\n",
    "kws = tr.find_element_by_css_selector('td:nth-child(3)').text.strip()\n",
    "print(kws, end=\": \")\n",
    "\n",
    "if not p4p.open_price_dialog(tr):\n",
    "    print('skipped_2')\n",
    "else:\n",
    "#     time.sleep(1)\n",
    "    prices = p4p.find_prices()"
   ]
  },
  {
   "cell_type": "code",
   "execution_count": null,
   "metadata": {},
   "outputs": [],
   "source": []
  },
  {
   "cell_type": "code",
   "execution_count": null,
   "metadata": {},
   "outputs": [],
   "source": []
  },
  {
   "cell_type": "code",
   "execution_count": null,
   "metadata": {},
   "outputs": [],
   "source": [
    "market = JSON.deserialize('.', 'storage', 'markets.json')['Tools']"
   ]
  },
  {
   "cell_type": "code",
   "execution_count": null,
   "metadata": {},
   "outputs": [],
   "source": []
  },
  {
   "cell_type": "code",
   "execution_count": null,
   "metadata": {},
   "outputs": [],
   "source": []
  },
  {
   "cell_type": "code",
   "execution_count": null,
   "metadata": {},
   "outputs": [],
   "source": [
    "p4p.find_sponsor_list_position(kws='strip eyelash')"
   ]
  },
  {
   "cell_type": "code",
   "execution_count": null,
   "metadata": {},
   "outputs": [],
   "source": []
  },
  {
   "cell_type": "code",
   "execution_count": null,
   "metadata": {},
   "outputs": [],
   "source": [
    "group = '直通车App'"
   ]
  },
  {
   "cell_type": "code",
   "execution_count": null,
   "metadata": {},
   "outputs": [],
   "source": [
    "p4p.monitor(group=group)"
   ]
  },
  {
   "cell_type": "code",
   "execution_count": null,
   "metadata": {},
   "outputs": [],
   "source": [
    "p4p.kws_tracking = {}"
   ]
  },
  {
   "cell_type": "code",
   "execution_count": null,
   "metadata": {},
   "outputs": [],
   "source": [
    "p4p.turn_all_off(group=group)"
   ]
  },
  {
   "cell_type": "code",
   "execution_count": null,
   "metadata": {},
   "outputs": [],
   "source": [
    "text = \"adsf\""
   ]
  },
  {
   "cell_type": "code",
   "execution_count": null,
   "metadata": {},
   "outputs": [],
   "source": [
    "a,b = text.split(' ')"
   ]
  },
  {
   "cell_type": "code",
   "execution_count": null,
   "metadata": {},
   "outputs": [],
   "source": []
  },
  {
   "cell_type": "code",
   "execution_count": null,
   "metadata": {},
   "outputs": [],
   "source": []
  }
 ],
 "metadata": {
  "kernelspec": {
   "display_name": "Python 3",
   "language": "python",
   "name": "python3"
  },
  "language_info": {
   "codemirror_mode": {
    "name": "ipython",
    "version": 3
   },
   "file_extension": ".py",
   "mimetype": "text/x-python",
   "name": "python",
   "nbconvert_exporter": "python",
   "pygments_lexer": "ipython3",
   "version": "3.6.5"
  }
 },
 "nbformat": 4,
 "nbformat_minor": 2
}
