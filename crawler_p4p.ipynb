{
 "cells": [
  {
   "cell_type": "code",
   "execution_count": 5,
   "metadata": {},
   "outputs": [],
   "source": [
    "from libs.alibaba.alibaba import Alibaba\n",
    "from libs.alibaba.p4p import P4P\n",
    "from libs.json import JSON\n",
    "\n",
    "from selenium import webdriver\n",
    "from selenium.webdriver.common.keys import Keys\n",
    "from selenium.webdriver.support.ui import WebDriverWait\n",
    "from selenium.webdriver.support import expected_conditions as EC\n",
    "from selenium.common.exceptions import WebDriverException\n",
    "from selenium.common.exceptions import TimeoutException\n",
    "from selenium.common.exceptions import NoSuchElementException\n",
    "from selenium.common.exceptions import StaleElementReferenceException\n",
    "from selenium.webdriver.common.by import By\n",
    "from selenium.webdriver.common.action_chains import ActionChains\n",
    "from datetime import datetime\n",
    "from bs4 import BeautifulSoup\n",
    "from pyquery import PyQuery as pq\n",
    "\n",
    "import pendulum\n",
    "import arrow\n",
    "import imp\n",
    "import time\n",
    "import re\n",
    "\n",
    "import types\n",
    "import traceback \n",
    "import threading"
   ]
  },
  {
   "cell_type": "code",
   "execution_count": 6,
   "metadata": {},
   "outputs": [],
   "source": [
    "class socketio(object):\n",
    "    @classmethod\n",
    "    def emit(msg, msg1, msg2, **kw):\n",
    "        print(msg1, msg2)"
   ]
  },
  {
   "cell_type": "code",
   "execution_count": 7,
   "metadata": {},
   "outputs": [
    {
     "name": "stdout",
     "output_type": "stream",
     "text": [
      ". storage markets.json\n",
      ".\\storage\\markets.json was deserialized!\n",
      "E:\\glitter\\Eyelashes_config [] p4p_keywords_list_recording.json\n",
      "E:\\glitter\\Eyelashes_config\\p4p_keywords_list_recording.json was deserialized!\n",
      "E:\\glitter\\Eyelashes_config [] p4p_keywords_list_monitor.json\n",
      "E:\\glitter\\Eyelashes_config\\p4p_keywords_list_monitor.json was deserialized!\n"
     ]
    }
   ],
   "source": [
    "market = JSON.deserialize('.', 'storage', 'markets.json')['Eyelashes']\n",
    "p4p = P4P(market, market['lid'], market['lpwd'], socketio)"
   ]
  },
  {
   "cell_type": "code",
   "execution_count": null,
   "metadata": {},
   "outputs": [],
   "source": [
    "def find_sponsor_list_position(self, kws=None, sponsors=None):\n",
    "    if not kws and not sponsors:\n",
    "        raise Exception('kws and sponsors can\\'t be None at the same time')\n",
    "\n",
    "    if kws:\n",
    "        sponsors = self.find_sponsors(kws)\n",
    "        sponsor_list = sponsors['sponsor_list']\n",
    "    elif sponsors:\n",
    "        sponsor_list = sponsors\n",
    "\n",
    "    idx = -1\n",
    "    count = 0\n",
    "    homepage = re.search('([^\\/]+\\.en\\.alibaba\\.com)', market['homepage']).group(1)\n",
    "    for sponsor in sponsor_list:\n",
    "        count += 1\n",
    "        if homepage in sponsor['url']:\n",
    "            idx = count\n",
    "            break\n",
    "    return idx\n",
    "p4p.find_sponsor_list_position = types.MethodType(find_sponsor_list_position, p4p)"
   ]
  },
  {
   "cell_type": "code",
   "execution_count": null,
   "metadata": {},
   "outputs": [],
   "source": []
  },
  {
   "cell_type": "code",
   "execution_count": 8,
   "metadata": {},
   "outputs": [],
   "source": [
    "group = '直通车App'"
   ]
  },
  {
   "cell_type": "code",
   "execution_count": null,
   "metadata": {},
   "outputs": [],
   "source": [
    "p4p.load_url()\n",
    "p4p.switch_to_group(group)"
   ]
  },
  {
   "cell_type": "code",
   "execution_count": null,
   "metadata": {},
   "outputs": [],
   "source": [
    "p4p.crawl(group=group)"
   ]
  },
  {
   "cell_type": "code",
   "execution_count": 14,
   "metadata": {},
   "outputs": [
    {
     "name": "stdout",
     "output_type": "stream",
     "text": [
      "Task Monitor start to run with group=\"直通车App\"\n",
      "E:\\glitter\\Eyelashes_config [] p4p_keywords_list_monitor.json\n",
      "E:\\glitter\\Eyelashes_config\\p4p_keywords_list_monitor.json was deserialized!\n",
      "switch to group: 直通车App\n",
      "index: 0 6 > eyelash extension >  >>>>>> successful end \n",
      "index: 1 6 > magnetic eyelashes > 不需要改变价格 >  >>>>>> successful end \n",
      "index: 2 6 > mink eyelashes > 不需要改变价格 >  >>>>>> successful end \n",
      "index: 3 6 > silk eyelashes > 不需要改变价格 >  >>>>>> successful end \n",
      "index: 4 6 > strip eyelash > 不需要改变价格 >  >>>>>> successful end \n",
      "index: 5 6 > synthetic eyelashes > 不需要改变价格 >  >>>>>> successful end \n",
      "next_page: False\n"
     ]
    }
   ],
   "source": [
    "p4p.monitor(group=group)"
   ]
  },
  {
   "cell_type": "code",
   "execution_count": 15,
   "metadata": {},
   "outputs": [
    {
     "name": "stdout",
     "output_type": "stream",
     "text": [
      "next_page: False\n"
     ]
    }
   ],
   "source": [
    "p4p.turn_all_off(group=group)"
   ]
  },
  {
   "cell_type": "code",
   "execution_count": null,
   "metadata": {},
   "outputs": [],
   "source": []
  },
  {
   "cell_type": "code",
   "execution_count": null,
   "metadata": {},
   "outputs": [],
   "source": []
  },
  {
   "cell_type": "code",
   "execution_count": null,
   "metadata": {
    "scrolled": true
   },
   "outputs": [],
   "source": []
  },
  {
   "cell_type": "code",
   "execution_count": 13,
   "metadata": {},
   "outputs": [
    {
     "data": {
      "text/plain": [
       "{'77942874890': {'position': [5,\n",
       "   DateTime(2018, 7, 14, 23, 35, 52, 85573, tzinfo=Timezone('Asia/Shanghai')),\n",
       "   False]},\n",
       " '77942874811': {'position': [5,\n",
       "   DateTime(2018, 7, 14, 23, 35, 53, 911023, tzinfo=Timezone('Asia/Shanghai')),\n",
       "   False]},\n",
       " '77942874926': {'position': [5,\n",
       "   DateTime(2018, 7, 14, 23, 35, 55, 765328, tzinfo=Timezone('Asia/Shanghai')),\n",
       "   False]},\n",
       " '77942874814': {'position': [5,\n",
       "   DateTime(2018, 7, 14, 23, 35, 57, 592542, tzinfo=Timezone('Asia/Shanghai')),\n",
       "   False]},\n",
       " '77942874823': {'position': [5,\n",
       "   DateTime(2018, 7, 14, 23, 35, 59, 302109, tzinfo=Timezone('Asia/Shanghai')),\n",
       "   False]},\n",
       " '77942874901': {'position': [5,\n",
       "   DateTime(2018, 7, 14, 23, 36, 1, 396102, tzinfo=Timezone('Asia/Shanghai')),\n",
       "   False]}}"
      ]
     },
     "execution_count": 13,
     "metadata": {},
     "output_type": "execute_result"
    }
   ],
   "source": [
    "p4p.kws_tracking"
   ]
  },
  {
   "cell_type": "code",
   "execution_count": null,
   "metadata": {},
   "outputs": [],
   "source": []
  },
  {
   "cell_type": "code",
   "execution_count": null,
   "metadata": {},
   "outputs": [],
   "source": [
    "# p4p.load_url()\n",
    "\n",
    "# css_selector = \"div.keyword-manage .bp-table-main-wraper>table\"\n",
    "# table = p4p.browser.find_element_by_css_selector(css_selector)\n",
    "# trs = table.find_elements_by_css_selector('tbody tr')\n",
    "# idx = 1\n",
    "# for tr in trs:\n",
    "#     print()\n",
    "#     print(idx, end=': ')\n",
    "#     idx += 1\n",
    "    \n",
    "#     kws = tr.find_element_by_css_selector('td:nth-child(3)').text.strip()\n",
    "#     print(kws, end=\": \")\n",
    "        \n",
    "#     if not p4p.open_price_dialog(tr):\n",
    "#         print('skipped_2')\n",
    "#         idx += 1\n",
    "#         continue\n",
    "        \n",
    "#     [prices, sponsors] = p4p.find_prices_and_sponsors()\n",
    "#     print(prices, sponsors)\n",
    "#     if idx > 10:\n",
    "#         break"
   ]
  },
  {
   "cell_type": "code",
   "execution_count": null,
   "metadata": {},
   "outputs": [],
   "source": [
    "tr = trs[8]\n",
    "kws = tr.find_element_by_css_selector('td:nth-child(3)').text.strip()\n",
    "print(kws, end=\": \")\n",
    "\n",
    "if not p4p.open_price_dialog(tr):\n",
    "    print('skipped_2')\n",
    "else:\n",
    "#     time.sleep(1)\n",
    "    prices = p4p.find_prices()"
   ]
  },
  {
   "cell_type": "code",
   "execution_count": null,
   "metadata": {},
   "outputs": [],
   "source": []
  },
  {
   "cell_type": "code",
   "execution_count": null,
   "metadata": {},
   "outputs": [],
   "source": []
  },
  {
   "cell_type": "code",
   "execution_count": null,
   "metadata": {},
   "outputs": [],
   "source": [
    "market = JSON.deserialize('.', 'storage', 'markets.json')['Tools']"
   ]
  },
  {
   "cell_type": "code",
   "execution_count": null,
   "metadata": {},
   "outputs": [],
   "source": []
  },
  {
   "cell_type": "code",
   "execution_count": null,
   "metadata": {},
   "outputs": [],
   "source": []
  },
  {
   "cell_type": "code",
   "execution_count": null,
   "metadata": {},
   "outputs": [],
   "source": [
    "p4p.find_sponsor_list_position(kws='strip eyelash')"
   ]
  },
  {
   "cell_type": "code",
   "execution_count": null,
   "metadata": {},
   "outputs": [],
   "source": []
  },
  {
   "cell_type": "code",
   "execution_count": null,
   "metadata": {},
   "outputs": [],
   "source": []
  },
  {
   "cell_type": "code",
   "execution_count": null,
   "metadata": {},
   "outputs": [],
   "source": [
    "import pendulum"
   ]
  },
  {
   "cell_type": "code",
   "execution_count": null,
   "metadata": {},
   "outputs": [],
   "source": [
    "pendulum.now()"
   ]
  },
  {
   "cell_type": "code",
   "execution_count": null,
   "metadata": {},
   "outputs": [],
   "source": []
  },
  {
   "cell_type": "code",
   "execution_count": 1,
   "metadata": {},
   "outputs": [],
   "source": [
    "text = \"adsf\""
   ]
  },
  {
   "cell_type": "code",
   "execution_count": 2,
   "metadata": {},
   "outputs": [
    {
     "ename": "ValueError",
     "evalue": "not enough values to unpack (expected 2, got 1)",
     "output_type": "error",
     "traceback": [
      "\u001b[1;31m---------------------------------------------------------------------------\u001b[0m",
      "\u001b[1;31mValueError\u001b[0m                                Traceback (most recent call last)",
      "\u001b[1;32m<ipython-input-2-b34e3464a112>\u001b[0m in \u001b[0;36m<module>\u001b[1;34m()\u001b[0m\n\u001b[1;32m----> 1\u001b[1;33m \u001b[0ma\u001b[0m\u001b[1;33m,\u001b[0m\u001b[0mb\u001b[0m \u001b[1;33m=\u001b[0m \u001b[0mtext\u001b[0m\u001b[1;33m.\u001b[0m\u001b[0msplit\u001b[0m\u001b[1;33m(\u001b[0m\u001b[1;34m' '\u001b[0m\u001b[1;33m)\u001b[0m\u001b[1;33m\u001b[0m\u001b[0m\n\u001b[0m",
      "\u001b[1;31mValueError\u001b[0m: not enough values to unpack (expected 2, got 1)"
     ]
    }
   ],
   "source": [
    "a,b = text.split(' ')"
   ]
  },
  {
   "cell_type": "code",
   "execution_count": null,
   "metadata": {},
   "outputs": [],
   "source": []
  },
  {
   "cell_type": "code",
   "execution_count": null,
   "metadata": {},
   "outputs": [],
   "source": []
  }
 ],
 "metadata": {
  "kernelspec": {
   "display_name": "Python 3",
   "language": "python",
   "name": "python3"
  },
  "language_info": {
   "codemirror_mode": {
    "name": "ipython",
    "version": 3
   },
   "file_extension": ".py",
   "mimetype": "text/x-python",
   "name": "python",
   "nbconvert_exporter": "python",
   "pygments_lexer": "ipython3",
   "version": "3.6.5"
  }
 },
 "nbformat": 4,
 "nbformat_minor": 2
}
