{
 "cells": [
  {
   "cell_type": "code",
   "execution_count": 1,
   "metadata": {},
   "outputs": [],
   "source": [
    "from libs.alibaba.alibaba import Alibaba\n",
    "from libs.alibaba.p4p import P4P\n",
    "from libs.json import JSON\n",
    "\n",
    "from selenium import webdriver\n",
    "from selenium.webdriver.common.keys import Keys\n",
    "from selenium.webdriver.support.ui import WebDriverWait\n",
    "from selenium.webdriver.support import expected_conditions as EC\n",
    "from selenium.common.exceptions import WebDriverException\n",
    "from selenium.common.exceptions import TimeoutException\n",
    "from selenium.common.exceptions import NoSuchElementException\n",
    "from selenium.common.exceptions import StaleElementReferenceException\n",
    "from selenium.webdriver.common.by import By\n",
    "from selenium.webdriver.common.action_chains import ActionChains\n",
    "from datetime import datetime\n",
    "from bs4 import BeautifulSoup\n",
    "from pyquery import PyQuery as pq\n",
    "\n",
    "import redis\n",
    "import pendulum\n",
    "import arrow\n",
    "import imp\n",
    "import time\n",
    "import re\n",
    "\n",
    "import types\n",
    "import traceback \n",
    "import threading"
   ]
  },
  {
   "cell_type": "code",
   "execution_count": null,
   "metadata": {},
   "outputs": [],
   "source": []
  },
  {
   "cell_type": "code",
   "execution_count": 2,
   "metadata": {},
   "outputs": [
    {
     "name": "stdout",
     "output_type": "stream",
     "text": [
      ". storage markets.json\n",
      ".\\storage\\markets.json was deserialized!\n",
      "E:\\glitter\\Eyelashes_config [] p4p_keywords_list_recording.json\n",
      "E:\\glitter\\Eyelashes_config\\p4p_keywords_list_recording.json was deserialized!\n",
      "E:\\glitter\\Eyelashes_config [] p4p_keywords_list_monitor.json\n",
      "E:\\glitter\\Eyelashes_config\\p4p_keywords_list_monitor.json was deserialized!\n"
     ]
    }
   ],
   "source": [
    "broker_url = 'redis://localhost:6379/0'\n",
    "market = JSON.deserialize('.', 'storage', 'markets.json')['Eyelashes']\n",
    "p4p = P4P(market, market['lid'], market['lpwd'],broker_url=broker_url, headless=False)"
   ]
  },
  {
   "cell_type": "code",
   "execution_count": 12,
   "metadata": {},
   "outputs": [],
   "source": [
    "def crawl(self, group=\"all\"):\n",
    "\n",
    "    try:\n",
    "        keywords = []\n",
    "        # self.load_keywords('recording')\n",
    "        with self.lock:\n",
    "            self.load_url()\n",
    "            # all_kws_count = int(self.browser.find_element_by_css_selector('a.all-kwcount span').text)\n",
    "            all_kws_count = self.switch_to_group(group)\n",
    "\n",
    "            kws_count = 0\n",
    "            while True:\n",
    "                css_selector = \"div.keyword-manage .bp-table-main-wraper>table\"\n",
    "                table = self.browser.find_element_by_css_selector(css_selector)\n",
    "\n",
    "                trs = table.find_elements_by_css_selector('tbody tr')\n",
    "\n",
    "                has_checked = False\n",
    "                for idx, tr in enumerate(trs):\n",
    "                    kws_count += 1\n",
    "\n",
    "                    print('index:', idx, len(trs), end=' > ')\n",
    "                    ActionChains(self.browser).move_to_element(tr).perform()\n",
    "                    id = tr.find_element_by_css_selector('td:first-child input').get_attribute('value').strip()\n",
    "                    # if id not in self.keywords_list['recording']:\n",
    "                    #     print('skipped_not_in_recording')\n",
    "                    #     continue\n",
    "\n",
    "                    grp = tr.find_element_by_css_selector('td:nth-child(4)').text.strip()\n",
    "                    if group != 'all':\n",
    "                        if group not in grp:\n",
    "                            print('skipped_not_in_group', group, grp)\n",
    "                            continue\n",
    "\n",
    "                    dt = datetime.now().strftime('%Y-%m-%d %H:%M:%S')\n",
    "                    kws = tr.find_element_by_css_selector('td:nth-child(3)').text.strip()\n",
    "\n",
    "                    print(kws, end=' > ')\n",
    "\n",
    "                    if not self.open_price_dialog(tr):\n",
    "                        print('skipped_2')\n",
    "                        continue\n",
    "\n",
    "                    [prices, sponsors] = self.find_prices_and_sponsors()\n",
    "\n",
    "                    if prices:\n",
    "                        keywords.append([dt, id, kws, grp, prices, sponsors])\n",
    "\n",
    "                        if (id not in self.recent_prices):\n",
    "                            self.recent_prices[id] = []\n",
    "                        self.recent_prices[id].append(prices)\n",
    "                        if len(self.recent_prices[id]) > 5:\n",
    "                            self.recent_prices[id].pop(0)\n",
    "\n",
    "                    print(' >>>>>> successful end ')\n",
    "\n",
    "                if not self.next_page():\n",
    "                    break\n",
    "        if keywords:\n",
    "            print('==================================')\n",
    "            self.save_crawling_result(keywords)\n",
    "\n",
    "    except Exception as e:\n",
    "        print('Error: ', e)\n",
    "        traceback.print_exc()\n",
    "\n",
    "p4p.crawl = types.MethodType(crawl, p4p)"
   ]
  },
  {
   "cell_type": "code",
   "execution_count": 10,
   "metadata": {},
   "outputs": [],
   "source": [
    "def save_crawling_result(self, keywords):\n",
    "    root = self.market['directory'] + '_config'\n",
    "    date_str = keywords[0][0].split(' ')[0]\n",
    "    fn = 'p4p_keywords_crawl_result_'+date_str+'.json.gz'\n",
    "    print(fn, root)\n",
    "    JSON.serialize(keywords, root, [], fn, append=True)\n",
    "    \n",
    "p4p.save_crawling_result = types.MethodType(save_crawling_result, p4p)"
   ]
  },
  {
   "cell_type": "code",
   "execution_count": 20,
   "metadata": {},
   "outputs": [],
   "source": [
    "def find_prices_and_sponsors(self, close=True):\n",
    "    prices = []\n",
    "    sponsors = None\n",
    "\n",
    "    kws = self.browser.find_element_by_css_selector(\n",
    "        '.sc-manage-edit-price-dialog span[data-role=\"span-keyword\"]').text.strip()\n",
    "    sponsors = self.find_sponsors(kws)\n",
    "\n",
    "    while True:\n",
    "        try:\n",
    "            price_table_tbody_selector = \".sc-manage-edit-price-dialog table tbody,.sc-manage-edit-price-dialog p.util-clearfix\"\n",
    "            price_table_tbody = WebDriverWait(self.browser, 15).until(\n",
    "                EC.presence_of_element_located((By.CSS_SELECTOR, price_table_tbody_selector)))\n",
    "\n",
    "            if price_table_tbody.tag_name == 'p':\n",
    "                prices = None\n",
    "                break\n",
    "\n",
    "            for btn in price_table_tbody.find_elements_by_css_selector('a'):\n",
    "                price = btn.text.strip()\n",
    "                float(price)\n",
    "                prices.append(price)\n",
    "\n",
    "            self.check_balance()\n",
    "            break\n",
    "        except StaleElementReferenceException:\n",
    "            #             self.browser.implicitly_wait(0.5)\n",
    "            time.sleep(0.5)\n",
    "            continue\n",
    "        except ValueError:\n",
    "            prices = []\n",
    "            break\n",
    "    if close:\n",
    "        webdriver.ActionChains(self.browser).send_keys(Keys.ESCAPE).perform()\n",
    "    return [prices, sponsors]\n",
    "p4p.find_prices_and_sponsors = types.MethodType(find_prices_and_sponsors, p4p)"
   ]
  },
  {
   "cell_type": "code",
   "execution_count": 13,
   "metadata": {},
   "outputs": [],
   "source": [
    "def check_balance(self):\n",
    "    try:\n",
    "        balance = self.browser.find_element_by_css_selector(\n",
    "            '.sc-manage-edit-price-dialog span[data-role=\"span-balance\"]').text\n",
    "\n",
    "        if self.broker_url:\n",
    "            r = redis.StrictRedis.from_url(self.broker_url)\n",
    "            self.balance = r.getset(self.market['name']+'_p4p_balance', balance)\n",
    "            \n",
    "            if float(balance) == self.initial_balance or self.balance is None:\n",
    "                return\n",
    "            else:\n",
    "                self.balance = self.balance.decode()\n",
    "                print(self.initial_balance, self.balance, balance, balance != self.balance)\n",
    "                if self.balance != balance:\n",
    "                    diff = format(float(self.balance) - float(balance), '.2f')\n",
    "\n",
    "                    time_str = arrow.now().format('YYYY-MM-DD HH:mm:ss')\n",
    "                    date_str = time_str.split(' ')[0]\n",
    "                    root = self.market['directory'] + '_config'\n",
    "                    fn = 'p4p_balance_change_history_' + date_str + '.json.gz'\n",
    "                    JSON.serialize([time_str, diff], root, [], fn, append=True)\n",
    "        else:\n",
    "            if self.balance is None:\n",
    "                self.balance = balance\n",
    "            elif float(balance) == self.initial_balance:\n",
    "                return\n",
    "            elif self.balance != balance:\n",
    "                diff = format(float(self.balance) - float(balance), '.2f')\n",
    "                self.balance = balance\n",
    "\n",
    "                time_str = arrow.now().format('YYYY-MM-DD HH:mm:ss')\n",
    "                date_str = time_str.split(' ')[0]\n",
    "                root = self.market['directory'] + '_config'\n",
    "                fn = 'p4p_balance_change_history_'+date_str+'.json.gz'\n",
    "                JSON.serialize([time_str, diff], root, [], fn, append=True)\n",
    "    except Exception as e:\n",
    "        print(e)\n",
    "        traceback.print_exc()\n",
    "p4p.check_balance = types.MethodType(check_balance, p4p)"
   ]
  },
  {
   "cell_type": "code",
   "execution_count": null,
   "metadata": {},
   "outputs": [],
   "source": [
    "p4p.browser.set_window_size(1920, 1200)"
   ]
  },
  {
   "cell_type": "code",
   "execution_count": null,
   "metadata": {},
   "outputs": [],
   "source": [
    "p4p.browser.save_screenshot('screenie.png')"
   ]
  },
  {
   "cell_type": "code",
   "execution_count": 4,
   "metadata": {},
   "outputs": [],
   "source": [
    "group = '关注词'"
   ]
  },
  {
   "cell_type": "code",
   "execution_count": null,
   "metadata": {},
   "outputs": [],
   "source": [
    "p4p.load_url()\n",
    "p4p.switch_to_group(group)"
   ]
  },
  {
   "cell_type": "code",
   "execution_count": 15,
   "metadata": {},
   "outputs": [
    {
     "name": "stdout",
     "output_type": "stream",
     "text": [
      "index: 0 7 > 3d eyelash extension > 300 18.61 68.61 True\n",
      " >>>>>> successful end \n",
      "index: 1 7 > 3d faux mink eyelashes > 300 68.61 68.61 False\n",
      " >>>>>> successful end \n",
      "index: 2 7 > 3d mink eyelashes > 300 68.61 68.61 False\n",
      " >>>>>> successful end \n",
      "index: 3 7 > 3d silk eyelash > 300 68.61 68.61 False\n",
      " >>>>>> successful end \n",
      "index: 4 7 > eyelash extension > 300 68.61 68.61 False\n",
      " >>>>>> successful end \n",
      "index: 5 7 > eyelash extension factory > 300 68.61 68.61 False\n",
      " >>>>>> successful end \n",
      "index: 6 7 > mink eyelashes > 300 68.61 68.61 False\n",
      " >>>>>> successful end \n",
      "next_page: False\n"
     ]
    }
   ],
   "source": [
    "p4p.crawl(group=group)"
   ]
  },
  {
   "cell_type": "code",
   "execution_count": 6,
   "metadata": {},
   "outputs": [
    {
     "name": "stdout",
     "output_type": "stream",
     "text": [
      "Task Monitor start to run with group=\"关注词\"\n",
      "switch to group: 关注词\n",
      "index: 0 7 > 3d eyelash extension > make selected >  >>>>>> successful end \n",
      "index: 1 7 > 3d faux mink eyelashes > make selected >  >>>>>> successful end \n",
      "index: 2 7 > 3d mink eyelashes > make selected >  >>>>>> successful end \n",
      "index: 3 7 > 3d silk eyelash > make selected >  >>>>>> successful end \n",
      "index: 4 7 > eyelash extension > make selected >  >>>>>> successful end \n",
      "index: 5 7 > eyelash extension factory > make selected >  >>>>>> successful end \n",
      "index: 6 7 > mink eyelashes > make selected >  >>>>>> successful end \n",
      "switch selected on.\n",
      "next_page: False\n"
     ]
    }
   ],
   "source": [
    "p4p.monitor(group=group)"
   ]
  },
  {
   "cell_type": "code",
   "execution_count": 7,
   "metadata": {},
   "outputs": [
    {
     "name": "stdout",
     "output_type": "stream",
     "text": [
      "next_page: False\n"
     ]
    }
   ],
   "source": [
    "p4p.turn_all_off(group=group)"
   ]
  },
  {
   "cell_type": "code",
   "execution_count": 29,
   "metadata": {},
   "outputs": [
    {
     "data": {
      "text/plain": [
       "True"
      ]
     },
     "execution_count": 29,
     "metadata": {},
     "output_type": "execute_result"
    }
   ],
   "source": [
    "float('300.00') == 300"
   ]
  },
  {
   "cell_type": "code",
   "execution_count": null,
   "metadata": {},
   "outputs": [],
   "source": []
  },
  {
   "cell_type": "code",
   "execution_count": null,
   "metadata": {
    "scrolled": true
   },
   "outputs": [],
   "source": []
  },
  {
   "cell_type": "code",
   "execution_count": null,
   "metadata": {},
   "outputs": [],
   "source": [
    "p4p.kws_tracking"
   ]
  },
  {
   "cell_type": "code",
   "execution_count": null,
   "metadata": {},
   "outputs": [],
   "source": []
  },
  {
   "cell_type": "code",
   "execution_count": null,
   "metadata": {},
   "outputs": [],
   "source": [
    "# p4p.load_url()\n",
    "\n",
    "# css_selector = \"div.keyword-manage .bp-table-main-wraper>table\"\n",
    "# table = p4p.browser.find_element_by_css_selector(css_selector)\n",
    "# trs = table.find_elements_by_css_selector('tbody tr')\n",
    "# idx = 1\n",
    "# for tr in trs:\n",
    "#     print()\n",
    "#     print(idx, end=': ')\n",
    "#     idx += 1\n",
    "    \n",
    "#     kws = tr.find_element_by_css_selector('td:nth-child(3)').text.strip()\n",
    "#     print(kws, end=\": \")\n",
    "        \n",
    "#     if not p4p.open_price_dialog(tr):\n",
    "#         print('skipped_2')\n",
    "#         idx += 1\n",
    "#         continue\n",
    "        \n",
    "#     [prices, sponsors] = p4p.find_prices_and_sponsors()\n",
    "#     print(prices, sponsors)\n",
    "#     if idx > 10:\n",
    "#         break"
   ]
  },
  {
   "cell_type": "code",
   "execution_count": null,
   "metadata": {},
   "outputs": [],
   "source": [
    "tr = trs[8]\n",
    "kws = tr.find_element_by_css_selector('td:nth-child(3)').text.strip()\n",
    "print(kws, end=\": \")\n",
    "\n",
    "if not p4p.open_price_dialog(tr):\n",
    "    print('skipped_2')\n",
    "else:\n",
    "#     time.sleep(1)\n",
    "    prices = p4p.find_prices()"
   ]
  },
  {
   "cell_type": "code",
   "execution_count": null,
   "metadata": {},
   "outputs": [],
   "source": []
  },
  {
   "cell_type": "code",
   "execution_count": null,
   "metadata": {},
   "outputs": [],
   "source": []
  },
  {
   "cell_type": "code",
   "execution_count": null,
   "metadata": {},
   "outputs": [],
   "source": [
    "market = JSON.deserialize('.', 'storage', 'markets.json')['Tools']"
   ]
  },
  {
   "cell_type": "code",
   "execution_count": null,
   "metadata": {},
   "outputs": [],
   "source": []
  },
  {
   "cell_type": "code",
   "execution_count": null,
   "metadata": {},
   "outputs": [],
   "source": []
  },
  {
   "cell_type": "code",
   "execution_count": null,
   "metadata": {},
   "outputs": [],
   "source": [
    "p4p.find_sponsor_list_position(kws='strip eyelash')"
   ]
  },
  {
   "cell_type": "code",
   "execution_count": null,
   "metadata": {},
   "outputs": [],
   "source": []
  },
  {
   "cell_type": "code",
   "execution_count": null,
   "metadata": {},
   "outputs": [],
   "source": [
    "group = '直通车App'"
   ]
  },
  {
   "cell_type": "code",
   "execution_count": null,
   "metadata": {},
   "outputs": [],
   "source": [
    "p4p.monitor(group=group)"
   ]
  },
  {
   "cell_type": "code",
   "execution_count": null,
   "metadata": {},
   "outputs": [],
   "source": [
    "p4p.kws_tracking = {}"
   ]
  },
  {
   "cell_type": "code",
   "execution_count": null,
   "metadata": {},
   "outputs": [],
   "source": [
    "p4p.turn_all_off(group=group)"
   ]
  },
  {
   "cell_type": "code",
   "execution_count": null,
   "metadata": {},
   "outputs": [],
   "source": [
    "text = \"adsf\""
   ]
  },
  {
   "cell_type": "code",
   "execution_count": null,
   "metadata": {},
   "outputs": [],
   "source": [
    "a,b = text.split(' ')"
   ]
  },
  {
   "cell_type": "code",
   "execution_count": null,
   "metadata": {},
   "outputs": [],
   "source": []
  },
  {
   "cell_type": "code",
   "execution_count": null,
   "metadata": {},
   "outputs": [],
   "source": []
  }
 ],
 "metadata": {
  "kernelspec": {
   "display_name": "Python 3",
   "language": "python",
   "name": "python3"
  },
  "language_info": {
   "codemirror_mode": {
    "name": "ipython",
    "version": 3
   },
   "file_extension": ".py",
   "mimetype": "text/x-python",
   "name": "python",
   "nbconvert_exporter": "python",
   "pygments_lexer": "ipython3",
   "version": "3.6.6"
  }
 },
 "nbformat": 4,
 "nbformat_minor": 2
}
