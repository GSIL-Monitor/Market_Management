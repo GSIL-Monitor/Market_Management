{
 "cells": [
  {
   "cell_type": "code",
   "execution_count": 1,
   "metadata": {},
   "outputs": [],
   "source": [
    "from libs.alibaba.alibaba import Alibaba\n",
    "from libs.alibaba.p4p import P4P\n",
    "from libs.json import JSON\n",
    "\n",
    "from selenium import webdriver\n",
    "from selenium.webdriver.common.keys import Keys\n",
    "from selenium.webdriver.support.ui import WebDriverWait\n",
    "from selenium.webdriver.support import expected_conditions as EC\n",
    "from selenium.common.exceptions import WebDriverException\n",
    "from selenium.common.exceptions import TimeoutException\n",
    "from selenium.common.exceptions import NoSuchElementException\n",
    "from selenium.common.exceptions import StaleElementReferenceException\n",
    "from selenium.webdriver.common.by import By\n",
    "from selenium.webdriver.common.action_chains import ActionChains\n",
    "from datetime import datetime\n",
    "from bs4 import BeautifulSoup\n",
    "from pyquery import PyQuery as pq\n",
    "\n",
    "import pendulum\n",
    "import arrow\n",
    "import imp\n",
    "import time\n",
    "import re\n",
    "\n",
    "import types\n",
    "import traceback \n",
    "import threading"
   ]
  },
  {
   "cell_type": "code",
   "execution_count": 2,
   "metadata": {},
   "outputs": [],
   "source": [
    "class socketio(object):\n",
    "    @classmethod\n",
    "    def emit(msg, msg1, msg2, **kw):\n",
    "        print(msg1, msg2)"
   ]
  },
  {
   "cell_type": "code",
   "execution_count": 3,
   "metadata": {},
   "outputs": [
    {
     "name": "stdout",
     "output_type": "stream",
     "text": [
      "E:\\glitter\\Eyelashes_config [] p4p_keywords_list_recording.json\n",
      "E:\\glitter\\Eyelashes_config\\p4p_keywords_list_recording.json was deserialized!\n",
      "E:\\glitter\\Eyelashes_config [] p4p_keywords_list_monitor.json\n",
      "E:\\glitter\\Eyelashes_config\\p4p_keywords_list_monitor.json was deserialized!\n"
     ]
    }
   ],
   "source": [
    "market = {'name': 'Eyelash', 'directory': \"E:\\\\glitter\\\\Eyelashes\"}\n",
    "lid = 'eyelash@glittergroupcn.com'\n",
    "lpwd = 'Wangzhen68970747'\n",
    "p4p = P4P(market, lid, lpwd, socketio)"
   ]
  },
  {
   "cell_type": "code",
   "execution_count": null,
   "metadata": {},
   "outputs": [],
   "source": [
    "def monitor(self, group='all', tid=None, socketio=None, tasks=None):\n",
    "    if tid:\n",
    "        tasks[tid]['is_running'] = True\n",
    "        msg = {'name': 'P4P.monitor', 'tid': tid, 'group': group, 'is_last_run': tasks[tid]['is_last_run']}\n",
    "        socketio.emit('event_task_start_running', msg, namespace='/markets', broadcast=True)\n",
    "\n",
    "    try:\n",
    "        print('Task Monitor start to run with group=\"'+group+'\"')\n",
    "        keywords = []\n",
    "        self.load_keywords('monitor')\n",
    "        if tid:\n",
    "            tasks[tid]['progress'] = 1\n",
    "            socketio.emit('event_task_progress', {'tid': tid, 'progress': 1}, namespace='/markets', broadcast=True)\n",
    "        with self.lock:\n",
    "            self.load_url()\n",
    "            if tid:\n",
    "                tasks[tid]['progress'] = 2\n",
    "                socketio.emit('event_task_progress', {'tid': tid, 'progress': 2}, namespace='/markets', broadcast=True)\n",
    "            all_kws_count = int(self.browser.find_element_by_css_selector('a.all-kwcount span').text)\n",
    "\n",
    "            kws_count = 0\n",
    "            while True:\n",
    "                table_reloaded = True\n",
    "                css_selector = \"div.keyword-manage .bp-table-main-wraper>table\"\n",
    "                table = self.browser.find_element_by_css_selector(css_selector)\n",
    "                print(self.keywords_list['monitor'])\n",
    "                idx = 0\n",
    "                while True:\n",
    "                    kws_count += 1\n",
    "                    if tid:\n",
    "                        tasks[tid]['progress'] = int(kws_count/all_kws_count*97)+3\n",
    "                        socketio.emit('event_task_progress', {'tid': tid, 'progress': tasks[tid]['progress']}, namespace='/markets', broadcast=True)\n",
    "\n",
    "                    print(table_reloaded, end=\" > \")\n",
    "                    if table_reloaded:\n",
    "                        trs =  table.find_elements_by_css_selector('tbody tr')\n",
    "                        table_reloaded = False\n",
    "\n",
    "                    print('index:', idx, len(trs), end=' > ')\n",
    "                    if idx >= len(trs):\n",
    "                        print('')\n",
    "                        break\n",
    "\n",
    "                    try:\n",
    "                        tr = trs[idx]\n",
    "                        ActionChains(self.browser).move_to_element(tr).perform()\n",
    "                        id = tr.find_element_by_css_selector('td:first-child input').get_attribute('value').strip()\n",
    "                        if id not in self.keywords_list['monitor']:\n",
    "                            print('skipped_not_in_monitoring')\n",
    "                            idx += 1\n",
    "                            continue\n",
    "\n",
    "                        grp = tr.find_element_by_css_selector('td:nth-child(4)').text.strip()\n",
    "                        if group != 'all':\n",
    "                            if group != grp:\n",
    "                                print('skipped_not_in_group', group, grp)\n",
    "                                idx += 1\n",
    "                                continue\n",
    "\n",
    "                        dt = datetime.now().strftime('%Y-%m-%d %H:%M:%S')\n",
    "                        kws = tr.find_element_by_css_selector('td:nth-child(3)').text.strip()\n",
    "\n",
    "                        print(kws, end=' > ')\n",
    "\n",
    "                        if not self.open_price_dialog(tr):\n",
    "                            print('skipped_2')\n",
    "                            idx += 1\n",
    "                            continue\n",
    "\n",
    "                        [prices, sponsors] = self.find_prices_and_sponsors(close=False)\n",
    "\n",
    "                        current_position = self.find_sponsor_list_position(sponsors=sponsors['sponsor_list'])\n",
    "                        \n",
    "                        if current_position == -1 and prices:\n",
    "                            keywords.append([dt, id, kws, grp, prices, sponsors])\n",
    "                        \n",
    "                        click_position = self.get_click_position(id, current_position)\n",
    "                        if click_position != -1:\n",
    "                            self.set_price(position=click_position)\n",
    "                        else:\n",
    "                            webdriver.ActionChains(self.browser).send_keys(Keys.ESCAPE).perform()\n",
    "                        if not self.is_on(tr):\n",
    "                            print('turn_on', end=\" > \")\n",
    "                            self.turn_on(tr)\n",
    "                            table_reloaded = True\n",
    "\n",
    "                        idx += 1\n",
    "                        print(' >>>>>> successful end ')\n",
    "                    except StaleElementReferenceException as e:\n",
    "                        table_reloaded = True\n",
    "                        print(' >>>>>> failed ... .... , retry .... ...')\n",
    "                        continue\n",
    "\n",
    "                if not self.next_page():\n",
    "                    break\n",
    "\n",
    "        if keywords:\n",
    "            self.save_crawling_result(keywords)\n",
    "        if tid:\n",
    "            tasks[tid]['progress'] = 100\n",
    "            socketio.emit('event_task_progress', {'tid': tid, 'progress': 100}, namespace='/markets', broadcast=True)\n",
    "    except Exception as e:\n",
    "        print('Error: ', e)\n",
    "        traceback.print_exc()\n",
    "    finally:\n",
    "        if tid:\n",
    "            tasks[tid]['is_running'] = False\n",
    "            tasks[tid]['progress'] = 0\n",
    "            if tasks[tid]['is_last_run']:\n",
    "                del tasks[tid]\n",
    "                socketio.emit('event_task_last_run_finished', {'tid': tid}, namespace='/markets', broadcast=True)\n",
    "\n",
    "p4p.monitor = types.MethodType(monitor, p4p)"
   ]
  },
  {
   "cell_type": "code",
   "execution_count": null,
   "metadata": {},
   "outputs": [],
   "source": []
  },
  {
   "cell_type": "code",
   "execution_count": null,
   "metadata": {},
   "outputs": [],
   "source": [
    "def get_click_position(self, kws_id, current_pos):\n",
    "    now = pendulum.now()\n",
    "    if kws_id not in self.kws_tracking:\n",
    "        tracking = {}\n",
    "        tracking['position'] = [self.default_position, now, False]\n",
    "        self.kws_tracking[kws_id] = tracking\n",
    "        return self.default_position\n",
    "    else:\n",
    "        tracking = self.kws_tracking[kws_id]\n",
    "        [pos, dt, is_out] = tracking['position']\n",
    "        if current_pos == -1:\n",
    "            pos = 3\n",
    "            tracking['position'] = [pos, now, True]\n",
    "            return pos\n",
    "        elif is_out:\n",
    "            period = now.diff(dt).in_minutes()\n",
    "            if period <= 2:\n",
    "                if current_pos >= 3:\n",
    "                    return -1\n",
    "                else:\n",
    "                    pos = 3\n",
    "                    tracking['position'] = [pos, dt, True]\n",
    "            elif period > 2 and period <=5:\n",
    "                if current_pos >= 4:\n",
    "                    return -1\n",
    "                else:\n",
    "                    pos = 4\n",
    "                    tracking['position'] = [pos, dt, True]\n",
    "            else:\n",
    "                pos = 5\n",
    "                tracking['position'] = [pos, dt, False]\n",
    "            return pos\n",
    "        elif current_pos == self.default_position:\n",
    "            return -1\n",
    "        else:\n",
    "            return self.default_position\n",
    "            #calculate the escaped time since in this position\n",
    "        \n",
    "p4p.get_click_position = types.MethodType(get_click_position, p4p)"
   ]
  },
  {
   "cell_type": "code",
   "execution_count": null,
   "metadata": {},
   "outputs": [],
   "source": [
    "def save_crawling_result(self, keywords):\n",
    "    root = self.market['directory'] + '_config'\n",
    "    date_str = keywords[0][0].split(' ')[0]\n",
    "    fn = 'p4p_keywords_crawl_result_'+date_str+'.json.gz'\n",
    "    print(fn)\n",
    "    JSON.serialize(keywords, root, [], fn, append=True)\n",
    "p4p.save_crawling_result = types.MethodType(save_crawling_result, p4p)"
   ]
  },
  {
   "cell_type": "code",
   "execution_count": null,
   "metadata": {},
   "outputs": [],
   "source": [
    "def set_price(self, tr=None, position=None, price=None):\n",
    "    if not position and not price:\n",
    "        return\n",
    "\n",
    "    # pos = 3\n",
    "    max_price = 30\n",
    "    # sum = 0\n",
    "    # id = tr.find_element_by_css_selector('td:first-child input').get_attribute('value').strip()\n",
    "    # for prices in self.recent_prices[id]:\n",
    "    #     sum += float(prices[pos])\n",
    "    # mean_price = sum/len(self.recent_prices[id])\n",
    "    # if max_price > (mean_price + 0.1):\n",
    "    #     max_price = (mean_price + 0.1)\n",
    "\n",
    "    if tr and not self.open_price_dialog(tr):\n",
    "        return False\n",
    "\n",
    "    success = True\n",
    "    WebDriverWait(self.browser, 15).until(EC.invisibility_of_element_located((By.CSS_SELECTOR, 'div.bp-loading-panel')))\n",
    "    while True:\n",
    "        try:\n",
    "            price_table_tbody_selector = \".sc-manage-edit-price-dialog table tbody,.sc-manage-edit-price-dialog p.util-clearfix\"\n",
    "            price_table_tbody = WebDriverWait(self.browser, 15).until(EC.presence_of_element_located((By.CSS_SELECTOR, price_table_tbody_selector)))\n",
    "\n",
    "            if price_table_tbody.tag_name == 'p':\n",
    "                success = False\n",
    "                break\n",
    "\n",
    "            if price:\n",
    "                css_selector = '.sc-manage-edit-price-dialog span[data-role=\"span-baseprice\"'\n",
    "                min_price = float(self.browser.find_element_by_css_selector(css_selector).text)\n",
    "                if price < min_price:\n",
    "                    price = min_price\n",
    "\n",
    "                js_templ = \"document.querySelector('{selector}').value = '{value}';\"\n",
    "                css_selector = '.sc-manage-edit-price-dialog input[name=\"addPrice\"]'\n",
    "                js = js_templ.format(selector=css_selector, value=price)\n",
    "                self.browser.execute_script(js)\n",
    "            else:\n",
    "                while True:\n",
    "                    btn = price_table_tbody.find_element_by_css_selector('td:nth-child('+str(int(position)+1)+') a, td:last-child a')\n",
    "                    p = btn.text.strip()\n",
    "                    cp = self.browser.find_element_by_css_selector('.sc-manage-edit-price-dialog input[name=\"addPrice\"]').get_attribute('value')\n",
    "\n",
    "                    if cp == p:\n",
    "                        webdriver.ActionChains(self.browser).send_keys(Keys.ESCAPE).perform()\n",
    "                        print('不需要改变价格', end=' > ')\n",
    "                        return success\n",
    "                    if float(p) <= max_price:\n",
    "                        self.click(btn)\n",
    "                        break\n",
    "                    if position >= 5:\n",
    "                        break\n",
    "                    position += 1\n",
    "\n",
    "            confirm = self.browser.find_element_by_css_selector('.ui2-dialog-btn input[data-role=\"confirm\"]')\n",
    "            self.click(confirm)\n",
    "            break\n",
    "        except StaleElementReferenceException:\n",
    "            self.browser.implicitly_wait(0.5)\n",
    "            continue\n",
    "    return success\n",
    "p4p.set_price = types.MethodType(set_price, p4p)"
   ]
  },
  {
   "cell_type": "code",
   "execution_count": null,
   "metadata": {},
   "outputs": [],
   "source": [
    "p4p.default_position = 5\n",
    "p4p.kws_tracking = {}"
   ]
  },
  {
   "cell_type": "code",
   "execution_count": 4,
   "metadata": {
    "scrolled": true
   },
   "outputs": [
    {
     "name": "stdout",
     "output_type": "stream",
     "text": [
      "Task Monitor start to run with group=\"all\"\n",
      "E:\\glitter\\Eyelashes_config [] p4p_keywords_list_monitor.json\n",
      "E:\\glitter\\Eyelashes_config\\p4p_keywords_list_monitor.json was deserialized!\n",
      "primary 打开网址：https://i.alibaba.com\n",
      "primary 等待登陆页面加载 ... ...\n",
      "primary 输入登录信息， 并登录\n",
      "success 成功 登录 阿里巴巴 国际站！用户名：Jeremy\n",
      "{'77942874823': 'strip eyelash', '77942874901': 'synthetic eyelashes'}\n",
      "True > index: 0 50 > skipped_not_in_monitoring\n",
      "False > index: 1 50 > skipped_not_in_monitoring\n",
      "False > index: 2 50 > skipped_not_in_monitoring\n",
      "False > index: 3 50 > skipped_not_in_monitoring\n",
      "False > index: 4 50 > skipped_not_in_monitoring\n",
      "False > index: 5 50 > skipped_not_in_monitoring\n",
      "False > index: 6 50 > skipped_not_in_monitoring\n",
      "False > index: 7 50 > skipped_not_in_monitoring\n",
      "False > index: 8 50 > skipped_not_in_monitoring\n",
      "False > index: 9 50 > skipped_not_in_monitoring\n",
      "False > index: 10 50 > skipped_not_in_monitoring\n",
      "False > index: 11 50 > skipped_not_in_monitoring\n",
      "False > index: 12 50 > skipped_not_in_monitoring\n",
      "False > index: 13 50 > skipped_not_in_monitoring\n",
      "False > index: 14 50 > skipped_not_in_monitoring\n",
      "False > index: 15 50 > skipped_not_in_monitoring\n",
      "False > index: 16 50 > skipped_not_in_monitoring\n",
      "False > index: 17 50 > skipped_not_in_monitoring\n",
      "False > index: 18 50 > skipped_not_in_monitoring\n",
      "False > index: 19 50 > skipped_not_in_monitoring\n",
      "False > index: 20 50 > skipped_not_in_monitoring\n",
      "False > index: 21 50 > skipped_not_in_monitoring\n",
      "False > index: 22 50 > skipped_not_in_monitoring\n",
      "False > index: 23 50 > skipped_not_in_monitoring\n",
      "False > index: 24 50 > skipped_not_in_monitoring\n",
      "False > index: 25 50 > skipped_not_in_monitoring\n",
      "False > index: 26 50 > skipped_not_in_monitoring\n",
      "False > index: 27 50 > skipped_not_in_monitoring\n",
      "False > index: 28 50 > skipped_not_in_monitoring\n",
      "False > index: 29 50 > skipped_not_in_monitoring\n",
      "False > index: 30 50 > skipped_not_in_monitoring\n",
      "False > index: 31 50 > skipped_not_in_monitoring\n",
      "False > index: 32 50 > skipped_not_in_monitoring\n",
      "False > index: 33 50 > skipped_not_in_monitoring\n",
      "False > index: 34 50 > skipped_not_in_monitoring\n",
      "False > index: 35 50 > skipped_not_in_monitoring\n",
      "False > index: 36 50 > skipped_not_in_monitoring\n",
      "False > index: 37 50 > skipped_not_in_monitoring\n",
      "False > index: 38 50 > skipped_not_in_monitoring\n",
      "False > index: 39 50 > skipped_not_in_monitoring\n",
      "False > index: 40 50 > skipped_not_in_monitoring\n",
      "False > index: 41 50 > skipped_not_in_monitoring\n",
      "False > index: 42 50 > skipped_not_in_monitoring\n",
      "False > index: 43 50 > skipped_not_in_monitoring\n",
      "False > index: 44 50 > skipped_not_in_monitoring\n",
      "False > index: 45 50 > skipped_not_in_monitoring\n",
      "False > index: 46 50 > skipped_not_in_monitoring\n",
      "False > index: 47 50 > skipped_not_in_monitoring\n",
      "False > index: 48 50 > skipped_not_in_monitoring\n",
      "False > index: 49 50 > strip eyelash > 不需要改变价格 > turn_on >  >>>>>> successful end \n",
      "True > index: 50 50 > \n",
      "next_page: True\n",
      "{'77942874823': 'strip eyelash', '77942874901': 'synthetic eyelashes'}\n",
      "True > index: 0 5 > skipped_not_in_monitoring\n",
      "False > index: 1 5 > synthetic eyelashes > 不需要改变价格 > turn_on >  >>>>>> successful end \n",
      "True > index: 2 5 > skipped_not_in_monitoring\n",
      "False > index: 3 5 > skipped_not_in_monitoring\n",
      "False > index: 4 5 > skipped_not_in_monitoring\n",
      "False > index: 5 5 > \n",
      "next_page: False\n"
     ]
    }
   ],
   "source": [
    "p4p.monitor()"
   ]
  },
  {
   "cell_type": "code",
   "execution_count": 5,
   "metadata": {},
   "outputs": [
    {
     "data": {
      "text/plain": [
       "{'77942874823': {'position': [5,\n",
       "   DateTime(2018, 7, 14, 12, 8, 47, 349351, tzinfo=Timezone('Asia/Shanghai')),\n",
       "   False]},\n",
       " '77942874901': {'position': [5,\n",
       "   DateTime(2018, 7, 14, 12, 8, 49, 612284, tzinfo=Timezone('Asia/Shanghai')),\n",
       "   False]}}"
      ]
     },
     "execution_count": 5,
     "metadata": {},
     "output_type": "execute_result"
    }
   ],
   "source": [
    "p4p.kws_tracking"
   ]
  },
  {
   "cell_type": "code",
   "execution_count": 6,
   "metadata": {},
   "outputs": [
    {
     "name": "stdout",
     "output_type": "stream",
     "text": [
      "next_page: True\n",
      "next_page: False\n"
     ]
    }
   ],
   "source": [
    "p4p.turn_all_off()"
   ]
  },
  {
   "cell_type": "code",
   "execution_count": null,
   "metadata": {},
   "outputs": [],
   "source": [
    "# p4p.load_url()\n",
    "\n",
    "# css_selector = \"div.keyword-manage .bp-table-main-wraper>table\"\n",
    "# table = p4p.browser.find_element_by_css_selector(css_selector)\n",
    "# trs = table.find_elements_by_css_selector('tbody tr')\n",
    "# idx = 1\n",
    "# for tr in trs:\n",
    "#     print()\n",
    "#     print(idx, end=': ')\n",
    "#     idx += 1\n",
    "    \n",
    "#     kws = tr.find_element_by_css_selector('td:nth-child(3)').text.strip()\n",
    "#     print(kws, end=\": \")\n",
    "        \n",
    "#     if not p4p.open_price_dialog(tr):\n",
    "#         print('skipped_2')\n",
    "#         idx += 1\n",
    "#         continue\n",
    "        \n",
    "#     [prices, sponsors] = p4p.find_prices_and_sponsors()\n",
    "#     print(prices, sponsors)\n",
    "#     if idx > 10:\n",
    "#         break"
   ]
  },
  {
   "cell_type": "code",
   "execution_count": null,
   "metadata": {},
   "outputs": [],
   "source": [
    "tr = trs[8]\n",
    "kws = tr.find_element_by_css_selector('td:nth-child(3)').text.strip()\n",
    "print(kws, end=\": \")\n",
    "\n",
    "if not p4p.open_price_dialog(tr):\n",
    "    print('skipped_2')\n",
    "else:\n",
    "#     time.sleep(1)\n",
    "    prices = p4p.find_prices()"
   ]
  },
  {
   "cell_type": "code",
   "execution_count": null,
   "metadata": {},
   "outputs": [],
   "source": []
  },
  {
   "cell_type": "code",
   "execution_count": null,
   "metadata": {},
   "outputs": [],
   "source": []
  },
  {
   "cell_type": "code",
   "execution_count": null,
   "metadata": {},
   "outputs": [],
   "source": []
  },
  {
   "cell_type": "code",
   "execution_count": null,
   "metadata": {},
   "outputs": [],
   "source": []
  },
  {
   "cell_type": "code",
   "execution_count": null,
   "metadata": {},
   "outputs": [],
   "source": []
  },
  {
   "cell_type": "code",
   "execution_count": null,
   "metadata": {},
   "outputs": [],
   "source": [
    "p4p.find_sponsor_list_position(kws='strip eyelash')"
   ]
  },
  {
   "cell_type": "code",
   "execution_count": null,
   "metadata": {},
   "outputs": [],
   "source": []
  },
  {
   "cell_type": "code",
   "execution_count": null,
   "metadata": {},
   "outputs": [],
   "source": []
  },
  {
   "cell_type": "code",
   "execution_count": null,
   "metadata": {},
   "outputs": [],
   "source": [
    "import pendulum"
   ]
  },
  {
   "cell_type": "code",
   "execution_count": null,
   "metadata": {},
   "outputs": [],
   "source": [
    "pendulum.now()"
   ]
  },
  {
   "cell_type": "code",
   "execution_count": null,
   "metadata": {},
   "outputs": [],
   "source": []
  },
  {
   "cell_type": "code",
   "execution_count": null,
   "metadata": {},
   "outputs": [],
   "source": []
  },
  {
   "cell_type": "code",
   "execution_count": null,
   "metadata": {},
   "outputs": [],
   "source": []
  },
  {
   "cell_type": "code",
   "execution_count": null,
   "metadata": {},
   "outputs": [],
   "source": []
  },
  {
   "cell_type": "code",
   "execution_count": null,
   "metadata": {},
   "outputs": [],
   "source": []
  }
 ],
 "metadata": {
  "kernelspec": {
   "display_name": "Python 3",
   "language": "python",
   "name": "python3"
  },
  "language_info": {
   "codemirror_mode": {
    "name": "ipython",
    "version": 3
   },
   "file_extension": ".py",
   "mimetype": "text/x-python",
   "name": "python",
   "nbconvert_exporter": "python",
   "pygments_lexer": "ipython3",
   "version": "3.6.5"
  }
 },
 "nbformat": 4,
 "nbformat_minor": 2
}
