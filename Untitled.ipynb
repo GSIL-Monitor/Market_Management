{
 "cells": [
  {
   "cell_type": "code",
   "execution_count": 1,
   "metadata": {},
   "outputs": [],
   "source": [
    "from selenium.webdriver.common.action_chains import ActionChains\n",
    "from selenium import webdriver\n",
    "from selenium.webdriver.common.by import By\n",
    "from selenium.webdriver.support.ui import WebDriverWait\n",
    "from selenium.webdriver.support import expected_conditions as EC\n",
    "from selenium.common.exceptions import WebDriverException\n",
    "from selenium.common.exceptions import NoSuchElementException\n",
    "from selenium.common.exceptions import TimeoutException\n",
    "from selenium.common.exceptions import StaleElementReferenceException\n",
    "from selenium.webdriver.support.select import Select\n",
    "from bs4 import BeautifulSoup\n",
    "from pyquery import PyQuery as pq\n",
    "import html\n",
    "import time\n",
    "import re\n",
    "import traceback\n",
    "import requests"
   ]
  },
  {
   "cell_type": "code",
   "execution_count": null,
   "metadata": {},
   "outputs": [],
   "source": [
    "chrome_options = webdriver.ChromeOptions()\n",
    "chrome_options.add_argument('--disable-gpu')\n",
    "chrome_options.add_argument('--disable-software-rasterizer')\n",
    "chrome_options.add_argument('--disable-extensions')\n",
    "chrome_options.add_argument('--disable-logging')\n",
    "chrome_options.add_argument('--disable-infobars')\n",
    "chrome_options.add_argument('--ignore-certificate-errors')\n",
    "browser = webdriver.Chrome(chrome_options=chrome_options)"
   ]
  },
  {
   "cell_type": "code",
   "execution_count": null,
   "metadata": {},
   "outputs": [],
   "source": [
    "url = 'https://my.osoeco.xyz'\n",
    "lid = 'odingdongo@hotmail.com'\n",
    "lpwd = '7758521oness'"
   ]
  },
  {
   "cell_type": "code",
   "execution_count": null,
   "metadata": {},
   "outputs": [],
   "source": [
    "browser.get(url)\n",
    "browser.find_element_by_css_selector('#email').send_keys(lid)\n",
    "browser.find_element_by_css_selector('#passwd').send_keys(lpwd)\n",
    "browser.find_element_by_css_selector('button#login').click()\n",
    "try:\n",
    "    btn_checkin = WebDriverWait(browser, 10).until(EC.element_to_be_clickable((By.CSS_SELECTOR, 'button#checkin')))\n",
    "#     btn_checkin.click()\n",
    "except Exception as e:\n",
    "    print(e)\n",
    "    traceback.print_exc()"
   ]
  },
  {
   "cell_type": "code",
   "execution_count": null,
   "metadata": {},
   "outputs": [],
   "source": []
  },
  {
   "cell_type": "code",
   "execution_count": 13,
   "metadata": {},
   "outputs": [],
   "source": [
    "url = 'https://my.osoeco.xyz/user'\n",
    "headers = {'User-Agent': 'Mozilla/5.0 (Windows NT 10.0; Win64; x64) AppleWebKit/537.36 (KHTML, like Gecko) Chrome/67.0.3396.87 Safari/537.36'}\n",
    "headers['Accept'] = 'text/html,application/xhtml+xml,application/xml;q=0.9,image/webp,image/apng,*/*;q=0.8'\n",
    "headers['Accept-Encoding'] = 'gzip, deflate, br'\n",
    "headers['Accept-Language'] = 'zh-CN,zh;q=0.9,en;q=0.8'\n",
    "headers['Referer'] = 'https://my.osoeco.xyz/auth/login'\n",
    "headers['Connection'] = 'Keep-Alive'\n",
    "headers['Host'] = 'my.osoeco.xyz'\n",
    "headers['Upgrade-Insecure-Requests'] = '1'"
   ]
  },
  {
   "cell_type": "code",
   "execution_count": 14,
   "metadata": {},
   "outputs": [],
   "source": [
    "login_data = {'email': 'odingdongo@hotmail.com', 'passwd': '7758521oness'}\n",
    "session = requests.Session()\n",
    "session.headers.update(headers)"
   ]
  },
  {
   "cell_type": "code",
   "execution_count": 15,
   "metadata": {},
   "outputs": [
    {
     "data": {
      "text/plain": [
       "<Response [200]>"
      ]
     },
     "execution_count": 15,
     "metadata": {},
     "output_type": "execute_result"
    }
   ],
   "source": [
    "response = session.post(url, data=login_data)\n",
    "response"
   ]
  },
  {
   "cell_type": "code",
   "execution_count": 11,
   "metadata": {},
   "outputs": [],
   "source": [
    "response = session.post('https://my.osoeco.xyz/user/checkin')"
   ]
  },
  {
   "cell_type": "code",
   "execution_count": 16,
   "metadata": {},
   "outputs": [
    {
     "data": {
      "text/plain": [
       "'<!DOCTYPE html>\\n<html>\\n    <head>\\n        <meta charset=\"utf-8\">\\n        <meta name=\"viewport\" content=\"width=device-width, initial-scale=1.0\">\\n        <meta name=\"description\" content=\"A fully featured admin theme which can be used to build CRM, CMS, etc.\">\\n        <meta name=\"author\" content=\"Coderthemes\">\\n\\n        <!-- App Favicon -->\\n        <link rel=\"shortcut icon\" href=\"/theme/uplon/images/favicon.ico\">\\n\\n        <!-- App title -->\\n        <title>405 Method Not Allowed - OSOECO</title>\\n\\n        <!-- Bootstrap CSS -->\\n        <link href=\"/theme/uplon/css/bootstrap.min.css\" rel=\"stylesheet\" type=\"text/css\" />\\n\\n        <!-- App CSS -->\\n        <link href=\"/theme/uplon/css/style.css\" rel=\"stylesheet\" type=\"text/css\" />\\n\\n        <!-- Modernizr js -->\\n        <script src=\"/theme/uplon/js/modernizr.min.js\"></script>\\n\\n    </head>\\n\\n\\n    <body>\\n\\n        <div class=\"account-pages\"></div>\\n        <div class=\"clearfix\"></div>\\n        <div class=\"wrapper-page\">\\n\\n        \\t<div class=\"ex-page-content text-center\">\\n                <div class=\"text-error shadow-text\">405</div>\\n                <h3 class=\"text-uppercase text-white font-600\">Method Not Allowed</h3>\\n                <br>\\n                <a class=\"btn btn-pink waves-effect waves-light\" href=\"/\"> Return Home</a>\\n\\n            </div>\\n\\n\\n        </div>\\n        <!-- end wrapper page -->\\n\\n\\n        <script>\\n            var resizefunc = [];\\n        </script>\\n\\n        <!-- jQuery  -->\\n        <script src=\"/theme/uplon/js/jquery.min.js\"></script>\\n        <script src=\"/theme/uplon/js/popper.min.js\"></script><!-- Tether for Bootstrap -->\\n        <script src=\"/theme/uplon/js/bootstrap.min.js\"></script>\\n        <script src=\"/theme/uplon/js/detect.js\"></script>\\n        <script src=\"/theme/uplon/js/fastclick.js\"></script>\\n        <script src=\"/theme/uplon/js/jquery.blockUI.js\"></script>\\n        <script src=\"/theme/uplon/js/waves.js\"></script>\\n        <script src=\"/theme/uplon/js/jquery.nicescroll.js\"></script>\\n        <script src=\"/theme/uplon/js/jquery.scrollTo.min.js\"></script>\\n        <script src=\"/theme/uplon/js/jquery.slimscroll.js\"></script>\\n        <script src=\"/theme/uplon/plugins/switchery/switchery.min.js\"></script>\\n\\n        <!-- App js -->\\n        <script src=\"/theme/uplon/js/jquery.core.js\"></script>\\n        <script src=\"/theme/uplon/js/jquery.app.js\"></script>\\n\\n    </body>\\n</html>'"
      ]
     },
     "execution_count": 16,
     "metadata": {},
     "output_type": "execute_result"
    }
   ],
   "source": [
    "response.text"
   ]
  },
  {
   "cell_type": "code",
   "execution_count": null,
   "metadata": {},
   "outputs": [],
   "source": []
  },
  {
   "cell_type": "code",
   "execution_count": null,
   "metadata": {},
   "outputs": [],
   "source": []
  }
 ],
 "metadata": {
  "kernelspec": {
   "display_name": "Python 3",
   "language": "python",
   "name": "python3"
  },
  "language_info": {
   "codemirror_mode": {
    "name": "ipython",
    "version": 3
   },
   "file_extension": ".py",
   "mimetype": "text/x-python",
   "name": "python",
   "nbconvert_exporter": "python",
   "pygments_lexer": "ipython3",
   "version": "3.6.5"
  }
 },
 "nbformat": 4,
 "nbformat_minor": 2
}
