{
 "cells": [
  {
   "cell_type": "code",
   "execution_count": 1,
   "metadata": {},
   "outputs": [],
   "source": [
    "from selenium.webdriver.common.action_chains import ActionChains\n",
    "from selenium import webdriver\n",
    "from selenium.webdriver.common.by import By\n",
    "from selenium.webdriver.support.ui import WebDriverWait\n",
    "from selenium.webdriver.support import expected_conditions as EC\n",
    "from selenium.common.exceptions import WebDriverException\n",
    "from selenium.common.exceptions import NoSuchElementException\n",
    "from selenium.common.exceptions import TimeoutException\n",
    "from selenium.common.exceptions import StaleElementReferenceException\n",
    "from selenium.webdriver.support.select import Select\n",
    "from bs4 import BeautifulSoup\n",
    "from pyquery import PyQuery as pq\n",
    "import html\n",
    "import time\n",
    "import re\n",
    "import traceback"
   ]
  },
  {
   "cell_type": "code",
   "execution_count": 2,
   "metadata": {},
   "outputs": [],
   "source": [
    "chrome_options = webdriver.ChromeOptions()\n",
    "chrome_options.add_argument('--disable-gpu')\n",
    "chrome_options.add_argument('--disable-software-rasterizer')\n",
    "chrome_options.add_argument('--disable-extensions')\n",
    "chrome_options.add_argument('--disable-logging')\n",
    "chrome_options.add_argument('--disable-infobars')\n",
    "chrome_options.add_argument('--ignore-certificate-errors')\n",
    "browser = webdriver.Chrome(chrome_options=chrome_options)"
   ]
  },
  {
   "cell_type": "code",
   "execution_count": 7,
   "metadata": {},
   "outputs": [],
   "source": [
    "url = 'https://my.osoeco.xyz'\n",
    "lid = 'odingdongo@hotmail.com'\n",
    "lpwd = '7758521oness'"
   ]
  },
  {
   "cell_type": "code",
   "execution_count": 10,
   "metadata": {},
   "outputs": [],
   "source": [
    "browser.get(url)\n",
    "browser.find_element_by_css_selector('#email').send_keys(lid)\n",
    "browser.find_element_by_css_selector('#passwd').send_keys(lpwd)\n",
    "browser.find_element_by_css_selector('button#login').click()\n",
    "try:\n",
    "    btn_checkin = WebDriverWait(browser, 10).until(EC.element_to_be_clickable((By.CSS_SELECTOR, 'button#checkin')))\n",
    "#     btn_checkin.click()\n",
    "except Exception as e:\n",
    "    print(e)\n",
    "    traceback.print_exc()"
   ]
  },
  {
   "cell_type": "code",
   "execution_count": null,
   "metadata": {},
   "outputs": [],
   "source": []
  }
 ],
 "metadata": {
  "kernelspec": {
   "display_name": "Python 3",
   "language": "python",
   "name": "python3"
  },
  "language_info": {
   "codemirror_mode": {
    "name": "ipython",
    "version": 3
   },
   "file_extension": ".py",
   "mimetype": "text/x-python",
   "name": "python",
   "nbconvert_exporter": "python",
   "pygments_lexer": "ipython3",
   "version": "3.6.6"
  }
 },
 "nbformat": 4,
 "nbformat_minor": 2
}
