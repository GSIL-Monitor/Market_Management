{
 "cells": [
  {
   "cell_type": "code",
   "execution_count": 1,
   "metadata": {},
   "outputs": [],
   "source": [
    "from libs.alibaba.alibaba import Alibaba\n",
    "\n",
    "from selenium.webdriver.common.keys import Keys\n",
    "from selenium.webdriver.common.action_chains import ActionChains\n",
    "from selenium import webdriver\n",
    "from selenium.webdriver.common.by import By\n",
    "from selenium.webdriver.support.ui import WebDriverWait\n",
    "from selenium.webdriver.support import expected_conditions as EC\n",
    "from selenium.common.exceptions import WebDriverException\n",
    "from selenium.common.exceptions import NoSuchElementException\n",
    "from selenium.common.exceptions import TimeoutException\n",
    "from selenium.common.exceptions import StaleElementReferenceException\n",
    "from selenium.webdriver.support.select import Select\n",
    "from bs4 import BeautifulSoup\n",
    "from pyquery import PyQuery as pq\n",
    "\n",
    "import html\n",
    "import time\n",
    "import re\n",
    "import traceback\n",
    "import types"
   ]
  },
  {
   "cell_type": "code",
   "execution_count": 8,
   "metadata": {},
   "outputs": [
    {
     "name": "stdout",
     "output_type": "stream",
     "text": [
      "primary 打开网址：https://i.alibaba.com\n",
      "primary 等待登陆页面加载 ... ...\n",
      "primary 输入登录信息， 并登录\n",
      "success 成功 登录 阿里巴巴 国际站！用户名：Jeremy\n"
     ]
    }
   ],
   "source": [
    "lid = 'eyelash@glittergroupcn.com'\n",
    "lpwd = 'Wangzhen68970747'\n",
    "alibaba_eyelash = Alibaba(lid, lpwd)\n",
    "alibaba_eyelash.login()"
   ]
  },
  {
   "cell_type": "code",
   "execution_count": 2,
   "metadata": {},
   "outputs": [],
   "source": [
    "lid = 'glittertools@glittergroupcn.com'\n",
    "lpwd = 'Songjianwei68970747'\n",
    "alibaba_tools = Alibaba(lid, lpwd)"
   ]
  },
  {
   "cell_type": "code",
   "execution_count": null,
   "metadata": {},
   "outputs": [],
   "source": [
    "alibaba_eyelash.login()"
   ]
  },
  {
   "cell_type": "code",
   "execution_count": 10,
   "metadata": {},
   "outputs": [
    {
     "data": {
      "text/plain": [
       "False"
      ]
     },
     "execution_count": 10,
     "metadata": {},
     "output_type": "execute_result"
    }
   ],
   "source": [
    "alibaba_eyelash.browser.get('http://hz-productposting.alibaba.com/product/editing.htm?id=60732345735')\n",
    "alibaba_eyelash.is_structured()"
   ]
  },
  {
   "cell_type": "code",
   "execution_count": 11,
   "metadata": {},
   "outputs": [
    {
     "name": "stdout",
     "output_type": "stream",
     "text": [
      "primary 打开网址：https://i.alibaba.com\n",
      "primary 等待登陆页面加载 ... ...\n",
      "primary 输入登录信息， 并登录\n",
      "success 成功 登录 阿里巴巴 国际站！用户名：Jessica\n"
     ]
    }
   ],
   "source": [
    "alibaba_tools.login()"
   ]
  },
  {
   "cell_type": "code",
   "execution_count": 12,
   "metadata": {},
   "outputs": [
    {
     "data": {
      "text/plain": [
       "True"
      ]
     },
     "execution_count": 12,
     "metadata": {},
     "output_type": "execute_result"
    }
   ],
   "source": [
    "alibaba_tools.browser.get('http://hz-productposting.alibaba.com/product/editing.htm?id=60754895903')\n",
    "alibaba_tools.is_structured()"
   ]
  },
  {
   "cell_type": "code",
   "execution_count": null,
   "metadata": {},
   "outputs": [],
   "source": []
  },
  {
   "cell_type": "code",
   "execution_count": null,
   "metadata": {},
   "outputs": [],
   "source": [
    "def get_posted_product_info(self, pn):\n",
    "    browser = self.browser\n",
    "    products = []\n",
    "    try:\n",
    "        self.notify(\"primary\", '打开 产品管理 页面 ... ...')\n",
    "        browser.get(self.api_product_manage)\n",
    "        css_selector = '#ballon-container .list-item, #ballon-container .next-table-body tr'\n",
    "        masker = WebDriverWait(browser, 15).until(EC.presence_of_element_located((By.CSS_SELECTOR, css_selector)))\n",
    "        \n",
    "        time.sleep(5)\n",
    "        webdriver.ActionChains(self.browser).send_keys(Keys.ESCAPE).perform()\n",
    "        \n",
    "        css_selector = '#ballon-container .manage-loading .next-loading-tip'\n",
    "        div_tip = browser.find_elements_by_css_selector(css_selector)\n",
    "        if len(div_tip) != 0:\n",
    "            WebDriverWait(browser, 20).until(EC.staleness_of(div_tip[0]))\n",
    "                    \n",
    "        msg = '切换 至 显示全部产品 ... ...'\n",
    "        self.notify(\"primary\", msg)\n",
    "        css_selector = '#ballon-container div[role=\"tab\"]:nth-child(1)'\n",
    "        css_selector += ', #ballon-container .posting-manage-filter-row:first-child span:nth-child(2)'\n",
    "        tab_all = WebDriverWait(browser, 15).until(\n",
    "            EC.visibility_of_element_located((By.CSS_SELECTOR, css_selector)))\n",
    "        self.click(tab_all)\n",
    "        browser.implicitly_wait(1)\n",
    "        css_selector = '#ballon-container .manage-loading .next-loading-tip'\n",
    "        div_tip = browser.find_elements_by_css_selector(css_selector)\n",
    "        if len(div_tip) != 0:\n",
    "            WebDriverWait(browser, 20).until(EC.staleness_of(div_tip[0]))\n",
    "\n",
    "        pn = int(pn)\n",
    "        for counter in range(pn):\n",
    "            msg = '查找 全部产品列表 第 ' + str(counter + 1) + ' 页'\n",
    "            self.notify(\"primary\", msg)\n",
    "\n",
    "            html_source = browser.page_source\n",
    "            doc = pq(html_source)\n",
    "            items = doc('#ballon-container .list-item')\n",
    "            if items:\n",
    "                for item in items:\n",
    "                    pq_item = pq(item)\n",
    "                    product = {}\n",
    "                    pq_a = pq_item.find('.product-subject a')\n",
    "                    if len(pq_a) == 0:\n",
    "                        continue\n",
    "\n",
    "                    product['href'] = pq_a.attr('href')\n",
    "                    product['title'] = pq_a.text().strip().lower()\n",
    "                    product['pid'] = pq_item.find('.product-model').text().split(':')[1].strip()\n",
    "                    product['category'] = pq_item.find('.group-name').text().split(':')[1].strip()\n",
    "                    product['update'] = pq_item.find('.next-col:nth-child(5) span').text().strip()\n",
    "                    product['price'] = pq_item.find('.next-col:nth-child(3)').text().strip()\n",
    "                    product['quality'] = []\n",
    "                    product['quality'].append(pq_item.find('.product-quality').text().strip())\n",
    "                    pq_tags = pq_item.find('.product-tags .next-tag-body')\n",
    "                    product['tags'] = []\n",
    "\n",
    "                    for tag in pq_tags:\n",
    "                        product['tags'].append(pq(tag).text().strip())\n",
    "\n",
    "                    result = re.search('id=(\\d+)$', product['href'])\n",
    "                    if result:\n",
    "                        ali_id = result.group(1)\n",
    "                    else:\n",
    "                        ali_id = re.search('_(\\d+).htm', product['href']).group(1)\n",
    "                    product['ali_id'] = ali_id\n",
    "                    products.append(product)\n",
    "            else:\n",
    "                items = doc('#ballon-container .next-table-body tr')\n",
    "                for item in items:\n",
    "                    pq_item = pq(item)\n",
    "                    product = {}\n",
    "                    pq_a = pq_item.find('.product-subject a')\n",
    "                    if len(pq_a) == 0:\n",
    "                        continue\n",
    "\n",
    "                    product['href'] = pq_a.attr('href')\n",
    "                    product['title'] = pq_a.text().strip().lower()\n",
    "                    product['pid'] = pq_item.find('.product-model').text().split(':')[1].strip()\n",
    "                    product['category'] = pq_item.find('.product-group').text().split(':')[1].strip()\n",
    "                    product['update'] = pq_item.find('.next-table-cell:nth-child(5)>div>div:first-child').text().strip()\n",
    "                    product['price'] = pq_item.find('.next-table-cell:nth-child(3)').text().strip()\n",
    "                    product['quality'] = []\n",
    "                    product['quality'].append(pq_item.find('.product-quality').text().strip())\n",
    "                    pq_tags = pq_item.find('.product-tags .next-tag-body')\n",
    "                    product['tags'] = []\n",
    "\n",
    "                    for tag in pq_tags:\n",
    "                        product['tags'].append(pq(tag).text().strip())\n",
    "\n",
    "                    result = re.search('id=(\\d+)$', product['href'])\n",
    "                    if result:\n",
    "                        ali_id = result.group(1)\n",
    "                    else:\n",
    "                        ali_id = re.search('_(\\d+).htm', product['href']).group(1)\n",
    "                    product['ali_id'] = ali_id\n",
    "                    products.append(product)\n",
    "                \n",
    "\n",
    "            if counter == pn - 1:\n",
    "                break\n",
    "\n",
    "            css_selector = '#ballon-container .next-pagination-pages .next'\n",
    "            btn_next = browser.find_element_by_css_selector(css_selector)\n",
    "            if btn_next.is_enabled():\n",
    "                btn_next.click()\n",
    "                browser.implicitly_wait(1)\n",
    "                css_selector = '#ballon-container .manage-loading .next-loading-tip'\n",
    "                div_tip = browser.find_elements_by_css_selector(css_selector)\n",
    "                if len(div_tip) != 0:\n",
    "                    WebDriverWait(browser, 20).until(EC.staleness_of(div_tip[0]))\n",
    "            else:\n",
    "                break\n",
    "\n",
    "            self.notify(\"primary\", \"完成 查找！\")\n",
    "    except Exception as e:\n",
    "        self.notify(\"danger\", \"爬取产品 数据 出错, \" + str(e))\n",
    "        traceback.print_exc()\n",
    "        products = []\n",
    "    finally:\n",
    "        return products\n",
    "        pass\n",
    "        # if self.socketio:\n",
    "        #     self.notify(\"get_posted_product_info_result\", products)\n",
    "\n",
    "alibaba_eyelash.get_posted_product_info = types.MethodType(get_posted_product_info, alibaba_eyelash)\n",
    "alibaba_tools.get_posted_product_info = types.MethodType(get_posted_product_info, alibaba_tools)"
   ]
  },
  {
   "cell_type": "code",
   "execution_count": null,
   "metadata": {},
   "outputs": [],
   "source": [
    "ps = alibaba_eyelash.get_posted_product_info(1)\n",
    "print(len(ps))"
   ]
  },
  {
   "cell_type": "code",
   "execution_count": null,
   "metadata": {},
   "outputs": [],
   "source": [
    "ps[1]"
   ]
  },
  {
   "cell_type": "code",
   "execution_count": null,
   "metadata": {},
   "outputs": [],
   "source": [
    "ps = alibaba_tools.get_posted_product_info(2)\n",
    "print(len(ps))"
   ]
  },
  {
   "cell_type": "code",
   "execution_count": null,
   "metadata": {},
   "outputs": [],
   "source": [
    "def crawl_product_info(self, html):\n",
    "    \n",
    "                \n",
    "alibaba_eyelash.crawl_product_info = types.MethodType(crawl_product_info, alibaba_eyelash)\n",
    "alibaba_tools.crawl_product_info = types.MethodType(crawl_product_info, alibaba_tools)"
   ]
  },
  {
   "cell_type": "code",
   "execution_count": null,
   "metadata": {},
   "outputs": [],
   "source": []
  },
  {
   "cell_type": "code",
   "execution_count": null,
   "metadata": {},
   "outputs": [],
   "source": [
    "pictures = []\n",
    "picture = {'old': \"//sc02.alicdn.com/kf/HTB156nci3KTBuNkSne1q6yJoXXaO/231186930/HTB156nci3KTBuNkSne1q6yJoXXaO.jpg\"}\n",
    "picture['new'] = \"//sc02.alicdn.com/kf/HTB1cn7DpvuSBuNkHFqDq6xfhVXaT/231186930/HTB1cn7DpvuSBuNkHFqDq6xfhVXaT.jpg\"\n",
    "pictures.append(picture)\n",
    "picture = {'old': \"//sc02.alicdn.com/kf/HTB1KAzci3KTBuNkSne1q6yJoXXas/231186930/HTB1KAzci3KTBuNkSne1q6yJoXXas.jpg\"}\n",
    "picture['new'] = \"//sc01.alicdn.com/kf/HTB1sJ4Ox25TBuNjSspmq6yDRVXax/231186930/HTB1sJ4Ox25TBuNjSspmq6yDRVXax.jpg\"\n",
    "pictures.append(picture)\n",
    "picture = {'old': \"//sc01.alicdn.com/kf/HTB1xBa5iZuYBuNkSmRyq6AA3pXaY/231186930/HTB1xBa5iZuYBuNkSmRyq6AA3pXaY.jpg\"}\n",
    "picture['new'] = \"//sc02.alicdn.com/kf/HTB176d8x49YBuNjy0Ffq6xIsVXaE/231186930/HTB176d8x49YBuNjy0Ffq6xIsVXaE.jpg\"\n",
    "pictures.append(picture)\n",
    "price = {'isTieredPricing': False, 'price_range': [3.3, 4.8], 'tieredPricing': []}\n",
    "data = dict(ali_id=\"60764140968\", price=price, detail_pictures=pictures)"
   ]
  },
  {
   "cell_type": "code",
   "execution_count": null,
   "metadata": {},
   "outputs": [],
   "source": [
    "alibaba.update_product(data)"
   ]
  },
  {
   "cell_type": "code",
   "execution_count": null,
   "metadata": {},
   "outputs": [],
   "source": [
    "data"
   ]
  },
  {
   "cell_type": "code",
   "execution_count": null,
   "metadata": {},
   "outputs": [],
   "source": [
    "element = browser.find_element_by_css_selector(\"#editor-container\")\n",
    "ActionChains(browser).move_to_element(element).perform()\n",
    "# self.notify(\"primary\", \"开始 设置 产品详情页 ... ...\")\n",
    "# 点击 详情编辑器 ‘源代码’ 按钮， 清空内容，再切换回 富文本 编辑状态\n",
    "browser.find_element_by_css_selector('#mceu_0 button').click()\n",
    "textarea = WebDriverWait(browser, 5).until(\n",
    "    EC.visibility_of_element_located((By.CSS_SELECTOR, '#mceu_46 textarea')))"
   ]
  },
  {
   "cell_type": "code",
   "execution_count": null,
   "metadata": {},
   "outputs": [],
   "source": [
    "text = textarea.get_attribute('value')\n",
    "soup = BeautifulSoup(text, 'html.parser')\n",
    "for img in soup.find_all('img'):\n",
    "    src = img['src']\n",
    "    key = re.sub('//[^\\.]*\\.', '', src)\n",
    "    \n",
    "    for idx, pic in enumerate(pictures):\n",
    "        if key not in pic['old']:\n",
    "            continue\n",
    "            \n",
    "        img['src'] = pic['new']\n",
    "        if img.has_attr('ori-width'):\n",
    "            del img['ori-width']\n",
    "        if img.has_attr('ori-height'):\n",
    "            del img['ori-height']\n",
    "        break\n"
   ]
  },
  {
   "cell_type": "code",
   "execution_count": null,
   "metadata": {},
   "outputs": [],
   "source": [
    "\n",
    "js_templ = \"document.querySelector('{selector}').value = '{value}';\"\n",
    "js = js_templ.format(selector='#mceu_46 textarea', value=re.sub('\\n', '\\\\\\\\n', str(soup)))\n",
    "browser.find_element_by_css_selector('#mceu_46 textarea').clear()\n",
    "browser.execute_script(js)\n",
    "browser.find_element_by_css_selector('#mceu_0 button').click()\n",
    "WebDriverWait(browser, 5).until(EC.visibility_of_element_located((By.CSS_SELECTOR, '#mceu_46 iframe')))"
   ]
  },
  {
   "cell_type": "code",
   "execution_count": null,
   "metadata": {},
   "outputs": [],
   "source": []
  }
 ],
 "metadata": {
  "kernelspec": {
   "display_name": "Python 3",
   "language": "python",
   "name": "python3"
  },
  "language_info": {
   "codemirror_mode": {
    "name": "ipython",
    "version": 3
   },
   "file_extension": ".py",
   "mimetype": "text/x-python",
   "name": "python",
   "nbconvert_exporter": "python",
   "pygments_lexer": "ipython3",
   "version": "3.6.5"
  }
 },
 "nbformat": 4,
 "nbformat_minor": 2
}
