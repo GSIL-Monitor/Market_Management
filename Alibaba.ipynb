{
 "cells": [
  {
   "cell_type": "code",
   "execution_count": 1,
   "metadata": {},
   "outputs": [],
   "source": [
    "from libs.alibaba.alibaba import Alibaba\n",
    "\n",
    "from selenium.webdriver.common.action_chains import ActionChains\n",
    "from selenium import webdriver\n",
    "from selenium.webdriver.common.by import By\n",
    "from selenium.webdriver.support.ui import WebDriverWait\n",
    "from selenium.webdriver.support import expected_conditions as EC\n",
    "from selenium.common.exceptions import WebDriverException\n",
    "from selenium.common.exceptions import NoSuchElementException\n",
    "from selenium.common.exceptions import TimeoutException\n",
    "from selenium.common.exceptions import StaleElementReferenceException\n",
    "from selenium.webdriver.support.select import Select\n",
    "from bs4 import BeautifulSoup\n",
    "from pyquery import PyQuery as pq\n",
    "\n",
    "import html\n",
    "import time\n",
    "import re\n",
    "\n",
    "import types"
   ]
  },
  {
   "cell_type": "code",
   "execution_count": 2,
   "metadata": {},
   "outputs": [],
   "source": [
    "lid = 'eyelash@glittergroupcn.com'\n",
    "lpwd = 'Wangzhen68970747'\n",
    "alibaba = Alibaba(lid, lpwd)"
   ]
  },
  {
   "cell_type": "code",
   "execution_count": 3,
   "metadata": {},
   "outputs": [
    {
     "name": "stdout",
     "output_type": "stream",
     "text": [
      "primary 打开网址：https://i.alibaba.com\n",
      "primary 等待登陆页面加载 ... ...\n",
      "primary 输入登录信息， 并登录\n",
      "success 成功 登录 阿里巴巴 国际站！用户名：Jeremy\n"
     ]
    }
   ],
   "source": [
    "alibaba.login()\n",
    "browser = alibaba.browser"
   ]
  },
  {
   "cell_type": "code",
   "execution_count": 32,
   "metadata": {},
   "outputs": [],
   "source": [
    "def get_posted_product_info(self, pn):\n",
    "    browser = self.browser\n",
    "    products = []\n",
    "    try:\n",
    "        self.notify(\"primary\", '打开 产品管理 页面 ... ...')\n",
    "        browser.get(self.api_product_manage)\n",
    "        css_selector = '#ballon-container .list-item'\n",
    "        WebDriverWait(browser, 15).until(EC.presence_of_element_located((By.CSS_SELECTOR, css_selector)))\n",
    "\n",
    "        msg = '切换 至 显示全部产品 ... ...'\n",
    "        self.notify(\"primary\", msg)\n",
    "        css_selector = '#ballon-container div[role=\"tab\"]:nth-child(1)'\n",
    "        tab_all = WebDriverWait(browser, 15).until(\n",
    "            EC.visibility_of_element_located((By.CSS_SELECTOR, css_selector)))\n",
    "        tab_all.click()\n",
    "        browser.implicitly_wait(1)\n",
    "        css_selector = '#ballon-container .manage-loading .next-loading-tip'\n",
    "        div_tip = browser.find_elements_by_css_selector(css_selector)\n",
    "        if len(div_tip) != 0:\n",
    "            WebDriverWait(browser, 20).until(EC.staleness_of(div_tip[0]))\n",
    "\n",
    "        pn = int(pn)\n",
    "        for counter in range(pn):\n",
    "            msg = '查找 全部产品列表 第 ' + str(counter + 1) + ' 页'\n",
    "            self.notify(\"primary\", msg)\n",
    "\n",
    "            css_selector = '#ballon-container .list-item'\n",
    "            html_source = browser.page_source\n",
    "            doc = pq(html_source)\n",
    "            items = doc('#ballon-container .list-item')\n",
    "            for item in items:\n",
    "                pq_item = pq(item)\n",
    "                product = {}\n",
    "                pq_a = pq_item.find('.product-subject a')\n",
    "                if len(pq_a) == 0:\n",
    "                    continue\n",
    "                \n",
    "                product['href'] = pq_a.attr('href')\n",
    "                product['title'] = pq_a.text().strip().lower()\n",
    "                product['pid'] = pq_item.find('.product-model').text().split(':')[1].strip()\n",
    "                product['category'] = pq_item.find('.product-group').text().split(':')[1].strip()\n",
    "                product['update'] = pq_item.find('.product-update span').text().strip()\n",
    "                product['price'] = pq_item.find('.product-price div').text().strip()\n",
    "                product['quality'] = []\n",
    "                product['quality'].append(pq_item.find('.product-quality div:nth-child(1)').text().strip())\n",
    "                product['quality'].append(pq_item.find('.product-quality div:nth-child(2)').text().strip())\n",
    "                pq_tags = pq_item.find('.product-tags .next-tag-body')\n",
    "                product['tags'] = []\n",
    "                \n",
    "                for tag in pq_tags:\n",
    "                    product['tags'].append(pq(tag).text().strip())\n",
    "                \n",
    "                result = re.search('id=(\\d+)$', product['href'])\n",
    "                if result:\n",
    "                    ali_id = result.group(1)\n",
    "                else:\n",
    "                    ali_id = re.search('_(\\d+).htm', product['href']).group(1)\n",
    "                product['ali_id'] = ali_id\n",
    "                products.append(product)\n",
    "\n",
    "            if counter == pn - 1:\n",
    "                break\n",
    "\n",
    "            css_selector = '#ballon-container .next-pagination-pages .next'\n",
    "            btn_next = browser.find_element_by_css_selector(css_selector)\n",
    "            if btn_next.is_enabled():\n",
    "                btn_next.click()\n",
    "                browser.implicitly_wait(1)\n",
    "                css_selector = '#ballon-container .manage-loading .next-loading-tip'\n",
    "                div_tip = browser.find_elements_by_css_selector(css_selector)\n",
    "                if len(div_tip) != 0:\n",
    "                    WebDriverWait(browser, 20).until(EC.staleness_of(div_tip[0]))\n",
    "            else:\n",
    "                break\n",
    "\n",
    "            self.notify(\"primary\", \"完成 查找！\")\n",
    "    except Exception as e:\n",
    "        self.notify(\"danger\", \"爬取产品 [\" + ali_id + \"] 数据 出错, \" + str(e))\n",
    "        products = None\n",
    "    finally:\n",
    "        if self.socketio:\n",
    "            self.socketio.emit(\"get_posted_product_info_result\", products)\n",
    "    print(products)\n",
    "alibaba.get_posted_product_info = types.MethodType(get_posted_product_info, alibaba)"
   ]
  },
  {
   "cell_type": "code",
   "execution_count": 4,
   "metadata": {},
   "outputs": [
    {
     "name": "stdout",
     "output_type": "stream",
     "text": [
      "primary 打开产品 [60763545453] 编辑页面 ... ...\n",
      "{'ali_id': 60763545453, 'price': {'isTieredPricing': False, 'price_range': ['3.3', '4.6'], 'tieredPricing': []}, 'detail_pictures': [{'old': '//sc02.alicdn.com/kf/HTB156nci3KTBuNkSne1q6yJoXXaO/231186930/HTB156nci3KTBuNkSne1q6yJoXXaO.jpg', 'new': '//sc02.alicdn.com/kf/HTB1cn7DpvuSBuNkHFqDq6xfhVXaT/231186930/HTB1cn7DpvuSBuNkHFqDq6xfhVXaT.jpg'}, {'old': '//sc02.alicdn.com/kf/HTB1KAzci3KTBuNkSne1q6yJoXXas/231186930/HTB1KAzci3KTBuNkSne1q6yJoXXas.jpg', 'new': '//sc01.alicdn.com/kf/HTB1sJ4Ox25TBuNjSspmq6yDRVXax/231186930/HTB1sJ4Ox25TBuNjSspmq6yDRVXax.jpg'}, {'old': '//sc01.alicdn.com/kf/HTB1xBa5iZuYBuNkSmRyq6AA3pXaY/231186930/HTB1xBa5iZuYBuNkSmRyq6AA3pXaY.jpg', 'new': '//sc02.alicdn.com/kf/HTB176d8x49YBuNjy0Ffq6xIsVXaE/231186930/HTB176d8x49YBuNjy0Ffq6xIsVXaE.jpg'}]}\n",
      "primary 设置产品 [60763545453] 的价格区间 ... ...\n"
     ]
    }
   ],
   "source": [
    "data = {'ali_id': 60763545453, 'price': {'isTieredPricing': False, 'price_range': ['3.3', '4.6'], 'tieredPricing': []}, 'detail_pictures': [{'old': '//sc02.alicdn.com/kf/HTB156nci3KTBuNkSne1q6yJoXXaO/231186930/HTB156nci3KTBuNkSne1q6yJoXXaO.jpg', 'new': '//sc02.alicdn.com/kf/HTB1cn7DpvuSBuNkHFqDq6xfhVXaT/231186930/HTB1cn7DpvuSBuNkHFqDq6xfhVXaT.jpg'}, {'old': '//sc02.alicdn.com/kf/HTB1KAzci3KTBuNkSne1q6yJoXXas/231186930/HTB1KAzci3KTBuNkSne1q6yJoXXas.jpg', 'new': '//sc01.alicdn.com/kf/HTB1sJ4Ox25TBuNjSspmq6yDRVXax/231186930/HTB1sJ4Ox25TBuNjSspmq6yDRVXax.jpg'}, {'old': '//sc01.alicdn.com/kf/HTB1xBa5iZuYBuNkSmRyq6AA3pXaY/231186930/HTB1xBa5iZuYBuNkSmRyq6AA3pXaY.jpg', 'new': '//sc02.alicdn.com/kf/HTB176d8x49YBuNjy0Ffq6xIsVXaE/231186930/HTB176d8x49YBuNjy0Ffq6xIsVXaE.jpg'}]}\n",
    "data\n",
    "alibaba.update_product(data)"
   ]
  },
  {
   "cell_type": "code",
   "execution_count": 41,
   "metadata": {},
   "outputs": [],
   "source": []
  },
  {
   "cell_type": "code",
   "execution_count": 93,
   "metadata": {},
   "outputs": [],
   "source": []
  },
  {
   "cell_type": "code",
   "execution_count": 13,
   "metadata": {},
   "outputs": [
    {
     "name": "stdout",
     "output_type": "stream",
     "text": [
      "primary 打开网址：https://i.alibaba.com\n",
      "primary 等待登陆页面加载 ... ...\n",
      "primary 输入登录信息， 并登录\n",
      "success 成功 登录 阿里巴巴 国际站！用户名：Jeremy\n"
     ]
    }
   ],
   "source": []
  },
  {
   "cell_type": "code",
   "execution_count": 1,
   "metadata": {},
   "outputs": [],
   "source": [
    "pictures = []\n",
    "picture = {'old': \"//sc02.alicdn.com/kf/HTB156nci3KTBuNkSne1q6yJoXXaO/231186930/HTB156nci3KTBuNkSne1q6yJoXXaO.jpg\"}\n",
    "picture['new'] = \"//sc02.alicdn.com/kf/HTB1cn7DpvuSBuNkHFqDq6xfhVXaT/231186930/HTB1cn7DpvuSBuNkHFqDq6xfhVXaT.jpg\"\n",
    "pictures.append(picture)\n",
    "picture = {'old': \"//sc02.alicdn.com/kf/HTB1KAzci3KTBuNkSne1q6yJoXXas/231186930/HTB1KAzci3KTBuNkSne1q6yJoXXas.jpg\"}\n",
    "picture['new'] = \"//sc01.alicdn.com/kf/HTB1sJ4Ox25TBuNjSspmq6yDRVXax/231186930/HTB1sJ4Ox25TBuNjSspmq6yDRVXax.jpg\"\n",
    "pictures.append(picture)\n",
    "picture = {'old': \"//sc01.alicdn.com/kf/HTB1xBa5iZuYBuNkSmRyq6AA3pXaY/231186930/HTB1xBa5iZuYBuNkSmRyq6AA3pXaY.jpg\"}\n",
    "picture['new'] = \"//sc02.alicdn.com/kf/HTB176d8x49YBuNjy0Ffq6xIsVXaE/231186930/HTB176d8x49YBuNjy0Ffq6xIsVXaE.jpg\"\n",
    "pictures.append(picture)\n",
    "price = {'isTieredPricing': False, 'price_range': [3.3, 4.8], 'tieredPricing': []}\n",
    "data = dict(ali_id=\"60764140968\", price=price, detail_pictures=pictures)"
   ]
  },
  {
   "cell_type": "code",
   "execution_count": 94,
   "metadata": {},
   "outputs": [
    {
     "name": "stdout",
     "output_type": "stream",
     "text": [
      "primary 打开产品 [60764140968] 编辑页面 ... ...\n",
      "primary 设置产品 [60764140968] 的价格区间 ... ...\n"
     ]
    }
   ],
   "source": [
    "alibaba.update_product(data)"
   ]
  },
  {
   "cell_type": "code",
   "execution_count": 2,
   "metadata": {},
   "outputs": [
    {
     "data": {
      "text/plain": [
       "{'ali_id': '60764140968',\n",
       " 'price': {'isTieredPricing': False,\n",
       "  'price_range': [3.3, 4.8],\n",
       "  'tieredPricing': []},\n",
       " 'detail_pictures': [{'old': '//sc02.alicdn.com/kf/HTB156nci3KTBuNkSne1q6yJoXXaO/231186930/HTB156nci3KTBuNkSne1q6yJoXXaO.jpg',\n",
       "   'new': '//sc02.alicdn.com/kf/HTB1cn7DpvuSBuNkHFqDq6xfhVXaT/231186930/HTB1cn7DpvuSBuNkHFqDq6xfhVXaT.jpg'},\n",
       "  {'old': '//sc02.alicdn.com/kf/HTB1KAzci3KTBuNkSne1q6yJoXXas/231186930/HTB1KAzci3KTBuNkSne1q6yJoXXas.jpg',\n",
       "   'new': '//sc01.alicdn.com/kf/HTB1sJ4Ox25TBuNjSspmq6yDRVXax/231186930/HTB1sJ4Ox25TBuNjSspmq6yDRVXax.jpg'},\n",
       "  {'old': '//sc01.alicdn.com/kf/HTB1xBa5iZuYBuNkSmRyq6AA3pXaY/231186930/HTB1xBa5iZuYBuNkSmRyq6AA3pXaY.jpg',\n",
       "   'new': '//sc02.alicdn.com/kf/HTB176d8x49YBuNjy0Ffq6xIsVXaE/231186930/HTB176d8x49YBuNjy0Ffq6xIsVXaE.jpg'}]}"
      ]
     },
     "execution_count": 2,
     "metadata": {},
     "output_type": "execute_result"
    }
   ],
   "source": [
    "data"
   ]
  },
  {
   "cell_type": "code",
   "execution_count": 89,
   "metadata": {},
   "outputs": [],
   "source": [
    "element = browser.find_element_by_css_selector(\"#editor-container\")\n",
    "ActionChains(browser).move_to_element(element).perform()\n",
    "# self.notify(\"primary\", \"开始 设置 产品详情页 ... ...\")\n",
    "# 点击 详情编辑器 ‘源代码’ 按钮， 清空内容，再切换回 富文本 编辑状态\n",
    "browser.find_element_by_css_selector('#mceu_0 button').click()\n",
    "textarea = WebDriverWait(browser, 5).until(\n",
    "    EC.visibility_of_element_located((By.CSS_SELECTOR, '#mceu_46 textarea')))"
   ]
  },
  {
   "cell_type": "code",
   "execution_count": 90,
   "metadata": {},
   "outputs": [],
   "source": [
    "text = textarea.get_attribute('value')\n",
    "soup = BeautifulSoup(text, 'html.parser')\n",
    "for img in soup.find_all('img'):\n",
    "    src = img['src']\n",
    "    key = re.sub('//[^\\.]*\\.', '', src)\n",
    "    \n",
    "    for idx, pic in enumerate(pictures):\n",
    "        if key not in pic['old']:\n",
    "            continue\n",
    "            \n",
    "        img['src'] = pic['new']\n",
    "        if img.has_attr('ori-width'):\n",
    "            del img['ori-width']\n",
    "        if img.has_attr('ori-height'):\n",
    "            del img['ori-height']\n",
    "        break\n"
   ]
  },
  {
   "cell_type": "code",
   "execution_count": 91,
   "metadata": {},
   "outputs": [],
   "source": [
    "\n",
    "js_templ = \"document.querySelector('{selector}').value = '{value}';\"\n",
    "js = js_templ.format(selector='#mceu_46 textarea', value=re.sub('\\n', '\\\\\\\\n', str(soup)))\n",
    "browser.find_element_by_css_selector('#mceu_46 textarea').clear()\n",
    "browser.execute_script(js)\n",
    "browser.find_element_by_css_selector('#mceu_0 button').click()\n",
    "WebDriverWait(browser, 5).until(EC.visibility_of_element_located((By.CSS_SELECTOR, '#mceu_46 iframe')))"
   ]
  },
  {
   "cell_type": "code",
   "execution_count": null,
   "metadata": {},
   "outputs": [],
   "source": []
  }
 ],
 "metadata": {
  "kernelspec": {
   "display_name": "Python 3",
   "language": "python",
   "name": "python3"
  },
  "language_info": {
   "codemirror_mode": {
    "name": "ipython",
    "version": 3
   },
   "file_extension": ".py",
   "mimetype": "text/x-python",
   "name": "python",
   "nbconvert_exporter": "python",
   "pygments_lexer": "ipython3",
   "version": "3.6.5"
  }
 },
 "nbformat": 4,
 "nbformat_minor": 2
}
