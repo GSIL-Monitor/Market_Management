{
 "cells": [
  {
   "cell_type": "code",
   "execution_count": 13,
   "metadata": {},
   "outputs": [],
   "source": [
    "from libs.alibaba.alibaba import Alibaba\n",
    "\n",
    "from selenium.webdriver.common.action_chains import ActionChains\n",
    "from selenium import webdriver\n",
    "from selenium.webdriver.common.by import By\n",
    "from selenium.webdriver.support.ui import WebDriverWait\n",
    "from selenium.webdriver.support import expected_conditions as EC\n",
    "from selenium.common.exceptions import WebDriverException\n",
    "from selenium.common.exceptions import NoSuchElementException\n",
    "from selenium.common.exceptions import TimeoutException\n",
    "from selenium.common.exceptions import StaleElementReferenceException\n",
    "from selenium.webdriver.support.select import Select\n",
    "from bs4 import BeautifulSoup\n",
    "from pyquery import PyQuery as pq\n",
    "\n",
    "import html\n",
    "import time\n",
    "import re\n",
    "import traceback\n",
    "import types"
   ]
  },
  {
   "cell_type": "code",
   "execution_count": 4,
   "metadata": {},
   "outputs": [],
   "source": [
    "lid = 'eyelash@glittergroupcn.com'\n",
    "lpwd = 'Wangzhen68970747'\n",
    "alibaba = Alibaba(lid, lpwd)"
   ]
  },
  {
   "cell_type": "code",
   "execution_count": 5,
   "metadata": {},
   "outputs": [],
   "source": [
    "alibaba.chrome_options.add_argument('--headless')"
   ]
  },
  {
   "cell_type": "code",
   "execution_count": 6,
   "metadata": {},
   "outputs": [
    {
     "name": "stdout",
     "output_type": "stream",
     "text": [
      "primary 打开网址：https://i.alibaba.com\n",
      "primary 等待登陆页面加载 ... ...\n",
      "primary 输入登录信息， 并登录\n",
      "success 成功 登录 阿里巴巴 国际站！用户名：Jeremy\n"
     ]
    }
   ],
   "source": [
    "alibaba.login()\n",
    "browser = alibaba.browser"
   ]
  },
  {
   "cell_type": "code",
   "execution_count": 21,
   "metadata": {},
   "outputs": [
    {
     "name": "stdout",
     "output_type": "stream",
     "text": [
      "primary 打开产品 [60771026019] 编辑页面 ... ...\n",
      "primary 开始爬取产品 [60771026019] 数据 ... ...\n",
      "success 完成 对产品 [60771026019] 编辑页面 的数据爬取！\n",
      "result_message_60771119046 {'attributes': {'alibaba_id': '60771026019', 'alibaba_category': 'Beauty & Personal Care>>Makeup Tools>>False Eyelashes', 'name': 'Private Label 3D Lace Paper and silk lashes curling False Eyelashes for party', 'keywords': ['wholesale eyelashes', 'free eyelashes samples', 'custom eyelashes'], 'type': '21B05', 'brand': 'GLITTER', 'origin': ['China (Mainland)', 'Shandong'], 'material': 'Synthetic Hair', 'production_method': 'Hand Made', 'custom_attributes': [['Product Name', 'Top Quality Grade 100% Handmade Cotton Band 3D Silk False Eyelashes'], ['Color', 'Black'], ['Price', 'Factory Direct'], ['Sizes', 'All sizes are in stock'], ['Grade', 'Top grade, soft and natural looking'], ['Sample', 'Free Sample'], ['OEM/ODM', 'Accepted'], ['Assurance', 'Alibaba Trade Assurance'], ['Inspection', '100% Before Shipment'], ['Custom Packaging', 'Accepted']], 'isTieredPricing': False, 'currency': 'USD', 'price_range': ['1.06', '1.33'], 'sales_unit': 'Pair/Pairs', 'MOQ': '10', 'additional_trading_infomation': '', 'payment_methods': {'L/C': True, 'D/A': False, 'D/P': False, 'T/T': True, 'Western Union': True, 'MoneyGram': False}, 'delivery_time': 'Shipped in 7 days after payment', 'port': 'Qingdao', 'supply_ability': ['1000000', 'Pair/Pairs', 'Month'], 'additional_delivery_information': '', 'packaging': 'Custom packaging and logo are accepted'}, 'template': {'html': '<p style=\"margin: 0px; padding: 0px; color: #000000; font-family: Arial; font-size: 12px; font-style: normal; font-weight: normal; text-align: center;\"><strong><span style=\"font-size: 18px;\">Top Quality Grade 100% Handmade Cotton Band 3D Silk False Eyelashes</span></strong></p>\\n<p style=\"margin: 0px; padding: 0px; color: #000000; font-family: Arial; font-size: 12px; font-style: normal; font-weight: normal; text-align: center;\">&nbsp;</p>\\n<p style=\"margin: 0px; padding: 0px; color: #000000; font-family: Arial; font-size: 12px; font-style: normal; font-weight: normal;\"><img src=\"//sc02.alicdn.com/kf/HTB13Tbmd98YBeNkSnb4q6yevFXaG/231186930/HTB13Tbmd98YBeNkSnb4q6yevFXaG.jpg\" alt=\"Top Quality Grade 100% Handmade Cotton Band 3D Silk False Eyelashes\" ori-width=\"750\" ori-height=\"892\" /></p>\\n<p style=\"margin: 0px; padding: 0px; color: #000000; font-family: Arial; font-size: 12px; font-style: normal; font-weight: normal;\"><img src=\"//sc01.alicdn.com/kf/HTB1JptairwrBKNjSZPcq6xpapXaC/231186930/HTB1JptairwrBKNjSZPcq6xpapXaC.jpg\" alt=\"Factory price free samples high quality silk eyelashes\" ori-width=\"750\" ori-height=\"360\" /></p>\\n<p style=\"margin: 0px; padding: 0px; color: #000000; font-family: Arial; font-size: 12px; font-style: normal; font-weight: normal;\">&nbsp;</p>\\n<p style=\"margin: 0px; padding: 0px; color: #000000; font-family: Arial; font-size: 12px; font-style: normal; font-weight: normal;\"><img src=\"//sc01.alicdn.com/kf/HTB1MAO4x1uSBuNjy1Xcq6AYjFXaI/231186930/HTB1MAO4x1uSBuNjy1Xcq6AYjFXaI.jpg\" alt=\"Factory price free samples high quality silk eyelashes\" ori-width=\"750\" ori-height=\"360\" /></p>\\n<p style=\"margin: 0px; padding: 0px; color: #000000; font-family: Arial; font-size: 12px; font-style: normal; font-weight: normal;\">&nbsp;</p>\\n<p style=\"margin: 0px; padding: 0px; color: #000000; font-family: Arial; font-size: 12px; font-style: normal; font-weight: normal;\"><img src=\"//sc02.alicdn.com/kf/HTB1r6zcx1ySBuNjy1zdq6xPxFXaK/231186930/HTB1r6zcx1ySBuNjy1zdq6xPxFXaK.jpg\" alt=\"Factory price free samples high quality silk eyelashes\" ori-width=\"750\" ori-height=\"360\" /></p>\\n<p style=\"margin: 0px; padding: 0px; color: #000000; font-family: Arial; font-size: 12px; font-style: normal; font-weight: normal;\">&nbsp;</p>\\n<table style=\"color: #000000; font-family: Arial; font-size: 12px; font-style: normal; font-weight: normal; background-color: #ffffff; border-collapse: collapse; width: 100%; box-sizing: border-box; border: 1px solid #ff7276;\">\\n<tbody>\\n<tr style=\"height: 80px; background-color: white;\">\\n<td style=\"font-family: Verdana, Arial, Helvetica, sans-serif; font-size: 12px; margin: 8px; width: 93%; text-align: center; border: none; height: 37px; padding: 10px;\" colspan=\"2\">\\n<p><strong><span style=\"font-size: 24px; color: #ff676c;\">21A/21B Series Overview</span></strong></p>\\n<p><strong><span style=\"font-size: 16px; color: black;\">Top Quality Grade 100% Handmade Cotton Band 3D Silk False Eyelashes</span></strong></p>\\n</td>\\n</tr>\\n<tr style=\"height: 25px; background-color: #ffe4e8;\">\\n<td style=\"font-family: Verdana, Arial, Helvetica, sans-serif; font-size: 12px; color: #000000; margin: 8px; width: 21.8621%; text-align: left; padding-left: 40px; border: none; height: 14px;\"><span style=\"line-height: 21px; font-size: 14px;\">Brand</span></td>\\n<td style=\"font-family: Verdana, Arial, Helvetica, sans-serif; font-size: 12px; color: #000000; margin: 8px; width: 71.1379%; text-align: left; padding-left: 40px; border: none; height: 14px;\"><span style=\"line-height: 21px; font-size: 14px;\">GLITTER</span></td>\\n</tr>\\n<tr style=\"height: 25px; background-color: white;\">\\n<td style=\"font-family: Verdana, Arial, Helvetica, sans-serif; font-size: 12px; color: #000000; margin: 8px; width: 21.8621%; text-align: left; padding-left: 40px; border: none; height: 14px;\"><span style=\"line-height: 21px; font-size: 14px;\">Material</span></td>\\n<td style=\"font-family: Verdana, Arial, Helvetica, sans-serif; font-size: 12px; color: #000000; margin: 8px; width: 71.1379%; text-align: left; padding-left: 40px; border: none; height: 14px;\"><span style=\"line-height: 21px; font-size: 14px;\">Synthetic hair</span></td>\\n</tr>\\n<tr style=\"height: 25px; background-color: #ffe4e8;\">\\n<td style=\"font-family: Verdana, Arial, Helvetica, sans-serif; font-size: 12px; color: #000000; margin: 8px; width: 21.8621%; text-align: left; padding-left: 40px; border: none; height: 14px;\"><span style=\"line-height: 21px; font-size: 14px;\">Craft</span></td>\\n<td style=\"font-family: Verdana, Arial, Helvetica, sans-serif; font-size: 12px; color: #000000; margin: 8px; width: 71.1379%; text-align: left; padding-left: 40px; border: none; height: 14px;\"><span style=\"line-height: 21px; font-size: 14px;\">100% hand made</span></td>\\n</tr>\\n<tr style=\"height: 25px; background-color: white;\">\\n<td style=\"font-family: Verdana, Arial, Helvetica, sans-serif; font-size: 12px; color: #000000; margin: 8px; width: 21.8621%; text-align: left; padding-left: 40px; border: none; height: 14px;\"><span style=\"line-height: 21px; font-size: 14px;\">Origin</span></td>\\n<td style=\"font-family: Verdana, Arial, Helvetica, sans-serif; font-size: 12px; color: #000000; margin: 8px; width: 71.1379%; text-align: left; padding-left: 40px; border: none; height: 14px;\"><span style=\"line-height: 21px; font-size: 14px;\">Man-made fiber from Korea</span></td>\\n</tr>\\n<tr style=\"height: 25px; background-color: #ffe4e8;\">\\n<td style=\"font-family: Verdana, Arial, Helvetica, sans-serif; font-size: 12px; color: #000000; margin: 8px; width: 21.8621%; text-align: left; padding-left: 40px; border: none; height: 14px;\"><span style=\"line-height: 21px; font-size: 14px;\">Length</span></td>\\n<td style=\"font-family: Verdana, Arial, Helvetica, sans-serif; font-size: 12px; color: #000000; margin: 8px; width: 71.1379%; text-align: left; padding-left: 40px; border: none; height: 14px;\"><span style=\"line-height: 21px; font-size: 14px;\">5-16MM</span></td>\\n</tr>\\n<tr style=\"height: 25px; background-color: white;\">\\n<td style=\"font-family: Verdana, Arial, Helvetica, sans-serif; font-size: 12px; color: #000000; margin: 8px; width: 21.8621%; text-align: left; padding-left: 40px; border: none; height: 14px;\"><span style=\"line-height: 21px; font-size: 14px;\">Style</span></td>\\n<td style=\"font-family: Verdana, Arial, Helvetica, sans-serif; font-size: 12px; color: #000000; margin: 8px; width: 71.1379%; text-align: left; padding-left: 40px; border: none; height: 14px;\"><span style=\"line-height: 21px; font-size: 14px;\">Strip eyelashes</span></td>\\n</tr>\\n<tr style=\"height: 25px; background-color: #ffe4e8;\">\\n<td style=\"font-family: Verdana, Arial, Helvetica, sans-serif; font-size: 12px; color: #000000; margin: 8px; width: 21.8621%; text-align: left; padding-left: 40px; border: none; height: 14px;\"><span style=\"line-height: 21px; font-size: 14px;\">Band</span></td>\\n<td style=\"font-family: Verdana, Arial, Helvetica, sans-serif; font-size: 12px; color: #000000; margin: 8px; width: 71.1379%; text-align: left; padding-left: 40px; border: none; height: 14px;\"><span style=\"line-height: 21px; font-size: 14px;\">Cotton band</span></td>\\n</tr>\\n<tr style=\"height: 25px; background-color: white;\">\\n<td style=\"font-family: Verdana, Arial, Helvetica, sans-serif; font-size: 12px; color: #000000; margin: 8px; width: 21.8621%; text-align: left; padding-left: 40px; border: none; height: 14px;\"><span style=\"line-height: 21px; font-size: 14px;\">Feature</span></td>\\n<td style=\"font-family: Verdana, Arial, Helvetica, sans-serif; font-size: 12px; color: #000000; margin: 8px; width: 71.1379%; text-align: left; padding-left: 40px; border: none; height: 14px;\"><span style=\"line-height: 21px; font-size: 14px;\">Super light &amp; fluffy 3D effects</span></td>\\n</tr>\\n<tr style=\"height: 25px; background-color: #ffe4e8;\">\\n<td style=\"font-family: Verdana, Arial, Helvetica, sans-serif; font-size: 12px; color: #000000; margin: 8px; width: 21.8621%; text-align: left; padding-left: 40px; border: none; height: 14px;\"><span style=\"line-height: 21px; font-size: 14px;\">Application</span></td>\\n<td style=\"font-family: Verdana, Arial, Helvetica, sans-serif; font-size: 12px; color: #000000; margin: 8px; width: 71.1379%; text-align: left; padding-left: 40px; border: none; height: 14px;\"><span style=\"line-height: 21px; font-size: 14px;\">Daily makeup,dating,party,night club,etc.</span></td>\\n</tr>\\n<tr style=\"height: 25px; background-color: white;\">\\n<td style=\"font-family: Verdana, Arial, Helvetica, sans-serif; font-size: 12px; color: #000000; margin: 8px; width: 21.8621%; text-align: left; padding-left: 40px; border: none; height: 14px;\"><span style=\"line-height: 21px; font-size: 14px;\">MOQ</span></td>\\n<td style=\"font-family: Verdana, Arial, Helvetica, sans-serif; font-size: 12px; color: #000000; margin: 8px; width: 71.1379%; text-align: left; padding-left: 40px; border: none; height: 14px;\"><span style=\"line-height: 21px; font-size: 14px;\">10 pairs each style</span></td>\\n</tr>\\n<tr style=\"height: 25px; background-color: #ffe4e8;\">\\n<td style=\"font-family: Verdana, Arial, Helvetica, sans-serif; font-size: 12px; color: #000000; margin: 8px; width: 21.8621%; text-align: left; padding-left: 40px; border: none; height: 14px;\"><span style=\"line-height: 21px; font-size: 14px;\">LOGO</span></td>\\n<td style=\"font-family: Verdana, Arial, Helvetica, sans-serif; font-size: 12px; color: #000000; margin: 8px; width: 71.1379%; text-align: left; padding-left: 40px; border: none; height: 14px;\"><span style=\"line-height: 21px; font-size: 14px;\">Logo can be printed on package as required</span></td>\\n</tr>\\n<tr style=\"height: 25px; background-color: white;\">\\n<td style=\"font-family: Verdana, Arial, Helvetica, sans-serif; font-size: 12px; color: #000000; margin: 8px; width: 21.8621%; text-align: left; padding-left: 40px; border: none; height: 14px;\"><span style=\"line-height: 21px; font-size: 14px;\">Package</span></td>\\n<td style=\"font-family: Verdana, Arial, Helvetica, sans-serif; font-size: 12px; color: #000000; margin: 8px; width: 71.1379%; text-align: left; padding-left: 40px; border: none; height: 14px;\"><span style=\"line-height: 21px; font-size: 14px;\">Customed package is available</span></td>\\n</tr>\\n<tr style=\"height: 25px; background-color: #ffe4e8;\">\\n<td style=\"font-family: Verdana, Arial, Helvetica, sans-serif; font-size: 12px; color: #000000; margin: 8px; width: 21.8621%; text-align: left; padding-left: 40px; border: none; height: 14px;\"><span style=\"line-height: 21px; font-size: 14px;\">OEM/ODM</span></td>\\n<td style=\"font-family: Verdana, Arial, Helvetica, sans-serif; font-size: 12px; color: #000000; margin: 8px; width: 71.1379%; text-align: left; padding-left: 40px; border: none; height: 14px;\"><span style=\"line-height: 21px; font-size: 14px;\">Accepted</span></td>\\n</tr>\\n<tr style=\"height: 25px; background-color: white;\">\\n<td style=\"font-family: Verdana, Arial, Helvetica, sans-serif; font-size: 12px; color: #000000; margin: 8px; width: 21.8621%; text-align: left; padding-left: 40px; border: none; height: 14px;\"><span style=\"line-height: 21px; font-size: 14px;\">Sample</span></td>\\n<td style=\"font-family: Verdana, Arial, Helvetica, sans-serif; font-size: 12px; color: #000000; margin: 8px; width: 71.1379%; text-align: left; padding-left: 40px; border: none; height: 14px;\"><span style=\"line-height: 21px; font-size: 14px;\">Sample for free</span></td>\\n</tr>\\n<tr style=\"height: 25px; background-color: #ffe4e8;\">\\n<td style=\"font-family: Verdana, Arial, Helvetica, sans-serif; font-size: 12px; color: #000000; margin: 8px; width: 21.8621%; text-align: left; padding-left: 40px; border: none; height: 14px;\"><span style=\"line-height: 21px; font-size: 14px;\">Shipment Term</span></td>\\n<td style=\"font-family: Verdana, Arial, Helvetica, sans-serif; font-size: 12px; color: #000000; margin: 8px; width: 71.1379%; text-align: left; padding-left: 40px; border: none; height: 14px;\"><span style=\"line-height: 21px; font-size: 14px;\">By Sea, Air or Express</span></td>\\n</tr>\\n<tr style=\"height: 25px; background-color: white;\">\\n<td style=\"font-family: Verdana, Arial, Helvetica, sans-serif; font-size: 12px; color: #000000; margin: 8px; width: 21.8621%; text-align: left; padding-left: 40px; border: none; height: 14px;\"><span style=\"line-height: 21px; font-size: 14px;\">Payment Term</span></td>\\n<td style=\"font-family: Verdana, Arial, Helvetica, sans-serif; font-size: 12px; color: #000000; margin: 8px; width: 71.1379%; text-align: left; padding-left: 40px; border: none; height: 14px;\"><span style=\"line-height: 21px; font-size: 14px;\">T/T, Paypal, Western Union, e-Checking</span></td>\\n</tr>\\n<tr style=\"height: 25px; background-color: #ffe4e8;\">\\n<td style=\"font-family: Verdana, Arial, Helvetica, sans-serif; font-size: 12px; color: #000000; margin: 8px; width: 21.8621%; text-align: left; padding-left: 40px; border: none; height: 14px;\"><span style=\"line-height: 21px; font-size: 14px;\">Delivery Date</span></td>\\n<td style=\"font-family: Verdana, Arial, Helvetica, sans-serif; font-size: 12px; color: #000000; margin: 8px; width: 71.1379%; text-align: left; padding-left: 40px; border: none; height: 14px;\"><span style=\"line-height: 21px; font-size: 14px;\"> <span style=\"line-height: 21px; font-size: 14px;\">Will be sent out in one day if in stock, Others according to the quantity</span> </span></td>\\n</tr>\\n</tbody>\\n</table>\\n<p style=\"margin: 0px; padding: 0px; color: #000000; font-family: Arial; font-size: 12px; font-style: normal; font-weight: normal;\">&nbsp;</p>\\n<p style=\"margin: 0px; padding: 0px; color: #000000; font-family: Arial; font-size: 12px; font-style: normal; font-weight: normal;\"><a href=\"https://glittereyelash.en.alibaba.com/productgrouplist-806057429/3D_Silk_Eyelashes.html\"> <img src=\"//sc02.alicdn.com/kf/HTB1Dru4x9BYBeNjy0Feq6znmFXaW/231186930/HTB1Dru4x9BYBeNjy0Feq6znmFXaW.jpg\" alt=\"Top Quality Grade 100% Handmade Cotton Band 3D Silk False Eyelashes\" /> </a> <a href=\"https://glittereyelash.en.alibaba.com/productgrouplist-806057429/3D_Silk_Eyelashes.html\"> <img src=\"//sc01.alicdn.com/kf/HTB1w7BBxVGWBuNjy0Fbq6z4sXXaf/231186930/HTB1w7BBxVGWBuNjy0Fbq6z4sXXaf.jpg\" alt=\"Top Quality Grade 100% Handmade Cotton Band 3D Silk False Eyelashes\" /> </a> <a href=\"https://glittereyelash.en.alibaba.com/productgrouplist-806057429/3D_Silk_Eyelashes.html\"> <img src=\"//sc02.alicdn.com/kf/HTB1y5kzpviSBuNkSnhJq6zDcpXam/231186930/HTB1y5kzpviSBuNkSnhJq6zDcpXam.jpg\" alt=\"Top Quality Grade 100% Handmade Cotton Band 3D Silk False Eyelashes\" /> </a></p>\\n<p style=\"margin: 0px; padding: 0px; color: #000000; font-family: Arial; font-size: 12px; font-style: normal; font-weight: normal;\"><img src=\"//sc01.alicdn.com/kf/HTB1fmSMfZUrBKNjSZPxq6x00pXaL/231186930/HTB1fmSMfZUrBKNjSZPxq6x00pXaL.jpg\" alt=\"Top Quality Grade 100% Handmade Cotton Band 3D Silk False Eyelashes\" ori-width=\"750\" ori-height=\"836\" /></p>\\n<p style=\"margin: 0px; padding: 0px; color: #000000; font-family: Arial; font-size: 12px; font-style: normal; font-weight: normal;\"><img src=\"//sc02.alicdn.com/kf/HTB1UBugiiCYBuNkHFCcq6AHtVXag/231186930/HTB1UBugiiCYBuNkHFCcq6AHtVXag.jpg\" alt=\"Top Quality Grade 100% Handmade Cotton Band 3D Silk False Eyelashes\" ori-width=\"750\" ori-height=\"659\" /><img src=\"//sc02.alicdn.com/kf/HTB1.MTgrH9YBuNjy0Fgq6AxcXXaW/231186930/HTB1.MTgrH9YBuNjy0Fgq6AxcXXaW.jpg\" alt=\"Top Quality Grade 100% Handmade Cotton Band 3D Silk False Eyelashes\" ori-width=\"750\" ori-height=\"825\" /><img src=\"//sc01.alicdn.com/kf/HTB16L99nTJYBeNjy1zeq6yhzVXap/231186930/HTB16L99nTJYBeNjy1zeq6yhzVXap.jpg\" alt=\"Top Quality Grade 100% Handmade Cotton Band 3D Silk False Eyelashes\" ori-width=\"750\" ori-height=\"723\" /><img src=\"//sc02.alicdn.com/kf/HTB1CPL_qoR1BeNjy0Fmq6z0wVXaE/231186930/HTB1CPL_qoR1BeNjy0Fmq6z0wVXaE.jpg\" alt=\"Top Quality Grade 100% Handmade Cotton Band 3D Silk False Eyelashes\" ori-width=\"750\" ori-height=\"592\" /><img src=\"//sc01.alicdn.com/kf/HTB1V2WAgQ9WBuNjSspeq6yz5VXan/231186930/HTB1V2WAgQ9WBuNjSspeq6yz5VXan.jpg\" alt=\"Top Quality Grade 100% Handmade Cotton Band 3D Silk False Eyelashes\" ori-width=\"750\" ori-height=\"608\" /><img src=\"//sc01.alicdn.com/kf/HTB1pQuOgQyWBuNjy0Fpq6yssXXag/231186930/HTB1pQuOgQyWBuNjy0Fpq6yssXXag.jpg\" alt=\"Top Quality Grade 100% Handmade Cotton Band 3D Silk False Eyelashes\" ori-width=\"750\" ori-height=\"503\" /><img src=\"//sc01.alicdn.com/kf/HTB1of4ppk9WBuNjSspeq6yz5VXan/231186930/HTB1of4ppk9WBuNjSspeq6yz5VXan.jpg\" alt=\"Top Quality Grade 100% Handmade Cotton Band 3D Silk False Eyelashes\" ori-width=\"750\" ori-height=\"424\" /></p>'}}\n"
     ]
    }
   ],
   "source": [
    "alibaba.crawl_product_data('result_message_60771119046', str(60771026019))"
   ]
  },
  {
   "cell_type": "code",
   "execution_count": 17,
   "metadata": {},
   "outputs": [
    {
     "data": {
      "text/plain": [
       "True"
      ]
     },
     "execution_count": 17,
     "metadata": {},
     "output_type": "execute_result"
    }
   ],
   "source": []
  },
  {
   "cell_type": "code",
   "execution_count": 19,
   "metadata": {},
   "outputs": [],
   "source": [
    "def crawl_product_data(self, result_message, ali_id):\n",
    "    api = 'https://hz-productposting.alibaba.com/product/editing.htm?id='\n",
    "    browser = self.browser\n",
    "    if not browser:\n",
    "        self.notify(\"danger\", \"没有登录，请先登录\")\n",
    "        return\n",
    "    attrs = {'alibaba_id': ali_id}\n",
    "    template = {}\n",
    "    try:\n",
    "        self.notify(\"primary\", \"打开产品 [\" + ali_id + \"] 编辑页面 ... ...\")\n",
    "        browser.get(api + ali_id)\n",
    "        WebDriverWait(browser, 30).until(EC.visibility_of_element_located((By.CSS_SELECTOR, '#editor-container')))\n",
    "\n",
    "        self.notify(\"primary\", \"开始爬取产品 [\" + ali_id + \"] 数据 ... ...\")\n",
    "        attrs['alibaba_category'] = browser.find_element_by_css_selector('span#cate-path-text-copy').text.strip()\n",
    "        attrs['name'] = browser.find_element_by_css_selector('input#productName').get_attribute('value').strip()\n",
    "        keywords = []\n",
    "        keyword = browser.find_element_by_css_selector('input#productKeyword').get_attribute('value').strip()\n",
    "        keywords.append(keyword)\n",
    "        keyword = browser.find_element_by_css_selector('input#keywords2').get_attribute('value').strip()\n",
    "        keywords.append(keyword)\n",
    "        keyword = browser.find_element_by_css_selector('input#keywords3').get_attribute('value').strip()\n",
    "        keywords.append(keyword)\n",
    "        attrs['keywords'] = keywords\n",
    "        attrs['type'] = browser.find_element_by_css_selector(\n",
    "            '#productAttribute>div:first-child>div>input').get_attribute('value').strip()\n",
    "        attrs['brand'] = browser.find_element_by_css_selector(\n",
    "            '#productAttribute>div:nth-child(2)>div>input').get_attribute('value').strip()\n",
    "\n",
    "        origin = []\n",
    "        select = Select(browser.find_elements_by_css_selector('#productAttribute>div:nth-child(3) select')[0])\n",
    "        origin.append(select.first_selected_option.text)\n",
    "\n",
    "        select = Select(browser.find_elements_by_css_selector('#productAttribute>div:nth-child(3) select')[1])\n",
    "        origin.append(select.first_selected_option.text)\n",
    "        attrs['origin'] = origin\n",
    "\n",
    "        select = Select(browser.find_elements_by_css_selector('#productAttribute>div:nth-child(4) select')[0])\n",
    "        attrs['material'] = select.first_selected_option.text\n",
    "\n",
    "        select = Select(browser.find_elements_by_css_selector('#productAttribute>div:nth-child(5) select')[0])\n",
    "        attrs['production_method'] = select.first_selected_option.text\n",
    "\n",
    "        custom_attributes = []\n",
    "        trs = browser.find_elements_by_css_selector('#attr table tr')\n",
    "        trs.pop(0)\n",
    "        for tr in trs:\n",
    "            key = tr.find_elements_by_css_selector('input')[0].get_attribute('value').strip()\n",
    "            value = tr.find_elements_by_css_selector('input')[1].get_attribute('value').strip()\n",
    "            custom_attributes.append([key, value])\n",
    "        attrs['custom_attributes'] = custom_attributes\n",
    "\n",
    "        browser.find_element_by_css_selector('#mceu_0 button').click()\n",
    "        WebDriverWait(browser, 5).until(EC.visibility_of_element_located((By.CSS_SELECTOR, '#mceu_46 textarea')))\n",
    "        time.sleep(1)\n",
    "        template['html'] = browser.find_element_by_css_selector('#mceu_46 textarea').get_attribute('value').strip()\n",
    "        browser.find_element_by_css_selector('#mceu_0 button').click()\n",
    "        WebDriverWait(browser, 5).until(EC.visibility_of_element_located((By.CSS_SELECTOR, '#mceu_46 iframe')))\n",
    "        time.sleep(1)\n",
    "\n",
    "        css_selector = '#tradInfoblock>div:nth-child(3) .price-scroll-selector input[value=\"uniform\"]'\n",
    "        element = browser.find_element_by_css_selector(css_selector)\n",
    "        attrs['isTieredPricing'] = element.is_selected()\n",
    "        if attrs['isTieredPricing']:\n",
    "            attrs['sales_unit'] = browser.find_element_by_css_selector('#tradeInfoQuantityUnit').text.strip()\n",
    "            attrs['currency'] = 'USD'\n",
    "            tieredPricing = []\n",
    "            trs = browser.find_elements_by_css_selector('#priceSetter .next-table-body tbody tr')\n",
    "            for tr in trs:\n",
    "                volume = tr.find_elements_by_css_selector('input')[0].get_attribute('value').strip()\n",
    "                price = tr.find_elements_by_css_selector('input')[1].get_attribute('value').strip()\n",
    "                tieredPricing.append([volume, price])\n",
    "            attrs['tieredPricing'] = tieredPricing\n",
    "        else:\n",
    "            attrs['currency'] = browser.find_element_by_css_selector('#moneyTypeSelect span').text.strip()\n",
    "            price_range = []\n",
    "            price_range.append(\n",
    "                browser.find_element_by_css_selector('#priceRangeMin').get_attribute('value').strip())\n",
    "            price_range.append(\n",
    "                browser.find_element_by_css_selector('#priceRangeMax').get_attribute('value').strip())\n",
    "            attrs['price_range'] = price_range\n",
    "            attrs['sales_unit'] = browser.find_element_by_css_selector('#priceUnitSelect span').text.strip()\n",
    "            attrs['MOQ'] = browser.find_element_by_css_selector('#minOrderQuantity').get_attribute('value').strip()\n",
    "            attrs['additional_trading_infomation'] = browser.find_element_by_css_selector(\n",
    "                '#minOrderOther').get_attribute('value').strip()\n",
    "        payment_methods = {}\n",
    "        checkboxes = browser.find_elements_by_css_selector('.trade-info-payment-group input[type=\"checkbox\"]')\n",
    "        for cb in checkboxes:\n",
    "            value = cb.get_attribute('value')\n",
    "            checked = cb.is_selected()\n",
    "            if value == \"Others\":\n",
    "                continue\n",
    "            payment_methods[value] = checked\n",
    "        attrs['payment_methods'] = payment_methods\n",
    "        if browser.find_element_by_css_selector('#paymentMethodOther').is_selected():\n",
    "            attrs['other_payment_method'] = browser.find_element_by_css_selector(\n",
    "                '#paymentMethodOtherDesc').get_attribute('value')\n",
    "\n",
    "        attrs['delivery_time'] = browser.find_element_by_css_selector('#consignmentTerm').get_attribute('value')\n",
    "        attrs['port'] = browser.find_element_by_css_selector('#port').get_attribute('value')\n",
    "        supply_ability = []\n",
    "        supply_ability.append(browser.find_element_by_css_selector('#supplyQuantity').get_attribute('value'))\n",
    "        select = Select(browser.find_element_by_css_selector('#supplyUnit'))\n",
    "        supply_ability.append(select.first_selected_option.text)\n",
    "        select = Select(browser.find_element_by_css_selector('#supplyPeriod'))\n",
    "        supply_ability.append(select.first_selected_option.text)\n",
    "        attrs['supply_ability'] = supply_ability\n",
    "        attrs['additional_delivery_information'] = browser.find_element_by_css_selector(\n",
    "            '#supplyOther').get_attribute('value')\n",
    "        attrs['packaging'] = browser.find_element_by_css_selector('#packagingDesc').get_attribute('value')\n",
    "\n",
    "        self.notify('success', \"完成 对产品 [\" + ali_id + \"] 编辑页面 的数据爬取！\")\n",
    "    except TimeoutException as e:\n",
    "        attrs = None\n",
    "        template = None\n",
    "        msg = \"爬取产品 [\" + ali_id + '] 数据 出错，超时，' + str(e)\n",
    "    except NoSuchElementException as e:\n",
    "        attrs = None\n",
    "        template = None\n",
    "        msg = \"爬取产品 [\" + ali_id + \"] 数据 出错，没找到目标元素, \" + str(e)\n",
    "    except Exception as e:\n",
    "        attrs = None\n",
    "        template = None\n",
    "        msg = \"爬取产品 [\" + ali_id + \"] 数据 出错, \" + str(e)\n",
    "        browser.save_screenshot('screenie.png')\n",
    "        traceback.print_exc()\n",
    "    finally:\n",
    "        browser.get('https://i.alibaba.com')\n",
    "\n",
    "    if not attrs or not template:\n",
    "        self.notify(\"danger\", msg)\n",
    "        self.notify(result_message, None)\n",
    "    else:\n",
    "        result = {'attributes': attrs, 'template': template}\n",
    "        self.notify(result_message, result)\n",
    "alibaba.crawl_product_data = types.MethodType(crawl_product_data, alibaba)"
   ]
  },
  {
   "cell_type": "code",
   "execution_count": 4,
   "metadata": {},
   "outputs": [
    {
     "name": "stdout",
     "output_type": "stream",
     "text": [
      "primary 打开产品 [60763545453] 编辑页面 ... ...\n",
      "{'ali_id': 60763545453, 'price': {'isTieredPricing': False, 'price_range': ['3.3', '4.6'], 'tieredPricing': []}, 'detail_pictures': [{'old': '//sc02.alicdn.com/kf/HTB156nci3KTBuNkSne1q6yJoXXaO/231186930/HTB156nci3KTBuNkSne1q6yJoXXaO.jpg', 'new': '//sc02.alicdn.com/kf/HTB1cn7DpvuSBuNkHFqDq6xfhVXaT/231186930/HTB1cn7DpvuSBuNkHFqDq6xfhVXaT.jpg'}, {'old': '//sc02.alicdn.com/kf/HTB1KAzci3KTBuNkSne1q6yJoXXas/231186930/HTB1KAzci3KTBuNkSne1q6yJoXXas.jpg', 'new': '//sc01.alicdn.com/kf/HTB1sJ4Ox25TBuNjSspmq6yDRVXax/231186930/HTB1sJ4Ox25TBuNjSspmq6yDRVXax.jpg'}, {'old': '//sc01.alicdn.com/kf/HTB1xBa5iZuYBuNkSmRyq6AA3pXaY/231186930/HTB1xBa5iZuYBuNkSmRyq6AA3pXaY.jpg', 'new': '//sc02.alicdn.com/kf/HTB176d8x49YBuNjy0Ffq6xIsVXaE/231186930/HTB176d8x49YBuNjy0Ffq6xIsVXaE.jpg'}]}\n",
      "primary 设置产品 [60763545453] 的价格区间 ... ...\n"
     ]
    }
   ],
   "source": []
  },
  {
   "cell_type": "code",
   "execution_count": 41,
   "metadata": {},
   "outputs": [],
   "source": []
  },
  {
   "cell_type": "code",
   "execution_count": 93,
   "metadata": {},
   "outputs": [],
   "source": []
  },
  {
   "cell_type": "code",
   "execution_count": 13,
   "metadata": {},
   "outputs": [
    {
     "name": "stdout",
     "output_type": "stream",
     "text": [
      "primary 打开网址：https://i.alibaba.com\n",
      "primary 等待登陆页面加载 ... ...\n",
      "primary 输入登录信息， 并登录\n",
      "success 成功 登录 阿里巴巴 国际站！用户名：Jeremy\n"
     ]
    }
   ],
   "source": []
  },
  {
   "cell_type": "code",
   "execution_count": 1,
   "metadata": {},
   "outputs": [],
   "source": [
    "pictures = []\n",
    "picture = {'old': \"//sc02.alicdn.com/kf/HTB156nci3KTBuNkSne1q6yJoXXaO/231186930/HTB156nci3KTBuNkSne1q6yJoXXaO.jpg\"}\n",
    "picture['new'] = \"//sc02.alicdn.com/kf/HTB1cn7DpvuSBuNkHFqDq6xfhVXaT/231186930/HTB1cn7DpvuSBuNkHFqDq6xfhVXaT.jpg\"\n",
    "pictures.append(picture)\n",
    "picture = {'old': \"//sc02.alicdn.com/kf/HTB1KAzci3KTBuNkSne1q6yJoXXas/231186930/HTB1KAzci3KTBuNkSne1q6yJoXXas.jpg\"}\n",
    "picture['new'] = \"//sc01.alicdn.com/kf/HTB1sJ4Ox25TBuNjSspmq6yDRVXax/231186930/HTB1sJ4Ox25TBuNjSspmq6yDRVXax.jpg\"\n",
    "pictures.append(picture)\n",
    "picture = {'old': \"//sc01.alicdn.com/kf/HTB1xBa5iZuYBuNkSmRyq6AA3pXaY/231186930/HTB1xBa5iZuYBuNkSmRyq6AA3pXaY.jpg\"}\n",
    "picture['new'] = \"//sc02.alicdn.com/kf/HTB176d8x49YBuNjy0Ffq6xIsVXaE/231186930/HTB176d8x49YBuNjy0Ffq6xIsVXaE.jpg\"\n",
    "pictures.append(picture)\n",
    "price = {'isTieredPricing': False, 'price_range': [3.3, 4.8], 'tieredPricing': []}\n",
    "data = dict(ali_id=\"60764140968\", price=price, detail_pictures=pictures)"
   ]
  },
  {
   "cell_type": "code",
   "execution_count": 94,
   "metadata": {},
   "outputs": [
    {
     "name": "stdout",
     "output_type": "stream",
     "text": [
      "primary 打开产品 [60764140968] 编辑页面 ... ...\n",
      "primary 设置产品 [60764140968] 的价格区间 ... ...\n"
     ]
    }
   ],
   "source": [
    "alibaba.update_product(data)"
   ]
  },
  {
   "cell_type": "code",
   "execution_count": 2,
   "metadata": {},
   "outputs": [
    {
     "data": {
      "text/plain": [
       "{'ali_id': '60764140968',\n",
       " 'price': {'isTieredPricing': False,\n",
       "  'price_range': [3.3, 4.8],\n",
       "  'tieredPricing': []},\n",
       " 'detail_pictures': [{'old': '//sc02.alicdn.com/kf/HTB156nci3KTBuNkSne1q6yJoXXaO/231186930/HTB156nci3KTBuNkSne1q6yJoXXaO.jpg',\n",
       "   'new': '//sc02.alicdn.com/kf/HTB1cn7DpvuSBuNkHFqDq6xfhVXaT/231186930/HTB1cn7DpvuSBuNkHFqDq6xfhVXaT.jpg'},\n",
       "  {'old': '//sc02.alicdn.com/kf/HTB1KAzci3KTBuNkSne1q6yJoXXas/231186930/HTB1KAzci3KTBuNkSne1q6yJoXXas.jpg',\n",
       "   'new': '//sc01.alicdn.com/kf/HTB1sJ4Ox25TBuNjSspmq6yDRVXax/231186930/HTB1sJ4Ox25TBuNjSspmq6yDRVXax.jpg'},\n",
       "  {'old': '//sc01.alicdn.com/kf/HTB1xBa5iZuYBuNkSmRyq6AA3pXaY/231186930/HTB1xBa5iZuYBuNkSmRyq6AA3pXaY.jpg',\n",
       "   'new': '//sc02.alicdn.com/kf/HTB176d8x49YBuNjy0Ffq6xIsVXaE/231186930/HTB176d8x49YBuNjy0Ffq6xIsVXaE.jpg'}]}"
      ]
     },
     "execution_count": 2,
     "metadata": {},
     "output_type": "execute_result"
    }
   ],
   "source": [
    "data"
   ]
  },
  {
   "cell_type": "code",
   "execution_count": 89,
   "metadata": {},
   "outputs": [],
   "source": [
    "element = browser.find_element_by_css_selector(\"#editor-container\")\n",
    "ActionChains(browser).move_to_element(element).perform()\n",
    "# self.notify(\"primary\", \"开始 设置 产品详情页 ... ...\")\n",
    "# 点击 详情编辑器 ‘源代码’ 按钮， 清空内容，再切换回 富文本 编辑状态\n",
    "browser.find_element_by_css_selector('#mceu_0 button').click()\n",
    "textarea = WebDriverWait(browser, 5).until(\n",
    "    EC.visibility_of_element_located((By.CSS_SELECTOR, '#mceu_46 textarea')))"
   ]
  },
  {
   "cell_type": "code",
   "execution_count": 90,
   "metadata": {},
   "outputs": [],
   "source": [
    "text = textarea.get_attribute('value')\n",
    "soup = BeautifulSoup(text, 'html.parser')\n",
    "for img in soup.find_all('img'):\n",
    "    src = img['src']\n",
    "    key = re.sub('//[^\\.]*\\.', '', src)\n",
    "    \n",
    "    for idx, pic in enumerate(pictures):\n",
    "        if key not in pic['old']:\n",
    "            continue\n",
    "            \n",
    "        img['src'] = pic['new']\n",
    "        if img.has_attr('ori-width'):\n",
    "            del img['ori-width']\n",
    "        if img.has_attr('ori-height'):\n",
    "            del img['ori-height']\n",
    "        break\n"
   ]
  },
  {
   "cell_type": "code",
   "execution_count": 91,
   "metadata": {},
   "outputs": [],
   "source": [
    "\n",
    "js_templ = \"document.querySelector('{selector}').value = '{value}';\"\n",
    "js = js_templ.format(selector='#mceu_46 textarea', value=re.sub('\\n', '\\\\\\\\n', str(soup)))\n",
    "browser.find_element_by_css_selector('#mceu_46 textarea').clear()\n",
    "browser.execute_script(js)\n",
    "browser.find_element_by_css_selector('#mceu_0 button').click()\n",
    "WebDriverWait(browser, 5).until(EC.visibility_of_element_located((By.CSS_SELECTOR, '#mceu_46 iframe')))"
   ]
  },
  {
   "cell_type": "code",
   "execution_count": null,
   "metadata": {},
   "outputs": [],
   "source": []
  }
 ],
 "metadata": {
  "kernelspec": {
   "display_name": "Python 3",
   "language": "python",
   "name": "python3"
  },
  "language_info": {
   "codemirror_mode": {
    "name": "ipython",
    "version": 3
   },
   "file_extension": ".py",
   "mimetype": "text/x-python",
   "name": "python",
   "nbconvert_exporter": "python",
   "pygments_lexer": "ipython3",
   "version": "3.6.5"
  }
 },
 "nbformat": 4,
 "nbformat_minor": 2
}
