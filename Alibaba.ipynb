{
 "cells": [
  {
   "cell_type": "code",
   "execution_count": 2,
   "metadata": {},
   "outputs": [],
   "source": [
    "from libs.alibaba.alibaba import Alibaba\n",
    "\n",
    "from selenium.webdriver.common.action_chains import ActionChains\n",
    "from selenium import webdriver\n",
    "from selenium.webdriver.common.by import By\n",
    "from selenium.webdriver.support.ui import WebDriverWait\n",
    "from selenium.webdriver.support import expected_conditions as EC\n",
    "from selenium.common.exceptions import WebDriverException\n",
    "from selenium.common.exceptions import NoSuchElementException\n",
    "from selenium.common.exceptions import TimeoutException\n",
    "from selenium.common.exceptions import StaleElementReferenceException\n",
    "from selenium.webdriver.support.select import Select\n",
    "from bs4 import BeautifulSoup\n",
    "from pyquery import PyQuery as pq\n",
    "\n",
    "import html\n",
    "import time\n",
    "import re\n",
    "import traceback\n",
    "import types"
   ]
  },
  {
   "cell_type": "code",
   "execution_count": 3,
   "metadata": {},
   "outputs": [],
   "source": [
    "lid = 'eyelash@glittergroupcn.com'\n",
    "lpwd = 'Wangzhen68970747'\n",
    "alibaba = Alibaba(lid, lpwd)"
   ]
  },
  {
   "cell_type": "code",
   "execution_count": null,
   "metadata": {},
   "outputs": [],
   "source": []
  },
  {
   "cell_type": "code",
   "execution_count": 19,
   "metadata": {},
   "outputs": [
    {
     "name": "stdout",
     "output_type": "stream",
     "text": [
      "primary 打开网址：https://i.alibaba.com\n",
      "warnsing 已经登录为: Jeremy\n"
     ]
    }
   ],
   "source": [
    "alibaba.login()"
   ]
  },
  {
   "cell_type": "code",
   "execution_count": null,
   "metadata": {},
   "outputs": [],
   "source": []
  },
  {
   "cell_type": "code",
   "execution_count": null,
   "metadata": {},
   "outputs": [],
   "source": []
  },
  {
   "cell_type": "code",
   "execution_count": 18,
   "metadata": {},
   "outputs": [],
   "source": [
    "def login(self):\n",
    "    try:\n",
    "        self.notify(\"primary\", \"打开网址：\" + self.api)\n",
    "        self.browser.get(self.api)\n",
    "        span_wel = self.browser.find_elements_by_css_selector(\n",
    "            'header div[data-role=\"user\"] div[data-role=\"wel\"] a span')\n",
    "        if span_wel:\n",
    "            self.notify('warnsing', \"已经登录为: \" + span_wel[0].get_attribute('innerHTML'))\n",
    "            return\n",
    "\n",
    "        self.notify(\"primary\", \"等待登陆页面加载 ... ...\")\n",
    "        WebDriverWait(self.browser, 15).until(\n",
    "            EC.presence_of_element_located((By.CSS_SELECTOR, \"#alibaba-login-iframe iframe\")))\n",
    "        time.sleep(1)\n",
    "\n",
    "        windows = self.browser.window_handles\n",
    "        win = self.browser.current_window_handle\n",
    "        for window in windows:\n",
    "            if window != win:\n",
    "                self.browser.switch_to.window(window)\n",
    "                self.browser.close()\n",
    "        self.browser.switch_to.window(win)\n",
    "\n",
    "        iframe = self.browser.find_element_by_css_selector('#alibaba-login-iframe iframe')\n",
    "        self.browser.switch_to.frame(iframe)\n",
    "\n",
    "        self.notify(\"primary\", \"输入登录信息， 并登录\")\n",
    "        input_login = self.browser.find_element_by_css_selector('input#fm-login-id')\n",
    "        input_pwd = self.browser.find_element_by_css_selector('input#fm-login-password')\n",
    "        input_submit = self.browser.find_element_by_css_selector('input#fm-login-submit')\n",
    "        input_login.clear()\n",
    "        input_pwd.clear()\n",
    "        input_login.send_keys(self.user)\n",
    "        input_pwd.send_keys(self.password)\n",
    "        input_submit.click()\n",
    "\n",
    "        WebDriverWait(self.browser, 15).until(\n",
    "            EC.presence_of_element_located((By.CSS_SELECTOR, 'header div[data-role=\"user\"]')))\n",
    "        span = self.browser.find_element_by_css_selector(\n",
    "            'header div[data-role=\"user\"] div[data-role=\"wel\"] a span')\n",
    "        user_name = span.get_attribute('innerHTML')\n",
    "        self.notify(\"success\", \"成功 登录 阿里巴巴 国际站！用户名：\" + user_name)\n",
    "        \n",
    "    except (TimeoutException, WebDriverException, ConnectionAbortedError, AttributeError) as e:\n",
    "        self.notify(\"danger\", \"登录 阿里巴巴 国际站 失败! \" + str(e))\n",
    "        traceback.print_exc()\n",
    "\n",
    "alibaba.login = types.MethodType(login, alibaba)"
   ]
  },
  {
   "cell_type": "code",
   "execution_count": null,
   "metadata": {},
   "outputs": [],
   "source": []
  },
  {
   "cell_type": "code",
   "execution_count": null,
   "metadata": {},
   "outputs": [],
   "source": []
  },
  {
   "cell_type": "code",
   "execution_count": null,
   "metadata": {},
   "outputs": [],
   "source": []
  },
  {
   "cell_type": "code",
   "execution_count": null,
   "metadata": {},
   "outputs": [],
   "source": []
  },
  {
   "cell_type": "code",
   "execution_count": null,
   "metadata": {},
   "outputs": [],
   "source": [
    "pictures = []\n",
    "picture = {'old': \"//sc02.alicdn.com/kf/HTB156nci3KTBuNkSne1q6yJoXXaO/231186930/HTB156nci3KTBuNkSne1q6yJoXXaO.jpg\"}\n",
    "picture['new'] = \"//sc02.alicdn.com/kf/HTB1cn7DpvuSBuNkHFqDq6xfhVXaT/231186930/HTB1cn7DpvuSBuNkHFqDq6xfhVXaT.jpg\"\n",
    "pictures.append(picture)\n",
    "picture = {'old': \"//sc02.alicdn.com/kf/HTB1KAzci3KTBuNkSne1q6yJoXXas/231186930/HTB1KAzci3KTBuNkSne1q6yJoXXas.jpg\"}\n",
    "picture['new'] = \"//sc01.alicdn.com/kf/HTB1sJ4Ox25TBuNjSspmq6yDRVXax/231186930/HTB1sJ4Ox25TBuNjSspmq6yDRVXax.jpg\"\n",
    "pictures.append(picture)\n",
    "picture = {'old': \"//sc01.alicdn.com/kf/HTB1xBa5iZuYBuNkSmRyq6AA3pXaY/231186930/HTB1xBa5iZuYBuNkSmRyq6AA3pXaY.jpg\"}\n",
    "picture['new'] = \"//sc02.alicdn.com/kf/HTB176d8x49YBuNjy0Ffq6xIsVXaE/231186930/HTB176d8x49YBuNjy0Ffq6xIsVXaE.jpg\"\n",
    "pictures.append(picture)\n",
    "price = {'isTieredPricing': False, 'price_range': [3.3, 4.8], 'tieredPricing': []}\n",
    "data = dict(ali_id=\"60764140968\", price=price, detail_pictures=pictures)"
   ]
  },
  {
   "cell_type": "code",
   "execution_count": null,
   "metadata": {},
   "outputs": [],
   "source": [
    "alibaba.update_product(data)"
   ]
  },
  {
   "cell_type": "code",
   "execution_count": null,
   "metadata": {},
   "outputs": [],
   "source": [
    "data"
   ]
  },
  {
   "cell_type": "code",
   "execution_count": null,
   "metadata": {},
   "outputs": [],
   "source": [
    "element = browser.find_element_by_css_selector(\"#editor-container\")\n",
    "ActionChains(browser).move_to_element(element).perform()\n",
    "# self.notify(\"primary\", \"开始 设置 产品详情页 ... ...\")\n",
    "# 点击 详情编辑器 ‘源代码’ 按钮， 清空内容，再切换回 富文本 编辑状态\n",
    "browser.find_element_by_css_selector('#mceu_0 button').click()\n",
    "textarea = WebDriverWait(browser, 5).until(\n",
    "    EC.visibility_of_element_located((By.CSS_SELECTOR, '#mceu_46 textarea')))"
   ]
  },
  {
   "cell_type": "code",
   "execution_count": null,
   "metadata": {},
   "outputs": [],
   "source": [
    "text = textarea.get_attribute('value')\n",
    "soup = BeautifulSoup(text, 'html.parser')\n",
    "for img in soup.find_all('img'):\n",
    "    src = img['src']\n",
    "    key = re.sub('//[^\\.]*\\.', '', src)\n",
    "    \n",
    "    for idx, pic in enumerate(pictures):\n",
    "        if key not in pic['old']:\n",
    "            continue\n",
    "            \n",
    "        img['src'] = pic['new']\n",
    "        if img.has_attr('ori-width'):\n",
    "            del img['ori-width']\n",
    "        if img.has_attr('ori-height'):\n",
    "            del img['ori-height']\n",
    "        break\n"
   ]
  },
  {
   "cell_type": "code",
   "execution_count": null,
   "metadata": {},
   "outputs": [],
   "source": [
    "\n",
    "js_templ = \"document.querySelector('{selector}').value = '{value}';\"\n",
    "js = js_templ.format(selector='#mceu_46 textarea', value=re.sub('\\n', '\\\\\\\\n', str(soup)))\n",
    "browser.find_element_by_css_selector('#mceu_46 textarea').clear()\n",
    "browser.execute_script(js)\n",
    "browser.find_element_by_css_selector('#mceu_0 button').click()\n",
    "WebDriverWait(browser, 5).until(EC.visibility_of_element_located((By.CSS_SELECTOR, '#mceu_46 iframe')))"
   ]
  },
  {
   "cell_type": "code",
   "execution_count": null,
   "metadata": {},
   "outputs": [],
   "source": []
  }
 ],
 "metadata": {
  "kernelspec": {
   "display_name": "Python 3",
   "language": "python",
   "name": "python3"
  },
  "language_info": {
   "codemirror_mode": {
    "name": "ipython",
    "version": 3
   },
   "file_extension": ".py",
   "mimetype": "text/x-python",
   "name": "python",
   "nbconvert_exporter": "python",
   "pygments_lexer": "ipython3",
   "version": "3.6.5"
  }
 },
 "nbformat": 4,
 "nbformat_minor": 2
}
