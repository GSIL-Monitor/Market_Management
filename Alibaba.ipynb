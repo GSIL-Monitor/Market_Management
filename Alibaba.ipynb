{
 "cells": [
  {
   "cell_type": "code",
   "execution_count": 1,
   "metadata": {},
   "outputs": [],
   "source": [
    "from libs.alibaba.alibaba import Alibaba\n",
    "\n",
    "from selenium.webdriver.common.keys import Keys\n",
    "from selenium.webdriver.common.action_chains import ActionChains\n",
    "from selenium import webdriver\n",
    "from selenium.webdriver.common.by import By\n",
    "from selenium.webdriver.support.ui import WebDriverWait\n",
    "from selenium.webdriver.support import expected_conditions as EC\n",
    "from selenium.common.exceptions import WebDriverException\n",
    "from selenium.common.exceptions import NoSuchElementException\n",
    "from selenium.common.exceptions import TimeoutException\n",
    "from selenium.common.exceptions import StaleElementReferenceException\n",
    "from selenium.webdriver.support.select import Select\n",
    "from bs4 import BeautifulSoup\n",
    "from pyquery import PyQuery as pq\n",
    "from libs.CeleryTasks import tasks\n",
    "import html\n",
    "import time\n",
    "import re\n",
    "import traceback\n",
    "import types"
   ]
  },
  {
   "cell_type": "code",
   "execution_count": 28,
   "metadata": {},
   "outputs": [
    {
     "name": "stdout",
     "output_type": "stream",
     "text": [
      "primary 打开网址：https://i.alibaba.com\n",
      "primary 等待登陆页面加载 ... ...\n",
      "primary 输入登录信息， 并登录\n",
      "success 成功 登录 阿里巴巴 国际站！用户名：Jeremy\n"
     ]
    }
   ],
   "source": [
    "lid = 'eyelash@glittergroupcn.com'\n",
    "lpwd = 'Wangzhen68970747'\n",
    "alibaba_eyelash = Alibaba(lid, lpwd)\n",
    "alibaba_eyelash.login()"
   ]
  },
  {
   "cell_type": "code",
   "execution_count": 2,
   "metadata": {},
   "outputs": [],
   "source": [
    "lid = 'glittertools@glittergroupcn.com'\n",
    "lpwd = 'Songjianwei68970747'\n",
    "alibaba_tools = Alibaba(lid, lpwd)\n",
    "alibaba_tools.login()"
   ]
  },
  {
   "cell_type": "code",
   "execution_count": null,
   "metadata": {},
   "outputs": [],
   "source": []
  },
  {
   "cell_type": "code",
   "execution_count": 10,
   "metadata": {},
   "outputs": [
    {
     "data": {
      "text/plain": [
       "False"
      ]
     },
     "execution_count": 10,
     "metadata": {},
     "output_type": "execute_result"
    }
   ],
   "source": [
    "alibaba_eyelash.browser.get('http://hz-productposting.alibaba.com/product/editing.htm?id=60732345735')\n",
    "alibaba_eyelash.is_structured()"
   ]
  },
  {
   "cell_type": "code",
   "execution_count": 4,
   "metadata": {},
   "outputs": [],
   "source": [
    "alibaba_tools.browser.get('https://post.alibaba.com/product/publish.htm?itemId=60684982220&pubType=similarPost')"
   ]
  },
  {
   "cell_type": "code",
   "execution_count": 19,
   "metadata": {},
   "outputs": [],
   "source": [
    "browser = alibaba_tools.browser\n",
    "attrs = {'name':'Top popular mechanical puller American style three jaw gear puller', 'keywords':[]}\n",
    "attrs['keywords'].append('High Quality Three Jaw Gear Puller')\n",
    "attrs['keywords'].append('Bearing Puller')\n",
    "attrs['keywords'].append('Mechanical Puller')\n",
    "\n",
    "input = browser.find_element_by_css_selector('#productTitle')\n",
    "input.send_keys(Keys.CONTROL, 'a')\n",
    "input.send_keys(Keys.BACKSPACE)\n",
    "input.send_keys(attrs['name'])\n",
    "\n",
    "input = browser.find_element_by_css_selector('#struct-productKeywords li:nth-child(1) input')\n",
    "input.send_keys(Keys.CONTROL, 'a')\n",
    "input.send_keys(attrs['keywords'][0])\n",
    "input = browser.find_element_by_css_selector('#struct-productKeywords li:nth-child(2) input')\n",
    "input.send_keys(Keys.CONTROL, 'a')\n",
    "input.send_keys(attrs['keywords'][1])\n",
    "input = browser.find_element_by_css_selector('#struct-productKeywords li:nth-child(3) input')\n",
    "input.send_keys(Keys.CONTROL, 'a')\n",
    "input.send_keys(attrs['keywords'][2])\n"
   ]
  },
  {
   "cell_type": "code",
   "execution_count": 17,
   "metadata": {},
   "outputs": [],
   "source": [
    "\n",
    "input = browser.find_element_by_css_selector('#productTitle')\n",
    "\n",
    "# input.send_keys(length*Keys.BACKSPACE)"
   ]
  },
  {
   "cell_type": "code",
   "execution_count": 48,
   "metadata": {},
   "outputs": [],
   "source": [
    "def submit_product(self):\n",
    "    is_structured = self.is_structured()\n",
    "    # submit to next step\n",
    "    btn_submit_next = None\n",
    "    if is_structured:\n",
    "        btn_submit_next = self.browser.find_element_by_css_selector('#struct-buttons button:nth-child(3)')\n",
    "    else:\n",
    "        btn_submit_next = self.browser.find_element_by_css_selector('button#submitFormNext')\n",
    "\n",
    "    ActionChains(self.browser).move_to_element(btn_submit_next).perform()\n",
    "    btn_submit_next.click()\n",
    "\n",
    "    # 提交表格\n",
    "    self.notify(\"primary\", \"提交产品\")\n",
    "\n",
    "    if is_structured:\n",
    "        WebDriverWait(self.browser, 30).until(EC.presence_of_element_located((By.CSS_SELECTOR, '#button-prev')))\n",
    "        btn_submit = self.browser.find_element_by_css_selector('#struct-buttons button:nth-child(3)')\n",
    "    else:\n",
    "        btn_submit = WebDriverWait(self.browser, 15).until(\n",
    "            EC.element_to_be_clickable((By.CSS_SELECTOR, 'button#submitFormBtnA')))\n",
    "\n",
    "    self.click(btn_submit)\n",
    "\n",
    "    WebDriverWait(self.browser, 30).until(EC.presence_of_element_located(\n",
    "        (By.CSS_SELECTOR, '.next-step-item-last.next-step-item-process,.ui2-dialog-transition')))\n",
    "    # 检查 是否 违规\n",
    "    if self.browser.find_elements_by_css_selector('.ui2-dialog-transition'):\n",
    "        words = ''\n",
    "        for td in self.browser.find_elements_by_css_selector(\n",
    "                '.ui2-dialog-transition tr:not(:first-child) td:nth-child(2)'):\n",
    "            words = words + ' ' + td.text\n",
    "        self.notify(\"danger\", \"出现 违规词 [ \" + words + \" ], 请手动确认，否则 30 秒后 提交 失败\")\n",
    "        WebDriverWait(self.browser, 30).until(\n",
    "            EC.presence_of_element_located((By.CSS_SELECTOR, '.next-step-item-last.next-step-item-process')))\n",
    "\n",
    "    self.notify(\"primary\", \"成功 提交 产品\")\n",
    "    \n",
    "alibaba_eyelash.submit_product = types.MethodType(submit_product, alibaba_eyelash)"
   ]
  },
  {
   "cell_type": "code",
   "execution_count": 61,
   "metadata": {},
   "outputs": [],
   "source": [
    "def update_product_price(self, data):\n",
    "    if 'price' not in data:\n",
    "        return False\n",
    "    price = data['price']\n",
    "    \n",
    "    struct_fob = self.browser.find_element_by_css_selector('#struct-fob')\n",
    "    ActionChains(self.browser).move_to_element(struct_fob).perform()\n",
    "    \n",
    "    if price['isTieredPricing']:\n",
    "        self.notify(\"error\", \"该功能还没有实现 ... ...\")\n",
    "        return False\n",
    "    else:\n",
    "        self.notify(\"primary\", \"设置产品 [\" + str(data['ali_id']) + \"] 的价格区间 ... ...\")\n",
    "        \n",
    "        time.sleep(0.5)\n",
    "        input = self.browser.find_element_by_css_selector('#struct-fob div.icbu-fob-range .range-number-max input')\n",
    "        input.send_keys(Keys.CONTROL, 'a')\n",
    "        input.send_keys(str(price['price_range'][0]))\n",
    "        \n",
    "        time.sleep(0.5)\n",
    "        input = self.browser.find_element_by_css_selector('#struct-fob div.icbu-fob-range .range-number-min input')\n",
    "        input.send_keys(Keys.CONTROL, 'a')\n",
    "        input.send_keys(str(price['price_range'][1]))\n",
    "        return True\n",
    "    \n",
    "alibaba_eyelash.update_product_price = types.MethodType(update_product_price, alibaba_eyelash)"
   ]
  },
  {
   "cell_type": "code",
   "execution_count": 38,
   "metadata": {},
   "outputs": [],
   "source": [
    "def update_product(self, data):\n",
    "    browser = self.browser\n",
    "    try:\n",
    "        api = 'https://hz-productposting.alibaba.com/product/editing.htm?id='\n",
    "        ali_id = str(data['ali_id'])\n",
    "        if not browser:\n",
    "            self.notify('danger', \"没有登录，请先登录\")\n",
    "            return False\n",
    "\n",
    "        self.notify(\"primary\", \"打开产品 [\" + ali_id + \"] 编辑页面 ... ...\")\n",
    "        browser.get(api + ali_id)\n",
    "        # WebDriverWait(browser, 30).until(EC.visibility_of_element_located((By.CSS_SELECTOR, '#editor-container')))\n",
    "\n",
    "        result = False\n",
    "        if self.update_product_price(data):\n",
    "            result = True\n",
    "        if self.update_product_detail_pictures(data):\n",
    "            result = True\n",
    "\n",
    "        if result:\n",
    "            self.submit_product()\n",
    "            \n",
    "    except TimeoutException as e:\n",
    "        self.notify('error', '更新产品 [' + ali_id + '] 数据 出错，超时，' + str(e))\n",
    "        traceback.print_exc()\n",
    "    except NoSuchElementException as e:\n",
    "        self.notify('error', '更新产品 [' + ali_id + '] 数据 出错，没找到目标元素, ' + str(e))\n",
    "        traceback.print_exc()\n",
    "    except Exception as e:\n",
    "        self.notify('error', '更新产品 [' + ali_id + '] 数据 出错, ' + str(e))\n",
    "        traceback.print_exc()\n",
    "    finally:\n",
    "        return result\n",
    "    \n",
    "alibaba_eyelash.update_product = types.MethodType(update_product, alibaba_eyelash)"
   ]
  },
  {
   "cell_type": "code",
   "execution_count": 5,
   "metadata": {},
   "outputs": [],
   "source": [
    "def get_posted_product_info(self, pn):\n",
    "    browser = self.browser\n",
    "    products = []\n",
    "    try:\n",
    "        self.notify(\"primary\", '打开 产品管理 页面 ... ...')\n",
    "        browser.get(self.api_product_manage)\n",
    "        css_selector = '#ballon-container .list-item, #ballon-container .next-table-body tr'\n",
    "        masker = WebDriverWait(browser, 15).until(EC.presence_of_element_located((By.CSS_SELECTOR, css_selector)))\n",
    "\n",
    "        time.sleep(5)\n",
    "        webdriver.ActionChains(self.browser).send_keys(Keys.ESCAPE).perform()\n",
    "\n",
    "        css_selector = '#ballon-container .manage-loading .next-loading-tip'\n",
    "        div_tip = browser.find_elements_by_css_selector(css_selector)\n",
    "        if len(div_tip) != 0:\n",
    "            WebDriverWait(browser, 20).until(EC.staleness_of(div_tip[0]))\n",
    "\n",
    "        msg = '切换 至 显示全部产品 ... ...'\n",
    "        self.notify(\"primary\", msg)\n",
    "        css_selector = '#ballon-container div[role=\"tab\"]:nth-child(1)'\n",
    "        css_selector += ', #ballon-container .posting-manage-filter-row:first-child span:nth-child(2)'\n",
    "        tab_all = WebDriverWait(browser, 15).until(\n",
    "            EC.visibility_of_element_located((By.CSS_SELECTOR, css_selector)))\n",
    "        self.click(tab_all)\n",
    "        browser.implicitly_wait(1)\n",
    "        css_selector = '#ballon-container .manage-loading .next-loading-tip'\n",
    "        div_tip = browser.find_elements_by_css_selector(css_selector)\n",
    "        if len(div_tip) != 0:\n",
    "            WebDriverWait(browser, 20).until(EC.staleness_of(div_tip[0]))\n",
    "\n",
    "        pn = int(pn)\n",
    "        for counter in range(pn):\n",
    "            msg = '查找 全部产品列表 第 ' + str(counter + 1) + ' 页'\n",
    "            self.notify(\"primary\", msg)\n",
    "\n",
    "            html_source = browser.page_source\n",
    "            doc = pq(html_source)\n",
    "            items = doc('#ballon-container .list-item')\n",
    "            if items:\n",
    "                for item in items:\n",
    "                    pq_item = pq(item)\n",
    "                    product = {}\n",
    "                    pq_a = pq_item.find('.product-subject a')\n",
    "                    if len(pq_a) == 0:\n",
    "                        continue\n",
    "#                     print(pq_item.find('.product-model').text())\n",
    "                    product['href'] = pq_a.attr('href')\n",
    "                    product['title'] = pq_a.text().strip().lower()\n",
    "                    product['pid'] = pq_item.find('.product-model').text().split(':')[1].strip()\n",
    "                    product['category'] = pq_item.find('.group-name').text().split(':')[1].strip()\n",
    "                    product['update'] = pq_item.find('.next-col:nth-child(5) span').text().strip()\n",
    "                    product['price'] = pq_item.find('.next-col:nth-child(3)').text().strip()\n",
    "                    product['quality'] = []\n",
    "                    product['quality'].append(pq_item.find('.product-quality').text().strip())\n",
    "                    pq_tags = pq_item.find('.product-tags .next-tag-body')\n",
    "                    product['tags'] = []\n",
    "\n",
    "                    for tag in pq_tags:\n",
    "                        product['tags'].append(pq(tag).text().strip())\n",
    "\n",
    "                    result = re.search('id=(\\d+)$', product['href'])\n",
    "                    if result:\n",
    "                        ali_id = result.group(1)\n",
    "                    else:\n",
    "                        ali_id = re.search('_(\\d+).htm', product['href']).group(1)\n",
    "                    product['ali_id'] = ali_id\n",
    "                    products.append(product)\n",
    "            else:\n",
    "                items = doc('#ballon-container .next-table-body tr')\n",
    "                for item in items:\n",
    "                    pq_item = pq(item)\n",
    "                    product = {}\n",
    "                    pq_a = pq_item.find('.product-subject a')\n",
    "                    if len(pq_a) == 0:\n",
    "                        continue\n",
    "\n",
    "                    product['href'] = pq_a.attr('href')\n",
    "                    product['title'] = pq_a.text().strip().lower()\n",
    "                    product['pid'] = pq_item.find('.product-model').text().split(':')[1].strip()\n",
    "                    product['category'] = pq_item.find('.product-group').text().split(':')[1].strip()\n",
    "                    product['update'] = pq_item.find(\n",
    "                        '.next-table-cell:nth-child(5)>div>div:first-child').text().strip()\n",
    "                    product['price'] = pq_item.find('.next-table-cell:nth-child(3)').text().strip()\n",
    "                    product['quality'] = []\n",
    "                    product['quality'].append(pq_item.find('.product-quality').text().strip())\n",
    "                    pq_tags = pq_item.find('.product-tags .next-tag-body')\n",
    "                    product['tags'] = []\n",
    "\n",
    "                    for tag in pq_tags:\n",
    "                        product['tags'].append(pq(tag).text().strip())\n",
    "\n",
    "                    result = re.search('id=(\\d+)$', product['href'])\n",
    "                    if result:\n",
    "                        ali_id = result.group(1)\n",
    "                    else:\n",
    "                        ali_id = re.search('_(\\d+).htm', product['href']).group(1)\n",
    "                    product['ali_id'] = ali_id\n",
    "                    products.append(product)\n",
    "\n",
    "            if counter == pn - 1:\n",
    "                break\n",
    "\n",
    "            css_selector = '#ballon-container .next-pagination-pages .next'\n",
    "            btn_next = browser.find_element_by_css_selector(css_selector)\n",
    "            if btn_next.is_enabled():\n",
    "                btn_next.click()\n",
    "                browser.implicitly_wait(1)\n",
    "                css_selector = '#ballon-container .manage-loading .next-loading-tip'\n",
    "                div_tip = browser.find_elements_by_css_selector(css_selector)\n",
    "                if len(div_tip) != 0:\n",
    "                    WebDriverWait(browser, 20).until(EC.staleness_of(div_tip[0]))\n",
    "            else:\n",
    "                break\n",
    "\n",
    "            self.notify(\"primary\", \"完成 查找！\")\n",
    "    except Exception as e:\n",
    "        self.notify(\"danger\", \"爬取产品 数据 出错, \" + str(e))\n",
    "        traceback.print_exc()\n",
    "        products = []\n",
    "    finally:\n",
    "        if self.socketio:\n",
    "            self.notify(\"get_posted_product_info_result\", products)\n",
    "        return products\n",
    "\n",
    "alibaba_eyelash.get_posted_product_info = types.MethodType(get_posted_product_info, alibaba_eyelash)\n",
    "# alibaba_tools.get_posted_product_info = types.MethodType(get_posted_product_info, alibaba_tools)"
   ]
  },
  {
   "cell_type": "code",
   "execution_count": 29,
   "metadata": {},
   "outputs": [
    {
     "name": "stdout",
     "output_type": "stream",
     "text": [
      "primary 打开 产品管理 页面 ... ...\n",
      "primary 切换 至 显示全部产品 ... ...\n",
      "primary 查找 全部产品列表 第 1 页\n",
      "primary 完成 查找！\n",
      "primary 查找 全部产品列表 第 2 页\n",
      "primary 完成 查找！\n",
      "primary 查找 全部产品列表 第 3 页\n",
      "primary 完成 查找！\n",
      "primary 查找 全部产品列表 第 4 页\n",
      "primary 完成 查找！\n",
      "primary 查找 全部产品列表 第 5 页\n",
      "primary 完成 查找！\n",
      "primary 查找 全部产品列表 第 6 页\n",
      "primary 完成 查找！\n",
      "primary 查找 全部产品列表 第 7 页\n",
      "primary 完成 查找！\n",
      "primary 查找 全部产品列表 第 8 页\n",
      "primary 完成 查找！\n",
      "primary 查找 全部产品列表 第 9 页\n",
      "primary 完成 查找！\n",
      "primary 查找 全部产品列表 第 10 页\n",
      "primary 完成 查找！\n",
      "primary 查找 全部产品列表 第 11 页\n",
      "primary 完成 查找！\n",
      "primary 查找 全部产品列表 第 12 页\n",
      "primary 完成 查找！\n",
      "primary 查找 全部产品列表 第 13 页\n",
      "primary 完成 查找！\n",
      "primary 查找 全部产品列表 第 14 页\n",
      "primary 完成 查找！\n",
      "primary 查找 全部产品列表 第 15 页\n",
      "primary 完成 查找！\n",
      "primary 查找 全部产品列表 第 16 页\n",
      "primary 完成 查找！\n",
      "primary 查找 全部产品列表 第 17 页\n",
      "primary 完成 查找！\n",
      "primary 查找 全部产品列表 第 18 页\n",
      "primary 完成 查找！\n",
      "primary 查找 全部产品列表 第 19 页\n",
      "primary 完成 查找！\n",
      "primary 查找 全部产品列表 第 20 页\n",
      "primary 完成 查找！\n",
      "primary 查找 全部产品列表 第 21 页\n",
      "primary 完成 查找！\n",
      "primary 查找 全部产品列表 第 22 页\n",
      "primary 完成 查找！\n",
      "primary 查找 全部产品列表 第 23 页\n",
      "primary 完成 查找！\n",
      "primary 查找 全部产品列表 第 24 页\n",
      "primary 完成 查找！\n",
      "primary 查找 全部产品列表 第 25 页\n",
      "primary 完成 查找！\n",
      "primary 查找 全部产品列表 第 26 页\n",
      "primary 完成 查找！\n",
      "primary 查找 全部产品列表 第 27 页\n",
      "primary 完成 查找！\n",
      "primary 查找 全部产品列表 第 28 页\n",
      "818\n"
     ]
    }
   ],
   "source": [
    "ps = alibaba_eyelash.get_posted_product_info(99)\n",
    "print(len(ps))"
   ]
  },
  {
   "cell_type": "code",
   "execution_count": 3,
   "metadata": {},
   "outputs": [
    {
     "data": {
      "text/plain": [
       "{'href': '//www.alibaba.com/product-detail/OEM-service-custom-eyelash-packaging-false_60769492342.html',\n",
       " 'title': 'oem service custom eyelash packaging false eyelashes mink fur lashes 3d mink eyelashes',\n",
       " 'pid': '11A49',\n",
       " 'category': '3D Mink Eyelashes>11A Series',\n",
       " 'update': '2018-09-03',\n",
       " 'price': 'US $1.9 - 2.3 / Pair',\n",
       " 'quality': ['精品'],\n",
       " 'tags': [],\n",
       " 'ali_id': '60769492342'}"
      ]
     },
     "execution_count": 3,
     "metadata": {},
     "output_type": "execute_result"
    }
   ],
   "source": [
    "ps[0]"
   ]
  },
  {
   "cell_type": "code",
   "execution_count": 33,
   "metadata": {},
   "outputs": [],
   "source": [
    "processed = {}"
   ]
  },
  {
   "cell_type": "code",
   "execution_count": 2,
   "metadata": {},
   "outputs": [],
   "source": [
    "%store -r ps"
   ]
  },
  {
   "cell_type": "code",
   "execution_count": 17,
   "metadata": {},
   "outputs": [
    {
     "name": "stdout",
     "output_type": "stream",
     "text": [
      "Stored 'ps' (list)\n"
     ]
    }
   ],
   "source": [
    "%store ps"
   ]
  },
  {
   "cell_type": "code",
   "execution_count": 13,
   "metadata": {},
   "outputs": [],
   "source": [
    "from libs.CeleryTasks import tasks"
   ]
  },
  {
   "cell_type": "code",
   "execution_count": 34,
   "metadata": {},
   "outputs": [
    {
     "name": "stdout",
     "output_type": "stream",
     "text": [
      "70\n"
     ]
    }
   ],
   "source": [
    "data = {'price': {'isTieredPricing': False, 'price_range':[1.1, 1.4]}}\n",
    "count = 0\n",
    "t1 = time.time()\n",
    "for p in ps:\n",
    "    ali_id = p['ali_id']\n",
    "    if ali_id in processed:\n",
    "        continue\n",
    "    if '1.1' in p['price']:\n",
    "        continue\n",
    "    if p['pid'].lower().startswith('22a'):\n",
    "        data['ali_id'] = ali_id\n",
    "        tasks.alibaba_update_product.apply_async(args=[data], queue='Eyelashes_pm')\n",
    "        count += 1\n",
    "        processed[ali_id] = p\n",
    "        time.sleep(3)\n",
    "#         if alibaba_eyelash.update_product(data):\n",
    "#             count += 1\n",
    "#             processed[ali_id] = p\n",
    "t2 = time.time()\n",
    "print(count)"
   ]
  },
  {
   "cell_type": "code",
   "execution_count": 70,
   "metadata": {},
   "outputs": [
    {
     "name": "stdout",
     "output_type": "stream",
     "text": [
      "11.17 244\n"
     ]
    }
   ],
   "source": [
    "print(str(round((t2-t1)/count, 2)), count)"
   ]
  },
  {
   "cell_type": "code",
   "execution_count": 49,
   "metadata": {
    "scrolled": true
   },
   "outputs": [
    {
     "data": {
      "text/plain": [
       "False"
      ]
     },
     "execution_count": 49,
     "metadata": {},
     "output_type": "execute_result"
    }
   ],
   "source": [
    "'60761755703' in processed"
   ]
  },
  {
   "cell_type": "code",
   "execution_count": 44,
   "metadata": {},
   "outputs": [
    {
     "data": {
      "text/plain": [
       "True"
      ]
     },
     "execution_count": 44,
     "metadata": {},
     "output_type": "execute_result"
    }
   ],
   "source": [
    "\n",
    "alibaba_eyelash.is_structured()"
   ]
  },
  {
   "cell_type": "code",
   "execution_count": 21,
   "metadata": {},
   "outputs": [
    {
     "data": {
      "text/plain": [
       "129"
      ]
     },
     "execution_count": 21,
     "metadata": {},
     "output_type": "execute_result"
    }
   ],
   "source": [
    "count = 0\n",
    "for p in ps:\n",
    "    if p['pid'].lower().startswith('22a'):\n",
    "        count += 1\n",
    "count"
   ]
  },
  {
   "cell_type": "code",
   "execution_count": null,
   "metadata": {},
   "outputs": [],
   "source": [
    "pictures = []\n",
    "picture = {'old': \"//sc02.alicdn.com/kf/HTB156nci3KTBuNkSne1q6yJoXXaO/231186930/HTB156nci3KTBuNkSne1q6yJoXXaO.jpg\"}\n",
    "picture['new'] = \"//sc02.alicdn.com/kf/HTB1cn7DpvuSBuNkHFqDq6xfhVXaT/231186930/HTB1cn7DpvuSBuNkHFqDq6xfhVXaT.jpg\"\n",
    "pictures.append(picture)\n",
    "picture = {'old': \"//sc02.alicdn.com/kf/HTB1KAzci3KTBuNkSne1q6yJoXXas/231186930/HTB1KAzci3KTBuNkSne1q6yJoXXas.jpg\"}\n",
    "picture['new'] = \"//sc01.alicdn.com/kf/HTB1sJ4Ox25TBuNjSspmq6yDRVXax/231186930/HTB1sJ4Ox25TBuNjSspmq6yDRVXax.jpg\"\n",
    "pictures.append(picture)\n",
    "picture = {'old': \"//sc01.alicdn.com/kf/HTB1xBa5iZuYBuNkSmRyq6AA3pXaY/231186930/HTB1xBa5iZuYBuNkSmRyq6AA3pXaY.jpg\"}\n",
    "picture['new'] = \"//sc02.alicdn.com/kf/HTB176d8x49YBuNjy0Ffq6xIsVXaE/231186930/HTB176d8x49YBuNjy0Ffq6xIsVXaE.jpg\"\n",
    "pictures.append(picture)\n",
    "price = {'isTieredPricing': False, 'price_range': [3.3, 4.8], 'tieredPricing': []}\n",
    "data = dict(ali_id=\"60764140968\", price=price, detail_pictures=pictures)"
   ]
  },
  {
   "cell_type": "code",
   "execution_count": null,
   "metadata": {},
   "outputs": [],
   "source": [
    "alibaba.update_product(data)"
   ]
  },
  {
   "cell_type": "code",
   "execution_count": null,
   "metadata": {},
   "outputs": [],
   "source": [
    "data"
   ]
  },
  {
   "cell_type": "code",
   "execution_count": null,
   "metadata": {},
   "outputs": [],
   "source": [
    "element = browser.find_element_by_css_selector(\"#editor-container\")\n",
    "ActionChains(browser).move_to_element(element).perform()\n",
    "# self.notify(\"primary\", \"开始 设置 产品详情页 ... ...\")\n",
    "# 点击 详情编辑器 ‘源代码’ 按钮， 清空内容，再切换回 富文本 编辑状态\n",
    "browser.find_element_by_css_selector('#mceu_0 button').click()\n",
    "textarea = WebDriverWait(browser, 5).until(\n",
    "    EC.visibility_of_element_located((By.CSS_SELECTOR, '#mceu_46 textarea')))"
   ]
  },
  {
   "cell_type": "code",
   "execution_count": null,
   "metadata": {},
   "outputs": [],
   "source": [
    "text = textarea.get_attribute('value')\n",
    "soup = BeautifulSoup(text, 'html.parser')\n",
    "for img in soup.find_all('img'):\n",
    "    src = img['src']\n",
    "    key = re.sub('//[^\\.]*\\.', '', src)\n",
    "    \n",
    "    for idx, pic in enumerate(pictures):\n",
    "        if key not in pic['old']:\n",
    "            continue\n",
    "            \n",
    "        img['src'] = pic['new']\n",
    "        if img.has_attr('ori-width'):\n",
    "            del img['ori-width']\n",
    "        if img.has_attr('ori-height'):\n",
    "            del img['ori-height']\n",
    "        break\n"
   ]
  },
  {
   "cell_type": "code",
   "execution_count": null,
   "metadata": {},
   "outputs": [],
   "source": [
    "\n",
    "js_templ = \"document.querySelector('{selector}').value = '{value}';\"\n",
    "js = js_templ.format(selector='#mceu_46 textarea', value=re.sub('\\n', '\\\\\\\\n', str(soup)))\n",
    "browser.find_element_by_css_selector('#mceu_46 textarea').clear()\n",
    "browser.execute_script(js)\n",
    "browser.find_element_by_css_selector('#mceu_0 button').click()\n",
    "WebDriverWait(browser, 5).until(EC.visibility_of_element_located((By.CSS_SELECTOR, '#mceu_46 iframe')))"
   ]
  },
  {
   "cell_type": "code",
   "execution_count": null,
   "metadata": {},
   "outputs": [],
   "source": []
  }
 ],
 "metadata": {
  "kernelspec": {
   "display_name": "Python 3",
   "language": "python",
   "name": "python3"
  },
  "language_info": {
   "codemirror_mode": {
    "name": "ipython",
    "version": 3
   },
   "file_extension": ".py",
   "mimetype": "text/x-python",
   "name": "python",
   "nbconvert_exporter": "python",
   "pygments_lexer": "ipython3",
   "version": "3.6.6"
  }
 },
 "nbformat": 4,
 "nbformat_minor": 2
}
