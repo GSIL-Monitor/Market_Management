{
 "cells": [
  {
   "cell_type": "code",
   "execution_count": 2,
   "metadata": {},
   "outputs": [],
   "source": [
    "import os"
   ]
  },
  {
   "cell_type": "code",
   "execution_count": null,
   "metadata": {},
   "outputs": [],
   "source": [
    "root = 'E:\\\\glitter\\\\Tools'"
   ]
  },
  {
   "cell_type": "code",
   "execution_count": null,
   "metadata": {},
   "outputs": [],
   "source": [
    "for item in os.walk(root):\n",
    "    p = item[0]\n",
    "    ds = item[1]\n",
    "    fs = item[2]\n",
    "    \n",
    "    for f in fs:\n",
    "        parts = f.split('.')\n",
    "        if parts[-1].lower() != 'jpg':\n",
    "            continue\n",
    "        elif parts[-1] != 'jpg':\n",
    "            parts[-1] = 'jpg'\n",
    "            nf = '.'.join(parts)\n",
    "            os.rename(p+'\\\\'+f, p+'\\\\'+nf)\n",
    "            f = nf\n",
    "        \n",
    "        order = parts[-2].split('-')[-1]\n",
    "        target_dir = p + '-' + order\n",
    "        if not os.path.exists(target_dir):\n",
    "            os.makedirs(target_dir)\n",
    "        src = p+'//'+f\n",
    "        tgt = target_dir+'//'+f\n",
    "        os.rename(src, tgt)"
   ]
  },
  {
   "cell_type": "code",
   "execution_count": null,
   "metadata": {},
   "outputs": [],
   "source": [
    "# remove empty dirs\n",
    "for item in os.walk(root):\n",
    "    p = item[0]\n",
    "    ds = item[1]\n",
    "    fs = item[2]\n",
    "    if not fs and not ds:\n",
    "        os.rmdir(p)"
   ]
  },
  {
   "cell_type": "code",
   "execution_count": null,
   "metadata": {},
   "outputs": [],
   "source": [
    "# list all dirs recursively\n",
    "for item in os.walk(root):\n",
    "    p = item[0]\n",
    "    ds = item[1]\n",
    "    fs = item[2]\n",
    "    if not ds:\n",
    "        print( p, ds, len(fs), fs)"
   ]
  },
  {
   "cell_type": "code",
   "execution_count": null,
   "metadata": {},
   "outputs": [],
   "source": [
    "# list sub directories, not recursively\n",
    "path = 'E:\\\\glitter\\\\Tools\\\\04夹具-GTC'\n",
    "sub_dirs = [d for d in os.listdir(path) if os.path.isdir(os.path.join(path, d))]\n",
    "sub_dirs"
   ]
  },
  {
   "cell_type": "code",
   "execution_count": null,
   "metadata": {},
   "outputs": [],
   "source": [
    "# replace substring in filename\n",
    "src = '-'\n",
    "tgt = '_'\n",
    "root = 'E:\\\\glitter\\\\Tools'\n",
    "\n",
    "for item in os.walk(root):\n",
    "    p = item[0]\n",
    "    ds = item[1]\n",
    "    fs = item[2]\n",
    "    \n",
    "    for f in fs:\n",
    "        nf = f.replace(src,tgt)\n",
    "        os.rename(p+'\\\\'+f, p+'\\\\'+nf)"
   ]
  },
  {
   "cell_type": "code",
   "execution_count": 7,
   "metadata": {},
   "outputs": [],
   "source": [
    "root = 'E:\\\\glitter\\\\Tools'\n",
    "for item in os.walk(root):\n",
    "    p = item[0]\n",
    "    ds = item[1]\n",
    "    fs = item[2]\n",
    "    for f in fs:\n",
    "        parts = f.split('.')\n",
    "        if parts[-1].lower() != 'jpg':\n",
    "            continue\n",
    "        d = f.split('_')[0]\n",
    "        if not os.path.exists(p+'\\\\'+d):\n",
    "            os.makedirs(p+'\\\\'+d)\n",
    "            \n",
    "        os.rename(p+'\\\\'+f, p+'\\\\'+d+'\\\\'+f)"
   ]
  },
  {
   "cell_type": "code",
   "execution_count": null,
   "metadata": {},
   "outputs": [],
   "source": []
  }
 ],
 "metadata": {
  "kernelspec": {
   "display_name": "Python 3",
   "language": "python",
   "name": "python3"
  },
  "language_info": {
   "codemirror_mode": {
    "name": "ipython",
    "version": 3
   },
   "file_extension": ".py",
   "mimetype": "text/x-python",
   "name": "python",
   "nbconvert_exporter": "python",
   "pygments_lexer": "ipython3",
   "version": "3.6.5"
  }
 },
 "nbformat": 4,
 "nbformat_minor": 2
}
