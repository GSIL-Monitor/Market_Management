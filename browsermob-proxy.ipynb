{
 "cells": [
  {
   "cell_type": "code",
   "execution_count": 1,
   "metadata": {},
   "outputs": [],
   "source": [
    "from browsermobproxy import Server\n",
    "import psutil\n",
    "import time\n",
    "\n",
    "for proc in psutil.process_iter():\n",
    "    # check whether the process name matches\n",
    "    if proc.name() == \"browsermob-proxy\":\n",
    "        proc.kill()\n",
    "        \n",
    "ops = {'port': 8090}\n",
    "server = Server(\"E:\\\\workspace\\\\python\\\\libs\\\\browsermob-proxy\\\\bin\\\\browsermob-proxy\", options=ops)\n",
    "server.start()\n",
    "time.sleep(1)\n",
    "proxy = server.create_proxy()\n",
    "time.sleep(1)"
   ]
  },
  {
   "cell_type": "code",
   "execution_count": 2,
   "metadata": {},
   "outputs": [],
   "source": [
    "from selenium import webdriver\n",
    "\n",
    "chrome_options = webdriver.ChromeOptions()\n",
    "# chrome_options.add_argument('--headless')\n",
    "chrome_options.add_argument('--disable-gpu')\n",
    "chrome_options.add_argument('--disable-extensions')\n",
    "chrome_options.add_argument('--disable-logging')\n",
    "chrome_options.add_argument('--disable-infobars')\n",
    "chrome_options.add_argument('--ignore-certificate-errors')"
   ]
  },
  {
   "cell_type": "code",
   "execution_count": 3,
   "metadata": {},
   "outputs": [],
   "source": []
  },
  {
   "cell_type": "code",
   "execution_count": null,
   "metadata": {},
   "outputs": [],
   "source": []
  }
 ],
 "metadata": {
  "kernelspec": {
   "display_name": "Python 3",
   "language": "python",
   "name": "python3"
  },
  "language_info": {
   "codemirror_mode": {
    "name": "ipython",
    "version": 3
   },
   "file_extension": ".py",
   "mimetype": "text/x-python",
   "name": "python",
   "nbconvert_exporter": "python",
   "pygments_lexer": "ipython3",
   "version": "3.6.5"
  }
 },
 "nbformat": 4,
 "nbformat_minor": 2
}
