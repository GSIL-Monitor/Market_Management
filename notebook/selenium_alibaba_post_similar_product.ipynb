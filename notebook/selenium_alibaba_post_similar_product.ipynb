{
 "cells": [
  {
   "cell_type": "code",
   "execution_count": 60,
   "metadata": {},
   "outputs": [],
   "source": [
    "from selenium.webdriver.common.action_chains import ActionChains\n",
    "from selenium import webdriver\n",
    "from selenium.webdriver.chrome.options import Options\n",
    "from selenium.webdriver.common.by import By\n",
    "from selenium.webdriver.support.ui import WebDriverWait\n",
    "from selenium.webdriver.support import expected_conditions as EC\n",
    "from selenium.common.exceptions import WebDriverException\n",
    "from selenium.common.exceptions import NoSuchElementException\n",
    "from selenium.common.exceptions import TimeoutException\n",
    "from bs4 import BeautifulSoup\n",
    "import html\n",
    "import time\n",
    "import re\n",
    "\n",
    "url = 'https://i.alibaba.com'\n",
    "user = 'eyelash@glittergroupcn.com'\n",
    "pwd = 'Wangzhen68970747'\n",
    "\n",
    "chrome_options_headless = webdriver.ChromeOptions()\n",
    "# chrome_options_headless.add_argument('--headless')\n",
    "chrome_options_headless.add_argument('--disable-gpu')\n",
    "chrome_options_headless.add_argument('--disable-extensions')\n",
    "chrome_options_headless.add_argument('--disable-logging')\n",
    "chrome_options_headless.add_argument('--ignore-certificate-errors')"
   ]
  },
  {
   "cell_type": "code",
   "execution_count": 56,
   "metadata": {},
   "outputs": [],
   "source": [
    "browser = webdriver.Chrome(chrome_options=chrome_options_headless)\n",
    "url = 'https://i.alibaba.com'\n",
    "\n",
    "try:\n",
    "    browser.get(url)\n",
    "except (WebDriverException, ConnectionAbortedError) as E:\n",
    "    chrome_options_headless = current_app.data.chrome_options_headless\n",
    "    browser = webdriver.Chrome(chrome_options=chrome_options_headless)\n",
    "    browser.get(url)\n",
    "\n",
    "try:\n",
    "    WebDriverWait(browser, 15).until(EC.presence_of_element_located((By.CSS_SELECTOR, \"#alibaba-login-iframe iframe\")))\n",
    "\n",
    "    windows = browser.window_handles\n",
    "    win = browser.current_window_handle\n",
    "    for window in windows:\n",
    "        if window != win:\n",
    "            browser.switch_to.window(window)\n",
    "            browser.close()\n",
    "    browser.switch_to.window(win)\n",
    "\n",
    "    iframe = browser.find_element_by_css_selector('#alibaba-login-iframe iframe')\n",
    "    browser.switch_to.frame(iframe)\n",
    "\n",
    "    input_login = browser.find_element_by_css_selector('input#fm-login-id')\n",
    "    input_pwd = browser.find_element_by_css_selector('input#fm-login-password')\n",
    "    input_submit = browser.find_element_by_css_selector('input#fm-login-submit')\n",
    "    input_login.send_keys(user)\n",
    "    input_pwd.send_keys(pwd)\n",
    "    input_submit.click()\n",
    "\n",
    "    WebDriverWait(browser, 15).until(EC.presence_of_element_located((By.CSS_SELECTOR, 'header div[data-role=\"user\"]')))\n",
    "    if len(browser.find_elements_by_css_selector('header div[data-role=\"user\"]')):\n",
    "        span = browser.find_element_by_css_selector('header div[data-role=\"user\"] div[data-role=\"wel\"] a span')\n",
    "        user_name = span.get_attribute('innerHTML')\n",
    "except TimeoutException:\n",
    "    pass"
   ]
  },
  {
   "cell_type": "code",
   "execution_count": 48,
   "metadata": {},
   "outputs": [],
   "source": [
    "# prepare data\n",
    "import os\n",
    "import json\n",
    "product = {}\n",
    "\n",
    "with open('22A02_attributes.json', encoding='utf8') as json_file:\n",
    "    product['attributes'] = json.load(json_file)\n",
    "\n",
    "with open('22A02_template.json', encoding='utf8') as json_file:\n",
    "    product['template'] = json.load(json_file)\n",
    "\n",
    "product['pictures'] = []\n",
    "product['pictures'].append(\"E:\\\\glitter\\\\eyelashes\\\\3D Silk Eyelashes\\\\22A-3D化纤 - serie\\\\22A04_3DY04_0_1.jpg\")\n",
    "product['pictures'].append(\"E:\\\\glitter\\\\eyelashes\\\\3D Silk Eyelashes\\\\22A-3D化纤 - serie\\\\22A05_3DY05_0_1.jpg\")\n",
    "product['pictures'].append(\"E:\\\\glitter\\\\eyelashes\\\\3D Silk Eyelashes\\\\22A-3D化纤 - serie\\\\22A06_3DY06_0_1.jpg\")\n",
    "product['pictures'].append(\"E:\\\\glitter\\\\eyelashes\\\\3D Silk Eyelashes\\\\22A-3D化纤 - serie\\\\22A07_3DY07_0_1.jpg\")\n",
    "product['pictures'].append(\"E:\\\\glitter\\\\eyelashes\\\\3D Silk Eyelashes\\\\22A-3D化纤 - serie\\\\22A08_3DY08_0_1.jpg\")\n",
    "product['pictures'].append(\"E:\\\\glitter\\\\eyelashes\\\\3D Silk Eyelashes\\\\22A-3D化纤 - serie\\\\22A09_3DY09_0_1.jpg\")\n",
    "\n",
    "product['template_pictures'] = []\n",
    "product['template_pictures'].append(\"E:\\\\glitter\\\\eyelashes\\\\3D Silk Eyelashes\\\\22A-3D化纤 - serie\\\\22A04_3DY04_0_3.jpg\")\n",
    "product['template_pictures'].append(\"E:\\\\glitter\\\\eyelashes\\\\3D Silk Eyelashes\\\\22A-3D化纤 - serie\\\\22A04_3DY04_0_5.jpg\")\n",
    "product['template_pictures'].append(\"E:\\\\glitter\\\\eyelashes\\\\3D Silk Eyelashes\\\\22A-3D化纤 - serie\\\\22A04_3DY04_1_2.jpg\")\n",
    "\n",
    "api = 'https://hz-productposting.alibaba.com/product/post_product_interface.htm?from=manage&import_product_id='\n",
    "similar_ali_pid = '60729719567'"
   ]
  },
  {
   "cell_type": "code",
   "execution_count": 61,
   "metadata": {},
   "outputs": [
    {
     "name": "stdout",
     "output_type": "stream",
     "text": [
      "{'attributes': {'alibaba_id': '60756077198', 'alibaba_category': 'Beauty & Personal Care>>Makeup Tools>>False Eyelashes', 'name': 'Very Soft High Quality 3d Silk Mink Eyelashes Private Label Eyelash Packaging', 'keywords': ['High Quality High Quality Synthetic Fiber Lashes', 'Private Label Eyelash Packaging Box', 'silk eyelash'], 'type': '22A02', 'brand': 'GLITTER', 'origin': ['China (Mainland)', 'Shandong'], 'material': 'Synthetic Hair', 'production_method': 'Hand Made', 'custom_attributes': [['Product Name', 'Premium 3d fiber silk synthetic false eyelashes'], ['Color', 'Black'], ['Price', 'Factory Direct'], ['Sizes', 'All sizes are in stock'], ['Grade', 'Top grade, soft and natural looking'], ['Sample', 'Free Sample'], ['OEM/ODM', 'Accept'], ['Inspection', '100% Before Shipment'], ['Assurance', 'Alibaba Trade Assurance'], ['Custom Packaging', 'Accept']], 'isTieredPricing': False, 'sales_unit': 'Pair/Pairs', 'currency': 'USD', 'price_range': ['1.1', '1.8'], 'MOQ': '10', 'additional_trading_infomation': '1 Pair if the eyelashes in stock,1 pair is ok to test quality', 'tieredPricing': [], 'payment_methods': {'L/C': True, 'D/A': False, 'D/P': False, 'T/T': True, 'Western Union': True, 'MoneyGram': False}, 'delivery_time': 'Shipped in 7 days after payment', 'port': 'Qingdao', 'supply_ability': ['1000000', 'Pair/Pairs', 'Month'], 'additional_delivery_information': '', 'packaging': 'Custom packaging and logo are accepted'}, 'template': {'isIndividual': False, 'product_pictures': [], 'product_picture': {'pcode': '0', 'pscode': '1'}, 'selections': [{'selector': '.glitter_product_title', 'type': 'title'}, {'selector': '.glitter_product_img_1', 'type': 'tag_img', 'pcode': '0', 'pscode': '3'}, {'selector': '.glitter_product_img_2', 'type': 'tag_img', 'pcode': '0', 'pscode': '5'}, {'selector': '.glitter_product_img_3', 'type': 'tag_img', 'pcode': '1', 'pscode': '2'}], 'template': '<p style=\"margin: 0px; padding: 0px; color: #000000; font-family: Arial; font-size: 12px; font-style: normal; font-weight: normal; text-align: center;\">&nbsp;<strong><span class=\"glitter_product_title\" style=\"font-size: 18px;\">Very Soft High Quality 3d Silk Mink Eyelashes Private Label Eyelash Packaging</span></strong></p>\\n<p style=\"margin: 0px; padding: 0px; color: #000000; font-family: Arial; font-size: 12px; font-style: normal; font-weight: normal; text-align: center;\">&nbsp;</p>\\n<p style=\"margin: 0px; padding: 0px; color: #000000; font-family: Arial; font-size: 12px; font-style: normal; font-weight: normal;\"><img src=\"//sc02.alicdn.com/kf/HTB13Tbmd98YBeNkSnb4q6yevFXaG/231186930/HTB13Tbmd98YBeNkSnb4q6yevFXaG.jpg\" alt=\" Premium 3d fiber silk synthetic false eyelashes\" ori-width=\"750\" ori-height=\"892\" /></p>\\n<p style=\"margin: 0px; padding: 0px; color: #000000; font-family: Arial; font-size: 12px; font-style: normal; font-weight: normal;\"><img class=\"glitter_product_img_1\" src=\"//sc01.alicdn.com/kf/HTB1LOWnnMmTBuNjy1Xbq6yMrVXa6/231186930/HTB1LOWnnMmTBuNjy1Xbq6yMrVXa6.jpg\" alt=\"Very Soft High Quality 3d Silk Mink Eyelashes Private Label Eyelash Packaging\" ori-width=\"750\" ori-height=\"360\" /></p>\\n<p style=\"margin: 0px; padding: 0px; color: #000000; font-family: Arial; font-size: 12px; font-style: normal; font-weight: normal;\">&nbsp;</p>\\n<p style=\"margin: 0px; padding: 0px; color: #000000; font-family: Arial; font-size: 12px; font-style: normal; font-weight: normal;\"><img  class=\"glitter_product_img_2\" src=\"//sc02.alicdn.com/kf/HTB1YkaCnMaTBuNjSszfq6xgfpXav/231186930/HTB1YkaCnMaTBuNjSszfq6xgfpXav.jpg\" alt=\"Very Soft High Quality 3d Silk Mink Eyelashes Private Label Eyelash Packaging\" ori-width=\"750\" ori-height=\"360\" /></p>\\n<p style=\"margin: 0px; padding: 0px; color: #000000; font-family: Arial; font-size: 12px; font-style: normal; font-weight: normal;\">&nbsp;</p>\\n<p style=\"margin: 0px; padding: 0px; color: #000000; font-family: Arial; font-size: 12px; font-style: normal; font-weight: normal;\"><img  class=\"glitter_product_img_3\" src=\"//sc01.alicdn.com/kf/HTB1kohQfwKTBuNkSne1q6yJoXXa8/231186930/HTB1kohQfwKTBuNkSne1q6yJoXXa8.jpg\" alt=\"Very Soft High Quality 3d Silk Mink Eyelashes Private Label Eyelash Packaging\" ori-width=\"750\" ori-height=\"360\" /></p>\\n<p style=\"margin: 0px; padding: 0px; color: #000000; font-family: Arial; font-size: 12px; font-style: normal; font-weight: normal;\">&nbsp;</p>\\n<p style=\"margin: 0px; padding: 0px; color: #000000; font-family: Arial; font-size: 12px; font-style: normal; font-weight: normal;\"><img src=\"//sc02.alicdn.com/kf/HTB1GNInmFuWBuNjSszbq6AS7FXaA/231186930/HTB1GNInmFuWBuNjSszbq6AS7FXaA.jpg\" alt=\" Premium 3d fiber silk synthetic false eyelashes\" ori-width=\"750\" ori-height=\"1938\" /></p>\\n<p style=\"margin: 0px; padding: 0px; color: #000000; font-family: Arial; font-size: 12px; font-style: normal; font-weight: normal;\"><img src=\"//sc02.alicdn.com/kf/HTB165ZaflmWBuNkSndVq6AsApXaU/231186930/HTB165ZaflmWBuNkSndVq6AsApXaU.jpg\" alt=\"5.jpg\" ori-width=\"750\" ori-height=\"836\" /></p>\\n<p style=\"margin: 0px; padding: 0px; color: #000000; font-family: Arial; font-size: 12px; font-style: normal; font-weight: normal;\"><img src=\"//sc02.alicdn.com/kf/HTB1Z349mUR1BeNjy0Fmq6z0wVXaA/231186930/HTB1Z349mUR1BeNjy0Fmq6z0wVXaA.jpg\" alt=\" Premium 3d fiber silk synthetic false eyelashes\" ori-width=\"750\" ori-height=\"659\" /><img src=\"//sc01.alicdn.com/kf/HTB1qwFimFGWBuNjy0Fbq6z4sXXal/231186930/HTB1qwFimFGWBuNjy0Fbq6z4sXXal.jpg\" alt=\" Premium 3d fiber silk synthetic false eyelashes\" ori-width=\"750\" ori-height=\"825\" /><img src=\"//sc01.alicdn.com/kf/HTB16L99nTJYBeNjy1zeq6yhzVXap/231186930/HTB16L99nTJYBeNjy1zeq6yhzVXap.jpg\" alt=\"8.jpg\" ori-width=\"750\" ori-height=\"723\" /><img src=\"//sc02.alicdn.com/kf/HTB1CPL_qoR1BeNjy0Fmq6z0wVXaE/231186930/HTB1CPL_qoR1BeNjy0Fmq6z0wVXaE.jpg\" alt=\"10\" ori-width=\"750\" ori-height=\"592\" /><img src=\"//sc01.alicdn.com/kf/HTB1V2WAgQ9WBuNjSspeq6yz5VXan/231186930/HTB1V2WAgQ9WBuNjSspeq6yz5VXan.jpg\" alt=\"Premium 3d fiber silk synthetic false eyelashes\" ori-width=\"750\" ori-height=\"608\" /><img src=\"//sc01.alicdn.com/kf/HTB1pQuOgQyWBuNjy0Fpq6yssXXag/231186930/HTB1pQuOgQyWBuNjy0Fpq6yssXXag.jpg\" alt=\"Premium 3d fiber silk synthetic false eyelashes\" ori-width=\"750\" ori-height=\"503\" /><img src=\"//sc01.alicdn.com/kf/HTB1of4ppk9WBuNjSspeq6yz5VXan/231186930/HTB1of4ppk9WBuNjSspeq6yz5VXan.jpg\" alt=\"14.jpg\" ori-width=\"750\" ori-height=\"424\" /></p>'}, 'pictures': ['E:\\\\glitter\\\\eyelashes\\\\3D Silk Eyelashes\\\\22A-3D化纤 - serie\\\\22A04_3DY04_0_1.jpg', 'E:\\\\glitter\\\\eyelashes\\\\3D Silk Eyelashes\\\\22A-3D化纤 - serie\\\\22A05_3DY05_0_1.jpg', 'E:\\\\glitter\\\\eyelashes\\\\3D Silk Eyelashes\\\\22A-3D化纤 - serie\\\\22A06_3DY06_0_1.jpg', 'E:\\\\glitter\\\\eyelashes\\\\3D Silk Eyelashes\\\\22A-3D化纤 - serie\\\\22A07_3DY07_0_1.jpg', 'E:\\\\glitter\\\\eyelashes\\\\3D Silk Eyelashes\\\\22A-3D化纤 - serie\\\\22A08_3DY08_0_1.jpg', 'E:\\\\glitter\\\\eyelashes\\\\3D Silk Eyelashes\\\\22A-3D化纤 - serie\\\\22A09_3DY09_0_1.jpg'], 'template_pictures': ['E:\\\\glitter\\\\eyelashes\\\\3D Silk Eyelashes\\\\22A-3D化纤 - serie\\\\22A04_3DY04_0_3.jpg', 'E:\\\\glitter\\\\eyelashes\\\\3D Silk Eyelashes\\\\22A-3D化纤 - serie\\\\22A04_3DY04_0_5.jpg', 'E:\\\\glitter\\\\eyelashes\\\\3D Silk Eyelashes\\\\22A-3D化纤 - serie\\\\22A04_3DY04_1_2.jpg']}\n",
      "{'attributes': {'alibaba_id': '60756077198', 'alibaba_category': 'Beauty & Personal Care>>Makeup Tools>>False Eyelashes', 'name': 'Very Soft High Quality 3d Silk Mink Eyelashes Private Label Eyelash Packaging', 'keywords': ['High Quality High Quality Synthetic Fiber Lashes', 'Private Label Eyelash Packaging Box', 'silk eyelash'], 'type': '22A02', 'brand': 'GLITTER', 'origin': ['China (Mainland)', 'Shandong'], 'material': 'Synthetic Hair', 'production_method': 'Hand Made', 'custom_attributes': [['Product Name', 'Premium 3d fiber silk synthetic false eyelashes'], ['Color', 'Black'], ['Price', 'Factory Direct'], ['Sizes', 'All sizes are in stock'], ['Grade', 'Top grade, soft and natural looking'], ['Sample', 'Free Sample'], ['OEM/ODM', 'Accept'], ['Inspection', '100% Before Shipment'], ['Assurance', 'Alibaba Trade Assurance'], ['Custom Packaging', 'Accept']], 'isTieredPricing': False, 'sales_unit': 'Pair/Pairs', 'currency': 'USD', 'price_range': ['1.1', '1.8'], 'MOQ': '10', 'additional_trading_infomation': '1 Pair if the eyelashes in stock,1 pair is ok to test quality', 'tieredPricing': [], 'payment_methods': {'L/C': True, 'D/A': False, 'D/P': False, 'T/T': True, 'Western Union': True, 'MoneyGram': False}, 'delivery_time': 'Shipped in 7 days after payment', 'port': 'Qingdao', 'supply_ability': ['1000000', 'Pair/Pairs', 'Month'], 'additional_delivery_information': '', 'packaging': 'Custom packaging and logo are accepted'}, 'template': {'isIndividual': False, 'product_pictures': [], 'product_picture': {'pcode': '0', 'pscode': '1'}, 'selections': [{'selector': '.glitter_product_title', 'type': 'title'}, {'selector': '.glitter_product_img_1', 'type': 'tag_img', 'pcode': '0', 'pscode': '3'}, {'selector': '.glitter_product_img_2', 'type': 'tag_img', 'pcode': '0', 'pscode': '5'}, {'selector': '.glitter_product_img_3', 'type': 'tag_img', 'pcode': '1', 'pscode': '2'}], 'template': '<p style=\"margin: 0px; padding: 0px; color: #000000; font-family: Arial; font-size: 12px; font-style: normal; font-weight: normal; text-align: center;\">&nbsp;<strong><span class=\"glitter_product_title\" style=\"font-size: 18px;\">Very Soft High Quality 3d Silk Mink Eyelashes Private Label Eyelash Packaging</span></strong></p>\\n<p style=\"margin: 0px; padding: 0px; color: #000000; font-family: Arial; font-size: 12px; font-style: normal; font-weight: normal; text-align: center;\">&nbsp;</p>\\n<p style=\"margin: 0px; padding: 0px; color: #000000; font-family: Arial; font-size: 12px; font-style: normal; font-weight: normal;\"><img src=\"//sc02.alicdn.com/kf/HTB13Tbmd98YBeNkSnb4q6yevFXaG/231186930/HTB13Tbmd98YBeNkSnb4q6yevFXaG.jpg\" alt=\" Premium 3d fiber silk synthetic false eyelashes\" ori-width=\"750\" ori-height=\"892\" /></p>\\n<p style=\"margin: 0px; padding: 0px; color: #000000; font-family: Arial; font-size: 12px; font-style: normal; font-weight: normal;\"><img class=\"glitter_product_img_1\" src=\"//sc01.alicdn.com/kf/HTB1LOWnnMmTBuNjy1Xbq6yMrVXa6/231186930/HTB1LOWnnMmTBuNjy1Xbq6yMrVXa6.jpg\" alt=\"Very Soft High Quality 3d Silk Mink Eyelashes Private Label Eyelash Packaging\" ori-width=\"750\" ori-height=\"360\" /></p>\\n<p style=\"margin: 0px; padding: 0px; color: #000000; font-family: Arial; font-size: 12px; font-style: normal; font-weight: normal;\">&nbsp;</p>\\n<p style=\"margin: 0px; padding: 0px; color: #000000; font-family: Arial; font-size: 12px; font-style: normal; font-weight: normal;\"><img  class=\"glitter_product_img_2\" src=\"//sc02.alicdn.com/kf/HTB1YkaCnMaTBuNjSszfq6xgfpXav/231186930/HTB1YkaCnMaTBuNjSszfq6xgfpXav.jpg\" alt=\"Very Soft High Quality 3d Silk Mink Eyelashes Private Label Eyelash Packaging\" ori-width=\"750\" ori-height=\"360\" /></p>\\n<p style=\"margin: 0px; padding: 0px; color: #000000; font-family: Arial; font-size: 12px; font-style: normal; font-weight: normal;\">&nbsp;</p>\\n<p style=\"margin: 0px; padding: 0px; color: #000000; font-family: Arial; font-size: 12px; font-style: normal; font-weight: normal;\"><img  class=\"glitter_product_img_3\" src=\"//sc01.alicdn.com/kf/HTB1kohQfwKTBuNkSne1q6yJoXXa8/231186930/HTB1kohQfwKTBuNkSne1q6yJoXXa8.jpg\" alt=\"Very Soft High Quality 3d Silk Mink Eyelashes Private Label Eyelash Packaging\" ori-width=\"750\" ori-height=\"360\" /></p>\\n<p style=\"margin: 0px; padding: 0px; color: #000000; font-family: Arial; font-size: 12px; font-style: normal; font-weight: normal;\">&nbsp;</p>\\n<p style=\"margin: 0px; padding: 0px; color: #000000; font-family: Arial; font-size: 12px; font-style: normal; font-weight: normal;\"><img src=\"//sc02.alicdn.com/kf/HTB1GNInmFuWBuNjSszbq6AS7FXaA/231186930/HTB1GNInmFuWBuNjSszbq6AS7FXaA.jpg\" alt=\" Premium 3d fiber silk synthetic false eyelashes\" ori-width=\"750\" ori-height=\"1938\" /></p>\\n<p style=\"margin: 0px; padding: 0px; color: #000000; font-family: Arial; font-size: 12px; font-style: normal; font-weight: normal;\"><img src=\"//sc02.alicdn.com/kf/HTB165ZaflmWBuNkSndVq6AsApXaU/231186930/HTB165ZaflmWBuNkSndVq6AsApXaU.jpg\" alt=\"5.jpg\" ori-width=\"750\" ori-height=\"836\" /></p>\\n<p style=\"margin: 0px; padding: 0px; color: #000000; font-family: Arial; font-size: 12px; font-style: normal; font-weight: normal;\"><img src=\"//sc02.alicdn.com/kf/HTB1Z349mUR1BeNjy0Fmq6z0wVXaA/231186930/HTB1Z349mUR1BeNjy0Fmq6z0wVXaA.jpg\" alt=\" Premium 3d fiber silk synthetic false eyelashes\" ori-width=\"750\" ori-height=\"659\" /><img src=\"//sc01.alicdn.com/kf/HTB1qwFimFGWBuNjy0Fbq6z4sXXal/231186930/HTB1qwFimFGWBuNjy0Fbq6z4sXXal.jpg\" alt=\" Premium 3d fiber silk synthetic false eyelashes\" ori-width=\"750\" ori-height=\"825\" /><img src=\"//sc01.alicdn.com/kf/HTB16L99nTJYBeNjy1zeq6yhzVXap/231186930/HTB16L99nTJYBeNjy1zeq6yhzVXap.jpg\" alt=\"8.jpg\" ori-width=\"750\" ori-height=\"723\" /><img src=\"//sc02.alicdn.com/kf/HTB1CPL_qoR1BeNjy0Fmq6z0wVXaE/231186930/HTB1CPL_qoR1BeNjy0Fmq6z0wVXaE.jpg\" alt=\"10\" ori-width=\"750\" ori-height=\"592\" /><img src=\"//sc01.alicdn.com/kf/HTB1V2WAgQ9WBuNjSspeq6yz5VXan/231186930/HTB1V2WAgQ9WBuNjSspeq6yz5VXan.jpg\" alt=\"Premium 3d fiber silk synthetic false eyelashes\" ori-width=\"750\" ori-height=\"608\" /><img src=\"//sc01.alicdn.com/kf/HTB1pQuOgQyWBuNjy0Fpq6yssXXag/231186930/HTB1pQuOgQyWBuNjy0Fpq6yssXXag.jpg\" alt=\"Premium 3d fiber silk synthetic false eyelashes\" ori-width=\"750\" ori-height=\"503\" /><img src=\"//sc01.alicdn.com/kf/HTB1of4ppk9WBuNjSspeq6yz5VXan/231186930/HTB1of4ppk9WBuNjSspeq6yz5VXan.jpg\" alt=\"14.jpg\" ori-width=\"750\" ori-height=\"424\" /></p>'}, 'pictures': ['E:\\\\glitter\\\\eyelashes\\\\3D Silk Eyelashes\\\\22A-3D化纤 - serie\\\\22A04_3DY04_0_1.jpg', 'E:\\\\glitter\\\\eyelashes\\\\3D Silk Eyelashes\\\\22A-3D化纤 - serie\\\\22A05_3DY05_0_1.jpg', 'E:\\\\glitter\\\\eyelashes\\\\3D Silk Eyelashes\\\\22A-3D化纤 - serie\\\\22A06_3DY06_0_1.jpg', 'E:\\\\glitter\\\\eyelashes\\\\3D Silk Eyelashes\\\\22A-3D化纤 - serie\\\\22A07_3DY07_0_1.jpg', 'E:\\\\glitter\\\\eyelashes\\\\3D Silk Eyelashes\\\\22A-3D化纤 - serie\\\\22A08_3DY08_0_1.jpg', 'E:\\\\glitter\\\\eyelashes\\\\3D Silk Eyelashes\\\\22A-3D化纤 - serie\\\\22A09_3DY09_0_1.jpg'], 'template_pictures': ['E:\\\\glitter\\\\eyelashes\\\\3D Silk Eyelashes\\\\22A-3D化纤 - serie\\\\22A04_3DY04_0_3.jpg', 'E:\\\\glitter\\\\eyelashes\\\\3D Silk Eyelashes\\\\22A-3D化纤 - serie\\\\22A04_3DY04_0_5.jpg', 'E:\\\\glitter\\\\eyelashes\\\\3D Silk Eyelashes\\\\22A-3D化纤 - serie\\\\22A04_3DY04_1_2.jpg']}\n"
     ]
    },
    {
     "name": "stdout",
     "output_type": "stream",
     "text": [
      "{'attributes': {'alibaba_id': '60756077198', 'alibaba_category': 'Beauty & Personal Care>>Makeup Tools>>False Eyelashes', 'name': 'Very Soft High Quality 3d Silk Mink Eyelashes Private Label Eyelash Packaging', 'keywords': ['High Quality High Quality Synthetic Fiber Lashes', 'Private Label Eyelash Packaging Box', 'silk eyelash'], 'type': '22A02', 'brand': 'GLITTER', 'origin': ['China (Mainland)', 'Shandong'], 'material': 'Synthetic Hair', 'production_method': 'Hand Made', 'custom_attributes': [['Product Name', 'Premium 3d fiber silk synthetic false eyelashes'], ['Color', 'Black'], ['Price', 'Factory Direct'], ['Sizes', 'All sizes are in stock'], ['Grade', 'Top grade, soft and natural looking'], ['Sample', 'Free Sample'], ['OEM/ODM', 'Accept'], ['Inspection', '100% Before Shipment'], ['Assurance', 'Alibaba Trade Assurance'], ['Custom Packaging', 'Accept']], 'isTieredPricing': False, 'sales_unit': 'Pair/Pairs', 'currency': 'USD', 'price_range': ['1.1', '1.8'], 'MOQ': '10', 'additional_trading_infomation': '1 Pair if the eyelashes in stock,1 pair is ok to test quality', 'tieredPricing': [], 'payment_methods': {'L/C': True, 'D/A': False, 'D/P': False, 'T/T': True, 'Western Union': True, 'MoneyGram': False}, 'delivery_time': 'Shipped in 7 days after payment', 'port': 'Qingdao', 'supply_ability': ['1000000', 'Pair/Pairs', 'Month'], 'additional_delivery_information': '', 'packaging': 'Custom packaging and logo are accepted'}, 'template': {'isIndividual': False, 'product_pictures': [], 'product_picture': {'pcode': '0', 'pscode': '1'}, 'selections': [{'selector': '.glitter_product_title', 'type': 'title'}, {'selector': '.glitter_product_img_1', 'type': 'tag_img', 'pcode': '0', 'pscode': '3'}, {'selector': '.glitter_product_img_2', 'type': 'tag_img', 'pcode': '0', 'pscode': '5'}, {'selector': '.glitter_product_img_3', 'type': 'tag_img', 'pcode': '1', 'pscode': '2'}], 'template': '<p style=\"margin: 0px; padding: 0px; color: #000000; font-family: Arial; font-size: 12px; font-style: normal; font-weight: normal; text-align: center;\">&nbsp;<strong><span class=\"glitter_product_title\" style=\"font-size: 18px;\">Very Soft High Quality 3d Silk Mink Eyelashes Private Label Eyelash Packaging</span></strong></p>\\n<p style=\"margin: 0px; padding: 0px; color: #000000; font-family: Arial; font-size: 12px; font-style: normal; font-weight: normal; text-align: center;\">&nbsp;</p>\\n<p style=\"margin: 0px; padding: 0px; color: #000000; font-family: Arial; font-size: 12px; font-style: normal; font-weight: normal;\"><img src=\"//sc02.alicdn.com/kf/HTB13Tbmd98YBeNkSnb4q6yevFXaG/231186930/HTB13Tbmd98YBeNkSnb4q6yevFXaG.jpg\" alt=\" Premium 3d fiber silk synthetic false eyelashes\" ori-width=\"750\" ori-height=\"892\" /></p>\\n<p style=\"margin: 0px; padding: 0px; color: #000000; font-family: Arial; font-size: 12px; font-style: normal; font-weight: normal;\"><img class=\"glitter_product_img_1\" src=\"//sc01.alicdn.com/kf/HTB1LOWnnMmTBuNjy1Xbq6yMrVXa6/231186930/HTB1LOWnnMmTBuNjy1Xbq6yMrVXa6.jpg\" alt=\"Very Soft High Quality 3d Silk Mink Eyelashes Private Label Eyelash Packaging\" ori-width=\"750\" ori-height=\"360\" /></p>\\n<p style=\"margin: 0px; padding: 0px; color: #000000; font-family: Arial; font-size: 12px; font-style: normal; font-weight: normal;\">&nbsp;</p>\\n<p style=\"margin: 0px; padding: 0px; color: #000000; font-family: Arial; font-size: 12px; font-style: normal; font-weight: normal;\"><img  class=\"glitter_product_img_2\" src=\"//sc02.alicdn.com/kf/HTB1YkaCnMaTBuNjSszfq6xgfpXav/231186930/HTB1YkaCnMaTBuNjSszfq6xgfpXav.jpg\" alt=\"Very Soft High Quality 3d Silk Mink Eyelashes Private Label Eyelash Packaging\" ori-width=\"750\" ori-height=\"360\" /></p>\\n<p style=\"margin: 0px; padding: 0px; color: #000000; font-family: Arial; font-size: 12px; font-style: normal; font-weight: normal;\">&nbsp;</p>\\n<p style=\"margin: 0px; padding: 0px; color: #000000; font-family: Arial; font-size: 12px; font-style: normal; font-weight: normal;\"><img  class=\"glitter_product_img_3\" src=\"//sc01.alicdn.com/kf/HTB1kohQfwKTBuNkSne1q6yJoXXa8/231186930/HTB1kohQfwKTBuNkSne1q6yJoXXa8.jpg\" alt=\"Very Soft High Quality 3d Silk Mink Eyelashes Private Label Eyelash Packaging\" ori-width=\"750\" ori-height=\"360\" /></p>\\n<p style=\"margin: 0px; padding: 0px; color: #000000; font-family: Arial; font-size: 12px; font-style: normal; font-weight: normal;\">&nbsp;</p>\\n<p style=\"margin: 0px; padding: 0px; color: #000000; font-family: Arial; font-size: 12px; font-style: normal; font-weight: normal;\"><img src=\"//sc02.alicdn.com/kf/HTB1GNInmFuWBuNjSszbq6AS7FXaA/231186930/HTB1GNInmFuWBuNjSszbq6AS7FXaA.jpg\" alt=\" Premium 3d fiber silk synthetic false eyelashes\" ori-width=\"750\" ori-height=\"1938\" /></p>\\n<p style=\"margin: 0px; padding: 0px; color: #000000; font-family: Arial; font-size: 12px; font-style: normal; font-weight: normal;\"><img src=\"//sc02.alicdn.com/kf/HTB165ZaflmWBuNkSndVq6AsApXaU/231186930/HTB165ZaflmWBuNkSndVq6AsApXaU.jpg\" alt=\"5.jpg\" ori-width=\"750\" ori-height=\"836\" /></p>\\n<p style=\"margin: 0px; padding: 0px; color: #000000; font-family: Arial; font-size: 12px; font-style: normal; font-weight: normal;\"><img src=\"//sc02.alicdn.com/kf/HTB1Z349mUR1BeNjy0Fmq6z0wVXaA/231186930/HTB1Z349mUR1BeNjy0Fmq6z0wVXaA.jpg\" alt=\" Premium 3d fiber silk synthetic false eyelashes\" ori-width=\"750\" ori-height=\"659\" /><img src=\"//sc01.alicdn.com/kf/HTB1qwFimFGWBuNjy0Fbq6z4sXXal/231186930/HTB1qwFimFGWBuNjy0Fbq6z4sXXal.jpg\" alt=\" Premium 3d fiber silk synthetic false eyelashes\" ori-width=\"750\" ori-height=\"825\" /><img src=\"//sc01.alicdn.com/kf/HTB16L99nTJYBeNjy1zeq6yhzVXap/231186930/HTB16L99nTJYBeNjy1zeq6yhzVXap.jpg\" alt=\"8.jpg\" ori-width=\"750\" ori-height=\"723\" /><img src=\"//sc02.alicdn.com/kf/HTB1CPL_qoR1BeNjy0Fmq6z0wVXaE/231186930/HTB1CPL_qoR1BeNjy0Fmq6z0wVXaE.jpg\" alt=\"10\" ori-width=\"750\" ori-height=\"592\" /><img src=\"//sc01.alicdn.com/kf/HTB1V2WAgQ9WBuNjSspeq6yz5VXan/231186930/HTB1V2WAgQ9WBuNjSspeq6yz5VXan.jpg\" alt=\"Premium 3d fiber silk synthetic false eyelashes\" ori-width=\"750\" ori-height=\"608\" /><img src=\"//sc01.alicdn.com/kf/HTB1pQuOgQyWBuNjy0Fpq6yssXXag/231186930/HTB1pQuOgQyWBuNjy0Fpq6yssXXag.jpg\" alt=\"Premium 3d fiber silk synthetic false eyelashes\" ori-width=\"750\" ori-height=\"503\" /><img src=\"//sc01.alicdn.com/kf/HTB1of4ppk9WBuNjSspeq6yz5VXan/231186930/HTB1of4ppk9WBuNjSspeq6yz5VXan.jpg\" alt=\"14.jpg\" ori-width=\"750\" ori-height=\"424\" /></p>'}, 'pictures': ['E:\\\\glitter\\\\eyelashes\\\\3D Silk Eyelashes\\\\22A-3D化纤 - serie\\\\22A04_3DY04_0_1.jpg', 'E:\\\\glitter\\\\eyelashes\\\\3D Silk Eyelashes\\\\22A-3D化纤 - serie\\\\22A05_3DY05_0_1.jpg', 'E:\\\\glitter\\\\eyelashes\\\\3D Silk Eyelashes\\\\22A-3D化纤 - serie\\\\22A06_3DY06_0_1.jpg', 'E:\\\\glitter\\\\eyelashes\\\\3D Silk Eyelashes\\\\22A-3D化纤 - serie\\\\22A07_3DY07_0_1.jpg', 'E:\\\\glitter\\\\eyelashes\\\\3D Silk Eyelashes\\\\22A-3D化纤 - serie\\\\22A08_3DY08_0_1.jpg', 'E:\\\\glitter\\\\eyelashes\\\\3D Silk Eyelashes\\\\22A-3D化纤 - serie\\\\22A09_3DY09_0_1.jpg'], 'template_pictures': ['E:\\\\glitter\\\\eyelashes\\\\3D Silk Eyelashes\\\\22A-3D化纤 - serie\\\\22A04_3DY04_0_3.jpg', 'E:\\\\glitter\\\\eyelashes\\\\3D Silk Eyelashes\\\\22A-3D化纤 - serie\\\\22A04_3DY04_0_5.jpg', 'E:\\\\glitter\\\\eyelashes\\\\3D Silk Eyelashes\\\\22A-3D化纤 - serie\\\\22A04_3DY04_1_2.jpg']}\n",
      "{'attributes': {'alibaba_id': '60756077198', 'alibaba_category': 'Beauty & Personal Care>>Makeup Tools>>False Eyelashes', 'name': 'Very Soft High Quality 3d Silk Mink Eyelashes Private Label Eyelash Packaging', 'keywords': ['High Quality High Quality Synthetic Fiber Lashes', 'Private Label Eyelash Packaging Box', 'silk eyelash'], 'type': '22A02', 'brand': 'GLITTER', 'origin': ['China (Mainland)', 'Shandong'], 'material': 'Synthetic Hair', 'production_method': 'Hand Made', 'custom_attributes': [['Product Name', 'Premium 3d fiber silk synthetic false eyelashes'], ['Color', 'Black'], ['Price', 'Factory Direct'], ['Sizes', 'All sizes are in stock'], ['Grade', 'Top grade, soft and natural looking'], ['Sample', 'Free Sample'], ['OEM/ODM', 'Accept'], ['Inspection', '100% Before Shipment'], ['Assurance', 'Alibaba Trade Assurance'], ['Custom Packaging', 'Accept']], 'isTieredPricing': False, 'sales_unit': 'Pair/Pairs', 'currency': 'USD', 'price_range': ['1.1', '1.8'], 'MOQ': '10', 'additional_trading_infomation': '1 Pair if the eyelashes in stock,1 pair is ok to test quality', 'tieredPricing': [], 'payment_methods': {'L/C': True, 'D/A': False, 'D/P': False, 'T/T': True, 'Western Union': True, 'MoneyGram': False}, 'delivery_time': 'Shipped in 7 days after payment', 'port': 'Qingdao', 'supply_ability': ['1000000', 'Pair/Pairs', 'Month'], 'additional_delivery_information': '', 'packaging': 'Custom packaging and logo are accepted'}, 'template': {'isIndividual': False, 'product_pictures': [], 'product_picture': {'pcode': '0', 'pscode': '1'}, 'selections': [{'selector': '.glitter_product_title', 'type': 'title'}, {'selector': '.glitter_product_img_1', 'type': 'tag_img', 'pcode': '0', 'pscode': '3'}, {'selector': '.glitter_product_img_2', 'type': 'tag_img', 'pcode': '0', 'pscode': '5'}, {'selector': '.glitter_product_img_3', 'type': 'tag_img', 'pcode': '1', 'pscode': '2'}], 'template': '<p style=\"margin: 0px; padding: 0px; color: #000000; font-family: Arial; font-size: 12px; font-style: normal; font-weight: normal; text-align: center;\">&nbsp;<strong><span class=\"glitter_product_title\" style=\"font-size: 18px;\">Very Soft High Quality 3d Silk Mink Eyelashes Private Label Eyelash Packaging</span></strong></p>\\n<p style=\"margin: 0px; padding: 0px; color: #000000; font-family: Arial; font-size: 12px; font-style: normal; font-weight: normal; text-align: center;\">&nbsp;</p>\\n<p style=\"margin: 0px; padding: 0px; color: #000000; font-family: Arial; font-size: 12px; font-style: normal; font-weight: normal;\"><img src=\"//sc02.alicdn.com/kf/HTB13Tbmd98YBeNkSnb4q6yevFXaG/231186930/HTB13Tbmd98YBeNkSnb4q6yevFXaG.jpg\" alt=\" Premium 3d fiber silk synthetic false eyelashes\" ori-width=\"750\" ori-height=\"892\" /></p>\\n<p style=\"margin: 0px; padding: 0px; color: #000000; font-family: Arial; font-size: 12px; font-style: normal; font-weight: normal;\"><img class=\"glitter_product_img_1\" src=\"//sc01.alicdn.com/kf/HTB1LOWnnMmTBuNjy1Xbq6yMrVXa6/231186930/HTB1LOWnnMmTBuNjy1Xbq6yMrVXa6.jpg\" alt=\"Very Soft High Quality 3d Silk Mink Eyelashes Private Label Eyelash Packaging\" ori-width=\"750\" ori-height=\"360\" /></p>\\n<p style=\"margin: 0px; padding: 0px; color: #000000; font-family: Arial; font-size: 12px; font-style: normal; font-weight: normal;\">&nbsp;</p>\\n<p style=\"margin: 0px; padding: 0px; color: #000000; font-family: Arial; font-size: 12px; font-style: normal; font-weight: normal;\"><img  class=\"glitter_product_img_2\" src=\"//sc02.alicdn.com/kf/HTB1YkaCnMaTBuNjSszfq6xgfpXav/231186930/HTB1YkaCnMaTBuNjSszfq6xgfpXav.jpg\" alt=\"Very Soft High Quality 3d Silk Mink Eyelashes Private Label Eyelash Packaging\" ori-width=\"750\" ori-height=\"360\" /></p>\\n<p style=\"margin: 0px; padding: 0px; color: #000000; font-family: Arial; font-size: 12px; font-style: normal; font-weight: normal;\">&nbsp;</p>\\n<p style=\"margin: 0px; padding: 0px; color: #000000; font-family: Arial; font-size: 12px; font-style: normal; font-weight: normal;\"><img  class=\"glitter_product_img_3\" src=\"//sc01.alicdn.com/kf/HTB1kohQfwKTBuNkSne1q6yJoXXa8/231186930/HTB1kohQfwKTBuNkSne1q6yJoXXa8.jpg\" alt=\"Very Soft High Quality 3d Silk Mink Eyelashes Private Label Eyelash Packaging\" ori-width=\"750\" ori-height=\"360\" /></p>\\n<p style=\"margin: 0px; padding: 0px; color: #000000; font-family: Arial; font-size: 12px; font-style: normal; font-weight: normal;\">&nbsp;</p>\\n<p style=\"margin: 0px; padding: 0px; color: #000000; font-family: Arial; font-size: 12px; font-style: normal; font-weight: normal;\"><img src=\"//sc02.alicdn.com/kf/HTB1GNInmFuWBuNjSszbq6AS7FXaA/231186930/HTB1GNInmFuWBuNjSszbq6AS7FXaA.jpg\" alt=\" Premium 3d fiber silk synthetic false eyelashes\" ori-width=\"750\" ori-height=\"1938\" /></p>\\n<p style=\"margin: 0px; padding: 0px; color: #000000; font-family: Arial; font-size: 12px; font-style: normal; font-weight: normal;\"><img src=\"//sc02.alicdn.com/kf/HTB165ZaflmWBuNkSndVq6AsApXaU/231186930/HTB165ZaflmWBuNkSndVq6AsApXaU.jpg\" alt=\"5.jpg\" ori-width=\"750\" ori-height=\"836\" /></p>\\n<p style=\"margin: 0px; padding: 0px; color: #000000; font-family: Arial; font-size: 12px; font-style: normal; font-weight: normal;\"><img src=\"//sc02.alicdn.com/kf/HTB1Z349mUR1BeNjy0Fmq6z0wVXaA/231186930/HTB1Z349mUR1BeNjy0Fmq6z0wVXaA.jpg\" alt=\" Premium 3d fiber silk synthetic false eyelashes\" ori-width=\"750\" ori-height=\"659\" /><img src=\"//sc01.alicdn.com/kf/HTB1qwFimFGWBuNjy0Fbq6z4sXXal/231186930/HTB1qwFimFGWBuNjy0Fbq6z4sXXal.jpg\" alt=\" Premium 3d fiber silk synthetic false eyelashes\" ori-width=\"750\" ori-height=\"825\" /><img src=\"//sc01.alicdn.com/kf/HTB16L99nTJYBeNjy1zeq6yhzVXap/231186930/HTB16L99nTJYBeNjy1zeq6yhzVXap.jpg\" alt=\"8.jpg\" ori-width=\"750\" ori-height=\"723\" /><img src=\"//sc02.alicdn.com/kf/HTB1CPL_qoR1BeNjy0Fmq6z0wVXaE/231186930/HTB1CPL_qoR1BeNjy0Fmq6z0wVXaE.jpg\" alt=\"10\" ori-width=\"750\" ori-height=\"592\" /><img src=\"//sc01.alicdn.com/kf/HTB1V2WAgQ9WBuNjSspeq6yz5VXan/231186930/HTB1V2WAgQ9WBuNjSspeq6yz5VXan.jpg\" alt=\"Premium 3d fiber silk synthetic false eyelashes\" ori-width=\"750\" ori-height=\"608\" /><img src=\"//sc01.alicdn.com/kf/HTB1pQuOgQyWBuNjy0Fpq6yssXXag/231186930/HTB1pQuOgQyWBuNjy0Fpq6yssXXag.jpg\" alt=\"Premium 3d fiber silk synthetic false eyelashes\" ori-width=\"750\" ori-height=\"503\" /><img src=\"//sc01.alicdn.com/kf/HTB1of4ppk9WBuNjSspeq6yz5VXan/231186930/HTB1of4ppk9WBuNjSspeq6yz5VXan.jpg\" alt=\"14.jpg\" ori-width=\"750\" ori-height=\"424\" /></p>'}, 'pictures': ['E:\\\\glitter\\\\eyelashes\\\\3D Silk Eyelashes\\\\22A-3D化纤 - serie\\\\22A04_3DY04_0_1.jpg', 'E:\\\\glitter\\\\eyelashes\\\\3D Silk Eyelashes\\\\22A-3D化纤 - serie\\\\22A05_3DY05_0_1.jpg', 'E:\\\\glitter\\\\eyelashes\\\\3D Silk Eyelashes\\\\22A-3D化纤 - serie\\\\22A06_3DY06_0_1.jpg', 'E:\\\\glitter\\\\eyelashes\\\\3D Silk Eyelashes\\\\22A-3D化纤 - serie\\\\22A07_3DY07_0_1.jpg', 'E:\\\\glitter\\\\eyelashes\\\\3D Silk Eyelashes\\\\22A-3D化纤 - serie\\\\22A08_3DY08_0_1.jpg', 'E:\\\\glitter\\\\eyelashes\\\\3D Silk Eyelashes\\\\22A-3D化纤 - serie\\\\22A09_3DY09_0_1.jpg'], 'template_pictures': ['E:\\\\glitter\\\\eyelashes\\\\3D Silk Eyelashes\\\\22A-3D化纤 - serie\\\\22A04_3DY04_0_3.jpg', 'E:\\\\glitter\\\\eyelashes\\\\3D Silk Eyelashes\\\\22A-3D化纤 - serie\\\\22A04_3DY04_0_5.jpg', 'E:\\\\glitter\\\\eyelashes\\\\3D Silk Eyelashes\\\\22A-3D化纤 - serie\\\\22A04_3DY04_1_2.jpg']}\n",
      "{'attributes': {'alibaba_id': '60756077198', 'alibaba_category': 'Beauty & Personal Care>>Makeup Tools>>False Eyelashes', 'name': 'Very Soft High Quality 3d Silk Mink Eyelashes Private Label Eyelash Packaging', 'keywords': ['High Quality High Quality Synthetic Fiber Lashes', 'Private Label Eyelash Packaging Box', 'silk eyelash'], 'type': '22A02', 'brand': 'GLITTER', 'origin': ['China (Mainland)', 'Shandong'], 'material': 'Synthetic Hair', 'production_method': 'Hand Made', 'custom_attributes': [['Product Name', 'Premium 3d fiber silk synthetic false eyelashes'], ['Color', 'Black'], ['Price', 'Factory Direct'], ['Sizes', 'All sizes are in stock'], ['Grade', 'Top grade, soft and natural looking'], ['Sample', 'Free Sample'], ['OEM/ODM', 'Accept'], ['Inspection', '100% Before Shipment'], ['Assurance', 'Alibaba Trade Assurance'], ['Custom Packaging', 'Accept']], 'isTieredPricing': False, 'sales_unit': 'Pair/Pairs', 'currency': 'USD', 'price_range': ['1.1', '1.8'], 'MOQ': '10', 'additional_trading_infomation': '1 Pair if the eyelashes in stock,1 pair is ok to test quality', 'tieredPricing': [], 'payment_methods': {'L/C': True, 'D/A': False, 'D/P': False, 'T/T': True, 'Western Union': True, 'MoneyGram': False}, 'delivery_time': 'Shipped in 7 days after payment', 'port': 'Qingdao', 'supply_ability': ['1000000', 'Pair/Pairs', 'Month'], 'additional_delivery_information': '', 'packaging': 'Custom packaging and logo are accepted'}, 'template': {'isIndividual': False, 'product_pictures': [], 'product_picture': {'pcode': '0', 'pscode': '1'}, 'selections': [{'selector': '.glitter_product_title', 'type': 'title'}, {'selector': '.glitter_product_img_1', 'type': 'tag_img', 'pcode': '0', 'pscode': '3'}, {'selector': '.glitter_product_img_2', 'type': 'tag_img', 'pcode': '0', 'pscode': '5'}, {'selector': '.glitter_product_img_3', 'type': 'tag_img', 'pcode': '1', 'pscode': '2'}], 'template': '<p style=\"margin: 0px; padding: 0px; color: #000000; font-family: Arial; font-size: 12px; font-style: normal; font-weight: normal; text-align: center;\">&nbsp;<strong><span class=\"glitter_product_title\" style=\"font-size: 18px;\">Very Soft High Quality 3d Silk Mink Eyelashes Private Label Eyelash Packaging</span></strong></p>\\n<p style=\"margin: 0px; padding: 0px; color: #000000; font-family: Arial; font-size: 12px; font-style: normal; font-weight: normal; text-align: center;\">&nbsp;</p>\\n<p style=\"margin: 0px; padding: 0px; color: #000000; font-family: Arial; font-size: 12px; font-style: normal; font-weight: normal;\"><img src=\"//sc02.alicdn.com/kf/HTB13Tbmd98YBeNkSnb4q6yevFXaG/231186930/HTB13Tbmd98YBeNkSnb4q6yevFXaG.jpg\" alt=\" Premium 3d fiber silk synthetic false eyelashes\" ori-width=\"750\" ori-height=\"892\" /></p>\\n<p style=\"margin: 0px; padding: 0px; color: #000000; font-family: Arial; font-size: 12px; font-style: normal; font-weight: normal;\"><img class=\"glitter_product_img_1\" src=\"//sc01.alicdn.com/kf/HTB1LOWnnMmTBuNjy1Xbq6yMrVXa6/231186930/HTB1LOWnnMmTBuNjy1Xbq6yMrVXa6.jpg\" alt=\"Very Soft High Quality 3d Silk Mink Eyelashes Private Label Eyelash Packaging\" ori-width=\"750\" ori-height=\"360\" /></p>\\n<p style=\"margin: 0px; padding: 0px; color: #000000; font-family: Arial; font-size: 12px; font-style: normal; font-weight: normal;\">&nbsp;</p>\\n<p style=\"margin: 0px; padding: 0px; color: #000000; font-family: Arial; font-size: 12px; font-style: normal; font-weight: normal;\"><img  class=\"glitter_product_img_2\" src=\"//sc02.alicdn.com/kf/HTB1YkaCnMaTBuNjSszfq6xgfpXav/231186930/HTB1YkaCnMaTBuNjSszfq6xgfpXav.jpg\" alt=\"Very Soft High Quality 3d Silk Mink Eyelashes Private Label Eyelash Packaging\" ori-width=\"750\" ori-height=\"360\" /></p>\\n<p style=\"margin: 0px; padding: 0px; color: #000000; font-family: Arial; font-size: 12px; font-style: normal; font-weight: normal;\">&nbsp;</p>\\n<p style=\"margin: 0px; padding: 0px; color: #000000; font-family: Arial; font-size: 12px; font-style: normal; font-weight: normal;\"><img  class=\"glitter_product_img_3\" src=\"//sc01.alicdn.com/kf/HTB1kohQfwKTBuNkSne1q6yJoXXa8/231186930/HTB1kohQfwKTBuNkSne1q6yJoXXa8.jpg\" alt=\"Very Soft High Quality 3d Silk Mink Eyelashes Private Label Eyelash Packaging\" ori-width=\"750\" ori-height=\"360\" /></p>\\n<p style=\"margin: 0px; padding: 0px; color: #000000; font-family: Arial; font-size: 12px; font-style: normal; font-weight: normal;\">&nbsp;</p>\\n<p style=\"margin: 0px; padding: 0px; color: #000000; font-family: Arial; font-size: 12px; font-style: normal; font-weight: normal;\"><img src=\"//sc02.alicdn.com/kf/HTB1GNInmFuWBuNjSszbq6AS7FXaA/231186930/HTB1GNInmFuWBuNjSszbq6AS7FXaA.jpg\" alt=\" Premium 3d fiber silk synthetic false eyelashes\" ori-width=\"750\" ori-height=\"1938\" /></p>\\n<p style=\"margin: 0px; padding: 0px; color: #000000; font-family: Arial; font-size: 12px; font-style: normal; font-weight: normal;\"><img src=\"//sc02.alicdn.com/kf/HTB165ZaflmWBuNkSndVq6AsApXaU/231186930/HTB165ZaflmWBuNkSndVq6AsApXaU.jpg\" alt=\"5.jpg\" ori-width=\"750\" ori-height=\"836\" /></p>\\n<p style=\"margin: 0px; padding: 0px; color: #000000; font-family: Arial; font-size: 12px; font-style: normal; font-weight: normal;\"><img src=\"//sc02.alicdn.com/kf/HTB1Z349mUR1BeNjy0Fmq6z0wVXaA/231186930/HTB1Z349mUR1BeNjy0Fmq6z0wVXaA.jpg\" alt=\" Premium 3d fiber silk synthetic false eyelashes\" ori-width=\"750\" ori-height=\"659\" /><img src=\"//sc01.alicdn.com/kf/HTB1qwFimFGWBuNjy0Fbq6z4sXXal/231186930/HTB1qwFimFGWBuNjy0Fbq6z4sXXal.jpg\" alt=\" Premium 3d fiber silk synthetic false eyelashes\" ori-width=\"750\" ori-height=\"825\" /><img src=\"//sc01.alicdn.com/kf/HTB16L99nTJYBeNjy1zeq6yhzVXap/231186930/HTB16L99nTJYBeNjy1zeq6yhzVXap.jpg\" alt=\"8.jpg\" ori-width=\"750\" ori-height=\"723\" /><img src=\"//sc02.alicdn.com/kf/HTB1CPL_qoR1BeNjy0Fmq6z0wVXaE/231186930/HTB1CPL_qoR1BeNjy0Fmq6z0wVXaE.jpg\" alt=\"10\" ori-width=\"750\" ori-height=\"592\" /><img src=\"//sc01.alicdn.com/kf/HTB1V2WAgQ9WBuNjSspeq6yz5VXan/231186930/HTB1V2WAgQ9WBuNjSspeq6yz5VXan.jpg\" alt=\"Premium 3d fiber silk synthetic false eyelashes\" ori-width=\"750\" ori-height=\"608\" /><img src=\"//sc01.alicdn.com/kf/HTB1pQuOgQyWBuNjy0Fpq6yssXXag/231186930/HTB1pQuOgQyWBuNjy0Fpq6yssXXag.jpg\" alt=\"Premium 3d fiber silk synthetic false eyelashes\" ori-width=\"750\" ori-height=\"503\" /><img src=\"//sc01.alicdn.com/kf/HTB1of4ppk9WBuNjSspeq6yz5VXan/231186930/HTB1of4ppk9WBuNjSspeq6yz5VXan.jpg\" alt=\"14.jpg\" ori-width=\"750\" ori-height=\"424\" /></p>'}, 'pictures': ['E:\\\\glitter\\\\eyelashes\\\\3D Silk Eyelashes\\\\22A-3D化纤 - serie\\\\22A04_3DY04_0_1.jpg', 'E:\\\\glitter\\\\eyelashes\\\\3D Silk Eyelashes\\\\22A-3D化纤 - serie\\\\22A05_3DY05_0_1.jpg', 'E:\\\\glitter\\\\eyelashes\\\\3D Silk Eyelashes\\\\22A-3D化纤 - serie\\\\22A06_3DY06_0_1.jpg', 'E:\\\\glitter\\\\eyelashes\\\\3D Silk Eyelashes\\\\22A-3D化纤 - serie\\\\22A07_3DY07_0_1.jpg', 'E:\\\\glitter\\\\eyelashes\\\\3D Silk Eyelashes\\\\22A-3D化纤 - serie\\\\22A08_3DY08_0_1.jpg', 'E:\\\\glitter\\\\eyelashes\\\\3D Silk Eyelashes\\\\22A-3D化纤 - serie\\\\22A09_3DY09_0_1.jpg'], 'template_pictures': ['E:\\\\glitter\\\\eyelashes\\\\3D Silk Eyelashes\\\\22A-3D化纤 - serie\\\\22A04_3DY04_0_3.jpg', 'E:\\\\glitter\\\\eyelashes\\\\3D Silk Eyelashes\\\\22A-3D化纤 - serie\\\\22A04_3DY04_0_5.jpg', 'E:\\\\glitter\\\\eyelashes\\\\3D Silk Eyelashes\\\\22A-3D化纤 - serie\\\\22A04_3DY04_1_2.jpg']}\n"
     ]
    },
    {
     "name": "stdout",
     "output_type": "stream",
     "text": [
      "{'attributes': {'alibaba_id': '60756077198', 'alibaba_category': 'Beauty & Personal Care>>Makeup Tools>>False Eyelashes', 'name': 'Very Soft High Quality 3d Silk Mink Eyelashes Private Label Eyelash Packaging', 'keywords': ['High Quality High Quality Synthetic Fiber Lashes', 'Private Label Eyelash Packaging Box', 'silk eyelash'], 'type': '22A02', 'brand': 'GLITTER', 'origin': ['China (Mainland)', 'Shandong'], 'material': 'Synthetic Hair', 'production_method': 'Hand Made', 'custom_attributes': [['Product Name', 'Premium 3d fiber silk synthetic false eyelashes'], ['Color', 'Black'], ['Price', 'Factory Direct'], ['Sizes', 'All sizes are in stock'], ['Grade', 'Top grade, soft and natural looking'], ['Sample', 'Free Sample'], ['OEM/ODM', 'Accept'], ['Inspection', '100% Before Shipment'], ['Assurance', 'Alibaba Trade Assurance'], ['Custom Packaging', 'Accept']], 'isTieredPricing': False, 'sales_unit': 'Pair/Pairs', 'currency': 'USD', 'price_range': ['1.1', '1.8'], 'MOQ': '10', 'additional_trading_infomation': '1 Pair if the eyelashes in stock,1 pair is ok to test quality', 'tieredPricing': [], 'payment_methods': {'L/C': True, 'D/A': False, 'D/P': False, 'T/T': True, 'Western Union': True, 'MoneyGram': False}, 'delivery_time': 'Shipped in 7 days after payment', 'port': 'Qingdao', 'supply_ability': ['1000000', 'Pair/Pairs', 'Month'], 'additional_delivery_information': '', 'packaging': 'Custom packaging and logo are accepted'}, 'template': {'isIndividual': False, 'product_pictures': [], 'product_picture': {'pcode': '0', 'pscode': '1'}, 'selections': [{'selector': '.glitter_product_title', 'type': 'title'}, {'selector': '.glitter_product_img_1', 'type': 'tag_img', 'pcode': '0', 'pscode': '3'}, {'selector': '.glitter_product_img_2', 'type': 'tag_img', 'pcode': '0', 'pscode': '5'}, {'selector': '.glitter_product_img_3', 'type': 'tag_img', 'pcode': '1', 'pscode': '2'}], 'template': '<p style=\"margin: 0px; padding: 0px; color: #000000; font-family: Arial; font-size: 12px; font-style: normal; font-weight: normal; text-align: center;\">&nbsp;<strong><span class=\"glitter_product_title\" style=\"font-size: 18px;\">Very Soft High Quality 3d Silk Mink Eyelashes Private Label Eyelash Packaging</span></strong></p>\\n<p style=\"margin: 0px; padding: 0px; color: #000000; font-family: Arial; font-size: 12px; font-style: normal; font-weight: normal; text-align: center;\">&nbsp;</p>\\n<p style=\"margin: 0px; padding: 0px; color: #000000; font-family: Arial; font-size: 12px; font-style: normal; font-weight: normal;\"><img src=\"//sc02.alicdn.com/kf/HTB13Tbmd98YBeNkSnb4q6yevFXaG/231186930/HTB13Tbmd98YBeNkSnb4q6yevFXaG.jpg\" alt=\" Premium 3d fiber silk synthetic false eyelashes\" ori-width=\"750\" ori-height=\"892\" /></p>\\n<p style=\"margin: 0px; padding: 0px; color: #000000; font-family: Arial; font-size: 12px; font-style: normal; font-weight: normal;\"><img class=\"glitter_product_img_1\" src=\"//sc01.alicdn.com/kf/HTB1LOWnnMmTBuNjy1Xbq6yMrVXa6/231186930/HTB1LOWnnMmTBuNjy1Xbq6yMrVXa6.jpg\" alt=\"Very Soft High Quality 3d Silk Mink Eyelashes Private Label Eyelash Packaging\" ori-width=\"750\" ori-height=\"360\" /></p>\\n<p style=\"margin: 0px; padding: 0px; color: #000000; font-family: Arial; font-size: 12px; font-style: normal; font-weight: normal;\">&nbsp;</p>\\n<p style=\"margin: 0px; padding: 0px; color: #000000; font-family: Arial; font-size: 12px; font-style: normal; font-weight: normal;\"><img  class=\"glitter_product_img_2\" src=\"//sc02.alicdn.com/kf/HTB1YkaCnMaTBuNjSszfq6xgfpXav/231186930/HTB1YkaCnMaTBuNjSszfq6xgfpXav.jpg\" alt=\"Very Soft High Quality 3d Silk Mink Eyelashes Private Label Eyelash Packaging\" ori-width=\"750\" ori-height=\"360\" /></p>\\n<p style=\"margin: 0px; padding: 0px; color: #000000; font-family: Arial; font-size: 12px; font-style: normal; font-weight: normal;\">&nbsp;</p>\\n<p style=\"margin: 0px; padding: 0px; color: #000000; font-family: Arial; font-size: 12px; font-style: normal; font-weight: normal;\"><img  class=\"glitter_product_img_3\" src=\"//sc01.alicdn.com/kf/HTB1kohQfwKTBuNkSne1q6yJoXXa8/231186930/HTB1kohQfwKTBuNkSne1q6yJoXXa8.jpg\" alt=\"Very Soft High Quality 3d Silk Mink Eyelashes Private Label Eyelash Packaging\" ori-width=\"750\" ori-height=\"360\" /></p>\\n<p style=\"margin: 0px; padding: 0px; color: #000000; font-family: Arial; font-size: 12px; font-style: normal; font-weight: normal;\">&nbsp;</p>\\n<p style=\"margin: 0px; padding: 0px; color: #000000; font-family: Arial; font-size: 12px; font-style: normal; font-weight: normal;\"><img src=\"//sc02.alicdn.com/kf/HTB1GNInmFuWBuNjSszbq6AS7FXaA/231186930/HTB1GNInmFuWBuNjSszbq6AS7FXaA.jpg\" alt=\" Premium 3d fiber silk synthetic false eyelashes\" ori-width=\"750\" ori-height=\"1938\" /></p>\\n<p style=\"margin: 0px; padding: 0px; color: #000000; font-family: Arial; font-size: 12px; font-style: normal; font-weight: normal;\"><img src=\"//sc02.alicdn.com/kf/HTB165ZaflmWBuNkSndVq6AsApXaU/231186930/HTB165ZaflmWBuNkSndVq6AsApXaU.jpg\" alt=\"5.jpg\" ori-width=\"750\" ori-height=\"836\" /></p>\\n<p style=\"margin: 0px; padding: 0px; color: #000000; font-family: Arial; font-size: 12px; font-style: normal; font-weight: normal;\"><img src=\"//sc02.alicdn.com/kf/HTB1Z349mUR1BeNjy0Fmq6z0wVXaA/231186930/HTB1Z349mUR1BeNjy0Fmq6z0wVXaA.jpg\" alt=\" Premium 3d fiber silk synthetic false eyelashes\" ori-width=\"750\" ori-height=\"659\" /><img src=\"//sc01.alicdn.com/kf/HTB1qwFimFGWBuNjy0Fbq6z4sXXal/231186930/HTB1qwFimFGWBuNjy0Fbq6z4sXXal.jpg\" alt=\" Premium 3d fiber silk synthetic false eyelashes\" ori-width=\"750\" ori-height=\"825\" /><img src=\"//sc01.alicdn.com/kf/HTB16L99nTJYBeNjy1zeq6yhzVXap/231186930/HTB16L99nTJYBeNjy1zeq6yhzVXap.jpg\" alt=\"8.jpg\" ori-width=\"750\" ori-height=\"723\" /><img src=\"//sc02.alicdn.com/kf/HTB1CPL_qoR1BeNjy0Fmq6z0wVXaE/231186930/HTB1CPL_qoR1BeNjy0Fmq6z0wVXaE.jpg\" alt=\"10\" ori-width=\"750\" ori-height=\"592\" /><img src=\"//sc01.alicdn.com/kf/HTB1V2WAgQ9WBuNjSspeq6yz5VXan/231186930/HTB1V2WAgQ9WBuNjSspeq6yz5VXan.jpg\" alt=\"Premium 3d fiber silk synthetic false eyelashes\" ori-width=\"750\" ori-height=\"608\" /><img src=\"//sc01.alicdn.com/kf/HTB1pQuOgQyWBuNjy0Fpq6yssXXag/231186930/HTB1pQuOgQyWBuNjy0Fpq6yssXXag.jpg\" alt=\"Premium 3d fiber silk synthetic false eyelashes\" ori-width=\"750\" ori-height=\"503\" /><img src=\"//sc01.alicdn.com/kf/HTB1of4ppk9WBuNjSspeq6yz5VXan/231186930/HTB1of4ppk9WBuNjSspeq6yz5VXan.jpg\" alt=\"14.jpg\" ori-width=\"750\" ori-height=\"424\" /></p>'}, 'pictures': ['E:\\\\glitter\\\\eyelashes\\\\3D Silk Eyelashes\\\\22A-3D化纤 - serie\\\\22A04_3DY04_0_1.jpg', 'E:\\\\glitter\\\\eyelashes\\\\3D Silk Eyelashes\\\\22A-3D化纤 - serie\\\\22A05_3DY05_0_1.jpg', 'E:\\\\glitter\\\\eyelashes\\\\3D Silk Eyelashes\\\\22A-3D化纤 - serie\\\\22A06_3DY06_0_1.jpg', 'E:\\\\glitter\\\\eyelashes\\\\3D Silk Eyelashes\\\\22A-3D化纤 - serie\\\\22A07_3DY07_0_1.jpg', 'E:\\\\glitter\\\\eyelashes\\\\3D Silk Eyelashes\\\\22A-3D化纤 - serie\\\\22A08_3DY08_0_1.jpg', 'E:\\\\glitter\\\\eyelashes\\\\3D Silk Eyelashes\\\\22A-3D化纤 - serie\\\\22A09_3DY09_0_1.jpg'], 'template_pictures': ['E:\\\\glitter\\\\eyelashes\\\\3D Silk Eyelashes\\\\22A-3D化纤 - serie\\\\22A04_3DY04_0_3.jpg', 'E:\\\\glitter\\\\eyelashes\\\\3D Silk Eyelashes\\\\22A-3D化纤 - serie\\\\22A04_3DY04_0_5.jpg', 'E:\\\\glitter\\\\eyelashes\\\\3D Silk Eyelashes\\\\22A-3D化纤 - serie\\\\22A04_3DY04_1_2.jpg']}\n",
      "6 6\n"
     ]
    },
    {
     "ename": "NameError",
     "evalue": "name 'ali_id' is not defined",
     "output_type": "error",
     "traceback": [
      "\u001b[1;31m---------------------------------------------------------------------------\u001b[0m",
      "\u001b[1;31mNameError\u001b[0m                                 Traceback (most recent call last)",
      "\u001b[1;32m<ipython-input-61-7ee269c49c18>\u001b[0m in \u001b[0;36m<module>\u001b[1;34m()\u001b[0m\n\u001b[0;32m    204\u001b[0m \u001b[1;31m#     socketio.emit('post_similar_product_status', msg, namespace=namespace, room=room)\u001b[0m\u001b[1;33m\u001b[0m\u001b[1;33m\u001b[0m\u001b[0m\n\u001b[0;32m    205\u001b[0m     \u001b[1;32mraise\u001b[0m \u001b[0mNoSuchElementException\u001b[0m\u001b[1;33m\u001b[0m\u001b[0m\n\u001b[1;32m--> 206\u001b[1;33m \u001b[0mprint\u001b[0m\u001b[1;33m(\u001b[0m\u001b[0mali_id\u001b[0m\u001b[1;33m)\u001b[0m\u001b[1;33m\u001b[0m\u001b[0m\n\u001b[0m",
      "\u001b[1;31mNameError\u001b[0m: name 'ali_id' is not defined"
     ]
    }
   ],
   "source": [
    "js_templ = \"document.querySelector('{selector}').value = '{value}';\"\n",
    "attrs = product['attributes']\n",
    "\n",
    "try:\n",
    "#     msg = '打开 发布相似产品 网址: ' + cls.api_post_similar_product + similar_ali_pid\n",
    "#     socketio.emit('post_similar_product_status', msg, namespace=namespace, room=room)\n",
    "\n",
    "    browser.get(api + similar_ali_pid)\n",
    "\n",
    "    css_selector = 'header div[data-role=\"user\"] div[data-role=\"wel\"] a span'\n",
    "#     if len(browser.find_elements_by_css_selector(css_selector)) == 0:\n",
    "#         msg = '请先登录 阿里巴巴 国际站'\n",
    "#         socketio.emit('post_similar_product_status', msg, namespace=namespace, room=room)\n",
    "#         return\n",
    "\n",
    "    WebDriverWait(browser, 15).until(EC.visibility_of_element_located((By.CSS_SELECTOR, '#editor-container')))\n",
    "    time.sleep(2)\n",
    "#     msg = '修改标题和关键字 ... ...'\n",
    "#     socketio.emit('post_similar_product_status', msg, namespace=namespace, room=room)\n",
    "    # input_product_name = browser.find_element_by_css_selector('#productName')\n",
    "    # input_keyword_1 = browser.find_element_by_css_selector('#productKeyword')\n",
    "    # input_keyword_2 = browser.find_element_by_css_selector('#keywords2')\n",
    "    # input_keyword_3 = browser.find_element_by_css_selector('#keywords3')\n",
    "    # input_product_name.clear()\n",
    "    # input_keyword_1.clear()\n",
    "    # input_keyword_2.clear()\n",
    "    # input_keyword_3.clear()\n",
    "    # input_product_name.send_keys(attrs['name'])\n",
    "    # input_keyword_1.send_keys(attrs['keywords'][0])\n",
    "    # input_keyword_2.send_keys(attrs['keywords'][1])\n",
    "    # input_keyword_3.send_keys(attrs['keywords'][2])\n",
    "\n",
    "    js = js_templ.format(selector='#productName', value=html.escape(attrs['name']))\n",
    "    browser.execute_script(js)\n",
    "    js = js_templ.format(selector='#productKeyword', value=html.escape(attrs['keywords'][0]))\n",
    "    browser.execute_script(js)\n",
    "    js = js_templ.format(selector='#keywords2', value=html.escape(attrs['keywords'][1]))\n",
    "    browser.execute_script(js)\n",
    "    js = js_templ.format(selector='#keywords3', value=html.escape(attrs['keywords'][2]))\n",
    "    browser.execute_script(js)\n",
    "    \n",
    "    js = js_templ.format(selector='#productAttribute>div:first-child input[type=\"text\"]', value=attrs['type'])\n",
    "    browser.execute_script(js)\n",
    "\n",
    "    # 上传 产品 图片\n",
    "    element = browser.find_element_by_css_selector(\"#iamge-info-block .image-upload-list\")\n",
    "    ActionChains(browser).move_to_element(element).perform()\n",
    "    css_selector = '#iamge-info-block .image-upload-list-item-info'\n",
    "    has_selector = 'image-upload-list-item-done'\n",
    "    counter = 1\n",
    "    for file in product['pictures']:\n",
    "#         msg = '上传产品图片: 第 '+ str(counter) +' 张, ' + file.split('\\\\').pop()\n",
    "#         socketio.emit('post_similar_product_status', msg, namespace=namespace, room=room)\n",
    "        print(product)\n",
    "        input_file_list = browser.find_element_by_css_selector('#iamge-info-block input[type=\"file\"]')\n",
    "        input_file_list.send_keys(file)\n",
    "        WebDriverWait(browser, 15).until(element_has_css_class((By.CSS_SELECTOR, css_selector), has_selector))\n",
    "        counter += 1\n",
    "\n",
    "    # 开始 产品详情 设置\n",
    "    element = browser.find_element_by_css_selector(\"#editor-container\")\n",
    "    ActionChains(browser).move_to_element(element).perform()\n",
    "#     msg = '开始 设置 产品详情页 ... ...'\n",
    "#     socketio.emit('post_similar_product_status', msg, namespace=namespace, room=room)\n",
    "    # 点击 详情编辑器 ‘源代码’ 按钮， 清空内容，再切换回 富文本 编辑状态\n",
    "    browser.find_element_by_css_selector('#mceu_0 button').click()\n",
    "    WebDriverWait(browser, 5).until(EC.visibility_of_element_located((By.CSS_SELECTOR, '#mceu_46 textarea')))\n",
    "    browser.find_element_by_css_selector('#mceu_46 textarea').clear()\n",
    "    browser.find_element_by_css_selector('#mceu_0 button').click()\n",
    "    WebDriverWait(browser, 5).until(EC.visibility_of_element_located((By.CSS_SELECTOR, '#mceu_46 iframe')))\n",
    "    css_selector = '#react-tinymce-0-ali-foot-img'\n",
    "    WebDriverWait(browser, 15).until(element_text_equals((By.CSS_SELECTOR, css_selector), '15'))\n",
    "\n",
    "    # 点击 ‘从我的电脑选择图片’\n",
    "#     msg = '开始 上传 产品详情页 图片 ... ...'\n",
    "#     socketio.emit('post_similar_product_status', msg, namespace=namespace, room=room)\n",
    "    button_pic_upload = browser.find_element_by_css_selector('#mceu_25 button')\n",
    "    button_pic_upload.click()\n",
    "    time.sleep(0.5)\n",
    "    iframe = WebDriverWait(browser, 15).until(EC.frame_to_be_available_and_switch_to_it((By.CSS_SELECTOR, '.mce-reset iframe')))\n",
    "\n",
    "    # iframe = browser.find_element_by_css_selector('.mce-reset iframe')\n",
    "    # browser.switch_to.frame(iframe)\n",
    "\n",
    "    # 上传图片\n",
    "    css_selector = '#container .next-upload-list .next-upload-list-item'\n",
    "    has_selector = 'next-upload-list-item-done'\n",
    "    counter = 0\n",
    "    for file in product['template_pictures']:\n",
    "#         msg = '上传 产品详情页 图片: 第 '+ str(counter) +' 张, ' + file.split('\\\\').pop()\n",
    "#         socketio.emit('post_similar_product_status', msg, namespace=namespace, room=room)\n",
    "\n",
    "        WebDriverWait(browser, 15).until(EC.presence_of_element_located((By.CSS_SELECTOR, '#container input[type=\"file\"]')))\n",
    "        input_file = browser.find_element_by_css_selector('#container input[type=\"file\"]')\n",
    "        input_file.send_keys(file)\n",
    "        # WebDriverWait(browser, 15).until(element_has_css_class((By.CSS_SELECTOR, css_selector), has_selector))\n",
    "        WebDriverWait(browser, 15).until(EC.element_to_be_clickable((By.CSS_SELECTOR, '.photobank-action-bar #confirm')))\n",
    "\n",
    "        counter += 1\n",
    "\n",
    "    browser.find_element_by_css_selector('.photobank-action-bar #confirm').click()\n",
    "    browser.switch_to.default_content()\n",
    "    text = str(15 - counter)\n",
    "    css_selector = '#react-tinymce-0-ali-foot-img'\n",
    "    WebDriverWait(browser, 15).until(element_text_equals((By.CSS_SELECTOR, css_selector), text))\n",
    "\n",
    "    # 获取上传图片的 阿里站 链接\n",
    "#     msg = '获取上传图片的 阿里站链接, 并修改模板'\n",
    "#     socketio.emit('post_similar_product_status', msg, namespace=namespace, room=room)\n",
    "    btn_source = WebDriverWait(browser, 5).until(EC.element_to_be_clickable((By.CSS_SELECTOR, '#mceu_0 button')))\n",
    "    btn_source.click()\n",
    "    WebDriverWait(browser, 5).until(EC.visibility_of_element_located((By.CSS_SELECTOR, '#mceu_46 textarea')))\n",
    "    imgs_string = browser.find_element_by_css_selector('#mceu_46 textarea').get_attribute('value')\n",
    "    imgs_soup = BeautifulSoup(imgs_string, 'html.parser')\n",
    "    templ_imgs = []\n",
    "    for img in imgs_soup.find_all('img'):\n",
    "        fn = img['alt']\n",
    "        src = img['src']\n",
    "        fn = re.sub('.jpg', '', fn)\n",
    "        templ_imgs.append({'fn': fn, 'src': src})\n",
    "    # 修改 模板 内容\n",
    "    templ_soup = BeautifulSoup(product['template']['template'], 'html.parser')\n",
    "    pic_index = 0\n",
    "    for sel in product['template']['selections']:\n",
    "        if sel['type'] == 'title':\n",
    "            span = templ_soup.select(sel['selector'])\n",
    "            if len(span) == 1:\n",
    "                span[0].string = attrs['name']\n",
    "            else:\n",
    "                msg = '再template中没有找到CSS选择器 '+sel['selector']+ ' 所对应的元素'\n",
    "                raise NoSuchElementException(msg)\n",
    "        elif sel['type'] == 'tag_img':\n",
    "            img = templ_soup.select(sel['selector'])\n",
    "            if len(img) == 1:\n",
    "                img[0]['alt'] = attrs['name']\n",
    "                img[0]['src'] = templ_imgs[pic_index]['src']\n",
    "                pic_index += 1\n",
    "            else:\n",
    "                msg = '再template中没有找到CSS选择器 '+sel['selector']+ ' 所对应的元素'\n",
    "                raise NoSuchElementException(msg)\n",
    "    html_string = str(templ_soup)\n",
    "\n",
    "    # 修改后的模板输入 textarea\n",
    "#     msg = '修改后的模板输入, 注入到详情页中'\n",
    "#     socketio.emit('post_similar_product_status', msg, namespace=namespace, room=room)\n",
    "    # browser.find_element_by_css_selector('#mceu_46 textarea').clear()\n",
    "    # browser.find_element_by_css_selector('#mceu_46 textarea').send_keys(html_string)\n",
    "    js = js_templ.format(selector='#mceu_46 textarea', value=re.sub('\\n', '\\\\\\\\n', html_string))\n",
    "    browser.execute_script(js)\n",
    "    browser.find_element_by_css_selector('#mceu_0 button').click()\n",
    "    WebDriverWait(browser, 5).until(EC.visibility_of_element_located((By.CSS_SELECTOR, '#mceu_46 iframe')))\n",
    "\n",
    "    btn_free_sample = browser.find_element_by_css_selector('#rbtnFreeSample')\n",
    "    ActionChains(browser).move_to_element(btn_free_sample).perform()\n",
    "    btn_free_sample.click()\n",
    "    \n",
    "    quantity = 6\n",
    "    css_selector = \"#iamge-info-block li.image-upload-list-item .action-wrapper\"\n",
    "    WebDriverWait(browser, 15).until(element_quantity_equals((By.CSS_SELECTOR, css_selector), quantity))\n",
    "\n",
    "    css_selector = \"#iamge-info-block li.image-upload-list-item .action-wrapper a\"\n",
    "\n",
    "    while True:\n",
    "        elements = browser.find_elements_by_css_selector(css_selector)\n",
    "        found = False\n",
    "        try:\n",
    "            for element in elements:\n",
    "                if element.text == '添加守护':\n",
    "                    found = True\n",
    "                    element.click()\n",
    "                    break\n",
    "        except StaleElementReferenceException:\n",
    "            time.sleep(0.5)\n",
    "            continue\n",
    "        if not found:\n",
    "            break\n",
    "    \n",
    "    btn_submit_next = browser.find_element_by_css_selector('button#submitFormNext')\n",
    "    ActionChains(browser).move_to_element(btn_submit_next).perform()\n",
    "#     btn_submit_next.click()\n",
    "    \n",
    "    \n",
    "    \n",
    "    \n",
    "    # 提交表格\n",
    "#     msg = '提交产品'\n",
    "#     socketio.emit('post_similar_product_status', msg, namespace=namespace, room=room)\n",
    "\n",
    "#     msg = '成功发布, ' + product['pid']\n",
    "#     socketio.emit('post_similar_product_status', msg, namespace=namespace, room=room)\n",
    "\n",
    "    # result = {'pid':product['pid'], 'category': product['category'], 'file_path':product['file_path'], 'title': attrs['name'], 'keywords': attrs['keywords']}\n",
    "    # socketio.emit('post_similar_product_result', result, namespace=namespace, room=room)\n",
    "#     return result\n",
    "\n",
    "except TimeoutException:\n",
    "#     msg = '错误：' + str(TimeoutException)\n",
    "#     socketio.emit('post_similar_product_status', msg, namespace=namespace, room=room)\n",
    "    raise TimeoutException\n",
    "except NoSuchElementException:\n",
    "#     msg = '错误：' + str(NoSuchElementException)\n",
    "#     socketio.emit('post_similar_product_status', msg, namespace=namespace, room=room)\n",
    "    raise NoSuchElementException\n",
    "print(ali_id)"
   ]
  },
  {
   "cell_type": "code",
   "execution_count": 28,
   "metadata": {},
   "outputs": [],
   "source": [
    "class element_has_css_class(object):\n",
    "    def __init__(self, locator, css_class):\n",
    "        self.locator = locator\n",
    "        self.css_class = css_class\n",
    "\n",
    "    def __call__(self, driver):\n",
    "        try:\n",
    "            not_found = True\n",
    "            elements = driver.find_elements(*self.locator)   # Finding the referenced element\n",
    "            for element in elements:\n",
    "                if self.css_class in element.get_attribute(\"class\"):\n",
    "                    continue\n",
    "                else:\n",
    "                    not_found = False\n",
    "                    break\n",
    "        except StaleElementReferenceException as e:\n",
    "            not_found = True\n",
    "        finally:\n",
    "            return not_found\n",
    "\n",
    "class element_text_equals(object):\n",
    "    def __init__(self, locator, text):\n",
    "        self.locator = locator\n",
    "        self.text = text\n",
    "        \n",
    "    def __call__(self, driver):\n",
    "        element = driver.find_element(*self.locator)   # Finding the referenced element\n",
    "        if self.text ==  element.text:\n",
    "            return True\n",
    "        else:\n",
    "            return False\n",
    "\n",
    "class element_quantity_equals(object):\n",
    "    def __init__(self, locator, quantity):\n",
    "        self.locator = locator\n",
    "        self.quantity = quantity\n",
    "        \n",
    "    def __call__(self, driver):\n",
    "        elements = driver.find_elements(*self.locator)   # Finding the referenced element\n",
    "        print(len(elements), self.quantity)\n",
    "        if len(elements) == self.quantity:\n",
    "            return elements\n",
    "        else:\n",
    "            return False"
   ]
  },
  {
   "cell_type": "code",
   "execution_count": 14,
   "metadata": {},
   "outputs": [],
   "source": []
  },
  {
   "cell_type": "code",
   "execution_count": 70,
   "metadata": {},
   "outputs": [],
   "source": []
  },
  {
   "cell_type": "code",
   "execution_count": 76,
   "metadata": {},
   "outputs": [],
   "source": [
    "# btn_submit.click()\n",
    "btn_pm = WebDriverWait(browser, 15).until(EC.visibility_of_element_located((By.CSS_SELECTOR, '#postStepThree a.ui-button')))\n",
    "btn_pm.click()\n",
    "\n",
    "# find ali_id\n",
    "url = 'https://hz-productposting.alibaba.com/product/products_manage.htm?#/product/approvalPending'\n",
    "browser.get(url)\n",
    "css_selector = '#ballon-container .next-table-body tr.first td.last a'\n",
    "tr_first_a = WebDriverWait(browser, 15).until(EC.visibility_of_element_located((By.CSS_SELECTOR, css_selector)))\n",
    "href = tr_first_a.get_attribute('href')\n",
    "ali_id = re.sub('.*id=', '', href)"
   ]
  },
  {
   "cell_type": "code",
   "execution_count": null,
   "metadata": {},
   "outputs": [],
   "source": []
  },
  {
   "cell_type": "code",
   "execution_count": 73,
   "metadata": {},
   "outputs": [],
   "source": [
    "css_selector = '#ballon-container div[role=\"tab\"]:first-child'"
   ]
  },
  {
   "cell_type": "code",
   "execution_count": 74,
   "metadata": {},
   "outputs": [
    {
     "data": {
      "text/plain": [
       "[]"
      ]
     },
     "execution_count": 74,
     "metadata": {},
     "output_type": "execute_result"
    }
   ],
   "source": [
    "browser.find_elements_by_css_selector(css_selector)"
   ]
  },
  {
   "cell_type": "code",
   "execution_count": 143,
   "metadata": {},
   "outputs": [
    {
     "data": {
      "text/plain": [
       "True"
      ]
     },
     "execution_count": 143,
     "metadata": {},
     "output_type": "execute_result"
    }
   ],
   "source": [
    "\n"
   ]
  },
  {
   "cell_type": "code",
   "execution_count": null,
   "metadata": {},
   "outputs": [],
   "source": []
  },
  {
   "cell_type": "code",
   "execution_count": 24,
   "metadata": {},
   "outputs": [
    {
     "data": {
      "text/plain": [
       "[<selenium.webdriver.remote.webelement.WebElement (session=\"aa5cb316491d9358acf818c0436152f2\", element=\"0.6442309337640777-234\")>,\n",
       " <selenium.webdriver.remote.webelement.WebElement (session=\"aa5cb316491d9358acf818c0436152f2\", element=\"0.6442309337640777-235\")>,\n",
       " <selenium.webdriver.remote.webelement.WebElement (session=\"aa5cb316491d9358acf818c0436152f2\", element=\"0.6442309337640777-236\")>,\n",
       " <selenium.webdriver.remote.webelement.WebElement (session=\"aa5cb316491d9358acf818c0436152f2\", element=\"0.6442309337640777-237\")>,\n",
       " <selenium.webdriver.remote.webelement.WebElement (session=\"aa5cb316491d9358acf818c0436152f2\", element=\"0.6442309337640777-238\")>,\n",
       " <selenium.webdriver.remote.webelement.WebElement (session=\"aa5cb316491d9358acf818c0436152f2\", element=\"0.6442309337640777-239\")>,\n",
       " <selenium.webdriver.remote.webelement.WebElement (session=\"aa5cb316491d9358acf818c0436152f2\", element=\"0.6442309337640777-240\")>,\n",
       " <selenium.webdriver.remote.webelement.WebElement (session=\"aa5cb316491d9358acf818c0436152f2\", element=\"0.6442309337640777-241\")>,\n",
       " <selenium.webdriver.remote.webelement.WebElement (session=\"aa5cb316491d9358acf818c0436152f2\", element=\"0.6442309337640777-242\")>,\n",
       " <selenium.webdriver.remote.webelement.WebElement (session=\"aa5cb316491d9358acf818c0436152f2\", element=\"0.6442309337640777-243\")>,\n",
       " <selenium.webdriver.remote.webelement.WebElement (session=\"aa5cb316491d9358acf818c0436152f2\", element=\"0.6442309337640777-244\")>]"
      ]
     },
     "execution_count": 24,
     "metadata": {},
     "output_type": "execute_result"
    }
   ],
   "source": [
    "css_selector = \"#iamge-info-block li.image-upload-list-item .action-wrapper a\"\n",
    "browser.find_elements_by_css_selector(css_selector)"
   ]
  },
  {
   "cell_type": "code",
   "execution_count": 53,
   "metadata": {},
   "outputs": [
    {
     "name": "stdout",
     "output_type": "stream",
     "text": [
      "6 6\n"
     ]
    }
   ],
   "source": [
    "quantity = 6\n",
    "css_selector = \"#iamge-info-block li.image-upload-list-item .action-wrapper\"\n",
    "WebDriverWait(browser, 15).until(element_quantity_equals((By.CSS_SELECTOR, css_selector), quantity))\n",
    "\n",
    "css_selector = \"#iamge-info-block li.image-upload-list-item .action-wrapper a\"\n",
    "\n",
    "while True:\n",
    "    elements = browser.find_elements_by_css_selector(css_selector)\n",
    "    found = False\n",
    "    try:\n",
    "        for element in elements:\n",
    "            if element.text == '添加守护':\n",
    "                found = True\n",
    "                element.click()\n",
    "                break\n",
    "    except StaleElementReferenceException:\n",
    "        time.sleep(0.5)\n",
    "        continue\n",
    "    if not found:\n",
    "        break"
   ]
  },
  {
   "cell_type": "code",
   "execution_count": 43,
   "metadata": {},
   "outputs": [],
   "source": [
    "elements = browser.find_elements_by_css_selector(css_selector)"
   ]
  },
  {
   "cell_type": "code",
   "execution_count": 44,
   "metadata": {},
   "outputs": [
    {
     "data": {
      "text/plain": [
       "9"
      ]
     },
     "execution_count": 44,
     "metadata": {},
     "output_type": "execute_result"
    }
   ],
   "source": [
    "len(elements)\n"
   ]
  },
  {
   "cell_type": "code",
   "execution_count": null,
   "metadata": {},
   "outputs": [],
   "source": []
  },
  {
   "cell_type": "code",
   "execution_count": null,
   "metadata": {},
   "outputs": [],
   "source": []
  },
  {
   "cell_type": "code",
   "execution_count": null,
   "metadata": {},
   "outputs": [],
   "source": []
  },
  {
   "cell_type": "code",
   "execution_count": null,
   "metadata": {},
   "outputs": [],
   "source": []
  },
  {
   "cell_type": "code",
   "execution_count": 38,
   "metadata": {},
   "outputs": [],
   "source": [
    "text = '3D magnetic eyelash/Reusable False magnet eyelash/Magnet Eye Natural Lashes Extension'\n",
    "js = js_templ.format(selector='#productAttribute>div:first-child input[type=\"text\"]'', value=text)\n",
    "browser.execute_script(js)"
   ]
  },
  {
   "cell_type": "code",
   "execution_count": 57,
   "metadata": {},
   "outputs": [],
   "source": [
    "\n",
    "css_selector = 'header div[data-role=\"user\"] div[data-role=\"wel\"] a span'\n",
    "if len(browser.find_elements_by_css_selector(css_selector)) == 0:\n",
    "    msg = '请先登录 阿里巴巴 国际站'\n",
    "    socketio.emit('post_similar_product_status', msg, namespace=namespace, room=room)"
   ]
  },
  {
   "cell_type": "code",
   "execution_count": 3,
   "metadata": {},
   "outputs": [],
   "source": [
    "import re"
   ]
  },
  {
   "cell_type": "code",
   "execution_count": 10,
   "metadata": {},
   "outputs": [],
   "source": [
    "text = '<a href=\"https://www.alibaba.com/showroom/prime-silk-lash-eyelash-extensions.html\">Prime Silk Lash Eyelash Extensions</a>'\n",
    "text = 'Prime Silk Lash Eyelash Extensions'\n",
    "text = text.strip()\n",
    "m = re.search('<a [^>]*>(.*)</a>', text)\n",
    "if m:\n",
    "    print(m.group(1))"
   ]
  },
  {
   "cell_type": "code",
   "execution_count": null,
   "metadata": {},
   "outputs": [],
   "source": []
  },
  {
   "cell_type": "code",
   "execution_count": null,
   "metadata": {},
   "outputs": [],
   "source": []
  },
  {
   "cell_type": "code",
   "execution_count": 33,
   "metadata": {},
   "outputs": [],
   "source": []
  },
  {
   "cell_type": "code",
   "execution_count": 46,
   "metadata": {},
   "outputs": [],
   "source": [
    "# browser.refresh()\n",
    "browser.quit()"
   ]
  },
  {
   "cell_type": "code",
   "execution_count": 12,
   "metadata": {},
   "outputs": [],
   "source": [
    "browser.switch_to.default_content()"
   ]
  },
  {
   "cell_type": "code",
   "execution_count": 150,
   "metadata": {},
   "outputs": [],
   "source": [
    "diff = 7263"
   ]
  },
  {
   "cell_type": "code",
   "execution_count": 155,
   "metadata": {},
   "outputs": [
    {
     "data": {
      "text/plain": [
       "1"
      ]
     },
     "execution_count": 155,
     "metadata": {},
     "output_type": "execute_result"
    }
   ],
   "source": [
    "(diff%3600)//60"
   ]
  },
  {
   "cell_type": "code",
   "execution_count": 47,
   "metadata": {},
   "outputs": [],
   "source": []
  },
  {
   "cell_type": "code",
   "execution_count": 48,
   "metadata": {},
   "outputs": [],
   "source": []
  },
  {
   "cell_type": "code",
   "execution_count": null,
   "metadata": {},
   "outputs": [],
   "source": []
  },
  {
   "cell_type": "code",
   "execution_count": null,
   "metadata": {},
   "outputs": [],
   "source": []
  },
  {
   "cell_type": "code",
   "execution_count": 61,
   "metadata": {},
   "outputs": [],
   "source": []
  },
  {
   "cell_type": "code",
   "execution_count": 67,
   "metadata": {},
   "outputs": [],
   "source": []
  },
  {
   "cell_type": "code",
   "execution_count": null,
   "metadata": {},
   "outputs": [],
   "source": []
  },
  {
   "cell_type": "code",
   "execution_count": null,
   "metadata": {},
   "outputs": [],
   "source": []
  }
 ],
 "metadata": {
  "kernelspec": {
   "display_name": "Python 3",
   "language": "python",
   "name": "python3"
  },
  "language_info": {
   "codemirror_mode": {
    "name": "ipython",
    "version": 3
   },
   "file_extension": ".py",
   "mimetype": "text/x-python",
   "name": "python",
   "nbconvert_exporter": "python",
   "pygments_lexer": "ipython3",
   "version": "3.6.5"
  }
 },
 "nbformat": 4,
 "nbformat_minor": 2
}
