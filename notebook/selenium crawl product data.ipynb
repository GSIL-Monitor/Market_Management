{
 "cells": [
  {
   "cell_type": "code",
   "execution_count": 1,
   "metadata": {},
   "outputs": [],
   "source": [
    "from selenium import webdriver\n",
    "from selenium.webdriver.chrome.options import Options\n",
    "from selenium.webdriver.common.by import By\n",
    "from selenium.webdriver.support.ui import WebDriverWait\n",
    "from selenium.webdriver.support import expected_conditions as EC\n",
    "from selenium.common.exceptions import WebDriverException\n",
    "from selenium.common.exceptions import NoSuchElementException\n",
    "from selenium.common.exceptions import TimeoutException\n",
    "\n",
    "from selenium.webdriver.support.select import Select\n",
    "import time\n",
    "import re\n",
    "\n",
    "user = 'eyelash@glittergroupcn.com'\n",
    "pwd = 'Wangzhen68970747'\n",
    "\n",
    "chrome_options_headless = webdriver.ChromeOptions()\n",
    "# chrome_options_headless.add_argument('--headless')\n",
    "chrome_options_headless.add_argument('--disable-gpu')\n",
    "chrome_options_headless.add_argument('--disable-extensions')\n",
    "chrome_options_headless.add_argument('--disable-logging')\n",
    "chrome_options_headless.add_argument('--ignore-certificate-errors')"
   ]
  },
  {
   "cell_type": "code",
   "execution_count": 3,
   "metadata": {},
   "outputs": [],
   "source": [
    "browser = webdriver.Chrome(chrome_options=chrome_options_headless)\n",
    "url = 'https://i.alibaba.com'\n",
    "browser.get(url)\n",
    "\n",
    "try:\n",
    "    WebDriverWait(browser, 15).until(EC.presence_of_element_located((By.CSS_SELECTOR, \"#alibaba-login-iframe iframe\")))\n",
    "\n",
    "    windows = browser.window_handles\n",
    "    win = browser.current_window_handle\n",
    "    for window in windows:\n",
    "        if window != win:\n",
    "            browser.switch_to.window(window)\n",
    "            browser.close()\n",
    "    browser.switch_to.window(win)\n",
    "\n",
    "    iframe = browser.find_element_by_css_selector('#alibaba-login-iframe iframe')\n",
    "    browser.switch_to.frame(iframe)\n",
    "\n",
    "    input_login = browser.find_element_by_css_selector('input#fm-login-id')\n",
    "    input_pwd = browser.find_element_by_css_selector('input#fm-login-password')\n",
    "    input_submit = browser.find_element_by_css_selector('input#fm-login-submit')\n",
    "    input_login.send_keys(user)\n",
    "    input_pwd.send_keys(pwd)\n",
    "    input_submit.click()\n",
    "\n",
    "    WebDriverWait(browser, 15).until(EC.presence_of_element_located((By.CSS_SELECTOR, 'header div[data-role=\"user\"]')))\n",
    "    if len(browser.find_elements_by_css_selector('header div[data-role=\"user\"]')):\n",
    "        span = browser.find_element_by_css_selector('header div[data-role=\"user\"] div[data-role=\"wel\"] a span')\n",
    "        user_name = span.get_attribute('innerHTML')\n",
    "except TimeoutException:\n",
    "    pass\n",
    "# browser.get(url_1)"
   ]
  },
  {
   "cell_type": "code",
   "execution_count": 9,
   "metadata": {},
   "outputs": [],
   "source": [
    "browser.quit()"
   ]
  },
  {
   "cell_type": "code",
   "execution_count": 23,
   "metadata": {},
   "outputs": [],
   "source": [
    "ali_id = '60753515570'\n",
    "pid = '13A03'\n",
    "path='E:\\\\Temp\\假睫毛\\\\3D Mink Eyelashes'\n",
    "isSeried = True\n",
    "serie='13A-3D貂毛 - series'\n",
    "\n",
    "attrs = {'alibaba_id': ali_id}\n",
    "settings = {}"
   ]
  },
  {
   "cell_type": "code",
   "execution_count": 11,
   "metadata": {},
   "outputs": [],
   "source": [
    "api = 'https://hz-productposting.alibaba.com/product/editing.htm?id='"
   ]
  },
  {
   "cell_type": "code",
   "execution_count": 16,
   "metadata": {},
   "outputs": [
    {
     "name": "stdout",
     "output_type": "stream",
     "text": [
      "------------------\n"
     ]
    }
   ],
   "source": [
    "try:\n",
    "    browser.get(api+ali_id)\n",
    "    WebDriverWait(browser, 30).until(EC.visibility_of_element_located((By.CSS_SELECTOR, '#editor-container')))\n",
    "    \n",
    "    attrs['alibaba_category'] = browser.find_element_by_css_selector('span#cate-path-text-copy').text.strip()\n",
    "    attrs['name'] = browser.find_element_by_css_selector('input#productName').get_attribute('value').strip()\n",
    "    keywords = []\n",
    "    keyword = browser.find_element_by_css_selector('input#productKeyword').get_attribute('value').strip()\n",
    "    keywords.append(keyword)\n",
    "    keyword = browser.find_element_by_css_selector('input#keywords2').get_attribute('value').strip()\n",
    "    keywords.append(keyword)\n",
    "    keyword = browser.find_element_by_css_selector('input#keywords3').get_attribute('value').strip()\n",
    "    keywords.append(keyword)\n",
    "    attrs['keywords'] = keywords\n",
    "    attrs['type'] = browser.find_element_by_css_selector('#productAttribute>div:first-child>div>input').get_attribute('value').strip()\n",
    "    attrs['brand'] = browser.find_element_by_css_selector('#productAttribute>div:nth-child(2)>div>input').get_attribute('value').strip()\n",
    "    \n",
    "    origin = []\n",
    "    select = Select(browser.find_elements_by_css_selector('#productAttribute>div:nth-child(3) select')[0])\n",
    "    origin.append(select.first_selected_option.text)\n",
    "    \n",
    "    select = Select(browser.find_elements_by_css_selector('#productAttribute>div:nth-child(3) select')[1])\n",
    "    origin.append(select.first_selected_option.text)\n",
    "    attrs['origin'] = origin\n",
    "    \n",
    "    select = Select(browser.find_elements_by_css_selector('#productAttribute>div:nth-child(4) select')[0])\n",
    "    attrs['material'] = select.first_selected_option.text\n",
    "    \n",
    "    select = Select(browser.find_elements_by_css_selector('#productAttribute>div:nth-child(5) select')[0])\n",
    "    attrs['production_method'] = select.first_selected_option.text\n",
    "    \n",
    "    custom_attributes = {}\n",
    "    trs = browser.find_elements_by_css_selector('#attr table tr')\n",
    "    trs.pop(0)\n",
    "    for tr in trs:\n",
    "        key = tr.find_elements_by_css_selector('input')[0].get_attribute('value').strip()\n",
    "        value = tr.find_elements_by_css_selector('input')[1].get_attribute('value').strip()\n",
    "        custom_attributes[key] = value\n",
    "    attrs['custom_attributes'] = custom_attributes\n",
    "    \n",
    "    browser.find_element_by_css_selector('#mceu_0 button').click()\n",
    "    WebDriverWait(browser, 5).until(EC.visibility_of_element_located((By.CSS_SELECTOR, '#mceu_46 textarea')))\n",
    "    time.sleep(1)\n",
    "    settings['template'] = browser.find_element_by_css_selector('#mceu_46 textarea').get_attribute('value').strip()\n",
    "    browser.find_element_by_css_selector('#mceu_0 button').click()\n",
    "    WebDriverWait(browser, 5).until(EC.visibility_of_element_located((By.CSS_SELECTOR, '#mceu_46 iframe')))\n",
    "    time.sleep(1)\n",
    "    \n",
    "    css_selector = '#tradInfoblock>div:nth-child(3) .price-scroll-selector input[value=\"uniform\"]'\n",
    "    element = browser.find_element_by_css_selector(css_selector)\n",
    "    attrs['isTieredPricing'] = element.is_selected()\n",
    "    if(attrs['isTieredPricing']):\n",
    "        attrs['sales_unit'] = browser.find_element_by_css_selector('#tradeInfoQuantityUnit').text.strip()\n",
    "        attrs['currency'] = 'USD'\n",
    "        tieredPricing = []\n",
    "        trs = browser.find_elements_by_css_selector('#priceSetter .next-table-body tbody tr')\n",
    "        for tr in trs:\n",
    "            volume = tr.find_elements_by_css_selector('input')[0].get_attribute('value').strip()\n",
    "            price = tr.find_elements_by_css_selector('input')[1].get_attribute('value').strip()\n",
    "            tieredPricing.append([volume, price])\n",
    "        attrs['tieredPricing'] = tieredPricing\n",
    "    else:\n",
    "        attrs['currency'] = browser.find_element_by_css_selector('#moneyTypeSelect span').text.strip()\n",
    "        price_range = []\n",
    "        price_range.append(browser.find_element_by_css_selector('#priceRangeMin').get_attribute('value').strip())\n",
    "        price_range.append(browser.find_element_by_css_selector('#priceRangeMax').get_attribute('value').strip())\n",
    "        attrs['price_range'] = price_range\n",
    "        attrs['sales_unit'] = browser.find_element_by_css_selector('#priceUnitSelect span').text.strip()\n",
    "        attrs['MOQ'] = browser.find_element_by_css_selector('#minOrderQuantity').get_attribute('value').strip()\n",
    "        attrs['additional_trading_infomation'] = browser.find_element_by_css_selector('#minOrderOther').get_attribute('value').strip()\n",
    "    payment_methods = {}\n",
    "    checkboxes = browser.find_elements_by_css_selector('.trade-info-payment-group input[type=\"checkbox\"]')\n",
    "    for cb in checkboxes:\n",
    "        value = cb.get_attribute('value')\n",
    "        checked = cb.is_selected()\n",
    "        if(value=='Others'):\n",
    "            continue\n",
    "        payment_methods[value] = checked\n",
    "    attrs['payment_methods'] = payment_methods\n",
    "    if browser.find_element_by_css_selector('#paymentMethodOther').is_selected():\n",
    "        attrs['other_payment_method'] = browser.find_element_by_css_selector('#paymentMethodOtherDesc').get_attribute('value')\n",
    "        \n",
    "    attrs['delivery_time'] = browser.find_element_by_css_selector('#consignmentTerm').get_attribute('value')\n",
    "    attrs['port'] = browser.find_element_by_css_selector('#port').get_attribute('value')\n",
    "    supply_ability = []\n",
    "    supply_ability.append(browser.find_element_by_css_selector('#supplyQuantity').get_attribute('value'))\n",
    "    select = Select(browser.find_element_by_css_selector('#supplyUnit'))\n",
    "    supply_ability.append(select.first_selected_option.text)\n",
    "    select = Select(browser.find_element_by_css_selector('#supplyPeriod'))\n",
    "    supply_ability.append(select.first_selected_option.text)\n",
    "    attrs['supply_ability'] = supply_ability\n",
    "    attrs['additional_delivery_information'] = browser.find_element_by_css_selector('#supplyOther').get_attribute('value')\n",
    "    attrs['packaging'] = browser.find_element_by_css_selector('#packagingDesc').get_attribute('value')\n",
    "    \n",
    "except TimeoutException:\n",
    "    attrs = None\n",
    "    settings = None\n",
    "except NoSuchElementException:\n",
    "    attrs = None\n",
    "    settings = None\n",
    "\n",
    "if( not attrs or not settings):\n",
    "    # errors:\n",
    "else:"
   ]
  },
  {
   "cell_type": "code",
   "execution_count": 155,
   "metadata": {},
   "outputs": [
    {
     "data": {
      "text/plain": [
       "{'L/C': True,\n",
       " 'D/A': False,\n",
       " 'D/P': False,\n",
       " 'T/T': True,\n",
       " 'Western Union': True,\n",
       " 'MoneyGram': False}"
      ]
     },
     "execution_count": 155,
     "metadata": {},
     "output_type": "execute_result"
    }
   ],
   "source": []
  },
  {
   "cell_type": "code",
   "execution_count": 136,
   "metadata": {},
   "outputs": [
    {
     "data": {
      "text/plain": [
       "'Pair/Pairs'"
      ]
     },
     "execution_count": 136,
     "metadata": {},
     "output_type": "execute_result"
    }
   ],
   "source": [
    "packagingDesc"
   ]
  },
  {
   "cell_type": "code",
   "execution_count": 167,
   "metadata": {},
   "outputs": [
    {
     "data": {
      "text/plain": [
       "''"
      ]
     },
     "execution_count": 167,
     "metadata": {},
     "output_type": "execute_result"
    }
   ],
   "source": [
    "browser.find_element_by_css_selector('#supplyOther').get_attribute('value')"
   ]
  },
  {
   "cell_type": "code",
   "execution_count": 166,
   "metadata": {},
   "outputs": [
    {
     "data": {
      "text/plain": [
       "'Month'"
      ]
     },
     "execution_count": 166,
     "metadata": {},
     "output_type": "execute_result"
    }
   ],
   "source": [
    "select = Select(browser.find_element_by_css_selector('#supplyPeriod'))\n",
    "select.first_selected_option.text"
   ]
  },
  {
   "cell_type": "code",
   "execution_count": 117,
   "metadata": {},
   "outputs": [
    {
     "name": "stdout",
     "output_type": "stream",
     "text": [
      "++++++++++++++++++\n"
     ]
    }
   ],
   "source": [
    "\n",
    "print('++++++++++++++++++')"
   ]
  },
  {
   "cell_type": "code",
   "execution_count": 116,
   "metadata": {},
   "outputs": [
    {
     "data": {
      "text/plain": [
       "[<selenium.webdriver.remote.webelement.WebElement (session=\"2c52ff7728332ee2985eefdd937319e5\", element=\"0.005622564638980032-353\")>,\n",
       " <selenium.webdriver.remote.webelement.WebElement (session=\"2c52ff7728332ee2985eefdd937319e5\", element=\"0.005622564638980032-349\")>,\n",
       " <selenium.webdriver.remote.webelement.WebElement (session=\"2c52ff7728332ee2985eefdd937319e5\", element=\"0.005622564638980032-350\")>,\n",
       " <selenium.webdriver.remote.webelement.WebElement (session=\"2c52ff7728332ee2985eefdd937319e5\", element=\"0.005622564638980032-354\")>,\n",
       " <selenium.webdriver.remote.webelement.WebElement (session=\"2c52ff7728332ee2985eefdd937319e5\", element=\"0.005622564638980032-355\")>,\n",
       " <selenium.webdriver.remote.webelement.WebElement (session=\"2c52ff7728332ee2985eefdd937319e5\", element=\"0.005622564638980032-356\")>,\n",
       " <selenium.webdriver.remote.webelement.WebElement (session=\"2c52ff7728332ee2985eefdd937319e5\", element=\"0.005622564638980032-357\")>]"
      ]
     },
     "execution_count": 116,
     "metadata": {},
     "output_type": "execute_result"
    }
   ],
   "source": [
    "browser.find_elements_by_css_selector('textarea')"
   ]
  },
  {
   "cell_type": "code",
   "execution_count": 28,
   "metadata": {},
   "outputs": [],
   "source": [
    "mceu_46"
   ]
  },
  {
   "cell_type": "code",
   "execution_count": null,
   "metadata": {},
   "outputs": [],
   "source": []
  },
  {
   "cell_type": "code",
   "execution_count": 113,
   "metadata": {},
   "outputs": [],
   "source": [
    "import time\n",
    "from selenium.webdriver.support.select import Select"
   ]
  },
  {
   "cell_type": "code",
   "execution_count": 96,
   "metadata": {},
   "outputs": [],
   "source": [
    "browser.switch_to.default_content()"
   ]
  },
  {
   "cell_type": "code",
   "execution_count": 168,
   "metadata": {},
   "outputs": [
    {
     "ename": "AttributeError",
     "evalue": "'NoneType' object has no attribute 'split'",
     "output_type": "error",
     "traceback": [
      "\u001b[1;31m---------------------------------------------------------------------------\u001b[0m",
      "\u001b[1;31mAttributeError\u001b[0m                            Traceback (most recent call last)",
      "\u001b[1;32m<ipython-input-168-292636be78c6>\u001b[0m in \u001b[0;36m<module>\u001b[1;34m()\u001b[0m\n\u001b[0;32m      1\u001b[0m \u001b[0mbds\u001b[0m \u001b[1;33m=\u001b[0m \u001b[1;32mNone\u001b[0m\u001b[1;33m\u001b[0m\u001b[0m\n\u001b[1;32m----> 2\u001b[1;33m \u001b[0mbds\u001b[0m\u001b[1;33m.\u001b[0m\u001b[0msplit\u001b[0m\u001b[1;33m(\u001b[0m\u001b[1;34m\"\"\u001b[0m\u001b[1;33m)\u001b[0m\u001b[1;33m\u001b[0m\u001b[0m\n\u001b[0m",
      "\u001b[1;31mAttributeError\u001b[0m: 'NoneType' object has no attribute 'split'"
     ]
    }
   ],
   "source": [
    "bds = None\n",
    "bds.split(\"\")"
   ]
  },
  {
   "cell_type": "code",
   "execution_count": 169,
   "metadata": {},
   "outputs": [],
   "source": [
    "browser.quit()"
   ]
  },
  {
   "cell_type": "code",
   "execution_count": null,
   "metadata": {},
   "outputs": [],
   "source": []
  }
 ],
 "metadata": {
  "kernelspec": {
   "display_name": "Python 3",
   "language": "python",
   "name": "python3"
  },
  "language_info": {
   "codemirror_mode": {
    "name": "ipython",
    "version": 3
   },
   "file_extension": ".py",
   "mimetype": "text/x-python",
   "name": "python",
   "nbconvert_exporter": "python",
   "pygments_lexer": "ipython3",
   "version": "3.6.5"
  }
 },
 "nbformat": 4,
 "nbformat_minor": 2
}
