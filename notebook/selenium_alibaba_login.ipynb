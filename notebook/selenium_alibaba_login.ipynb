{
 "cells": [
  {
   "cell_type": "code",
   "execution_count": 1,
   "metadata": {},
   "outputs": [],
   "source": [
    "from selenium import webdriver\n",
    "from selenium.webdriver.chrome.options import Options\n",
    "from selenium.webdriver.common.by import By\n",
    "from selenium.webdriver.support.ui import WebDriverWait\n",
    "from selenium.webdriver.support import expected_conditions as EC\n",
    "from selenium.common.exceptions import WebDriverException\n",
    "from selenium.common.exceptions import NoSuchElementException\n",
    "from selenium.common.exceptions import TimeoutException\n",
    "import re\n",
    "\n",
    "sample_url = '//hz-productposting.alibaba.com/product/post_product_interface.htm?from=manage&import_product_id=60753515570'\n",
    "\n",
    "api_post_similar_product = 'https://hz-productposting.alibaba.com/product/post_product_interface.htm?from=manage&import_product_id='\n",
    "product_ali_id = '60753515570'\n",
    "url = 'https://i.alibaba.com'\n",
    "user = 'eyelash@glittergroupcn.com'\n",
    "pwd = 'Wangzhen68970747'\n",
    "\n",
    "chrome_options_headless = webdriver.ChromeOptions()\n",
    "# chrome_options_headless.add_argument('--headless')\n",
    "chrome_options_headless.add_argument('--disable-gpu')\n",
    "chrome_options_headless.add_argument('--disable-extensions')\n",
    "chrome_options_headless.add_argument('--disable-logging')\n",
    "chrome_options_headless.add_argument('--ignore-certificate-errors')"
   ]
  },
  {
   "cell_type": "code",
   "execution_count": 4,
   "metadata": {},
   "outputs": [],
   "source": [
    "browser = webdriver.Chrome(chrome_options=chrome_options_headless)\n",
    "url = 'https://i.alibaba.com'\n",
    "\n",
    "try:\n",
    "    browser.get(url)\n",
    "except (WebDriverException, ConnectionAbortedError) as E:\n",
    "    chrome_options_headless = current_app.data.chrome_options_headless\n",
    "    browser = webdriver.Chrome(chrome_options=chrome_options_headless)\n",
    "    browser.get(url)\n",
    "\n",
    "try:\n",
    "    WebDriverWait(browser, 15).until(EC.presence_of_element_located((By.CSS_SELECTOR, \"#alibaba-login-iframe iframe\")))\n",
    "\n",
    "    windows = browser.window_handles\n",
    "    win = browser.current_window_handle\n",
    "    for window in windows:\n",
    "        if window != win:\n",
    "            browser.switch_to.window(window)\n",
    "            browser.close()\n",
    "    browser.switch_to.window(win)\n",
    "\n",
    "    iframe = browser.find_element_by_css_selector('#alibaba-login-iframe iframe')\n",
    "    browser.switch_to.frame(iframe)\n",
    "\n",
    "    input_login = browser.find_element_by_css_selector('input#fm-login-id')\n",
    "    input_pwd = browser.find_element_by_css_selector('input#fm-login-password')\n",
    "    input_submit = browser.find_element_by_css_selector('input#fm-login-submit')\n",
    "    input_login.send_keys(user)\n",
    "    input_pwd.send_keys(pwd)\n",
    "    input_submit.click()\n",
    "\n",
    "    WebDriverWait(browser, 15).until(EC.presence_of_element_located((By.CSS_SELECTOR, 'header div[data-role=\"user\"]')))\n",
    "    if len(browser.find_elements_by_css_selector('header div[data-role=\"user\"]')):\n",
    "        span = browser.find_element_by_css_selector('header div[data-role=\"user\"] div[data-role=\"wel\"] a span')\n",
    "        user_name = span.get_attribute('innerHTML')\n",
    "except TimeoutException:\n",
    "    pass"
   ]
  },
  {
   "cell_type": "code",
   "execution_count": 6,
   "metadata": {},
   "outputs": [],
   "source": []
  },
  {
   "cell_type": "code",
   "execution_count": null,
   "metadata": {},
   "outputs": [],
   "source": []
  },
  {
   "cell_type": "code",
   "execution_count": null,
   "metadata": {},
   "outputs": [],
   "source": []
  },
  {
   "cell_type": "code",
   "execution_count": null,
   "metadata": {},
   "outputs": [],
   "source": []
  },
  {
   "cell_type": "code",
   "execution_count": null,
   "metadata": {},
   "outputs": [],
   "source": []
  },
  {
   "cell_type": "code",
   "execution_count": null,
   "metadata": {},
   "outputs": [],
   "source": []
  },
  {
   "cell_type": "code",
   "execution_count": null,
   "metadata": {},
   "outputs": [],
   "source": []
  },
  {
   "cell_type": "code",
   "execution_count": 85,
   "metadata": {},
   "outputs": [],
   "source": [
    "browser.quit()"
   ]
  },
  {
   "cell_type": "code",
   "execution_count": null,
   "metadata": {},
   "outputs": [],
   "source": []
  },
  {
   "cell_type": "code",
   "execution_count": null,
   "metadata": {},
   "outputs": [],
   "source": []
  }
 ],
 "metadata": {
  "kernelspec": {
   "display_name": "Python 3",
   "language": "python",
   "name": "python3"
  },
  "language_info": {
   "codemirror_mode": {
    "name": "ipython",
    "version": 3
   },
   "file_extension": ".py",
   "mimetype": "text/x-python",
   "name": "python",
   "nbconvert_exporter": "python",
   "pygments_lexer": "ipython3",
   "version": "3.6.5"
  }
 },
 "nbformat": 4,
 "nbformat_minor": 2
}
