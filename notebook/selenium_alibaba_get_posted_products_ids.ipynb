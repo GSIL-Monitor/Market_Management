{
 "cells": [
  {
   "cell_type": "code",
   "execution_count": 2,
   "metadata": {},
   "outputs": [],
   "source": [
    "from selenium.webdriver.common.action_chains import ActionChains\n",
    "from selenium import webdriver\n",
    "from selenium.webdriver.common.by import By\n",
    "from selenium.webdriver.support.ui import WebDriverWait\n",
    "from selenium.webdriver.support import expected_conditions as EC\n",
    "from selenium.common.exceptions import WebDriverException\n",
    "from selenium.common.exceptions import NoSuchElementException\n",
    "from selenium.common.exceptions import TimeoutException\n",
    "from bs4 import BeautifulSoup\n",
    "import time\n",
    "import re\n",
    "\n",
    "url = 'https://i.alibaba.com'\n",
    "user = 'eyelash@glittergroupcn.com'\n",
    "pwd = 'Wangzhen68970747'\n",
    "\n",
    "chrome_options_headless = webdriver.ChromeOptions()\n",
    "# chrome_options_headless.add_argument('--headless')\n",
    "chrome_options_headless.add_argument('--disable-gpu')\n",
    "chrome_options_headless.add_argument('--disable-extensions')\n",
    "chrome_options_headless.add_argument('--disable-logging')\n",
    "chrome_options_headless.add_argument('--ignore-certificate-errors')\n",
    "\n",
    "browser = webdriver.Chrome(chrome_options=chrome_options_headless)\n",
    "url = 'https://i.alibaba.com'\n",
    "\n",
    "try:\n",
    "    browser.get(url)\n",
    "except (WebDriverException, ConnectionAbortedError) as E:\n",
    "    chrome_options_headless = current_app.data.chrome_options_headless\n",
    "    browser = webdriver.Chrome(chrome_options=chrome_options_headless)\n",
    "    browser.get(url)\n",
    "\n",
    "try:\n",
    "    WebDriverWait(browser, 15).until(EC.presence_of_element_located((By.CSS_SELECTOR, \"#alibaba-login-iframe iframe\")))\n",
    "\n",
    "    windows = browser.window_handles\n",
    "    win = browser.current_window_handle\n",
    "    for window in windows:\n",
    "        if window != win:\n",
    "            browser.switch_to.window(window)\n",
    "            browser.close()\n",
    "    browser.switch_to.window(win)\n",
    "\n",
    "    iframe = browser.find_element_by_css_selector('#alibaba-login-iframe iframe')\n",
    "    browser.switch_to.frame(iframe)\n",
    "\n",
    "    input_login = browser.find_element_by_css_selector('input#fm-login-id')\n",
    "    input_pwd = browser.find_element_by_css_selector('input#fm-login-password')\n",
    "    input_submit = browser.find_element_by_css_selector('input#fm-login-submit')\n",
    "    input_login.send_keys(user)\n",
    "    input_pwd.send_keys(pwd)\n",
    "    input_submit.click()\n",
    "\n",
    "    WebDriverWait(browser, 15).until(EC.presence_of_element_located((By.CSS_SELECTOR, 'header div[data-role=\"user\"]')))\n",
    "    if len(browser.find_elements_by_css_selector('header div[data-role=\"user\"]')):\n",
    "        span = browser.find_element_by_css_selector('header div[data-role=\"user\"] div[data-role=\"wel\"] a span')\n",
    "        user_name = span.get_attribute('innerHTML')\n",
    "except TimeoutException:\n",
    "    pass"
   ]
  },
  {
   "cell_type": "code",
   "execution_count": 48,
   "metadata": {},
   "outputs": [
    {
     "data": {
      "text/plain": [
       "<selenium.webdriver.remote.webelement.WebElement (session=\"1bfe6f5f2a1317051d47059bc39322de\", element=\"0.6572222252370414-1\")>"
      ]
     },
     "execution_count": 48,
     "metadata": {},
     "output_type": "execute_result"
    }
   ],
   "source": [
    "pn = 10\n",
    "api_product_manage = 'https://hz-productposting.alibaba.com/product/products_manage.htm'\n",
    "browser.get(api_product_manage)\n",
    "\n",
    "css_selector = '#ballon-container .list-item'\n",
    "WebDriverWait(browser, 15).until(EC.presence_of_element_located((By.CSS_SELECTOR, css_selector)))"
   ]
  },
  {
   "cell_type": "code",
   "execution_count": 49,
   "metadata": {},
   "outputs": [],
   "source": [
    "\n",
    "css_selector = '#ballon-container div[role=\"tab\"]:nth-child(1)'\n",
    "tab_all = WebDriverWait(browser, 15).until(EC.visibility_of_element_located((By.CSS_SELECTOR, css_selector)))\n",
    "tab_all.click()\n",
    "browser.implicitly_wait(0.5)\n",
    "css_selector = '#ballon-container .manage-loading .next-loading-tip'\n",
    "div_tip = browser.find_elements_by_css_selector(css_selector)\n",
    "if len(div_tip) != 0:\n",
    "    WebDriverWait(browser, 20).until(EC.staleness_of(div_tip[0]))"
   ]
  },
  {
   "cell_type": "code",
   "execution_count": 46,
   "metadata": {},
   "outputs": [],
   "source": [
    "pn = 10"
   ]
  },
  {
   "cell_type": "code",
   "execution_count": 50,
   "metadata": {},
   "outputs": [
    {
     "name": "stdout",
     "output_type": "stream",
     "text": [
      "172\n"
     ]
    }
   ],
   "source": [
    "products = []\n",
    "for counter in range(pn):\n",
    "    css_selector = '#ballon-container .list-item'\n",
    "    items= browser.find_elements_by_css_selector(css_selector)\n",
    "    for tr in items:\n",
    "        product = {}\n",
    "        try:\n",
    "            a = tr.find_element_by_css_selector('.product-subject a')\n",
    "        except NoSuchElementException:\n",
    "            continue\n",
    "        href = a.get_attribute('href')\n",
    "        product['title'] = a.text.lower()\n",
    "        product['href'] = href\n",
    "        product['pid'] = tr.find_element_by_css_selector('.product-model').text.split(':')[1].strip()\n",
    "        product['category'] = tr.find_element_by_css_selector('.product-group').text.split(':')[1].strip()\n",
    "        result = re.search('id=(\\d+)$', href)\n",
    "        if result:\n",
    "            ali_id = result.group(1)\n",
    "        else:\n",
    "            ali_id = re.search('_(\\d+).htm', href).group(1)\n",
    "        product['ali_id'] = ali_id\n",
    "        products.append(product)\n",
    "\n",
    "    if counter == pn -1:\n",
    "        break\n",
    "        \n",
    "    css_selector = '#ballon-container .next-pagination-pages .next'\n",
    "    btn_next = browser.find_element_by_css_selector(css_selector)\n",
    "    if btn_next.is_enabled():\n",
    "        btn_next.click()\n",
    "        browser.implicitly_wait(1)\n",
    "        css_selector = '#ballon-container .manage-loading .next-loading-tip'\n",
    "        div_tip = browser.find_elements_by_css_selector(css_selector)\n",
    "        if len(div_tip) != 0:\n",
    "            WebDriverWait(browser, 20).until(EC.staleness_of(div_tip[0]))\n",
    "    else:\n",
    "        break\n",
    "print(len(products))"
   ]
  },
  {
   "cell_type": "code",
   "execution_count": 51,
   "metadata": {},
   "outputs": [
    {
     "name": "stdout",
     "output_type": "stream",
     "text": [
      "{'title': 'top quality grade 100% handmade clear band 3d silk false eyelashes', 'href': 'https://www.alibaba.com/product-detail/Top-Quality-Grade-100-Handmade-Clear_60729719567.html', 'pid': '22A01', 'category': '3D Silk Eyelashes', 'ali_id': '60729719567'}\n"
     ]
    }
   ],
   "source": [
    "print(products[1])"
   ]
  },
  {
   "cell_type": "code",
   "execution_count": 23,
   "metadata": {},
   "outputs": [],
   "source": []
  },
  {
   "cell_type": "code",
   "execution_count": 24,
   "metadata": {},
   "outputs": [],
   "source": [
    "import html\n",
    "div = '<div class=\"product-group\">分组: 3D Silk Eyelashes</div>'\n",
    "html.escape(div)"
   ]
  },
  {
   "cell_type": "code",
   "execution_count": null,
   "metadata": {},
   "outputs": [],
   "source": []
  },
  {
   "cell_type": "code",
   "execution_count": 42,
   "metadata": {},
   "outputs": [
    {
     "name": "stdout",
     "output_type": "stream",
     "text": [
      "<selenium.webdriver.remote.webelement.WebElement (session=\"1bfe6f5f2a1317051d47059bc39322de\", element=\"0.9111638453649209-7\")>\n",
      "<selenium.webdriver.remote.webelement.WebElement (session=\"1bfe6f5f2a1317051d47059bc39322de\", element=\"0.9111638453649209-8\")>\n",
      "<selenium.webdriver.remote.webelement.WebElement (session=\"1bfe6f5f2a1317051d47059bc39322de\", element=\"0.9111638453649209-9\")>\n",
      "<selenium.webdriver.remote.webelement.WebElement (session=\"1bfe6f5f2a1317051d47059bc39322de\", element=\"0.9111638453649209-10\")>\n",
      "<selenium.webdriver.remote.webelement.WebElement (session=\"1bfe6f5f2a1317051d47059bc39322de\", element=\"0.9111638453649209-11\")>\n",
      "<selenium.webdriver.remote.webelement.WebElement (session=\"1bfe6f5f2a1317051d47059bc39322de\", element=\"0.9111638453649209-12\")>\n",
      "<selenium.webdriver.remote.webelement.WebElement (session=\"1bfe6f5f2a1317051d47059bc39322de\", element=\"0.9111638453649209-13\")>\n",
      "<selenium.webdriver.remote.webelement.WebElement (session=\"1bfe6f5f2a1317051d47059bc39322de\", element=\"0.9111638453649209-14\")>\n",
      "<selenium.webdriver.remote.webelement.WebElement (session=\"1bfe6f5f2a1317051d47059bc39322de\", element=\"0.9111638453649209-15\")>\n"
     ]
    },
    {
     "ename": "NoSuchElementException",
     "evalue": "Message: no such element: Unable to locate element: {\"method\":\"css selector\",\"selector\":\".product-subject a\"}\n  (Session info: chrome=66.0.3359.181)\n  (Driver info: chromedriver=2.37.544315 (730aa6a5fdba159ac9f4c1e8cbc59bf1b5ce12b7),platform=Windows NT 10.0.17134 x86_64)\n",
     "output_type": "error",
     "traceback": [
      "\u001b[1;31m---------------------------------------------------------------------------\u001b[0m",
      "\u001b[1;31mNoSuchElementException\u001b[0m                    Traceback (most recent call last)",
      "\u001b[1;32m<ipython-input-42-0a70a8db8f0e>\u001b[0m in \u001b[0;36m<module>\u001b[1;34m()\u001b[0m\n\u001b[0;32m      5\u001b[0m     \u001b[0mprint\u001b[0m\u001b[1;33m(\u001b[0m\u001b[0mtr\u001b[0m\u001b[1;33m)\u001b[0m\u001b[1;33m\u001b[0m\u001b[0m\n\u001b[0;32m      6\u001b[0m     \u001b[0mproduct\u001b[0m \u001b[1;33m=\u001b[0m \u001b[1;33m{\u001b[0m\u001b[1;33m}\u001b[0m\u001b[1;33m\u001b[0m\u001b[0m\n\u001b[1;32m----> 7\u001b[1;33m     \u001b[0ma\u001b[0m \u001b[1;33m=\u001b[0m \u001b[0mtr\u001b[0m\u001b[1;33m.\u001b[0m\u001b[0mfind_element_by_css_selector\u001b[0m\u001b[1;33m(\u001b[0m\u001b[1;34m'.product-subject a'\u001b[0m\u001b[1;33m)\u001b[0m\u001b[1;33m\u001b[0m\u001b[0m\n\u001b[0m\u001b[0;32m      8\u001b[0m     \u001b[0mhref\u001b[0m \u001b[1;33m=\u001b[0m \u001b[0ma\u001b[0m\u001b[1;33m.\u001b[0m\u001b[0mget_attribute\u001b[0m\u001b[1;33m(\u001b[0m\u001b[1;34m'href'\u001b[0m\u001b[1;33m)\u001b[0m\u001b[1;33m\u001b[0m\u001b[0m\n",
      "\u001b[1;32me:\\worksp~1\\python\\market~1\\venv\\lib\\site-packages\\selenium\\webdriver\\remote\\webelement.py\u001b[0m in \u001b[0;36mfind_element_by_css_selector\u001b[1;34m(self, css_selector)\u001b[0m\n\u001b[0;32m    428\u001b[0m             \u001b[0melement\u001b[0m \u001b[1;33m=\u001b[0m \u001b[0melement\u001b[0m\u001b[1;33m.\u001b[0m\u001b[0mfind_element_by_css_selector\u001b[0m\u001b[1;33m(\u001b[0m\u001b[1;34m'#foo'\u001b[0m\u001b[1;33m)\u001b[0m\u001b[1;33m\u001b[0m\u001b[0m\n\u001b[0;32m    429\u001b[0m         \"\"\"\n\u001b[1;32m--> 430\u001b[1;33m         \u001b[1;32mreturn\u001b[0m \u001b[0mself\u001b[0m\u001b[1;33m.\u001b[0m\u001b[0mfind_element\u001b[0m\u001b[1;33m(\u001b[0m\u001b[0mby\u001b[0m\u001b[1;33m=\u001b[0m\u001b[0mBy\u001b[0m\u001b[1;33m.\u001b[0m\u001b[0mCSS_SELECTOR\u001b[0m\u001b[1;33m,\u001b[0m \u001b[0mvalue\u001b[0m\u001b[1;33m=\u001b[0m\u001b[0mcss_selector\u001b[0m\u001b[1;33m)\u001b[0m\u001b[1;33m\u001b[0m\u001b[0m\n\u001b[0m\u001b[0;32m    431\u001b[0m \u001b[1;33m\u001b[0m\u001b[0m\n\u001b[0;32m    432\u001b[0m     \u001b[1;32mdef\u001b[0m \u001b[0mfind_elements_by_css_selector\u001b[0m\u001b[1;33m(\u001b[0m\u001b[0mself\u001b[0m\u001b[1;33m,\u001b[0m \u001b[0mcss_selector\u001b[0m\u001b[1;33m)\u001b[0m\u001b[1;33m:\u001b[0m\u001b[1;33m\u001b[0m\u001b[0m\n",
      "\u001b[1;32me:\\worksp~1\\python\\market~1\\venv\\lib\\site-packages\\selenium\\webdriver\\remote\\webelement.py\u001b[0m in \u001b[0;36mfind_element\u001b[1;34m(self, by, value)\u001b[0m\n\u001b[0;32m    651\u001b[0m \u001b[1;33m\u001b[0m\u001b[0m\n\u001b[0;32m    652\u001b[0m         return self._execute(Command.FIND_CHILD_ELEMENT,\n\u001b[1;32m--> 653\u001b[1;33m                              {\"using\": by, \"value\": value})['value']\n\u001b[0m\u001b[0;32m    654\u001b[0m \u001b[1;33m\u001b[0m\u001b[0m\n\u001b[0;32m    655\u001b[0m     \u001b[1;32mdef\u001b[0m \u001b[0mfind_elements\u001b[0m\u001b[1;33m(\u001b[0m\u001b[0mself\u001b[0m\u001b[1;33m,\u001b[0m \u001b[0mby\u001b[0m\u001b[1;33m=\u001b[0m\u001b[0mBy\u001b[0m\u001b[1;33m.\u001b[0m\u001b[0mID\u001b[0m\u001b[1;33m,\u001b[0m \u001b[0mvalue\u001b[0m\u001b[1;33m=\u001b[0m\u001b[1;32mNone\u001b[0m\u001b[1;33m)\u001b[0m\u001b[1;33m:\u001b[0m\u001b[1;33m\u001b[0m\u001b[0m\n",
      "\u001b[1;32me:\\worksp~1\\python\\market~1\\venv\\lib\\site-packages\\selenium\\webdriver\\remote\\webelement.py\u001b[0m in \u001b[0;36m_execute\u001b[1;34m(self, command, params)\u001b[0m\n\u001b[0;32m    626\u001b[0m             \u001b[0mparams\u001b[0m \u001b[1;33m=\u001b[0m \u001b[1;33m{\u001b[0m\u001b[1;33m}\u001b[0m\u001b[1;33m\u001b[0m\u001b[0m\n\u001b[0;32m    627\u001b[0m         \u001b[0mparams\u001b[0m\u001b[1;33m[\u001b[0m\u001b[1;34m'id'\u001b[0m\u001b[1;33m]\u001b[0m \u001b[1;33m=\u001b[0m \u001b[0mself\u001b[0m\u001b[1;33m.\u001b[0m\u001b[0m_id\u001b[0m\u001b[1;33m\u001b[0m\u001b[0m\n\u001b[1;32m--> 628\u001b[1;33m         \u001b[1;32mreturn\u001b[0m \u001b[0mself\u001b[0m\u001b[1;33m.\u001b[0m\u001b[0m_parent\u001b[0m\u001b[1;33m.\u001b[0m\u001b[0mexecute\u001b[0m\u001b[1;33m(\u001b[0m\u001b[0mcommand\u001b[0m\u001b[1;33m,\u001b[0m \u001b[0mparams\u001b[0m\u001b[1;33m)\u001b[0m\u001b[1;33m\u001b[0m\u001b[0m\n\u001b[0m\u001b[0;32m    629\u001b[0m \u001b[1;33m\u001b[0m\u001b[0m\n\u001b[0;32m    630\u001b[0m     \u001b[1;32mdef\u001b[0m \u001b[0mfind_element\u001b[0m\u001b[1;33m(\u001b[0m\u001b[0mself\u001b[0m\u001b[1;33m,\u001b[0m \u001b[0mby\u001b[0m\u001b[1;33m=\u001b[0m\u001b[0mBy\u001b[0m\u001b[1;33m.\u001b[0m\u001b[0mID\u001b[0m\u001b[1;33m,\u001b[0m \u001b[0mvalue\u001b[0m\u001b[1;33m=\u001b[0m\u001b[1;32mNone\u001b[0m\u001b[1;33m)\u001b[0m\u001b[1;33m:\u001b[0m\u001b[1;33m\u001b[0m\u001b[0m\n",
      "\u001b[1;32me:\\worksp~1\\python\\market~1\\venv\\lib\\site-packages\\selenium\\webdriver\\remote\\webdriver.py\u001b[0m in \u001b[0;36mexecute\u001b[1;34m(self, driver_command, params)\u001b[0m\n\u001b[0;32m    310\u001b[0m         \u001b[0mresponse\u001b[0m \u001b[1;33m=\u001b[0m \u001b[0mself\u001b[0m\u001b[1;33m.\u001b[0m\u001b[0mcommand_executor\u001b[0m\u001b[1;33m.\u001b[0m\u001b[0mexecute\u001b[0m\u001b[1;33m(\u001b[0m\u001b[0mdriver_command\u001b[0m\u001b[1;33m,\u001b[0m \u001b[0mparams\u001b[0m\u001b[1;33m)\u001b[0m\u001b[1;33m\u001b[0m\u001b[0m\n\u001b[0;32m    311\u001b[0m         \u001b[1;32mif\u001b[0m \u001b[0mresponse\u001b[0m\u001b[1;33m:\u001b[0m\u001b[1;33m\u001b[0m\u001b[0m\n\u001b[1;32m--> 312\u001b[1;33m             \u001b[0mself\u001b[0m\u001b[1;33m.\u001b[0m\u001b[0merror_handler\u001b[0m\u001b[1;33m.\u001b[0m\u001b[0mcheck_response\u001b[0m\u001b[1;33m(\u001b[0m\u001b[0mresponse\u001b[0m\u001b[1;33m)\u001b[0m\u001b[1;33m\u001b[0m\u001b[0m\n\u001b[0m\u001b[0;32m    313\u001b[0m             response['value'] = self._unwrap_value(\n\u001b[0;32m    314\u001b[0m                 response.get('value', None))\n",
      "\u001b[1;32me:\\worksp~1\\python\\market~1\\venv\\lib\\site-packages\\selenium\\webdriver\\remote\\errorhandler.py\u001b[0m in \u001b[0;36mcheck_response\u001b[1;34m(self, response)\u001b[0m\n\u001b[0;32m    240\u001b[0m                 \u001b[0malert_text\u001b[0m \u001b[1;33m=\u001b[0m \u001b[0mvalue\u001b[0m\u001b[1;33m[\u001b[0m\u001b[1;34m'alert'\u001b[0m\u001b[1;33m]\u001b[0m\u001b[1;33m.\u001b[0m\u001b[0mget\u001b[0m\u001b[1;33m(\u001b[0m\u001b[1;34m'text'\u001b[0m\u001b[1;33m)\u001b[0m\u001b[1;33m\u001b[0m\u001b[0m\n\u001b[0;32m    241\u001b[0m             \u001b[1;32mraise\u001b[0m \u001b[0mexception_class\u001b[0m\u001b[1;33m(\u001b[0m\u001b[0mmessage\u001b[0m\u001b[1;33m,\u001b[0m \u001b[0mscreen\u001b[0m\u001b[1;33m,\u001b[0m \u001b[0mstacktrace\u001b[0m\u001b[1;33m,\u001b[0m \u001b[0malert_text\u001b[0m\u001b[1;33m)\u001b[0m\u001b[1;33m\u001b[0m\u001b[0m\n\u001b[1;32m--> 242\u001b[1;33m         \u001b[1;32mraise\u001b[0m \u001b[0mexception_class\u001b[0m\u001b[1;33m(\u001b[0m\u001b[0mmessage\u001b[0m\u001b[1;33m,\u001b[0m \u001b[0mscreen\u001b[0m\u001b[1;33m,\u001b[0m \u001b[0mstacktrace\u001b[0m\u001b[1;33m)\u001b[0m\u001b[1;33m\u001b[0m\u001b[0m\n\u001b[0m\u001b[0;32m    243\u001b[0m \u001b[1;33m\u001b[0m\u001b[0m\n\u001b[0;32m    244\u001b[0m     \u001b[1;32mdef\u001b[0m \u001b[0m_value_or_default\u001b[0m\u001b[1;33m(\u001b[0m\u001b[0mself\u001b[0m\u001b[1;33m,\u001b[0m \u001b[0mobj\u001b[0m\u001b[1;33m,\u001b[0m \u001b[0mkey\u001b[0m\u001b[1;33m,\u001b[0m \u001b[0mdefault\u001b[0m\u001b[1;33m)\u001b[0m\u001b[1;33m:\u001b[0m\u001b[1;33m\u001b[0m\u001b[0m\n",
      "\u001b[1;31mNoSuchElementException\u001b[0m: Message: no such element: Unable to locate element: {\"method\":\"css selector\",\"selector\":\".product-subject a\"}\n  (Session info: chrome=66.0.3359.181)\n  (Driver info: chromedriver=2.37.544315 (730aa6a5fdba159ac9f4c1e8cbc59bf1b5ce12b7),platform=Windows NT 10.0.17134 x86_64)\n"
     ]
    }
   ],
   "source": [
    "\n",
    "css_selector = '#ballon-container .list-item'\n",
    "items= browser.find_elements_by_css_selector(css_selector)\n",
    "for tr in items:\n",
    "    print(tr)\n",
    "    product = {}\n",
    "    a = tr.find_element_by_css_selector('.product-subject a')\n",
    "    href = a.get_attribute('href')"
   ]
  },
  {
   "cell_type": "code",
   "execution_count": 36,
   "metadata": {},
   "outputs": [
    {
     "data": {
      "text/plain": [
       "'https://www.alibaba.com/product-detail/Top-Quality-Grade-100-Handmade-3D_60786724020.html'"
      ]
     },
     "execution_count": 36,
     "metadata": {},
     "output_type": "execute_result"
    }
   ],
   "source": [
    "tr.find_element_by_css_selector('.product-subject a').get_attribute('href')"
   ]
  },
  {
   "cell_type": "code",
   "execution_count": 10,
   "metadata": {},
   "outputs": [],
   "source": [
    "browser.quit()"
   ]
  },
  {
   "cell_type": "code",
   "execution_count": null,
   "metadata": {},
   "outputs": [],
   "source": []
  },
  {
   "cell_type": "code",
   "execution_count": null,
   "metadata": {},
   "outputs": [],
   "source": []
  },
  {
   "cell_type": "code",
   "execution_count": null,
   "metadata": {},
   "outputs": [],
   "source": []
  }
 ],
 "metadata": {
  "kernelspec": {
   "display_name": "Python 3",
   "language": "python",
   "name": "python3"
  },
  "language_info": {
   "codemirror_mode": {
    "name": "ipython",
    "version": 3
   },
   "file_extension": ".py",
   "mimetype": "text/x-python",
   "name": "python",
   "nbconvert_exporter": "python",
   "pygments_lexer": "ipython3",
   "version": "3.6.5"
  }
 },
 "nbformat": 4,
 "nbformat_minor": 2
}
