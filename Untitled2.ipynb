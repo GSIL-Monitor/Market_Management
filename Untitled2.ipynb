{
 "cells": [
  {
   "cell_type": "code",
   "execution_count": 1,
   "metadata": {},
   "outputs": [],
   "source": [
    "import requests\n",
    "import json"
   ]
  },
  {
   "cell_type": "code",
   "execution_count": 9,
   "metadata": {},
   "outputs": [],
   "source": [
    "proxies1 = {\n",
    "  \"http\": \"socks5://127.0.0.1:8088\",\n",
    "  \"https\": \"socks5://127.0.0.1:8088\"\n",
    "}\n",
    "proxies2 = {\n",
    "  \"http\": \"socks5://127.0.0.1:1080\",\n",
    "  \"https\": \"socks5://127.0.0.1:1080\"\n",
    "}"
   ]
  },
  {
   "cell_type": "code",
   "execution_count": 10,
   "metadata": {},
   "outputs": [],
   "source": [
    "response = requests.get(\"https://api.ipgeolocation.io/ipgeo?apiKey=8729c2eb97dc4478b00f798d549c78df\", proxies=proxies2)\n",
    "ipgeo = json.loads(response.text)"
   ]
  },
  {
   "cell_type": "code",
   "execution_count": 7,
   "metadata": {},
   "outputs": [
    {
     "data": {
      "text/plain": [
       "{'ip': '66.42.32.184',\n",
       " 'continent_code': 'NA',\n",
       " 'continent_name': 'North America',\n",
       " 'country_code2': 'US',\n",
       " 'country_code3': 'USA',\n",
       " 'country_name': 'United States',\n",
       " 'country_capital': 'Washington',\n",
       " 'state_prov': 'Texas',\n",
       " 'district': 'Dallas',\n",
       " 'city': 'Irving',\n",
       " 'zipcode': '75039',\n",
       " 'latitude': '32.8626',\n",
       " 'longitude': '-96.9339',\n",
       " 'is_eu': False,\n",
       " 'calling_code': '+1',\n",
       " 'country_tld': '.us',\n",
       " 'languages': 'en-US,es-US,haw,fr',\n",
       " 'country_flag': 'https://ipgeolocation.io/static/flags/us_64.png',\n",
       " 'isp': 'TNCI Impact',\n",
       " 'connection_type': '',\n",
       " 'organization': 'TNCI Impact, LLC',\n",
       " 'geoname_id': '4700168',\n",
       " 'currency': {'name': 'Dollar', 'code': 'USD'},\n",
       " 'time_zone': {'name': 'America/Chicago',\n",
       "  'offset': -6,\n",
       "  'is_dst': True,\n",
       "  'current_time': '2018-07-19 02:58:59.113-0500'}}"
      ]
     },
     "execution_count": 7,
     "metadata": {},
     "output_type": "execute_result"
    }
   ],
   "source": [
    "ipgeo"
   ]
  },
  {
   "cell_type": "code",
   "execution_count": 11,
   "metadata": {},
   "outputs": [
    {
     "data": {
      "text/plain": [
       "{'ip': '202.91.33.97',\n",
       " 'continent_code': 'NA',\n",
       " 'continent_name': 'North America',\n",
       " 'country_code2': 'US',\n",
       " 'country_code3': 'USA',\n",
       " 'country_name': 'United States',\n",
       " 'country_capital': 'Washington',\n",
       " 'state_prov': 'California',\n",
       " 'district': 'Los Angeles',\n",
       " 'city': 'Los Angeles',\n",
       " 'zipcode': '90071',\n",
       " 'latitude': '34.057',\n",
       " 'longitude': '-118.251',\n",
       " 'is_eu': False,\n",
       " 'calling_code': '+1',\n",
       " 'country_tld': '.us',\n",
       " 'languages': 'en-US,es-US,haw,fr',\n",
       " 'country_flag': 'https://ipgeolocation.io/static/flags/us_64.png',\n",
       " 'isp': 'HOSTVYLIMITED',\n",
       " 'connection_type': '',\n",
       " 'organization': 'Hostvy Limited',\n",
       " 'geoname_id': '5368361',\n",
       " 'currency': {'name': 'Dollar', 'code': 'USD'},\n",
       " 'time_zone': {'name': 'America/Los_Angeles',\n",
       "  'offset': -8,\n",
       "  'is_dst': True,\n",
       "  'current_time': '2018-07-19 00:59:52.842-0700'}}"
      ]
     },
     "execution_count": 11,
     "metadata": {},
     "output_type": "execute_result"
    }
   ],
   "source": [
    "ipgeo"
   ]
  },
  {
   "cell_type": "code",
   "execution_count": null,
   "metadata": {},
   "outputs": [],
   "source": []
  }
 ],
 "metadata": {
  "kernelspec": {
   "display_name": "Python 3",
   "language": "python",
   "name": "python3"
  },
  "language_info": {
   "codemirror_mode": {
    "name": "ipython",
    "version": 3
   },
   "file_extension": ".py",
   "mimetype": "text/x-python",
   "name": "python",
   "nbconvert_exporter": "python",
   "pygments_lexer": "ipython3",
   "version": "3.6.5"
  }
 },
 "nbformat": 4,
 "nbformat_minor": 2
}
