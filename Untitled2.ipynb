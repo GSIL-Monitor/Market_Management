{
 "cells": [
  {
   "cell_type": "code",
   "execution_count": 15,
   "metadata": {},
   "outputs": [],
   "source": [
    "import requests\n",
    "import json"
   ]
  },
  {
   "cell_type": "code",
   "execution_count": 16,
   "metadata": {},
   "outputs": [],
   "source": [
    "proxies1 = {\n",
    "  \"http\": \"socks5://127.0.0.1:8088\",\n",
    "  \"https\": \"socks5://127.0.0.1:8088\"\n",
    "}\n",
    "proxies2 = {\n",
    "  \"http\": \"socks5://127.0.0.1:1080\",\n",
    "  \"https\": \"socks5://127.0.0.1:1080\"\n",
    "}\n",
    "proxies3 = {\n",
    "  \"http\": \"http://127.0.0.1:8080\",\n",
    "  \"https\": \"https://127.0.0.1:8080\"\n",
    "}"
   ]
  },
  {
   "cell_type": "code",
   "execution_count": 25,
   "metadata": {},
   "outputs": [
    {
     "name": "stderr",
     "output_type": "stream",
     "text": [
      "e:\\worksp~1\\python\\market~1\\venv\\lib\\site-packages\\urllib3\\connectionpool.py:857: InsecureRequestWarning: Unverified HTTPS request is being made. Adding certificate verification is strongly advised. See: https://urllib3.readthedocs.io/en/latest/advanced-usage.html#ssl-warnings\n",
      "  InsecureRequestWarning)\n"
     ]
    }
   ],
   "source": [
    "response = requests.get(\"https://api.ipgeolocation.io/ipgeo?apiKey=8729c2eb97dc4478b00f798d549c78df\", proxies=proxies1, verify=False)"
   ]
  },
  {
   "cell_type": "code",
   "execution_count": 18,
   "metadata": {},
   "outputs": [
    {
     "name": "stderr",
     "output_type": "stream",
     "text": [
      "e:\\worksp~1\\python\\market~1\\venv\\lib\\site-packages\\urllib3\\connectionpool.py:857: InsecureRequestWarning: Unverified HTTPS request is being made. Adding certificate verification is strongly advised. See: https://urllib3.readthedocs.io/en/latest/advanced-usage.html#ssl-warnings\n",
      "  InsecureRequestWarning)\n"
     ]
    },
    {
     "data": {
      "text/plain": [
       "<Response [502]>"
      ]
     },
     "execution_count": 18,
     "metadata": {},
     "output_type": "execute_result"
    }
   ],
   "source": [
    "requests.get(\"https://www.google.com\", proxies=proxies3, verify=False)"
   ]
  },
  {
   "cell_type": "code",
   "execution_count": 26,
   "metadata": {},
   "outputs": [],
   "source": [
    "ipgeo = json.loads(response.text)"
   ]
  },
  {
   "cell_type": "code",
   "execution_count": 28,
   "metadata": {},
   "outputs": [
    {
     "data": {
      "text/plain": [
       "{'ip': '198.13.61.36',\n",
       " 'continent_code': 'NA',\n",
       " 'continent_name': 'North America',\n",
       " 'country_code2': 'US',\n",
       " 'country_code3': 'USA',\n",
       " 'country_name': 'United States',\n",
       " 'country_capital': 'Washington',\n",
       " 'state_prov': 'Minnesota',\n",
       " 'district': 'Hennepin County',\n",
       " 'city': 'Minneapolis',\n",
       " 'zipcode': '55405',\n",
       " 'latitude': '44.9814',\n",
       " 'longitude': '-93.2823',\n",
       " 'is_eu': False,\n",
       " 'calling_code': '+1',\n",
       " 'country_tld': '.us',\n",
       " 'languages': 'en-US,es-US,haw,fr',\n",
       " 'country_flag': 'https://ipgeolocation.io/static/flags/us_64.png',\n",
       " 'isp': 'Quicksilver Express Courier',\n",
       " 'connection_type': '',\n",
       " 'organization': 'Quicksilver Express Courier Inc.',\n",
       " 'geoname_id': '5037649',\n",
       " 'currency': {'name': 'Dollar', 'code': 'USD'},\n",
       " 'time_zone': {'name': 'America/Chicago',\n",
       "  'offset': -6,\n",
       "  'is_dst': True,\n",
       "  'current_time': '2018-07-26 07:32:30.755-0500'}}"
      ]
     },
     "execution_count": 28,
     "metadata": {},
     "output_type": "execute_result"
    }
   ],
   "source": [
    "ipgeo"
   ]
  },
  {
   "cell_type": "code",
   "execution_count": 29,
   "metadata": {},
   "outputs": [
    {
     "data": {
      "text/plain": [
       "{'ip': '198.13.61.36',\n",
       " 'continent_code': 'NA',\n",
       " 'continent_name': 'North America',\n",
       " 'country_code2': 'US',\n",
       " 'country_code3': 'USA',\n",
       " 'country_name': 'United States',\n",
       " 'country_capital': 'Washington',\n",
       " 'state_prov': 'Minnesota',\n",
       " 'district': 'Hennepin County',\n",
       " 'city': 'Minneapolis',\n",
       " 'zipcode': '55405',\n",
       " 'latitude': '44.9814',\n",
       " 'longitude': '-93.2823',\n",
       " 'is_eu': False,\n",
       " 'calling_code': '+1',\n",
       " 'country_tld': '.us',\n",
       " 'languages': 'en-US,es-US,haw,fr',\n",
       " 'country_flag': 'https://ipgeolocation.io/static/flags/us_64.png',\n",
       " 'isp': 'Quicksilver Express Courier',\n",
       " 'connection_type': '',\n",
       " 'organization': 'Quicksilver Express Courier Inc.',\n",
       " 'geoname_id': '5037649',\n",
       " 'currency': {'name': 'Dollar', 'code': 'USD'},\n",
       " 'time_zone': {'name': 'America/Chicago',\n",
       "  'offset': -6,\n",
       "  'is_dst': True,\n",
       "  'current_time': '2018-07-26 07:32:30.755-0500'}}"
      ]
     },
     "execution_count": 29,
     "metadata": {},
     "output_type": "execute_result"
    }
   ],
   "source": [
    "ipgeo"
   ]
  },
  {
   "cell_type": "code",
   "execution_count": null,
   "metadata": {},
   "outputs": [],
   "source": [
    "ipgeo"
   ]
  },
  {
   "cell_type": "code",
   "execution_count": null,
   "metadata": {},
   "outputs": [],
   "source": []
  }
 ],
 "metadata": {
  "kernelspec": {
   "display_name": "Python 3",
   "language": "python",
   "name": "python3"
  },
  "language_info": {
   "codemirror_mode": {
    "name": "ipython",
    "version": 3
   },
   "file_extension": ".py",
   "mimetype": "text/x-python",
   "name": "python",
   "nbconvert_exporter": "python",
   "pygments_lexer": "ipython3",
   "version": "3.6.5"
  }
 },
 "nbformat": 4,
 "nbformat_minor": 2
}
