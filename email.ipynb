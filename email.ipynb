{
 "cells": [
  {
   "cell_type": "code",
   "execution_count": 47,
   "metadata": {},
   "outputs": [],
   "source": [
    "from libs.email import Email\n",
    "from libs.json import JSON\n",
    "from openpyxl import load_workbook\n",
    "import tkinter\n",
    "from tkinter import filedialog"
   ]
  },
  {
   "cell_type": "code",
   "execution_count": 48,
   "metadata": {
    "scrolled": true
   },
   "outputs": [
    {
     "name": "stdout",
     "output_type": "stream",
     "text": [
      ". storage markets.json\n",
      ".\\storage\\markets.json was deserialized!\n"
     ]
    },
    {
     "data": {
      "text/plain": [
       "{'lid': 'eyelash@glittergroupcn.com',\n",
       " 'lpwd': 'Wangzhen68970747',\n",
       " 'lname': 'Jeremy Wang'}"
      ]
     },
     "execution_count": 48,
     "metadata": {},
     "output_type": "execute_result"
    }
   ],
   "source": [
    "market = JSON.deserialize('.', 'storage', 'markets.json')['Eyelashes']\n",
    "account = {}\n",
    "account['lid'] = market['lid']\n",
    "account['lpwd'] = market['lpwd']\n",
    "account['lname'] = market['lname']\n",
    "account"
   ]
  },
  {
   "cell_type": "code",
   "execution_count": 3,
   "metadata": {},
   "outputs": [],
   "source": [
    "message = Email.message_of_product_catalog(market, account, 'Prestl Bernhard')"
   ]
  },
  {
   "cell_type": "code",
   "execution_count": 4,
   "metadata": {},
   "outputs": [
    {
     "name": "stdout",
     "output_type": "stream",
     "text": [
      "邮件发送成功！\n"
     ]
    },
    {
     "data": {
      "text/plain": [
       "True"
      ]
     },
     "execution_count": 4,
     "metadata": {},
     "output_type": "execute_result"
    }
   ],
   "source": [
    "receivers = ['changshu.qd@gmail.com']\n",
    "Email.send(account, receivers, message)"
   ]
  },
  {
   "cell_type": "code",
   "execution_count": null,
   "metadata": {},
   "outputs": [],
   "source": []
  },
  {
   "cell_type": "code",
   "execution_count": null,
   "metadata": {},
   "outputs": [],
   "source": []
  },
  {
   "cell_type": "code",
   "execution_count": null,
   "metadata": {},
   "outputs": [],
   "source": []
  },
  {
   "cell_type": "code",
   "execution_count": null,
   "metadata": {},
   "outputs": [],
   "source": []
  },
  {
   "cell_type": "code",
   "execution_count": null,
   "metadata": {},
   "outputs": [],
   "source": []
  },
  {
   "cell_type": "code",
   "execution_count": null,
   "metadata": {},
   "outputs": [],
   "source": []
  },
  {
   "cell_type": "code",
   "execution_count": null,
   "metadata": {},
   "outputs": [],
   "source": []
  },
  {
   "cell_type": "code",
   "execution_count": 49,
   "metadata": {},
   "outputs": [],
   "source": [
    "def find(file):\n",
    "    wb = load_workbook(file)\n",
    "    names = wb.get_sheet_names()\n",
    "    ws = wb[names[0]]\n",
    "    contact_list = []\n",
    "    found = False\n",
    "    for i in range(1, 11):\n",
    "        for j in range(1, 11):\n",
    "            if ws.cell(row=1, column=1).value.strip():\n",
    "                found = True\n",
    "                break\n",
    "        if found:\n",
    "            break\n",
    "    if not found:\n",
    "        return \n",
    "    \n",
    "    found_name = False\n",
    "    found_email = False\n",
    "    column_name = 0\n",
    "    column_email = 0\n",
    "    for m in range(j, 100):\n",
    "        value = ws.cell(row=1, column=m).value\n",
    "        if not value:\n",
    "            break\n",
    "            \n",
    "        if value == '客户名称':\n",
    "            column_name = m\n",
    "            found_name = True\n",
    "        elif value == '邮箱':\n",
    "            column_email = m\n",
    "            found_email = True\n",
    "        if found_name and found_email:\n",
    "            break\n",
    "    \n",
    "    idx = i + 1\n",
    "    while True:\n",
    "        name = ws.cell(row=idx, column=column_name).value\n",
    "        email = ws.cell(row=idx, column=column_email).value\n",
    "        idx += 1\n",
    "        if name and email:\n",
    "            contact_list.append({'name':name.strip(), 'email':email.strip()})\n",
    "        elif not name and not email:\n",
    "            break\n",
    "    return contact_list"
   ]
  },
  {
   "cell_type": "code",
   "execution_count": 51,
   "metadata": {},
   "outputs": [
    {
     "name": "stdout",
     "output_type": "stream",
     "text": [
      "97\n",
      "[{'name': 'Enrico Squicciarini', 'email': 'info@creazioniketty.com'}, {'name': 'Shauni Cosmetics', 'email': 'shaunicosmetics@gmail.com'}, {'name': 'Marie Louis', 'email': 'blondia03@icloud.com'}, {'name': 'Janyaporn', 'email': 'destiny_nnn@icloud.com'}, {'name': 'Bob Oris', 'email': 'orisakwe@sbcglobal.net'}, {'name': 'Lindsay Kane', 'email': 'lindsey.cole@hotmail.co.uk'}, {'name': 'Joan Crooks', 'email': 'joanacrooks@hotmail.com'}, {'name': 'Angel Salgado', 'email': 'angelsalgado.matsa@gmail.com'}, {'name': 'Breanna Holliday', 'email': 'braynedco@gmail.com'}, {'name': 'Firdaous Sahli', 'email': 'sahli.firdaous@gmail.com'}, {'name': 'Ganib Baltali', 'email': 'alvaramoratachelsea11@gmail.com'}, {'name': 'Luksana Howong', 'email': 'Nat.sweetdream@hotmail.com'}, {'name': 'Kim Trentham', 'email': 'Kim@glitterkc.com'}, {'name': 'Cecilia', 'email': 'CeciliaC.design@yahoo.com'}, {'name': 'Kevin Munoz', 'email': 'yubal9_9_9@hotmail.com'}, {'name': 'Margarita Pogrebnaya', 'email': 'margorusya@mail.ru'}, {'name': 'Noura Hedo', 'email': 'noura7nh@gmail.com'}, {'name': 'tshidiso lemp', 'email': 'lempady@gmail.com'}, {'name': 'Lavish（Amour Me）', 'email': 'lavishroper@icloud.com'}, {'name': 'Clarissa Coria', 'email': 'hailey2515@icloud.com'}, {'name': 'Katie Ann', 'email': 'africanistaa@gmail.com'}, {'name': 'Kiera Barfield', 'email': 'africanistaa@gmail.com'}, {'name': 'Monicalaire Pidoy', 'email': 'Monicalamendoza@gmail.com'}, {'name': 'Ray Hudson', 'email': 'rayjashudson@gmail.com'}, {'name': 'Treneise Barnes', 'email': 'treneise@me.com'}, {'name': 'ivan mendez', 'email': 'ivanmendez1512@gmail.com'}, {'name': 'Noura Hedo', 'email': 'noura7nh@gmail.com'}, {'name': 'Lisa', 'email': 'lottyeebs@gmail.com'}, {'name': 'Kristina Rumovske', 'email': 'kristina.stepanova.89@gmail.com'}, {'name': 'Peter Steinmann', 'email': 'contact@violetlashes.com'}, {'name': 'Nora Rivera', 'email': 'ecandnr@gmail.com'}, {'name': 'shifa aljunaibi', 'email': 'shifa.aljunaibi@yahoo.com'}, {'name': 'Miriam Moreno', 'email': 'noraethan09@hotmail.com'}, {'name': 'yahaira sepulveda', 'email': 'salon3011@iclod.com'}, {'name': 'Stephanie Quaye', 'email': 'slaybyquaye@gmail.com'}, {'name': 'Clarissa Coria', 'email': 'hailey2515@icloud.com'}, {'name': 'nathalie bella', 'email': 'kenssabella@gmail.com'}, {'name': 'Noelia Santos', 'email': 'santosnoelia3004@gmail.com'}, {'name': 'chasity linden', 'email': 'jazlynnjanice@aol.com'}, {'name': 'jurgita raugeviciene', 'email': 'j.raugeviciene@gmail.com'}, {'name': 'Nadia Sanoufi', 'email': 'nadia09121977@hotmail.com'}, {'name': 'Cynthia Thembisile Ngcobo', 'email': 'ngcoboct1@gmail.com'}, {'name': 'Treneise Barnes', 'email': 'treneise@me.com'}, {'name': 'Dennis Dujkovic', 'email': 'denya-cosmetics@web.de'}, {'name': 'Monique Mak', 'email': 'monique.mak25@gmail.com'}, {'name': 'Glenda Allen', 'email': 'kidcudi140@yahoo.com'}, {'name': 'Osnise Milord', 'email': 'niseybjulia@gmail.com'}, {'name': 'Karen Jones', 'email': 'karenvvjones@aol.com'}, {'name': 'Erik Nuggerud V', 'email': 'enuggerud@yahoo.es'}, {'name': 'ELENI KOUFETIDIS', 'email': 'helenepapa@yahoo.gr'}, {'name': 'Uyen Vu', 'email': 'vvuyen@gmail.com'}, {'name': 'Linna H Figueroa', 'email': 'linahcf88@hotmail.com'}, {'name': 'mor edri', 'email': 'moryhay@gmail.com'}, {'name': 'Kieuminh Bui', 'email': 'kieuminhb@gmail.com'}, {'name': 'Ashley Brown', 'email': 'admin@tietheknotshop.com'}, {'name': 'Berry J', 'email': 'berijm5@gmail.com'}, {'name': 'Rinelda Rudolfina', 'email': 'simplyneedednl@gmail.com'}, {'name': 'Ajay Adatia', 'email': 'ajayadatia@hotmail.com'}, {'name': 'Karl Peterseil', 'email': 'peterseil.k@gmail.com'}, {'name': 'Tang Vivian', 'email': 'queen2743@gmail.com'}, {'name': 'Ray Hudson', 'email': 'rayjashudson@gmail.com'}, {'name': 'nicole taylor', 'email': 'victoiresun68@gmail.com'}, {'name': 'Kenny Khoon', 'email': 'blazkboy@gmail.com'}, {'name': 'Andre Arens', 'email': 'selenadieutreux@ymail.com'}, {'name': 'Jessie Lundahl', 'email': 'jlbeautyacademy@hotmail.com'}, {'name': 'Marco Cortez', 'email': 'cortezvma@gmail.com'}, {'name': 'Santa Reyes', 'email': 'simplemakeupsr@yahoo.com'}, {'name': 'vitoria camacho', 'email': 'vitoriacamacho_@hotmail.com'}, {'name': 'Ginette Wangai', 'email': 'Ginette.wangai@gmail.com'}, {'name': 'Reguina cheloukhina', 'email': 'redgi2012@hotmail.com'}, {'name': 'Kelly Hughes', 'email': 'kelly.hughes@modelco.com.au'}, {'name': 'Scott Godar', 'email': 'scott@godar.us'}, {'name': 'Maddy GRUPPO', 'email': 'maddy.gruppo@outlook.fr'}, {'name': 'Angela Pham', 'email': 'angelapham3116@gmail.com'}, {'name': 'Kendra Jenkins', 'email': 'kendrajmrktpr@gmail.cm'}, {'name': 'xiomara carrion', 'email': 'xiomaracarrion1127@gmail.com'}, {'name': 'Mrs. Maria Spina', 'email': 'promosalpie@gmail.com'}, {'name': 'reza dubravac', 'email': 'dtereza@hotmail.com'}, {'name': 'Annie ling', 'email': 'annielingg@gmail.com'}, {'name': 'Axlaam Mohamed', 'email': 'axlaam4love@gmail.com'}, {'name': 'Dany Rios', 'email': 'danyrv500@gmail.com'}, {'name': 'Andy Chiang', 'email': 'ilash.co.ltd@gmail.com'}, {'name': 'JoVonne Hamlin', 'email': 'jovonne.hamlin@yahoo.com'}, {'name': 'shaima alenzi', 'email': 'shaimona@hotmail.com'}, {'name': 'Dinara baigozhanova', 'email': 'dinara.bajgozhanova@inbox.ru'}, {'name': 'OZI SANTI', 'email': 'ozisanti7@gmail.com'}, {'name': 'nchindu siabuluba', 'email': 'nchindusia@gmail.com'}, {'name': 'Paulina', 'email': 'kontakt@wonderlashes.pl'}, {'name': 'Farah Sainvil', 'email': 'farah_sainvil@yahoo.com'}, {'name': 'Raiza Caripe', 'email': 'raizac2009@hotmail.com'}, {'name': 'Karen Jackson', 'email': 'lilk2045@gmail.com'}, {'name': 'Herona Sano', 'email': 'ronzsano@gmail.com'}, {'name': 'Vitalij Karasik', 'email': 'juli4ka0905@mail.ru'}, {'name': 'Xena Carr', 'email': 'mintzxena@gmail.com'}, {'name': 'Navia Green', 'email': 'navia142@gmail.com'}, {'name': 'Tatiana Becerra', 'email': 'barremeta89@gmail.com'}, {'name': 'Mrs. jen galan', 'email': 'xoxobeautiquecustomerservice@gmail.com'}]\n"
     ]
    },
    {
     "name": "stderr",
     "output_type": "stream",
     "text": [
      "d:\\workspace\\market management\\venv\\lib\\site-packages\\ipykernel_launcher.py:3: DeprecationWarning: Call to deprecated function get_sheet_names (Use wb.sheetnames).\n",
      "  This is separate from the ipykernel package so we can avoid doing imports until\n"
     ]
    }
   ],
   "source": [
    "root = tkinter.Tk()\n",
    "root.withdraw()\n",
    "file = filedialog.askopenfilename(parent=root, initialdir=\"/\", title='请选择 EXEL 文件')\n",
    "file = file.replace('/', '\\\\')\n",
    "contacts = find(file)\n",
    "print(len(contacts))\n",
    "print(contacts)"
   ]
  },
  {
   "cell_type": "code",
   "execution_count": null,
   "metadata": {},
   "outputs": [],
   "source": []
  }
 ],
 "metadata": {
  "kernelspec": {
   "display_name": "Python 3",
   "language": "python",
   "name": "python3"
  },
  "language_info": {
   "codemirror_mode": {
    "name": "ipython",
    "version": 3
   },
   "file_extension": ".py",
   "mimetype": "text/x-python",
   "name": "python",
   "nbconvert_exporter": "python",
   "pygments_lexer": "ipython3",
   "version": "3.6.6"
  }
 },
 "nbformat": 4,
 "nbformat_minor": 2
}
