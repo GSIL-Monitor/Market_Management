{
 "cells": [
  {
   "cell_type": "code",
   "execution_count": 2,
   "metadata": {},
   "outputs": [],
   "source": [
    "from libs.alibaba.alibaba import Alibaba\n",
    "from libs.alibaba.inquiry import Inquiry\n",
    "from libs.json import JSON\n",
    "\n",
    "from selenium import webdriver\n",
    "from selenium.webdriver.common.keys import Keys\n",
    "from selenium.webdriver.support.ui import WebDriverWait\n",
    "from selenium.webdriver.support import expected_conditions as EC\n",
    "from selenium.common.exceptions import WebDriverException\n",
    "from selenium.common.exceptions import NoSuchElementException\n",
    "from selenium.common.exceptions import ElementNotVisibleException\n",
    "from selenium.common.exceptions import StaleElementReferenceException\n",
    "from selenium.webdriver.common.by import By\n",
    "from selenium.webdriver.common.action_chains import ActionChains\n",
    "\n",
    "from datetime import datetime\n",
    "from bs4 import BeautifulSoup\n",
    "from pyquery import PyQuery as pq\n",
    "\n",
    "import json\n",
    "import requests\n",
    "import time\n",
    "import re\n",
    "import math\n",
    "\n",
    "import types\n",
    "import traceback\n",
    "import threading\n",
    "\n",
    "import logging\n",
    "from logging.handlers import TimedRotatingFileHandler"
   ]
  },
  {
   "cell_type": "code",
   "execution_count": 3,
   "metadata": {},
   "outputs": [
    {
     "name": "stdout",
     "output_type": "stream",
     "text": [
      ". storage markets.json\n",
      ".\\storage\\markets.json was deserialized!\n"
     ]
    },
    {
     "data": {
      "text/plain": [
       "{'name': 'Eyelashes',\n",
       " 'directory': 'E:\\\\glitter\\\\Eyelashes',\n",
       " 'lid': 'eyelash@glittergroupcn.com',\n",
       " 'lpwd': 'Wangzhen68970747'}"
      ]
     },
     "execution_count": 3,
     "metadata": {},
     "output_type": "execute_result"
    }
   ],
   "source": [
    "market = JSON.deserialize('.', 'storage', 'markets.json')['Eyelashes']\n",
    "market"
   ]
  },
  {
   "cell_type": "code",
   "execution_count": 4,
   "metadata": {},
   "outputs": [],
   "source": [
    "inquiry = Inquiry(market)"
   ]
  },
  {
   "cell_type": "code",
   "execution_count": 5,
   "metadata": {},
   "outputs": [],
   "source": [
    "def open_inquiry_in_new_tab(self, inquiry):\n",
    "    href = self.browser.find_element_by_css_selector('a[data-trade-id=\"'+inquiry['id']+'\"]').get_attribute('href')\n",
    "    self.browser.execute_script(\"window.open('');\")\n",
    "    self.browser.switch_to.window(self.browser.window_handles[1])\n",
    "    self.browser.get(href)\n",
    "    \n",
    "    time.sleep(10)\n",
    "    self.browser.close()\n",
    "    self.browser.switch_to_window(self.browser.window_handles[0])\n",
    "\n",
    "inquiry.open_inquiry_in_new_tab = types.MethodType(open_inquiry_in_new_tab, inquiry)"
   ]
  },
  {
   "cell_type": "code",
   "execution_count": null,
   "metadata": {},
   "outputs": [],
   "source": []
  },
  {
   "cell_type": "code",
   "execution_count": null,
   "metadata": {},
   "outputs": [],
   "source": []
  },
  {
   "cell_type": "code",
   "execution_count": null,
   "metadata": {},
   "outputs": [],
   "source": [
    "inquiry.login()"
   ]
  },
  {
   "cell_type": "code",
   "execution_count": null,
   "metadata": {},
   "outputs": [],
   "source": [
    "inquiry.load_url()\n",
    "inquiries = inquiry.get_inquiries()\n",
    "inquiry.open_inquiry_in_new_tab(inquiries[0])"
   ]
  },
  {
   "cell_type": "code",
   "execution_count": null,
   "metadata": {},
   "outputs": [],
   "source": []
  },
  {
   "cell_type": "code",
   "execution_count": null,
   "metadata": {},
   "outputs": [],
   "source": []
  },
  {
   "cell_type": "code",
   "execution_count": null,
   "metadata": {},
   "outputs": [],
   "source": []
  },
  {
   "cell_type": "code",
   "execution_count": null,
   "metadata": {},
   "outputs": [],
   "source": []
  },
  {
   "cell_type": "code",
   "execution_count": null,
   "metadata": {},
   "outputs": [],
   "source": []
  }
 ],
 "metadata": {
  "kernelspec": {
   "display_name": "Python 3",
   "language": "python",
   "name": "python3"
  },
  "language_info": {
   "codemirror_mode": {
    "name": "ipython",
    "version": 3
   },
   "file_extension": ".py",
   "mimetype": "text/x-python",
   "name": "python",
   "nbconvert_exporter": "python",
   "pygments_lexer": "ipython3",
   "version": "3.6.5"
  }
 },
 "nbformat": 4,
 "nbformat_minor": 2
}
