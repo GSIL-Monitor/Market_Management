{
 "cells": [
  {
   "cell_type": "code",
   "execution_count": 1,
   "metadata": {},
   "outputs": [],
   "source": [
    "from libs.alibaba.alibaba import Alibaba\n",
    "from libs.alibaba.inquiry import Inquiry\n",
    "from libs.alibaba.inquiry import element_has_css_class\n",
    "from libs.email import Email\n",
    "from libs.json import JSON\n",
    "\n",
    "from selenium import webdriver\n",
    "from selenium.webdriver.common.keys import Keys\n",
    "from selenium.webdriver.support.ui import WebDriverWait\n",
    "from selenium.webdriver.support import expected_conditions as EC\n",
    "from selenium.common.exceptions import WebDriverException\n",
    "from selenium.common.exceptions import NoSuchElementException\n",
    "from selenium.common.exceptions import TimeoutException\n",
    "from selenium.common.exceptions import ElementNotVisibleException\n",
    "from selenium.common.exceptions import StaleElementReferenceException\n",
    "from selenium.webdriver.common.by import By\n",
    "from selenium.webdriver.common.action_chains import ActionChains\n",
    "\n",
    "from string import Template\n",
    "from datetime import datetime\n",
    "from bs4 import BeautifulSoup\n",
    "from pyquery import PyQuery as pq\n",
    "\n",
    "import json\n",
    "import requests\n",
    "import time\n",
    "import re\n",
    "import math\n",
    "\n",
    "import types\n",
    "import traceback\n",
    "import threading\n",
    "\n",
    "import pendulum\n",
    "\n",
    "import logging\n",
    "from logging.handlers import TimedRotatingFileHandler"
   ]
  },
  {
   "cell_type": "code",
   "execution_count": null,
   "metadata": {},
   "outputs": [],
   "source": []
  },
  {
   "cell_type": "code",
   "execution_count": 2,
   "metadata": {},
   "outputs": [
    {
     "name": "stdout",
     "output_type": "stream",
     "text": [
      ". storage markets.json\n",
      ".\\storage\\markets.json was deserialized!\n"
     ]
    },
    {
     "data": {
      "text/plain": [
       "{'name': 'Eyelashes',\n",
       " 'directory': 'E:\\\\glitter\\\\Eyelashes',\n",
       " 'lid': 'eyelash@glittergroupcn.com',\n",
       " 'lpwd': 'Wangzhen68970747',\n",
       " 'homepage': 'https://glittereyelash.en.alibaba.com',\n",
       " 'lname': 'Jeremy Wang',\n",
       " 'mobile': '17685593100',\n",
       " 'accounts': [{'lid': 'eyelash1@glittergroupcn.com',\n",
       "   'lpwd': 'Zhangying25160',\n",
       "   'lname': 'Emily Zhang',\n",
       "   'mobile': '17685593100',\n",
       "   'disabled': False},\n",
       "  {'lid': 'eyelash2@glittergroupcn.com',\n",
       "   'lpwd': 'Huyinping18130',\n",
       "   'lname': 'Ada Alva',\n",
       "   'mobile': '18563918130',\n",
       "   'disabled': False}]}"
      ]
     },
     "execution_count": 2,
     "metadata": {},
     "output_type": "execute_result"
    }
   ],
   "source": [
    "market = JSON.deserialize('.', 'storage', 'markets.json')['Eyelashes']\n",
    "market"
   ]
  },
  {
   "cell_type": "code",
   "execution_count": 3,
   "metadata": {},
   "outputs": [
    {
     "name": "stdout",
     "output_type": "stream",
     "text": [
      "{'lid': 'eyelash2@glittergroupcn.com', 'lpwd': 'Huyinping18130', 'lname': 'Ada Alva', 'mobile': '18563918130', 'disabled': False}\n",
      "E:\\glitter\\Eyelashes_config [] inquiry_tracking_ids_Ada.json\n",
      "E:\\glitter\\Eyelashes_config\\inquiry_tracking_ids_Ada.json was deserialized!\n"
     ]
    }
   ],
   "source": [
    "account = market['accounts'][1]\n",
    "print(account)\n",
    "inquiry = Inquiry(market, account, headless=False)"
   ]
  },
  {
   "cell_type": "code",
   "execution_count": 3,
   "metadata": {},
   "outputs": [
    {
     "name": "stdout",
     "output_type": "stream",
     "text": [
      "E:\\glitter\\Tools_config [] inquiry_tracking_ids_Jessica.json\n",
      "E:\\glitter\\Tools_config\\inquiry_tracking_ids_Jessica.json was deserialized!\n",
      "primary 打开网址：https://i.alibaba.com\n",
      "primary 等待登陆页面加载 ... ...\n",
      "primary 输入登录信息， 并登录\n",
      "success 成功 登录 阿里巴巴 国际站！用户名：Jessica\n"
     ]
    }
   ],
   "source": [
    "inquiry = Inquiry(market, headless=False)"
   ]
  },
  {
   "cell_type": "code",
   "execution_count": 4,
   "metadata": {},
   "outputs": [
    {
     "name": "stdout",
     "output_type": "stream",
     "text": [
      "primary 打开网址：https://i.alibaba.com\n",
      "primary 等待登陆页面加载 ... ...\n",
      "primary 输入登录信息， 并登录\n",
      "success 成功 登录 阿里巴巴 国际站！用户名：Ada\n"
     ]
    }
   ],
   "source": [
    "inquiry.login()"
   ]
  },
  {
   "cell_type": "code",
   "execution_count": null,
   "metadata": {},
   "outputs": [],
   "source": []
  },
  {
   "cell_type": "code",
   "execution_count": 11,
   "metadata": {},
   "outputs": [],
   "source": [
    "def is_auto_reply_needed(self, enquiry):\n",
    "    eid = enquiry['id']\n",
    "     # for testing purpose\n",
    "    if enquiry['id'] == '11958581089':\n",
    "        self.tracking_ids[eid] = {}\n",
    "        self.tracking_ids[eid]['datetime'] = pendulum.now()\n",
    "        self.tracking_ids[eid]['status'] = ['new']\n",
    "        self.save_tracking_ids()\n",
    "        return True\n",
    "    else:\n",
    "        return False\n",
    "#     print('==------------------------------------------------------==')\n",
    "#     print(self.lname.lower(), enquiry['responsible_person'].lower())\n",
    "#     if enquiry['responsible_person'].lower() != self.lname.lower():\n",
    "#         return False\n",
    "\n",
    "#     if eid in self.tracking_ids and self.tracking_ids[eid]['datetime'].diff().in_hours() <= 12:\n",
    "#         if not enquiry['is_replied']:\n",
    "#             return True\n",
    "#     if len(enquiry['tags']) == 0 and enquiry['is_new']:\n",
    "#         if eid not in self.tracking_ids:\n",
    "#             self.tracking_ids[eid] = {}\n",
    "#             self.tracking_ids[eid]['datetime'] = pendulum.now()\n",
    "#             self.tracking_ids[eid]['status'] = ['new']\n",
    "#             self.save_tracking_ids()\n",
    "#         return True\n",
    "#     return False\n",
    "inquiry.is_auto_reply_needed = types.MethodType(is_auto_reply_needed, inquiry)"
   ]
  },
  {
   "cell_type": "code",
   "execution_count": 12,
   "metadata": {},
   "outputs": [],
   "source": [
    "def check(self):\n",
    "#     self.load_url()\n",
    "\n",
    "    self.load_tracking_ids()\n",
    "\n",
    "    time.sleep(0.1)\n",
    "    inquiries = self.get_inquiries()\n",
    "\n",
    "    for enquiry in inquiries:\n",
    "        if not self.is_auto_reply_needed(enquiry):\n",
    "            continue\n",
    "\n",
    "        print('enquiry ' + enquiry['id'] + ' reply is needed')\n",
    "        self.reply(enquiry)\n",
    "inquiry.check = types.MethodType(check, inquiry)"
   ]
  },
  {
   "cell_type": "code",
   "execution_count": null,
   "metadata": {},
   "outputs": [],
   "source": [
    "inquiry.webww_send_message = types.MethodType(webww_send_message, inquiry)"
   ]
  },
  {
   "cell_type": "code",
   "execution_count": 4,
   "metadata": {},
   "outputs": [
    {
     "name": "stdout",
     "output_type": "stream",
     "text": [
      "primary 打开网址：https://i.alibaba.com\n",
      "primary 等待登陆页面加载 ... ...\n",
      "primary 输入登录信息， 并登录\n",
      "success 成功 登录 阿里巴巴 国际站！用户名：Ada\n"
     ]
    }
   ],
   "source": [
    "inquiry.login()"
   ]
  },
  {
   "cell_type": "code",
   "execution_count": null,
   "metadata": {},
   "outputs": [],
   "source": [
    "inquiry.browser.switch_to.default_content()"
   ]
  },
  {
   "cell_type": "code",
   "execution_count": 7,
   "metadata": {},
   "outputs": [],
   "source": [
    "inquiry.load_url()"
   ]
  },
  {
   "cell_type": "code",
   "execution_count": 8,
   "metadata": {},
   "outputs": [
    {
     "name": "stdout",
     "output_type": "stream",
     "text": [
      "there is no new messages.\n"
     ]
    }
   ],
   "source": [
    "threads = inquiry.webww_check()"
   ]
  },
  {
   "cell_type": "code",
   "execution_count": null,
   "metadata": {},
   "outputs": [],
   "source": [
    "dialog_iframe = inquiry.browser.find_element_by_css_selector('#webatm2-iframe')\n",
    "inquiry.browser.switch_to.frame(dialog_iframe)\n",
    "sidebar = inquiry.browser.find_ele.ment_by_css_selector('.webatm2-sidebar')\n",
    "head = inquiry.browser.find_element_by_css_selector('.webatm2-window-head')\n",
    "body = inquiry.browser.find_element_by_css_selector('.webatm2-window-body')\n"
   ]
  },
  {
   "cell_type": "code",
   "execution_count": null,
   "metadata": {},
   "outputs": [],
   "source": [
    "thread = threads[0]\n",
    "thread"
   ]
  },
  {
   "cell_type": "code",
   "execution_count": null,
   "metadata": {},
   "outputs": [],
   "source": [
    "inquiry.webww_switch_to_thread(threads[1], sidebar, head, body)"
   ]
  },
  {
   "cell_type": "code",
   "execution_count": null,
   "metadata": {},
   "outputs": [],
   "source": [
    "inquiry.browser.switch_to.default_content()"
   ]
  },
  {
   "cell_type": "code",
   "execution_count": null,
   "metadata": {},
   "outputs": [],
   "source": [
    "for t in threads:\n",
    "    inquiry.webww_switch_to_thread(t, sidebar, head, body)"
   ]
  },
  {
   "cell_type": "code",
   "execution_count": null,
   "metadata": {},
   "outputs": [],
   "source": [
    "not {}"
   ]
  },
  {
   "cell_type": "code",
   "execution_count": null,
   "metadata": {},
   "outputs": [],
   "source": []
  },
  {
   "cell_type": "code",
   "execution_count": null,
   "metadata": {},
   "outputs": [],
   "source": []
  },
  {
   "cell_type": "code",
   "execution_count": null,
   "metadata": {},
   "outputs": [],
   "source": [
    "inquiry.load_reply_templates()"
   ]
  },
  {
   "cell_type": "code",
   "execution_count": null,
   "metadata": {},
   "outputs": [],
   "source": [
    "inquiry.reply_templates"
   ]
  },
  {
   "cell_type": "code",
   "execution_count": null,
   "metadata": {},
   "outputs": [],
   "source": []
  },
  {
   "cell_type": "code",
   "execution_count": null,
   "metadata": {},
   "outputs": [],
   "source": [
    "def get_inquiries(self):\n",
    "    html = pq(self.browser.page_source)\n",
    "    inquiry_list = html.find('.ui2-list-body .aui2-grid-wraper')\n",
    "    inquiries = []\n",
    "    for elem in inquiry_list:\n",
    "        div = pq(elem)\n",
    "        item = {}\n",
    "        item['url'] = div.find('a').attr('href')\n",
    "        text = div.find('div.spec-inquiry-id').text().strip()\n",
    "        item['id'] = re.search('(\\d+)', text).group(1)\n",
    "        item['date'] = div.find('div.spec-inquiry-id+div').text().strip()\n",
    "        item['tags'] = []\n",
    "        for span in div.find('div.aui-tags span'):\n",
    "            item['tags'].append(pq(span).text())\n",
    "        item['is_replied'] = True if div.find('td:nth-child(2) i[title=\"已回复\"]') else False\n",
    "        item['title'] = div.find('td:nth-child(3)').text()\n",
    "        item['buyer'] = div.find('td:nth-child(4)').text().strip()\n",
    "        item['is_buyer_online'] = True if div.find('td:nth-child(5) div.atm-online') else False\n",
    "        text = div.find('td:nth-child(6) i').attr('title')\n",
    "        try:\n",
    "            item['buyer_country'] = re.sub(' \\[.*\\]', '', text)\n",
    "            item['buyer_local_time'] = re.search('\\[Local Time: (.*)\\]', text).group(1)\n",
    "        except AttributeError:\n",
    "            item['buyer_country'] = text\n",
    "            item['buyer_local_time'] = None\n",
    "        item['responsible_person'] = div.find('td:nth-child(7)').text()\n",
    "        item['status'] = div.find('td:nth-child(8)').text()\n",
    "        if '新询盘' in item['status'] or 'New Inquiry' in item['status']:\n",
    "            item['is_new'] = True\n",
    "        else:\n",
    "            item['is_new'] = False\n",
    "        inquiries.append(item)\n",
    "    return inquiries\n",
    "\n",
    "inquiry.get_inquiries = types.MethodType(get_inquiries, inquiry)"
   ]
  },
  {
   "cell_type": "code",
   "execution_count": 12,
   "metadata": {},
   "outputs": [],
   "source": [
    "def send_message(self, message, attach=None):\n",
    "    chat_form = self.browser.find_element_by_css_selector('form.reply-wrapper')\n",
    "    chat_form.find_element_by_css_selector('div.holder').click()\n",
    "\n",
    "    uploading_failed = False\n",
    "    if attach:\n",
    "        file_input = self.browser.find_element_by_css_selector('input#attachs')\n",
    "        file_input.send_keys(attach)\n",
    "\n",
    "        css = 'div.next-upload-list-item:last-child'\n",
    "        div = WebDriverWait(self.browser, 15).until(\n",
    "            EC.presence_of_element_located((By.CSS_SELECTOR, css)))\n",
    "        try:\n",
    "            WebDriverWait(self.browser, 150).until(\n",
    "                element_has_css_class(div, 'next-upload-list-item-done'))\n",
    "        except TimeoutException:\n",
    "            print('time out, cancel uploading')\n",
    "            div.find_element_by_css_selector('i.next-icon-close').click()\n",
    "            uploading_failed = True\n",
    "\n",
    "    if uploading_failed:\n",
    "        return False\n",
    "\n",
    "    # if uploading_failed or attach is None:\n",
    "    #     doc = pq(message)\n",
    "    #     doc.find('span.attach').remove()\n",
    "    #     message = doc.outer_html()\n",
    "\n",
    "    WebDriverWait(self.browser, 15).until(\n",
    "        EC.frame_to_be_available_and_switch_to_it((By.CSS_SELECTOR, '#inquiry-content_ifr')))\n",
    "    body = self.browser.find_element_by_tag_name('body')\n",
    "    self.click(body)\n",
    "\n",
    "    js = self.reply_js_template.format(message=message)\n",
    "    self.browser.execute_script(js)\n",
    "    self.browser.switch_to.default_content()\n",
    "\n",
    "    time.sleep(1)\n",
    "\n",
    "    btn_send = chat_form.find_element_by_css_selector('button.send')\n",
    "    btn_send.click()\n",
    "    \n",
    "    return True\n",
    "\n",
    "inquiry.send_message = types.MethodType(send_message, inquiry)"
   ]
  },
  {
   "cell_type": "code",
   "execution_count": 9,
   "metadata": {},
   "outputs": [],
   "source": [
    "def reply(self, enquiry):\n",
    "    try:\n",
    "        self.open_inquiry_in_new_tab(enquiry)\n",
    "        conversation = self.get_conversation()\n",
    "\n",
    "        messages = conversation['messages']\n",
    "        buyer = conversation['buyer']\n",
    "\n",
    "        last_buyer_messages = []\n",
    "        is_replied = False\n",
    "        reply_count = 0\n",
    "        for msg in messages:\n",
    "            if msg['position'] == 'left':\n",
    "                last_buyer_messages.append(msg)\n",
    "                is_replied = False\n",
    "            elif msg['position'] == 'right' and 'Seller Assistant' not in msg['user']:\n",
    "                last_buyer_messages = []\n",
    "                is_replied = True\n",
    "                reply_count += 1\n",
    "\n",
    "        # check if email address is already exists in conversation\n",
    "        text = ''\n",
    "        for msg in last_buyer_messages:\n",
    "            text = text + '\\n\\n ' + msg['content']\n",
    "        emails = re.findall('([a-zA-Z0-9_.+-]+@[a-zA-Z0-9-]+\\.[a-zA-Z0-9-.]+)', text)\n",
    "\n",
    "        if buyer['email']:\n",
    "            emails.append(buyer['email'])\n",
    "\n",
    "        eid = enquiry['id']\n",
    "        tracking = self.tracking_ids[eid]\n",
    "        last_status = tracking['status'][-1]\n",
    "        greetings = '<p>Pleased to hear from you.</p><br>'\n",
    "        if last_status == 'new':\n",
    "            if emails:\n",
    "                mime_message = Email.message_of_product_catalog(self.market, self.account, buyer['name'])\n",
    "#                 if Email.send(self.account, emails, mime_message):\n",
    "                if True:\n",
    "                    params = {'buyer': buyer['name'], 'greetings': greetings, 'email': ','.join(emails), 'sender': self.lname}\n",
    "                    message = self.reply_templates['notify_catalog_was_sent'].substitute(params)\n",
    "                    if self.send_message(message, self.catalog):\n",
    "                        tracking['status'].append('catalog was sent by email')\n",
    "                        self.save_tracking_ids()\n",
    "                    else:\n",
    "                        tracking['status'].append('catalog was sent by email, but reply was failed')\n",
    "                        self.save_tracking_ids()\n",
    "            else:\n",
    "                params = {'buyer': buyer['name'], 'greetings': greetings, 'sender': self.lname}\n",
    "                message = self.reply_templates['notify_first_reply_without_email'].substitute(params)\n",
    "                if self.send_message(message, self.catalog):\n",
    "                    tracking['status'].append('catalog was sent directly')\n",
    "                    self.save_tracking_ids()\n",
    "        elif 'catalog was sent' in last_status and 'reply was failed' in last_status:\n",
    "            if is_replied:\n",
    "                tracking['status'].append('catalog was sent by email')\n",
    "                self.save_tracking_ids()\n",
    "            else:\n",
    "                params = {'buyer': buyer['name'], 'greetings': greetings, 'email': ','.join(emails), 'sender': self.lname}\n",
    "                message = self.reply_templates['notify_catalog_was_sent'].substitute(params)\n",
    "                if self.send_message(message, self.catalog):\n",
    "                    tracking['status'].append('catalog was sent by email')\n",
    "                    self.save_tracking_ids()\n",
    "\n",
    "        elif 'catalog was sent' in last_status:\n",
    "            pass\n",
    "        elif 'wait for email address' in last_status:\n",
    "            text = ''\n",
    "            for msg in last_buyer_messages:\n",
    "                text = text + '\\n\\n ' + msg['content']\n",
    "            emails = re.findall('([a-zA-Z0-9_.+-]+@[a-zA-Z0-9-]+\\.[a-zA-Z0-9-.]+)', text)\n",
    "            print(emails)\n",
    "            if emails:\n",
    "                tracking['emails'] = emails\n",
    "                self.save_tracking_ids()\n",
    "                mime_message = Email.message_of_product_catalog(self.market, self.account, buyer['name'])\n",
    "                if Email.send(self.account, emails, mime_message):\n",
    "                    params = {'buyer': buyer['name'], 'greetings': '', 'email': ', '.join(emails),\n",
    "                              'sender': self.lname}\n",
    "                    message = self.reply_templates['notify_catalog_was_sent'].substitute(params)\n",
    "                    if self.send_message(message, self.catalog):\n",
    "                        tracking['status'].append('catalog was sent by email')\n",
    "                        self.save_tracking_ids()\n",
    "    except Exception as e:\n",
    "        self.notify(\"danger\", '回复 询盘 [' + enquiry['id'] + '] 时 发生错误! ' + str(e))\n",
    "        traceback.print_exc()\n",
    "    finally:\n",
    "        self.close_inquiry_and_switch_back()\n",
    "inquiry.reply = types.MethodType(reply, inquiry)"
   ]
  },
  {
   "cell_type": "code",
   "execution_count": null,
   "metadata": {},
   "outputs": [],
   "source": [
    "inquiry.load_url()\n",
    "time.sleep(0.1)"
   ]
  },
  {
   "cell_type": "code",
   "execution_count": 8,
   "metadata": {},
   "outputs": [],
   "source": [
    "inquiries = inquiry.get_inquiries()"
   ]
  },
  {
   "cell_type": "code",
   "execution_count": 9,
   "metadata": {
    "scrolled": true
   },
   "outputs": [
    {
     "data": {
      "text/plain": [
       "{'url': '/message/default.htm?imInquiryId=11958581089#feedback/detail/all/11958581089/11958581089/MC1IDX16XNN9q7nnmz0g1vfwMyNCff-sNo_C3FMnDVkvMPrVIUe3akiwBDyqCqJsRNlh7Wp/',\n",
       " 'id': '11958581089',\n",
       " 'date': '2018-7-23',\n",
       " 'tags': [],\n",
       " 'is_replied': True,\n",
       " 'title': 'I want to buy the product you are selling on Alibaba.com.',\n",
       " 'buyer': 'prestl bernhard',\n",
       " 'is_buyer_online': False,\n",
       " 'buyer_country': 'United States',\n",
       " 'buyer_local_time': '01: 57 Sun Sep 02',\n",
       " 'responsible_person': 'Ada Alva',\n",
       " 'status': '洽谈中',\n",
       " 'is_new': False}"
      ]
     },
     "execution_count": 9,
     "metadata": {},
     "output_type": "execute_result"
    }
   ],
   "source": [
    "enquiry = inquiries[1]\n",
    "enquiry"
   ]
  },
  {
   "cell_type": "code",
   "execution_count": null,
   "metadata": {},
   "outputs": [],
   "source": [
    "inquiry.is_auto_reply_needed(enquiry)"
   ]
  },
  {
   "cell_type": "code",
   "execution_count": null,
   "metadata": {},
   "outputs": [],
   "source": [
    "inquiry.reply(enquiry)"
   ]
  },
  {
   "cell_type": "code",
   "execution_count": null,
   "metadata": {},
   "outputs": [],
   "source": []
  },
  {
   "cell_type": "code",
   "execution_count": null,
   "metadata": {},
   "outputs": [],
   "source": [
    "inquiry.account"
   ]
  },
  {
   "cell_type": "code",
   "execution_count": null,
   "metadata": {},
   "outputs": [],
   "source": [
    "inquiry.load_reply_templates()\n",
    "inquiry.reply_templates['notify_first_reply_without_email']"
   ]
  },
  {
   "cell_type": "code",
   "execution_count": null,
   "metadata": {},
   "outputs": [],
   "source": [
    "inquiry.tracking_ids['11947313067']['status'] = ['new']\n",
    "inquiry.tracking_ids"
   ]
  },
  {
   "cell_type": "code",
   "execution_count": null,
   "metadata": {},
   "outputs": [],
   "source": [
    "inquiry.check()"
   ]
  },
  {
   "cell_type": "code",
   "execution_count": 4,
   "metadata": {},
   "outputs": [
    {
     "name": "stdout",
     "output_type": "stream",
     "text": [
      "primary 打开网址：https://i.alibaba.com\n",
      "primary 等待登陆页面加载 ... ...\n",
      "primary 输入登录信息， 并登录\n",
      "success 成功 登录 阿里巴巴 国际站！用户名：Ada\n",
      "E:\\glitter\\Eyelashes_config [] inquiry_tracking_ids_Ada.json\n",
      "E:\\glitter\\Eyelashes_config\\inquiry_tracking_ids_Ada.json was deserialized!\n",
      "==------------------------------------------------------==\n",
      "ada alva ada alva\n",
      "E:\\glitter\\Eyelashes_config\\inquiry_tracking_ids_Ada.json was serialized!\n",
      "enquiry 100736482361 reply is needed\n",
      "邮件发送成功！\n",
      "E:\\glitter\\Eyelashes_config\\inquiry_tracking_ids_Ada.json was serialized!\n",
      "==------------------------------------------------------==\n",
      "ada alva ada alva\n",
      "==------------------------------------------------------==\n",
      "ada alva ada alva\n",
      "==------------------------------------------------------==\n",
      "ada alva ada alva\n",
      "==------------------------------------------------------==\n",
      "ada alva ada alva\n",
      "==------------------------------------------------------==\n",
      "ada alva ada alva\n",
      "==------------------------------------------------------==\n",
      "ada alva ada alva\n",
      "==------------------------------------------------------==\n",
      "ada alva ada alva\n",
      "==------------------------------------------------------==\n",
      "ada alva ada alva\n",
      "==------------------------------------------------------==\n",
      "ada alva ada alva\n",
      "==------------------------------------------------------==\n",
      "ada alva ada alva\n",
      "==------------------------------------------------------==\n",
      "ada alva ada alva\n",
      "==------------------------------------------------------==\n",
      "ada alva ada alva\n",
      "==------------------------------------------------------==\n",
      "ada alva ada alva\n",
      "==------------------------------------------------------==\n",
      "ada alva ada alva\n",
      "==------------------------------------------------------==\n",
      "ada alva ada alva\n",
      "==------------------------------------------------------==\n",
      "ada alva ada alva\n",
      "==------------------------------------------------------==\n",
      "ada alva ada alva\n",
      "==------------------------------------------------------==\n",
      "ada alva ada alva\n",
      "==------------------------------------------------------==\n",
      "ada alva ada alva\n"
     ]
    }
   ],
   "source": [
    "inquiry.check()"
   ]
  },
  {
   "cell_type": "code",
   "execution_count": null,
   "metadata": {},
   "outputs": [],
   "source": [
    "inquiry.tracking_ids"
   ]
  },
  {
   "cell_type": "code",
   "execution_count": null,
   "metadata": {},
   "outputs": [],
   "source": [
    "inquiry.close_inquiry_and_switch_back()"
   ]
  },
  {
   "cell_type": "code",
   "execution_count": null,
   "metadata": {},
   "outputs": [],
   "source": [
    "inquiry.load_find_catalog()"
   ]
  },
  {
   "cell_type": "code",
   "execution_count": null,
   "metadata": {},
   "outputs": [],
   "source": [
    "inquiry.catalog"
   ]
  },
  {
   "cell_type": "code",
   "execution_count": null,
   "metadata": {},
   "outputs": [],
   "source": [
    "market = JSON.deserialize('.', 'storage', 'markets.json')['Eyelashes']\n",
    "inquiry = Inquiry(market)"
   ]
  },
  {
   "cell_type": "code",
   "execution_count": null,
   "metadata": {
    "scrolled": true
   },
   "outputs": [],
   "source": [
    "emails = ['changshu.qd@gmail.com', 'odingdongo@hotmail.com']\n",
    "mime_message = Email.message_of_product_catalog(inquiry.market, inquiry.account, 'prestl bernhard')\n",
    "Email.send(inquiry.account, emails, mime_message)"
   ]
  },
  {
   "cell_type": "code",
   "execution_count": null,
   "metadata": {},
   "outputs": [],
   "source": [
    "inquiry.account"
   ]
  },
  {
   "cell_type": "code",
   "execution_count": null,
   "metadata": {},
   "outputs": [],
   "source": []
  },
  {
   "cell_type": "code",
   "execution_count": null,
   "metadata": {},
   "outputs": [],
   "source": [
    "enquiry = inquiries[8]\n",
    "enquiry"
   ]
  },
  {
   "cell_type": "code",
   "execution_count": null,
   "metadata": {},
   "outputs": [],
   "source": []
  },
  {
   "cell_type": "code",
   "execution_count": null,
   "metadata": {},
   "outputs": [],
   "source": [
    "enquiry = inquiries[8]\n",
    "inquiry.open_inquiry_in_new_tab(enquiry)\n",
    "conversation = inquiry.get_conversation()\n",
    "inquiry.close_inquiry_and_switch_back()\n",
    "messages = conversation['messages']\n",
    "buyer = conversation['buyer']\n",
    "messages"
   ]
  },
  {
   "cell_type": "code",
   "execution_count": null,
   "metadata": {},
   "outputs": [],
   "source": [
    "enquiry = inquiries[8]\n",
    "enquiry"
   ]
  },
  {
   "cell_type": "code",
   "execution_count": null,
   "metadata": {},
   "outputs": [],
   "source": []
  },
  {
   "cell_type": "code",
   "execution_count": null,
   "metadata": {},
   "outputs": [],
   "source": [
    "# inquiry.load_tracking_ids()\n",
    "inquiry.tracking_ids"
   ]
  },
  {
   "cell_type": "code",
   "execution_count": null,
   "metadata": {},
   "outputs": [],
   "source": [
    "inquiry.close_inquiry_and_switch_back()"
   ]
  },
  {
   "cell_type": "code",
   "execution_count": null,
   "metadata": {
    "scrolled": true
   },
   "outputs": [],
   "source": [
    "# inquiry.close_inquiry_and_switch_back()\n",
    "# inquiry.tracking_ids['11947313067']['status'] = ['new']\n",
    "enquiry = inquiries[0]\n",
    "inquiry.reply(enquiry)"
   ]
  },
  {
   "cell_type": "code",
   "execution_count": null,
   "metadata": {},
   "outputs": [],
   "source": [
    "inquiry.tracking_ids"
   ]
  },
  {
   "cell_type": "code",
   "execution_count": null,
   "metadata": {},
   "outputs": [],
   "source": []
  },
  {
   "cell_type": "code",
   "execution_count": null,
   "metadata": {},
   "outputs": [],
   "source": []
  },
  {
   "cell_type": "code",
   "execution_count": null,
   "metadata": {},
   "outputs": [],
   "source": []
  },
  {
   "cell_type": "code",
   "execution_count": null,
   "metadata": {},
   "outputs": [],
   "source": [
    "def try_login_webww():\n",
    "    btn_login = WebDriverWait(inquiry.browser, 15).until(EC.visibility_of_element_located((By.CSS_SELECTOR, '#webatm2-iconbar')))\n",
    "    btn_login.click()"
   ]
  },
  {
   "cell_type": "code",
   "execution_count": null,
   "metadata": {},
   "outputs": [],
   "source": [
    "panel = inquiry.browser.find_element_by_css_selector('#webatm2-panel')"
   ]
  },
  {
   "cell_type": "code",
   "execution_count": null,
   "metadata": {},
   "outputs": [],
   "source": [
    "inquiries[11]"
   ]
  },
  {
   "cell_type": "code",
   "execution_count": null,
   "metadata": {},
   "outputs": [],
   "source": []
  },
  {
   "cell_type": "code",
   "execution_count": null,
   "metadata": {},
   "outputs": [],
   "source": []
  },
  {
   "cell_type": "code",
   "execution_count": null,
   "metadata": {},
   "outputs": [],
   "source": []
  },
  {
   "cell_type": "code",
   "execution_count": null,
   "metadata": {},
   "outputs": [],
   "source": []
  },
  {
   "cell_type": "code",
   "execution_count": null,
   "metadata": {},
   "outputs": [],
   "source": []
  },
  {
   "cell_type": "code",
   "execution_count": null,
   "metadata": {},
   "outputs": [],
   "source": []
  },
  {
   "cell_type": "code",
   "execution_count": null,
   "metadata": {},
   "outputs": [],
   "source": [
    "re.findall('([a-zA-Z0-9_.+-]+@[a-zA-Z0-9-]+\\.[a-zA-Z0-9-.]+)', text)"
   ]
  },
  {
   "cell_type": "code",
   "execution_count": null,
   "metadata": {},
   "outputs": [],
   "source": [
    "inquiry.browser.save_screenshot(\"screenshot.png\")"
   ]
  },
  {
   "cell_type": "code",
   "execution_count": null,
   "metadata": {
    "scrolled": true
   },
   "outputs": [],
   "source": []
  },
  {
   "cell_type": "code",
   "execution_count": null,
   "metadata": {},
   "outputs": [],
   "source": []
  },
  {
   "cell_type": "code",
   "execution_count": null,
   "metadata": {},
   "outputs": [],
   "source": []
  },
  {
   "cell_type": "code",
   "execution_count": null,
   "metadata": {},
   "outputs": [],
   "source": []
  },
  {
   "cell_type": "code",
   "execution_count": null,
   "metadata": {},
   "outputs": [],
   "source": []
  },
  {
   "cell_type": "code",
   "execution_count": null,
   "metadata": {},
   "outputs": [],
   "source": [
    "text = 'Inquiry ID：100708962003'"
   ]
  },
  {
   "cell_type": "code",
   "execution_count": null,
   "metadata": {},
   "outputs": [],
   "source": [
    "text = '询价单号：100708962003'"
   ]
  },
  {
   "cell_type": "code",
   "execution_count": null,
   "metadata": {},
   "outputs": [],
   "source": [
    "re.search('(\\d+)', text).group(1)"
   ]
  },
  {
   "cell_type": "code",
   "execution_count": null,
   "metadata": {},
   "outputs": [],
   "source": [
    "text"
   ]
  },
  {
   "cell_type": "code",
   "execution_count": null,
   "metadata": {},
   "outputs": [],
   "source": []
  },
  {
   "cell_type": "code",
   "execution_count": null,
   "metadata": {},
   "outputs": [],
   "source": []
  },
  {
   "cell_type": "code",
   "execution_count": null,
   "metadata": {},
   "outputs": [],
   "source": []
  },
  {
   "cell_type": "code",
   "execution_count": null,
   "metadata": {},
   "outputs": [],
   "source": [
    "msg = 'ldskfjsl'\n",
    "js = \"document.querySelector('.webatm2-window-body .webatm2-editor-body').innerHTML = `{message}`;\"\n",
    "js.format(message=msg)"
   ]
  },
  {
   "cell_type": "code",
   "execution_count": null,
   "metadata": {},
   "outputs": [],
   "source": [
    "from string import Template"
   ]
  },
  {
   "cell_type": "code",
   "execution_count": null,
   "metadata": {},
   "outputs": [],
   "source": [
    "params = {'salutation': 'chang', 'link': 'link', 'sender': 'shu'}\n",
    "templ = Template('$salutation, lsdkfjlskf. $sender')\n",
    "msg = templ.substitute(params)"
   ]
  },
  {
   "cell_type": "code",
   "execution_count": null,
   "metadata": {},
   "outputs": [],
   "source": [
    "msg"
   ]
  },
  {
   "cell_type": "code",
   "execution_count": null,
   "metadata": {},
   "outputs": [],
   "source": []
  },
  {
   "cell_type": "code",
   "execution_count": null,
   "metadata": {},
   "outputs": [],
   "source": []
  },
  {
   "cell_type": "code",
   "execution_count": null,
   "metadata": {},
   "outputs": [],
   "source": []
  }
 ],
 "metadata": {
  "kernelspec": {
   "display_name": "Python 3",
   "language": "python",
   "name": "python3"
  },
  "language_info": {
   "codemirror_mode": {
    "name": "ipython",
    "version": 3
   },
   "file_extension": ".py",
   "mimetype": "text/x-python",
   "name": "python",
   "nbconvert_exporter": "python",
   "pygments_lexer": "ipython3",
   "version": "3.6.6"
  }
 },
 "nbformat": 4,
 "nbformat_minor": 2
}
