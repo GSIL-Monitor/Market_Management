{
 "cells": [
  {
   "cell_type": "code",
   "execution_count": 1,
   "metadata": {},
   "outputs": [],
   "source": [
    "from libs.alibaba.alibaba import Alibaba\n",
    "from libs.alibaba.inquiry import Inquiry\n",
    "from libs.alibaba.inquiry import element_has_css_class\n",
    "from libs.email import Email\n",
    "from libs.json import JSON\n",
    "\n",
    "from selenium import webdriver\n",
    "from selenium.webdriver.common.keys import Keys\n",
    "from selenium.webdriver.support.ui import WebDriverWait\n",
    "from selenium.webdriver.support import expected_conditions as EC\n",
    "from selenium.common.exceptions import WebDriverException\n",
    "from selenium.common.exceptions import NoSuchElementException\n",
    "from selenium.common.exceptions import TimeoutException\n",
    "from selenium.common.exceptions import ElementNotVisibleException\n",
    "from selenium.common.exceptions import StaleElementReferenceException\n",
    "from selenium.webdriver.common.by import By\n",
    "from selenium.webdriver.common.action_chains import ActionChains\n",
    "\n",
    "from string import Template\n",
    "from datetime import datetime\n",
    "from bs4 import BeautifulSoup\n",
    "from pyquery import PyQuery as pq\n",
    "\n",
    "import json\n",
    "import requests\n",
    "import time\n",
    "import re\n",
    "import math\n",
    "\n",
    "import types\n",
    "import traceback\n",
    "import threading\n",
    "\n",
    "import pendulum\n",
    "\n",
    "import logging\n",
    "from logging.handlers import TimedRotatingFileHandler"
   ]
  },
  {
   "cell_type": "code",
   "execution_count": 2,
   "metadata": {},
   "outputs": [
    {
     "name": "stdout",
     "output_type": "stream",
     "text": [
      ". storage markets.json\n",
      ".\\storage\\markets.json was deserialized!\n"
     ]
    },
    {
     "data": {
      "text/plain": [
       "{'name': 'Eyelashes',\n",
       " 'directory': 'E:\\\\glitter\\\\Eyelashes',\n",
       " 'lid': 'eyelash@glittergroupcn.com',\n",
       " 'lpwd': 'Wangzhen68970747',\n",
       " 'homepage': 'https://glittereyelash.en.alibaba.com',\n",
       " 'lname': 'Jeremy Wang',\n",
       " 'accounts': [{'lid': 'eyelash1@glittergroupcn.com',\n",
       "   'lpwd': 'Wangqingxia7696',\n",
       "   'lname': 'Helen Wang',\n",
       "   'disabled': True}]}"
      ]
     },
     "execution_count": 2,
     "metadata": {},
     "output_type": "execute_result"
    }
   ],
   "source": [
    "market = JSON.deserialize('.', 'storage', 'markets.json')['Eyelashes']\n",
    "market"
   ]
  },
  {
   "cell_type": "code",
   "execution_count": 3,
   "metadata": {},
   "outputs": [
    {
     "name": "stdout",
     "output_type": "stream",
     "text": [
      "E:\\glitter\\Eyelashes_config [] inquiry_tracking_ids_Jeremy.json\n",
      "E:\\glitter\\Eyelashes_config\\inquiry_tracking_ids_Jeremy.json was deserialized!\n"
     ]
    }
   ],
   "source": [
    "inquiry = Inquiry(market)\n",
    "# inquiry.login()"
   ]
  },
  {
   "cell_type": "code",
   "execution_count": null,
   "metadata": {},
   "outputs": [],
   "source": []
  },
  {
   "cell_type": "code",
   "execution_count": 114,
   "metadata": {},
   "outputs": [],
   "source": [
    "def webww_check(self):\n",
    "    # try to login\n",
    "    icon = WebDriverWait(self.browser, 15).until(EC.visibility_of_element_located((By.CSS_SELECTOR, '#webatm2-iconbar')))\n",
    "    container = self.browser.find_element_by_css_selector('#webww-contacts')\n",
    "    dialog_iframe = self.browser.find_element_by_css_selector('#webatm2-iframe')\n",
    "    while True:\n",
    "        icon.click()\n",
    "        WebDriverWait(self.browser, 15).until(EC.invisibility_of_element_located((By.CSS_SELECTOR, '#webww-contacts .webatm2-tips')))\n",
    "        confirm = self.browser.find_element_by_css_selector('#webww-contacts .webatm2-confirm')\n",
    "        if confirm.is_displayed():\n",
    "            # failed login, cancel checking\n",
    "            print('Trade Manager has been loged in somewhere else, cancel checking')\n",
    "            close_btn = confirm.find_element_by_css_selector('span.webatm2-confirm-close')\n",
    "            close_btn.click()\n",
    "            return\n",
    "        \n",
    "        if 'show-panel' in container.get_attribute('class'):\n",
    "            break\n",
    "    \n",
    "    panel = WebDriverWait(self.browser, 15).until(\n",
    "        EC.visibility_of_element_located((By.CSS_SELECTOR, '#webatm2-panel')))\n",
    "    # after login\n",
    "    \n",
    "    # open dialog\n",
    "    tab_sysmsg = panel.find_element_by_css_selector('div.tab-sysmsg')\n",
    "    tab_sysmsg.click()\n",
    "    panel.find_element_by_css_selector('.panel-sysmsg.active a').click()\n",
    "    WebDriverWait(self.browser, 15).until(EC.visibility_of_element_located((By.CSS_SELECTOR, '#webatm2-dialog')))\n",
    "    \n",
    "    # switch to iframe and navigate to recent threads\n",
    "    self.browser.switch_to.frame(dialog_iframe)\n",
    "    sidebar = self.browser.find_element_by_css_selector('.webatm2-sidebar')\n",
    "    head = self.browser.find_element_by_css_selector('.webatm2-window-head')\n",
    "    body = self.browser.find_element_by_css_selector('.webatm2-window-body')\n",
    "    sidebar.find_element_by_css_selector('.tab-thread').click()\n",
    "    time.sleep(1)\n",
    "    doc=pq(sidebar.find_element_by_css_selector('.webatm2-thread-list').get_attribute('innerHTML'))\n",
    "    for div in doc.find('.webatm2-thread'):\n",
    "        div = pq(div)\n",
    "        thread = {}\n",
    "        thread['id'] = div.attr('data-user-id')\n",
    "        thread['online'] = div.hasClass('online')\n",
    "        thread['name'] = div.find('.thread-info .name').text()\n",
    "        thread['unread'] = div.find('.thread-info span.unread').text()\n",
    "        print(thread)\n",
    "        \n",
    "        if thread['id'] == 'enaliintcl1113504018jszx' or thread['id'] == 'enaliintpe1318961315wklp':\n",
    "            self.webww_switch_to_thread(thread, sidebar, head, body)\n",
    "            \n",
    "    self.browser.switch_to.default_content()\n",
    "inquiry.webww_check = types.MethodType(webww_check, inquiry)"
   ]
  },
  {
   "cell_type": "code",
   "execution_count": 115,
   "metadata": {},
   "outputs": [],
   "source": [
    "def webww_switch_to_thread(self, thread, sidebar, head, body):\n",
    "    \n",
    "    div = sidebar.find_element_by_css_selector('div.webatm2-thread[data-user-id=\"'+thread['id']+'\"]')\n",
    "    \n",
    "    if 'active' not in div.get_attribute('class'):\n",
    "        msgs = body.find_elements_by_css_selector('.webatm2-messages .webatm2-message')\n",
    "        div.click()\n",
    "    \n",
    "        if msgs:\n",
    "            WebDriverWait(self.browser, 15).until(EC.staleness_of(msgs[-1]))\n",
    "        else:\n",
    "            WebDriverWait(self.browser, 15).until(\n",
    "                EC.presence_of_element_located((By.CSS_SELECTOR, '.webatm2-messages .webatm2-message')))\n",
    "        time.sleep(1)\n",
    "    WebDriverWait(self.browser, 15).until(\n",
    "            EC.text_to_be_present_in_element((By.CSS_SELECTOR, '.webatm2-window-head .user-name'), thread['name']))\n",
    "\n",
    "    doc = pq(self.browser.find_element_by_css_selector('.webatm2-window-body .webatm2-messages').get_attribute('innerHTML'))\n",
    "    messages = []\n",
    "    for div in doc.find('.webatm2-message'):\n",
    "        div = pq(div)\n",
    "        message = {}\n",
    "        message['is_self'] = div.hasClass('self')\n",
    "        message['datetime'] = div.find('.time-tag').text() if div.find('.time-tag') else None\n",
    "        message['content'] = div.find('.content').html()\n",
    "        messages.append(message)\n",
    "        \n",
    "#     self.browser.find_element_by_css_selector('#webatm2-dialog .webatm2-dialog-close').click()\n",
    "    print()\n",
    "    print(messages)\n",
    "inquiry.webww_switch_to_thread = types.MethodType(webww_switch_to_thread, inquiry)"
   ]
  },
  {
   "cell_type": "code",
   "execution_count": 118,
   "metadata": {},
   "outputs": [],
   "source": [
    "def webww_send_message(self, message):\n",
    "    pass\n",
    "\n",
    "inquiry.webww_send_message = types.MethodType(webww_send_message, inquiry)"
   ]
  },
  {
   "cell_type": "code",
   "execution_count": 78,
   "metadata": {},
   "outputs": [],
   "source": [
    "inquiry.browser.switch_to.default_content()"
   ]
  },
  {
   "cell_type": "code",
   "execution_count": 87,
   "metadata": {},
   "outputs": [],
   "source": [
    "inquiry.load_url()"
   ]
  },
  {
   "cell_type": "code",
   "execution_count": 117,
   "metadata": {},
   "outputs": [
    {
     "name": "stdout",
     "output_type": "stream",
     "text": [
      "{'id': 'enaliintcl1113504018jszx', 'online': False, 'name': 'cl1113504018jszx', 'unread': '0'}\n",
      "\n",
      "[{'is_self': False, 'datetime': None, 'content': '<div data-reactid=\".0.2.1.0.1.1.0.0.0:$0.0.0\"><div class=\"atm-card-box atm-product-card atm-card-sender atm-card-product-sender\" data-query=\"{&quot;type&quot;:&quot;3&quot;,&quot;from&quot;:&quot;cl1113504018jszx&quot;,&quot;to&quot;:&quot;glittertrade&quot;,&quot;id&quot;:&quot;60763607812&quot;,&quot;sign&quot;:&quot;7D9472EECC9D91D5CFEF53E4DF21C9D47880D9A8&quot;,&quot;version&quot;:&quot;8.12.10E&quot;,&quot;callback&quot;:&quot;webatmcb_1531665622366_21&quot;,&quot;ctoken&quot;:&quot;18c91011hekxd&quot;,&quot;_&quot;:&quot;1531665626277&quot;,&quot;cmd&quot;:&quot;browserUrl&quot;,&quot;url&quot;:&quot;http%3A%2F%2Fwww.alibaba.com%2Fproduct-detail%2FMagnetic-Eye-Lashes-3D-False-Magnet_60763607812.html&quot;}\">    <div class=\"atm-card-inner clearfix\">        <div class=\"atm-card-pic\">            <img src=\"//sc02.alicdn.com/kf/HTB1V1xHsCBYBeNjy0Feq6znmFXaa/Magnetic-Eye-Lashes-3D-False-Magnet-Eyelashes.jpg_50x50.jpg\" alt=\"\"/>        </div>        <div class=\"atm-card-content\">            <p class=\"atm-product-card-name\" title=\"Magnetic Eye Lashes 3D False Magnet Eyelashes Extension 3D Fake Eyelashes magnetic eyelashes 4pcs with retail package\">Magnetic Eye Lashes 3D False Magnet ...</p>            <p class=\"atm-product-card-price\">US $ 1.16 - 1.45 / Pair</p>            <p class=\"atm-product-card-medal clearfix\">                <span class=\"atm-product-isbao\"/>                <span class=\"atm-product-goldseller\"><a class=\"atm-product-goldyear atm-product-goldyear-1\"/></span>                <span class=\"atm-product-country\">CN</span>            </p>        </div>    </div>    <div class=\"atm-card-bottom\">Product</div></div></div>'}, {'is_self': True, 'datetime': '2018-07-14 14:48', 'content': '<span class=\"msg-text\" data-reactid=\".0.2.1.0.1.1.0.0.0:$1.2.$0\">Hi</span>'}, {'is_self': False, 'datetime': None, 'content': '<span class=\"msg-text\" data-reactid=\".0.2.1.0.1.1.0.0.0:$2.2.$0\">Hello.</span>'}, {'is_self': False, 'datetime': None, 'content': '<span class=\"msg-text\" data-reactid=\".0.2.1.0.1.1.0.0.0:$3.2.$0\">He\\xa0has\\xa0magnetic\\xa0eyelashes.</span>'}, {'is_self': True, 'datetime': '2018-07-14 14:51', 'content': '<span class=\"msg-text\" data-reactid=\".0.2.1.0.1.1.0.0.0:$4.2.$0\">OK.Would\\xa0you\\xa0pls\\xa0inform\\xa0your\\xa0email\\xa0address?I\\xa0can\\xa0send\\xa0you\\xa0our\\xa0product\\xa0catalog</span>'}, {'is_self': True, 'datetime': None, 'content': '<span class=\"msg-text\" data-reactid=\".0.2.1.0.1.1.0.0.0:$5.2.$0\">by\\xa0email</span>'}, {'is_self': False, 'datetime': '2018-07-14 15:00', 'content': '<span class=\"msg-text\" data-reactid=\".0.2.1.0.1.1.0.0.0:$6.2.$0\">Mareuloma20flaka@gmail.com</span>'}, {'is_self': True, 'datetime': '2018-07-14 15:27', 'content': '<span class=\"msg-text\" data-reactid=\".0.2.1.0.1.1.0.0.0:$7.2.$0\">Hi\\xa0Marcela,I\\xa0have\\xa0sent.Pls\\xa0check\\xa0your\\xa0email.Thanks</span>'}]\n",
      "{'id': 'enaliintpe1318961315wklp', 'online': False, 'name': '秘鲁Guillermo Aguero Caceres', 'unread': '0'}\n",
      "\n",
      "[{'is_self': False, 'datetime': '2018-07-12 11:34', 'content': '<span class=\"msg-text\" data-reactid=\".0.2.1.0.1.1.0.0.0:$0.2.$0\">hello</span>'}, {'is_self': True, 'datetime': None, 'content': '<span class=\"msg-text\" data-reactid=\".0.2.1.0.1.1.0.0.0:$1.2.$0\">HI</span>'}, {'is_self': True, 'datetime': None, 'content': '<span class=\"msg-text\" data-reactid=\".0.2.1.0.1.1.0.0.0:$2.2.$0\">Can\\xa0I\\xa0help\\xa0you?</span>'}, {'is_self': False, 'datetime': '2018-07-12 12:09', 'content': '<span class=\"msg-text\" data-reactid=\".0.2.1.0.1.1.0.0.0:$3.2.$0\"><br/><br/>Shipping\\xa0Address<br/>Guillermo\\xa0Alberto\\xa0Aguero\\xa0Caceres<br/>Av\\xa0Arenales\\xa01624\\xa0tienda\\xa060\\xa0segundo\\xa0piso<br/>Lince,\\xa0Lima,\\xa0\\xa0Lima\\xa014<br/>Peru<br/>+51\\xa00511954775844</span>'}, {'is_self': False, 'datetime': '2018-07-12 12:10', 'content': '<span class=\"msg-text\" data-reactid=\".0.2.1.0.1.1.0.0.0:$4.2.$0\">Order\\xa0details<br/>View\\xa0Trade\\xa0Assurance\\xa0Contract\\xa0\\xa0<br/>Order\\xa0No.:\\xa093151351971532Order\\xa0Date:\\xa02018-07-10\\xa021:00:29</span>'}, {'is_self': False, 'datetime': '2018-07-12 12:18', 'content': '<span class=\"msg-text\" data-reactid=\".0.2.1.0.1.1.0.0.0:$5.2.$0\">pay\\xa0$\\xa0325</span>'}, {'is_self': True, 'datetime': '2018-07-12 14:02', 'content': '<span class=\"msg-text\" data-reactid=\".0.2.1.0.1.1.0.0.0:$6.2.$0\">OK，we\\xa0have\\xa0received\\xa0the\\xa0payment\\xa0and\\xa0arranged\\xa0the\\xa0production.We\\xa0will\\xa0send\\xa0it\\xa0out\\xa0the\\xa0day\\xa0after\\xa0tomorrow.Before\\xa0delivery,I\\xa0will\\xa0let\\xa0you\\xa0know.</span>'}, {'is_self': True, 'datetime': None, 'content': '<span class=\"msg-text\" data-reactid=\".0.2.1.0.1.1.0.0.0:$7.2.$0\">Hope\\xa0you\\xa0a\\xa0good\\xa0day.</span>'}, {'is_self': True, 'datetime': '2018-07-13 14:26', 'content': '<img src=\"https://interface.im.taobao.com/mobileimweb/fileupload/downloadPriFile.do?type=1&amp;fileId=1fccd155046aab813efecc7e2b96d0ef.jpg&amp;suffix=jpg&amp;fromId=enaliintglittertrade&amp;toId=enaliintpe1318961315wklp\" class=\"msg-img\" data-reactid=\".0.2.1.0.1.1.0.0.0:$8.2.$0\"/>'}, {'is_self': True, 'datetime': None, 'content': '<img src=\"https://interface.im.taobao.com/mobileimweb/fileupload/downloadPriFile.do?type=1&amp;fileId=64cd9e74eaac567eb7b54806b61fe942.jpg&amp;suffix=jpg&amp;fromId=enaliintglittertrade&amp;toId=enaliintpe1318961315wklp\" class=\"msg-img\" data-reactid=\".0.2.1.0.1.1.0.0.0:$9.2.$0\"/>'}, {'is_self': True, 'datetime': None, 'content': '<span class=\"msg-text\" data-reactid=\".0.2.1.0.1.1.0.0.0:$10.2.$0\">Hi\\xa0Guillermo,good\\xa0day,we\\xa0are\\xa0arranging\\xa0the\\xa0delivery.Let\\'s\\xa0check\\xa0the\\xa0delivery\\xa0information\\xa0again.</span>'}, {'is_self': True, 'datetime': None, 'content': '<span class=\"msg-text\" data-reactid=\".0.2.1.0.1.1.0.0.0:$11.2.$0\">Shipping\\xa0Address\\nGuillermo\\xa0Alberto\\xa0Aguero\\xa0Caceres\\nAv\\xa0Arenales\\xa01624\\xa0tienda\\xa060\\xa0segundo\\xa0piso\\nLince,\\xa0Lima,\\xa0\\xa0Lima\\xa014\\nPeru\\xa0\\xa0Contact\\xa0:Guillermo\\n+51\\xa00511954775844</span>'}, {'is_self': True, 'datetime': None, 'content': '<span class=\"msg-text\" data-reactid=\".0.2.1.0.1.1.0.0.0:$12.2.$0\">Right?</span>'}]\n",
      "{'id': 'enaliintca1055720839', 'online': False, 'name': '加拿大nathalie bella', 'unread': '0'}\n",
      "{'id': 'enaliintus1320257267wkqs', 'online': False, 'name': 'us1320257267wkqs', 'unread': '0'}\n",
      "{'id': 'enaliintbw1244930265lwug', 'online': False, 'name': '博茨瓦纳tshidiso lemp', 'unread': '0'}\n",
      "{'id': 'enaliintat1318760231kmjt', 'online': False, 'name': '奥地利Karl Peterseil', 'unread': '0'}\n",
      "{'id': 'enaliintca1071807987', 'online': False, 'name': '加拿大Reyhaneh Rahimi', 'unread': '0'}\n",
      "{'id': 'enaliintbz1318800839aulk', 'online': False, 'name': '伯利兹Joan Crooks', 'unread': '0'}\n",
      "{'id': 'enaliintca1085074961', 'online': False, 'name': '加拿大Monique Mak', 'unread': '0'}\n",
      "{'id': 'enaliintmx1320960088smtj', 'online': False, 'name': '墨西哥Ivan Mendez磁铁睫毛', 'unread': '0'}\n",
      "{'id': 'enaliintau1317564473bizr', 'online': False, 'name': '澳大利亚Uyen', 'unread': '0'}\n",
      "{'id': 'enaliintbe108264546', 'online': False, 'name': '比利时/厄瓜多尔Andre Arens', 'unread': '0'}\n",
      "{'id': 'enaliintpa1318730595wqkv', 'online': False, 'name': '巴拿马Raiza Caripe朵毛', 'unread': '0'}\n",
      "{'id': 'enaliintus1023430111', 'online': False, 'name': 'us1023430111', 'unread': '0'}\n",
      "{'id': 'enaliintca1524351283kcvr', 'online': False, 'name': 'ca1524351283kcvr', 'unread': '0'}\n",
      "{'id': 'enaliintca1524307669ovak', 'online': False, 'name': 'ca1524307669ovak', 'unread': '0'}\n",
      "{'id': 'enaliintau1312610728jple', 'online': False, 'name': '澳大利亚Kelly Hughes', 'unread': '0'}\n",
      "{'id': 'enaliintng1051344080', 'online': False, 'name': '尼日利亚Tiamiyu Taiwo', 'unread': '0'}\n",
      "{'id': 'enaliintca1278574559nyck', 'online': False, 'name': '加拿大Ginette Wangai磁铁', 'unread': '0'}\n",
      "{'id': 'enaliintfi1317657110zpbs', 'online': False, 'name': '芬兰Berry J', 'unread': '0'}\n"
     ]
    }
   ],
   "source": [
    "inquiry.load_url()\n",
    "inquiry.webww_check()"
   ]
  },
  {
   "cell_type": "code",
   "execution_count": null,
   "metadata": {},
   "outputs": [],
   "source": []
  },
  {
   "cell_type": "code",
   "execution_count": null,
   "metadata": {},
   "outputs": [],
   "source": []
  },
  {
   "cell_type": "code",
   "execution_count": null,
   "metadata": {},
   "outputs": [],
   "source": [
    "inquiry.load_url()"
   ]
  },
  {
   "cell_type": "code",
   "execution_count": null,
   "metadata": {},
   "outputs": [],
   "source": []
  },
  {
   "cell_type": "code",
   "execution_count": null,
   "metadata": {},
   "outputs": [],
   "source": [
    "inquiry.load_reply_templates()"
   ]
  },
  {
   "cell_type": "code",
   "execution_count": null,
   "metadata": {},
   "outputs": [],
   "source": [
    "inquiry.tracking_ids['11947313067']['status'] = ['new']\n",
    "inquiry.tracking_ids"
   ]
  },
  {
   "cell_type": "code",
   "execution_count": null,
   "metadata": {},
   "outputs": [],
   "source": [
    "inquiry.check()"
   ]
  },
  {
   "cell_type": "code",
   "execution_count": null,
   "metadata": {},
   "outputs": [],
   "source": [
    "inquiry.tracking_ids"
   ]
  },
  {
   "cell_type": "code",
   "execution_count": null,
   "metadata": {},
   "outputs": [],
   "source": [
    "inquiry.close_inquiry_and_switch_back()"
   ]
  },
  {
   "cell_type": "code",
   "execution_count": null,
   "metadata": {},
   "outputs": [],
   "source": []
  },
  {
   "cell_type": "code",
   "execution_count": null,
   "metadata": {},
   "outputs": [],
   "source": []
  },
  {
   "cell_type": "code",
   "execution_count": null,
   "metadata": {},
   "outputs": [],
   "source": [
    "inquiry.load_url()\n",
    "inquiries = inquiry.get_inquiries()"
   ]
  },
  {
   "cell_type": "code",
   "execution_count": null,
   "metadata": {},
   "outputs": [],
   "source": [
    "enquiry = inquiries[8]\n",
    "enquiry"
   ]
  },
  {
   "cell_type": "code",
   "execution_count": null,
   "metadata": {},
   "outputs": [],
   "source": []
  },
  {
   "cell_type": "code",
   "execution_count": null,
   "metadata": {},
   "outputs": [],
   "source": [
    "enquiry = inquiries[8]\n",
    "inquiry.open_inquiry_in_new_tab(enquiry)\n",
    "conversation = inquiry.get_conversation()\n",
    "inquiry.close_inquiry_and_switch_back()\n",
    "messages = conversation['messages']\n",
    "buyer = conversation['buyer']\n",
    "messages"
   ]
  },
  {
   "cell_type": "code",
   "execution_count": null,
   "metadata": {},
   "outputs": [],
   "source": [
    "enquiry = inquiries[8]\n",
    "enquiry"
   ]
  },
  {
   "cell_type": "code",
   "execution_count": null,
   "metadata": {},
   "outputs": [],
   "source": []
  },
  {
   "cell_type": "code",
   "execution_count": null,
   "metadata": {},
   "outputs": [],
   "source": [
    "# inquiry.load_tracking_ids()\n",
    "inquiry.tracking_ids"
   ]
  },
  {
   "cell_type": "code",
   "execution_count": null,
   "metadata": {},
   "outputs": [],
   "source": [
    "inquiry.close_inquiry_and_switch_back()"
   ]
  },
  {
   "cell_type": "code",
   "execution_count": null,
   "metadata": {
    "scrolled": true
   },
   "outputs": [],
   "source": [
    "# inquiry.close_inquiry_and_switch_back()\n",
    "# inquiry.tracking_ids['11947313067']['status'] = ['new']\n",
    "enquiry = inquiries[0]\n",
    "inquiry.reply(enquiry)"
   ]
  },
  {
   "cell_type": "code",
   "execution_count": null,
   "metadata": {},
   "outputs": [],
   "source": [
    "inquiry.tracking_ids"
   ]
  },
  {
   "cell_type": "code",
   "execution_count": null,
   "metadata": {},
   "outputs": [],
   "source": []
  },
  {
   "cell_type": "code",
   "execution_count": null,
   "metadata": {},
   "outputs": [],
   "source": []
  },
  {
   "cell_type": "code",
   "execution_count": null,
   "metadata": {},
   "outputs": [],
   "source": []
  },
  {
   "cell_type": "code",
   "execution_count": null,
   "metadata": {},
   "outputs": [],
   "source": [
    "def try_login_webww():\n",
    "    btn_login = WebDriverWait(inquiry.browser, 15).until(EC.visibility_of_element_located((By.CSS_SELECTOR, '#webatm2-iconbar')))\n",
    "    btn_login.click()"
   ]
  },
  {
   "cell_type": "code",
   "execution_count": null,
   "metadata": {},
   "outputs": [],
   "source": [
    "panel = inquiry.browser.find_element_by_css_selector('#webatm2-panel')"
   ]
  },
  {
   "cell_type": "code",
   "execution_count": null,
   "metadata": {},
   "outputs": [],
   "source": [
    "inquiries[11]"
   ]
  },
  {
   "cell_type": "code",
   "execution_count": null,
   "metadata": {},
   "outputs": [],
   "source": []
  },
  {
   "cell_type": "code",
   "execution_count": null,
   "metadata": {},
   "outputs": [],
   "source": []
  },
  {
   "cell_type": "code",
   "execution_count": null,
   "metadata": {},
   "outputs": [],
   "source": []
  },
  {
   "cell_type": "code",
   "execution_count": null,
   "metadata": {},
   "outputs": [],
   "source": []
  },
  {
   "cell_type": "code",
   "execution_count": null,
   "metadata": {},
   "outputs": [],
   "source": []
  },
  {
   "cell_type": "code",
   "execution_count": null,
   "metadata": {},
   "outputs": [],
   "source": []
  },
  {
   "cell_type": "code",
   "execution_count": null,
   "metadata": {},
   "outputs": [],
   "source": [
    "re.findall('([a-zA-Z0-9_.+-]+@[a-zA-Z0-9-]+\\.[a-zA-Z0-9-.]+)', text)"
   ]
  },
  {
   "cell_type": "code",
   "execution_count": null,
   "metadata": {},
   "outputs": [],
   "source": [
    "inquiry.browser.save_screenshot(\"screenshot.png\")"
   ]
  },
  {
   "cell_type": "code",
   "execution_count": null,
   "metadata": {
    "scrolled": true
   },
   "outputs": [],
   "source": []
  },
  {
   "cell_type": "code",
   "execution_count": null,
   "metadata": {},
   "outputs": [],
   "source": []
  },
  {
   "cell_type": "code",
   "execution_count": null,
   "metadata": {},
   "outputs": [],
   "source": []
  },
  {
   "cell_type": "code",
   "execution_count": null,
   "metadata": {},
   "outputs": [],
   "source": []
  },
  {
   "cell_type": "code",
   "execution_count": null,
   "metadata": {},
   "outputs": [],
   "source": []
  },
  {
   "cell_type": "code",
   "execution_count": null,
   "metadata": {},
   "outputs": [],
   "source": []
  },
  {
   "cell_type": "code",
   "execution_count": null,
   "metadata": {},
   "outputs": [],
   "source": []
  },
  {
   "cell_type": "code",
   "execution_count": null,
   "metadata": {},
   "outputs": [],
   "source": []
  },
  {
   "cell_type": "code",
   "execution_count": null,
   "metadata": {},
   "outputs": [],
   "source": []
  },
  {
   "cell_type": "code",
   "execution_count": null,
   "metadata": {},
   "outputs": [],
   "source": []
  },
  {
   "cell_type": "code",
   "execution_count": null,
   "metadata": {},
   "outputs": [],
   "source": []
  },
  {
   "cell_type": "code",
   "execution_count": null,
   "metadata": {},
   "outputs": [],
   "source": []
  },
  {
   "cell_type": "code",
   "execution_count": null,
   "metadata": {},
   "outputs": [],
   "source": []
  },
  {
   "cell_type": "code",
   "execution_count": null,
   "metadata": {},
   "outputs": [],
   "source": []
  },
  {
   "cell_type": "code",
   "execution_count": null,
   "metadata": {},
   "outputs": [],
   "source": []
  },
  {
   "cell_type": "code",
   "execution_count": null,
   "metadata": {},
   "outputs": [],
   "source": []
  },
  {
   "cell_type": "code",
   "execution_count": null,
   "metadata": {},
   "outputs": [],
   "source": []
  },
  {
   "cell_type": "code",
   "execution_count": null,
   "metadata": {},
   "outputs": [],
   "source": []
  }
 ],
 "metadata": {
  "kernelspec": {
   "display_name": "Python 3",
   "language": "python",
   "name": "python3"
  },
  "language_info": {
   "codemirror_mode": {
    "name": "ipython",
    "version": 3
   },
   "file_extension": ".py",
   "mimetype": "text/x-python",
   "name": "python",
   "nbconvert_exporter": "python",
   "pygments_lexer": "ipython3",
   "version": "3.6.6"
  }
 },
 "nbformat": 4,
 "nbformat_minor": 2
}
