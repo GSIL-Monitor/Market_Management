{
 "cells": [
  {
   "cell_type": "code",
   "execution_count": 1,
   "metadata": {},
   "outputs": [],
   "source": [
    "from libs.alibaba.alibaba import Alibaba\n",
    "from libs.alibaba.inquiry import Inquiry\n",
    "from libs.alibaba.inquiry import element_has_css_class\n",
    "from libs.email import Email\n",
    "from libs.json import JSON\n",
    "\n",
    "from selenium import webdriver\n",
    "from selenium.webdriver.common.keys import Keys\n",
    "from selenium.webdriver.support.ui import WebDriverWait\n",
    "from selenium.webdriver.support import expected_conditions as EC\n",
    "from selenium.common.exceptions import WebDriverException\n",
    "from selenium.common.exceptions import NoSuchElementException\n",
    "from selenium.common.exceptions import TimeoutException\n",
    "from selenium.common.exceptions import ElementNotVisibleException\n",
    "from selenium.common.exceptions import StaleElementReferenceException\n",
    "from selenium.webdriver.common.by import By\n",
    "from selenium.webdriver.common.action_chains import ActionChains\n",
    "\n",
    "from string import Template\n",
    "from datetime import datetime\n",
    "from bs4 import BeautifulSoup\n",
    "from pyquery import PyQuery as pq\n",
    "\n",
    "import json\n",
    "import requests\n",
    "import time\n",
    "import re\n",
    "import math\n",
    "\n",
    "import types\n",
    "import traceback\n",
    "import threading\n",
    "\n",
    "import pendulum\n",
    "\n",
    "import logging\n",
    "from logging.handlers import TimedRotatingFileHandler"
   ]
  },
  {
   "cell_type": "code",
   "execution_count": 2,
   "metadata": {},
   "outputs": [
    {
     "name": "stdout",
     "output_type": "stream",
     "text": [
      ". storage markets.json\n",
      ".\\storage\\markets.json was deserialized!\n"
     ]
    },
    {
     "data": {
      "text/plain": [
       "{'name': 'Eyelashes',\n",
       " 'directory': 'E:\\\\glitter\\\\Eyelashes',\n",
       " 'lid': 'eyelash@glittergroupcn.com',\n",
       " 'lpwd': 'Wangzhen68970747',\n",
       " 'homepage': 'https://glittereyelash.en.alibaba.com',\n",
       " 'lname': 'Jeremy Wang',\n",
       " 'mobile': '17685593100',\n",
       " 'accounts': [{'lid': 'eyelash1@glittergroupcn.com',\n",
       "   'lpwd': 'Zhangying25160',\n",
       "   'lname': 'Emily Zhang',\n",
       "   'mobile': '17685593100',\n",
       "   'disabled': False},\n",
       "  {'lid': 'eyelash2@glittergroupcn.com',\n",
       "   'lpwd': 'Huyinping18130',\n",
       "   'lname': 'Ada Alva',\n",
       "   'mobile': '18563918130',\n",
       "   'disabled': False}]}"
      ]
     },
     "execution_count": 2,
     "metadata": {},
     "output_type": "execute_result"
    }
   ],
   "source": [
    "market = JSON.deserialize('.', 'storage', 'markets.json')['Eyelashes']\n",
    "market"
   ]
  },
  {
   "cell_type": "code",
   "execution_count": 6,
   "metadata": {},
   "outputs": [
    {
     "name": "stdout",
     "output_type": "stream",
     "text": [
      "{'lid': 'eyelash2@glittergroupcn.com', 'lpwd': 'Huyinping18130', 'lname': 'Ada Alva', 'mobile': '18563918130', 'disabled': False}\n",
      "E:\\glitter\\Eyelashes_config [] inquiry_tracking_ids_Ada.json\n",
      "E:\\glitter\\Eyelashes_config\\inquiry_tracking_ids_Ada.json was deserialized!\n"
     ]
    }
   ],
   "source": [
    "account = market['accounts'][1]\n",
    "print(account)\n",
    "inquiry = Inquiry(market, account, headless=False)"
   ]
  },
  {
   "cell_type": "code",
   "execution_count": 4,
   "metadata": {},
   "outputs": [
    {
     "name": "stdout",
     "output_type": "stream",
     "text": [
      "E:\\glitter\\Eyelashes_config [] inquiry_tracking_ids_Jeremy.json\n",
      "E:\\glitter\\Eyelashes_config\\inquiry_tracking_ids_Jeremy.json was deserialized!\n"
     ]
    }
   ],
   "source": [
    "inquiry = Inquiry(market, headless=False)"
   ]
  },
  {
   "cell_type": "code",
   "execution_count": null,
   "metadata": {},
   "outputs": [],
   "source": []
  },
  {
   "cell_type": "code",
   "execution_count": null,
   "metadata": {},
   "outputs": [],
   "source": []
  },
  {
   "cell_type": "code",
   "execution_count": null,
   "metadata": {},
   "outputs": [],
   "source": []
  },
  {
   "cell_type": "code",
   "execution_count": null,
   "metadata": {},
   "outputs": [],
   "source": []
  },
  {
   "cell_type": "code",
   "execution_count": null,
   "metadata": {},
   "outputs": [],
   "source": []
  },
  {
   "cell_type": "code",
   "execution_count": null,
   "metadata": {},
   "outputs": [],
   "source": []
  },
  {
   "cell_type": "code",
   "execution_count": null,
   "metadata": {},
   "outputs": [],
   "source": []
  },
  {
   "cell_type": "code",
   "execution_count": null,
   "metadata": {},
   "outputs": [],
   "source": [
    "inquiry.login()"
   ]
  },
  {
   "cell_type": "code",
   "execution_count": 7,
   "metadata": {},
   "outputs": [
    {
     "name": "stdout",
     "output_type": "stream",
     "text": [
      "primary 打开网址：https://i.alibaba.com\n",
      "primary 等待登陆页面加载 ... ...\n",
      "primary 输入登录信息， 并登录\n",
      "success 成功 登录 阿里巴巴 国际站！用户名：Ada\n"
     ]
    }
   ],
   "source": [
    "inquiry.load_url()"
   ]
  },
  {
   "cell_type": "code",
   "execution_count": null,
   "metadata": {},
   "outputs": [],
   "source": [
    "inquiry.load_url()\n",
    "time.sleep(1)\n",
    "inquiry_list = []\n",
    "while True:\n",
    "    inquiries = inquiry.get_inquiries()\n",
    "    inquiry_list = inquiry_list + inquiries\n",
    "    time.sleep(1)\n",
    "    for enquiry in inquiries:\n",
    "        try:\n",
    "            inquiry.open_inquiry_in_new_tab(enquiry)\n",
    "            conversation = inquiry.get_conversation()\n",
    "            enquiry['conversation'] = conversation\n",
    "        except Exception as e:\n",
    "            traceback.print_exc()\n",
    "        finally:\n",
    "            inquiry.close_inquiry_and_switch_back()\n",
    "            \n",
    "    if inquiry.next_page():\n",
    "        continue\n",
    "        \n",
    "    break\n",
    "len(inquiry_list)"
   ]
  },
  {
   "cell_type": "code",
   "execution_count": null,
   "metadata": {},
   "outputs": [],
   "source": [
    "inquiries = inquiry.get_inquiries()"
   ]
  },
  {
   "cell_type": "code",
   "execution_count": null,
   "metadata": {},
   "outputs": [],
   "source": [
    "inquiry_list = inquiries"
   ]
  },
  {
   "cell_type": "code",
   "execution_count": null,
   "metadata": {},
   "outputs": [],
   "source": [
    "inquiry_list[0]"
   ]
  },
  {
   "cell_type": "code",
   "execution_count": null,
   "metadata": {},
   "outputs": [],
   "source": [
    "enquiries = []\n",
    "idx = 0\n",
    "for enquiry in inquiry_list:\n",
    "    if '【RFQ】 Request for Quotation' in enquiry['tags']:\n",
    "        continue\n",
    "#     if 'prestl bernhard' in enquiry['buyer']:\n",
    "#         continue\n",
    "        \n",
    "    first_message = enquiry['conversation']['messages'][0]\n",
    "    if first_message['position'] == 'right':\n",
    "        continue\n",
    "        \n",
    "    idx += 1\n",
    "    comming_datetime = pendulum.parse(first_message['date'], tz='Asia/Shanghai')\n",
    "    enquiry['comming_datetime'] = comming_datetime\n",
    "#     print(idx, enquiry['id'], comming_datetime, enquiry['buyer_country'], enquiry['buyer'])\n",
    "    enquiries.append(enquiry)\n",
    "len(enquiries)"
   ]
  },
  {
   "cell_type": "code",
   "execution_count": null,
   "metadata": {},
   "outputs": [],
   "source": [
    "enquiries.sort(key=lambda eq:eq['comming_datetime'])"
   ]
  },
  {
   "cell_type": "code",
   "execution_count": null,
   "metadata": {},
   "outputs": [],
   "source": [
    "length = len(enquiries)\n",
    "count = 0\n",
    "for idx, enquiry in enumerate(enquiries):\n",
    "    enquiry['duplicated'] = False\n",
    "    offset = 1\n",
    "    country = enquiry['buyer_country']\n",
    "    buyer = enquiry['buyer']\n",
    "    cdt = enquiry['comming_datetime'].subtract(hours=3)\n",
    "    while idx-offset >= 0:\n",
    "        dt = enquiries[idx-offset]['comming_datetime']\n",
    "        if dt < cdt:\n",
    "            break\n",
    "    \n",
    "        if country == enquiries[idx-offset]['buyer_country'] and buyer == enquiries[idx-offset]['buyer']:\n",
    "            enquiry['duplicated'] = True\n",
    "\n",
    "        offset += 1\n",
    "\n",
    "    if not enquiry['duplicated']:\n",
    "        count += 1\n",
    "        \n",
    "    print(idx, count, enquiry['id'], enquiry['duplicated'], enquiry['comming_datetime'], enquiry['buyer_country'], enquiry['buyer'])\n"
   ]
  },
  {
   "cell_type": "code",
   "execution_count": null,
   "metadata": {},
   "outputs": [],
   "source": [
    "def search(inquiries, st, et):\n",
    "    result = []\n",
    "    for enquiry in inquiries:\n",
    "        if enquiry['duplicated']:\n",
    "            continue\n",
    "        if enquiry['buyer_country'] != 'United States':\n",
    "            continue\n",
    "        dt = enquiry['comming_datetime']\n",
    "        stime = dt.set(hour=int(st.split(':')[0]), minute=int(st.split(':')[1]))\n",
    "        etime = dt.set(hour=int(et.split(':')[0]), minute=int(et.split(':')[1]))\n",
    "        if dt >= stime and dt <etime:\n",
    "#             print(enquiry['comming_datetime'], stime, etime)\n",
    "            result.append(enquiry)\n",
    "    return result"
   ]
  },
  {
   "cell_type": "code",
   "execution_count": null,
   "metadata": {},
   "outputs": [],
   "source": [
    "st = '08:00'\n",
    "et = '09:00'\n",
    "result = search(enquiries, st, et)\n",
    "len(result)"
   ]
  },
  {
   "cell_type": "code",
   "execution_count": null,
   "metadata": {},
   "outputs": [],
   "source": [
    "dt = pendulum.parse('15:00:00')\n",
    "results = []\n",
    "for i in range(144):\n",
    "    st = dt.to_time_string()\n",
    "    dt = dt.add(minutes=10)\n",
    "    et = dt.to_time_string()\n",
    "    result = search(enquiries, st, et)\n",
    "    results.append([i, st, et, result])\n",
    "    print(len(result), end='\\t')"
   ]
  },
  {
   "cell_type": "code",
   "execution_count": null,
   "metadata": {},
   "outputs": [],
   "source": [
    "result = results[60]\n",
    "print(result[0], result[1], result[2])\n",
    "for enquiry in result[3]:\n",
    "    print(enquiry['id'], enquiry['comming_datetime'], enquiry['buyer_country'], enquiry['buyer'])"
   ]
  },
  {
   "cell_type": "code",
   "execution_count": null,
   "metadata": {},
   "outputs": [],
   "source": []
  },
  {
   "cell_type": "code",
   "execution_count": null,
   "metadata": {},
   "outputs": [],
   "source": [
    "count = 0\n",
    "counts = {}\n",
    "for enquiry in enquiries:\n",
    "    if enquiry['duplicated']:\n",
    "        continue\n",
    "        \n",
    "    count += 1\n",
    "    country = enquiry['buyer_country']\n",
    "        \n",
    "    if country not in counts:\n",
    "        counts[country] = 0\n",
    "        \n",
    "    counts[country] += 1\n",
    "count_list = []\n",
    "for country in counts:\n",
    "    count_list.append([country, counts[country]])\n",
    "count_list.sort(reverse=True, key=lambda x: x[1])"
   ]
  },
  {
   "cell_type": "code",
   "execution_count": null,
   "metadata": {},
   "outputs": [],
   "source": [
    "for item in count_list:\n",
    "    print(format(item[1]/count*100, '0.2f')+'%', end='\\t')\n",
    "    print(item[0], end='\\t')\n",
    "    print(item[1], end='\\t')\n",
    "    print()"
   ]
  },
  {
   "cell_type": "code",
   "execution_count": null,
   "metadata": {},
   "outputs": [],
   "source": []
  },
  {
   "cell_type": "code",
   "execution_count": null,
   "metadata": {},
   "outputs": [],
   "source": []
  },
  {
   "cell_type": "code",
   "execution_count": null,
   "metadata": {},
   "outputs": [],
   "source": [
    "inquiry.browser.switch_to.default_content()"
   ]
  },
  {
   "cell_type": "code",
   "execution_count": null,
   "metadata": {},
   "outputs": [],
   "source": [
    "inquiry.load_url()"
   ]
  },
  {
   "cell_type": "code",
   "execution_count": null,
   "metadata": {},
   "outputs": [],
   "source": [
    "threads = inquiry.webww_check()"
   ]
  },
  {
   "cell_type": "code",
   "execution_count": null,
   "metadata": {},
   "outputs": [],
   "source": [
    "dialog_iframe = inquiry.browser.find_element_by_css_selector('#webatm2-iframe')\n",
    "inquiry.browser.switch_to.frame(dialog_iframe)\n",
    "sidebar = inquiry.browser.find_ele.ment_by_css_selector('.webatm2-sidebar')\n",
    "head = inquiry.browser.find_element_by_css_selector('.webatm2-window-head')\n",
    "body = inquiry.browser.find_element_by_css_selector('.webatm2-window-body')\n"
   ]
  },
  {
   "cell_type": "code",
   "execution_count": null,
   "metadata": {},
   "outputs": [],
   "source": [
    "thread = threads[0]\n",
    "thread"
   ]
  },
  {
   "cell_type": "code",
   "execution_count": null,
   "metadata": {},
   "outputs": [],
   "source": [
    "inquiry.webww_switch_to_thread(threads[1], sidebar, head, body)"
   ]
  },
  {
   "cell_type": "code",
   "execution_count": null,
   "metadata": {},
   "outputs": [],
   "source": [
    "inquiry.browser.switch_to.default_content()"
   ]
  },
  {
   "cell_type": "code",
   "execution_count": null,
   "metadata": {},
   "outputs": [],
   "source": [
    "for t in threads:\n",
    "    inquiry.webww_switch_to_thread(t, sidebar, head, body)"
   ]
  },
  {
   "cell_type": "code",
   "execution_count": null,
   "metadata": {},
   "outputs": [],
   "source": [
    "not {}"
   ]
  },
  {
   "cell_type": "code",
   "execution_count": null,
   "metadata": {},
   "outputs": [],
   "source": []
  },
  {
   "cell_type": "code",
   "execution_count": null,
   "metadata": {},
   "outputs": [],
   "source": []
  },
  {
   "cell_type": "code",
   "execution_count": null,
   "metadata": {},
   "outputs": [],
   "source": [
    "inquiry.load_reply_templates()"
   ]
  },
  {
   "cell_type": "code",
   "execution_count": null,
   "metadata": {},
   "outputs": [],
   "source": [
    "inquiry.reply_templates"
   ]
  },
  {
   "cell_type": "code",
   "execution_count": null,
   "metadata": {},
   "outputs": [],
   "source": []
  },
  {
   "cell_type": "code",
   "execution_count": null,
   "metadata": {},
   "outputs": [],
   "source": [
    "def is_auto_reply_needed(self, enquiry):\n",
    "    eid = enquiry['id']\n",
    "    #  # for testing purpose\n",
    "    # if enquiry['id'] == '11947313067':\n",
    "    #     self.tracking_ids[eid] = {}\n",
    "    #     self.tracking_ids[eid]['datetime'] = pendulum.now()\n",
    "    #     self.tracking_ids[eid]['status'] = ['new']\n",
    "    #     self.save_tracking_ids()\n",
    "    #     return True\n",
    "    # else:\n",
    "    #     return False\n",
    "    print('==------------------------------------------------------==')\n",
    "    print(self.lname.lower(), ' - ', enquiry['responsible_person'].lower())\n",
    "#     if enquiry['responsible_person'].lower() != self.lname.lower():\n",
    "#         return False\n",
    "\n",
    "    if eid in self.tracking_ids and self.tracking_ids[eid]['datetime'].diff().in_hours() <= 12:\n",
    "        if not enquiry['is_replied']:\n",
    "            return True\n",
    "    if len(enquiry['tags']) == 0 and enquiry['is_new']:\n",
    "        if eid not in self.tracking_ids:\n",
    "            self.tracking_ids[eid] = {}\n",
    "            self.tracking_ids[eid]['datetime'] = pendulum.now()\n",
    "            self.tracking_ids[eid]['status'] = ['new']\n",
    "            self.save_tracking_ids()\n",
    "        return True\n",
    "    return False\n",
    "\n",
    "inquiry.is_auto_reply_needed = types.MethodType(is_auto_reply_needed, inquiry)"
   ]
  },
  {
   "cell_type": "code",
   "execution_count": null,
   "metadata": {},
   "outputs": [],
   "source": [
    "def send_message(self, message, attach=None):\n",
    "    chat_form = self.browser.find_element_by_css_selector('form.reply-wrapper div.holder')\n",
    "    chat_form.click()\n",
    "\n",
    "    uploading_failed = False\n",
    "    if attach:\n",
    "        file_input = self.browser.find_element_by_css_selector('input#attachs')\n",
    "        file_input.send_keys(attach)\n",
    "\n",
    "        css = 'div.next-upload-list-item:last-child'\n",
    "        div = WebDriverWait(self.browser, 15).until(\n",
    "            EC.presence_of_element_located((By.CSS_SELECTOR, css)))\n",
    "        try:\n",
    "            WebDriverWait(self.browser, 150).until(\n",
    "                element_has_css_class(div, 'next-upload-list-item-done'))\n",
    "        except TimeoutException:\n",
    "            print('time out, cancel uploading')\n",
    "            div.find_element_by_css_selector('i.next-icon-close').click()\n",
    "            uploading_failed = True\n",
    "\n",
    "    if uploading_failed:\n",
    "        return False\n",
    "\n",
    "    # if uploading_failed or attach is None:\n",
    "    #     doc = pq(message)\n",
    "    #     doc.find('span.attach').remove()\n",
    "    #     message = doc.outer_html()\n",
    "\n",
    "    WebDriverWait(self.browser, 15).until(\n",
    "        EC.frame_to_be_available_and_switch_to_it((By.CSS_SELECTOR, '#inquiry-content_ifr')))\n",
    "    \n",
    "#     body = self.browser.find_element_by_tag_name('body')\n",
    "#     self.click(body)\n",
    "\n",
    "    js = self.reply_js_template.format(message=message)\n",
    "    self.browser.execute_script(js)\n",
    "    \n",
    "    time.sleep(1)\n",
    "    \n",
    "    body = self.browser.find_element_by_tag_name('body')\n",
    "    self.click(body)\n",
    "    \n",
    "    self.browser.switch_to.default_content()\n",
    "\n",
    "    btn_send = self.browser.find_element_by_css_selector('form.reply-wrapper button.send')\n",
    "    btn_send.click()\n",
    "\n",
    "    time.sleep(1)\n",
    "    return True\n",
    "\n",
    "inquiry.send_message = types.MethodType(send_message, inquiry)"
   ]
  },
  {
   "cell_type": "code",
   "execution_count": null,
   "metadata": {},
   "outputs": [],
   "source": [
    "def reply(self, enquiry):\n",
    "    try:\n",
    "        self.open_inquiry_in_new_tab(enquiry)\n",
    "        conversation = self.get_conversation()\n",
    "\n",
    "        messages = conversation['messages']\n",
    "        buyer = conversation['buyer']\n",
    "\n",
    "        last_buyer_messages = []\n",
    "        is_replied = False\n",
    "        reply_count = 0\n",
    "        for msg in messages:\n",
    "            if msg['position'] == 'left':\n",
    "                last_buyer_messages.append(msg)\n",
    "                is_replied = False\n",
    "            elif msg['position'] == 'right' and 'Seller Assistant' not in msg['user']:\n",
    "                last_buyer_messages = []\n",
    "                is_replied = True\n",
    "                reply_count += 1\n",
    "    \n",
    "        is_replied = False\n",
    "        # check if email address is already exists in conversation\n",
    "        text = ''\n",
    "        for msg in last_buyer_messages:\n",
    "            text = text + '\\n\\n ' + msg['content']\n",
    "        emails = re.findall('([a-zA-Z0-9_.+-]+@[a-zA-Z0-9-]+\\.[a-zA-Z0-9-.]+)', text)\n",
    "\n",
    "        if buyer['email']:\n",
    "            emails.append(buyer['email'])\n",
    "\n",
    "        eid = enquiry['id']\n",
    "        tracking = self.tracking_ids[eid]\n",
    "        last_status = tracking['status'][-1]\n",
    "        greetings = '<p>Pleased to hear from you.</p><br>'\n",
    "        if last_status == 'new':\n",
    "            if emails:\n",
    "                mime_message = Email.message_of_product_catalog(self.market, self.account, buyer['name'])\n",
    "                if Email.send(self.account, emails, mime_message):\n",
    "                    params = {'buyer': buyer['name'], 'greetings': greetings, 'email': ','.join(emails), 'sender': self.lname, 'whatsapp': self.mobile}\n",
    "                    message = self.reply_templates['notify_catalog_was_sent'].substitute(params)\n",
    "                    if self.send_message(message, self.catalog):\n",
    "                        tracking['status'].append('catalog was sent by email')\n",
    "                        self.save_tracking_ids()\n",
    "                    else:\n",
    "                        tracking['status'].append('catalog was sent by email, but reply was failed')\n",
    "                        self.save_tracking_ids()\n",
    "            else:\n",
    "                params = {'buyer': buyer['name'], 'greetings': greetings, 'sender': self.lname, 'whatsapp': self.mobile}\n",
    "                message = self.reply_templates['notify_first_reply_without_email'].substitute(params)\n",
    "                if self.send_message(message, self.catalog):\n",
    "                    tracking['status'].append('catalog was sent directly')\n",
    "                    self.save_tracking_ids()\n",
    "        elif 'catalog was sent' in last_status and 'reply was failed' in last_status:\n",
    "            if is_replied:\n",
    "                tracking['status'].append('catalog was sent by email')\n",
    "                self.save_tracking_ids()\n",
    "            else:\n",
    "                params = {'buyer': buyer['name'], 'greetings': greetings, 'email': ','.join(emails), 'sender': self.lname, 'whatsapp': self.mobile}\n",
    "                message = self.reply_templates['notify_catalog_was_sent'].substitute(params)\n",
    "                if self.send_message(message, self.catalog):\n",
    "                    tracking['status'].append('catalog was sent by email')\n",
    "                    self.save_tracking_ids()\n",
    "\n",
    "        elif 'catalog was sent' in last_status:\n",
    "            pass\n",
    "        elif 'wait for email address' in last_status:\n",
    "            text = ''\n",
    "            for msg in last_buyer_messages:\n",
    "                text = text + '\\n\\n ' + msg['content']\n",
    "            emails = re.findall('([a-zA-Z0-9_.+-]+@[a-zA-Z0-9-]+\\.[a-zA-Z0-9-.]+)', text)\n",
    "            print(emails)\n",
    "            if emails:\n",
    "                tracking['emails'] = emails\n",
    "                self.save_tracking_ids()\n",
    "                mime_message = Email.message_of_product_catalog(self.market, self.account, buyer['name'])\n",
    "                if Email.send(self.account, emails, mime_message):\n",
    "                    params = {'buyer': buyer['name'], 'greetings': '', 'email': ', '.join(emails),\n",
    "                              'sender': self.lname, 'whatsapp': self.mobile}\n",
    "                    message = self.reply_templates['notify_catalog_was_sent'].substitute(params)\n",
    "                    if self.send_message(message, self.catalog):\n",
    "                        tracking['status'].append('catalog was sent by email')\n",
    "                        self.save_tracking_ids()\n",
    "    except Exception as e:\n",
    "        self.notify(\"danger\", '回复 询盘 [' + enquiry['id'] + '] 时 发生错误! ' + str(e))\n",
    "        traceback.print_exc()\n",
    "    finally:\n",
    "        self.close_inquiry_and_switch_back()\n",
    "inquiry.reply = types.MethodType(reply, inquiry)"
   ]
  },
  {
   "cell_type": "code",
   "execution_count": null,
   "metadata": {},
   "outputs": [],
   "source": [
    "inquiry.load_url()\n",
    "time.sleep(0.1)"
   ]
  },
  {
   "cell_type": "code",
   "execution_count": 5,
   "metadata": {},
   "outputs": [],
   "source": [
    "inquiries = inquiry.get_inquiries()"
   ]
  },
  {
   "cell_type": "code",
   "execution_count": 10,
   "metadata": {},
   "outputs": [
    {
     "data": {
      "text/plain": [
       "False"
      ]
     },
     "execution_count": 10,
     "metadata": {},
     "output_type": "execute_result"
    }
   ],
   "source": [
    "enquiry = inquiries[0]\n",
    "enquiry['is_new']"
   ]
  },
  {
   "cell_type": "code",
   "execution_count": null,
   "metadata": {
    "scrolled": true
   },
   "outputs": [],
   "source": [
    "enquiry = inquiries[0]\n",
    "enquiry['is_new'] = True\n",
    "enquiry"
   ]
  },
  {
   "cell_type": "code",
   "execution_count": null,
   "metadata": {},
   "outputs": [],
   "source": [
    "inquiry.tracking_ids = {}\n",
    "inquiry.is_auto_reply_needed(enquiry)\n",
    "inquiry.tracking_ids"
   ]
  },
  {
   "cell_type": "code",
   "execution_count": null,
   "metadata": {},
   "outputs": [],
   "source": [
    "inquiry.reply(enquiry)"
   ]
  },
  {
   "cell_type": "code",
   "execution_count": null,
   "metadata": {},
   "outputs": [],
   "source": []
  },
  {
   "cell_type": "code",
   "execution_count": null,
   "metadata": {},
   "outputs": [],
   "source": [
    "inquiry.account"
   ]
  },
  {
   "cell_type": "code",
   "execution_count": null,
   "metadata": {},
   "outputs": [],
   "source": [
    "inquiry.load_reply_templates()\n",
    "inquiry.reply_templates['notify_first_reply_without_email']"
   ]
  },
  {
   "cell_type": "code",
   "execution_count": 9,
   "metadata": {},
   "outputs": [
    {
     "data": {
      "text/plain": [
       "{'100765264623': {'datetime': DateTime(2018, 10, 13, 12, 9, 3, tzinfo=Timezone('+08:00')),\n",
       "  'status': ['new', 'catalog was sent by email']}}"
      ]
     },
     "execution_count": 9,
     "metadata": {},
     "output_type": "execute_result"
    }
   ],
   "source": [
    "# inquiry.tracking_ids['11947313067']['status'] = ['new']\n",
    "inquiry.tracking_ids"
   ]
  },
  {
   "cell_type": "code",
   "execution_count": 8,
   "metadata": {},
   "outputs": [
    {
     "name": "stdout",
     "output_type": "stream",
     "text": [
      "E:\\glitter\\Eyelashes_config [] inquiry_tracking_ids_Ada.json\n",
      "E:\\glitter\\Eyelashes_config\\inquiry_tracking_ids_Ada.json was deserialized!\n",
      "enquiry 100764430933 reply is needed\n",
      "danger 回复 询盘 [100764430933] 时 发生错误! '100764430933'\n"
     ]
    },
    {
     "name": "stderr",
     "output_type": "stream",
     "text": [
      "Traceback (most recent call last):\n",
      "  File \"E:\\workspace\\python\\Market Management\\libs\\alibaba\\inquiry.py\", line 329, in reply\n",
      "    tracking = self.tracking_ids[eid]\n",
      "KeyError: '100764430933'\n"
     ]
    }
   ],
   "source": [
    "inquiry.check()"
   ]
  },
  {
   "cell_type": "code",
   "execution_count": null,
   "metadata": {},
   "outputs": [],
   "source": [
    "inquiry.check()"
   ]
  },
  {
   "cell_type": "code",
   "execution_count": null,
   "metadata": {},
   "outputs": [],
   "source": [
    "inquiry.tracking_ids"
   ]
  },
  {
   "cell_type": "code",
   "execution_count": null,
   "metadata": {},
   "outputs": [],
   "source": [
    "inquiry.close_inquiry_and_switch_back()"
   ]
  },
  {
   "cell_type": "code",
   "execution_count": null,
   "metadata": {},
   "outputs": [],
   "source": [
    "inquiry.load_find_catalog()"
   ]
  },
  {
   "cell_type": "code",
   "execution_count": null,
   "metadata": {},
   "outputs": [],
   "source": [
    "inquiry.catalog"
   ]
  },
  {
   "cell_type": "code",
   "execution_count": null,
   "metadata": {},
   "outputs": [],
   "source": [
    "market = JSON.deserialize('.', 'storage', 'markets.json')['Eyelashes']\n",
    "inquiry = Inquiry(market)"
   ]
  },
  {
   "cell_type": "code",
   "execution_count": null,
   "metadata": {
    "scrolled": true
   },
   "outputs": [],
   "source": [
    "emails = ['changshu.qd@gmail.com', 'odingdongo@hotmail.com']\n",
    "mime_message = Email.message_of_product_catalog(inquiry.market, inquiry.account, 'prestl bernhard')\n",
    "Email.send(inquiry.account, emails, mime_message)"
   ]
  },
  {
   "cell_type": "code",
   "execution_count": null,
   "metadata": {},
   "outputs": [],
   "source": [
    "inquiry.account"
   ]
  },
  {
   "cell_type": "code",
   "execution_count": null,
   "metadata": {},
   "outputs": [],
   "source": []
  },
  {
   "cell_type": "code",
   "execution_count": null,
   "metadata": {},
   "outputs": [],
   "source": [
    "enquiry = inquiries[8]\n",
    "enquiry"
   ]
  },
  {
   "cell_type": "code",
   "execution_count": null,
   "metadata": {},
   "outputs": [],
   "source": []
  },
  {
   "cell_type": "code",
   "execution_count": null,
   "metadata": {},
   "outputs": [],
   "source": [
    "enquiry = inquiries[8]\n",
    "inquiry.open_inquiry_in_new_tab(enquiry)\n",
    "conversation = inquiry.get_conversation()\n",
    "inquiry.close_inquiry_and_switch_back()\n",
    "messages = conversation['messages']\n",
    "buyer = conversation['buyer']\n",
    "messages"
   ]
  },
  {
   "cell_type": "code",
   "execution_count": null,
   "metadata": {},
   "outputs": [],
   "source": [
    "enquiry = inquiries[8]\n",
    "enquiry"
   ]
  },
  {
   "cell_type": "code",
   "execution_count": null,
   "metadata": {},
   "outputs": [],
   "source": []
  },
  {
   "cell_type": "code",
   "execution_count": null,
   "metadata": {},
   "outputs": [],
   "source": [
    "# inquiry.load_tracking_ids()\n",
    "inquiry.tracking_ids"
   ]
  },
  {
   "cell_type": "code",
   "execution_count": null,
   "metadata": {},
   "outputs": [],
   "source": [
    "inquiry.close_inquiry_and_switch_back()"
   ]
  },
  {
   "cell_type": "code",
   "execution_count": null,
   "metadata": {
    "scrolled": true
   },
   "outputs": [],
   "source": [
    "# inquiry.close_inquiry_and_switch_back()\n",
    "# inquiry.tracking_ids['11947313067']['status'] = ['new']\n",
    "enquiry = inquiries[0]\n",
    "inquiry.reply(enquiry)"
   ]
  },
  {
   "cell_type": "code",
   "execution_count": null,
   "metadata": {},
   "outputs": [],
   "source": [
    "inquiry.tracking_ids"
   ]
  },
  {
   "cell_type": "code",
   "execution_count": null,
   "metadata": {},
   "outputs": [],
   "source": []
  },
  {
   "cell_type": "code",
   "execution_count": null,
   "metadata": {},
   "outputs": [],
   "source": []
  },
  {
   "cell_type": "code",
   "execution_count": null,
   "metadata": {},
   "outputs": [],
   "source": []
  },
  {
   "cell_type": "code",
   "execution_count": null,
   "metadata": {},
   "outputs": [],
   "source": [
    "def try_login_webww():\n",
    "    btn_login = WebDriverWait(inquiry.browser, 15).until(EC.visibility_of_element_located((By.CSS_SELECTOR, '#webatm2-iconbar')))\n",
    "    btn_login.click()"
   ]
  },
  {
   "cell_type": "code",
   "execution_count": null,
   "metadata": {},
   "outputs": [],
   "source": [
    "panel = inquiry.browser.find_element_by_css_selector('#webatm2-panel')"
   ]
  },
  {
   "cell_type": "code",
   "execution_count": null,
   "metadata": {},
   "outputs": [],
   "source": [
    "inquiries[11]"
   ]
  },
  {
   "cell_type": "code",
   "execution_count": null,
   "metadata": {},
   "outputs": [],
   "source": []
  },
  {
   "cell_type": "code",
   "execution_count": null,
   "metadata": {},
   "outputs": [],
   "source": []
  },
  {
   "cell_type": "code",
   "execution_count": null,
   "metadata": {},
   "outputs": [],
   "source": []
  },
  {
   "cell_type": "code",
   "execution_count": null,
   "metadata": {},
   "outputs": [],
   "source": []
  },
  {
   "cell_type": "code",
   "execution_count": null,
   "metadata": {},
   "outputs": [],
   "source": []
  },
  {
   "cell_type": "code",
   "execution_count": null,
   "metadata": {},
   "outputs": [],
   "source": []
  },
  {
   "cell_type": "code",
   "execution_count": null,
   "metadata": {},
   "outputs": [],
   "source": [
    "re.findall('([a-zA-Z0-9_.+-]+@[a-zA-Z0-9-]+\\.[a-zA-Z0-9-.]+)', text)"
   ]
  },
  {
   "cell_type": "code",
   "execution_count": null,
   "metadata": {},
   "outputs": [],
   "source": [
    "inquiry.browser.save_screenshot(\"screenshot.png\")"
   ]
  },
  {
   "cell_type": "code",
   "execution_count": null,
   "metadata": {
    "scrolled": true
   },
   "outputs": [],
   "source": []
  },
  {
   "cell_type": "code",
   "execution_count": null,
   "metadata": {},
   "outputs": [],
   "source": []
  },
  {
   "cell_type": "code",
   "execution_count": null,
   "metadata": {},
   "outputs": [],
   "source": []
  },
  {
   "cell_type": "code",
   "execution_count": null,
   "metadata": {},
   "outputs": [],
   "source": []
  },
  {
   "cell_type": "code",
   "execution_count": null,
   "metadata": {},
   "outputs": [],
   "source": []
  },
  {
   "cell_type": "code",
   "execution_count": null,
   "metadata": {},
   "outputs": [],
   "source": [
    "text = 'Inquiry ID：100708962003'"
   ]
  },
  {
   "cell_type": "code",
   "execution_count": null,
   "metadata": {},
   "outputs": [],
   "source": [
    "text = '询价单号：100708962003'"
   ]
  },
  {
   "cell_type": "code",
   "execution_count": null,
   "metadata": {},
   "outputs": [],
   "source": [
    "re.search('(\\d+)', text).group(1)"
   ]
  },
  {
   "cell_type": "code",
   "execution_count": null,
   "metadata": {},
   "outputs": [],
   "source": [
    "text"
   ]
  },
  {
   "cell_type": "code",
   "execution_count": null,
   "metadata": {},
   "outputs": [],
   "source": []
  },
  {
   "cell_type": "code",
   "execution_count": null,
   "metadata": {},
   "outputs": [],
   "source": []
  },
  {
   "cell_type": "code",
   "execution_count": null,
   "metadata": {},
   "outputs": [],
   "source": []
  },
  {
   "cell_type": "code",
   "execution_count": null,
   "metadata": {},
   "outputs": [],
   "source": [
    "msg = 'ldskfjsl'\n",
    "js = \"document.querySelector('.webatm2-window-body .webatm2-editor-body').innerHTML = `{message}`;\"\n",
    "js.format(message=msg)"
   ]
  },
  {
   "cell_type": "code",
   "execution_count": null,
   "metadata": {},
   "outputs": [],
   "source": [
    "from string import Template"
   ]
  },
  {
   "cell_type": "code",
   "execution_count": null,
   "metadata": {},
   "outputs": [],
   "source": [
    "params = {'salutation': 'chang', 'link': 'link', 'sender': 'shu'}\n",
    "templ = Template('$salutation, lsdkfjlskf. $sender')\n",
    "msg = templ.substitute(params)"
   ]
  },
  {
   "cell_type": "code",
   "execution_count": 15,
   "metadata": {},
   "outputs": [],
   "source": []
  },
  {
   "cell_type": "code",
   "execution_count": null,
   "metadata": {},
   "outputs": [],
   "source": []
  }
 ],
 "metadata": {
  "kernelspec": {
   "display_name": "Python 3",
   "language": "python",
   "name": "python3"
  },
  "language_info": {
   "codemirror_mode": {
    "name": "ipython",
    "version": 3
   },
   "file_extension": ".py",
   "mimetype": "text/x-python",
   "name": "python",
   "nbconvert_exporter": "python",
   "pygments_lexer": "ipython3",
   "version": "3.6.6"
  }
 },
 "nbformat": 4,
 "nbformat_minor": 2
}
