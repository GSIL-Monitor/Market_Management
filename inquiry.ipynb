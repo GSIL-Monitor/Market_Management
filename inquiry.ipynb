{
 "cells": [
  {
   "cell_type": "code",
   "execution_count": 1,
   "metadata": {},
   "outputs": [],
   "source": [
    "from libs.alibaba.alibaba import Alibaba\n",
    "from libs.alibaba.inquiry import Inquiry\n",
    "from libs.alibaba.inquiry import element_has_css_class\n",
    "from libs.email import Email\n",
    "from libs.json import JSON\n",
    "\n",
    "from selenium import webdriver\n",
    "from selenium.webdriver.common.keys import Keys\n",
    "from selenium.webdriver.support.ui import WebDriverWait\n",
    "from selenium.webdriver.support import expected_conditions as EC\n",
    "from selenium.common.exceptions import WebDriverException\n",
    "from selenium.common.exceptions import NoSuchElementException\n",
    "from selenium.common.exceptions import TimeoutException\n",
    "from selenium.common.exceptions import ElementNotVisibleException\n",
    "from selenium.common.exceptions import StaleElementReferenceException\n",
    "from selenium.webdriver.common.by import By\n",
    "from selenium.webdriver.common.action_chains import ActionChains\n",
    "\n",
    "from string import Template\n",
    "from datetime import datetime\n",
    "from bs4 import BeautifulSoup\n",
    "from pyquery import PyQuery as pq\n",
    "\n",
    "import json\n",
    "import requests\n",
    "import time\n",
    "import re\n",
    "import math\n",
    "\n",
    "import types\n",
    "import traceback\n",
    "import threading\n",
    "\n",
    "import pendulum\n",
    "\n",
    "import logging\n",
    "from logging.handlers import TimedRotatingFileHandler"
   ]
  },
  {
   "cell_type": "code",
   "execution_count": null,
   "metadata": {},
   "outputs": [],
   "source": []
  },
  {
   "cell_type": "code",
   "execution_count": 2,
   "metadata": {},
   "outputs": [
    {
     "name": "stdout",
     "output_type": "stream",
     "text": [
      ". storage markets.json\n",
      ".\\storage\\markets.json was deserialized!\n"
     ]
    },
    {
     "data": {
      "text/plain": [
       "{'name': 'Eyelashes',\n",
       " 'directory': 'E:\\\\glitter\\\\Eyelashes',\n",
       " 'lid': 'eyelash@glittergroupcn.com',\n",
       " 'lpwd': 'Wangzhen68970747',\n",
       " 'homepage': 'https://glittereyelash.en.alibaba.com',\n",
       " 'lname': 'Jeremy Wang',\n",
       " 'accounts': [{'lid': 'eyelash1@glittergroupcn.com',\n",
       "   'lpwd': 'Zhangying25160',\n",
       "   'lname': 'Emily Zhang',\n",
       "   'disabled': False},\n",
       "  {'lid': 'eyelash2@glittergroupcn.com',\n",
       "   'lpwd': 'Huyinping18130',\n",
       "   'lname': 'Ada Alva',\n",
       "   'disabled': False}]}"
      ]
     },
     "execution_count": 2,
     "metadata": {},
     "output_type": "execute_result"
    }
   ],
   "source": [
    "market = JSON.deserialize('.', 'storage', 'markets.json')['Eyelashes']\n",
    "market"
   ]
  },
  {
   "cell_type": "code",
   "execution_count": 3,
   "metadata": {},
   "outputs": [
    {
     "name": "stdout",
     "output_type": "stream",
     "text": [
      "{'lid': 'eyelash2@glittergroupcn.com', 'lpwd': 'Huyinping18130', 'lname': 'Ada Alva', 'disabled': False}\n",
      "E:\\glitter\\Eyelashes_config [] inquiry_tracking_ids_Ada.json\n",
      "E:\\glitter\\Eyelashes_config\\inquiry_tracking_ids_Ada.json was deserialized!\n"
     ]
    }
   ],
   "source": [
    "account = market['accounts'][1]\n",
    "print(account)\n",
    "inquiry = Inquiry(market, account, headless=False)"
   ]
  },
  {
   "cell_type": "code",
   "execution_count": 3,
   "metadata": {},
   "outputs": [
    {
     "name": "stdout",
     "output_type": "stream",
     "text": [
      "E:\\glitter\\Tools_config [] inquiry_tracking_ids_Jessica.json\n",
      "E:\\glitter\\Tools_config\\inquiry_tracking_ids_Jessica.json was deserialized!\n",
      "primary 打开网址：https://i.alibaba.com\n",
      "primary 等待登陆页面加载 ... ...\n",
      "primary 输入登录信息， 并登录\n",
      "success 成功 登录 阿里巴巴 国际站！用户名：Jessica\n"
     ]
    }
   ],
   "source": [
    "inquiry = Inquiry(market, headless=False)"
   ]
  },
  {
   "cell_type": "code",
   "execution_count": 4,
   "metadata": {},
   "outputs": [
    {
     "name": "stdout",
     "output_type": "stream",
     "text": [
      "primary 打开网址：https://i.alibaba.com\n",
      "primary 等待登陆页面加载 ... ...\n",
      "primary 输入登录信息， 并登录\n",
      "success 成功 登录 阿里巴巴 国际站！用户名：Ada\n"
     ]
    }
   ],
   "source": [
    "inquiry.login()"
   ]
  },
  {
   "cell_type": "code",
   "execution_count": null,
   "metadata": {},
   "outputs": [],
   "source": []
  },
  {
   "cell_type": "code",
   "execution_count": 4,
   "metadata": {},
   "outputs": [],
   "source": [
    "def webww_check(self):\n",
    "    threads = []\n",
    "    # try to login\n",
    "    icon = WebDriverWait(self.browser, 15).until(\n",
    "        EC.visibility_of_element_located((By.CSS_SELECTOR, '#webatm2-iconbar')))\n",
    "    container = self.browser.find_element_by_css_selector('#webww-contacts')\n",
    "    dialog_iframe = self.browser.find_element_by_css_selector('#webatm2-iframe')\n",
    "    while True:\n",
    "        icon.click()\n",
    "        try:\n",
    "            WebDriverWait(self.browser, 15).until(\n",
    "                EC.invisibility_of_element_located((By.CSS_SELECTOR, '#webww-contacts .webatm2-tips')))\n",
    "        except TimeoutException as e:\n",
    "            print(str(e))\n",
    "            traceback.print_exc()\n",
    "        confirm = self.browser.find_element_by_css_selector('#webww-contacts .webatm2-confirm')\n",
    "        if confirm.is_displayed():\n",
    "            # failed login, cancel checking\n",
    "            print('Trade Manager has been loged in somewhere else, cancel checking')\n",
    "            close_btn = confirm.find_element_by_css_selector('span.webatm2-confirm-close')\n",
    "            close_btn.click()\n",
    "            return threads\n",
    "\n",
    "        if 'show-panel' in container.get_attribute('class'):\n",
    "            break\n",
    "\n",
    "    panel = WebDriverWait(self.browser, 15).until(\n",
    "        EC.visibility_of_element_located((By.CSS_SELECTOR, '#webatm2-panel')))\n",
    "    # after login\n",
    "\n",
    "    # open dialog\n",
    "    time.sleep(2)\n",
    "    tab_recent = panel.find_element_by_css_selector('div.tab-recent')\n",
    "    if 'unread' not in tab_recent.get_attribute('class'):\n",
    "        # tracking_tid_exists = False\n",
    "        # for key in self.tracking_ids:\n",
    "        #     if key.startswith('enali'):\n",
    "        #         tracking_tid_exists = True\n",
    "        #         break\n",
    "        # if not tracking_tid_exists:\n",
    "        #     print('there is no new messages.')\n",
    "        #     return threads\n",
    "        print('there is no new messages.')\n",
    "        return threads\n",
    "\n",
    "    self.load_tracking_ids()\n",
    "\n",
    "    tab_sysmsg = panel.find_element_by_css_selector('div.tab-sysmsg')\n",
    "    tab_sysmsg.click()\n",
    "    panel.find_element_by_css_selector('.panel-sysmsg.active a').click()\n",
    "    WebDriverWait(self.browser, 15).until(EC.visibility_of_element_located((By.CSS_SELECTOR, '#webatm2-dialog')))\n",
    "\n",
    "    # switch to iframe and navigate to recent threads\n",
    "    self.browser.switch_to.frame(dialog_iframe)\n",
    "    sidebar = self.browser.find_element_by_css_selector('.webatm2-sidebar')\n",
    "    head = self.browser.find_element_by_css_selector('.webatm2-window-head')\n",
    "    body = self.browser.find_element_by_css_selector('.webatm2-window-body')\n",
    "    sidebar.find_element_by_css_selector('.tab-thread').click()\n",
    "    time.sleep(1)\n",
    "    doc = pq(sidebar.find_element_by_css_selector('.webatm2-thread-list').get_attribute('innerHTML'))\n",
    "    for div in doc.find('.webatm2-thread'):\n",
    "        div = pq(div)\n",
    "        thread = {}\n",
    "        tid = div.attr('data-user-id')\n",
    "        thread['id'] = tid\n",
    "        thread['online'] = not div.hasClass('offline')\n",
    "        thread['name'] = div.find('.thread-info .name').text()\n",
    "        thread['unread'] = div.hasClass('unread')\n",
    "        thread['unread_count'] = int(div.find('.thread-info span.unread').text())\n",
    "        threads.append(thread)\n",
    "\n",
    "        if thread['unread_count'] == 0:\n",
    "            continue\n",
    "\n",
    "        if tid not in self.tracking_ids:\n",
    "            self.tracking_ids[tid] = {}\n",
    "            self.tracking_ids[tid]['datetime'] = pendulum.now()\n",
    "\n",
    "            # 工具平台 不 区分 新老客户\n",
    "            if 'tools' in self.market['name'].lower():\n",
    "                self.tracking_ids[tid]['status'] = ['contacted']\n",
    "            else:\n",
    "                if re.search('[\\u4E00-\\u9FA5]+', thread['name']):  # contacted\n",
    "                    self.tracking_ids[tid]['status'] = ['contacted']\n",
    "                else:\n",
    "                    self.tracking_ids[tid]['status'] = ['new']\n",
    "\n",
    "            self.save_tracking_ids()\n",
    "        self.webww_switch_to_thread(thread, sidebar, head, body)\n",
    "\n",
    "    self.browser.switch_to.default_content()\n",
    "    # self.find_('#webatm2-dialog .webatm2-dialog-close').click()\n",
    "\n",
    "    # time.sleep(5)\n",
    "    # self.load_url()\n",
    "    return threads\n",
    "inquiry.webww_check = types.MethodType(webww_check, inquiry)"
   ]
  },
  {
   "cell_type": "code",
   "execution_count": null,
   "metadata": {},
   "outputs": [],
   "source": [
    "def webww_switch_to_thread(self, thread, sidebar, head, body):\n",
    "\n",
    "        div = sidebar.find_element_by_css_selector('div.webatm2-thread[data-user-id=\"' + thread['id'] + '\"]')\n",
    "\n",
    "        if 'active' not in div.get_attribute('class'):\n",
    "            # msgs = body.find_elements_by_css_selector('.webatm2-messages .webatm2-message')\n",
    "            div.click()\n",
    "\n",
    "        #     if msgs:\n",
    "        #         print(msgs)\n",
    "        #         WebDriverWait(self.browser, 15).until(EC.staleness_of(msgs[-1]))\n",
    "        #     else:\n",
    "        #         WebDriverWait(self.browser, 15).until(\n",
    "        #             EC.presence_of_element_located((By.CSS_SELECTOR, '.webatm2-messages .webatm2-message')))\n",
    "        #     time.sleep(1)\n",
    "        # WebDriverWait(self.browser, 15).until(\n",
    "        #     EC.text_to_be_present_in_element((By.CSS_SELECTOR, '.webatm2-window-head .user-name'), thread['name']))\n",
    "\n",
    "        WebDriverWait(self.browser, 15).until(\n",
    "            EC.frame_to_be_available_and_switch_to_it((By.CSS_SELECTOR, '.show-contact iframe')))\n",
    "        buyer_name = ''\n",
    "        country = ''\n",
    "        login_location = ''\n",
    "        is_alibaba_employee = False\n",
    "\n",
    "        try:\n",
    "            buyer_name = self.browser.find_element_by_css_selector('#mini-card-wrap span.user-nick').text\n",
    "            span_country = self.browser.find_element_by_css_selector(\n",
    "                '#mini-card-wrap .user-base-info-wrap span:nth-child(2)')\n",
    "            country = re.search(':(.*)', span_country.get_attribute('title')).group(1)\n",
    "\n",
    "            spans = self.browser.find_elements_by_css_selector('#vaildEmployee')\n",
    "            if spans:\n",
    "                is_alibaba_employee = True\n",
    "\n",
    "            p_login_location = self.browser.find_elements_by_css_selector('#mini-card-wrap p.last-login-time')\n",
    "            if p_login_location:\n",
    "                login_location = re.search(':(.*)', p_login_location[0].get_attribute('title')).group(1)\n",
    "        except Exception as e:\n",
    "            print(str(e))\n",
    "            traceback.print_exc()\n",
    "        finally:\n",
    "            self.browser.switch_to.parent_frame()\n",
    "\n",
    "        print(buyer_name, is_alibaba_employee, country, login_location)\n",
    "        doc = pq(self.browser.find_element_by_css_selector('.webatm2-window-body .webatm2-messages').get_attribute(\n",
    "            'innerHTML'))\n",
    "\n",
    "        is_replied = False\n",
    "        last_buyer_message = []\n",
    "        messages = []\n",
    "        for div in doc.find('.webatm2-message'):\n",
    "            div = pq(div)\n",
    "            message = {}\n",
    "            message['is_self'] = div.hasClass('self')\n",
    "            message['datetime'] = div.find('.time-tag').text() if div.find('.time-tag') else None\n",
    "            message['content'] = div.find('.content').text().replace('\\xa0', ' ')\n",
    "\n",
    "            if message['is_self']:\n",
    "                last_buyer_message = []\n",
    "                is_replied = True\n",
    "            else:\n",
    "                last_buyer_message.append(message)\n",
    "                is_replied = False\n",
    "\n",
    "            messages.append(message)\n",
    "\n",
    "        salutation = 'hello'\n",
    "        if buyer_name:\n",
    "            salutation = 'Dear ' + buyer_name\n",
    "\n",
    "        # tempory code to set links for catalog\n",
    "        link = ''\n",
    "        if 'eyelash' in self.market['name'].lower():\n",
    "            link = 'https://drive.google.com/file/d/1gfHwDl1qPomAMnkFGCjiVk74e8CQagoI'\n",
    "        elif 'tool' in self.market['name'].lower():\n",
    "            link = ''\n",
    "\n",
    "        params = {'salutation': salutation, 'link': link, 'sender': self.lname, 'email': self.lid}\n",
    "\n",
    "        tid = thread['id']\n",
    "        tracking = self.tracking_ids[tid]\n",
    "        last_status = tracking['status'][-1]\n",
    "        \n",
    "        if is_replied:\n",
    "            pass\n",
    "        elif is_alibaba_employee:\n",
    "            msg = '0123456789'\n",
    "            self.webww_send_message(msg, body)\n",
    "            tracking['status'].append('irrelevant reply')\n",
    "            self.save_tracking_ids()\n",
    "        elif last_status == 'new':\n",
    "            msg = self.reply_templates['webww_first_reply'].substitute(params)\n",
    "            self.webww_send_message(msg, body)\n",
    "            tracking['status'].append('contacted')\n",
    "            self.save_tracking_ids()\n",
    "        elif last_status == 'contacted':\n",
    "            msg = self.reply_templates['webww_default_reply_for_contacted_buyer'].substitute(params)\n",
    "            self.webww_send_message(msg, body)\n",
    "            tracking['status'].append('replied with default message')\n",
    "            self.save_tracking_ids()\n",
    "        else:\n",
    "            pass\n",
    "inquiry.webww_switch_to_thread = types.MethodType(webww_switch_to_thread, inquiry)"
   ]
  },
  {
   "cell_type": "code",
   "execution_count": null,
   "metadata": {},
   "outputs": [],
   "source": [
    "def webww_send_message(self, msg, body):\n",
    "    edit = body.find_element_by_css_selector('div.webatm2-editor-body')\n",
    "    for part in msg.split('\\n'):\n",
    "        edit.send_keys(part)\n",
    "        print(part)\n",
    "        ActionChains(self.browser).key_down(Keys.SHIFT).key_down(Keys.ENTER).key_up(Keys.SHIFT).perform()\n",
    "    edit.send_keys(Keys.BACKSPACE)\n",
    "    send_btn = body.find_element_by_css_selector('button.send')\n",
    "#     send_btn.click()\n",
    "\n",
    "inquiry.webww_send_message = types.MethodType(webww_send_message, inquiry)"
   ]
  },
  {
   "cell_type": "code",
   "execution_count": 4,
   "metadata": {},
   "outputs": [
    {
     "name": "stdout",
     "output_type": "stream",
     "text": [
      "primary 打开网址：https://i.alibaba.com\n",
      "primary 等待登陆页面加载 ... ...\n",
      "primary 输入登录信息， 并登录\n",
      "success 成功 登录 阿里巴巴 国际站！用户名：Ada\n"
     ]
    }
   ],
   "source": [
    "inquiry.login()"
   ]
  },
  {
   "cell_type": "code",
   "execution_count": null,
   "metadata": {},
   "outputs": [],
   "source": [
    "inquiry.browser.switch_to.default_content()"
   ]
  },
  {
   "cell_type": "code",
   "execution_count": 7,
   "metadata": {},
   "outputs": [],
   "source": [
    "inquiry.load_url()"
   ]
  },
  {
   "cell_type": "code",
   "execution_count": 8,
   "metadata": {},
   "outputs": [
    {
     "name": "stdout",
     "output_type": "stream",
     "text": [
      "there is no new messages.\n"
     ]
    }
   ],
   "source": [
    "threads = inquiry.webww_check()"
   ]
  },
  {
   "cell_type": "code",
   "execution_count": null,
   "metadata": {},
   "outputs": [],
   "source": [
    "dialog_iframe = inquiry.browser.find_element_by_css_selector('#webatm2-iframe')\n",
    "inquiry.browser.switch_to.frame(dialog_iframe)\n",
    "sidebar = inquiry.browser.find_ele.ment_by_css_selector('.webatm2-sidebar')\n",
    "head = inquiry.browser.find_element_by_css_selector('.webatm2-window-head')\n",
    "body = inquiry.browser.find_element_by_css_selector('.webatm2-window-body')\n"
   ]
  },
  {
   "cell_type": "code",
   "execution_count": null,
   "metadata": {},
   "outputs": [],
   "source": [
    "thread = threads[0]\n",
    "thread"
   ]
  },
  {
   "cell_type": "code",
   "execution_count": null,
   "metadata": {},
   "outputs": [],
   "source": [
    "inquiry.webww_switch_to_thread(threads[1], sidebar, head, body)"
   ]
  },
  {
   "cell_type": "code",
   "execution_count": null,
   "metadata": {},
   "outputs": [],
   "source": [
    "inquiry.browser.switch_to.default_content()"
   ]
  },
  {
   "cell_type": "code",
   "execution_count": null,
   "metadata": {},
   "outputs": [],
   "source": [
    "for t in threads:\n",
    "    inquiry.webww_switch_to_thread(t, sidebar, head, body)"
   ]
  },
  {
   "cell_type": "code",
   "execution_count": null,
   "metadata": {},
   "outputs": [],
   "source": [
    "not {}"
   ]
  },
  {
   "cell_type": "code",
   "execution_count": null,
   "metadata": {},
   "outputs": [],
   "source": []
  },
  {
   "cell_type": "code",
   "execution_count": null,
   "metadata": {},
   "outputs": [],
   "source": []
  },
  {
   "cell_type": "code",
   "execution_count": null,
   "metadata": {},
   "outputs": [],
   "source": [
    "inquiry.load_reply_templates()"
   ]
  },
  {
   "cell_type": "code",
   "execution_count": null,
   "metadata": {},
   "outputs": [],
   "source": [
    "inquiry.reply_templates"
   ]
  },
  {
   "cell_type": "code",
   "execution_count": null,
   "metadata": {},
   "outputs": [],
   "source": []
  },
  {
   "cell_type": "code",
   "execution_count": null,
   "metadata": {},
   "outputs": [],
   "source": [
    "def get_inquiries(self):\n",
    "    html = pq(self.browser.page_source)\n",
    "    inquiry_list = html.find('.ui2-list-body .aui2-grid-wraper')\n",
    "    inquiries = []\n",
    "    for elem in inquiry_list:\n",
    "        div = pq(elem)\n",
    "        item = {}\n",
    "        item['url'] = div.find('a').attr('href')\n",
    "        text = div.find('div.spec-inquiry-id').text().strip()\n",
    "        item['id'] = re.search('(\\d+)', text).group(1)\n",
    "        item['date'] = div.find('div.spec-inquiry-id+div').text().strip()\n",
    "        item['tags'] = []\n",
    "        for span in div.find('div.aui-tags span'):\n",
    "            item['tags'].append(pq(span).text())\n",
    "        item['is_replied'] = True if div.find('td:nth-child(2) i[title=\"已回复\"]') else False\n",
    "        item['title'] = div.find('td:nth-child(3)').text()\n",
    "        item['buyer'] = div.find('td:nth-child(4)').text().strip()\n",
    "        item['is_buyer_online'] = True if div.find('td:nth-child(5) div.atm-online') else False\n",
    "        text = div.find('td:nth-child(6) i').attr('title')\n",
    "        try:\n",
    "            item['buyer_country'] = re.sub(' \\[.*\\]', '', text)\n",
    "            item['buyer_local_time'] = re.search('\\[Local Time: (.*)\\]', text).group(1)\n",
    "        except AttributeError:\n",
    "            item['buyer_country'] = text\n",
    "            item['buyer_local_time'] = None\n",
    "        item['responsible_person'] = div.find('td:nth-child(7)').text()\n",
    "        item['status'] = div.find('td:nth-child(8)').text()\n",
    "        if '新询盘' in item['status'] or 'New Inquiry' in item['status']:\n",
    "            item['is_new'] = True\n",
    "        else:\n",
    "            item['is_new'] = False\n",
    "        inquiries.append(item)\n",
    "    return inquiries\n",
    "\n",
    "inquiry.get_inquiries = types.MethodType(get_inquiries, inquiry)"
   ]
  },
  {
   "cell_type": "code",
   "execution_count": 12,
   "metadata": {},
   "outputs": [],
   "source": [
    "def send_message(self, message, attach=None):\n",
    "    chat_form = self.browser.find_element_by_css_selector('form.reply-wrapper')\n",
    "    chat_form.find_element_by_css_selector('div.holder').click()\n",
    "\n",
    "    uploading_failed = False\n",
    "    if attach:\n",
    "        file_input = self.browser.find_element_by_css_selector('input#attachs')\n",
    "        file_input.send_keys(attach)\n",
    "\n",
    "        css = 'div.next-upload-list-item:last-child'\n",
    "        div = WebDriverWait(self.browser, 15).until(\n",
    "            EC.presence_of_element_located((By.CSS_SELECTOR, css)))\n",
    "        try:\n",
    "            WebDriverWait(self.browser, 150).until(\n",
    "                element_has_css_class(div, 'next-upload-list-item-done'))\n",
    "        except TimeoutException:\n",
    "            print('time out, cancel uploading')\n",
    "            div.find_element_by_css_selector('i.next-icon-close').click()\n",
    "            uploading_failed = True\n",
    "\n",
    "    if uploading_failed:\n",
    "        return False\n",
    "\n",
    "    # if uploading_failed or attach is None:\n",
    "    #     doc = pq(message)\n",
    "    #     doc.find('span.attach').remove()\n",
    "    #     message = doc.outer_html()\n",
    "\n",
    "    WebDriverWait(self.browser, 15).until(\n",
    "        EC.frame_to_be_available_and_switch_to_it((By.CSS_SELECTOR, '#inquiry-content_ifr')))\n",
    "    body = self.browser.find_element_by_tag_name('body')\n",
    "    self.click(body)\n",
    "\n",
    "    js = self.reply_js_template.format(message=message)\n",
    "    self.browser.execute_script(js)\n",
    "    self.browser.switch_to.default_content()\n",
    "\n",
    "    time.sleep(1)\n",
    "\n",
    "    btn_send = chat_form.find_element_by_css_selector('button.send')\n",
    "    btn_send.click()\n",
    "    \n",
    "    return True\n",
    "\n",
    "inquiry.send_message = types.MethodType(send_message, inquiry)"
   ]
  },
  {
   "cell_type": "code",
   "execution_count": 9,
   "metadata": {},
   "outputs": [],
   "source": [
    "\n",
    "def reply(self, enquiry):\n",
    "    try:\n",
    "        self.open_inquiry_in_new_tab(enquiry)\n",
    "        conversation = self.get_conversation()\n",
    "\n",
    "        messages = conversation['messages']\n",
    "        buyer = conversation['buyer']\n",
    "\n",
    "        last_buyer_messages = []\n",
    "        is_replied = False\n",
    "        reply_count = 0\n",
    "        for msg in messages:\n",
    "            if msg['position'] == 'left':\n",
    "                last_buyer_messages.append(msg)\n",
    "                is_replied = False\n",
    "            elif msg['position'] == 'right' and 'Seller Assistant' not in msg['user']:\n",
    "                last_buyer_messages = []\n",
    "                is_replied = True\n",
    "                reply_count += 1\n",
    "\n",
    "        # check if email address is already exists in conversation\n",
    "        text = ''\n",
    "        for msg in last_buyer_messages:\n",
    "            text = text + '\\n\\n ' + msg['content']\n",
    "        emails = re.findall('([a-zA-Z0-9_.+-]+@[a-zA-Z0-9-]+\\.[a-zA-Z0-9-.]+)', text)\n",
    "\n",
    "        if buyer['email']:\n",
    "            emails.append(buyer['email'])\n",
    "\n",
    "        eid = enquiry['id']\n",
    "        tracking = self.tracking_ids[eid]\n",
    "        last_status = tracking['status'][-1]\n",
    "        greetings = '<p>Pleased to hear from you.</p><br>'\n",
    "        if last_status == 'new':\n",
    "            if emails:\n",
    "                mime_message = Email.message_of_product_catalog(self.market, self.account, buyer['name'])\n",
    "#                 if Email.send(self.account, emails, mime_message):\n",
    "                if True:\n",
    "                    params = {'buyer': buyer['name'], 'greetings': greetings, 'email': ','.join(emails), 'sender': self.lname}\n",
    "                    message = self.reply_templates['notify_catalog_was_sent'].substitute(params)\n",
    "                    if self.send_message(message, self.catalog):\n",
    "                        tracking['status'].append('catalog was sent by email')\n",
    "                        self.save_tracking_ids()\n",
    "                    else:\n",
    "                        tracking['status'].append('catalog was sent by email, but reply was failed')\n",
    "                        self.save_tracking_ids()\n",
    "            else:\n",
    "                params = {'buyer': buyer['name'], 'greetings': greetings, 'sender': self.lname}\n",
    "                message = self.reply_templates['notify_first_reply_without_email'].substitute(params)\n",
    "                if self.send_message(message, self.catalog):\n",
    "                    tracking['status'].append('catalog was sent directly')\n",
    "                    self.save_tracking_ids()\n",
    "        elif 'catalog was sent' in last_status and 'reply was failed' in last_status:\n",
    "            if is_replied:\n",
    "                tracking['status'].append('catalog was sent by email')\n",
    "                self.save_tracking_ids()\n",
    "            else:\n",
    "                params = {'buyer': buyer['name'], 'greetings': greetings, 'email': ','.join(emails), 'sender': self.lname}\n",
    "                message = self.reply_templates['notify_catalog_was_sent'].substitute(params)\n",
    "                if self.send_message(message, self.catalog):\n",
    "                    tracking['status'].append('catalog was sent by email')\n",
    "                    self.save_tracking_ids()\n",
    "\n",
    "        elif 'catalog was sent' in last_status:\n",
    "            pass\n",
    "        elif 'wait for email address' in last_status:\n",
    "            text = ''\n",
    "            for msg in last_buyer_messages:\n",
    "                text = text + '\\n\\n ' + msg['content']\n",
    "            emails = re.findall('([a-zA-Z0-9_.+-]+@[a-zA-Z0-9-]+\\.[a-zA-Z0-9-.]+)', text)\n",
    "            print(emails)\n",
    "            if emails:\n",
    "                tracking['emails'] = emails\n",
    "                self.save_tracking_ids()\n",
    "                mime_message = Email.message_of_product_catalog(self.market, self.account, buyer['name'])\n",
    "                if Email.send(self.account, emails, mime_message):\n",
    "                    params = {'buyer': buyer['name'], 'greetings': '', 'email': ', '.join(emails),\n",
    "                              'sender': self.lname}\n",
    "                    message = self.reply_templates['notify_catalog_was_sent'].substitute(params)\n",
    "                    if self.send_message(message, self.catalog):\n",
    "                        tracking['status'].append('catalog was sent by email')\n",
    "                        self.save_tracking_ids()\n",
    "    except Exception as e:\n",
    "        self.notify(\"danger\", '回复 询盘 [' + enquiry['id'] + '] 时 发生错误! ' + str(e))\n",
    "        traceback.print_exc()\n",
    "    finally:\n",
    "        self.close_inquiry_and_switch_back()\n",
    "inquiry.reply = types.MethodType(reply, inquiry)"
   ]
  },
  {
   "cell_type": "code",
   "execution_count": null,
   "metadata": {},
   "outputs": [],
   "source": [
    "inquiry.load_url()\n",
    "time.sleep(0.1)"
   ]
  },
  {
   "cell_type": "code",
   "execution_count": null,
   "metadata": {},
   "outputs": [],
   "source": [
    "inquiries = inquiry.get_inquiries()"
   ]
  },
  {
   "cell_type": "code",
   "execution_count": null,
   "metadata": {
    "scrolled": true
   },
   "outputs": [],
   "source": [
    "enquiry = inquiries[3]\n",
    "enquiry"
   ]
  },
  {
   "cell_type": "code",
   "execution_count": null,
   "metadata": {},
   "outputs": [],
   "source": [
    "inquiry.is_auto_reply_needed(enquiry)"
   ]
  },
  {
   "cell_type": "code",
   "execution_count": null,
   "metadata": {},
   "outputs": [],
   "source": [
    "inquiry.reply(enquiry)"
   ]
  },
  {
   "cell_type": "code",
   "execution_count": null,
   "metadata": {},
   "outputs": [],
   "source": []
  },
  {
   "cell_type": "code",
   "execution_count": null,
   "metadata": {},
   "outputs": [],
   "source": [
    "inquiry.account"
   ]
  },
  {
   "cell_type": "code",
   "execution_count": null,
   "metadata": {},
   "outputs": [],
   "source": [
    "inquiry.load_reply_templates()\n",
    "inquiry.reply_templates['notify_first_reply_without_email']"
   ]
  },
  {
   "cell_type": "code",
   "execution_count": null,
   "metadata": {},
   "outputs": [],
   "source": [
    "inquiry.tracking_ids['11947313067']['status'] = ['new']\n",
    "inquiry.tracking_ids"
   ]
  },
  {
   "cell_type": "code",
   "execution_count": null,
   "metadata": {},
   "outputs": [],
   "source": [
    "inquiry.check()"
   ]
  },
  {
   "cell_type": "code",
   "execution_count": 13,
   "metadata": {},
   "outputs": [
    {
     "name": "stdout",
     "output_type": "stream",
     "text": [
      "E:\\glitter\\Eyelashes_config [] inquiry_tracking_ids_Ada.json\n",
      "E:\\glitter\\Eyelashes_config\\inquiry_tracking_ids_Ada.json was deserialized!\n",
      "==------------------------------------------------------==\n",
      "ada alva ada alva\n",
      "enquiry 100732618307 reply is needed\n",
      "danger 回复 询盘 [100732618307] 时 发生错误! 'NoneType' object has no attribute 'click'\n"
     ]
    },
    {
     "name": "stderr",
     "output_type": "stream",
     "text": [
      "Traceback (most recent call last):\n",
      "  File \"<ipython-input-9-4661a9914e6c>\", line 42, in reply\n",
      "    if self.send_message(message, self.catalog):\n",
      "  File \"<ipython-input-12-8c643104bcf2>\", line 44, in send_message\n",
      "    btn_send.click()\n",
      "AttributeError: 'NoneType' object has no attribute 'click'\n"
     ]
    },
    {
     "ename": "NoSuchWindowException",
     "evalue": "Message: no such window: target window already closed\nfrom unknown error: web view not found\n  (Session info: chrome=68.0.3440.106)\n  (Driver info: chromedriver=2.40.565498 (ea082db3280dd6843ebfb08a625e3eb905c4f5ab),platform=Windows NT 10.0.17134 x86_64)\n",
     "output_type": "error",
     "traceback": [
      "\u001b[1;31m---------------------------------------------------------------------------\u001b[0m",
      "\u001b[1;31mNoSuchWindowException\u001b[0m                     Traceback (most recent call last)",
      "\u001b[1;32m<ipython-input-13-9b98097545b8>\u001b[0m in \u001b[0;36m<module>\u001b[1;34m()\u001b[0m\n\u001b[1;32m----> 1\u001b[1;33m \u001b[0minquiry\u001b[0m\u001b[1;33m.\u001b[0m\u001b[0mcheck\u001b[0m\u001b[1;33m(\u001b[0m\u001b[1;33m)\u001b[0m\u001b[1;33m\u001b[0m\u001b[0m\n\u001b[0m",
      "\u001b[1;32mE:\\workspace\\python\\Market Management\\libs\\alibaba\\inquiry.py\u001b[0m in \u001b[0;36mcheck\u001b[1;34m(self)\u001b[0m\n\u001b[0;32m    434\u001b[0m \u001b[1;33m\u001b[0m\u001b[0m\n\u001b[0;32m    435\u001b[0m             \u001b[0mprint\u001b[0m\u001b[1;33m(\u001b[0m\u001b[1;34m'enquiry '\u001b[0m \u001b[1;33m+\u001b[0m \u001b[0menquiry\u001b[0m\u001b[1;33m[\u001b[0m\u001b[1;34m'id'\u001b[0m\u001b[1;33m]\u001b[0m \u001b[1;33m+\u001b[0m \u001b[1;34m' reply is needed'\u001b[0m\u001b[1;33m)\u001b[0m\u001b[1;33m\u001b[0m\u001b[0m\n\u001b[1;32m--> 436\u001b[1;33m             \u001b[0mself\u001b[0m\u001b[1;33m.\u001b[0m\u001b[0mreply\u001b[0m\u001b[1;33m(\u001b[0m\u001b[0menquiry\u001b[0m\u001b[1;33m)\u001b[0m\u001b[1;33m\u001b[0m\u001b[0m\n\u001b[0m\u001b[0;32m    437\u001b[0m \u001b[1;33m\u001b[0m\u001b[0m\n\u001b[0;32m    438\u001b[0m     \u001b[1;32mdef\u001b[0m \u001b[0mwebww_check\u001b[0m\u001b[1;33m(\u001b[0m\u001b[0mself\u001b[0m\u001b[1;33m)\u001b[0m\u001b[1;33m:\u001b[0m\u001b[1;33m\u001b[0m\u001b[0m\n",
      "\u001b[1;32m<ipython-input-9-4661a9914e6c>\u001b[0m in \u001b[0;36mreply\u001b[1;34m(self, enquiry)\u001b[0m\n\u001b[0;32m     86\u001b[0m         \u001b[0mtraceback\u001b[0m\u001b[1;33m.\u001b[0m\u001b[0mprint_exc\u001b[0m\u001b[1;33m(\u001b[0m\u001b[1;33m)\u001b[0m\u001b[1;33m\u001b[0m\u001b[0m\n\u001b[0;32m     87\u001b[0m     \u001b[1;32mfinally\u001b[0m\u001b[1;33m:\u001b[0m\u001b[1;33m\u001b[0m\u001b[0m\n\u001b[1;32m---> 88\u001b[1;33m         \u001b[0mself\u001b[0m\u001b[1;33m.\u001b[0m\u001b[0mclose_inquiry_and_switch_back\u001b[0m\u001b[1;33m(\u001b[0m\u001b[1;33m)\u001b[0m\u001b[1;33m\u001b[0m\u001b[0m\n\u001b[0m\u001b[0;32m     89\u001b[0m \u001b[0minquiry\u001b[0m\u001b[1;33m.\u001b[0m\u001b[0mreply\u001b[0m \u001b[1;33m=\u001b[0m \u001b[0mtypes\u001b[0m\u001b[1;33m.\u001b[0m\u001b[0mMethodType\u001b[0m\u001b[1;33m(\u001b[0m\u001b[0mreply\u001b[0m\u001b[1;33m,\u001b[0m \u001b[0minquiry\u001b[0m\u001b[1;33m)\u001b[0m\u001b[1;33m\u001b[0m\u001b[0m\n",
      "\u001b[1;32mE:\\workspace\\python\\Market Management\\libs\\alibaba\\inquiry.py\u001b[0m in \u001b[0;36mclose_inquiry_and_switch_back\u001b[1;34m(self)\u001b[0m\n\u001b[0;32m    193\u001b[0m \u001b[1;33m\u001b[0m\u001b[0m\n\u001b[0;32m    194\u001b[0m     \u001b[1;32mdef\u001b[0m \u001b[0mclose_inquiry_and_switch_back\u001b[0m\u001b[1;33m(\u001b[0m\u001b[0mself\u001b[0m\u001b[1;33m)\u001b[0m\u001b[1;33m:\u001b[0m\u001b[1;33m\u001b[0m\u001b[0m\n\u001b[1;32m--> 195\u001b[1;33m         \u001b[0mself\u001b[0m\u001b[1;33m.\u001b[0m\u001b[0mbrowser\u001b[0m\u001b[1;33m.\u001b[0m\u001b[0mclose\u001b[0m\u001b[1;33m(\u001b[0m\u001b[1;33m)\u001b[0m\u001b[1;33m\u001b[0m\u001b[0m\n\u001b[0m\u001b[0;32m    196\u001b[0m         \u001b[0mself\u001b[0m\u001b[1;33m.\u001b[0m\u001b[0mbrowser\u001b[0m\u001b[1;33m.\u001b[0m\u001b[0mswitch_to_window\u001b[0m\u001b[1;33m(\u001b[0m\u001b[0mself\u001b[0m\u001b[1;33m.\u001b[0m\u001b[0mbrowser\u001b[0m\u001b[1;33m.\u001b[0m\u001b[0mwindow_handles\u001b[0m\u001b[1;33m[\u001b[0m\u001b[1;36m0\u001b[0m\u001b[1;33m]\u001b[0m\u001b[1;33m)\u001b[0m\u001b[1;33m\u001b[0m\u001b[0m\n\u001b[0;32m    197\u001b[0m \u001b[1;33m\u001b[0m\u001b[0m\n",
      "\u001b[1;32me:\\worksp~1\\python\\market~1\\venv\\lib\\site-packages\\selenium\\webdriver\\remote\\webdriver.py\u001b[0m in \u001b[0;36mclose\u001b[1;34m(self)\u001b[0m\n\u001b[0;32m    685\u001b[0m             \u001b[0mdriver\u001b[0m\u001b[1;33m.\u001b[0m\u001b[0mclose\u001b[0m\u001b[1;33m(\u001b[0m\u001b[1;33m)\u001b[0m\u001b[1;33m\u001b[0m\u001b[0m\n\u001b[0;32m    686\u001b[0m         \"\"\"\n\u001b[1;32m--> 687\u001b[1;33m         \u001b[0mself\u001b[0m\u001b[1;33m.\u001b[0m\u001b[0mexecute\u001b[0m\u001b[1;33m(\u001b[0m\u001b[0mCommand\u001b[0m\u001b[1;33m.\u001b[0m\u001b[0mCLOSE\u001b[0m\u001b[1;33m)\u001b[0m\u001b[1;33m\u001b[0m\u001b[0m\n\u001b[0m\u001b[0;32m    688\u001b[0m \u001b[1;33m\u001b[0m\u001b[0m\n\u001b[0;32m    689\u001b[0m     \u001b[1;32mdef\u001b[0m \u001b[0mquit\u001b[0m\u001b[1;33m(\u001b[0m\u001b[0mself\u001b[0m\u001b[1;33m)\u001b[0m\u001b[1;33m:\u001b[0m\u001b[1;33m\u001b[0m\u001b[0m\n",
      "\u001b[1;32me:\\worksp~1\\python\\market~1\\venv\\lib\\site-packages\\selenium\\webdriver\\remote\\webdriver.py\u001b[0m in \u001b[0;36mexecute\u001b[1;34m(self, driver_command, params)\u001b[0m\n\u001b[0;32m    318\u001b[0m         \u001b[0mresponse\u001b[0m \u001b[1;33m=\u001b[0m \u001b[0mself\u001b[0m\u001b[1;33m.\u001b[0m\u001b[0mcommand_executor\u001b[0m\u001b[1;33m.\u001b[0m\u001b[0mexecute\u001b[0m\u001b[1;33m(\u001b[0m\u001b[0mdriver_command\u001b[0m\u001b[1;33m,\u001b[0m \u001b[0mparams\u001b[0m\u001b[1;33m)\u001b[0m\u001b[1;33m\u001b[0m\u001b[0m\n\u001b[0;32m    319\u001b[0m         \u001b[1;32mif\u001b[0m \u001b[0mresponse\u001b[0m\u001b[1;33m:\u001b[0m\u001b[1;33m\u001b[0m\u001b[0m\n\u001b[1;32m--> 320\u001b[1;33m             \u001b[0mself\u001b[0m\u001b[1;33m.\u001b[0m\u001b[0merror_handler\u001b[0m\u001b[1;33m.\u001b[0m\u001b[0mcheck_response\u001b[0m\u001b[1;33m(\u001b[0m\u001b[0mresponse\u001b[0m\u001b[1;33m)\u001b[0m\u001b[1;33m\u001b[0m\u001b[0m\n\u001b[0m\u001b[0;32m    321\u001b[0m             response['value'] = self._unwrap_value(\n\u001b[0;32m    322\u001b[0m                 response.get('value', None))\n",
      "\u001b[1;32me:\\worksp~1\\python\\market~1\\venv\\lib\\site-packages\\selenium\\webdriver\\remote\\errorhandler.py\u001b[0m in \u001b[0;36mcheck_response\u001b[1;34m(self, response)\u001b[0m\n\u001b[0;32m    240\u001b[0m                 \u001b[0malert_text\u001b[0m \u001b[1;33m=\u001b[0m \u001b[0mvalue\u001b[0m\u001b[1;33m[\u001b[0m\u001b[1;34m'alert'\u001b[0m\u001b[1;33m]\u001b[0m\u001b[1;33m.\u001b[0m\u001b[0mget\u001b[0m\u001b[1;33m(\u001b[0m\u001b[1;34m'text'\u001b[0m\u001b[1;33m)\u001b[0m\u001b[1;33m\u001b[0m\u001b[0m\n\u001b[0;32m    241\u001b[0m             \u001b[1;32mraise\u001b[0m \u001b[0mexception_class\u001b[0m\u001b[1;33m(\u001b[0m\u001b[0mmessage\u001b[0m\u001b[1;33m,\u001b[0m \u001b[0mscreen\u001b[0m\u001b[1;33m,\u001b[0m \u001b[0mstacktrace\u001b[0m\u001b[1;33m,\u001b[0m \u001b[0malert_text\u001b[0m\u001b[1;33m)\u001b[0m\u001b[1;33m\u001b[0m\u001b[0m\n\u001b[1;32m--> 242\u001b[1;33m         \u001b[1;32mraise\u001b[0m \u001b[0mexception_class\u001b[0m\u001b[1;33m(\u001b[0m\u001b[0mmessage\u001b[0m\u001b[1;33m,\u001b[0m \u001b[0mscreen\u001b[0m\u001b[1;33m,\u001b[0m \u001b[0mstacktrace\u001b[0m\u001b[1;33m)\u001b[0m\u001b[1;33m\u001b[0m\u001b[0m\n\u001b[0m\u001b[0;32m    243\u001b[0m \u001b[1;33m\u001b[0m\u001b[0m\n\u001b[0;32m    244\u001b[0m     \u001b[1;32mdef\u001b[0m \u001b[0m_value_or_default\u001b[0m\u001b[1;33m(\u001b[0m\u001b[0mself\u001b[0m\u001b[1;33m,\u001b[0m \u001b[0mobj\u001b[0m\u001b[1;33m,\u001b[0m \u001b[0mkey\u001b[0m\u001b[1;33m,\u001b[0m \u001b[0mdefault\u001b[0m\u001b[1;33m)\u001b[0m\u001b[1;33m:\u001b[0m\u001b[1;33m\u001b[0m\u001b[0m\n",
      "\u001b[1;31mNoSuchWindowException\u001b[0m: Message: no such window: target window already closed\nfrom unknown error: web view not found\n  (Session info: chrome=68.0.3440.106)\n  (Driver info: chromedriver=2.40.565498 (ea082db3280dd6843ebfb08a625e3eb905c4f5ab),platform=Windows NT 10.0.17134 x86_64)\n"
     ]
    }
   ],
   "source": [
    "inquiry.check()"
   ]
  },
  {
   "cell_type": "code",
   "execution_count": null,
   "metadata": {},
   "outputs": [],
   "source": [
    "inquiry.tracking_ids"
   ]
  },
  {
   "cell_type": "code",
   "execution_count": null,
   "metadata": {},
   "outputs": [],
   "source": [
    "inquiry.close_inquiry_and_switch_back()"
   ]
  },
  {
   "cell_type": "code",
   "execution_count": null,
   "metadata": {},
   "outputs": [],
   "source": [
    "inquiry.load_find_catalog()"
   ]
  },
  {
   "cell_type": "code",
   "execution_count": null,
   "metadata": {},
   "outputs": [],
   "source": [
    "inquiry.catalog"
   ]
  },
  {
   "cell_type": "code",
   "execution_count": null,
   "metadata": {},
   "outputs": [],
   "source": [
    "market = JSON.deserialize('.', 'storage', 'markets.json')['Eyelashes']\n",
    "inquiry = Inquiry(market)"
   ]
  },
  {
   "cell_type": "code",
   "execution_count": null,
   "metadata": {
    "scrolled": true
   },
   "outputs": [],
   "source": [
    "emails = ['changshu.qd@gmail.com', 'odingdongo@hotmail.com']\n",
    "mime_message = Email.message_of_product_catalog(inquiry.market, inquiry.account, 'prestl bernhard')\n",
    "Email.send(inquiry.account, emails, mime_message)"
   ]
  },
  {
   "cell_type": "code",
   "execution_count": null,
   "metadata": {},
   "outputs": [],
   "source": [
    "inquiry.account"
   ]
  },
  {
   "cell_type": "code",
   "execution_count": null,
   "metadata": {},
   "outputs": [],
   "source": []
  },
  {
   "cell_type": "code",
   "execution_count": null,
   "metadata": {},
   "outputs": [],
   "source": [
    "enquiry = inquiries[8]\n",
    "enquiry"
   ]
  },
  {
   "cell_type": "code",
   "execution_count": null,
   "metadata": {},
   "outputs": [],
   "source": []
  },
  {
   "cell_type": "code",
   "execution_count": null,
   "metadata": {},
   "outputs": [],
   "source": [
    "enquiry = inquiries[8]\n",
    "inquiry.open_inquiry_in_new_tab(enquiry)\n",
    "conversation = inquiry.get_conversation()\n",
    "inquiry.close_inquiry_and_switch_back()\n",
    "messages = conversation['messages']\n",
    "buyer = conversation['buyer']\n",
    "messages"
   ]
  },
  {
   "cell_type": "code",
   "execution_count": null,
   "metadata": {},
   "outputs": [],
   "source": [
    "enquiry = inquiries[8]\n",
    "enquiry"
   ]
  },
  {
   "cell_type": "code",
   "execution_count": null,
   "metadata": {},
   "outputs": [],
   "source": []
  },
  {
   "cell_type": "code",
   "execution_count": null,
   "metadata": {},
   "outputs": [],
   "source": [
    "# inquiry.load_tracking_ids()\n",
    "inquiry.tracking_ids"
   ]
  },
  {
   "cell_type": "code",
   "execution_count": null,
   "metadata": {},
   "outputs": [],
   "source": [
    "inquiry.close_inquiry_and_switch_back()"
   ]
  },
  {
   "cell_type": "code",
   "execution_count": null,
   "metadata": {
    "scrolled": true
   },
   "outputs": [],
   "source": [
    "# inquiry.close_inquiry_and_switch_back()\n",
    "# inquiry.tracking_ids['11947313067']['status'] = ['new']\n",
    "enquiry = inquiries[0]\n",
    "inquiry.reply(enquiry)"
   ]
  },
  {
   "cell_type": "code",
   "execution_count": null,
   "metadata": {},
   "outputs": [],
   "source": [
    "inquiry.tracking_ids"
   ]
  },
  {
   "cell_type": "code",
   "execution_count": null,
   "metadata": {},
   "outputs": [],
   "source": []
  },
  {
   "cell_type": "code",
   "execution_count": null,
   "metadata": {},
   "outputs": [],
   "source": []
  },
  {
   "cell_type": "code",
   "execution_count": null,
   "metadata": {},
   "outputs": [],
   "source": []
  },
  {
   "cell_type": "code",
   "execution_count": null,
   "metadata": {},
   "outputs": [],
   "source": [
    "def try_login_webww():\n",
    "    btn_login = WebDriverWait(inquiry.browser, 15).until(EC.visibility_of_element_located((By.CSS_SELECTOR, '#webatm2-iconbar')))\n",
    "    btn_login.click()"
   ]
  },
  {
   "cell_type": "code",
   "execution_count": null,
   "metadata": {},
   "outputs": [],
   "source": [
    "panel = inquiry.browser.find_element_by_css_selector('#webatm2-panel')"
   ]
  },
  {
   "cell_type": "code",
   "execution_count": null,
   "metadata": {},
   "outputs": [],
   "source": [
    "inquiries[11]"
   ]
  },
  {
   "cell_type": "code",
   "execution_count": null,
   "metadata": {},
   "outputs": [],
   "source": []
  },
  {
   "cell_type": "code",
   "execution_count": null,
   "metadata": {},
   "outputs": [],
   "source": []
  },
  {
   "cell_type": "code",
   "execution_count": null,
   "metadata": {},
   "outputs": [],
   "source": []
  },
  {
   "cell_type": "code",
   "execution_count": null,
   "metadata": {},
   "outputs": [],
   "source": []
  },
  {
   "cell_type": "code",
   "execution_count": null,
   "metadata": {},
   "outputs": [],
   "source": []
  },
  {
   "cell_type": "code",
   "execution_count": null,
   "metadata": {},
   "outputs": [],
   "source": []
  },
  {
   "cell_type": "code",
   "execution_count": null,
   "metadata": {},
   "outputs": [],
   "source": [
    "re.findall('([a-zA-Z0-9_.+-]+@[a-zA-Z0-9-]+\\.[a-zA-Z0-9-.]+)', text)"
   ]
  },
  {
   "cell_type": "code",
   "execution_count": null,
   "metadata": {},
   "outputs": [],
   "source": [
    "inquiry.browser.save_screenshot(\"screenshot.png\")"
   ]
  },
  {
   "cell_type": "code",
   "execution_count": null,
   "metadata": {
    "scrolled": true
   },
   "outputs": [],
   "source": []
  },
  {
   "cell_type": "code",
   "execution_count": null,
   "metadata": {},
   "outputs": [],
   "source": []
  },
  {
   "cell_type": "code",
   "execution_count": null,
   "metadata": {},
   "outputs": [],
   "source": []
  },
  {
   "cell_type": "code",
   "execution_count": null,
   "metadata": {},
   "outputs": [],
   "source": []
  },
  {
   "cell_type": "code",
   "execution_count": null,
   "metadata": {},
   "outputs": [],
   "source": []
  },
  {
   "cell_type": "code",
   "execution_count": null,
   "metadata": {},
   "outputs": [],
   "source": [
    "text = 'Inquiry ID：100708962003'"
   ]
  },
  {
   "cell_type": "code",
   "execution_count": null,
   "metadata": {},
   "outputs": [],
   "source": [
    "text = '询价单号：100708962003'"
   ]
  },
  {
   "cell_type": "code",
   "execution_count": null,
   "metadata": {},
   "outputs": [],
   "source": [
    "re.search('(\\d+)', text).group(1)"
   ]
  },
  {
   "cell_type": "code",
   "execution_count": null,
   "metadata": {},
   "outputs": [],
   "source": [
    "text"
   ]
  },
  {
   "cell_type": "code",
   "execution_count": null,
   "metadata": {},
   "outputs": [],
   "source": []
  },
  {
   "cell_type": "code",
   "execution_count": null,
   "metadata": {},
   "outputs": [],
   "source": []
  },
  {
   "cell_type": "code",
   "execution_count": null,
   "metadata": {},
   "outputs": [],
   "source": []
  },
  {
   "cell_type": "code",
   "execution_count": null,
   "metadata": {},
   "outputs": [],
   "source": [
    "msg = 'ldskfjsl'\n",
    "js = \"document.querySelector('.webatm2-window-body .webatm2-editor-body').innerHTML = `{message}`;\"\n",
    "js.format(message=msg)"
   ]
  },
  {
   "cell_type": "code",
   "execution_count": null,
   "metadata": {},
   "outputs": [],
   "source": [
    "from string import Template"
   ]
  },
  {
   "cell_type": "code",
   "execution_count": null,
   "metadata": {},
   "outputs": [],
   "source": [
    "params = {'salutation': 'chang', 'link': 'link', 'sender': 'shu'}\n",
    "templ = Template('$salutation, lsdkfjlskf. $sender')\n",
    "msg = templ.substitute(params)"
   ]
  },
  {
   "cell_type": "code",
   "execution_count": null,
   "metadata": {},
   "outputs": [],
   "source": [
    "msg"
   ]
  },
  {
   "cell_type": "code",
   "execution_count": null,
   "metadata": {},
   "outputs": [],
   "source": []
  },
  {
   "cell_type": "code",
   "execution_count": null,
   "metadata": {},
   "outputs": [],
   "source": []
  },
  {
   "cell_type": "code",
   "execution_count": null,
   "metadata": {},
   "outputs": [],
   "source": []
  }
 ],
 "metadata": {
  "kernelspec": {
   "display_name": "Python 3",
   "language": "python",
   "name": "python3"
  },
  "language_info": {
   "codemirror_mode": {
    "name": "ipython",
    "version": 3
   },
   "file_extension": ".py",
   "mimetype": "text/x-python",
   "name": "python",
   "nbconvert_exporter": "python",
   "pygments_lexer": "ipython3",
   "version": "3.6.6"
  }
 },
 "nbformat": 4,
 "nbformat_minor": 2
}
