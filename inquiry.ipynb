{
 "cells": [
  {
   "cell_type": "code",
   "execution_count": null,
   "metadata": {},
   "outputs": [],
   "source": [
    "from libs.alibaba.alibaba import Alibaba\n",
    "from libs.alibaba.inquiry import Inquiry\n",
    "from libs.json import JSON\n",
    "\n",
    "from selenium import webdriver\n",
    "from selenium.webdriver.common.keys import Keys\n",
    "from selenium.webdriver.support.ui import WebDriverWait\n",
    "from selenium.webdriver.support import expected_conditions as EC\n",
    "from selenium.common.exceptions import WebDriverException\n",
    "from selenium.common.exceptions import NoSuchElementException\n",
    "from selenium.common.exceptions import ElementNotVisibleException\n",
    "from selenium.common.exceptions import StaleElementReferenceException\n",
    "from selenium.webdriver.common.by import By\n",
    "from selenium.webdriver.common.action_chains import ActionChains\n",
    "\n",
    "from datetime import datetime\n",
    "from bs4 import BeautifulSoup\n",
    "from pyquery import PyQuery as pq\n",
    "\n",
    "import json\n",
    "import requests\n",
    "import time\n",
    "import re\n",
    "import math\n",
    "\n",
    "import types\n",
    "import traceback\n",
    "import threading\n",
    "\n",
    "import logging\n",
    "from logging.handlers import TimedRotatingFileHandler"
   ]
  },
  {
   "cell_type": "code",
   "execution_count": null,
   "metadata": {},
   "outputs": [],
   "source": [
    "market = JSON.deserialize('.', 'storage', 'markets.json')['Eyelashes']\n",
    "market"
   ]
  },
  {
   "cell_type": "code",
   "execution_count": null,
   "metadata": {},
   "outputs": [],
   "source": [
    "inquiry = Inquiry(market)\n",
    "inquiry.login()"
   ]
  },
  {
   "cell_type": "code",
   "execution_count": null,
   "metadata": {},
   "outputs": [],
   "source": [
    "def open_inquiry_in_new_tab(self, inquiry):\n",
    "    href = self.browser.find_element_by_css_selector('a[data-trade-id=\"'+inquiry['id']+'\"]').get_attribute('href')\n",
    "    self.browser.execute_script(\"window.open('');\")\n",
    "    self.browser.switch_to.window(self.browser.window_handles[1])\n",
    "    self.browser.get(href)\n",
    "\n",
    "inquiry.open_inquiry_in_new_tab = types.MethodType(open_inquiry_in_new_tab, inquiry)"
   ]
  },
  {
   "cell_type": "code",
   "execution_count": null,
   "metadata": {},
   "outputs": [],
   "source": [
    "def close_inquiry_and_switch_back(self):\n",
    "    self.browser.close()\n",
    "    self.browser.switch_to_window(self.browser.window_handles[0])\n",
    "\n",
    "inquiry.close_inquiry_and_switch_back = types.MethodType(close_inquiry_and_switch_back, inquiry)"
   ]
  },
  {
   "cell_type": "code",
   "execution_count": null,
   "metadata": {},
   "outputs": [],
   "source": []
  },
  {
   "cell_type": "code",
   "execution_count": 20,
   "metadata": {},
   "outputs": [],
   "source": []
  },
  {
   "cell_type": "code",
   "execution_count": 7,
   "metadata": {},
   "outputs": [],
   "source": [
    "inquiry.load_url()\n",
    "inquiries = inquiry.get_inquiries()"
   ]
  },
  {
   "cell_type": "code",
   "execution_count": 25,
   "metadata": {
    "scrolled": true
   },
   "outputs": [
    {
     "name": "stdout",
     "output_type": "stream",
     "text": [
      "{'messages': [{'position': 'left', 'user': 'Amour Me', 'date': '2018-07-02 02:27', 'content': 'Hi,\\nI’m interested in your product Top Quality Grade 100% Handmade 3D Real Mink False Eyelashes, I would like some more details.\\nI look forward for your reply.\\n\\n\\nRegards,\\nAmour Me\\nThis Message is from mobile'}, {'position': 'right', 'user': 'Jeremy Wang', 'date': '2018-07-02 02:31', 'content': 'Hi Amour,\\nWe will send our product catalog to you by email.\\n\\nRegards\\nJeremy'}, {'position': 'left', 'user': 'Amour Me', 'date': '2018-07-02 02:38', 'content': 'Hello, do you have a WhatsApp number? So i can get more information on the hair?'}, {'position': 'right', 'user': 'Jeremy Wang', 'date': '2018-07-02 07:43', 'content': 'Yes,WhatsApp or Skype number is +8617685593100'}, {'position': 'right', 'user': 'Jeremy Wang', 'date': '2018-07-02 07:44', 'content': 'Would you pls leave your WhatsApp number?Thanks'}, {'position': 'left', 'user': 'Amour Me', 'date': '2018-07-04 05:58', 'content': 'My WhatsApp is 313-622-0214'}], 'buyer': {'email': 'lavishroper@icloud.com', 'name': 'Amour Me'}}\n"
     ]
    }
   ],
   "source": [
    "for enquiry in inquiries:\n",
    "    if enquiry['tags'] or enquiry['is_replied']:\n",
    "        continue\n",
    "        \n",
    "    inquiry.open_inquiry_in_new_tab(enquiry)\n",
    "\n",
    "    conversation = inquiry.get_conversation()\n",
    "    print(conversation)\n",
    "    messages = conversation['messages']\n",
    "    buyer = conversation['buyer']\n",
    "    \n",
    "        is_replied = False\n",
    "    reply_count = 0\n",
    "    for msg in messages:\n",
    "        if msg['position'] == 'left':\n",
    "            is_replied = False\n",
    "        elif msg['position'] == 'right':\n",
    "            is_replied = True\n",
    "            reply_count += 1\n",
    "\n",
    "    if reply_count == 0 and is_replied is False:\n",
    "        print('this is a new inquiry.')\n",
    "        pass\n",
    "    elif reply_count !=0 and is_replied is False:\n",
    "        print('this inquiry is not replied yet!')\n",
    "        pass\n",
    "    else:\n",
    "        print('this inquiry was replied.')\n",
    "        pass\n",
    "\n",
    "    inquiry.close_inquiry_and_switch_back()"
   ]
  },
  {
   "cell_type": "code",
   "execution_count": null,
   "metadata": {},
   "outputs": [],
   "source": []
  },
  {
   "cell_type": "code",
   "execution_count": 26,
   "metadata": {},
   "outputs": [],
   "source": []
  },
  {
   "cell_type": "code",
   "execution_count": 33,
   "metadata": {},
   "outputs": [
    {
     "name": "stdout",
     "output_type": "stream",
     "text": [
      "this inquiry is not replied yet!\n"
     ]
    }
   ],
   "source": []
  },
  {
   "cell_type": "code",
   "execution_count": 29,
   "metadata": {},
   "outputs": [
    {
     "data": {
      "text/plain": [
       "{'email': 'lavishroper@icloud.com', 'name': 'Amour Me'}"
      ]
     },
     "execution_count": 29,
     "metadata": {},
     "output_type": "execute_result"
    }
   ],
   "source": [
    "buyer"
   ]
  },
  {
   "cell_type": "code",
   "execution_count": 30,
   "metadata": {},
   "outputs": [
    {
     "data": {
      "text/plain": [
       "[{'position': 'left',\n",
       "  'user': 'Amour Me',\n",
       "  'date': '2018-07-02 02:27',\n",
       "  'content': 'Hi,\\nI’m interested in your product Top Quality Grade 100% Handmade 3D Real Mink False Eyelashes, I would like some more details.\\nI look forward for your reply.\\n\\n\\nRegards,\\nAmour Me\\nThis Message is from mobile'},\n",
       " {'position': 'right',\n",
       "  'user': 'Jeremy Wang',\n",
       "  'date': '2018-07-02 02:31',\n",
       "  'content': 'Hi Amour,\\nWe will send our product catalog to you by email.\\n\\nRegards\\nJeremy'},\n",
       " {'position': 'left',\n",
       "  'user': 'Amour Me',\n",
       "  'date': '2018-07-02 02:38',\n",
       "  'content': 'Hello, do you have a WhatsApp number? So i can get more information on the hair?'},\n",
       " {'position': 'right',\n",
       "  'user': 'Jeremy Wang',\n",
       "  'date': '2018-07-02 07:43',\n",
       "  'content': 'Yes,WhatsApp or Skype number is +8617685593100'},\n",
       " {'position': 'right',\n",
       "  'user': 'Jeremy Wang',\n",
       "  'date': '2018-07-02 07:44',\n",
       "  'content': 'Would you pls leave your WhatsApp number?Thanks'},\n",
       " {'position': 'left',\n",
       "  'user': 'Amour Me',\n",
       "  'date': '2018-07-04 05:58',\n",
       "  'content': 'My WhatsApp is 313-622-0214'}]"
      ]
     },
     "execution_count": 30,
     "metadata": {},
     "output_type": "execute_result"
    }
   ],
   "source": [
    "messages"
   ]
  },
  {
   "cell_type": "code",
   "execution_count": 35,
   "metadata": {},
   "outputs": [
    {
     "data": {
      "text/plain": [
       "{'url': '/message/default.htm?spm=a2700.8443394/feedback-all.1998738733.5.97553e5fnSbj2P#feedback/detail/all/11943497798/1620962172/MC1IDX1qQb_MbU9KWatYEfMfk_DtKS70hBZSqYWIraNMnLwcGuIn8e4Z6X9mAi12KSMkidE/21/quotation',\n",
       " 'id': '11943497798',\n",
       " 'date': '17:07',\n",
       " 'tags': ['【RFQ】 Request for Quotation'],\n",
       " 'is_replied': True,\n",
       " 'title': 'Eyelash',\n",
       " 'buyer': 'Kenny Khoon',\n",
       " 'is_buyer_online': False,\n",
       " 'buyer_country': 'Thailand',\n",
       " 'buyer_local_time': '20: 44 Wed Jul 04',\n",
       " 'responsible_person': 'Jeremy Wang',\n",
       " 'status': '洽谈中'}"
      ]
     },
     "execution_count": 35,
     "metadata": {},
     "output_type": "execute_result"
    }
   ],
   "source": [
    "inquiries[0]"
   ]
  },
  {
   "cell_type": "code",
   "execution_count": null,
   "metadata": {},
   "outputs": [],
   "source": []
  }
 ],
 "metadata": {
  "kernelspec": {
   "display_name": "Python 3",
   "language": "python",
   "name": "python3"
  },
  "language_info": {
   "codemirror_mode": {
    "name": "ipython",
    "version": 3
   },
   "file_extension": ".py",
   "mimetype": "text/x-python",
   "name": "python",
   "nbconvert_exporter": "python",
   "pygments_lexer": "ipython3",
   "version": "3.6.5"
  }
 },
 "nbformat": 4,
 "nbformat_minor": 2
}
