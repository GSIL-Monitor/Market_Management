{
 "cells": [
  {
   "cell_type": "code",
   "execution_count": 1,
   "metadata": {},
   "outputs": [],
   "source": [
    "from libs.alibaba.alibaba import Alibaba\n",
    "from libs.alibaba.inquiry import Inquiry\n",
    "from libs.alibaba.inquiry import element_has_css_class\n",
    "from libs.email import Email\n",
    "from libs.json import JSON\n",
    "\n",
    "from selenium import webdriver\n",
    "from selenium.webdriver.common.keys import Keys\n",
    "from selenium.webdriver.support.ui import WebDriverWait\n",
    "from selenium.webdriver.support import expected_conditions as EC\n",
    "from selenium.common.exceptions import WebDriverException\n",
    "from selenium.common.exceptions import NoSuchElementException\n",
    "from selenium.common.exceptions import TimeoutException\n",
    "from selenium.common.exceptions import ElementNotVisibleException\n",
    "from selenium.common.exceptions import StaleElementReferenceException\n",
    "from selenium.webdriver.common.by import By\n",
    "from selenium.webdriver.common.action_chains import ActionChains\n",
    "\n",
    "from string import Template\n",
    "from datetime import datetime\n",
    "from bs4 import BeautifulSoup\n",
    "from pyquery import PyQuery as pq\n",
    "\n",
    "import json\n",
    "import requests\n",
    "import time\n",
    "import re\n",
    "import math\n",
    "\n",
    "import types\n",
    "import traceback\n",
    "import threading\n",
    "\n",
    "import pendulum\n",
    "\n",
    "import logging\n",
    "from logging.handlers import TimedRotatingFileHandler"
   ]
  },
  {
   "cell_type": "code",
   "execution_count": 12,
   "metadata": {},
   "outputs": [
    {
     "name": "stdout",
     "output_type": "stream",
     "text": [
      ". storage markets.json\n",
      ".\\storage\\markets.json was deserialized!\n"
     ]
    },
    {
     "data": {
      "text/plain": [
       "{'name': 'Tools',\n",
       " 'directory': 'E:\\\\glitter\\\\Tools',\n",
       " 'lid': 'glittertools@glittergroupcn.com',\n",
       " 'lpwd': 'Songjianwei68970747',\n",
       " 'accounts': [],\n",
       " 'homepage': 'https://glittertools.en.alibaba.com',\n",
       " 'lname': 'Jessica Chen'}"
      ]
     },
     "execution_count": 12,
     "metadata": {},
     "output_type": "execute_result"
    }
   ],
   "source": [
    "market = JSON.deserialize('.', 'storage', 'markets.json')['Tools']\n",
    "market"
   ]
  },
  {
   "cell_type": "code",
   "execution_count": 3,
   "metadata": {},
   "outputs": [
    {
     "name": "stdout",
     "output_type": "stream",
     "text": [
      "E:\\glitter\\Eyelashes_config [] inquiry_tracking_ids_Jeremy.json\n",
      "E:\\glitter\\Eyelashes_config\\inquiry_tracking_ids_Jeremy.json was deserialized!\n"
     ]
    }
   ],
   "source": [
    "inquiry = Inquiry(market)\n",
    "# inquiry.login()"
   ]
  },
  {
   "cell_type": "code",
   "execution_count": null,
   "metadata": {},
   "outputs": [],
   "source": []
  },
  {
   "cell_type": "code",
   "execution_count": null,
   "metadata": {},
   "outputs": [],
   "source": [
    "def webww_check(self):\n",
    "    # try to login\n",
    "    icon = WebDriverWait(self.browser, 15).until(EC.visibility_of_element_located((By.CSS_SELECTOR, '#webatm2-iconbar')))\n",
    "    container = self.browser.find_element_by_css_selector('#webww-contacts')\n",
    "    dialog_iframe = self.browser.find_element_by_css_selector('#webatm2-iframe')\n",
    "    while True:\n",
    "        icon.click()\n",
    "        WebDriverWait(self.browser, 15).until(EC.invisibility_of_element_located((By.CSS_SELECTOR, '#webww-contacts .webatm2-tips')))\n",
    "        confirm = self.browser.find_element_by_css_selector('#webww-contacts .webatm2-confirm')\n",
    "        if confirm.is_displayed():\n",
    "            # failed login, cancel checking\n",
    "            print('Trade Manager has been loged in somewhere else, cancel checking')\n",
    "            close_btn = confirm.find_element_by_css_selector('span.webatm2-confirm-close')\n",
    "            close_btn.click()\n",
    "            return\n",
    "        \n",
    "        if 'show-panel' in container.get_attribute('class'):\n",
    "            break\n",
    "    \n",
    "    panel = WebDriverWait(self.browser, 15).until(\n",
    "        EC.visibility_of_element_located((By.CSS_SELECTOR, '#webatm2-panel')))\n",
    "    # after login\n",
    "    \n",
    "    # open dialog\n",
    "    tab_sysmsg = panel.find_element_by_css_selector('div.tab-sysmsg')\n",
    "    tab_sysmsg.click()\n",
    "    panel.find_element_by_css_selector('.panel-sysmsg.active a').click()\n",
    "    WebDriverWait(self.browser, 15).until(EC.visibility_of_element_located((By.CSS_SELECTOR, '#webatm2-dialog')))\n",
    "    \n",
    "    # switch to iframe and navigate to recent threads\n",
    "    self.browser.switch_to.frame(dialog_iframe)\n",
    "    sidebar = self.browser.find_element_by_css_selector('.webatm2-sidebar')\n",
    "    head = self.browser.find_element_by_css_selector('.webatm2-window-head')\n",
    "    body = self.browser.find_element_by_css_selector('.webatm2-window-body')\n",
    "    sidebar.find_element_by_css_selector('.tab-thread').click()\n",
    "    time.sleep(1)\n",
    "    doc=pq(sidebar.find_element_by_css_selector('.webatm2-thread-list').get_attribute('innerHTML'))\n",
    "    for div in doc.find('.webatm2-thread'):\n",
    "        div = pq(div)\n",
    "        thread = {}\n",
    "        thread['id'] = div.attr('data-user-id')\n",
    "        thread['online'] = div.hasClass('online')\n",
    "        thread['name'] = div.find('.thread-info .name').text()\n",
    "        thread['unread'] = div.find('.thread-info span.unread').text()\n",
    "        print(thread)\n",
    "        \n",
    "        if thread['id'] == 'enaliintcl1113504018jszx' or thread['id'] == 'enaliintpe1318961315wklp':\n",
    "            self.webww_switch_to_thread(thread, sidebar, head, body)\n",
    "            \n",
    "    self.browser.switch_to.default_content()\n",
    "inquiry.webww_check = types.MethodType(webww_check, inquiry)"
   ]
  },
  {
   "cell_type": "code",
   "execution_count": null,
   "metadata": {},
   "outputs": [],
   "source": [
    "def webww_switch_to_thread(self, thread, sidebar, head, body):\n",
    "    \n",
    "    div = sidebar.find_element_by_css_selector('div.webatm2-thread[data-user-id=\"'+thread['id']+'\"]')\n",
    "    \n",
    "    if 'active' not in div.get_attribute('class'):\n",
    "        msgs = body.find_elements_by_css_selector('.webatm2-messages .webatm2-message')\n",
    "        div.click()\n",
    "    \n",
    "        if msgs:\n",
    "            WebDriverWait(self.browser, 15).until(EC.staleness_of(msgs[-1]))\n",
    "        else:\n",
    "            WebDriverWait(self.browser, 15).until(\n",
    "                EC.presence_of_element_located((By.CSS_SELECTOR, '.webatm2-messages .webatm2-message')))\n",
    "        time.sleep(1)\n",
    "    WebDriverWait(self.browser, 15).until(\n",
    "            EC.text_to_be_present_in_element((By.CSS_SELECTOR, '.webatm2-window-head .user-name'), thread['name']))\n",
    "\n",
    "    doc = pq(self.browser.find_element_by_css_selector('.webatm2-window-body .webatm2-messages').get_attribute('innerHTML'))\n",
    "    messages = []\n",
    "    for div in doc.find('.webatm2-message'):\n",
    "        div = pq(div)\n",
    "        message = {}\n",
    "        message['is_self'] = div.hasClass('self')\n",
    "        message['datetime'] = div.find('.time-tag').text() if div.find('.time-tag') else None\n",
    "        message['content'] = div.find('.content').html()\n",
    "        messages.append(message)\n",
    "        \n",
    "#     self.browser.find_element_by_css_selector('#webatm2-dialog .webatm2-dialog-close').click()\n",
    "    print()\n",
    "    print(messages)\n",
    "inquiry.webww_switch_to_thread = types.MethodType(webww_switch_to_thread, inquiry)"
   ]
  },
  {
   "cell_type": "code",
   "execution_count": null,
   "metadata": {},
   "outputs": [],
   "source": [
    "def webww_send_message(self, message):\n",
    "    pass\n",
    "\n",
    "inquiry.webww_send_message = types.MethodType(webww_send_message, inquiry)"
   ]
  },
  {
   "cell_type": "code",
   "execution_count": null,
   "metadata": {},
   "outputs": [],
   "source": [
    "inquiry.browser.switch_to.default_content()"
   ]
  },
  {
   "cell_type": "code",
   "execution_count": null,
   "metadata": {},
   "outputs": [],
   "source": [
    "inquiry.load_url()"
   ]
  },
  {
   "cell_type": "code",
   "execution_count": null,
   "metadata": {},
   "outputs": [],
   "source": [
    "inquiry.load_url()\n",
    "inquiry.webww_check()"
   ]
  },
  {
   "cell_type": "code",
   "execution_count": null,
   "metadata": {},
   "outputs": [],
   "source": []
  },
  {
   "cell_type": "code",
   "execution_count": 6,
   "metadata": {},
   "outputs": [],
   "source": [
    "def send_message(self, message, attach=None):\n",
    "    chat_form = self.browser.find_element_by_css_selector('form.reply-wrapper')\n",
    "    chat_form.click()\n",
    "\n",
    "    uploading_failed = False\n",
    "    if attach:\n",
    "        file_input = self.browser.find_element_by_css_selector('input#attachs')\n",
    "        file_input.send_keys(attach)\n",
    "\n",
    "        css = 'div.next-upload-list-item:last-child'\n",
    "        div = WebDriverWait(self.browser, 15).until(\n",
    "            EC.presence_of_element_located((By.CSS_SELECTOR, css)))\n",
    "        try:\n",
    "            WebDriverWait(self.browser, 120).until(\n",
    "                element_has_css_class(div, 'next-upload-list-item-done'))\n",
    "        except TimeoutException:\n",
    "            print('time out, cancel uploading')\n",
    "            div.find_element_by_css_selector('i.next-icon-close').click()\n",
    "            uploading_failed = True\n",
    "        \n",
    "    if uploading_failed:\n",
    "        return False\n",
    "            \n",
    "#     if uploading_failed or attach is None:\n",
    "#         doc = pq(message)\n",
    "#         doc.find('span.attach').remove()\n",
    "#         message = doc.outer_html()\n",
    "\n",
    "    WebDriverWait(self.browser, 15).until(\n",
    "        EC.frame_to_be_available_and_switch_to_it((By.CSS_SELECTOR, '#inquiry-content_ifr')))\n",
    "    body = self.browser.find_element_by_tag_name('body')\n",
    "    body.click()\n",
    "\n",
    "    js = self.reply_js_template.format(message=message)\n",
    "    self.browser.execute_script(js)\n",
    "    self.browser.switch_to.default_content()\n",
    "\n",
    "    time.sleep(1)\n",
    "\n",
    "    btn_send = chat_form.find_element_by_css_selector('button.send')\n",
    "    btn_send.click()\n",
    "    return True\n",
    "\n",
    "inquiry.send_message = types.MethodType(send_message, inquiry)"
   ]
  },
  {
   "cell_type": "code",
   "execution_count": 7,
   "metadata": {},
   "outputs": [],
   "source": [
    "def reply(self, enquiry):\n",
    "    try:\n",
    "        self.open_inquiry_in_new_tab(enquiry)\n",
    "        conversation = self.get_conversation()\n",
    "\n",
    "        messages = conversation['messages']\n",
    "        buyer = conversation['buyer']\n",
    "\n",
    "        last_buyer_messages = []\n",
    "        is_replied = False\n",
    "        reply_count = 0\n",
    "        for msg in messages:\n",
    "            if msg['position'] == 'left':\n",
    "                last_buyer_messages.append(msg)\n",
    "                is_replied = False\n",
    "            elif msg['position'] == 'right' and 'Seller Assistant' not in msg['user']:\n",
    "                last_buyer_messages = []\n",
    "                is_replied = True\n",
    "                reply_count += 1\n",
    "\n",
    "        eid = enquiry['id']\n",
    "        tracking = self.tracking_ids[eid]\n",
    "        last_status = tracking['status'][-1]\n",
    "        if last_status == 'new':\n",
    "            greetings = '<p>Pleased to hear from you.</p><br>'\n",
    "            # buyer['email'] = 'changshu.qd@gmail.com'  # for testing purpose\n",
    "            buyer['email'] = ''  # for testing purpose\n",
    "            if buyer['email']:\n",
    "                emails = [buyer['email']]\n",
    "                mime_message = Email.message_of_product_catalog(self.market, self.account, buyer['name'])\n",
    "                if Email.send(self.account, emails, mime_message):\n",
    "                    params = {'buyer': buyer['name'], 'greetings': greetings, 'email': buyer['email'],\n",
    "                              'sender': self.lname}\n",
    "                    message = self.reply_templates['notify_catalog_was_sent'].substitute(params)\n",
    "                    if self.send_message(message, self.catalog):\n",
    "                        tracking['status'].append('catalog was sent by email')\n",
    "                        self.save_tracking_ids()\n",
    "            else:\n",
    "                params = {'buyer': buyer['name'], 'greetings': greetings, 'sender': self.lname}\n",
    "                message = self.reply_templates['notify_first_reply_without_email'].substitute(params)\n",
    "                if self.send_message(message, self.catalog):\n",
    "                    tracking['status'].append('catalog was sent directly')\n",
    "                    self.save_tracking_ids()\n",
    "        elif 'catalog was sent' in last_status:\n",
    "            pass\n",
    "        elif 'wait for email address' in last_status:\n",
    "            text = ''\n",
    "            for msg in last_buyer_messages:\n",
    "                text = text + '\\n\\n ' + msg['content']\n",
    "            emails = re.findall('([a-zA-Z0-9_.+-]+@[a-zA-Z0-9-]+\\.[a-zA-Z0-9-.]+)', text)\n",
    "            print(emails)\n",
    "            if emails:\n",
    "                tracking['emails'] = emails\n",
    "                self.save_tracking_ids()\n",
    "                mime_message = Email.message_of_product_catalog(self.market, self.account, buyer['name'])\n",
    "                if Email.send(self.account, emails, mime_message):\n",
    "                    greetings = ''\n",
    "                    params = {'buyer': buyer['name'], 'greetings': greetings, 'email': ', '.join(emails),\n",
    "                              'sender': self.lname}\n",
    "                    message = self.reply_templates['notify_catalog_was_sent'].substitute(params)\n",
    "                    if self.send_message(message, self.catalog):\n",
    "                        tracking['status'].append('catalog was sent by email')\n",
    "                        self.save_tracking_ids()\n",
    "    except Exception as e:\n",
    "        self.notify(\"danger\", '回复 询盘 [' + enquiry['id'] + '] 时 发生错误! ' + str(e))\n",
    "        traceback.print_exc()\n",
    "    finally:\n",
    "        self.close_inquiry_and_switch_back()\n",
    "inquiry.reply = types.MethodType(reply, inquiry)"
   ]
  },
  {
   "cell_type": "code",
   "execution_count": 8,
   "metadata": {},
   "outputs": [],
   "source": [
    "def is_auto_reply_needed(self, enquiry):\n",
    "    eid = enquiry['id']\n",
    "    # #for testing purpose\n",
    "    if enquiry['id'] == '11964562469':\n",
    "        self.tracking_ids[eid] = {}\n",
    "        self.tracking_ids[eid]['datetime'] = pendulum.now()\n",
    "        self.tracking_ids[eid]['status'] = ['new']\n",
    "        self.save_tracking_ids()\n",
    "        return True\n",
    "    else:\n",
    "        return False\n",
    "\n",
    "    if enquiry['responsible_person'].lower() != self.lname.lower():\n",
    "        return False\n",
    "\n",
    "    if eid in self.tracking_ids and self.tracking_ids[eid]['datetime'].diff().in_hours() <= 12:\n",
    "        if not enquiry['is_replied']:\n",
    "            return True\n",
    "    if len(enquiry['tags']) == 0 and enquiry['is_new']:\n",
    "        if eid not in self.tracking_ids:\n",
    "            self.tracking_ids[eid] = {}\n",
    "            self.tracking_ids[eid]['datetime'] = pendulum.now()\n",
    "            self.tracking_ids[eid]['status'] = ['new']\n",
    "            self.save_tracking_ids()\n",
    "        return True\n",
    "    return False\n",
    "inquiry.is_auto_reply_needed = types.MethodType(is_auto_reply_needed, inquiry)"
   ]
  },
  {
   "cell_type": "code",
   "execution_count": 4,
   "metadata": {},
   "outputs": [
    {
     "name": "stdout",
     "output_type": "stream",
     "text": [
      "primary 打开网址：https://i.alibaba.com\n",
      "primary 等待登陆页面加载 ... ...\n",
      "primary 输入登录信息， 并登录\n",
      "success 成功 登录 阿里巴巴 国际站！用户名：Jeremy\n"
     ]
    }
   ],
   "source": [
    "inquiry.load_url()\n",
    "inquiries = inquiry.get_inquiries()"
   ]
  },
  {
   "cell_type": "code",
   "execution_count": 5,
   "metadata": {
    "scrolled": true
   },
   "outputs": [
    {
     "data": {
      "text/plain": [
       "{'url': '/message/default.htm#feedback/detail/all/11964562469/11964562469/MC1IDX1pHHtVT6vmZzq1IpMGODGI9ftGKNPj7X9IQ3lDd4DIQIlNV5P9IQ-TbWi_eVhUC53/',\n",
       " 'id': '11964562469',\n",
       " 'date': '2018-7-18',\n",
       " 'tags': [],\n",
       " 'is_replied': True,\n",
       " 'title': 'I want to buy the product you are selling on Alibaba.com.',\n",
       " 'buyer': 'prestl bernhard',\n",
       " 'is_buyer_online': False,\n",
       " 'buyer_country': 'United States',\n",
       " 'buyer_local_time': '19: 33 Wed Jul 18',\n",
       " 'responsible_person': 'Jeremy Wang',\n",
       " 'status': '洽谈中',\n",
       " 'is_new': False}"
      ]
     },
     "execution_count": 5,
     "metadata": {},
     "output_type": "execute_result"
    }
   ],
   "source": [
    "enquiry = inquiries[1]\n",
    "enquiry"
   ]
  },
  {
   "cell_type": "code",
   "execution_count": 9,
   "metadata": {},
   "outputs": [
    {
     "name": "stdout",
     "output_type": "stream",
     "text": [
      "E:\\glitter\\Eyelashes_config\\inquiry_tracking_ids_Jeremy.json was serialized!\n"
     ]
    },
    {
     "data": {
      "text/plain": [
       "True"
      ]
     },
     "execution_count": 9,
     "metadata": {},
     "output_type": "execute_result"
    }
   ],
   "source": [
    "inquiry.is_auto_reply_needed(enquiry)"
   ]
  },
  {
   "cell_type": "code",
   "execution_count": 10,
   "metadata": {},
   "outputs": [
    {
     "name": "stdout",
     "output_type": "stream",
     "text": [
      "E:\\glitter\\Eyelashes_config\\inquiry_tracking_ids_Jeremy.json was serialized!\n"
     ]
    }
   ],
   "source": [
    "inquiry.reply(enquiry)"
   ]
  },
  {
   "cell_type": "code",
   "execution_count": null,
   "metadata": {},
   "outputs": [],
   "source": []
  },
  {
   "cell_type": "code",
   "execution_count": null,
   "metadata": {},
   "outputs": [],
   "source": []
  },
  {
   "cell_type": "code",
   "execution_count": null,
   "metadata": {},
   "outputs": [],
   "source": [
    "inquiry.load_reply_templates()\n",
    "inquiry.reply_templates['notify_first_reply_without_email']"
   ]
  },
  {
   "cell_type": "code",
   "execution_count": null,
   "metadata": {},
   "outputs": [],
   "source": [
    "inquiry.tracking_ids['11947313067']['status'] = ['new']\n",
    "inquiry.tracking_ids"
   ]
  },
  {
   "cell_type": "code",
   "execution_count": null,
   "metadata": {},
   "outputs": [],
   "source": [
    "inquiry.check()"
   ]
  },
  {
   "cell_type": "code",
   "execution_count": 11,
   "metadata": {},
   "outputs": [
    {
     "data": {
      "text/plain": [
       "{'11964562469': {'datetime': DateTime(2018, 7, 19, 10, 34, 0, 614427, tzinfo=Timezone('Asia/Shanghai')),\n",
       "  'status': ['new', 'catalog was sent directly']}}"
      ]
     },
     "execution_count": 11,
     "metadata": {},
     "output_type": "execute_result"
    }
   ],
   "source": [
    "inquiry.tracking_ids"
   ]
  },
  {
   "cell_type": "code",
   "execution_count": null,
   "metadata": {},
   "outputs": [],
   "source": [
    "inquiry.close_inquiry_and_switch_back()"
   ]
  },
  {
   "cell_type": "code",
   "execution_count": null,
   "metadata": {},
   "outputs": [],
   "source": [
    "inquiry.load_find_catalog()"
   ]
  },
  {
   "cell_type": "code",
   "execution_count": null,
   "metadata": {},
   "outputs": [],
   "source": [
    "inquiry.catalog"
   ]
  },
  {
   "cell_type": "code",
   "execution_count": null,
   "metadata": {},
   "outputs": [],
   "source": []
  },
  {
   "cell_type": "code",
   "execution_count": null,
   "metadata": {},
   "outputs": [],
   "source": [
    "enquiry = inquiries[8]\n",
    "enquiry"
   ]
  },
  {
   "cell_type": "code",
   "execution_count": null,
   "metadata": {},
   "outputs": [],
   "source": []
  },
  {
   "cell_type": "code",
   "execution_count": null,
   "metadata": {},
   "outputs": [],
   "source": [
    "enquiry = inquiries[8]\n",
    "inquiry.open_inquiry_in_new_tab(enquiry)\n",
    "conversation = inquiry.get_conversation()\n",
    "inquiry.close_inquiry_and_switch_back()\n",
    "messages = conversation['messages']\n",
    "buyer = conversation['buyer']\n",
    "messages"
   ]
  },
  {
   "cell_type": "code",
   "execution_count": null,
   "metadata": {},
   "outputs": [],
   "source": [
    "enquiry = inquiries[8]\n",
    "enquiry"
   ]
  },
  {
   "cell_type": "code",
   "execution_count": null,
   "metadata": {},
   "outputs": [],
   "source": []
  },
  {
   "cell_type": "code",
   "execution_count": null,
   "metadata": {},
   "outputs": [],
   "source": [
    "# inquiry.load_tracking_ids()\n",
    "inquiry.tracking_ids"
   ]
  },
  {
   "cell_type": "code",
   "execution_count": null,
   "metadata": {},
   "outputs": [],
   "source": [
    "inquiry.close_inquiry_and_switch_back()"
   ]
  },
  {
   "cell_type": "code",
   "execution_count": null,
   "metadata": {
    "scrolled": true
   },
   "outputs": [],
   "source": [
    "# inquiry.close_inquiry_and_switch_back()\n",
    "# inquiry.tracking_ids['11947313067']['status'] = ['new']\n",
    "enquiry = inquiries[0]\n",
    "inquiry.reply(enquiry)"
   ]
  },
  {
   "cell_type": "code",
   "execution_count": null,
   "metadata": {},
   "outputs": [],
   "source": [
    "inquiry.tracking_ids"
   ]
  },
  {
   "cell_type": "code",
   "execution_count": null,
   "metadata": {},
   "outputs": [],
   "source": []
  },
  {
   "cell_type": "code",
   "execution_count": null,
   "metadata": {},
   "outputs": [],
   "source": []
  },
  {
   "cell_type": "code",
   "execution_count": null,
   "metadata": {},
   "outputs": [],
   "source": []
  },
  {
   "cell_type": "code",
   "execution_count": null,
   "metadata": {},
   "outputs": [],
   "source": [
    "def try_login_webww():\n",
    "    btn_login = WebDriverWait(inquiry.browser, 15).until(EC.visibility_of_element_located((By.CSS_SELECTOR, '#webatm2-iconbar')))\n",
    "    btn_login.click()"
   ]
  },
  {
   "cell_type": "code",
   "execution_count": null,
   "metadata": {},
   "outputs": [],
   "source": [
    "panel = inquiry.browser.find_element_by_css_selector('#webatm2-panel')"
   ]
  },
  {
   "cell_type": "code",
   "execution_count": null,
   "metadata": {},
   "outputs": [],
   "source": [
    "inquiries[11]"
   ]
  },
  {
   "cell_type": "code",
   "execution_count": null,
   "metadata": {},
   "outputs": [],
   "source": []
  },
  {
   "cell_type": "code",
   "execution_count": null,
   "metadata": {},
   "outputs": [],
   "source": []
  },
  {
   "cell_type": "code",
   "execution_count": null,
   "metadata": {},
   "outputs": [],
   "source": []
  },
  {
   "cell_type": "code",
   "execution_count": null,
   "metadata": {},
   "outputs": [],
   "source": []
  },
  {
   "cell_type": "code",
   "execution_count": null,
   "metadata": {},
   "outputs": [],
   "source": []
  },
  {
   "cell_type": "code",
   "execution_count": null,
   "metadata": {},
   "outputs": [],
   "source": []
  },
  {
   "cell_type": "code",
   "execution_count": null,
   "metadata": {},
   "outputs": [],
   "source": [
    "re.findall('([a-zA-Z0-9_.+-]+@[a-zA-Z0-9-]+\\.[a-zA-Z0-9-.]+)', text)"
   ]
  },
  {
   "cell_type": "code",
   "execution_count": null,
   "metadata": {},
   "outputs": [],
   "source": [
    "inquiry.browser.save_screenshot(\"screenshot.png\")"
   ]
  },
  {
   "cell_type": "code",
   "execution_count": null,
   "metadata": {
    "scrolled": true
   },
   "outputs": [],
   "source": []
  },
  {
   "cell_type": "code",
   "execution_count": null,
   "metadata": {},
   "outputs": [],
   "source": []
  },
  {
   "cell_type": "code",
   "execution_count": null,
   "metadata": {},
   "outputs": [],
   "source": []
  },
  {
   "cell_type": "code",
   "execution_count": null,
   "metadata": {},
   "outputs": [],
   "source": []
  },
  {
   "cell_type": "code",
   "execution_count": null,
   "metadata": {},
   "outputs": [],
   "source": []
  },
  {
   "cell_type": "code",
   "execution_count": null,
   "metadata": {},
   "outputs": [],
   "source": []
  },
  {
   "cell_type": "code",
   "execution_count": null,
   "metadata": {},
   "outputs": [],
   "source": []
  },
  {
   "cell_type": "code",
   "execution_count": null,
   "metadata": {},
   "outputs": [],
   "source": []
  },
  {
   "cell_type": "code",
   "execution_count": null,
   "metadata": {},
   "outputs": [],
   "source": []
  },
  {
   "cell_type": "code",
   "execution_count": null,
   "metadata": {},
   "outputs": [],
   "source": []
  },
  {
   "cell_type": "code",
   "execution_count": null,
   "metadata": {},
   "outputs": [],
   "source": []
  },
  {
   "cell_type": "code",
   "execution_count": null,
   "metadata": {},
   "outputs": [],
   "source": []
  },
  {
   "cell_type": "code",
   "execution_count": null,
   "metadata": {},
   "outputs": [],
   "source": []
  },
  {
   "cell_type": "code",
   "execution_count": null,
   "metadata": {},
   "outputs": [],
   "source": []
  },
  {
   "cell_type": "code",
   "execution_count": null,
   "metadata": {},
   "outputs": [],
   "source": []
  },
  {
   "cell_type": "code",
   "execution_count": null,
   "metadata": {},
   "outputs": [],
   "source": []
  },
  {
   "cell_type": "code",
   "execution_count": null,
   "metadata": {},
   "outputs": [],
   "source": []
  },
  {
   "cell_type": "code",
   "execution_count": null,
   "metadata": {},
   "outputs": [],
   "source": []
  }
 ],
 "metadata": {
  "kernelspec": {
   "display_name": "Python 3",
   "language": "python",
   "name": "python3"
  },
  "language_info": {
   "codemirror_mode": {
    "name": "ipython",
    "version": 3
   },
   "file_extension": ".py",
   "mimetype": "text/x-python",
   "name": "python",
   "nbconvert_exporter": "python",
   "pygments_lexer": "ipython3",
   "version": "3.6.6"
  }
 },
 "nbformat": 4,
 "nbformat_minor": 2
}
