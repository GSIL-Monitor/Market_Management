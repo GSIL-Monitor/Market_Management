{
 "cells": [
  {
   "cell_type": "code",
   "execution_count": 1,
   "metadata": {},
   "outputs": [],
   "source": [
    "from libs.alibaba.alibaba import Alibaba\n",
    "from libs.alibaba.inquiry import Inquiry\n",
    "from libs.alibaba.inquiry import element_has_css_class\n",
    "from libs.email import Email\n",
    "from libs.json import JSON\n",
    "\n",
    "from selenium import webdriver\n",
    "from selenium.webdriver.common.keys import Keys\n",
    "from selenium.webdriver.support.ui import WebDriverWait\n",
    "from selenium.webdriver.support import expected_conditions as EC\n",
    "from selenium.common.exceptions import WebDriverException\n",
    "from selenium.common.exceptions import NoSuchElementException\n",
    "from selenium.common.exceptions import TimeoutException\n",
    "from selenium.common.exceptions import ElementNotVisibleException\n",
    "from selenium.common.exceptions import StaleElementReferenceException\n",
    "from selenium.webdriver.common.by import By\n",
    "from selenium.webdriver.common.action_chains import ActionChains\n",
    "\n",
    "from string import Template\n",
    "from datetime import datetime\n",
    "from bs4 import BeautifulSoup\n",
    "from pyquery import PyQuery as pq\n",
    "\n",
    "import json\n",
    "import requests\n",
    "import time\n",
    "import re\n",
    "import math\n",
    "\n",
    "import types\n",
    "import traceback\n",
    "import threading\n",
    "\n",
    "import pendulum\n",
    "\n",
    "import logging\n",
    "from logging.handlers import TimedRotatingFileHandler"
   ]
  },
  {
   "cell_type": "code",
   "execution_count": 2,
   "metadata": {},
   "outputs": [
    {
     "name": "stdout",
     "output_type": "stream",
     "text": [
      ". storage markets.json\n",
      ".\\storage\\markets.json was deserialized!\n"
     ]
    },
    {
     "data": {
      "text/plain": [
       "{'name': 'Eyelashes',\n",
       " 'directory': 'E:\\\\glitter\\\\Eyelashes',\n",
       " 'lid': 'eyelash@glittergroupcn.com',\n",
       " 'lpwd': 'Wangzhen68970747',\n",
       " 'accounts': [{'lid': 'eyelash1@glittergroupcn.com',\n",
       "   'lpwd': 'Zhangying25160',\n",
       "   'lname': 'Emily Zhang',\n",
       "   'disabled': True,\n",
       "   'mobile': '15615125160'},\n",
       "  {'lid': 'eyelash2@glittergroupcn.com',\n",
       "   'lpwd': 'Huyinping18130',\n",
       "   'lname': 'Ada Alva',\n",
       "   'disabled': False,\n",
       "   'mobile': '18563918130'}],\n",
       " 'homepage': 'https://glittereyelash.en.alibaba.com',\n",
       " 'lname': 'Jeremy Wang',\n",
       " 'mobile': '17685593100'}"
      ]
     },
     "execution_count": 2,
     "metadata": {},
     "output_type": "execute_result"
    }
   ],
   "source": [
    "market = JSON.deserialize('.', 'storage', 'markets.json')['Eyelashes']\n",
    "market"
   ]
  },
  {
   "cell_type": "code",
   "execution_count": null,
   "metadata": {},
   "outputs": [],
   "source": [
    "account = market['accounts'][1]\n",
    "print(account)\n",
    "inquiry = Inquiry(market, account, headless=False)"
   ]
  },
  {
   "cell_type": "code",
   "execution_count": 3,
   "metadata": {},
   "outputs": [
    {
     "name": "stdout",
     "output_type": "stream",
     "text": [
      "E:\\glitter\\Eyelashes_config [] inquiry_tracking_ids_Jeremy.json\n",
      "E:\\glitter\\Eyelashes_config\\inquiry_tracking_ids_Jeremy.json was deserialized!\n"
     ]
    }
   ],
   "source": [
    "inquiry = Inquiry(market, headless=False)"
   ]
  },
  {
   "cell_type": "code",
   "execution_count": null,
   "metadata": {},
   "outputs": [],
   "source": []
  },
  {
   "cell_type": "code",
   "execution_count": null,
   "metadata": {},
   "outputs": [],
   "source": []
  },
  {
   "cell_type": "code",
   "execution_count": 4,
   "metadata": {},
   "outputs": [],
   "source": [
    "def next_page(self):\n",
    "    try:\n",
    "        next_btn = self.browser.find_element_by_css_selector('div.ui2-pagination a.next')\n",
    "        \n",
    "        self.click(next_btn)\n",
    "        \n",
    "        div = WebDriverWait(self.browser, 10).until(EC.presence_of_element_located((By.CSS_SELECTOR, 'div.aui-loading')))\n",
    "        WebDriverWait(self.browser, 15).until(EC.staleness_of(div))\n",
    "        return True\n",
    "    except NoSuchElementException as e:\n",
    "        return False\n",
    "    \n",
    "inquiry.next_page = types.MethodType(next_page, inquiry)"
   ]
  },
  {
   "cell_type": "code",
   "execution_count": null,
   "metadata": {},
   "outputs": [],
   "source": []
  },
  {
   "cell_type": "code",
   "execution_count": null,
   "metadata": {},
   "outputs": [],
   "source": []
  },
  {
   "cell_type": "code",
   "execution_count": null,
   "metadata": {},
   "outputs": [],
   "source": []
  },
  {
   "cell_type": "code",
   "execution_count": null,
   "metadata": {},
   "outputs": [],
   "source": []
  },
  {
   "cell_type": "code",
   "execution_count": 5,
   "metadata": {},
   "outputs": [
    {
     "name": "stdout",
     "output_type": "stream",
     "text": [
      "primary 打开网址：https://i.alibaba.com\n",
      "primary 等待登陆页面加载 ... ...\n",
      "primary 输入登录信息， 并登录\n",
      "success 成功 登录 阿里巴巴 国际站！用户名：Jeremy\n"
     ]
    }
   ],
   "source": [
    "inquiry.login()"
   ]
  },
  {
   "cell_type": "code",
   "execution_count": null,
   "metadata": {},
   "outputs": [],
   "source": [
    "inquiry.load_url()"
   ]
  },
  {
   "cell_type": "code",
   "execution_count": 31,
   "metadata": {},
   "outputs": [
    {
     "data": {
      "text/plain": [
       "156"
      ]
     },
     "execution_count": 31,
     "metadata": {},
     "output_type": "execute_result"
    }
   ],
   "source": [
    "inquiry.load_url()\n",
    "time.sleep(1)\n",
    "inquiry_list = []\n",
    "while True:\n",
    "    inquiries = inquiry.get_inquiries()\n",
    "    inquiry_list = inquiry_list + inquiries\n",
    "    time.sleep(1)\n",
    "    for enquiry in inquiries:\n",
    "        try:\n",
    "            inquiry.open_inquiry_in_new_tab(enquiry)\n",
    "            conversation = inquiry.get_conversation()\n",
    "            enquiry['conversation'] = conversation\n",
    "        except Exception as e:\n",
    "            traceback.print_exc()\n",
    "        finally:\n",
    "            inquiry.close_inquiry_and_switch_back()\n",
    "            \n",
    "    if inquiry.next_page():\n",
    "        continue\n",
    "        \n",
    "    break\n",
    "len(inquiry_list)"
   ]
  },
  {
   "cell_type": "code",
   "execution_count": 43,
   "metadata": {},
   "outputs": [
    {
     "data": {
      "text/plain": [
       "143"
      ]
     },
     "execution_count": 43,
     "metadata": {},
     "output_type": "execute_result"
    }
   ],
   "source": [
    "enquiries = []\n",
    "idx = 0\n",
    "for enquiry in inquiry_list:\n",
    "    if '【RFQ】 Request for Quotation' in enquiry['tags']:\n",
    "        continue\n",
    "    if 'prestl bernhard' in enquiry['buyer']:\n",
    "        continue\n",
    "        \n",
    "    first_message = enquiry['conversation']['messages'][0]\n",
    "    if first_message['position'] == 'right':\n",
    "        continue\n",
    "        \n",
    "    idx += 1\n",
    "    comming_datetime = pendulum.parse(first_message['date'], tz='Asia/Shanghai')\n",
    "    enquiry['comming_datetime'] = comming_datetime\n",
    "#     print(idx, enquiry['id'], comming_datetime, enquiry['buyer_country'], enquiry['buyer'])\n",
    "    enquiries.append(enquiry)\n",
    "len(enquiries)"
   ]
  },
  {
   "cell_type": "code",
   "execution_count": null,
   "metadata": {},
   "outputs": [],
   "source": [
    "enquiries.sort(key=lambda eq:eq['comming_datetime'])"
   ]
  },
  {
   "cell_type": "code",
   "execution_count": 66,
   "metadata": {},
   "outputs": [
    {
     "name": "stdout",
     "output_type": "stream",
     "text": [
      "0 1 100669100140 False 2018-05-13T04:41:00+08:00 United Kingdom Firdaous Sahli\n",
      "1 2 100723764260 False 2018-05-14T03:31:00+08:00 United States Breanna Holliday\n",
      "2 3 100674736381 False 2018-05-23T19:15:00+08:00 Switzerland reza dubravac\n",
      "3 4 100676237542 False 2018-05-25T22:52:00+08:00 Italy Maria Spina\n",
      "4 5 100685999010 False 2018-06-15T23:11:00+08:00 United States Kendra Jenkins\n",
      "5 6 100687438364 False 2018-06-21T03:55:00+08:00 United Kingdom Angela Pham\n",
      "6 7 100743144152 False 2018-06-22T02:27:00+08:00 United States Kimberly Hardy\n",
      "7 8 100743156131 False 2018-06-22T02:49:00+08:00 France Maddy GRUPPO\n",
      "8 9 100690268929 False 2018-06-22T05:03:00+08:00 United States Scott Godar\n",
      "9 10 100681681922 False 2018-06-22T08:36:00+08:00 Australia Kelly Hughes\n",
      "10 11 100689148256 False 2018-06-23T02:11:00+08:00 Belize Joan Crooks\n",
      "11 12 100682197401 False 2018-06-23T07:08:00+08:00 France Reguina cheloukhina\n",
      "12 13 100690877082 False 2018-06-26T05:30:00+08:00 United States Cecilia Covarrubias-Hernandez\n",
      "13 14 100745124098 False 2018-06-26T05:45:00+08:00 United States Kiera barfield\n",
      "14 15 100691393174 False 2018-06-27T06:06:00+08:00 Kyrgyzstan Yana Tishenko\n",
      "15 16 100691957993 False 2018-06-28T06:38:00+08:00 Italy vitoria camacho\n",
      "16 17 100692659806 False 2018-06-29T01:26:00+08:00 United States Santa Reyes\n",
      "17 18 100697010433 False 2018-06-29T04:35:00+08:00 India nikha kashyap\n",
      "18 18 100686219664 True 2018-06-29T04:37:00+08:00 India nikha kashyap\n",
      "19 19 100747200356 False 2018-06-29T14:04:00+08:00 Mexico ivan mendez\n",
      "20 20 100747596282 False 2018-06-30T10:44:00+08:00 Mexico Marco Cortez\n",
      "21 21 100747752597 False 2018-07-01T02:09:00+08:00 Belgium Andre Arens\n",
      "22 22 100747788937 False 2018-07-01T06:33:00+08:00 United States Tiara Green\n",
      "23 23 100690130982 False 2018-07-01T16:42:00+08:00 Sweden Jessie Lundahl\n",
      "24 24 100692442732 False 2018-07-02T02:27:00+08:00 United States Amour Me\n",
      "25 25 100692478530 False 2018-07-02T07:56:00+08:00 United States Katie Ann\n",
      "26 26 100692511767 False 2018-07-04T15:07:00+08:00 United States nicole taylor\n",
      "27 27 100700862252 False 2018-07-07T07:02:00+08:00 Peru Fiorella Alva Castillo\n",
      "28 28 100700850820 False 2018-07-07T07:38:00+08:00 United States tacara staples\n",
      "29 29 100693358415 False 2018-07-07T18:57:00+08:00 Estonia Alex Altmae\n",
      "30 30 100698892884 False 2018-07-09T12:46:00+08:00 Peru Dany Rios\n",
      "31 31 100698584729 False 2018-07-10T14:50:00+08:00 United States nchindu siabuluba\n",
      "32 32 100697230812 False 2018-07-11T03:11:00+08:00 United States Emani Lee\n",
      "33 33 100699157185 False 2018-07-11T22:26:00+08:00 Poland Magda and Paulina LashBrow Wonderlashes\n",
      "34 34 100692399767 False 2018-07-12T10:45:00+08:00 United States Farah Sainvil\n",
      "35 35 100699481312 False 2018-07-12T14:55:00+08:00 Panama Raiza Caripe\n",
      "36 36 100696658058 False 2018-07-14T19:14:00+08:00 Bulgaria Pervis Mutiev\n",
      "37 36 100699306551 True 2018-07-14T19:22:00+08:00 Bulgaria Pervis Mutiev\n",
      "38 37 100701023857 False 2018-07-15T10:49:00+08:00 United States Xena carr\n",
      "39 38 100701536571 False 2018-07-16T06:34:00+08:00 United States Karen Jackson\n",
      "40 39 100701923866 False 2018-07-17T03:03:00+08:00 United States Navia Green\n",
      "41 40 100698655774 False 2018-07-17T11:13:00+08:00 Colombia Tatiana Becerra\n",
      "42 41 100704249103 False 2018-07-17T20:17:00+08:00 Colombia Tatiana Becerra\n",
      "43 42 100698314348 False 2018-07-18T05:29:00+08:00 Bahrain J A\n",
      "44 42 100698326092 True 2018-07-18T05:29:00+08:00 Bahrain J A\n",
      "45 43 100702679575 False 2018-07-18T10:32:00+08:00 United States jen galan\n",
      "46 44 100702847179 False 2018-07-18T14:44:00+08:00 United States kemi Jonathan\n",
      "47 45 100703828283 False 2018-07-19T11:03:00+08:00 United States Amiyah Brown\n",
      "48 46 100703417022 False 2018-07-19T19:34:00+08:00 United Kingdom Kay Webb\n",
      "49 47 100696393412 False 2018-07-20T07:48:00+08:00 United States Nandrea Cristolin\n",
      "50 48 100708962003 False 2018-07-22T06:07:00+08:00 United States Lita Cardenas\n",
      "51 49 100705676792 False 2018-07-23T04:05:00+08:00 Peru limbert sergio mendoza figueroa\n",
      "52 50 100699035615 False 2018-07-24T03:24:00+08:00 Malaysia atiqah rafie\n",
      "53 51 100706801791 False 2018-07-25T13:04:00+08:00 United States Jasmine Woodruff\n",
      "54 52 100707569714 False 2018-07-26T09:44:00+08:00 United States Tiya E.\n",
      "55 53 100711494815 False 2018-07-26T11:26:00+08:00 United States Taylor Vereen\n",
      "56 54 100710005708 False 2018-07-30T02:51:00+08:00 Colombia javier jose cerpa guerra\n",
      "57 55 100709795979 False 2018-07-30T04:07:00+08:00 United Arab Emirates Ismaeel Qureshi\n",
      "58 56 100703269845 False 2018-07-31T08:14:00+08:00 United States zena sadik\n",
      "59 57 100711948996 False 2018-07-31T10:01:00+08:00 Peru Betsy Riveros Quispe\n",
      "60 58 100710370688 False 2018-08-01T00:56:00+08:00 United States Imperfectly Khia\n",
      "61 59 100713993410 False 2018-08-01T04:53:00+08:00 Poland Elzbieta Szymanek\n",
      "62 60 100711793445 False 2018-08-01T10:12:00+08:00 Australia Cha Chacha\n",
      "63 61 100704819868 False 2018-08-02T01:11:00+08:00 United Kingdom Charlotte Lough\n",
      "64 61 100708010107 True 2018-08-02T02:06:00+08:00 United Kingdom Charlotte Lough\n",
      "65 62 100712267667 False 2018-08-02T05:55:00+08:00 United States Kristina Richardson\n",
      "66 63 100709851627 False 2018-08-03T01:51:00+08:00 Canada amita guglani\n",
      "67 63 100708946664 True 2018-08-03T01:51:00+08:00 Canada amita guglani\n",
      "68 64 100716942140 False 2018-08-03T04:09:00+08:00 United States Annete Gomez\n",
      "69 65 100714168465 False 2018-08-03T06:19:00+08:00 United States penny Lewis\n",
      "70 66 100714420411 False 2018-08-03T14:17:00+08:00 Zambia Malumbo Siwale\n",
      "71 67 100767768890 False 2018-08-03T21:12:00+08:00 Zambia christine kambala\n",
      "72 68 100767996234 False 2018-08-04T01:08:00+08:00 United States Nayla Payton\n",
      "73 69 100767996660 False 2018-08-04T01:30:00+08:00 United Kingdom Suraiya bano\n",
      "74 69 100712830961 True 2018-08-04T01:30:00+08:00 United Kingdom Suraiya bano\n",
      "75 70 100768044836 False 2018-08-04T04:31:00+08:00 Peru Guillermo Medrano\n",
      "76 71 100710206114 False 2018-08-05T00:45:00+08:00 United Kingdom Kay Webb\n",
      "77 71 100706737564 True 2018-08-05T00:47:00+08:00 United Kingdom Kay Webb\n",
      "78 72 100711207588 False 2018-08-05T07:29:00+08:00 United States janeisha thomas\n",
      "79 73 100714721435 False 2018-08-05T22:49:00+08:00 Saudi Arabia Noura Moha\n",
      "80 74 100711507443 False 2018-08-06T01:08:00+08:00 South Africa Phumzile Gama\n",
      "81 75 100715057907 False 2018-08-06T10:35:00+08:00 Peru Lu Calderon Ojeda\n",
      "82 76 100711658426 False 2018-08-07T03:40:00+08:00 United States Nia Hope\n",
      "83 77 100712791514 False 2018-08-07T13:49:00+08:00 United States Amber Washington\n",
      "84 78 100716455041 False 2018-08-08T00:48:00+08:00 Peru Guillermo Medrano\n",
      "85 79 100770768556 False 2018-08-08T04:34:00+08:00 United States Alics Noel\n",
      "86 80 100713619401 False 2018-08-08T14:44:00+08:00 Qatar kurt russell febeth buenafe\n",
      "87 81 100771500800 False 2018-08-09T01:44:00+08:00 Brazil Beto Duarte\n",
      "88 82 100714183768 False 2018-08-09T04:09:00+08:00 United States Bethany Lightfoot\n",
      "89 83 100771560887 False 2018-08-09T04:13:00+08:00 Namibia Trish Toga\n",
      "90 84 100717892233 False 2018-08-09T06:44:00+08:00 United States Jerome L\n",
      "91 84 100719933021 True 2018-08-09T07:12:00+08:00 United States Jerome L\n",
      "92 85 100720077204 False 2018-08-09T11:03:00+08:00 Ecuador VANESA VELEZ\n",
      "93 86 100718393262 False 2018-08-10T04:46:00+08:00 United Kingdom katie lewis\n",
      "94 87 100715582988 False 2018-08-12T00:10:00+08:00 United Kingdom Zainab Farooq\n",
      "95 88 100719677873 False 2018-08-12T02:21:00+08:00 United States Syndy Felix\n",
      "96 89 100713397620 False 2018-08-13T08:21:00+08:00 Canada al dhanani\n",
      "97 90 100722957952 False 2018-08-13T09:30:00+08:00 Australia marie parker\n",
      "98 90 100719250370 True 2018-08-13T09:37:00+08:00 Canada al dhanani\n",
      "99 91 100775316451 False 2018-08-14T03:32:00+08:00 Canada Lesley Caplette\n",
      "100 92 100725510823 False 2018-08-14T04:44:00+08:00 Peru Maria Del Pilar Carpio Diaz\n",
      "101 93 100776060379 False 2018-08-15T04:36:00+08:00 Canada Abigail De Luna\n",
      "102 94 100714957684 False 2018-08-15T11:04:00+08:00 Peru Carla P. L.\n",
      "103 95 100715413892 False 2018-08-16T01:01:00+08:00 United States Ghazele Alalouch\n",
      "104 95 100718906678 True 2018-08-16T01:01:00+08:00 United States Ghazele Alalouch\n",
      "105 96 100777632495 False 2018-08-17T02:52:00+08:00 United States Inessa Malamud\n",
      "106 97 100728006813 False 2018-08-17T08:11:00+08:00 United Arab Emirates Emmanuela Nkambi\n",
      "107 98 100723498848 False 2018-08-18T01:32:00+08:00 United Kingdom thobby kamal\n",
      "108 99 100717141204 False 2018-08-18T08:23:00+08:00 Egypt dina saleh\n",
      "109 100 100724278264 False 2018-08-19T00:57:00+08:00 United States Sydney Smith\n",
      "110 101 100721366664 False 2018-08-19T01:03:00+08:00 United States C J\n",
      "111 102 100721635755 False 2018-08-19T05:04:00+08:00 United States Brianna Murphy\n",
      "112 103 100725610791 False 2018-08-21T00:38:00+08:00 United States Nicole Thomas\n",
      "113 103 100727039980 True 2018-08-21T00:42:00+08:00 United States Nicole Thomas\n",
      "114 104 100780776242 False 2018-08-21T05:30:00+08:00 United States Donna Cooper\n",
      "115 105 100730385952 False 2018-08-22T00:49:00+08:00 Peru Eduardo Douglas Torres Silva\n",
      "116 106 100726726795 False 2018-08-22T03:03:00+08:00 United Kingdom isabel mack\n",
      "117 106 100727516904 True 2018-08-22T03:37:00+08:00 United Kingdom isabel mack\n",
      "118 107 100731129142 False 2018-08-23T01:27:00+08:00 United States Tanya Smith\n",
      "119 108 100732602324 False 2018-08-23T01:28:00+08:00 United Kingdom Shahinaz Kindilidis\n",
      "120 108 100732590744 True 2018-08-23T01:33:00+08:00 United States Tanya Smith\n",
      "121 109 100729313127 False 2018-08-24T04:47:00+08:00 United States Berniece Garcia\n",
      "122 110 100733826894 False 2018-08-24T11:18:00+08:00 Mexico GUILLERMO ARTURO RIVERA MORALES\n",
      "123 111 100729366072 False 2018-08-25T03:32:00+08:00 United States Miss Destiny\n",
      "124 112 100735374741 False 2018-08-26T05:55:00+08:00 United States Laura Marcu\n",
      "125 113 100727534963 False 2018-08-27T00:16:00+08:00 United States Kevanisha Meyers\n",
      "126 114 100736526306 False 2018-08-27T16:42:00+08:00 United States Jessica Akau\n",
      "127 114 100733236729 True 2018-08-27T16:52:00+08:00 United States Jessica Akau\n",
      "128 114 100736538922 True 2018-08-27T16:53:00+08:00 United States Jessica Akau\n",
      "129 114 100736550695 True 2018-08-27T16:55:00+08:00 United States Jessica Akau\n",
      "130 115 100736622318 False 2018-08-27T17:54:00+08:00 United States ARIKORO JOY\n",
      "131 116 100726047423 False 2018-08-27T21:47:00+08:00 Peru Guillermo Atencia\n",
      "132 116 100726047416 True 2018-08-27T21:47:00+08:00 Peru Guillermo Atencia\n",
      "133 117 100733524350 False 2018-08-27T22:37:00+08:00 Malaysia Rita Duasin\n",
      "134 118 100726215470 False 2018-08-28T00:24:00+08:00 Egypt dina saleh\n",
      "135 119 100724629602 False 2018-08-28T06:02:00+08:00 United States Destiny Brown\n",
      "136 120 100729586445 False 2018-08-28T19:33:00+08:00 South Africa Nokulunga Moyo\n",
      "137 121 100732618307 False 2018-08-28T22:48:00+08:00 Portugal Joao Leonardo\n",
      "138 122 100734596302 False 2018-08-29T22:30:00+08:00 United States LEMONADE ESSENTIALS\n",
      "139 123 100731571878 False 2018-08-29T23:01:00+08:00 United States lashawna bailey\n",
      "140 123 100734695188 True 2018-08-29T23:04:00+08:00 United States lashawna bailey\n",
      "141 123 100726477384 True 2018-08-29T23:44:00+08:00 United States LEMONADE ESSENTIALS\n",
      "142 124 100730690033 False 2018-08-30T03:17:00+08:00 United Kingdom Lydia Mbanza\n"
     ]
    }
   ],
   "source": [
    "length = len(enquiries)\n",
    "count = 0\n",
    "for idx, enquiry in enumerate(enquiries):\n",
    "    enquiry['duplicated'] = False\n",
    "    offset = 1\n",
    "    country = enquiry['buyer_country']\n",
    "    buyer = enquiry['buyer']\n",
    "    cdt = enquiry['comming_datetime'].subtract(hours=3)\n",
    "    while idx-offset >= 0:\n",
    "        dt = enquiries[idx-offset]['comming_datetime']\n",
    "        if dt < cdt:\n",
    "            break\n",
    "    \n",
    "        if country == enquiries[idx-offset]['buyer_country'] and buyer == enquiries[idx-offset]['buyer']:\n",
    "            enquiry['duplicated'] = True\n",
    "\n",
    "        offset += 1\n",
    "\n",
    "    if not enquiry['duplicated']:\n",
    "        count += 1\n",
    "        \n",
    "    print(idx, count, enquiry['id'], enquiry['duplicated'], enquiry['comming_datetime'], enquiry['buyer_country'], enquiry['buyer'])\n"
   ]
  },
  {
   "cell_type": "code",
   "execution_count": 145,
   "metadata": {},
   "outputs": [],
   "source": [
    "def search(inquiries, st, et):\n",
    "    result = []\n",
    "    for enquiry in inquiries:\n",
    "        if enquiry['duplicated']:\n",
    "            continue\n",
    "        if enquiry['buyer_country'] != 'United States':\n",
    "            continue\n",
    "        dt = enquiry['comming_datetime']\n",
    "        stime = dt.set(hour=int(st.split(':')[0]), minute=int(st.split(':')[1]))\n",
    "        etime = dt.set(hour=int(et.split(':')[0]), minute=int(et.split(':')[1]))\n",
    "        if dt >= stime and dt <etime:\n",
    "#             print(enquiry['comming_datetime'], stime, etime)\n",
    "            result.append(enquiry)\n",
    "    return result"
   ]
  },
  {
   "cell_type": "code",
   "execution_count": 117,
   "metadata": {},
   "outputs": [
    {
     "data": {
      "text/plain": [
       "5"
      ]
     },
     "execution_count": 117,
     "metadata": {},
     "output_type": "execute_result"
    }
   ],
   "source": [
    "st = '08:00'\n",
    "et = '09:00'\n",
    "result = search(enquiries, st, et)\n",
    "len(result)"
   ]
  },
  {
   "cell_type": "code",
   "execution_count": 146,
   "metadata": {},
   "outputs": [
    {
     "name": "stdout",
     "output_type": "stream",
     "text": [
      "1\t0\t0\t0\t0\t0\t0\t0\t0\t0\t1\t0\t0\t0\t0\t0\t0\t1\t0\t0\t0\t0\t0\t0\t0\t0\t0\t0\t0\t0\t0\t0\t0\t0\t0\t0\t0\t0\t0\t0\t0\t0\t0\t0\t0\t1\t0\t0\t1\t1\t0\t0\t0\t0\t0\t1\t0\t1\t0\t2\t3\t0\t2\t0\t0\t0\t0\t0\t3\t0\t0\t1\t1\t1\t0\t2\t1\t0\t2\t0\t0\t1\t1\t0\t2\t0\t0\t2\t1\t2\t2\t1\t0\t2\t1\t0\t0\t0\t1\t1\t1\t1\t0\t1\t0\t0\t0\t0\t0\t0\t0\t0\t1\t0\t0\t0\t0\t1\t2\t0\t1\t0\t1\t0\t0\t0\t0\t0\t0\t0\t0\t0\t1\t0\t0\t0\t1\t0\t0\t0\t0\t0\t1\t1\t"
     ]
    }
   ],
   "source": [
    "dt = pendulum.parse('15:00:00')\n",
    "results = []\n",
    "for i in range(144):\n",
    "    st = dt.to_time_string()\n",
    "    dt = dt.add(minutes=10)\n",
    "    et = dt.to_time_string()\n",
    "    result = search(enquiries, st, et)\n",
    "    results.append([i, st, et, result])\n",
    "    print(len(result), end='\\t')"
   ]
  },
  {
   "cell_type": "code",
   "execution_count": 148,
   "metadata": {},
   "outputs": [
    {
     "name": "stdout",
     "output_type": "stream",
     "text": [
      "60 01:00:00 01:10:00\n",
      "100767996234 2018-08-04T01:08:00+08:00 United States Nayla Payton\n",
      "100715413892 2018-08-16T01:01:00+08:00 United States Ghazele Alalouch\n",
      "100721366664 2018-08-19T01:03:00+08:00 United States C J\n"
     ]
    }
   ],
   "source": [
    "result = results[60]\n",
    "print(result[0], result[1], result[2])\n",
    "for enquiry in result[3]:\n",
    "    print(enquiry['id'], enquiry['comming_datetime'], enquiry['buyer_country'], enquiry['buyer'])"
   ]
  },
  {
   "cell_type": "code",
   "execution_count": null,
   "metadata": {},
   "outputs": [],
   "source": []
  },
  {
   "cell_type": "code",
   "execution_count": 155,
   "metadata": {},
   "outputs": [],
   "source": [
    "count = 0\n",
    "counts = {}\n",
    "for enquiry in enquiries:\n",
    "    if enquiry['duplicated']:\n",
    "        continue\n",
    "        \n",
    "    count += 1\n",
    "    country = enquiry['buyer_country']\n",
    "        \n",
    "    if country not in counts:\n",
    "        counts[country] = 0\n",
    "        \n",
    "    counts[country] += 1\n",
    "count_list = []\n",
    "for country in counts:\n",
    "    count_list.append([country, counts[country]])\n",
    "count_list.sort(reverse=True, key=lambda x: x[1])"
   ]
  },
  {
   "cell_type": "code",
   "execution_count": 165,
   "metadata": {},
   "outputs": [
    {
     "name": "stdout",
     "output_type": "stream",
     "text": [
      "45.16%\tUnited States\t56\t\n",
      "9.68%\tUnited Kingdom\t12\t\n",
      "8.87%\tPeru\t11\t\n",
      "3.23%\tCanada\t4\t\n",
      "2.42%\tAustralia\t3\t\n",
      "2.42%\tMexico\t3\t\n",
      "2.42%\tColombia\t3\t\n",
      "1.61%\tItaly\t2\t\n",
      "1.61%\tFrance\t2\t\n",
      "1.61%\tPoland\t2\t\n",
      "1.61%\tMalaysia\t2\t\n",
      "1.61%\tUnited Arab Emirates\t2\t\n",
      "1.61%\tZambia\t2\t\n",
      "1.61%\tSouth Africa\t2\t\n",
      "1.61%\tEgypt\t2\t\n",
      "0.81%\tSwitzerland\t1\t\n",
      "0.81%\tBelize\t1\t\n",
      "0.81%\tKyrgyzstan\t1\t\n",
      "0.81%\tIndia\t1\t\n",
      "0.81%\tBelgium\t1\t\n",
      "0.81%\tSweden\t1\t\n",
      "0.81%\tEstonia\t1\t\n",
      "0.81%\tPanama\t1\t\n",
      "0.81%\tBulgaria\t1\t\n",
      "0.81%\tBahrain\t1\t\n",
      "0.81%\tSaudi Arabia\t1\t\n",
      "0.81%\tQatar\t1\t\n",
      "0.81%\tBrazil\t1\t\n",
      "0.81%\tNamibia\t1\t\n",
      "0.81%\tEcuador\t1\t\n",
      "0.81%\tPortugal\t1\t\n"
     ]
    }
   ],
   "source": [
    "for item in count_list:\n",
    "    print(format(item[1]/count*100, '0.2f')+'%', end='\\t')\n",
    "    print(item[0], end='\\t')\n",
    "    print(item[1], end='\\t')\n",
    "    print()"
   ]
  },
  {
   "cell_type": "code",
   "execution_count": null,
   "metadata": {},
   "outputs": [],
   "source": []
  },
  {
   "cell_type": "code",
   "execution_count": null,
   "metadata": {},
   "outputs": [],
   "source": []
  },
  {
   "cell_type": "code",
   "execution_count": null,
   "metadata": {},
   "outputs": [],
   "source": [
    "inquiry.browser.switch_to.default_content()"
   ]
  },
  {
   "cell_type": "code",
   "execution_count": null,
   "metadata": {},
   "outputs": [],
   "source": [
    "inquiry.load_url()"
   ]
  },
  {
   "cell_type": "code",
   "execution_count": null,
   "metadata": {},
   "outputs": [],
   "source": [
    "threads = inquiry.webww_check()"
   ]
  },
  {
   "cell_type": "code",
   "execution_count": null,
   "metadata": {},
   "outputs": [],
   "source": [
    "dialog_iframe = inquiry.browser.find_element_by_css_selector('#webatm2-iframe')\n",
    "inquiry.browser.switch_to.frame(dialog_iframe)\n",
    "sidebar = inquiry.browser.find_ele.ment_by_css_selector('.webatm2-sidebar')\n",
    "head = inquiry.browser.find_element_by_css_selector('.webatm2-window-head')\n",
    "body = inquiry.browser.find_element_by_css_selector('.webatm2-window-body')\n"
   ]
  },
  {
   "cell_type": "code",
   "execution_count": null,
   "metadata": {},
   "outputs": [],
   "source": [
    "thread = threads[0]\n",
    "thread"
   ]
  },
  {
   "cell_type": "code",
   "execution_count": null,
   "metadata": {},
   "outputs": [],
   "source": [
    "inquiry.webww_switch_to_thread(threads[1], sidebar, head, body)"
   ]
  },
  {
   "cell_type": "code",
   "execution_count": null,
   "metadata": {},
   "outputs": [],
   "source": [
    "inquiry.browser.switch_to.default_content()"
   ]
  },
  {
   "cell_type": "code",
   "execution_count": null,
   "metadata": {},
   "outputs": [],
   "source": [
    "for t in threads:\n",
    "    inquiry.webww_switch_to_thread(t, sidebar, head, body)"
   ]
  },
  {
   "cell_type": "code",
   "execution_count": null,
   "metadata": {},
   "outputs": [],
   "source": [
    "not {}"
   ]
  },
  {
   "cell_type": "code",
   "execution_count": null,
   "metadata": {},
   "outputs": [],
   "source": []
  },
  {
   "cell_type": "code",
   "execution_count": null,
   "metadata": {},
   "outputs": [],
   "source": []
  },
  {
   "cell_type": "code",
   "execution_count": null,
   "metadata": {},
   "outputs": [],
   "source": [
    "inquiry.load_reply_templates()"
   ]
  },
  {
   "cell_type": "code",
   "execution_count": null,
   "metadata": {},
   "outputs": [],
   "source": [
    "inquiry.reply_templates"
   ]
  },
  {
   "cell_type": "code",
   "execution_count": null,
   "metadata": {},
   "outputs": [],
   "source": []
  },
  {
   "cell_type": "code",
   "execution_count": null,
   "metadata": {},
   "outputs": [],
   "source": [
    "def get_inquiries(self):\n",
    "    html = pq(self.browser.page_source)\n",
    "    inquiry_list = html.find('.ui2-list-body .aui2-grid-wraper')\n",
    "    inquiries = []\n",
    "    for elem in inquiry_list:\n",
    "        div = pq(elem)\n",
    "        item = {}\n",
    "        item['url'] = div.find('a').attr('href')\n",
    "        text = div.find('div.spec-inquiry-id').text().strip()\n",
    "        item['id'] = re.search('(\\d+)', text).group(1)\n",
    "        item['date'] = div.find('div.spec-inquiry-id+div').text().strip()\n",
    "        item['tags'] = []\n",
    "        for span in div.find('div.aui-tags span'):\n",
    "            item['tags'].append(pq(span).text())\n",
    "        item['is_replied'] = True if div.find('td:nth-child(2) i[title=\"已回复\"]') else False\n",
    "        item['title'] = div.find('td:nth-child(3)').text()\n",
    "        item['buyer'] = div.find('td:nth-child(4)').text().strip()\n",
    "        item['is_buyer_online'] = True if div.find('td:nth-child(5) div.atm-online') else False\n",
    "        text = div.find('td:nth-child(6) i').attr('title')\n",
    "        try:\n",
    "            item['buyer_country'] = re.sub(' \\[.*\\]', '', text)\n",
    "            item['buyer_local_time'] = re.search('\\[Local Time: (.*)\\]', text).group(1)\n",
    "        except AttributeError:\n",
    "            item['buyer_country'] = text\n",
    "            item['buyer_local_time'] = None\n",
    "        item['responsible_person'] = div.find('td:nth-child(7)').text()\n",
    "        item['status'] = div.find('td:nth-child(8)').text()\n",
    "        if '新询盘' in item['status'] or 'New Inquiry' in item['status']:\n",
    "            item['is_new'] = True\n",
    "        else:\n",
    "            item['is_new'] = False\n",
    "        inquiries.append(item)\n",
    "    return inquiries\n",
    "\n",
    "inquiry.get_inquiries = types.MethodType(get_inquiries, inquiry)"
   ]
  },
  {
   "cell_type": "code",
   "execution_count": null,
   "metadata": {},
   "outputs": [],
   "source": [
    "def send_message(self, message, attach=None):\n",
    "    chat_form = self.browser.find_element_by_css_selector('form.reply-wrapper')\n",
    "    chat_form.find_element_by_css_selector('div.holder').click()\n",
    "\n",
    "    uploading_failed = False\n",
    "    if attach:\n",
    "        file_input = self.browser.find_element_by_css_selector('input#attachs')\n",
    "        file_input.send_keys(attach)\n",
    "\n",
    "        css = 'div.next-upload-list-item:last-child'\n",
    "        div = WebDriverWait(self.browser, 15).until(\n",
    "            EC.presence_of_element_located((By.CSS_SELECTOR, css)))\n",
    "        try:\n",
    "            WebDriverWait(self.browser, 150).until(\n",
    "                element_has_css_class(div, 'next-upload-list-item-done'))\n",
    "        except TimeoutException:\n",
    "            print('time out, cancel uploading')\n",
    "            div.find_element_by_css_selector('i.next-icon-close').click()\n",
    "            uploading_failed = True\n",
    "\n",
    "    if uploading_failed:\n",
    "        return False\n",
    "\n",
    "    # if uploading_failed or attach is None:\n",
    "    #     doc = pq(message)\n",
    "    #     doc.find('span.attach').remove()\n",
    "    #     message = doc.outer_html()\n",
    "\n",
    "    WebDriverWait(self.browser, 15).until(\n",
    "        EC.frame_to_be_available_and_switch_to_it((By.CSS_SELECTOR, '#inquiry-content_ifr')))\n",
    "    body = self.browser.find_element_by_tag_name('body')\n",
    "    self.click(body)\n",
    "\n",
    "    js = self.reply_js_template.format(message=message)\n",
    "    self.browser.execute_script(js)\n",
    "    self.browser.switch_to.default_content()\n",
    "\n",
    "    time.sleep(1)\n",
    "\n",
    "    btn_send = chat_form.find_element_by_css_selector('button.send')\n",
    "    btn_send.click()\n",
    "    \n",
    "    return True\n",
    "\n",
    "inquiry.send_message = types.MethodType(send_message, inquiry)"
   ]
  },
  {
   "cell_type": "code",
   "execution_count": null,
   "metadata": {},
   "outputs": [],
   "source": [
    "\n",
    "def reply(self, enquiry):\n",
    "    try:\n",
    "        self.open_inquiry_in_new_tab(enquiry)\n",
    "        conversation = self.get_conversation()\n",
    "\n",
    "        messages = conversation['messages']\n",
    "        buyer = conversation['buyer']\n",
    "\n",
    "        last_buyer_messages = []\n",
    "        is_replied = False\n",
    "        reply_count = 0\n",
    "        for msg in messages:\n",
    "            if msg['position'] == 'left':\n",
    "                last_buyer_messages.append(msg)\n",
    "                is_replied = False\n",
    "            elif msg['position'] == 'right' and 'Seller Assistant' not in msg['user']:\n",
    "                last_buyer_messages = []\n",
    "                is_replied = True\n",
    "                reply_count += 1\n",
    "\n",
    "        # check if email address is already exists in conversation\n",
    "        text = ''\n",
    "        for msg in last_buyer_messages:\n",
    "            text = text + '\\n\\n ' + msg['content']\n",
    "        emails = re.findall('([a-zA-Z0-9_.+-]+@[a-zA-Z0-9-]+\\.[a-zA-Z0-9-.]+)', text)\n",
    "\n",
    "        if buyer['email']:\n",
    "            emails.append(buyer['email'])\n",
    "\n",
    "        eid = enquiry['id']\n",
    "        tracking = self.tracking_ids[eid]\n",
    "        last_status = tracking['status'][-1]\n",
    "        greetings = '<p>Pleased to hear from you.</p><br>'\n",
    "        if last_status == 'new':\n",
    "            if emails:\n",
    "                mime_message = Email.message_of_product_catalog(self.market, self.account, buyer['name'])\n",
    "#                 if Email.send(self.account, emails, mime_message):\n",
    "                if True:\n",
    "                    params = {'buyer': buyer['name'], 'greetings': greetings, 'email': ','.join(emails), 'sender': self.lname}\n",
    "                    message = self.reply_templates['notify_catalog_was_sent'].substitute(params)\n",
    "                    if self.send_message(message, self.catalog):\n",
    "                        tracking['status'].append('catalog was sent by email')\n",
    "                        self.save_tracking_ids()\n",
    "                    else:\n",
    "                        tracking['status'].append('catalog was sent by email, but reply was failed')\n",
    "                        self.save_tracking_ids()\n",
    "            else:\n",
    "                params = {'buyer': buyer['name'], 'greetings': greetings, 'sender': self.lname}\n",
    "                message = self.reply_templates['notify_first_reply_without_email'].substitute(params)\n",
    "                if self.send_message(message, self.catalog):\n",
    "                    tracking['status'].append('catalog was sent directly')\n",
    "                    self.save_tracking_ids()\n",
    "        elif 'catalog was sent' in last_status and 'reply was failed' in last_status:\n",
    "            if is_replied:\n",
    "                tracking['status'].append('catalog was sent by email')\n",
    "                self.save_tracking_ids()\n",
    "            else:\n",
    "                params = {'buyer': buyer['name'], 'greetings': greetings, 'email': ','.join(emails), 'sender': self.lname}\n",
    "                message = self.reply_templates['notify_catalog_was_sent'].substitute(params)\n",
    "                if self.send_message(message, self.catalog):\n",
    "                    tracking['status'].append('catalog was sent by email')\n",
    "                    self.save_tracking_ids()\n",
    "\n",
    "        elif 'catalog was sent' in last_status:\n",
    "            pass\n",
    "        elif 'wait for email address' in last_status:\n",
    "            text = ''\n",
    "            for msg in last_buyer_messages:\n",
    "                text = text + '\\n\\n ' + msg['content']\n",
    "            emails = re.findall('([a-zA-Z0-9_.+-]+@[a-zA-Z0-9-]+\\.[a-zA-Z0-9-.]+)', text)\n",
    "            print(emails)\n",
    "            if emails:\n",
    "                tracking['emails'] = emails\n",
    "                self.save_tracking_ids()\n",
    "                mime_message = Email.message_of_product_catalog(self.market, self.account, buyer['name'])\n",
    "                if Email.send(self.account, emails, mime_message):\n",
    "                    params = {'buyer': buyer['name'], 'greetings': '', 'email': ', '.join(emails),\n",
    "                              'sender': self.lname}\n",
    "                    message = self.reply_templates['notify_catalog_was_sent'].substitute(params)\n",
    "                    if self.send_message(message, self.catalog):\n",
    "                        tracking['status'].append('catalog was sent by email')\n",
    "                        self.save_tracking_ids()\n",
    "    except Exception as e:\n",
    "        self.notify(\"danger\", '回复 询盘 [' + enquiry['id'] + '] 时 发生错误! ' + str(e))\n",
    "        traceback.print_exc()\n",
    "    finally:\n",
    "        self.close_inquiry_and_switch_back()\n",
    "inquiry.reply = types.MethodType(reply, inquiry)"
   ]
  },
  {
   "cell_type": "code",
   "execution_count": null,
   "metadata": {},
   "outputs": [],
   "source": [
    "inquiry.load_url()\n",
    "time.sleep(0.1)"
   ]
  },
  {
   "cell_type": "code",
   "execution_count": null,
   "metadata": {},
   "outputs": [],
   "source": [
    "inquiries = inquiry.get_inquiries()"
   ]
  },
  {
   "cell_type": "code",
   "execution_count": null,
   "metadata": {
    "scrolled": true
   },
   "outputs": [],
   "source": [
    "enquiry = inquiries[3]\n",
    "enquiry"
   ]
  },
  {
   "cell_type": "code",
   "execution_count": null,
   "metadata": {},
   "outputs": [],
   "source": [
    "inquiry.is_auto_reply_needed(enquiry)"
   ]
  },
  {
   "cell_type": "code",
   "execution_count": null,
   "metadata": {},
   "outputs": [],
   "source": [
    "inquiry.reply(enquiry)"
   ]
  },
  {
   "cell_type": "code",
   "execution_count": null,
   "metadata": {},
   "outputs": [],
   "source": []
  },
  {
   "cell_type": "code",
   "execution_count": null,
   "metadata": {},
   "outputs": [],
   "source": [
    "inquiry.account"
   ]
  },
  {
   "cell_type": "code",
   "execution_count": null,
   "metadata": {},
   "outputs": [],
   "source": [
    "inquiry.load_reply_templates()\n",
    "inquiry.reply_templates['notify_first_reply_without_email']"
   ]
  },
  {
   "cell_type": "code",
   "execution_count": null,
   "metadata": {},
   "outputs": [],
   "source": [
    "inquiry.tracking_ids['11947313067']['status'] = ['new']\n",
    "inquiry.tracking_ids"
   ]
  },
  {
   "cell_type": "code",
   "execution_count": null,
   "metadata": {},
   "outputs": [],
   "source": [
    "inquiry.check()"
   ]
  },
  {
   "cell_type": "code",
   "execution_count": null,
   "metadata": {},
   "outputs": [],
   "source": [
    "inquiry.check()"
   ]
  },
  {
   "cell_type": "code",
   "execution_count": null,
   "metadata": {},
   "outputs": [],
   "source": [
    "inquiry.tracking_ids"
   ]
  },
  {
   "cell_type": "code",
   "execution_count": null,
   "metadata": {},
   "outputs": [],
   "source": [
    "inquiry.close_inquiry_and_switch_back()"
   ]
  },
  {
   "cell_type": "code",
   "execution_count": null,
   "metadata": {},
   "outputs": [],
   "source": [
    "inquiry.load_find_catalog()"
   ]
  },
  {
   "cell_type": "code",
   "execution_count": null,
   "metadata": {},
   "outputs": [],
   "source": [
    "inquiry.catalog"
   ]
  },
  {
   "cell_type": "code",
   "execution_count": null,
   "metadata": {},
   "outputs": [],
   "source": [
    "market = JSON.deserialize('.', 'storage', 'markets.json')['Eyelashes']\n",
    "inquiry = Inquiry(market)"
   ]
  },
  {
   "cell_type": "code",
   "execution_count": null,
   "metadata": {
    "scrolled": true
   },
   "outputs": [],
   "source": [
    "emails = ['changshu.qd@gmail.com', 'odingdongo@hotmail.com']\n",
    "mime_message = Email.message_of_product_catalog(inquiry.market, inquiry.account, 'prestl bernhard')\n",
    "Email.send(inquiry.account, emails, mime_message)"
   ]
  },
  {
   "cell_type": "code",
   "execution_count": null,
   "metadata": {},
   "outputs": [],
   "source": [
    "inquiry.account"
   ]
  },
  {
   "cell_type": "code",
   "execution_count": null,
   "metadata": {},
   "outputs": [],
   "source": []
  },
  {
   "cell_type": "code",
   "execution_count": null,
   "metadata": {},
   "outputs": [],
   "source": [
    "enquiry = inquiries[8]\n",
    "enquiry"
   ]
  },
  {
   "cell_type": "code",
   "execution_count": null,
   "metadata": {},
   "outputs": [],
   "source": []
  },
  {
   "cell_type": "code",
   "execution_count": null,
   "metadata": {},
   "outputs": [],
   "source": [
    "enquiry = inquiries[8]\n",
    "inquiry.open_inquiry_in_new_tab(enquiry)\n",
    "conversation = inquiry.get_conversation()\n",
    "inquiry.close_inquiry_and_switch_back()\n",
    "messages = conversation['messages']\n",
    "buyer = conversation['buyer']\n",
    "messages"
   ]
  },
  {
   "cell_type": "code",
   "execution_count": null,
   "metadata": {},
   "outputs": [],
   "source": [
    "enquiry = inquiries[8]\n",
    "enquiry"
   ]
  },
  {
   "cell_type": "code",
   "execution_count": null,
   "metadata": {},
   "outputs": [],
   "source": []
  },
  {
   "cell_type": "code",
   "execution_count": null,
   "metadata": {},
   "outputs": [],
   "source": [
    "# inquiry.load_tracking_ids()\n",
    "inquiry.tracking_ids"
   ]
  },
  {
   "cell_type": "code",
   "execution_count": null,
   "metadata": {},
   "outputs": [],
   "source": [
    "inquiry.close_inquiry_and_switch_back()"
   ]
  },
  {
   "cell_type": "code",
   "execution_count": null,
   "metadata": {
    "scrolled": true
   },
   "outputs": [],
   "source": [
    "# inquiry.close_inquiry_and_switch_back()\n",
    "# inquiry.tracking_ids['11947313067']['status'] = ['new']\n",
    "enquiry = inquiries[0]\n",
    "inquiry.reply(enquiry)"
   ]
  },
  {
   "cell_type": "code",
   "execution_count": null,
   "metadata": {},
   "outputs": [],
   "source": [
    "inquiry.tracking_ids"
   ]
  },
  {
   "cell_type": "code",
   "execution_count": null,
   "metadata": {},
   "outputs": [],
   "source": []
  },
  {
   "cell_type": "code",
   "execution_count": null,
   "metadata": {},
   "outputs": [],
   "source": []
  },
  {
   "cell_type": "code",
   "execution_count": null,
   "metadata": {},
   "outputs": [],
   "source": []
  },
  {
   "cell_type": "code",
   "execution_count": null,
   "metadata": {},
   "outputs": [],
   "source": [
    "def try_login_webww():\n",
    "    btn_login = WebDriverWait(inquiry.browser, 15).until(EC.visibility_of_element_located((By.CSS_SELECTOR, '#webatm2-iconbar')))\n",
    "    btn_login.click()"
   ]
  },
  {
   "cell_type": "code",
   "execution_count": null,
   "metadata": {},
   "outputs": [],
   "source": [
    "panel = inquiry.browser.find_element_by_css_selector('#webatm2-panel')"
   ]
  },
  {
   "cell_type": "code",
   "execution_count": null,
   "metadata": {},
   "outputs": [],
   "source": [
    "inquiries[11]"
   ]
  },
  {
   "cell_type": "code",
   "execution_count": null,
   "metadata": {},
   "outputs": [],
   "source": []
  },
  {
   "cell_type": "code",
   "execution_count": null,
   "metadata": {},
   "outputs": [],
   "source": []
  },
  {
   "cell_type": "code",
   "execution_count": null,
   "metadata": {},
   "outputs": [],
   "source": []
  },
  {
   "cell_type": "code",
   "execution_count": null,
   "metadata": {},
   "outputs": [],
   "source": []
  },
  {
   "cell_type": "code",
   "execution_count": null,
   "metadata": {},
   "outputs": [],
   "source": []
  },
  {
   "cell_type": "code",
   "execution_count": null,
   "metadata": {},
   "outputs": [],
   "source": []
  },
  {
   "cell_type": "code",
   "execution_count": null,
   "metadata": {},
   "outputs": [],
   "source": [
    "re.findall('([a-zA-Z0-9_.+-]+@[a-zA-Z0-9-]+\\.[a-zA-Z0-9-.]+)', text)"
   ]
  },
  {
   "cell_type": "code",
   "execution_count": null,
   "metadata": {},
   "outputs": [],
   "source": [
    "inquiry.browser.save_screenshot(\"screenshot.png\")"
   ]
  },
  {
   "cell_type": "code",
   "execution_count": null,
   "metadata": {
    "scrolled": true
   },
   "outputs": [],
   "source": []
  },
  {
   "cell_type": "code",
   "execution_count": null,
   "metadata": {},
   "outputs": [],
   "source": []
  },
  {
   "cell_type": "code",
   "execution_count": null,
   "metadata": {},
   "outputs": [],
   "source": []
  },
  {
   "cell_type": "code",
   "execution_count": null,
   "metadata": {},
   "outputs": [],
   "source": []
  },
  {
   "cell_type": "code",
   "execution_count": null,
   "metadata": {},
   "outputs": [],
   "source": []
  },
  {
   "cell_type": "code",
   "execution_count": null,
   "metadata": {},
   "outputs": [],
   "source": [
    "text = 'Inquiry ID：100708962003'"
   ]
  },
  {
   "cell_type": "code",
   "execution_count": null,
   "metadata": {},
   "outputs": [],
   "source": [
    "text = '询价单号：100708962003'"
   ]
  },
  {
   "cell_type": "code",
   "execution_count": null,
   "metadata": {},
   "outputs": [],
   "source": [
    "re.search('(\\d+)', text).group(1)"
   ]
  },
  {
   "cell_type": "code",
   "execution_count": null,
   "metadata": {},
   "outputs": [],
   "source": [
    "text"
   ]
  },
  {
   "cell_type": "code",
   "execution_count": null,
   "metadata": {},
   "outputs": [],
   "source": []
  },
  {
   "cell_type": "code",
   "execution_count": null,
   "metadata": {},
   "outputs": [],
   "source": []
  },
  {
   "cell_type": "code",
   "execution_count": null,
   "metadata": {},
   "outputs": [],
   "source": []
  },
  {
   "cell_type": "code",
   "execution_count": null,
   "metadata": {},
   "outputs": [],
   "source": [
    "msg = 'ldskfjsl'\n",
    "js = \"document.querySelector('.webatm2-window-body .webatm2-editor-body').innerHTML = `{message}`;\"\n",
    "js.format(message=msg)"
   ]
  },
  {
   "cell_type": "code",
   "execution_count": null,
   "metadata": {},
   "outputs": [],
   "source": [
    "from string import Template"
   ]
  },
  {
   "cell_type": "code",
   "execution_count": null,
   "metadata": {},
   "outputs": [],
   "source": [
    "params = {'salutation': 'chang', 'link': 'link', 'sender': 'shu'}\n",
    "templ = Template('$salutation, lsdkfjlskf. $sender')\n",
    "msg = templ.substitute(params)"
   ]
  },
  {
   "cell_type": "code",
   "execution_count": null,
   "metadata": {},
   "outputs": [],
   "source": [
    "msg"
   ]
  },
  {
   "cell_type": "code",
   "execution_count": null,
   "metadata": {},
   "outputs": [],
   "source": []
  },
  {
   "cell_type": "code",
   "execution_count": null,
   "metadata": {},
   "outputs": [],
   "source": []
  },
  {
   "cell_type": "code",
   "execution_count": null,
   "metadata": {},
   "outputs": [],
   "source": []
  }
 ],
 "metadata": {
  "kernelspec": {
   "display_name": "Python 3",
   "language": "python",
   "name": "python3"
  },
  "language_info": {
   "codemirror_mode": {
    "name": "ipython",
    "version": 3
   },
   "file_extension": ".py",
   "mimetype": "text/x-python",
   "name": "python",
   "nbconvert_exporter": "python",
   "pygments_lexer": "ipython3",
   "version": "3.6.6"
  }
 },
 "nbformat": 4,
 "nbformat_minor": 2
}
