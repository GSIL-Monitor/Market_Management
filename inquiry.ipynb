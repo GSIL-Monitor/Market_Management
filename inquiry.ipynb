{
 "cells": [
  {
   "cell_type": "code",
   "execution_count": 1,
   "metadata": {},
   "outputs": [],
   "source": [
    "from libs.alibaba.alibaba import Alibaba\n",
    "from libs.alibaba.inquiry import Inquiry\n",
    "from libs.json import JSON\n",
    "\n",
    "from selenium import webdriver\n",
    "from selenium.webdriver.common.keys import Keys\n",
    "from selenium.webdriver.support.ui import WebDriverWait\n",
    "from selenium.webdriver.support import expected_conditions as EC\n",
    "from selenium.common.exceptions import WebDriverException\n",
    "from selenium.common.exceptions import NoSuchElementException\n",
    "from selenium.common.exceptions import ElementNotVisibleException\n",
    "from selenium.common.exceptions import StaleElementReferenceException\n",
    "from selenium.webdriver.common.by import By\n",
    "from selenium.webdriver.common.action_chains import ActionChains\n",
    "\n",
    "from datetime import datetime\n",
    "from bs4 import BeautifulSoup\n",
    "from pyquery import PyQuery as pq\n",
    "\n",
    "import json\n",
    "import requests\n",
    "import time\n",
    "import re\n",
    "import math\n",
    "\n",
    "import types\n",
    "import traceback\n",
    "import threading\n",
    "\n",
    "import logging\n",
    "from logging.handlers import TimedRotatingFileHandler"
   ]
  },
  {
   "cell_type": "code",
   "execution_count": 2,
   "metadata": {},
   "outputs": [
    {
     "name": "stdout",
     "output_type": "stream",
     "text": [
      ". storage markets.json\n",
      ".\\storage\\markets.json was deserialized!\n"
     ]
    },
    {
     "data": {
      "text/plain": [
       "{'name': 'Eyelashes',\n",
       " 'directory': 'E:\\\\glitter\\\\Eyelashes',\n",
       " 'lid': 'eyelash@glittergroupcn.com',\n",
       " 'lpwd': 'Wangzhen68970747'}"
      ]
     },
     "execution_count": 2,
     "metadata": {},
     "output_type": "execute_result"
    }
   ],
   "source": [
    "market = JSON.deserialize('.', 'storage', 'markets.json')['Eyelashes']\n",
    "market"
   ]
  },
  {
   "cell_type": "code",
   "execution_count": 3,
   "metadata": {},
   "outputs": [
    {
     "name": "stdout",
     "output_type": "stream",
     "text": [
      "primary 打开网址：https://i.alibaba.com\n",
      "primary 等待登陆页面加载 ... ...\n",
      "primary 输入登录信息， 并登录\n",
      "success 成功 登录 阿里巴巴 国际站！用户名：Jeremy\n"
     ]
    }
   ],
   "source": [
    "inquiry = Inquiry(market)\n",
    "inquiry.login()"
   ]
  },
  {
   "cell_type": "code",
   "execution_count": 4,
   "metadata": {},
   "outputs": [],
   "source": [
    "def open_inquiry_in_new_tab(self, inquiry):\n",
    "    href = self.browser.find_element_by_css_selector('a[data-trade-id=\"'+inquiry['id']+'\"]').get_attribute('href')\n",
    "    self.browser.execute_script(\"window.open('');\")\n",
    "    self.browser.switch_to.window(self.browser.window_handles[1])\n",
    "    self.browser.get(href)\n",
    "\n",
    "inquiry.open_inquiry_in_new_tab = types.MethodType(open_inquiry_in_new_tab, inquiry)"
   ]
  },
  {
   "cell_type": "code",
   "execution_count": null,
   "metadata": {},
   "outputs": [],
   "source": [
    "def get_inquiries(self):\n",
    "    html = pq(self.browser.page_source)\n",
    "    inquiry_list = html.find('.ui2-list-body .aui2-grid-wraper')\n",
    "    inquiries = []\n",
    "    for elem in inquiry_list:\n",
    "        div = pq(elem)\n",
    "        item = {}\n",
    "        item['url'] = div.find('a').attr('href')\n",
    "        text = div.find('div.spec-inquiry-id').text().strip()\n",
    "        item['id'] = re.sub('询价单号：', '', text)\n",
    "        item['date'] = div.find('div.spec-inquiry-id+div').text().strip()\n",
    "        item['tags'] = []\n",
    "        for span in div.find('div.aui-tags span'):\n",
    "            item['tags'].append(pq(span).text())\n",
    "        item['is_replied'] = True if div.find('td:nth-child(2) i[title=\"已回复\"]') else False\n",
    "        item['title'] = div.find('td:nth-child(3)').text()\n",
    "        item['buyer'] = div.find('td:nth-child(4)').text().strip()\n",
    "        item['is_buyer_online'] = True if div.find('td:nth-child(5) div.atm-online') else False\n",
    "        text = div.find('td:nth-child(6) i').attr('title')\n",
    "        try:\n",
    "            item['buyer_country'] = re.sub(' \\[.*\\]', '', text)\n",
    "            item['buyer_local_time'] = re.search('\\[Local Time: (.*)\\]', text).group(1)\n",
    "        except AttributeError:\n",
    "            item['buyer_country'] = text\n",
    "            item['buyer_local_time'] = None\n",
    "        item['responsible_person'] = div.find('td:nth-child(7)').text()\n",
    "        item['status'] = div.find('td:nth-child(8)').text()\n",
    "        if '新询盘' in item['status']:\n",
    "            item['is_new'] = True\n",
    "        else:\n",
    "            item['is_new'] = False\n",
    "        inquiries.append(item)\n",
    "    return inquiries\n",
    "\n",
    "inquiry.get_inquiries = types.MethodType(get_inquiries, inquiry)"
   ]
  },
  {
   "cell_type": "code",
   "execution_count": null,
   "metadata": {},
   "outputs": [],
   "source": []
  },
  {
   "cell_type": "code",
   "execution_count": null,
   "metadata": {},
   "outputs": [],
   "source": []
  },
  {
   "cell_type": "code",
   "execution_count": 5,
   "metadata": {},
   "outputs": [],
   "source": [
    "inquiry.load_url()\n",
    "inquiries = inquiry.get_inquiries()"
   ]
  },
  {
   "cell_type": "code",
   "execution_count": 11,
   "metadata": {
    "scrolled": true
   },
   "outputs": [
    {
     "name": "stdout",
     "output_type": "stream",
     "text": [
      "this inquiry was replied. 11947313067\n"
     ]
    }
   ],
   "source": [
    "for enquiry in inquiries:\n",
    "    if enquiry['tags'] or enquiry['is_replied']:\n",
    "        continue\n",
    "        \n",
    "    inquiry.open_inquiry_in_new_tab(enquiry)\n",
    "\n",
    "    conversation = inquiry.get_conversation()\n",
    "\n",
    "    messages = conversation['messages']\n",
    "    buyer = conversation['buyer']\n",
    "\n",
    "    is_replied = False\n",
    "    reply_count = 0\n",
    "    for msg in messages:\n",
    "        if msg['position'] == 'left':\n",
    "            is_replied = False\n",
    "        elif msg['position'] == 'right' and 'Seller Assistant' not in msg['user']:\n",
    "            is_replied = True\n",
    "            reply_count += 1\n",
    "\n",
    "    if reply_count == 0 and is_replied is False:\n",
    "        print('this is a new inquiry.', enquiry['id'])\n",
    "        pass\n",
    "    elif reply_count !=0 and is_replied is False:\n",
    "        print('this inquiry is not replied yet!', enquiry['id'])\n",
    "        pass\n",
    "    else:\n",
    "        print('this inquiry was replied.', enquiry['id'])\n",
    "        pass\n",
    "\n",
    "    inquiry.close_inquiry_and_switch_back()\n",
    "    break"
   ]
  },
  {
   "cell_type": "code",
   "execution_count": null,
   "metadata": {},
   "outputs": [],
   "source": []
  },
  {
   "cell_type": "code",
   "execution_count": 6,
   "metadata": {},
   "outputs": [
    {
     "name": "stdout",
     "output_type": "stream",
     "text": [
      "{'messages': [{'position': 'left', 'user': 'prestl bernhard', 'date': '2018-07-05 21:10', 'content': 'hi,\\ni want to know the price of the product 11A31, if i buy 1000 pairs. please give me best price you kan.\\nbest regards\\nprestl bernhard'}, {'position': 'right', 'user': 'Seller Assistant', 'date': '22:41', 'content': ''}], 'buyer': {'email': '隐藏', 'name': 'prestl bernhard'}}\n",
      "this is a new inquiry.\n"
     ]
    }
   ],
   "source": []
  },
  {
   "cell_type": "code",
   "execution_count": null,
   "metadata": {},
   "outputs": [],
   "source": [
    "inquiry.close_inquiry_and_switch_back()"
   ]
  },
  {
   "cell_type": "code",
   "execution_count": 8,
   "metadata": {},
   "outputs": [
    {
     "data": {
      "text/plain": [
       "{'email': '隐藏', 'name': 'prestl bernhard'}"
      ]
     },
     "execution_count": 8,
     "metadata": {},
     "output_type": "execute_result"
    }
   ],
   "source": [
    "buyer"
   ]
  },
  {
   "cell_type": "code",
   "execution_count": null,
   "metadata": {},
   "outputs": [],
   "source": [
    "messages"
   ]
  },
  {
   "cell_type": "code",
   "execution_count": null,
   "metadata": {},
   "outputs": [],
   "source": [
    "inquiries[0]"
   ]
  },
  {
   "cell_type": "code",
   "execution_count": 7,
   "metadata": {},
   "outputs": [
    {
     "data": {
      "text/plain": [
       "{'url': '/message/default.htm#feedback/detail/all/11947313067/11947313067/MC1IDX1IwKXUHujRqXIIRl2n8a6Mlpuf9Xc9B8yay0eTeGy1lewW7WMPLAcIwORTYH1cXSJ/',\n",
       " 'id': '11947313067',\n",
       " 'date': '21:10',\n",
       " 'tags': [],\n",
       " 'is_replied': False,\n",
       " 'title': 'Product inquiry about Qingdao Factory Wholesale Own Brand Lashes 3D Private Label Mink Eyelash With Customized packaging from prestl bernhard.',\n",
       " 'buyer': 'prestl bernhard',\n",
       " 'is_buyer_online': False,\n",
       " 'buyer_country': 'United States',\n",
       " 'buyer_local_time': '07: 40 Thu Jul 05',\n",
       " 'responsible_person': 'Helen Wang',\n",
       " 'status': '新询盘\\n已等待1时29分',\n",
       " 'is_new': True}"
      ]
     },
     "execution_count": 7,
     "metadata": {},
     "output_type": "execute_result"
    }
   ],
   "source": [
    "enquiry"
   ]
  },
  {
   "cell_type": "code",
   "execution_count": null,
   "metadata": {},
   "outputs": [],
   "source": []
  }
 ],
 "metadata": {
  "kernelspec": {
   "display_name": "Python 3",
   "language": "python",
   "name": "python3"
  },
  "language_info": {
   "codemirror_mode": {
    "name": "ipython",
    "version": 3
   },
   "file_extension": ".py",
   "mimetype": "text/x-python",
   "name": "python",
   "nbconvert_exporter": "python",
   "pygments_lexer": "ipython3",
   "version": "3.6.5"
  }
 },
 "nbformat": 4,
 "nbformat_minor": 2
}
