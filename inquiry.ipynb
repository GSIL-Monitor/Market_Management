{
 "cells": [
  {
   "cell_type": "code",
   "execution_count": 7,
   "metadata": {},
   "outputs": [],
   "source": [
    "from libs.alibaba.alibaba import Alibaba\n",
    "from libs.alibaba.inquiry import Inquiry\n",
    "from libs.alibaba.inquiry import element_has_css_class\n",
    "from libs.email import Email\n",
    "from libs.json import JSON\n",
    "\n",
    "from selenium import webdriver\n",
    "from selenium.webdriver.common.keys import Keys\n",
    "from selenium.webdriver.support.ui import WebDriverWait\n",
    "from selenium.webdriver.support import expected_conditions as EC\n",
    "from selenium.common.exceptions import WebDriverException\n",
    "from selenium.common.exceptions import NoSuchElementException\n",
    "from selenium.common.exceptions import TimeoutException\n",
    "from selenium.common.exceptions import ElementNotVisibleException\n",
    "from selenium.common.exceptions import StaleElementReferenceException\n",
    "from selenium.webdriver.common.by import By\n",
    "from selenium.webdriver.common.action_chains import ActionChains\n",
    "\n",
    "from string import Template\n",
    "from datetime import datetime\n",
    "from bs4 import BeautifulSoup\n",
    "from pyquery import PyQuery as pq\n",
    "\n",
    "import json\n",
    "import requests\n",
    "import time\n",
    "import re\n",
    "import math\n",
    "\n",
    "import types\n",
    "import traceback\n",
    "import threading\n",
    "\n",
    "import pendulum\n",
    "\n",
    "import logging\n",
    "from logging.handlers import TimedRotatingFileHandler"
   ]
  },
  {
   "cell_type": "code",
   "execution_count": 8,
   "metadata": {},
   "outputs": [
    {
     "name": "stdout",
     "output_type": "stream",
     "text": [
      ". storage markets.json\n",
      ".\\storage\\markets.json was deserialized!\n"
     ]
    },
    {
     "data": {
      "text/plain": [
       "{'name': 'Eyelashes',\n",
       " 'directory': 'E:\\\\glitter\\\\Eyelashes',\n",
       " 'lid': 'eyelash@glittergroupcn.com',\n",
       " 'lpwd': 'Wangzhen68970747',\n",
       " 'accounts': [{'lid': 'eyelash1@glittergroupcn.com',\n",
       "   'lpwd': 'Wangqingxia7696',\n",
       "   'lname': 'Helen Wang',\n",
       "   'disabled': False}],\n",
       " 'homepage': 'https://glittereyelash.en.alibaba.com',\n",
       " 'lname': 'Jeremy Wang'}"
      ]
     },
     "execution_count": 8,
     "metadata": {},
     "output_type": "execute_result"
    }
   ],
   "source": [
    "market = JSON.deserialize('.', 'storage', 'markets.json')['Eyelashes']\n",
    "market"
   ]
  },
  {
   "cell_type": "code",
   "execution_count": 10,
   "metadata": {},
   "outputs": [
    {
     "name": "stdout",
     "output_type": "stream",
     "text": [
      "E:\\glitter\\Eyelashes_config [] inquiry_tracking_ids_Jeremy.json\n",
      "E:\\glitter\\Eyelashes_config\\inquiry_tracking_ids_Jeremy.json was deserialized!\n"
     ]
    }
   ],
   "source": [
    "# account = market['accounts'][0]\n",
    "inquiry = Inquiry(market)\n",
    "# inquiry.login()"
   ]
  },
  {
   "cell_type": "code",
   "execution_count": null,
   "metadata": {},
   "outputs": [],
   "source": []
  },
  {
   "cell_type": "code",
   "execution_count": 14,
   "metadata": {},
   "outputs": [],
   "source": [
    "def webww_check(self):\n",
    "    threads = []\n",
    "    # try to login\n",
    "    icon = WebDriverWait(self.browser, 15).until(EC.visibility_of_element_located((By.CSS_SELECTOR, '#webatm2-iconbar')))\n",
    "    container = self.browser.find_element_by_css_selector('#webww-contacts')\n",
    "    dialog_iframe = self.browser.find_element_by_css_selector('#webatm2-iframe')\n",
    "    while True:\n",
    "        icon.click()\n",
    "        WebDriverWait(self.browser, 15).until(EC.invisibility_of_element_located((By.CSS_SELECTOR, '#webww-contacts .webatm2-tips')))\n",
    "        confirm = self.browser.find_element_by_css_selector('#webww-contacts .webatm2-confirm')\n",
    "        if confirm.is_displayed():\n",
    "            # failed login, cancel checking\n",
    "            print('Trade Manager has been loged in somewhere else, cancel checking')\n",
    "            close_btn = confirm.find_element_by_css_selector('span.webatm2-confirm-close')\n",
    "            close_btn.click()\n",
    "            return threads\n",
    "        \n",
    "        if 'show-panel' in container.get_attribute('class'):\n",
    "            break\n",
    "    \n",
    "    panel = WebDriverWait(self.browser, 15).until(\n",
    "        EC.visibility_of_element_located((By.CSS_SELECTOR, '#webatm2-panel')))\n",
    "    # after login\n",
    "    \n",
    "    # open dialog\n",
    "#     tab_recent = panel.find_element_by_css_selector('div.tab-recent')\n",
    "#     if 'unread' not in tab_recent.get_attribute('class'):\n",
    "#         print('there is no new messages.')\n",
    "#         return threads\n",
    "    \n",
    "    tab_sysmsg = panel.find_element_by_css_selector('div.tab-sysmsg')\n",
    "    tab_sysmsg.click()\n",
    "    panel.find_element_by_css_selector('.panel-sysmsg.active a').click()\n",
    "    WebDriverWait(self.browser, 15).until(EC.visibility_of_element_located((By.CSS_SELECTOR, '#webatm2-dialog')))\n",
    "    \n",
    "    # switch to iframe and navigate to recent threads\n",
    "    self.browser.switch_to.frame(dialog_iframe)\n",
    "    sidebar = self.browser.find_element_by_css_selector('.webatm2-sidebar')\n",
    "    head = self.browser.find_element_by_css_selector('.webatm2-window-head')\n",
    "    body = self.browser.find_element_by_css_selector('.webatm2-window-body')\n",
    "    sidebar.find_element_by_css_selector('.tab-thread').click()\n",
    "    time.sleep(1)\n",
    "    doc=pq(sidebar.find_element_by_css_selector('.webatm2-thread-list').get_attribute('innerHTML'))\n",
    "    for div in doc.find('.webatm2-thread'):\n",
    "        div = pq(div)\n",
    "        thread = {}\n",
    "        thread['id'] = div.attr('data-user-id')\n",
    "        thread['online'] = not div.hasClass('offline')\n",
    "        thread['name'] = div.find('.thread-info .name').text()\n",
    "        thread['unread'] = div.hasClass('unread')\n",
    "        thread['unread_count'] = int(div.find('.thread-info span.unread').text())\n",
    "        threads.append(thread)\n",
    "            \n",
    "        if thread['unread_count'] == 0:\n",
    "            continue\n",
    "        \n",
    "        if re.search('[\\u4E00-\\u9FA5]+', thread['name']): # old thread\n",
    "            continue\n",
    "            \n",
    "        tid = thread['id']\n",
    "        if tid not in self.tracking_ids:\n",
    "            self.tracking_ids[tid] = {}\n",
    "            self.tracking_ids[tid]['datetime'] = pendulum.now()\n",
    "            self.tracking_ids[tid]['status'] = ['new']\n",
    "            self.save_tracking_ids()\n",
    "        self.webww_switch_to_thread(thread, sidebar, head, body)\n",
    "            \n",
    "    self.browser.switch_to.default_content()\n",
    "    return threads\n",
    "inquiry.webww_check = types.MethodType(webww_check, inquiry)"
   ]
  },
  {
   "cell_type": "code",
   "execution_count": 15,
   "metadata": {},
   "outputs": [],
   "source": [
    "def webww_switch_to_thread(self, thread, sidebar, head, body):\n",
    "    \n",
    "    div = sidebar.find_element_by_css_selector('div.webatm2-thread[data-user-id=\"'+thread['id']+'\"]')\n",
    "    \n",
    "    if 'active' not in div.get_attribute('class'):\n",
    "#         msgs = body.find_elements_by_css_selector('.webatm2-messages .webatm2-message')\n",
    "        div.click()\n",
    "    \n",
    "#         if msgs:\n",
    "#             print(msgs)\n",
    "#             WebDriverWait(self.browser, 15).until(EC.staleness_of(msgs[-1]))\n",
    "#         else:\n",
    "#             WebDriverWait(self.browser, 15).until(\n",
    "#                 EC.presence_of_element_located((By.CSS_SELECTOR, '.webatm2-messages .webatm2-message')))\n",
    "#         time.sleep(1)\n",
    "#     WebDriverWait(self.browser, 15).until(\n",
    "#             EC.text_to_be_present_in_element((By.CSS_SELECTOR, '.webatm2-window-head .user-name'), thread['name']))\n",
    "    \n",
    "    WebDriverWait(self.browser, 15).until(\n",
    "            EC.frame_to_be_available_and_switch_to_it((By.CSS_SELECTOR, '.show-contact iframe')))\n",
    "    buyer_name = ''\n",
    "    country = ''\n",
    "    login_location = ''\n",
    "    is_Alibaba_employee = False\n",
    "    try:\n",
    "        buyer_name = self.browser.find_element_by_css_selector('#mini-card-wrap span.user-nick').text\n",
    "        span_country = self.browser.find_element_by_css_selector('#mini-card-wrap .user-base-info-wrap span:nth-child(2)')\n",
    "        country = re.search(':(.*)', span_country.get_attribute('title')).group(1)\n",
    "        \n",
    "        spans = self.browser.find_elements_by_css_selector('#vaildEmployee')\n",
    "        if spans:\n",
    "            is_Alibaba_employee = True\n",
    "            \n",
    "        p_login_location = self.browser.find_elements_by_css_selector('#mini-card-wrap p.last-login-time')\n",
    "        if p_login_location:\n",
    "            login_location = re.search(':(.*)', p_login_location[0].get_attribute('title')).group(1)\n",
    "    except Exception as e:\n",
    "        traceback.print_exc()\n",
    "    finally:\n",
    "        self.browser.switch_to.parent_frame()\n",
    "        \n",
    "    print(buyer_name, is_Alibaba_employee, country, login_location)\n",
    "    doc = pq(self.browser.find_element_by_css_selector('.webatm2-window-body .webatm2-messages').get_attribute('innerHTML'))\n",
    "    \n",
    "    is_replied = False\n",
    "    last_buyer_message = []\n",
    "    messages = []\n",
    "    for div in doc.find('.webatm2-message'):\n",
    "        div = pq(div)\n",
    "        message = {}\n",
    "        message['is_self'] = div.hasClass('self')\n",
    "        message['datetime'] = div.find('.time-tag').text() if div.find('.time-tag') else None\n",
    "        message['content'] = div.find('.content').text().replace('\\xa0', ' ')\n",
    "        \n",
    "        if message['is_self']:\n",
    "            last_buyer_message = []\n",
    "            is_replied = True\n",
    "        else:\n",
    "            last_buyer_message.append(message)\n",
    "            is_replied = False\n",
    "            \n",
    "        messages.append(message)\n",
    "    \n",
    "    tid = thread['id']\n",
    "    tracking = self.tracking_ids[tid]\n",
    "    last_status = tracking['status'][-1]\n",
    "    if is_replied:\n",
    "        pass\n",
    "    elif is_Alibaba_employee:\n",
    "        msg='0123456789'\n",
    "        self.webww_send_message(msg, body)\n",
    "        tracking['status'].append('irrelevant reply')\n",
    "        self.save_tracking_ids()\n",
    "    elif last_status == 'new':\n",
    "        link = 'https://drive.google.com/file/d/1gfHwDl1qPomAMnkFGCjiVk74e8CQagoI'\n",
    "        salutation = 'hi'\n",
    "        if buyer_name:\n",
    "            salutation = 'Dear ' + buyer_name\n",
    "        params = {'salutation': salutation, 'link': link, 'sender':self.lname}\n",
    "        msg = inquiry.reply_templates['webww_first_reply'].substitute(params)\n",
    "        self.webww_send_message(msg, body)\n",
    "        tracking['status'].append('link to catalog was send directly')\n",
    "        self.save_tracking_ids()\n",
    "    elif 'link to catalog was send' in last_status:\n",
    "        pass\n",
    "    else:\n",
    "        pass\n",
    "        \n",
    "#     self.browser.find_element_by_css_selector('#webatm2-dialog .webatm2-dialog-close').click()\n",
    "#     print()\n",
    "#     print(messages)\n",
    "inquiry.webww_switch_to_thread = types.MethodType(webww_switch_to_thread, inquiry)"
   ]
  },
  {
   "cell_type": "code",
   "execution_count": 16,
   "metadata": {},
   "outputs": [],
   "source": [
    "def webww_send_message(self, msg, body):\n",
    "    edit = body.find_element_by_css_selector('div.webatm2-editor-body')\n",
    "    for part in msg.split('\\n'):\n",
    "        edit.send_keys(part)\n",
    "        print(part)\n",
    "        ActionChains(self.browser).key_down(Keys.SHIFT).key_down(Keys.ENTER).key_up(Keys.SHIFT).perform()\n",
    "    edit.send_keys(Keys.BACKSPACE)\n",
    "    send_btn = body.find_element_by_css_selector('button.send')\n",
    "#     send_btn.click()\n",
    "\n",
    "inquiry.webww_send_message = types.MethodType(webww_send_message, inquiry)"
   ]
  },
  {
   "cell_type": "code",
   "execution_count": null,
   "metadata": {},
   "outputs": [],
   "source": [
    "inquiry.browser.switch_to.default_content()"
   ]
  },
  {
   "cell_type": "code",
   "execution_count": 7,
   "metadata": {},
   "outputs": [
    {
     "name": "stdout",
     "output_type": "stream",
     "text": [
      "primary 打开网址：https://i.alibaba.com\n",
      "primary 等待登陆页面加载 ... ...\n",
      "primary 输入登录信息， 并登录\n",
      "success 成功 登录 阿里巴巴 国际站！用户名：Jeremy\n"
     ]
    }
   ],
   "source": [
    "inquiry.load_url()"
   ]
  },
  {
   "cell_type": "code",
   "execution_count": 8,
   "metadata": {},
   "outputs": [
    {
     "name": "stdout",
     "output_type": "stream",
     "text": [
      "prestl bernhard False United States China (Mainland)\n",
      "Dear prestl bernhard, \n",
      "\n",
      "    pleased to hear from you. \n",
      "\n",
      "    At End of this message is the link to our eyelsh catalog. It is a PDF file on Google Drive.\n",
      "    You can also download it and read offline. The download button is located at the top right corner, when you open it in a browser.\n",
      "\n",
      "    Please let me know the product codes, if any lashes interest you. I'll send you more clear photos and videos. \n",
      "\n",
      "    Other questions will be replied as soon as i see it. \n",
      "\n",
      "    The link to our eyelash catalog: \n",
      "    https://drive.google.com/file/d/1gfHwDl1qPomAMnkFGCjiVk74e8CQagoI\n",
      "\n",
      "Best Regards,\n",
      "Jeremy Wang\n"
     ]
    }
   ],
   "source": [
    "threads = inquiry.webww_check()"
   ]
  },
  {
   "cell_type": "code",
   "execution_count": null,
   "metadata": {},
   "outputs": [],
   "source": [
    "dialog_iframe = inquiry.browser.find_element_by_css_selector('#webatm2-iframe')\n",
    "inquiry.browser.switch_to.frame(dialog_iframe)\n",
    "sidebar = inquiry.browser.find_ele.ment_by_css_selector('.webatm2-sidebar')\n",
    "head = inquiry.browser.find_element_by_css_selector('.webatm2-window-head')\n",
    "body = inquiry.browser.find_element_by_css_selector('.webatm2-window-body')\n"
   ]
  },
  {
   "cell_type": "code",
   "execution_count": null,
   "metadata": {},
   "outputs": [],
   "source": [
    "thread = threads[0]\n",
    "thread"
   ]
  },
  {
   "cell_type": "code",
   "execution_count": null,
   "metadata": {},
   "outputs": [],
   "source": [
    "inquiry.webww_switch_to_thread(threads[1], sidebar, head, body)"
   ]
  },
  {
   "cell_type": "code",
   "execution_count": null,
   "metadata": {},
   "outputs": [],
   "source": [
    "inquiry.browser.switch_to.default_content()"
   ]
  },
  {
   "cell_type": "code",
   "execution_count": null,
   "metadata": {},
   "outputs": [],
   "source": [
    "for t in threads:\n",
    "    inquiry.webww_switch_to_thread(t, sidebar, head, body)"
   ]
  },
  {
   "cell_type": "code",
   "execution_count": null,
   "metadata": {},
   "outputs": [],
   "source": []
  },
  {
   "cell_type": "code",
   "execution_count": null,
   "metadata": {},
   "outputs": [],
   "source": []
  },
  {
   "cell_type": "code",
   "execution_count": null,
   "metadata": {},
   "outputs": [],
   "source": []
  },
  {
   "cell_type": "code",
   "execution_count": null,
   "metadata": {},
   "outputs": [],
   "source": [
    "inquiry.load_reply_templates()"
   ]
  },
  {
   "cell_type": "code",
   "execution_count": null,
   "metadata": {},
   "outputs": [],
   "source": [
    "inquiry.reply_templates"
   ]
  },
  {
   "cell_type": "code",
   "execution_count": null,
   "metadata": {},
   "outputs": [],
   "source": []
  },
  {
   "cell_type": "code",
   "execution_count": 19,
   "metadata": {},
   "outputs": [],
   "source": [
    "def get_inquiries(self):\n",
    "    html = pq(self.browser.page_source)\n",
    "    inquiry_list = html.find('.ui2-list-body .aui2-grid-wraper')\n",
    "    inquiries = []\n",
    "    for elem in inquiry_list:\n",
    "        div = pq(elem)\n",
    "        item = {}\n",
    "        item['url'] = div.find('a').attr('href')\n",
    "        text = div.find('div.spec-inquiry-id').text().strip()\n",
    "        item['id'] = re.search('(\\d+)', text).group(1)\n",
    "        item['date'] = div.find('div.spec-inquiry-id+div').text().strip()\n",
    "        item['tags'] = []\n",
    "        for span in div.find('div.aui-tags span'):\n",
    "            item['tags'].append(pq(span).text())\n",
    "        item['is_replied'] = True if div.find('td:nth-child(2) i[title=\"已回复\"]') else False\n",
    "        item['title'] = div.find('td:nth-child(3)').text()\n",
    "        item['buyer'] = div.find('td:nth-child(4)').text().strip()\n",
    "        item['is_buyer_online'] = True if div.find('td:nth-child(5) div.atm-online') else False\n",
    "        text = div.find('td:nth-child(6) i').attr('title')\n",
    "        try:\n",
    "            item['buyer_country'] = re.sub(' \\[.*\\]', '', text)\n",
    "            item['buyer_local_time'] = re.search('\\[Local Time: (.*)\\]', text).group(1)\n",
    "        except AttributeError:\n",
    "            item['buyer_country'] = text\n",
    "            item['buyer_local_time'] = None\n",
    "        item['responsible_person'] = div.find('td:nth-child(7)').text()\n",
    "        item['status'] = div.find('td:nth-child(8)').text()\n",
    "        if '新询盘' in item['status'] or 'New Inquiry' in item['status']:\n",
    "            item['is_new'] = True\n",
    "        else:\n",
    "            item['is_new'] = False\n",
    "        inquiries.append(item)\n",
    "    return inquiries\n",
    "\n",
    "inquiry.get_inquiries = types.MethodType(get_inquiries, inquiry)"
   ]
  },
  {
   "cell_type": "code",
   "execution_count": null,
   "metadata": {},
   "outputs": [],
   "source": [
    "def reply(self, enquiry):\n",
    "    try:\n",
    "        self.open_inquiry_in_new_tab(enquiry)\n",
    "        conversation = self.get_conversation()\n",
    "\n",
    "        messages = conversation['messages']\n",
    "        buyer = conversation['buyer']\n",
    "\n",
    "        last_buyer_messages = []\n",
    "        is_replied = False\n",
    "        reply_count = 0\n",
    "        for msg in messages:\n",
    "            if msg['position'] == 'left':\n",
    "                last_buyer_messages.append(msg)\n",
    "                is_replied = False\n",
    "            elif msg['position'] == 'right' and 'Seller Assistant' not in msg['user']:\n",
    "                last_buyer_messages = []\n",
    "                is_replied = True\n",
    "                reply_count += 1\n",
    "\n",
    "        eid = enquiry['id']\n",
    "        tracking = self.tracking_ids[eid]\n",
    "        last_status = tracking['status'][-1]\n",
    "        if last_status == 'new':\n",
    "            greetings = '<p>Pleased to hear from you.</p><br>'\n",
    "            # buyer['email'] = 'changshu.qd@gmail.com'  # for testing purpose\n",
    "            buyer['email'] = ''  # for testing purpose\n",
    "            if buyer['email']:\n",
    "                emails = [buyer['email']]\n",
    "                mime_message = Email.message_of_product_catalog(self.market, self.account, buyer['name'])\n",
    "                if Email.send(self.account, emails, mime_message):\n",
    "                    params = {'buyer': buyer['name'], 'greetings': greetings, 'email': buyer['email'],\n",
    "                              'sender': self.lname}\n",
    "                    message = self.reply_templates['notify_catalog_was_sent'].substitute(params)\n",
    "                    if self.send_message(message, self.catalog):\n",
    "                        tracking['status'].append('catalog was sent by email')\n",
    "                        self.save_tracking_ids()\n",
    "            else:\n",
    "                params = {'buyer': buyer['name'], 'greetings': greetings, 'sender': self.lname}\n",
    "                message = self.reply_templates['notify_first_reply_without_email'].substitute(params)\n",
    "                if self.send_message(message, self.catalog):\n",
    "                    tracking['status'].append('catalog was sent directly')\n",
    "                    self.save_tracking_ids()\n",
    "        elif 'catalog was sent' in last_status:\n",
    "            pass\n",
    "        elif 'wait for email address' in last_status:\n",
    "            text = ''\n",
    "            for msg in last_buyer_messages:\n",
    "                text = text + '\\n\\n ' + msg['content']\n",
    "            emails = re.findall('([a-zA-Z0-9_.+-]+@[a-zA-Z0-9-]+\\.[a-zA-Z0-9-.]+)', text)\n",
    "            print(emails)\n",
    "            if emails:\n",
    "                tracking['emails'] = emails\n",
    "                self.save_tracking_ids()\n",
    "                mime_message = Email.message_of_product_catalog(self.market, self.account, buyer['name'])\n",
    "                if Email.send(self.account, emails, mime_message):\n",
    "                    greetings = ''\n",
    "                    params = {'buyer': buyer['name'], 'greetings': greetings, 'email': ', '.join(emails),\n",
    "                              'sender': self.lname}\n",
    "                    message = self.reply_templates['notify_catalog_was_sent'].substitute(params)\n",
    "                    if self.send_message(message, self.catalog):\n",
    "                        tracking['status'].append('catalog was sent by email')\n",
    "                        self.save_tracking_ids()\n",
    "    except Exception as e:\n",
    "        self.notify(\"danger\", '回复 询盘 [' + enquiry['id'] + '] 时 发生错误! ' + str(e))\n",
    "        traceback.print_exc()\n",
    "    finally:\n",
    "        self.close_inquiry_and_switch_back()\n",
    "inquiry.reply = types.MethodType(reply, inquiry)"
   ]
  },
  {
   "cell_type": "code",
   "execution_count": 12,
   "metadata": {},
   "outputs": [],
   "source": [
    "def check(self, group=None, tid=None, socketio=None, tasks=None):\n",
    "    if tid:\n",
    "        tasks[tid]['is_running'] = True\n",
    "        msg = {'name': 'P4P.crawl', 'tid': tid, 'group': group, 'is_last_run': tasks[tid]['is_last_run']}\n",
    "        socketio.emit('event_task_start_running', msg, namespace='/markets', broadcast=True)\n",
    "    if tid:\n",
    "        tasks[tid]['progress'] = 1\n",
    "        socketio.emit('event_task_progress', {'tid': tid, 'progress': 1}, namespace='/markets', broadcast=True)\n",
    "\n",
    "    self.load_url()\n",
    "\n",
    "    self.load_tracking_ids()\n",
    "\n",
    "    if 'eyelash' in self.market['name'].lower():\n",
    "        if tid:\n",
    "            tasks[tid]['progress'] = 15\n",
    "            socketio.emit('event_task_progress', {'tid': tid, 'progress': 15}, namespace='/markets', broadcast=True)\n",
    "\n",
    "        time.sleep(0.1)\n",
    "        inquiries = self.get_inquiries()\n",
    "\n",
    "        if tid:\n",
    "            tasks[tid]['progress'] = 20\n",
    "            socketio.emit('event_task_progress', {'tid': tid, 'progress': 20}, namespace='/markets', broadcast=True)\n",
    "\n",
    "        count = len(inquiries)\n",
    "\n",
    "        idx = 0\n",
    "        for enquiry in inquiries:\n",
    "            idx += 1\n",
    "            if tid:\n",
    "                progress = 20 + 80*idx/count\n",
    "                tasks[tid]['progress'] = progress\n",
    "                socketio.emit('event_task_progress', {'tid': tid, 'progress': progress}, namespace='/markets', broadcast=True)\n",
    "\n",
    "            if not self.is_auto_reply_needed(enquiry):\n",
    "                continue\n",
    "\n",
    "            print('enquiry ' + enquiry['id'] + ' reply is needed')\n",
    "            self.reply(enquiry)\n",
    "\n",
    "        if tid:\n",
    "            tasks[tid]['is_running'] = False\n",
    "            tasks[tid]['progress'] = 0\n",
    "            if tasks[tid]['is_last_run']:\n",
    "                del tasks[tid]\n",
    "                socketio.emit('event_task_last_run_finished', {'tid': tid}, namespace='/markets', broadcast=True)\n",
    "\n",
    "    self.webww_check()\n",
    "inquiry.check = types.MethodType(check, inquiry)"
   ]
  },
  {
   "cell_type": "code",
   "execution_count": 40,
   "metadata": {},
   "outputs": [],
   "source": [
    "inquiry.load_url()\n",
    "time.sleep(0.1)"
   ]
  },
  {
   "cell_type": "code",
   "execution_count": 41,
   "metadata": {},
   "outputs": [
    {
     "name": "stdout",
     "output_type": "stream",
     "text": [
      "None\n",
      "None\n",
      "【RFQ】 Request for Quotation\n",
      "\n",
      "                                                Recommend Quotation\n",
      "                                            \n",
      "None\n",
      "None\n",
      "None\n",
      "None\n",
      "None\n",
      "None\n",
      "None\n",
      "None\n",
      "None\n",
      "None\n",
      "None\n",
      "None\n",
      "None\n",
      "None\n",
      "None\n",
      "None\n"
     ]
    }
   ],
   "source": [
    "inquiries = inquiry.get_inquiries()"
   ]
  },
  {
   "cell_type": "code",
   "execution_count": 42,
   "metadata": {
    "scrolled": true
   },
   "outputs": [
    {
     "data": {
      "text/plain": [
       "{'url': '/message/default.htm#feedback/detail/all/11945103737/11945103737/MC1IDX1_TCk-BA3ZjjoGBs2XiCIYwBS-nu6_OQvE-5o8mw_HD89_jtRySIg_T-35vmCQ4jP/',\n",
       " 'id': '11945103737',\n",
       " 'date': '2018-7-20',\n",
       " 'tags': ['Recommend Quotation'],\n",
       " 'is_replied': True,\n",
       " 'title': 'Top and relative quotation recommended from Jeremy Wang',\n",
       " 'buyer': 'Danielle Harris',\n",
       " 'is_buyer_online': False,\n",
       " 'buyer_country': 'United States',\n",
       " 'buyer_local_time': '05: 02 Sun Jul 22',\n",
       " 'responsible_person': 'Jeremy Wang',\n",
       " 'status': '洽谈中',\n",
       " 'is_new': False}"
      ]
     },
     "execution_count": 42,
     "metadata": {},
     "output_type": "execute_result"
    }
   ],
   "source": [
    "enquiry = inquiries[3]\n",
    "enquiry"
   ]
  },
  {
   "cell_type": "code",
   "execution_count": null,
   "metadata": {},
   "outputs": [],
   "source": [
    "inquiry.is_auto_reply_needed(enquiry)"
   ]
  },
  {
   "cell_type": "code",
   "execution_count": null,
   "metadata": {},
   "outputs": [],
   "source": [
    "inquiry.reply(enquiry)"
   ]
  },
  {
   "cell_type": "code",
   "execution_count": null,
   "metadata": {},
   "outputs": [],
   "source": []
  },
  {
   "cell_type": "code",
   "execution_count": null,
   "metadata": {},
   "outputs": [],
   "source": [
    "inquiry.account"
   ]
  },
  {
   "cell_type": "code",
   "execution_count": null,
   "metadata": {},
   "outputs": [],
   "source": [
    "inquiry.load_reply_templates()\n",
    "inquiry.reply_templates['notify_first_reply_without_email']"
   ]
  },
  {
   "cell_type": "code",
   "execution_count": null,
   "metadata": {},
   "outputs": [],
   "source": [
    "inquiry.tracking_ids['11947313067']['status'] = ['new']\n",
    "inquiry.tracking_ids"
   ]
  },
  {
   "cell_type": "code",
   "execution_count": 11,
   "metadata": {},
   "outputs": [
    {
     "name": "stdout",
     "output_type": "stream",
     "text": [
      "primary 打开网址：https://i.alibaba.com\n",
      "primary 等待登陆页面加载 ... ...\n",
      "primary 输入登录信息， 并登录\n",
      "success 成功 登录 阿里巴巴 国际站！用户名：Jeremy\n",
      "E:\\glitter\\Eyelashes_config [] inquiry_tracking_ids_Jeremy.json\n",
      "E:\\glitter\\Eyelashes_config\\inquiry_tracking_ids_Jeremy.json was deserialized!\n",
      "enquiry 11962155296 reply is needed\n",
      "邮件发送成功！\n",
      "E:\\glitter\\Eyelashes_config\\inquiry_tracking_ids_Jeremy.json was serialized!\n"
     ]
    }
   ],
   "source": [
    "inquiry.check()"
   ]
  },
  {
   "cell_type": "code",
   "execution_count": null,
   "metadata": {},
   "outputs": [],
   "source": [
    "inquiry.tracking_ids"
   ]
  },
  {
   "cell_type": "code",
   "execution_count": null,
   "metadata": {},
   "outputs": [],
   "source": [
    "inquiry.close_inquiry_and_switch_back()"
   ]
  },
  {
   "cell_type": "code",
   "execution_count": null,
   "metadata": {},
   "outputs": [],
   "source": [
    "inquiry.load_find_catalog()"
   ]
  },
  {
   "cell_type": "code",
   "execution_count": null,
   "metadata": {},
   "outputs": [],
   "source": [
    "inquiry.catalog"
   ]
  },
  {
   "cell_type": "code",
   "execution_count": null,
   "metadata": {},
   "outputs": [],
   "source": [
    "market = JSON.deserialize('.', 'storage', 'markets.json')['Eyelashes']\n",
    "inquiry = Inquiry(market)"
   ]
  },
  {
   "cell_type": "code",
   "execution_count": null,
   "metadata": {
    "scrolled": true
   },
   "outputs": [],
   "source": [
    "emails = ['changshu.qd@gmail.com', 'odingdongo@hotmail.com']\n",
    "mime_message = Email.message_of_product_catalog(inquiry.market, inquiry.account, 'prestl bernhard')\n",
    "Email.send(inquiry.account, emails, mime_message)"
   ]
  },
  {
   "cell_type": "code",
   "execution_count": null,
   "metadata": {},
   "outputs": [],
   "source": [
    "inquiry.account"
   ]
  },
  {
   "cell_type": "code",
   "execution_count": null,
   "metadata": {},
   "outputs": [],
   "source": []
  },
  {
   "cell_type": "code",
   "execution_count": null,
   "metadata": {},
   "outputs": [],
   "source": [
    "enquiry = inquiries[8]\n",
    "enquiry"
   ]
  },
  {
   "cell_type": "code",
   "execution_count": null,
   "metadata": {},
   "outputs": [],
   "source": []
  },
  {
   "cell_type": "code",
   "execution_count": null,
   "metadata": {},
   "outputs": [],
   "source": [
    "enquiry = inquiries[8]\n",
    "inquiry.open_inquiry_in_new_tab(enquiry)\n",
    "conversation = inquiry.get_conversation()\n",
    "inquiry.close_inquiry_and_switch_back()\n",
    "messages = conversation['messages']\n",
    "buyer = conversation['buyer']\n",
    "messages"
   ]
  },
  {
   "cell_type": "code",
   "execution_count": null,
   "metadata": {},
   "outputs": [],
   "source": [
    "enquiry = inquiries[8]\n",
    "enquiry"
   ]
  },
  {
   "cell_type": "code",
   "execution_count": null,
   "metadata": {},
   "outputs": [],
   "source": []
  },
  {
   "cell_type": "code",
   "execution_count": null,
   "metadata": {},
   "outputs": [],
   "source": [
    "# inquiry.load_tracking_ids()\n",
    "inquiry.tracking_ids"
   ]
  },
  {
   "cell_type": "code",
   "execution_count": null,
   "metadata": {},
   "outputs": [],
   "source": [
    "inquiry.close_inquiry_and_switch_back()"
   ]
  },
  {
   "cell_type": "code",
   "execution_count": null,
   "metadata": {
    "scrolled": true
   },
   "outputs": [],
   "source": [
    "# inquiry.close_inquiry_and_switch_back()\n",
    "# inquiry.tracking_ids['11947313067']['status'] = ['new']\n",
    "enquiry = inquiries[0]\n",
    "inquiry.reply(enquiry)"
   ]
  },
  {
   "cell_type": "code",
   "execution_count": null,
   "metadata": {},
   "outputs": [],
   "source": [
    "inquiry.tracking_ids"
   ]
  },
  {
   "cell_type": "code",
   "execution_count": null,
   "metadata": {},
   "outputs": [],
   "source": []
  },
  {
   "cell_type": "code",
   "execution_count": null,
   "metadata": {},
   "outputs": [],
   "source": []
  },
  {
   "cell_type": "code",
   "execution_count": null,
   "metadata": {},
   "outputs": [],
   "source": []
  },
  {
   "cell_type": "code",
   "execution_count": null,
   "metadata": {},
   "outputs": [],
   "source": [
    "def try_login_webww():\n",
    "    btn_login = WebDriverWait(inquiry.browser, 15).until(EC.visibility_of_element_located((By.CSS_SELECTOR, '#webatm2-iconbar')))\n",
    "    btn_login.click()"
   ]
  },
  {
   "cell_type": "code",
   "execution_count": null,
   "metadata": {},
   "outputs": [],
   "source": [
    "panel = inquiry.browser.find_element_by_css_selector('#webatm2-panel')"
   ]
  },
  {
   "cell_type": "code",
   "execution_count": null,
   "metadata": {},
   "outputs": [],
   "source": [
    "inquiries[11]"
   ]
  },
  {
   "cell_type": "code",
   "execution_count": null,
   "metadata": {},
   "outputs": [],
   "source": []
  },
  {
   "cell_type": "code",
   "execution_count": null,
   "metadata": {},
   "outputs": [],
   "source": []
  },
  {
   "cell_type": "code",
   "execution_count": null,
   "metadata": {},
   "outputs": [],
   "source": []
  },
  {
   "cell_type": "code",
   "execution_count": null,
   "metadata": {},
   "outputs": [],
   "source": []
  },
  {
   "cell_type": "code",
   "execution_count": null,
   "metadata": {},
   "outputs": [],
   "source": []
  },
  {
   "cell_type": "code",
   "execution_count": null,
   "metadata": {},
   "outputs": [],
   "source": []
  },
  {
   "cell_type": "code",
   "execution_count": null,
   "metadata": {},
   "outputs": [],
   "source": [
    "re.findall('([a-zA-Z0-9_.+-]+@[a-zA-Z0-9-]+\\.[a-zA-Z0-9-.]+)', text)"
   ]
  },
  {
   "cell_type": "code",
   "execution_count": null,
   "metadata": {},
   "outputs": [],
   "source": [
    "inquiry.browser.save_screenshot(\"screenshot.png\")"
   ]
  },
  {
   "cell_type": "code",
   "execution_count": null,
   "metadata": {
    "scrolled": true
   },
   "outputs": [],
   "source": []
  },
  {
   "cell_type": "code",
   "execution_count": null,
   "metadata": {},
   "outputs": [],
   "source": []
  },
  {
   "cell_type": "code",
   "execution_count": null,
   "metadata": {},
   "outputs": [],
   "source": []
  },
  {
   "cell_type": "code",
   "execution_count": null,
   "metadata": {},
   "outputs": [],
   "source": []
  },
  {
   "cell_type": "code",
   "execution_count": null,
   "metadata": {},
   "outputs": [],
   "source": []
  },
  {
   "cell_type": "code",
   "execution_count": null,
   "metadata": {},
   "outputs": [],
   "source": [
    "text = 'Inquiry ID：100708962003'"
   ]
  },
  {
   "cell_type": "code",
   "execution_count": null,
   "metadata": {},
   "outputs": [],
   "source": [
    "text = '询价单号：100708962003'"
   ]
  },
  {
   "cell_type": "code",
   "execution_count": null,
   "metadata": {},
   "outputs": [],
   "source": [
    "re.search('(\\d+)', text).group(1)"
   ]
  },
  {
   "cell_type": "code",
   "execution_count": null,
   "metadata": {},
   "outputs": [],
   "source": [
    "text"
   ]
  },
  {
   "cell_type": "code",
   "execution_count": null,
   "metadata": {},
   "outputs": [],
   "source": []
  },
  {
   "cell_type": "code",
   "execution_count": null,
   "metadata": {},
   "outputs": [],
   "source": []
  },
  {
   "cell_type": "code",
   "execution_count": null,
   "metadata": {},
   "outputs": [],
   "source": []
  },
  {
   "cell_type": "code",
   "execution_count": null,
   "metadata": {},
   "outputs": [],
   "source": [
    "msg = 'ldskfjsl'\n",
    "js = \"document.querySelector('.webatm2-window-body .webatm2-editor-body').innerHTML = `{message}`;\"\n",
    "js.format(message=msg)"
   ]
  },
  {
   "cell_type": "code",
   "execution_count": 4,
   "metadata": {},
   "outputs": [],
   "source": [
    "from string import Template"
   ]
  },
  {
   "cell_type": "code",
   "execution_count": 5,
   "metadata": {},
   "outputs": [],
   "source": [
    "params = {'salutation': 'chang', 'link': 'link', 'sender': 'shu'}\n",
    "templ = Template('$salutation, lsdkfjlskf. $sender')\n",
    "msg = templ.substitute(params)"
   ]
  },
  {
   "cell_type": "code",
   "execution_count": 6,
   "metadata": {},
   "outputs": [
    {
     "data": {
      "text/plain": [
       "'chang, lsdkfjlskf. shu'"
      ]
     },
     "execution_count": 6,
     "metadata": {},
     "output_type": "execute_result"
    }
   ],
   "source": [
    "msg"
   ]
  },
  {
   "cell_type": "code",
   "execution_count": null,
   "metadata": {},
   "outputs": [],
   "source": []
  },
  {
   "cell_type": "code",
   "execution_count": null,
   "metadata": {},
   "outputs": [],
   "source": []
  },
  {
   "cell_type": "code",
   "execution_count": null,
   "metadata": {},
   "outputs": [],
   "source": []
  }
 ],
 "metadata": {
  "kernelspec": {
   "display_name": "Python 3",
   "language": "python",
   "name": "python3"
  },
  "language_info": {
   "codemirror_mode": {
    "name": "ipython",
    "version": 3
   },
   "file_extension": ".py",
   "mimetype": "text/x-python",
   "name": "python",
   "nbconvert_exporter": "python",
   "pygments_lexer": "ipython3",
   "version": "3.6.6"
  }
 },
 "nbformat": 4,
 "nbformat_minor": 2
}
