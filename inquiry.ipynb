{
 "cells": [
  {
   "cell_type": "code",
   "execution_count": null,
   "metadata": {},
   "outputs": [],
   "source": [
    "from libs.alibaba.alibaba import Alibaba\n",
    "from libs.alibaba.inquiry import Inquiry\n",
    "from libs.json import JSON\n",
    "\n",
    "from selenium import webdriver\n",
    "from selenium.webdriver.common.keys import Keys\n",
    "from selenium.webdriver.support.ui import WebDriverWait\n",
    "from selenium.webdriver.support import expected_conditions as EC\n",
    "from selenium.common.exceptions import WebDriverException\n",
    "from selenium.common.exceptions import NoSuchElementException\n",
    "from selenium.common.exceptions import ElementNotVisibleException\n",
    "from selenium.common.exceptions import StaleElementReferenceException\n",
    "from selenium.webdriver.common.by import By\n",
    "from selenium.webdriver.common.action_chains import ActionChains\n",
    "\n",
    "from datetime import datetime\n",
    "from bs4 import BeautifulSoup\n",
    "from pyquery import PyQuery as pq\n",
    "\n",
    "import json\n",
    "import requests\n",
    "import time\n",
    "import re\n",
    "import math\n",
    "\n",
    "import types\n",
    "import traceback\n",
    "import threading\n",
    "\n",
    "import logging\n",
    "from logging.handlers import TimedRotatingFileHandler"
   ]
  },
  {
   "cell_type": "code",
   "execution_count": 3,
   "metadata": {},
   "outputs": [
    {
     "name": "stdout",
     "output_type": "stream",
     "text": [
      ". storage markets.json\n",
      ".\\storage\\markets.json was deserialized!\n"
     ]
    },
    {
     "data": {
      "text/plain": [
       "{'name': 'Eyelashes',\n",
       " 'directory': 'E:\\\\glitter\\\\Eyelashes',\n",
       " 'lid': 'eyelash@glittergroupcn.com',\n",
       " 'lpwd': 'Wangzhen68970747'}"
      ]
     },
     "execution_count": 3,
     "metadata": {},
     "output_type": "execute_result"
    }
   ],
   "source": [
    "market = JSON.deserialize('.', 'storage', 'markets.json')['Eyelashes']\n",
    "market"
   ]
  },
  {
   "cell_type": "code",
   "execution_count": 4,
   "metadata": {},
   "outputs": [
    {
     "name": "stdout",
     "output_type": "stream",
     "text": [
      "primary 打开网址：https://i.alibaba.com\n",
      "primary 等待登陆页面加载 ... ...\n",
      "primary 输入登录信息， 并登录\n",
      "success 成功 登录 阿里巴巴 国际站！用户名：Jeremy\n"
     ]
    }
   ],
   "source": [
    "inquiry = Inquiry(market)\n",
    "inquiry.login()"
   ]
  },
  {
   "cell_type": "code",
   "execution_count": 5,
   "metadata": {},
   "outputs": [],
   "source": [
    "def open_inquiry_in_new_tab(self, inquiry):\n",
    "    href = self.browser.find_element_by_css_selector('a[data-trade-id=\"'+inquiry['id']+'\"]').get_attribute('href')\n",
    "    self.browser.execute_script(\"window.open('');\")\n",
    "    self.browser.switch_to.window(self.browser.window_handles[1])\n",
    "    self.browser.get(href)\n",
    "\n",
    "inquiry.open_inquiry_in_new_tab = types.MethodType(open_inquiry_in_new_tab, inquiry)"
   ]
  },
  {
   "cell_type": "code",
   "execution_count": 6,
   "metadata": {},
   "outputs": [],
   "source": [
    "def close_inquiry_and_switch_back(self):\n",
    "    self.browser.close()\n",
    "    self.browser.switch_to_window(self.browser.window_handles[0])\n",
    "\n",
    "inquiry.close_inquiry_and_switch_back = types.MethodType(close_inquiry_and_switch_back, inquiry)"
   ]
  },
  {
   "cell_type": "code",
   "execution_count": 25,
   "metadata": {},
   "outputs": [],
   "source": [
    "def get_conversation(self):\n",
    "    html = pq(self.browser.page_source)\n",
    "    divs = html.find('div.main-content-chat div.item-content-wrap')\n",
    "    messages = []\n",
    "    for elem  in divs:\n",
    "        div = pq(elem)\n",
    "        if div.hasClass('notification'):\n",
    "            continue\n",
    "        div = div.find('div.item-content')\n",
    "        msg = {}\n",
    "        if div.hasClass('item-content-left'):\n",
    "            msg['position'] = 'left'\n",
    "        elif div.hasClass('item-content-right'):\n",
    "            msg['position'] = 'right'\n",
    "        msg['user'] = div.find('.item-base-info span.name').text()\n",
    "        msg['date'] = div.find('.item-base-info span:last-child').text()\n",
    "        msg['content'] = div.find('.session-rich-content').text()\n",
    "        messages.append(msg)\n",
    "    buyer = {}\n",
    "    email = html.find('div.main-content-sidebar div.contact-item:nth-child(2) span.contact-item-email').text()\n",
    "    buyer['email'] = email\n",
    "    buyer['name'] = html.find('div.main-content-sidebar div.contact-name').text()\n",
    "    return { 'messages': messages, 'buyer': buyer}\n",
    "\n",
    "inquiry.get_conversation = types.MethodType(get_conversation, inquiry)"
   ]
  },
  {
   "cell_type": "code",
   "execution_count": 12,
   "metadata": {},
   "outputs": [],
   "source": []
  },
  {
   "cell_type": "code",
   "execution_count": 15,
   "metadata": {},
   "outputs": [],
   "source": [
    "inquiry.load_url()\n",
    "inquiries = inquiry.get_inquiries()"
   ]
  },
  {
   "cell_type": "code",
   "execution_count": 24,
   "metadata": {
    "scrolled": true
   },
   "outputs": [
    {
     "name": "stdout",
     "output_type": "stream",
     "text": [
      "{'messages': [{'position': 'left', 'user': 'Tiara Green', 'date': '2018-07-01 06:33', 'content': \"I'm interested in buying from your store and I would like to request a sample of an eyelash.\"}, {'position': 'right', 'user': 'Jeremy Wang', 'date': '2018-07-01 10:38', 'content': 'Hi'}], 'buyer': {'email': '隐藏', 'name': 'Tiara Green'}}\n"
     ]
    }
   ],
   "source": [
    "inquiry.open_inquiry_in_new_tab(inquiries[4])\n",
    "conversation = inquiry.get_conversation()\n",
    "inquiry.close_inquiry_and_switch_back()\n",
    "print(conversation)"
   ]
  },
  {
   "cell_type": "code",
   "execution_count": 27,
   "metadata": {},
   "outputs": [],
   "source": [
    "def is_new_inquiry(self, inquiry):\n",
    "    pass"
   ]
  },
  {
   "cell_type": "code",
   "execution_count": null,
   "metadata": {},
   "outputs": [],
   "source": []
  },
  {
   "cell_type": "code",
   "execution_count": null,
   "metadata": {},
   "outputs": [],
   "source": []
  },
  {
   "cell_type": "code",
   "execution_count": null,
   "metadata": {},
   "outputs": [],
   "source": []
  },
  {
   "cell_type": "code",
   "execution_count": null,
   "metadata": {},
   "outputs": [],
   "source": []
  },
  {
   "cell_type": "code",
   "execution_count": null,
   "metadata": {},
   "outputs": [],
   "source": []
  }
 ],
 "metadata": {
  "kernelspec": {
   "display_name": "Python 3",
   "language": "python",
   "name": "python3"
  },
  "language_info": {
   "codemirror_mode": {
    "name": "ipython",
    "version": 3
   },
   "file_extension": ".py",
   "mimetype": "text/x-python",
   "name": "python",
   "nbconvert_exporter": "python",
   "pygments_lexer": "ipython3",
   "version": "3.6.6"
  }
 },
 "nbformat": 4,
 "nbformat_minor": 2
}
