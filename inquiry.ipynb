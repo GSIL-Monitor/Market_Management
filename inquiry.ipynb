{
 "cells": [
  {
   "cell_type": "code",
   "execution_count": 1,
   "metadata": {},
   "outputs": [],
   "source": [
    "from libs.alibaba.alibaba import Alibaba\n",
    "from libs.alibaba.inquiry import Inquiry\n",
    "from libs.alibaba.inquiry import element_has_css_class\n",
    "from libs.email import Email\n",
    "from libs.json import JSON\n",
    "\n",
    "from selenium import webdriver\n",
    "from selenium.webdriver.common.keys import Keys\n",
    "from selenium.webdriver.support.ui import WebDriverWait\n",
    "from selenium.webdriver.support import expected_conditions as EC\n",
    "from selenium.common.exceptions import WebDriverException\n",
    "from selenium.common.exceptions import NoSuchElementException\n",
    "from selenium.common.exceptions import TimeoutException\n",
    "from selenium.common.exceptions import ElementNotVisibleException\n",
    "from selenium.common.exceptions import StaleElementReferenceException\n",
    "from selenium.webdriver.common.by import By\n",
    "from selenium.webdriver.common.action_chains import ActionChains\n",
    "\n",
    "from string import Template\n",
    "from datetime import datetime\n",
    "from bs4 import BeautifulSoup\n",
    "from pyquery import PyQuery as pq\n",
    "\n",
    "import json\n",
    "import requests\n",
    "import time\n",
    "import re\n",
    "import math\n",
    "\n",
    "import types\n",
    "import traceback\n",
    "import threading\n",
    "\n",
    "import pendulum\n",
    "\n",
    "import logging\n",
    "from logging.handlers import TimedRotatingFileHandler"
   ]
  },
  {
   "cell_type": "code",
   "execution_count": null,
   "metadata": {},
   "outputs": [],
   "source": []
  },
  {
   "cell_type": "code",
   "execution_count": 2,
   "metadata": {},
   "outputs": [
    {
     "name": "stdout",
     "output_type": "stream",
     "text": [
      ". storage markets.json\n",
      ".\\storage\\markets.json was deserialized!\n"
     ]
    },
    {
     "data": {
      "text/plain": [
       "{'name': 'Tools',\n",
       " 'directory': 'E:\\\\glitter\\\\Tools',\n",
       " 'lid': 'glittertools@glittergroupcn.com',\n",
       " 'lpwd': 'Songjianwei68970747',\n",
       " 'accounts': [],\n",
       " 'homepage': 'https://glittertools.en.alibaba.com',\n",
       " 'lname': 'Jessica Chen'}"
      ]
     },
     "execution_count": 2,
     "metadata": {},
     "output_type": "execute_result"
    }
   ],
   "source": [
    "market = JSON.deserialize('.', 'storage', 'markets.json')['Tools']\n",
    "market"
   ]
  },
  {
   "cell_type": "code",
   "execution_count": 3,
   "metadata": {},
   "outputs": [
    {
     "name": "stdout",
     "output_type": "stream",
     "text": [
      "E:\\glitter\\Tools_config [] inquiry_tracking_ids_Jessica.json\n",
      "E:\\glitter\\Tools_config\\inquiry_tracking_ids_Jessica.json was deserialized!\n",
      "primary 打开网址：https://i.alibaba.com\n",
      "primary 等待登陆页面加载 ... ...\n",
      "primary 输入登录信息， 并登录\n",
      "success 成功 登录 阿里巴巴 国际站！用户名：Jessica\n"
     ]
    }
   ],
   "source": [
    "# account = market['accounts']\n",
    "# inquiry = Inquiry(market, account, headless=False, browser=browser)\n",
    "inquiry = Inquiry(market, headless=False)\n",
    "inquiry.login()"
   ]
  },
  {
   "cell_type": "code",
   "execution_count": null,
   "metadata": {},
   "outputs": [],
   "source": []
  },
  {
   "cell_type": "code",
   "execution_count": 4,
   "metadata": {},
   "outputs": [],
   "source": [
    "def webww_check(self):\n",
    "    threads = []\n",
    "    # try to login\n",
    "    icon = WebDriverWait(self.browser, 15).until(\n",
    "        EC.visibility_of_element_located((By.CSS_SELECTOR, '#webatm2-iconbar')))\n",
    "    container = self.browser.find_element_by_css_selector('#webww-contacts')\n",
    "    dialog_iframe = self.browser.find_element_by_css_selector('#webatm2-iframe')\n",
    "    while True:\n",
    "        icon.click()\n",
    "        try:\n",
    "            WebDriverWait(self.browser, 15).until(\n",
    "                EC.invisibility_of_element_located((By.CSS_SELECTOR, '#webww-contacts .webatm2-tips')))\n",
    "        except TimeoutException as e:\n",
    "            print(str(e))\n",
    "            traceback.print_exc()\n",
    "        confirm = self.browser.find_element_by_css_selector('#webww-contacts .webatm2-confirm')\n",
    "        if confirm.is_displayed():\n",
    "            # failed login, cancel checking\n",
    "            print('Trade Manager has been loged in somewhere else, cancel checking')\n",
    "            close_btn = confirm.find_element_by_css_selector('span.webatm2-confirm-close')\n",
    "            close_btn.click()\n",
    "            return threads\n",
    "\n",
    "        if 'show-panel' in container.get_attribute('class'):\n",
    "            break\n",
    "\n",
    "    panel = WebDriverWait(self.browser, 15).until(\n",
    "        EC.visibility_of_element_located((By.CSS_SELECTOR, '#webatm2-panel')))\n",
    "    # after login\n",
    "\n",
    "    # open dialog\n",
    "    time.sleep(2)\n",
    "    tab_recent = panel.find_element_by_css_selector('div.tab-recent')\n",
    "    if 'unread' not in tab_recent.get_attribute('class'):\n",
    "        # tracking_tid_exists = False\n",
    "        # for key in self.tracking_ids:\n",
    "        #     if key.startswith('enali'):\n",
    "        #         tracking_tid_exists = True\n",
    "        #         break\n",
    "        # if not tracking_tid_exists:\n",
    "        #     print('there is no new messages.')\n",
    "        #     return threads\n",
    "        print('there is no new messages.')\n",
    "        return threads\n",
    "\n",
    "    self.load_tracking_ids()\n",
    "\n",
    "    tab_sysmsg = panel.find_element_by_css_selector('div.tab-sysmsg')\n",
    "    tab_sysmsg.click()\n",
    "    panel.find_element_by_css_selector('.panel-sysmsg.active a').click()\n",
    "    WebDriverWait(self.browser, 15).until(EC.visibility_of_element_located((By.CSS_SELECTOR, '#webatm2-dialog')))\n",
    "\n",
    "    # switch to iframe and navigate to recent threads\n",
    "    self.browser.switch_to.frame(dialog_iframe)\n",
    "    sidebar = self.browser.find_element_by_css_selector('.webatm2-sidebar')\n",
    "    head = self.browser.find_element_by_css_selector('.webatm2-window-head')\n",
    "    body = self.browser.find_element_by_css_selector('.webatm2-window-body')\n",
    "    sidebar.find_element_by_css_selector('.tab-thread').click()\n",
    "    time.sleep(1)\n",
    "    doc = pq(sidebar.find_element_by_css_selector('.webatm2-thread-list').get_attribute('innerHTML'))\n",
    "    for div in doc.find('.webatm2-thread'):\n",
    "        div = pq(div)\n",
    "        thread = {}\n",
    "        tid = div.attr('data-user-id')\n",
    "        thread['id'] = tid\n",
    "        thread['online'] = not div.hasClass('offline')\n",
    "        thread['name'] = div.find('.thread-info .name').text()\n",
    "        thread['unread'] = div.hasClass('unread')\n",
    "        thread['unread_count'] = int(div.find('.thread-info span.unread').text())\n",
    "        threads.append(thread)\n",
    "\n",
    "        if thread['unread_count'] == 0:\n",
    "            continue\n",
    "\n",
    "        if tid not in self.tracking_ids:\n",
    "            self.tracking_ids[tid] = {}\n",
    "            self.tracking_ids[tid]['datetime'] = pendulum.now()\n",
    "\n",
    "            # 工具平台 不 区分 新老客户\n",
    "            if 'tools' in self.market['name'].lower():\n",
    "                self.tracking_ids[tid]['status'] = ['contacted']\n",
    "            else:\n",
    "                if re.search('[\\u4E00-\\u9FA5]+', thread['name']):  # contacted\n",
    "                    self.tracking_ids[tid]['status'] = ['contacted']\n",
    "                else:\n",
    "                    self.tracking_ids[tid]['status'] = ['new']\n",
    "\n",
    "            self.save_tracking_ids()\n",
    "        self.webww_switch_to_thread(thread, sidebar, head, body)\n",
    "\n",
    "    self.browser.switch_to.default_content()\n",
    "    # self.find_('#webatm2-dialog .webatm2-dialog-close').click()\n",
    "\n",
    "    # time.sleep(5)\n",
    "    # self.load_url()\n",
    "    return threads\n",
    "inquiry.webww_check = types.MethodType(webww_check, inquiry)"
   ]
  },
  {
   "cell_type": "code",
   "execution_count": null,
   "metadata": {},
   "outputs": [],
   "source": [
    "def webww_switch_to_thread(self, thread, sidebar, head, body):\n",
    "\n",
    "        div = sidebar.find_element_by_css_selector('div.webatm2-thread[data-user-id=\"' + thread['id'] + '\"]')\n",
    "\n",
    "        if 'active' not in div.get_attribute('class'):\n",
    "            # msgs = body.find_elements_by_css_selector('.webatm2-messages .webatm2-message')\n",
    "            div.click()\n",
    "\n",
    "        #     if msgs:\n",
    "        #         print(msgs)\n",
    "        #         WebDriverWait(self.browser, 15).until(EC.staleness_of(msgs[-1]))\n",
    "        #     else:\n",
    "        #         WebDriverWait(self.browser, 15).until(\n",
    "        #             EC.presence_of_element_located((By.CSS_SELECTOR, '.webatm2-messages .webatm2-message')))\n",
    "        #     time.sleep(1)\n",
    "        # WebDriverWait(self.browser, 15).until(\n",
    "        #     EC.text_to_be_present_in_element((By.CSS_SELECTOR, '.webatm2-window-head .user-name'), thread['name']))\n",
    "\n",
    "        WebDriverWait(self.browser, 15).until(\n",
    "            EC.frame_to_be_available_and_switch_to_it((By.CSS_SELECTOR, '.show-contact iframe')))\n",
    "        buyer_name = ''\n",
    "        country = ''\n",
    "        login_location = ''\n",
    "        is_alibaba_employee = False\n",
    "\n",
    "        try:\n",
    "            buyer_name = self.browser.find_element_by_css_selector('#mini-card-wrap span.user-nick').text\n",
    "            span_country = self.browser.find_element_by_css_selector(\n",
    "                '#mini-card-wrap .user-base-info-wrap span:nth-child(2)')\n",
    "            country = re.search(':(.*)', span_country.get_attribute('title')).group(1)\n",
    "\n",
    "            spans = self.browser.find_elements_by_css_selector('#vaildEmployee')\n",
    "            if spans:\n",
    "                is_alibaba_employee = True\n",
    "\n",
    "            p_login_location = self.browser.find_elements_by_css_selector('#mini-card-wrap p.last-login-time')\n",
    "            if p_login_location:\n",
    "                login_location = re.search(':(.*)', p_login_location[0].get_attribute('title')).group(1)\n",
    "        except Exception as e:\n",
    "            print(str(e))\n",
    "            traceback.print_exc()\n",
    "        finally:\n",
    "            self.browser.switch_to.parent_frame()\n",
    "\n",
    "        print(buyer_name, is_alibaba_employee, country, login_location)\n",
    "        doc = pq(self.browser.find_element_by_css_selector('.webatm2-window-body .webatm2-messages').get_attribute(\n",
    "            'innerHTML'))\n",
    "\n",
    "        is_replied = False\n",
    "        last_buyer_message = []\n",
    "        messages = []\n",
    "        for div in doc.find('.webatm2-message'):\n",
    "            div = pq(div)\n",
    "            message = {}\n",
    "            message['is_self'] = div.hasClass('self')\n",
    "            message['datetime'] = div.find('.time-tag').text() if div.find('.time-tag') else None\n",
    "            message['content'] = div.find('.content').text().replace('\\xa0', ' ')\n",
    "\n",
    "            if message['is_self']:\n",
    "                last_buyer_message = []\n",
    "                is_replied = True\n",
    "            else:\n",
    "                last_buyer_message.append(message)\n",
    "                is_replied = False\n",
    "\n",
    "            messages.append(message)\n",
    "\n",
    "        salutation = 'hello'\n",
    "        if buyer_name:\n",
    "            salutation = 'Dear ' + buyer_name\n",
    "\n",
    "        # tempory code to set links for catalog\n",
    "        link = ''\n",
    "        if 'eyelash' in self.market['name'].lower():\n",
    "            link = 'https://drive.google.com/file/d/1gfHwDl1qPomAMnkFGCjiVk74e8CQagoI'\n",
    "        elif 'tool' in self.market['name'].lower():\n",
    "            link = ''\n",
    "\n",
    "        params = {'salutation': salutation, 'link': link, 'sender': self.lname, 'email': self.lid}\n",
    "\n",
    "        tid = thread['id']\n",
    "        tracking = self.tracking_ids[tid]\n",
    "        last_status = tracking['status'][-1]\n",
    "        \n",
    "        if is_replied:\n",
    "            pass\n",
    "        elif is_alibaba_employee:\n",
    "            msg = '0123456789'\n",
    "            self.webww_send_message(msg, body)\n",
    "            tracking['status'].append('irrelevant reply')\n",
    "            self.save_tracking_ids()\n",
    "        elif last_status == 'new':\n",
    "            msg = self.reply_templates['webww_first_reply'].substitute(params)\n",
    "            self.webww_send_message(msg, body)\n",
    "            tracking['status'].append('contacted')\n",
    "            self.save_tracking_ids()\n",
    "        elif last_status == 'contacted':\n",
    "            msg = self.reply_templates['webww_default_reply_for_contacted_buyer'].substitute(params)\n",
    "            self.webww_send_message(msg, body)\n",
    "            tracking['status'].append('replied with default message')\n",
    "            self.save_tracking_ids()\n",
    "        else:\n",
    "            pass\n",
    "inquiry.webww_switch_to_thread = types.MethodType(webww_switch_to_thread, inquiry)"
   ]
  },
  {
   "cell_type": "code",
   "execution_count": null,
   "metadata": {},
   "outputs": [],
   "source": [
    "def webww_send_message(self, msg, body):\n",
    "    edit = body.find_element_by_css_selector('div.webatm2-editor-body')\n",
    "    for part in msg.split('\\n'):\n",
    "        edit.send_keys(part)\n",
    "        print(part)\n",
    "        ActionChains(self.browser).key_down(Keys.SHIFT).key_down(Keys.ENTER).key_up(Keys.SHIFT).perform()\n",
    "    edit.send_keys(Keys.BACKSPACE)\n",
    "    send_btn = body.find_element_by_css_selector('button.send')\n",
    "#     send_btn.click()\n",
    "\n",
    "inquiry.webww_send_message = types.MethodType(webww_send_message, inquiry)"
   ]
  },
  {
   "cell_type": "code",
   "execution_count": null,
   "metadata": {},
   "outputs": [],
   "source": [
    "inquiry.login()"
   ]
  },
  {
   "cell_type": "code",
   "execution_count": null,
   "metadata": {},
   "outputs": [],
   "source": [
    "inquiry.browser.switch_to.default_content()"
   ]
  },
  {
   "cell_type": "code",
   "execution_count": 7,
   "metadata": {},
   "outputs": [],
   "source": [
    "inquiry.load_url()"
   ]
  },
  {
   "cell_type": "code",
   "execution_count": 8,
   "metadata": {},
   "outputs": [
    {
     "name": "stdout",
     "output_type": "stream",
     "text": [
      "there is no new messages.\n"
     ]
    }
   ],
   "source": [
    "threads = inquiry.webww_check()"
   ]
  },
  {
   "cell_type": "code",
   "execution_count": null,
   "metadata": {},
   "outputs": [],
   "source": [
    "dialog_iframe = inquiry.browser.find_element_by_css_selector('#webatm2-iframe')\n",
    "inquiry.browser.switch_to.frame(dialog_iframe)\n",
    "sidebar = inquiry.browser.find_ele.ment_by_css_selector('.webatm2-sidebar')\n",
    "head = inquiry.browser.find_element_by_css_selector('.webatm2-window-head')\n",
    "body = inquiry.browser.find_element_by_css_selector('.webatm2-window-body')\n"
   ]
  },
  {
   "cell_type": "code",
   "execution_count": null,
   "metadata": {},
   "outputs": [],
   "source": [
    "thread = threads[0]\n",
    "thread"
   ]
  },
  {
   "cell_type": "code",
   "execution_count": null,
   "metadata": {},
   "outputs": [],
   "source": [
    "inquiry.webww_switch_to_thread(threads[1], sidebar, head, body)"
   ]
  },
  {
   "cell_type": "code",
   "execution_count": null,
   "metadata": {},
   "outputs": [],
   "source": [
    "inquiry.browser.switch_to.default_content()"
   ]
  },
  {
   "cell_type": "code",
   "execution_count": null,
   "metadata": {},
   "outputs": [],
   "source": [
    "for t in threads:\n",
    "    inquiry.webww_switch_to_thread(t, sidebar, head, body)"
   ]
  },
  {
   "cell_type": "code",
   "execution_count": null,
   "metadata": {},
   "outputs": [],
   "source": [
    "not {}"
   ]
  },
  {
   "cell_type": "code",
   "execution_count": null,
   "metadata": {},
   "outputs": [],
   "source": []
  },
  {
   "cell_type": "code",
   "execution_count": null,
   "metadata": {},
   "outputs": [],
   "source": []
  },
  {
   "cell_type": "code",
   "execution_count": null,
   "metadata": {},
   "outputs": [],
   "source": [
    "inquiry.load_reply_templates()"
   ]
  },
  {
   "cell_type": "code",
   "execution_count": null,
   "metadata": {},
   "outputs": [],
   "source": [
    "inquiry.reply_templates"
   ]
  },
  {
   "cell_type": "code",
   "execution_count": null,
   "metadata": {},
   "outputs": [],
   "source": []
  },
  {
   "cell_type": "code",
   "execution_count": null,
   "metadata": {},
   "outputs": [],
   "source": [
    "def get_inquiries(self):\n",
    "    html = pq(self.browser.page_source)\n",
    "    inquiry_list = html.find('.ui2-list-body .aui2-grid-wraper')\n",
    "    inquiries = []\n",
    "    for elem in inquiry_list:\n",
    "        div = pq(elem)\n",
    "        item = {}\n",
    "        item['url'] = div.find('a').attr('href')\n",
    "        text = div.find('div.spec-inquiry-id').text().strip()\n",
    "        item['id'] = re.search('(\\d+)', text).group(1)\n",
    "        item['date'] = div.find('div.spec-inquiry-id+div').text().strip()\n",
    "        item['tags'] = []\n",
    "        for span in div.find('div.aui-tags span'):\n",
    "            item['tags'].append(pq(span).text())\n",
    "        item['is_replied'] = True if div.find('td:nth-child(2) i[title=\"已回复\"]') else False\n",
    "        item['title'] = div.find('td:nth-child(3)').text()\n",
    "        item['buyer'] = div.find('td:nth-child(4)').text().strip()\n",
    "        item['is_buyer_online'] = True if div.find('td:nth-child(5) div.atm-online') else False\n",
    "        text = div.find('td:nth-child(6) i').attr('title')\n",
    "        try:\n",
    "            item['buyer_country'] = re.sub(' \\[.*\\]', '', text)\n",
    "            item['buyer_local_time'] = re.search('\\[Local Time: (.*)\\]', text).group(1)\n",
    "        except AttributeError:\n",
    "            item['buyer_country'] = text\n",
    "            item['buyer_local_time'] = None\n",
    "        item['responsible_person'] = div.find('td:nth-child(7)').text()\n",
    "        item['status'] = div.find('td:nth-child(8)').text()\n",
    "        if '新询盘' in item['status'] or 'New Inquiry' in item['status']:\n",
    "            item['is_new'] = True\n",
    "        else:\n",
    "            item['is_new'] = False\n",
    "        inquiries.append(item)\n",
    "    return inquiries\n",
    "\n",
    "inquiry.get_inquiries = types.MethodType(get_inquiries, inquiry)"
   ]
  },
  {
   "cell_type": "code",
   "execution_count": null,
   "metadata": {},
   "outputs": [],
   "source": [
    "def load_url(self):\n",
    "    while True:\n",
    "        try:\n",
    "            if self.alibaba is None:\n",
    "                self.logger.info('open browser and login')\n",
    "                alibaba = Alibaba(self.lid, self.lpwd, headless=self.headless, browser=self.browser)\n",
    "                alibaba.login()\n",
    "                if self.browser is None:\n",
    "                    self.browser = alibaba.browser\n",
    "                self.alibaba = alibaba\n",
    "\n",
    "            self.browser.get(self.api)\n",
    "            if 'login.alibaba.com' in self.browser.current_url:\n",
    "                self.logger.info('Was out, login again!')\n",
    "                self.alibaba.login()\n",
    "                self.browser.get(self.api)\n",
    "\n",
    "            div = WebDriverWait(self.browser, 15).until(\n",
    "                EC.presence_of_element_located((By.CSS_SELECTOR, 'div.aui-loading')))\n",
    "            WebDriverWait(self.browser, 15).until(EC.staleness_of(div))\n",
    "\n",
    "            # try to close all follow-me-popups\n",
    "            while True:\n",
    "                btn_close = self.browser.find_elements_by_css_selector('div.follow-me-close')\n",
    "                if btn_close:\n",
    "                    webdriver.ActionChains(self.browser).send_keys(Keys.ESCAPE).perform()\n",
    "                    # wait 1 second to see if new popup commes\n",
    "                    self.browser.implicitly_wait(1)\n",
    "                    continue\n",
    "                else:\n",
    "                    break\n",
    "            break\n",
    "        except TimeoutException as e:\n",
    "            break\n",
    "        except WebDriverException as e:\n",
    "#             traceback.print_exc()\n",
    "            if 'chrome not reachable' in str(e):\n",
    "                self.logger.info('Browser Window was closed! Try to open a new browser window.')\n",
    "                self.browser = None\n",
    "                continue\n",
    "inquiry.load_url = types.MethodType(load_url, inquiry)"
   ]
  },
  {
   "cell_type": "code",
   "execution_count": null,
   "metadata": {},
   "outputs": [],
   "source": [
    "def check(self):\n",
    "    print('load url ...')\n",
    "    self.load_url()\n",
    "    self.load_tracking_ids()\n",
    "\n",
    "    time.sleep(0.1)\n",
    "    print('get inquiries ...')\n",
    "    inquiries = self.get_inquiries()\n",
    "\n",
    "    for enquiry in inquiries:\n",
    "        print('process enquiry ...' + enquiry['id'])\n",
    "        if not self.is_auto_reply_needed(enquiry):\n",
    "            continue\n",
    "\n",
    "        print('enquiry ' + enquiry['id'] + ' reply is needed')\n",
    "        self.reply(enquiry)\n",
    "        \n",
    "    print('quit ... ...')\n",
    "inquiry.check = types.MethodType(check, inquiry)"
   ]
  },
  {
   "cell_type": "code",
   "execution_count": null,
   "metadata": {},
   "outputs": [],
   "source": [
    "inquiry.load_url()\n",
    "time.sleep(0.1)"
   ]
  },
  {
   "cell_type": "code",
   "execution_count": null,
   "metadata": {},
   "outputs": [],
   "source": [
    "inquiries = inquiry.get_inquiries()"
   ]
  },
  {
   "cell_type": "code",
   "execution_count": null,
   "metadata": {
    "scrolled": true
   },
   "outputs": [],
   "source": [
    "enquiry = inquiries[3]\n",
    "enquiry"
   ]
  },
  {
   "cell_type": "code",
   "execution_count": null,
   "metadata": {},
   "outputs": [],
   "source": [
    "inquiry.is_auto_reply_needed(enquiry)"
   ]
  },
  {
   "cell_type": "code",
   "execution_count": null,
   "metadata": {},
   "outputs": [],
   "source": [
    "inquiry.reply(enquiry)"
   ]
  },
  {
   "cell_type": "code",
   "execution_count": null,
   "metadata": {},
   "outputs": [],
   "source": []
  },
  {
   "cell_type": "code",
   "execution_count": null,
   "metadata": {},
   "outputs": [],
   "source": [
    "inquiry.account"
   ]
  },
  {
   "cell_type": "code",
   "execution_count": null,
   "metadata": {},
   "outputs": [],
   "source": [
    "inquiry.load_reply_templates()\n",
    "inquiry.reply_templates['notify_first_reply_without_email']"
   ]
  },
  {
   "cell_type": "code",
   "execution_count": null,
   "metadata": {},
   "outputs": [],
   "source": [
    "inquiry.tracking_ids['11947313067']['status'] = ['new']\n",
    "inquiry.tracking_ids"
   ]
  },
  {
   "cell_type": "code",
   "execution_count": null,
   "metadata": {},
   "outputs": [],
   "source": [
    "inquiry.check()"
   ]
  },
  {
   "cell_type": "code",
   "execution_count": null,
   "metadata": {},
   "outputs": [],
   "source": [
    "inquiry.tracking_ids"
   ]
  },
  {
   "cell_type": "code",
   "execution_count": null,
   "metadata": {},
   "outputs": [],
   "source": [
    "inquiry.close_inquiry_and_switch_back()"
   ]
  },
  {
   "cell_type": "code",
   "execution_count": null,
   "metadata": {},
   "outputs": [],
   "source": [
    "inquiry.load_find_catalog()"
   ]
  },
  {
   "cell_type": "code",
   "execution_count": null,
   "metadata": {},
   "outputs": [],
   "source": [
    "inquiry.catalog"
   ]
  },
  {
   "cell_type": "code",
   "execution_count": null,
   "metadata": {},
   "outputs": [],
   "source": [
    "market = JSON.deserialize('.', 'storage', 'markets.json')['Eyelashes']\n",
    "inquiry = Inquiry(market)"
   ]
  },
  {
   "cell_type": "code",
   "execution_count": null,
   "metadata": {
    "scrolled": true
   },
   "outputs": [],
   "source": [
    "emails = ['changshu.qd@gmail.com', 'odingdongo@hotmail.com']\n",
    "mime_message = Email.message_of_product_catalog(inquiry.market, inquiry.account, 'prestl bernhard')\n",
    "Email.send(inquiry.account, emails, mime_message)"
   ]
  },
  {
   "cell_type": "code",
   "execution_count": null,
   "metadata": {},
   "outputs": [],
   "source": [
    "inquiry.account"
   ]
  },
  {
   "cell_type": "code",
   "execution_count": null,
   "metadata": {},
   "outputs": [],
   "source": []
  },
  {
   "cell_type": "code",
   "execution_count": null,
   "metadata": {},
   "outputs": [],
   "source": [
    "enquiry = inquiries[8]\n",
    "enquiry"
   ]
  },
  {
   "cell_type": "code",
   "execution_count": null,
   "metadata": {},
   "outputs": [],
   "source": []
  },
  {
   "cell_type": "code",
   "execution_count": null,
   "metadata": {},
   "outputs": [],
   "source": [
    "enquiry = inquiries[8]\n",
    "inquiry.open_inquiry_in_new_tab(enquiry)\n",
    "conversation = inquiry.get_conversation()\n",
    "inquiry.close_inquiry_and_switch_back()\n",
    "messages = conversation['messages']\n",
    "buyer = conversation['buyer']\n",
    "messages"
   ]
  },
  {
   "cell_type": "code",
   "execution_count": null,
   "metadata": {},
   "outputs": [],
   "source": [
    "enquiry = inquiries[8]\n",
    "enquiry"
   ]
  },
  {
   "cell_type": "code",
   "execution_count": null,
   "metadata": {},
   "outputs": [],
   "source": []
  },
  {
   "cell_type": "code",
   "execution_count": null,
   "metadata": {},
   "outputs": [],
   "source": [
    "# inquiry.load_tracking_ids()\n",
    "inquiry.tracking_ids"
   ]
  },
  {
   "cell_type": "code",
   "execution_count": null,
   "metadata": {},
   "outputs": [],
   "source": [
    "inquiry.close_inquiry_and_switch_back()"
   ]
  },
  {
   "cell_type": "code",
   "execution_count": null,
   "metadata": {
    "scrolled": true
   },
   "outputs": [],
   "source": [
    "# inquiry.close_inquiry_and_switch_back()\n",
    "# inquiry.tracking_ids['11947313067']['status'] = ['new']\n",
    "enquiry = inquiries[0]\n",
    "inquiry.reply(enquiry)"
   ]
  },
  {
   "cell_type": "code",
   "execution_count": null,
   "metadata": {},
   "outputs": [],
   "source": [
    "inquiry.tracking_ids"
   ]
  },
  {
   "cell_type": "code",
   "execution_count": null,
   "metadata": {},
   "outputs": [],
   "source": []
  },
  {
   "cell_type": "code",
   "execution_count": null,
   "metadata": {},
   "outputs": [],
   "source": []
  },
  {
   "cell_type": "code",
   "execution_count": null,
   "metadata": {},
   "outputs": [],
   "source": []
  },
  {
   "cell_type": "code",
   "execution_count": null,
   "metadata": {},
   "outputs": [],
   "source": [
    "def try_login_webww():\n",
    "    btn_login = WebDriverWait(inquiry.browser, 15).until(EC.visibility_of_element_located((By.CSS_SELECTOR, '#webatm2-iconbar')))\n",
    "    btn_login.click()"
   ]
  },
  {
   "cell_type": "code",
   "execution_count": null,
   "metadata": {},
   "outputs": [],
   "source": [
    "panel = inquiry.browser.find_element_by_css_selector('#webatm2-panel')"
   ]
  },
  {
   "cell_type": "code",
   "execution_count": null,
   "metadata": {},
   "outputs": [],
   "source": [
    "inquiries[11]"
   ]
  },
  {
   "cell_type": "code",
   "execution_count": null,
   "metadata": {},
   "outputs": [],
   "source": []
  },
  {
   "cell_type": "code",
   "execution_count": null,
   "metadata": {},
   "outputs": [],
   "source": []
  },
  {
   "cell_type": "code",
   "execution_count": null,
   "metadata": {},
   "outputs": [],
   "source": []
  },
  {
   "cell_type": "code",
   "execution_count": null,
   "metadata": {},
   "outputs": [],
   "source": []
  },
  {
   "cell_type": "code",
   "execution_count": null,
   "metadata": {},
   "outputs": [],
   "source": []
  },
  {
   "cell_type": "code",
   "execution_count": null,
   "metadata": {},
   "outputs": [],
   "source": []
  },
  {
   "cell_type": "code",
   "execution_count": null,
   "metadata": {},
   "outputs": [],
   "source": [
    "re.findall('([a-zA-Z0-9_.+-]+@[a-zA-Z0-9-]+\\.[a-zA-Z0-9-.]+)', text)"
   ]
  },
  {
   "cell_type": "code",
   "execution_count": null,
   "metadata": {},
   "outputs": [],
   "source": [
    "inquiry.browser.save_screenshot(\"screenshot.png\")"
   ]
  },
  {
   "cell_type": "code",
   "execution_count": null,
   "metadata": {
    "scrolled": true
   },
   "outputs": [],
   "source": []
  },
  {
   "cell_type": "code",
   "execution_count": null,
   "metadata": {},
   "outputs": [],
   "source": []
  },
  {
   "cell_type": "code",
   "execution_count": null,
   "metadata": {},
   "outputs": [],
   "source": []
  },
  {
   "cell_type": "code",
   "execution_count": null,
   "metadata": {},
   "outputs": [],
   "source": []
  },
  {
   "cell_type": "code",
   "execution_count": null,
   "metadata": {},
   "outputs": [],
   "source": []
  },
  {
   "cell_type": "code",
   "execution_count": null,
   "metadata": {},
   "outputs": [],
   "source": [
    "text = 'Inquiry ID：100708962003'"
   ]
  },
  {
   "cell_type": "code",
   "execution_count": null,
   "metadata": {},
   "outputs": [],
   "source": [
    "text = '询价单号：100708962003'"
   ]
  },
  {
   "cell_type": "code",
   "execution_count": null,
   "metadata": {},
   "outputs": [],
   "source": [
    "re.search('(\\d+)', text).group(1)"
   ]
  },
  {
   "cell_type": "code",
   "execution_count": null,
   "metadata": {},
   "outputs": [],
   "source": [
    "text"
   ]
  },
  {
   "cell_type": "code",
   "execution_count": null,
   "metadata": {},
   "outputs": [],
   "source": []
  },
  {
   "cell_type": "code",
   "execution_count": null,
   "metadata": {},
   "outputs": [],
   "source": []
  },
  {
   "cell_type": "code",
   "execution_count": null,
   "metadata": {},
   "outputs": [],
   "source": []
  },
  {
   "cell_type": "code",
   "execution_count": null,
   "metadata": {},
   "outputs": [],
   "source": [
    "msg = 'ldskfjsl'\n",
    "js = \"document.querySelector('.webatm2-window-body .webatm2-editor-body').innerHTML = `{message}`;\"\n",
    "js.format(message=msg)"
   ]
  },
  {
   "cell_type": "code",
   "execution_count": null,
   "metadata": {},
   "outputs": [],
   "source": [
    "from string import Template"
   ]
  },
  {
   "cell_type": "code",
   "execution_count": null,
   "metadata": {},
   "outputs": [],
   "source": [
    "params = {'salutation': 'chang', 'link': 'link', 'sender': 'shu'}\n",
    "templ = Template('$salutation, lsdkfjlskf. $sender')\n",
    "msg = templ.substitute(params)"
   ]
  },
  {
   "cell_type": "code",
   "execution_count": null,
   "metadata": {},
   "outputs": [],
   "source": [
    "msg"
   ]
  },
  {
   "cell_type": "code",
   "execution_count": null,
   "metadata": {},
   "outputs": [],
   "source": []
  },
  {
   "cell_type": "code",
   "execution_count": null,
   "metadata": {},
   "outputs": [],
   "source": []
  },
  {
   "cell_type": "code",
   "execution_count": null,
   "metadata": {},
   "outputs": [],
   "source": []
  }
 ],
 "metadata": {
  "kernelspec": {
   "display_name": "Python 3",
   "language": "python",
   "name": "python3"
  },
  "language_info": {
   "codemirror_mode": {
    "name": "ipython",
    "version": 3
   },
   "file_extension": ".py",
   "mimetype": "text/x-python",
   "name": "python",
   "nbconvert_exporter": "python",
   "pygments_lexer": "ipython3",
   "version": "3.6.6"
  }
 },
 "nbformat": 4,
 "nbformat_minor": 2
}
