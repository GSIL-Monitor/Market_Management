{
 "cells": [
  {
   "cell_type": "code",
   "execution_count": 1,
   "metadata": {},
   "outputs": [],
   "source": [
    "from pywinauto.application import Application\n",
    "from pywinauto.keyboard import SendKeys\n",
    "import pyautogui\n",
    "import requests\n",
    "import urllib3\n",
    "import time\n",
    "import json\n",
    "\n",
    "urllib3.disable_warnings(urllib3.exceptions.InsecureRequestWarning)"
   ]
  },
  {
   "cell_type": "code",
   "execution_count": 2,
   "metadata": {},
   "outputs": [],
   "source": [
    "class Region:\n",
    "    def __init__(self):\n",
    "        (self.screen_width, self.screen_height) = pyautogui.size()\n",
    "        self.sys_tray_taskbar = (self.screen_width-500,self.screen_height-30,400,30)\n",
    "        self.sys_tray_panel = (self.screen_width-500, self.screen_height-250, 500, 250)"
   ]
  },
  {
   "cell_type": "code",
   "execution_count": 3,
   "metadata": {},
   "outputs": [],
   "source": [
    "class SSR:\n",
    "    current_server = None\n",
    "    failed_servers = set()\n",
    "    inland_servers = set()\n",
    "    proxy = {\n",
    "              \"http\": \"http://127.0.0.1:8080\",\n",
    "              \"https\": \"https://127.0.0.1:8080\"\n",
    "            }\n",
    "    def __init__(self):\n",
    "        self.region = Region()\n",
    "        self.app = Application(backend=\"uia\").connect(path=\"E:\\软件\\网络\\ssr-win\\ShadowsocksR-dotnet4.0.exe\")\n",
    "        self.switch_mode(mode='global')\n",
    "        self.get_current_server()\n",
    "        print(self.current_server)\n",
    "        \n",
    "    def open_ssr_menu(self):\n",
    "        position = pyautogui.position()\n",
    "        location = pyautogui.locateCenterOnScreen('./images/sys_tray_toggle.png', confidence=0.9, grayscale=True, region=self.region.sys_tray_taskbar)\n",
    "        pyautogui.click(location)\n",
    "        location = pyautogui.locateCenterOnScreen('./images/ssr_icon.png', confidence=0.9, grayscale=True, region=self.region.sys_tray_panel)\n",
    "        pyautogui.rightClick(location)\n",
    "        pyautogui.moveTo(position)\n",
    "        \n",
    "    def switch_mode(self, mode='pac'): # direct, pac, global\n",
    "        self.open_ssr_menu()\n",
    "        self.app.Menu['系统代理模式'].select()\n",
    "        if mode == 'pac':\n",
    "            self.app.window(title=\"系统代理模式\")['PAC 模式'].select()\n",
    "        elif mode == 'global':\n",
    "            self.app.Menu['全局模式'].select()\n",
    "        elif mode == 'direct':\n",
    "            self.app.Menu['直连模式'].select()\n",
    "        self.current_mode = mode\n",
    "        \n",
    "    def update(direct=False):\n",
    "        self.open_ssr_menu()\n",
    "        self.app.Menu['服务器订阅'].select()\n",
    "        if direct:\n",
    "            self.app.window(title=\"服务器订阅\")['更新SSR服务器订阅（不通过代理）'].select()\n",
    "        else:\n",
    "            self.app.window(title=\"服务器订阅\")['更新SSR服务器订阅'].select()\n",
    "            \n",
    "    def get_current_server(self):\n",
    "        if self.current_server:\n",
    "            return self.current_server\n",
    "        \n",
    "        self.open_ssr_menu()\n",
    "        self.app.Menu['服务器'].select()\n",
    "        self.app.window(title=\"服务器\").MenuItem2.select()\n",
    "        items = self.app.window(best_match=\"OSOECO\", control_type=\"Menu\").children()\n",
    "        for item in items:\n",
    "            if self.is_server_menu_item_selected(item):\n",
    "                self.current_server = item.window_text()\n",
    "        SendKeys('{ESC}')\n",
    "        SendKeys('{ESC}')\n",
    "        SendKeys('{ESC}')\n",
    "        return self.current_server\n",
    "    \n",
    "    def is_server_menu_item_selected(self, mi):\n",
    "        rect = mi.rectangle()\n",
    "        region = (rect.left, rect.top, rect.width(), rect.height())\n",
    "        location = pyautogui.locateCenterOnScreen('./images/selected_server.png', confidence=0.9, grayscale=True, region=region)\n",
    "        if location:\n",
    "            return True\n",
    "        else:\n",
    "            return False\n",
    "        \n",
    "    def switch_to_next_server(self):\n",
    "        self.open_ssr_menu()\n",
    "        self.app.Menu['服务器'].select()\n",
    "        self.app.window(title=\"服务器\").MenuItem2.select()\n",
    "        items = self.app.window(best_match=\"OSOECO\", control_type=\"Menu\").children()\n",
    "        current_server = self.get_current_server()\n",
    "        next_item = None\n",
    "        for idx, item in enumerate(items):\n",
    "            if current_server is None:\n",
    "                next_item = item\n",
    "                break\n",
    "            elif self.current_server == item.window_text():\n",
    "                next_idx = idx + 1\n",
    "                if next_idx == len(items):\n",
    "                    next_idx = 0\n",
    "                next_item = items[next_idx]\n",
    "                break\n",
    "        self.current_server = next_item.window_text()\n",
    "        next_item.select()\n",
    "        \n",
    "    def is_current_server_on(self):\n",
    "        response = None\n",
    "        t1 = time.time()\n",
    "        try:\n",
    "            response = requests.get(\"https://api.ipgeolocation.io/ipgeo?apiKey=8729c2eb97dc4478b00f798d549c78df\", proxies=self.proxy, timeout=4, verify=False)\n",
    "            if self.current_server in self.failed_servers:\n",
    "                self.failed_servers.remove(self.current_server)\n",
    "        except Exception as e:\n",
    "            self.failed_servers.add(self.current_server)\n",
    "        t2 = time.time()\n",
    "        if response:\n",
    "            ipgeo = json.loads(response.text)\n",
    "            if ipgeo['country_name'].lower() == 'china':\n",
    "                self.inland_servers.add(ssr.current_server)\n",
    "            print(t2-t1, ' -- ', ipgeo['ip'], ipgeo['country_name'], ipgeo['city'], ipgeo['time_zone']['name'], '  ---  ', ssr.current_server.split(' (')[0])\n",
    "            return True\n",
    "        else:\n",
    "            print(t2-t1, ' -- ', ssr.current_server)\n",
    "            return False\n",
    "        \n",
    "    def switch_to_next_working_foreign_server(self):\n",
    "        while True:\n",
    "            self.switch_to_next_server()\n",
    "            if '国内' in self.current_server:\n",
    "                continue\n",
    "            if self.is_current_server_on():\n",
    "                break"
   ]
  },
  {
   "cell_type": "code",
   "execution_count": null,
   "metadata": {},
   "outputs": [],
   "source": []
  },
  {
   "cell_type": "code",
   "execution_count": 4,
   "metadata": {},
   "outputs": [
    {
     "name": "stdout",
     "output_type": "stream",
     "text": [
      "美国MC - 无限流量 / 三网适用 (us-mc.osoblanco.xyz:4936)\n"
     ]
    }
   ],
   "source": [
    "ssr = SSR()"
   ]
  },
  {
   "cell_type": "code",
   "execution_count": 8,
   "metadata": {},
   "outputs": [
    {
     "name": "stdout",
     "output_type": "stream",
     "text": [
      "1.9349126815795898  --  133.18.208.210 Japan Chiyoda Asia/Tokyo   ---   日本IIJ - 三网适用\n"
     ]
    },
    {
     "data": {
      "text/plain": [
       "True"
      ]
     },
     "execution_count": 8,
     "metadata": {},
     "output_type": "execute_result"
    }
   ],
   "source": [
    "ssr.is_current_server_on()"
   ]
  },
  {
   "cell_type": "code",
   "execution_count": 28,
   "metadata": {},
   "outputs": [],
   "source": [
    "ssr.switch_mode(mode='pac')"
   ]
  },
  {
   "cell_type": "code",
   "execution_count": null,
   "metadata": {},
   "outputs": [],
   "source": []
  },
  {
   "cell_type": "code",
   "execution_count": 7,
   "metadata": {},
   "outputs": [
    {
     "name": "stdout",
     "output_type": "stream",
     "text": [
      "3.3868279457092285  --  133.18.208.210 Japan Chiyoda Asia/Tokyo   ---   日本IIJ - 三网适用\n"
     ]
    }
   ],
   "source": [
    "ssr.switch_to_next_working_foreign_server()"
   ]
  },
  {
   "cell_type": "code",
   "execution_count": 13,
   "metadata": {
    "scrolled": false
   },
   "outputs": [
    {
     "name": "stdout",
     "output_type": "stream",
     "text": [
      "0 => 1.2021491527557373  --  185.199.225.78 United States Chicago America/Chicago   ---   美国MC - 无限流量 / 三网适用\n",
      "1 => server failed SOCKSHTTPSConnectionPool(host='api.ipgeolocation.io', port=443): Read timed out. (read timeout=4)\n",
      "5.18377161026001  --  日本IIJ - 三网适用 (jp-iij.osoblanco.xyz:4936)\n",
      "2 => server failed SOCKSHTTPSConnectionPool(host='api.ipgeolocation.io', port=443): Max retries exceeded with url: /ipgeo?apiKey=8729c2eb97dc4478b00f798d549c78df (Caused by ConnectTimeoutError(<urllib3.contrib.socks.SOCKSHTTPSConnection object at 0x0000020B202CA5C0>, 'Connection to api.ipgeolocation.io timed out. (connect timeout=4)'))\n",
      "4.017355680465698  --  香港CN2-B - 三网适用 (hk-cn2-b.osoblanco.xyz:4936)\n",
      "3 => 2.7471163272857666  --  133.18.202.21 Japan Chiyoda Asia/Tokyo   ---   日本IIJ-B - 三网适用\n",
      "4 => 1.5322656631469727  --  89.31.126.187 Japan Shinagawa Asia/Tokyo   ---   日本IIJ-C - 可看Netflix / 三网适用\n",
      "5 => 1.1946628093719482  --  103.99.179.16 United States Los Angeles America/Los_Angeles   ---   美国CN2-B - 可看Netflix / 三网适用\n",
      "6 => 1.417020320892334  --  104.215.144.54 Singapore Singapore Asia/Singapore   ---   新加坡-微软云 - 三网适用\n",
      "7 => 1.3207471370697021  --  104.215.149.161 Singapore Singapore Asia/Singapore   ---   新加坡Azure - 三网适用\n",
      "8 => 1.3029310703277588  --  185.199.224.199 United States Chicago America/Chicago   ---   美国CN2-D - 无限流量 / 三网适用\n",
      "9 => 1.0299439430236816  --  104.199.238.103 United States Ashburn America/New_York   ---   台湾-游戏专用 - 扣5倍流量 / 限速2Mbps / 不适合移动\n",
      "10 => server failed SOCKSHTTPSConnectionPool(host='api.ipgeolocation.io', port=443): Max retries exceeded with url: /ipgeo?apiKey=8729c2eb97dc4478b00f798d549c78df (Caused by ConnectTimeoutError(<urllib3.contrib.socks.SOCKSHTTPSConnection object at 0x0000020B202E8D68>, 'Connection to api.ipgeolocation.io timed out. (connect timeout=4)'))\n",
      "4.005075931549072  --  台湾GCE - 扣双倍流量 / 非原生IP / 电信联通适用 (tw-gce.osoblanco.xyz:4936)\n",
      "11 => 3.289508581161499  --  113.75.31.236 China Guangzhou Asia/Shanghai   ---   国内节点 - 网易云音乐 / 哔哩哔哩 / 优酷\n",
      "12 => server failed SOCKSHTTPSConnectionPool(host='api.ipgeolocation.io', port=443): Max retries exceeded with url: /ipgeo?apiKey=8729c2eb97dc4478b00f798d549c78df (Caused by ConnectTimeoutError(<urllib3.contrib.socks.SOCKSHTTPSConnection object at 0x0000020B20315080>, 'Connection to api.ipgeolocation.io timed out. (connect timeout=4)'))\n",
      "4.01505708694458  --  香港-游戏专用 - 扣5倍流量 / 限速2Mbps (hk-gaming.osoblanco.xyz:4936)\n",
      "13 => 1.4399313926696777  --  92.223.72.133 Russia Khabarovsk Asia/Vladivostok   ---   俄罗斯KHB-A - 适合电信联通\n",
      "14 => 1.439427375793457  --  161.117.0.249 Singapore Singapore Asia/Singapore   ---   新加坡CN2-B - 三网适用\n",
      "15 => server failed SOCKSHTTPSConnectionPool(host='api.ipgeolocation.io', port=443): Max retries exceeded with url: /ipgeo?apiKey=8729c2eb97dc4478b00f798d549c78df (Caused by ConnectTimeoutError(<urllib3.contrib.socks.SOCKSHTTPSConnection object at 0x0000020B20315D68>, 'Connection to api.ipgeolocation.io timed out. (connect timeout=4)'))\n",
      "4.015726804733276  --  日本Vultr - 无限流量 / 三网适用 (jp-vultr.osoblanco.xyz:4936)\n",
      "16 => server failed SOCKSHTTPSConnectionPool(host='api.ipgeolocation.io', port=443): Max retries exceeded with url: /ipgeo?apiKey=8729c2eb97dc4478b00f798d549c78df (Caused by ConnectTimeoutError(<urllib3.contrib.socks.SOCKSHTTPSConnection object at 0x0000020B202CACF8>, 'Connection to api.ipgeolocation.io timed out. (connect timeout=4)'))\n",
      "4.007016181945801  --  美国CN2-A - 可看Netflix / 三网适用 (us-cn2.osoblanco.xyz:4936)\n",
      "17 => server failed SOCKSHTTPSConnectionPool(host='api.ipgeolocation.io', port=443): Max retries exceeded with url: /ipgeo?apiKey=8729c2eb97dc4478b00f798d549c78df (Caused by ConnectTimeoutError(<urllib3.contrib.socks.SOCKSHTTPSConnection object at 0x0000020B202E62B0>, 'Connection to api.ipgeolocation.io timed out. (connect timeout=4)'))\n",
      "4.006750106811523  --  香港CN2-A - 三网适用 (hk-cn2-a.osoblanco.xyz:4936)\n",
      "18 => 2.4803457260131836  --  103.219.195.39 United States Los Angeles America/Los_Angeles   ---   美国CN2-C - 三网适用 / 可看Netflix\n",
      "19 => server failed SOCKSHTTPSConnectionPool(host='api.ipgeolocation.io', port=443): Max retries exceeded with url: /ipgeo?apiKey=8729c2eb97dc4478b00f798d549c78df (Caused by ConnectTimeoutError(<urllib3.contrib.socks.SOCKSHTTPSConnection object at 0x0000020B202CA828>, 'Connection to api.ipgeolocation.io timed out. (connect timeout=4)'))\n",
      "4.016169309616089  --  新加坡CN2-A - 三网适用 (sg-cn2-a.osoblanco.xyz:4936)\n",
      "20 => 1.421741247177124  --  92.223.72.66 Russia Khabarovsk Asia/Vladivostok   ---   俄罗斯KHB-B - 适合电信联通\n",
      "21 => 1.3728652000427246  --  218.255.125.239 Hong Kong Kwun Tong Asia/Hong_Kong   ---   香港WTT - 可看Netflix TVB / 三网适用\n"
     ]
    },
    {
     "data": {
      "text/plain": [
       "{'台湾GCE - 扣双倍流量 / 非原生IP / 电信联通适用 (tw-gce.osoblanco.xyz:4936)',\n",
       " '新加坡CN2-A - 三网适用 (sg-cn2-a.osoblanco.xyz:4936)',\n",
       " '日本IIJ - 三网适用 (jp-iij.osoblanco.xyz:4936)',\n",
       " '日本Vultr - 无限流量 / 三网适用 (jp-vultr.osoblanco.xyz:4936)',\n",
       " '美国CN2-A - 可看Netflix / 三网适用 (us-cn2.osoblanco.xyz:4936)',\n",
       " '香港-游戏专用 - 扣5倍流量 / 限速2Mbps (hk-gaming.osoblanco.xyz:4936)',\n",
       " '香港CN2-A - 三网适用 (hk-cn2-a.osoblanco.xyz:4936)',\n",
       " '香港CN2-B - 三网适用 (hk-cn2-b.osoblanco.xyz:4936)'}"
      ]
     },
     "execution_count": 13,
     "metadata": {},
     "output_type": "execute_result"
    }
   ],
   "source": [
    "for i in range(22):\n",
    "    print(i, end=' => ')\n",
    "    ssr.is_current_server_on()\n",
    "    ssr.switch_to_next_server()\n",
    "    time.sleep(1)\n",
    "ssr.failed_servers"
   ]
  },
  {
   "cell_type": "code",
   "execution_count": null,
   "metadata": {},
   "outputs": [],
   "source": []
  },
  {
   "cell_type": "code",
   "execution_count": null,
   "metadata": {},
   "outputs": [],
   "source": []
  },
  {
   "cell_type": "code",
   "execution_count": null,
   "metadata": {},
   "outputs": [],
   "source": []
  },
  {
   "cell_type": "code",
   "execution_count": null,
   "metadata": {},
   "outputs": [],
   "source": []
  },
  {
   "cell_type": "code",
   "execution_count": null,
   "metadata": {},
   "outputs": [],
   "source": []
  },
  {
   "cell_type": "code",
   "execution_count": null,
   "metadata": {},
   "outputs": [],
   "source": []
  },
  {
   "cell_type": "code",
   "execution_count": null,
   "metadata": {},
   "outputs": [],
   "source": []
  },
  {
   "cell_type": "code",
   "execution_count": null,
   "metadata": {},
   "outputs": [],
   "source": []
  },
  {
   "cell_type": "code",
   "execution_count": null,
   "metadata": {},
   "outputs": [],
   "source": []
  },
  {
   "cell_type": "code",
   "execution_count": null,
   "metadata": {
    "scrolled": false
   },
   "outputs": [],
   "source": []
  },
  {
   "cell_type": "code",
   "execution_count": null,
   "metadata": {},
   "outputs": [],
   "source": []
  },
  {
   "cell_type": "code",
   "execution_count": null,
   "metadata": {},
   "outputs": [],
   "source": [
    "\n"
   ]
  },
  {
   "cell_type": "code",
   "execution_count": null,
   "metadata": {},
   "outputs": [],
   "source": []
  },
  {
   "cell_type": "code",
   "execution_count": null,
   "metadata": {},
   "outputs": [],
   "source": []
  }
 ],
 "metadata": {
  "kernelspec": {
   "display_name": "Python 3",
   "language": "python",
   "name": "python3"
  },
  "language_info": {
   "codemirror_mode": {
    "name": "ipython",
    "version": 3
   },
   "file_extension": ".py",
   "mimetype": "text/x-python",
   "name": "python",
   "nbconvert_exporter": "python",
   "pygments_lexer": "ipython3",
   "version": "3.6.5"
  }
 },
 "nbformat": 4,
 "nbformat_minor": 2
}
