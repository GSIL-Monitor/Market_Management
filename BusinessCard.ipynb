{
 "cells": [
  {
   "cell_type": "code",
   "execution_count": 7,
   "metadata": {},
   "outputs": [],
   "source": [
    "# from libs.alibaba.visitor import Visitor\n",
    "from libs.alibaba.alibaba import Alibaba\n",
    "\n",
    "from libs.json import JSON\n",
    "from openpyxl import load_workbook\n",
    "\n",
    "from selenium.webdriver.common.keys import Keys\n",
    "from selenium.webdriver.common.action_chains import ActionChains\n",
    "from selenium import webdriver\n",
    "from selenium.webdriver.common.by import By\n",
    "from selenium.webdriver.support.ui import WebDriverWait\n",
    "from selenium.webdriver.support import expected_conditions as EC\n",
    "from selenium.common.exceptions import WebDriverException\n",
    "from selenium.common.exceptions import NoSuchElementException\n",
    "from selenium.common.exceptions import TimeoutException\n",
    "from selenium.common.exceptions import StaleElementReferenceException\n",
    "from selenium.webdriver.support.select import Select\n",
    "from bs4 import BeautifulSoup\n",
    "from pyquery import PyQuery as pq\n",
    "from libs.CeleryTasks import tasks\n",
    "import html\n",
    "import time\n",
    "import re\n",
    "import os\n",
    "import traceback\n",
    "import types\n",
    "import pendulum"
   ]
  },
  {
   "cell_type": "code",
   "execution_count": null,
   "metadata": {},
   "outputs": [],
   "source": []
  },
  {
   "cell_type": "code",
   "execution_count": null,
   "metadata": {},
   "outputs": [],
   "source": []
  },
  {
   "cell_type": "code",
   "execution_count": 3,
   "metadata": {},
   "outputs": [],
   "source": [
    "class BusinessCard:\n",
    "    api = 'https://profile.alibaba.com/receive_list.htm'\n",
    "    browser = None\n",
    "    \n",
    "    def __init__(self, market, account=None, headless=True, browser=None):\n",
    "        self.market = market\n",
    "        self.account = account\n",
    "        self.lid = account['lid'] if account else market['lid']\n",
    "        self.lpwd = account['lpwd'] if account else market['lpwd']\n",
    "        self.lname = account['lname'] if account else market['lname']\n",
    "        self.mobile = account['mobile'] if account else market['mobile']\n",
    "\n",
    "        self.account = {}\n",
    "        self.account['lid'] = self.lid\n",
    "        self.account['lpwd'] = self.lpwd\n",
    "        self.account['lname'] = self.lname\n",
    "        self.account['mobile'] = self.mobile\n",
    "\n",
    "        self.confi_dir = market['directory'] + '_config'\n",
    "\n",
    "        self.alibaba = None\n",
    "        self.browser = browser\n",
    "        self.headless = headless\n",
    "\n",
    "        self.mail_message = \"Hi,\\\\nNice Day. This is Ada.\\\\nThanks for your visit to our products.\\\\nWould you pls tell us your WhatsApp number? I would like to send our product catalog and price list to you. Thanks\\\\nMy WhatsApp  is +8618563918130.\\\\n\\\\nRegards\\\\nAda\"\n",
    "\n",
    "    def load_url(self):\n",
    "        while True:\n",
    "            try:\n",
    "                if self.alibaba is None:\n",
    "                    alibaba = Alibaba(self.lid, self.lpwd, headless=self.headless, browser=self.browser)\n",
    "                    alibaba.login()\n",
    "                    if self.browser is None:\n",
    "                        self.browser = alibaba.browser\n",
    "                    self.alibaba = alibaba\n",
    "\n",
    "                self.browser.get(self.api)\n",
    "                if 'login.alibaba.com' in self.browser.current_url:\n",
    "                    self.alibaba.login()\n",
    "                    self.browser.get(self.api)\n",
    "\n",
    "                WebDriverWait(self.browser, 15).until(\n",
    "                    EC.invisibility_of_element_located((By.CSS_SELECTOR, 'div.bp-loading-panel')))\n",
    "\n",
    "                # try to close all follow-me-popups\n",
    "                while True:\n",
    "                    btn_close = self.browser.find_elements_by_css_selector('div.follow-me-close')\n",
    "                    if btn_close:\n",
    "                        webdriver.ActionChains(self.browser).send_keys(Keys.ESCAPE).perform()\n",
    "                        # wait 1 second to see if new popup commes\n",
    "                        self.browser.implicitly_wait(1)\n",
    "                        continue\n",
    "                    else:\n",
    "                        break\n",
    "                break\n",
    "            except WebDriverException as e:\n",
    "                if 'chrome not reachable' in str(e):\n",
    "                    print(str(e))\n",
    "                    self.browser = None\n",
    "                continue"
   ]
  },
  {
   "cell_type": "code",
   "execution_count": 8,
   "metadata": {},
   "outputs": [
    {
     "name": "stdout",
     "output_type": "stream",
     "text": [
      ". storage markets.json\n",
      ".\\storage\\markets.json was deserialized!\n"
     ]
    }
   ],
   "source": [
    "market = JSON.deserialize('.', 'storage', 'markets.json')['Eyelashes']\n",
    "bc = BusinessCard(market, headless=False)"
   ]
  },
  {
   "cell_type": "code",
   "execution_count": 11,
   "metadata": {},
   "outputs": [
    {
     "name": "stdout",
     "output_type": "stream",
     "text": [
      "primary 打开网址：https://i.alibaba.com\n",
      "primary 等待登陆页面加载 ... ...\n",
      "primary 输入登录信息， 并登录\n",
      "success 成功 登录 阿里巴巴 国际站！用户名：Jeremy\n"
     ]
    }
   ],
   "source": [
    "bc.load_url()"
   ]
  },
  {
   "cell_type": "code",
   "execution_count": 49,
   "metadata": {},
   "outputs": [],
   "source": [
    "def update(self):\n",
    "    self.load_url()\n",
    "    \n",
    "    while True:\n",
    "        div_card_list = self.browser.find_element_by_css_selector('div#J-card-list')\n",
    "        btn_next = div_card_list.find_element_by_css_selector('div.J-list-pagination a.next, div.J-list-pagination span.next')\n",
    "        \n",
    "        lis = div_card_list.find_elements_by_css_selector('div.list-body li.list-item')\n",
    "        for li in lis:\n",
    "            card = {}\n",
    "            _li = pq(li.get_attribute('outerHTML'))\n",
    "            \n",
    "            card['img'] = _li.find('div.avatar a.imgbox img').attr('src')\n",
    "            card['href'] = _li.find('div.avatar a.imgbox').attr('href')\n",
    "            \n",
    "            card['name'] = _li.find('div.desc a.name').text()\n",
    "            card['title'] = _li.find('div.desc div.title').text()\n",
    "            card['email'] = _li.find('div.desc div.email').attr('title')\n",
    "            card['company'] = _li.find('div.desc a.company').attr('title')\n",
    "            card['company_href'] = _li.find('div.desc a.company').attr('href')\n",
    "            card['identity'] = _li.find('div.bi-icon a.scc-business-identity').attr('data-status')\n",
    "            card['country_code'] = _li.find('div.bi-icon span.country-name').text()\n",
    "            card['country_name'] = _li.find('div.bi-icon span.country-name').parent().attr('data-country')\n",
    "            card['country_icon'] = _li.find('div.bi-icon i.country-ico img').attr('src')\n",
    "            card_type = _li.find('div.bi-icon span.type')\n",
    "            if card_type:\n",
    "                card['type'] = card_type.attr('title')\n",
    "            else:\n",
    "                card['type'] = None\n",
    "            card['time'] = _li.find('div.time').text()\n",
    "            for line in _li.find('div.card-back div.line'):\n",
    "                line = pq(line)\n",
    "                key = line.find('span.key').text()\n",
    "                val = line.find('span.val').text()\n",
    "                if 'email' in key.lower():\n",
    "                    continue\n",
    "                key = key.split(':')[0]\n",
    "                card[key] = val\n",
    "\n",
    "            btn_send_card = li.find_elements_by_css_selector('a.J-send-card')\n",
    "            if btn_send_card:\n",
    "                btn_send_card[0].click()\n",
    "                \n",
    "            print(card)\n",
    "        break\n",
    "        if 'disable' in btn_next.get_attribute('class'):\n",
    "            break\n",
    "        else:\n",
    "            btn_next.click()\n",
    "            div_loading_panel = WebDriverWait(self.browser, 15).until(\n",
    "                    EC.presence_of_element_located((By.CSS_SELECTOR, 'div.ui2-loading-panel')))\n",
    "            WebDriverWait(self.browser, 5).until(EC.staleness_of(div_loading_panel))\n",
    "bc.update = types.MethodType(update, bc)"
   ]
  },
  {
   "cell_type": "code",
   "execution_count": null,
   "metadata": {},
   "outputs": [],
   "source": []
  },
  {
   "cell_type": "code",
   "execution_count": 50,
   "metadata": {},
   "outputs": [
    {
     "name": "stdout",
     "output_type": "stream",
     "text": [
      "{'img': None, 'href': '//profile.alibaba.com/index.htm?m=B1PID1UIUecUxAsxkFF2a_NtzYz-72yqNmPRbxgPP2d-t_uXY*', 'name': 'Dmitry Ivanov', 'title': '', 'email': 'lovely-boss@mail.ru', 'company': 'No Company Name', 'company_href': 'https://ru1240163655unkq.fm.alibaba.com/company_profile.html', 'identity': 'c', 'country_code': 'RU', 'country_name': 'Russian Federation', 'country_icon': '//is.alicdn.com/simg/single/nflag/ru.gif', 'type': 'Other', 'time': 'Dec 4, 2018 \\xa0From Inquiry', 'Tel': '7-929-3690466', 'Fax': '', 'Mobile': '', 'Website': ''}\n",
      "{'img': None, 'href': '//profile.alibaba.com/index.htm?m=B1PID1IWqvqrDmQy5g24pt4P-sr5QcspmtCIFCeT78bj1_Vag*', 'name': 'Tracy Fraley', 'title': '', 'email': 'tracyfraley@hotmail.com', 'company': 'No Company Name', 'company_href': 'https://us1094064740.fm.alibaba.com/company_profile.html', 'identity': 'a', 'country_code': 'US', 'country_name': 'United States', 'country_icon': '//is.alicdn.com/simg/single/nflag/us.gif', 'type': 'Other', 'time': 'Dec 4, 2018 \\xa0From AliSource by Emily Wang', 'Tel': '1-354-74578688', 'Fax': '', 'Mobile': '', 'Website': ''}\n",
      "{'img': '//sc01.alicdn.com/kf/UTB87cqQl9bIXKJkSaefq6yasXXaN.jpg', 'href': '//profile.alibaba.com/index.htm?m=B1PID18Klw9GVkOhl7eG7JWG8zNilnl_SLlNKowJAQnqO6hcM*', 'name': 'Nakia Hannibal', 'title': '', 'email': 'nakia.hannibal1@gmail.com', 'company': '', 'company_href': 'https://us1329295139mpmx.fm.alibaba.com/company_profile.html', 'identity': 'c', 'country_code': 'US', 'country_name': 'United States', 'country_icon': '//is.alicdn.com/simg/single/nflag/us.gif', 'type': None, 'time': 'Dec 4, 2018 \\xa0From Inquiry by Ada Alva', 'Tel': '', 'Fax': '', 'Mobile': '', 'Website': ''}\n",
      "{'img': None, 'href': '//profile.alibaba.com/index.htm?m=B1PID1UK2M96yNacaocAwcJJQjTk5IguGPlhcO7UP6vZiAo80*', 'name': 'Myzandria Robinson', 'title': '', 'email': 'myzandria18@gmail.com', 'company': 'No Company Name', 'company_href': 'https://us1292720574fejj.fm.alibaba.com/company_profile.html', 'identity': 'a', 'country_code': 'US', 'country_name': 'United States', 'country_icon': '//is.alicdn.com/simg/single/nflag/us.gif', 'type': 'Other', 'time': 'Dec 4, 2018 \\xa0From Inquiry by Ada Alva', 'Tel': '', 'Fax': '', 'Mobile': '', 'Website': ''}\n",
      "{'img': None, 'href': '//profile.alibaba.com/index.htm?m=B1PID1p7-WN8qGYf_Ea_Vbl0KVvPxuw4zSP5bACDG4FzU866w*', 'name': 'Vie Vie', 'title': '', 'email': 'gjeannevie@gmail.com', 'company': 'Vie Vie', 'company_href': 'https://ph1313735451glzb.fm.alibaba.com/company_profile.html', 'identity': 'a', 'country_code': 'PH', 'country_name': 'Philippines', 'country_icon': '//is.alicdn.com/simg/single/nflag/ph.gif', 'type': None, 'time': 'Dec 3, 2018 \\xa0From Inquiry by Ada Alva', 'Tel': '', 'Fax': '', 'Mobile': '', 'Website': ''}\n",
      "{'img': None, 'href': '//profile.alibaba.com/index.htm?m=B1PID1xIbRmAOPeWQIMUg5FU6g-NILo694wIS-bN7AtExbOvg*', 'name': 'Candace Wilson', 'title': '', 'email': 'candy.land21@yahoo.com', 'company': 'Candace Wilson', 'company_href': 'https://us1091464686.fm.alibaba.com/company_profile.html', 'identity': 'c', 'country_code': 'US', 'country_name': 'United States', 'country_icon': '//is.alicdn.com/simg/single/nflag/us.gif', 'type': None, 'time': 'Dec 3, 2018 \\xa0From Inquiry by Ada Alva', 'Tel': '', 'Fax': '', 'Mobile': '', 'Website': ''}\n",
      "{'img': '//sc02.alicdn.com/kf/UTB8DA0jeFPJXKJkSahVq6xyzFXaq.jpg', 'href': '//profile.alibaba.com/index.htm?m=B1PID18e-oVCg_zXRXrOIQVzZU626Ba_6PUmI5kFmqVOiHywg*', 'name': 'Anni Tapkida', 'title': '', 'email': 'atapkida@gmail.com', 'company': 'No Company Name', 'company_href': 'https://us1080050063.fm.alibaba.com/company_profile.html', 'identity': 'a', 'country_code': 'US', 'country_name': 'United States', 'country_icon': '//is.alicdn.com/simg/single/nflag/us.gif', 'type': 'Other', 'time': 'Dec 3, 2018 \\xa0From Inquiry by Ada Alva', 'Tel': '', 'Fax': '', 'Mobile': '', 'Website': ''}\n",
      "{'img': None, 'href': '//profile.alibaba.com/index.htm?m=B1PID1OY3yRVSXqiGze6Hx6muHhNA9Z21ESNAQy6ujzVXAfy8*', 'name': 'Noona Sharm', 'title': '', 'email': 'strela5000@yahoo.com', 'company': 'Noona Sharm', 'company_href': 'https://eg1328315488zbpv.fm.alibaba.com/company_profile.html', 'identity': 'c', 'country_code': 'EG', 'country_name': 'Egypt', 'country_icon': '//is.alicdn.com/simg/single/nflag/eg.gif', 'type': None, 'time': 'Dec 3, 2018 \\xa0From Inquiry by Ada Alva', 'Tel': '', 'Fax': '', 'Mobile': '', 'Website': ''}\n",
      "{'img': None, 'href': '//profile.alibaba.com/index.htm?m=B1PID1oywp4KySGsLRji7Vh-7NLiA8cZM5kisOrfmMVebiFVg*', 'name': 'jessica Rapalo', 'title': '', 'email': 'jessicarapalo03@gmail.com', 'company': '', 'company_href': 'https://us1315044672uzop.fm.alibaba.com/company_profile.html', 'identity': 'a', 'country_code': 'US', 'country_name': 'United States', 'country_icon': '//is.alicdn.com/simg/single/nflag/us.gif', 'type': None, 'time': 'Dec 2, 2018 \\xa0From Inquiry by Ada Alva', 'Tel': '', 'Fax': '', 'Mobile': '', 'Website': ''}\n",
      "{'img': None, 'href': '//profile.alibaba.com/index.htm?m=B1PID1uD7CrFFtBfhJqXlE-xZnVjoJZk2iJv3KtQWCds5bYvU*', 'name': 'Monisha Neal', 'title': '', 'email': 'monishaneal28@gmail.com', 'company': 'Monisha Statis', 'company_href': 'https://us1321044695cjrr.fm.alibaba.com/company_profile.html', 'identity': 'a', 'country_code': 'US', 'country_name': 'United States', 'country_icon': '//is.alicdn.com/simg/single/nflag/us.gif', 'type': 'Distributor Wholesaler', 'time': 'Dec 2, 2018 \\xa0From Inquiry by Ada Alva', 'Tel': '', 'Fax': '', 'Mobile': '', 'Website': ''}\n"
     ]
    }
   ],
   "source": [
    "bc.update()"
   ]
  },
  {
   "cell_type": "code",
   "execution_count": null,
   "metadata": {
    "scrolled": false
   },
   "outputs": [],
   "source": []
  },
  {
   "cell_type": "code",
   "execution_count": null,
   "metadata": {},
   "outputs": [],
   "source": []
  },
  {
   "cell_type": "code",
   "execution_count": null,
   "metadata": {},
   "outputs": [],
   "source": []
  },
  {
   "cell_type": "code",
   "execution_count": null,
   "metadata": {},
   "outputs": [],
   "source": []
  },
  {
   "cell_type": "code",
   "execution_count": null,
   "metadata": {},
   "outputs": [],
   "source": [
    "\n",
    "            \n"
   ]
  },
  {
   "cell_type": "code",
   "execution_count": null,
   "metadata": {},
   "outputs": [],
   "source": []
  },
  {
   "cell_type": "code",
   "execution_count": null,
   "metadata": {},
   "outputs": [],
   "source": []
  },
  {
   "cell_type": "code",
   "execution_count": null,
   "metadata": {},
   "outputs": [],
   "source": []
  },
  {
   "cell_type": "code",
   "execution_count": null,
   "metadata": {},
   "outputs": [],
   "source": []
  },
  {
   "cell_type": "code",
   "execution_count": null,
   "metadata": {},
   "outputs": [],
   "source": []
  },
  {
   "cell_type": "code",
   "execution_count": null,
   "metadata": {},
   "outputs": [],
   "source": []
  },
  {
   "cell_type": "code",
   "execution_count": null,
   "metadata": {},
   "outputs": [],
   "source": []
  },
  {
   "cell_type": "code",
   "execution_count": null,
   "metadata": {},
   "outputs": [],
   "source": []
  },
  {
   "cell_type": "code",
   "execution_count": null,
   "metadata": {},
   "outputs": [],
   "source": []
  },
  {
   "cell_type": "code",
   "execution_count": null,
   "metadata": {},
   "outputs": [],
   "source": []
  },
  {
   "cell_type": "code",
   "execution_count": null,
   "metadata": {},
   "outputs": [],
   "source": []
  },
  {
   "cell_type": "code",
   "execution_count": null,
   "metadata": {},
   "outputs": [],
   "source": []
  },
  {
   "cell_type": "code",
   "execution_count": null,
   "metadata": {},
   "outputs": [],
   "source": []
  },
  {
   "cell_type": "code",
   "execution_count": null,
   "metadata": {},
   "outputs": [],
   "source": []
  },
  {
   "cell_type": "code",
   "execution_count": null,
   "metadata": {},
   "outputs": [],
   "source": []
  },
  {
   "cell_type": "code",
   "execution_count": null,
   "metadata": {},
   "outputs": [],
   "source": []
  },
  {
   "cell_type": "code",
   "execution_count": null,
   "metadata": {},
   "outputs": [],
   "source": []
  },
  {
   "cell_type": "code",
   "execution_count": null,
   "metadata": {},
   "outputs": [],
   "source": []
  },
  {
   "cell_type": "code",
   "execution_count": null,
   "metadata": {},
   "outputs": [],
   "source": []
  },
  {
   "cell_type": "code",
   "execution_count": null,
   "metadata": {},
   "outputs": [],
   "source": []
  },
  {
   "cell_type": "code",
   "execution_count": null,
   "metadata": {},
   "outputs": [],
   "source": []
  },
  {
   "cell_type": "code",
   "execution_count": null,
   "metadata": {},
   "outputs": [],
   "source": []
  },
  {
   "cell_type": "code",
   "execution_count": null,
   "metadata": {},
   "outputs": [],
   "source": []
  },
  {
   "cell_type": "code",
   "execution_count": null,
   "metadata": {},
   "outputs": [],
   "source": []
  },
  {
   "cell_type": "code",
   "execution_count": null,
   "metadata": {},
   "outputs": [],
   "source": []
  },
  {
   "cell_type": "code",
   "execution_count": null,
   "metadata": {},
   "outputs": [],
   "source": []
  },
  {
   "cell_type": "code",
   "execution_count": null,
   "metadata": {},
   "outputs": [],
   "source": []
  },
  {
   "cell_type": "code",
   "execution_count": null,
   "metadata": {},
   "outputs": [],
   "source": []
  },
  {
   "cell_type": "code",
   "execution_count": null,
   "metadata": {},
   "outputs": [],
   "source": []
  },
  {
   "cell_type": "code",
   "execution_count": null,
   "metadata": {},
   "outputs": [],
   "source": []
  },
  {
   "cell_type": "code",
   "execution_count": null,
   "metadata": {},
   "outputs": [],
   "source": []
  },
  {
   "cell_type": "code",
   "execution_count": null,
   "metadata": {},
   "outputs": [],
   "source": []
  },
  {
   "cell_type": "code",
   "execution_count": null,
   "metadata": {},
   "outputs": [],
   "source": []
  },
  {
   "cell_type": "code",
   "execution_count": null,
   "metadata": {},
   "outputs": [],
   "source": []
  },
  {
   "cell_type": "code",
   "execution_count": null,
   "metadata": {},
   "outputs": [],
   "source": []
  }
 ],
 "metadata": {
  "kernelspec": {
   "display_name": "Python 3",
   "language": "python",
   "name": "python3"
  },
  "language_info": {
   "codemirror_mode": {
    "name": "ipython",
    "version": 3
   },
   "file_extension": ".py",
   "mimetype": "text/x-python",
   "name": "python",
   "nbconvert_exporter": "python",
   "pygments_lexer": "ipython3",
   "version": "3.6.6"
  }
 },
 "nbformat": 4,
 "nbformat_minor": 2
}
