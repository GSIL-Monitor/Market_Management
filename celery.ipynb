{
 "cells": [
  {
   "cell_type": "code",
   "execution_count": 5,
   "metadata": {},
   "outputs": [],
   "source": [
    "import os\n",
    "from libs.CeleryTasks import tasks\n",
    "from libs.json import JSON"
   ]
  },
  {
   "cell_type": "code",
   "execution_count": 7,
   "metadata": {},
   "outputs": [],
   "source": [
    "import time"
   ]
  },
  {
   "cell_type": "code",
   "execution_count": 2,
   "metadata": {},
   "outputs": [],
   "source": [
    "group = '关注词'\n",
    "result = tasks.p4p_record.apply_async(kwargs={'group': group}, queue='celery')"
   ]
  },
  {
   "cell_type": "code",
   "execution_count": 2,
   "metadata": {},
   "outputs": [],
   "source": [
    "result = tasks.osoeco_checkin.apply_async(queue='celery')"
   ]
  },
  {
   "cell_type": "code",
   "execution_count": 11,
   "metadata": {},
   "outputs": [
    {
     "data": {
      "text/plain": [
       "True"
      ]
     },
     "execution_count": 11,
     "metadata": {},
     "output_type": "execute_result"
    }
   ],
   "source": [
    "result.ready()"
   ]
  },
  {
   "cell_type": "code",
   "execution_count": 22,
   "metadata": {},
   "outputs": [],
   "source": [
    "result.get(timeout=1)"
   ]
  },
  {
   "cell_type": "code",
   "execution_count": 5,
   "metadata": {},
   "outputs": [
    {
     "name": "stdout",
     "output_type": "stream",
     "text": [
      ". storage markets.json\n",
      ".\\storage\\markets.json was deserialized!\n",
      ". storage markets.json\n",
      ".\\storage\\markets.json was deserialized!\n"
     ]
    }
   ],
   "source": [
    "market_eyelash = JSON.deserialize('.', 'storage', 'markets.json')['Eyelashes']\n",
    "market_tools = JSON.deserialize('.', 'storage', 'markets.json')['Tools']"
   ]
  },
  {
   "cell_type": "code",
   "execution_count": null,
   "metadata": {},
   "outputs": [],
   "source": [
    "result = tasks.init.delay(market_eyelash)"
   ]
  },
  {
   "cell_type": "code",
   "execution_count": null,
   "metadata": {},
   "outputs": [],
   "source": [
    "result.ready()"
   ]
  },
  {
   "cell_type": "code",
   "execution_count": null,
   "metadata": {},
   "outputs": [],
   "source": [
    "result.get(timeout=1)"
   ]
  },
  {
   "cell_type": "code",
   "execution_count": null,
   "metadata": {},
   "outputs": [],
   "source": [
    "result.get(timeout=1)"
   ]
  },
  {
   "cell_type": "code",
   "execution_count": null,
   "metadata": {},
   "outputs": [],
   "source": [
    "result"
   ]
  },
  {
   "cell_type": "code",
   "execution_count": null,
   "metadata": {},
   "outputs": [],
   "source": [
    "os.getpid()"
   ]
  },
  {
   "cell_type": "code",
   "execution_count": 3,
   "metadata": {},
   "outputs": [],
   "source": [
    "group = '直通车App'"
   ]
  },
  {
   "cell_type": "code",
   "execution_count": 5,
   "metadata": {},
   "outputs": [],
   "source": [
    "result = tasks.p4p_check.apply_async(kwargs={'group': group}, queue='Eyelashes_p4p')\n",
    "result = tasks.p4p_check.apply_async(kwargs={'group': '0直通车'}, queue='Tools_p4p')"
   ]
  },
  {
   "cell_type": "code",
   "execution_count": 6,
   "metadata": {},
   "outputs": [],
   "source": [
    "result = tasks.p4p_turn_all_off.apply_async(kwargs={'group': group}, queue='Eyelashes_p4p')\n",
    "result = tasks.p4p_turn_all_off.apply_async(kwargs={'group': '0直通车'}, queue='Tools_p4p')"
   ]
  },
  {
   "cell_type": "code",
   "execution_count": null,
   "metadata": {},
   "outputs": [],
   "source": [
    "result.ready()"
   ]
  },
  {
   "cell_type": "code",
   "execution_count": null,
   "metadata": {},
   "outputs": [],
   "source": [
    "result.get()"
   ]
  },
  {
   "cell_type": "code",
   "execution_count": null,
   "metadata": {},
   "outputs": [],
   "source": [
    "result = tasks.inquiry_check.apply_async(queue='Eyelashes_inquiry')"
   ]
  },
  {
   "cell_type": "code",
   "execution_count": null,
   "metadata": {},
   "outputs": [],
   "source": []
  },
  {
   "cell_type": "code",
   "execution_count": null,
   "metadata": {},
   "outputs": [],
   "source": [
    "result = tasks.p4p_info.apply_async(queue='Eyelashes_p4p')"
   ]
  },
  {
   "cell_type": "code",
   "execution_count": null,
   "metadata": {},
   "outputs": [],
   "source": [
    "result.ready()"
   ]
  },
  {
   "cell_type": "code",
   "execution_count": null,
   "metadata": {},
   "outputs": [],
   "source": [
    "result.get()"
   ]
  },
  {
   "cell_type": "code",
   "execution_count": null,
   "metadata": {},
   "outputs": [],
   "source": []
  },
  {
   "cell_type": "code",
   "execution_count": null,
   "metadata": {},
   "outputs": [],
   "source": [
    "from celery.schedules import crontab\n",
    "from celery import Celery"
   ]
  },
  {
   "cell_type": "code",
   "execution_count": null,
   "metadata": {},
   "outputs": [],
   "source": []
  },
  {
   "cell_type": "code",
   "execution_count": null,
   "metadata": {},
   "outputs": [],
   "source": []
  },
  {
   "cell_type": "code",
   "execution_count": null,
   "metadata": {},
   "outputs": [],
   "source": [
    "app = Celery('scheduler')\n",
    "app.config_from_object('celeryconfig')\n",
    "app.conf.beat_schedule = {\n",
    "    'Eyelashes_p4p_info': {\n",
    "    'task': 'tasks.p4p_info',\n",
    "    'schedule': crontab(minute='*'),\n",
    "#     'kwargs': {'group': '0直通车'},\n",
    "    'options': {'queue': 'Eyelashes_p4p'}\n",
    "    }\n",
    "}"
   ]
  },
  {
   "cell_type": "code",
   "execution_count": null,
   "metadata": {},
   "outputs": [],
   "source": []
  },
  {
   "cell_type": "code",
   "execution_count": 14,
   "metadata": {},
   "outputs": [],
   "source": [
    "result = tasks.crawl_product_ranking.apply_async(kwargs={'keyword': 'mink eyelash', 'pages': 5}, queue='products_ranking')"
   ]
  },
  {
   "cell_type": "code",
   "execution_count": 16,
   "metadata": {},
   "outputs": [
    {
     "data": {
      "text/plain": [
       "True"
      ]
     },
     "execution_count": 16,
     "metadata": {},
     "output_type": "execute_result"
    }
   ],
   "source": [
    "result.ready()"
   ]
  },
  {
   "cell_type": "code",
   "execution_count": 17,
   "metadata": {},
   "outputs": [],
   "source": [
    "records = result.get()"
   ]
  },
  {
   "cell_type": "code",
   "execution_count": 18,
   "metadata": {},
   "outputs": [
    {
     "data": {
      "text/plain": [
       "2"
      ]
     },
     "execution_count": 18,
     "metadata": {},
     "output_type": "execute_result"
    }
   ],
   "source": [
    "len(records)"
   ]
  },
  {
   "cell_type": "code",
   "execution_count": 19,
   "metadata": {},
   "outputs": [
    {
     "name": "stdout",
     "output_type": "stream",
     "text": [
      "2018-10-21 23:01:11 180\n"
     ]
    },
    {
     "data": {
      "text/plain": [
       "{'location': {'page': 2, 'position': 1},\n",
       " 'is_top_sponsor': False,\n",
       " 'is_sponsor': False,\n",
       " 'product': {'id': '60803158879',\n",
       "  'title': '5D mink eyelash high quality mink eyelashes',\n",
       "  'href': '//www.alibaba.com/product-detail/5D-mink-eyelash-high-quality-mink_60803158879.html',\n",
       "  'img': '//sc01.alicdn.com/kf/HTB1YreEXhrvK1RjSszeq6yObFXaX/5D-mink-eyelash-high-quality-mink-eyelashes.jpg_300x300.jpg'},\n",
       " 'company': {'name': 'Qingdao Goodyard International E-Commerce Co., Ltd.',\n",
       "  'href': '//goodyardeyelash.en.alibaba.com/company_profile.html#top-nav-bar',\n",
       "  'years': '1',\n",
       "  'transaction': {'counts': '', 'volume': '', 'level': 3.0},\n",
       "  'response_rate': '98.7%'}}"
      ]
     },
     "execution_count": 19,
     "metadata": {},
     "output_type": "execute_result"
    }
   ],
   "source": [
    "print(records['datetime'], len(records['records']))\n",
    "records['records'][36]"
   ]
  },
  {
   "cell_type": "code",
   "execution_count": null,
   "metadata": {},
   "outputs": [],
   "source": []
  },
  {
   "cell_type": "code",
   "execution_count": null,
   "metadata": {},
   "outputs": [],
   "source": [
    "result = tasks.crawl_product_ranking.apply_async(kwargs={'keyword': 'mink eyelash', 'pages': 5}, queue='products_ranking')\n"
   ]
  },
  {
   "cell_type": "code",
   "execution_count": 14,
   "metadata": {},
   "outputs": [],
   "source": [
    "def crawl_products_rankings(kws, max_processes=3):\n",
    "    processes_count = 0\n",
    "    results = {}\n",
    "    idx_kws = -1\n",
    "    while True:\n",
    "        while processes_count < max_processes and (idx_kws+1) < len(kws):\n",
    "            idx_kws +=1\n",
    "            kw = kws[idx_kws]\n",
    "            kwargs={'keyword': kw, 'pages': 5}\n",
    "            result = tasks.crawl_product_ranking.apply_async(kwargs=kwargs, queue='products_ranking')\n",
    "            results[kw] = result\n",
    "            processes_count += 1\n",
    "            \n",
    "            print(kw, end=',')\n",
    "\n",
    "        print()\n",
    "        print('--------------')\n",
    "\n",
    "        if processes_count == 0:\n",
    "            break\n",
    "\n",
    "        records = []\n",
    "        finished_kws = []\n",
    "        while True:\n",
    "            for kw in results:\n",
    "                result = results[kw]\n",
    "                if result.ready():\n",
    "                    record = result.get()\n",
    "                    record['keyword'] = kw\n",
    "                    records.append(record)\n",
    "                    finished_kws.append(kw)\n",
    "                    processes_count -= 1\n",
    "                    \n",
    "            for kw in finished_kws:\n",
    "                results.pop(kw)\n",
    "            if records:\n",
    "                print('finished:', len(records), finished_kws)\n",
    "                break\n",
    "            else:\n",
    "                time.sleep(1)"
   ]
  },
  {
   "cell_type": "code",
   "execution_count": 15,
   "metadata": {},
   "outputs": [
    {
     "name": "stdout",
     "output_type": "stream",
     "text": [
      "eyelash,lash,mink eyelash,\n",
      "--------------\n",
      "finished: 1 ['lash']\n",
      "wholesale eyelash,\n",
      "--------------\n",
      "finished: 2 ['eyelash', 'mink eyelash']\n",
      "eyelash vendor,\n",
      "--------------\n",
      "finished: 1 ['eyelash vendor']\n",
      "\n",
      "--------------\n",
      "finished: 1 ['wholesale eyelash']\n",
      "\n",
      "--------------\n"
     ]
    }
   ],
   "source": [
    "kws = ['eyelash', 'lash', 'mink eyelash', 'wholesale eyelash', 'eyelash vendor']\n",
    "crawl_products_rankings(kws)"
   ]
  },
  {
   "cell_type": "code",
   "execution_count": null,
   "metadata": {},
   "outputs": [],
   "source": []
  }
 ],
 "metadata": {
  "kernelspec": {
   "display_name": "Python 3",
   "language": "python",
   "name": "python3"
  },
  "language_info": {
   "codemirror_mode": {
    "name": "ipython",
    "version": 3
   },
   "file_extension": ".py",
   "mimetype": "text/x-python",
   "name": "python",
   "nbconvert_exporter": "python",
   "pygments_lexer": "ipython3",
   "version": "3.6.6"
  }
 },
 "nbformat": 4,
 "nbformat_minor": 2
}
