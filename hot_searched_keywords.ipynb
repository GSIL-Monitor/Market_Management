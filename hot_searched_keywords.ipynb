{
 "cells": [
  {
   "cell_type": "code",
   "execution_count": 32,
   "metadata": {},
   "outputs": [],
   "source": [
    "from libs.alibaba.alibaba import Alibaba\n",
    "\n",
    "from libs.json import JSON\n",
    "from openpyxl import load_workbook\n",
    "\n",
    "from selenium.webdriver.common.keys import Keys\n",
    "from selenium.webdriver.common.action_chains import ActionChains\n",
    "from selenium import webdriver\n",
    "from selenium.webdriver.common.by import By\n",
    "from selenium.webdriver.support.ui import WebDriverWait\n",
    "from selenium.webdriver.support import expected_conditions as EC\n",
    "from selenium.common.exceptions import WebDriverException\n",
    "from selenium.common.exceptions import NoSuchElementException\n",
    "from selenium.common.exceptions import TimeoutException\n",
    "from selenium.common.exceptions import StaleElementReferenceException\n",
    "from selenium.webdriver.support.select import Select\n",
    "from bs4 import BeautifulSoup\n",
    "from pyquery import PyQuery as pq\n",
    "from libs.CeleryTasks import tasks\n",
    "import html\n",
    "import time\n",
    "import re\n",
    "import os\n",
    "import traceback\n",
    "import types\n",
    "import pendulum"
   ]
  },
  {
   "cell_type": "code",
   "execution_count": 13,
   "metadata": {},
   "outputs": [
    {
     "name": "stdout",
     "output_type": "stream",
     "text": [
      ". storage markets.json\n",
      ".\\storage\\markets.json was deserialized!\n"
     ]
    }
   ],
   "source": [
    "market = JSON.deserialize('.', 'storage', 'markets.json')['Eyelashes']"
   ]
  },
  {
   "cell_type": "code",
   "execution_count": 42,
   "metadata": {},
   "outputs": [],
   "source": [
    "class Hot_Searched_Keywords:\n",
    "    api = 'https://hz-mydata.alibaba.com/industry/keywords.htm'\n",
    "    browser = None\n",
    "    \n",
    "    def __init__(self, market, headless=True, browser=None):\n",
    "        self.market = market\n",
    "        self.lid = market['lid']\n",
    "        self.lpwd = market['lpwd']\n",
    "\n",
    "        self.alibaba = None\n",
    "        self.browser = browser\n",
    "        self.headless = headless\n",
    "        \n",
    "    def login(self):\n",
    "        self.alibaba = Alibaba(self.lid, self.lpwd, headless=self.headless, browser=self.browser)\n",
    "        self.alibaba.login()\n",
    "        self.browser = self.alibaba.browser\n",
    "        \n",
    "    def switch_to_keyword(self, keyword):\n",
    "        input_keyword = self.browser.find_element_by_css_selector('#J-search-keywords')\n",
    "        input_keyword.send_keys(Keys.CONTROL, 'a')\n",
    "        input_keyword.send_keys(keyword)\n",
    "        input_keyword.send_keys(Keys.RETURN)\n",
    "        \n",
    "    def crawl_current_page_keywords(self, keywords):\n",
    "    #     WebDriverWait(self.browser, 15).until(\n",
    "    #         EC.visibility_of_element_located((By.CSS_SELECTOR, \"#J-tip-loading\")))\n",
    "\n",
    "        WebDriverWait(self.browser, 15).until(\n",
    "            EC.invisibility_of_element_located((By.CSS_SELECTOR, '#J-tip-loading')))\n",
    "        time.sleep(0.5)\n",
    "\n",
    "\n",
    "        table = self.browser.find_element_by_css_selector('#J-keywords-table')\n",
    "\n",
    "        html = pq(table.get_attribute('innerHTML'))\n",
    "        trs = html.find('tr.J-keyword-line')\n",
    "    #         trs = self.browser.find_elements_by_css_selector('#J-keywords-content > tr')\n",
    "        for idx, tr in enumerate(trs):\n",
    "            tr = pq(tr)\n",
    "            item = {}\n",
    "            td = tr.find('td.column-keyword')\n",
    "            key = td.text().strip()\n",
    "            kw = re.sub('eyelashes', 'eyelash', key)\n",
    "            kw = re.sub('lashes', 'lash', kw)\n",
    "            kw = re.sub('extensions', 'extension', kw)\n",
    "            kw = re.sub('strips', 'strip', kw)\n",
    "            kw = re.sub('boxes', 'box', kw)\n",
    "            kw = re.sub('tweezers', 'tweezer', kw)\n",
    "            kw = re.sub('samples', 'sample', kw)\n",
    "            kw = re.sub('suppliers', 'supplier', kw)\n",
    "            kw = re.sub('distributors', 'distributor', kw)\n",
    "            kw = re.sub('brands', 'brand', kw)\n",
    "            kw = re.sub('fans', 'fan', kw)\n",
    "            kw = re.sub('clusters', 'cluster', kw)\n",
    "            kw = re.sub('i beauty', 'i-beauty', kw)\n",
    "\n",
    "            item['keyword'] = kw\n",
    "            td = td.next()\n",
    "            item['supplier_competition'] = int(td.text().strip())\n",
    "            td = td.next()\n",
    "            item['showroom_count'] = int(td.text().strip())\n",
    "            td = td.next()\n",
    "            item['search_frequency'] = int(td.text().strip())\n",
    "\n",
    "            td = td.next()\n",
    "            item['search_frequency_history'] = [ int(x) for x in td.text().split('\\n')]\n",
    "\n",
    "            if key not in keywords:\n",
    "                keywords[key] = item\n",
    "                \n",
    "    def next_page(self):\n",
    "        next_btn = self.browser.find_elements_by_css_selector('#J-pagination .ui-pagination-active + a')\n",
    "        if next_btn:\n",
    "            next_btn[0].click()\n",
    "            return True\n",
    "        else:\n",
    "            return False\n",
    "\n",
    "    def crawl_keywords(self, base_keywords):\n",
    "        results = {}\n",
    "        for keyword in base_keywords:\n",
    "            print(keyword, end=\",\")\n",
    "            hskws.switch_to_keyword(keyword)\n",
    "            while True:\n",
    "                hskws.crawl_current_page_keywords(results)\n",
    "                if not hskws.next_page():\n",
    "                    break\n",
    "        \n",
    "        kws = {}\n",
    "        for key in results:\n",
    "            kw = hotSearchedKeywords[key]['keyword']\n",
    "            if kw in kws:\n",
    "                print(kws[kw])\n",
    "                print(hotSearchedKeywords[key], key)\n",
    "                kws[kw]['supplier_competition'] += hotSearchedKeywords[key]['supplier_competition']\n",
    "                kws[kw]['showroom_count'] += hotSearchedKeywords[key]['showroom_count']\n",
    "                kws[kw]['search_frequency'] += hotSearchedKeywords[key]['search_frequency']\n",
    "                for index, value in enumerate(hotSearchedKeywords[key]['search_frequency_history']):\n",
    "                    kws[kw]['search_frequency_history'][index] += hotSearchedKeywords[key]['search_frequency_history'][index]\n",
    "                kws[kw]['keywords'].append(key)\n",
    "                print(kws[kw])\n",
    "                print('-------------------------------')\n",
    "            else:\n",
    "                kws[kw] = hotSearchedKeywords[key]\n",
    "                kws[kw]['keywords'] = [key]\n",
    "        \n",
    "        kw_list = []\n",
    "        for kw in kws:\n",
    "            kw_list.append(kws[kw])\n",
    "            \n",
    "        sorted_kw_list = sorted(kw_list, key=lambda k: k['search_frequency'], reverse=True)\n",
    "        self.serialize(sorted_kw_list)\n",
    "        return sorted_kw_list\n",
    "    \n",
    "    def serialize(self, data):\n",
    "        files = self.market['directory']+'_config//'+'.json'\n",
    "        JSON.serialize(data, self.market['directory']+'_config', '', 'hot_searched_keywords.json')\n",
    "    \n",
    "    def deserialize(self):\n",
    "        return JSON.deserialize(self.confi_dir, '', 'hot_searched_keywords.json')"
   ]
  },
  {
   "cell_type": "code",
   "execution_count": 94,
   "metadata": {},
   "outputs": [],
   "source": []
  },
  {
   "cell_type": "code",
   "execution_count": 135,
   "metadata": {},
   "outputs": [],
   "source": [
    "hskws.crawl_current_page_keywords = types.MethodType(crawl_current_page_keywords, hskws)"
   ]
  },
  {
   "cell_type": "code",
   "execution_count": 43,
   "metadata": {},
   "outputs": [],
   "source": [
    "hskws = Hot_Searched_Keywords(market, headless=False)"
   ]
  },
  {
   "cell_type": "code",
   "execution_count": 44,
   "metadata": {},
   "outputs": [
    {
     "name": "stdout",
     "output_type": "stream",
     "text": [
      "primary 打开网址：https://i.alibaba.com\n",
      "primary 等待登陆页面加载 ... ...\n",
      "primary 输入登录信息， 并登录\n",
      "success 成功 登录 阿里巴巴 国际站！用户名：Jeremy\n"
     ]
    }
   ],
   "source": [
    "hskws.login()\n",
    "hskws.browser.get(hskws.api)"
   ]
  },
  {
   "cell_type": "code",
   "execution_count": 51,
   "metadata": {},
   "outputs": [],
   "source": []
  },
  {
   "cell_type": "code",
   "execution_count": 36,
   "metadata": {},
   "outputs": [],
   "source": []
  },
  {
   "cell_type": "code",
   "execution_count": 88,
   "metadata": {},
   "outputs": [],
   "source": []
  },
  {
   "cell_type": "code",
   "execution_count": null,
   "metadata": {},
   "outputs": [],
   "source": []
  },
  {
   "cell_type": "code",
   "execution_count": null,
   "metadata": {},
   "outputs": [],
   "source": [
    "base_kws = ['eyelash', 'eyelashes', 'lash', 'lashes']\n",
    "hotSearchedKeywords = hskws.crawl_keywords(base_kws)"
   ]
  },
  {
   "cell_type": "code",
   "execution_count": 46,
   "metadata": {},
   "outputs": [
    {
     "data": {
      "text/plain": [
       "4732"
      ]
     },
     "execution_count": 46,
     "metadata": {},
     "output_type": "execute_result"
    }
   ],
   "source": [
    "len(hotSearchedKeywords)"
   ]
  },
  {
   "cell_type": "code",
   "execution_count": 38,
   "metadata": {},
   "outputs": [
    {
     "name": "stdout",
     "output_type": "stream",
     "text": [
      "Stored 'hotSearchedKeywords' (dict)\n"
     ]
    }
   ],
   "source": [
    "%store hotSearchedKeywords"
   ]
  },
  {
   "cell_type": "code",
   "execution_count": 1,
   "metadata": {},
   "outputs": [],
   "source": [
    "%store -r hotSearchedKeywords"
   ]
  },
  {
   "cell_type": "code",
   "execution_count": null,
   "metadata": {},
   "outputs": [],
   "source": []
  },
  {
   "cell_type": "code",
   "execution_count": null,
   "metadata": {},
   "outputs": [],
   "source": []
  },
  {
   "cell_type": "code",
   "execution_count": 10,
   "metadata": {},
   "outputs": [],
   "source": [
    "file = 'hot_searched_keywords.xlsx'\n",
    "wb = load_workbook(file)\n",
    "sheet = wb.worksheets[0]\n",
    "sheet.cell(row=1,column=1).value = '买家竞争度'\n",
    "sheet.cell(row=1,column=2).value = '橱窗数'\n",
    "sheet.cell(row=1,column=3).value = '搜索热度'\n",
    "sheet.cell(row=1,column=4).value = '关键字'\n",
    "\n",
    "for idx, kw in enumerate(sorted_kw_list):\n",
    "    row = idx+2\n",
    "    sheet.cell(row=row,column=1).value = kw['supplier_competition']\n",
    "    sheet.cell(row=row,column=2).value = kw['showroom_count']\n",
    "    sheet.cell(row=row,column=3).value = kw['search_frequency']\n",
    "    sheet.cell(row=row,column=4).value =  kw['keyword']\n",
    "wb.save(file)"
   ]
  },
  {
   "cell_type": "code",
   "execution_count": 9,
   "metadata": {},
   "outputs": [],
   "source": [
    "main_keywords_groups = {'general_keywords':[], 'mink_eyelash':[], 'silk_eyelash':[], 'magnetic_eyelash':[], 'eyelash_extension':[], 'markup_tools':[], 'packaging_box':[]}\n",
    "main_keywords_groups['general_keywords'] = ['eyelash', 'lash']\n",
    "main_keywords_groups['mink_eyelash'] = ['mink eyelash', 'mink lash', 'eyelash mink', 'lash mink']\n",
    "main_keywords_groups['magnetic_eyelash'] = ['magnetic eyelash', 'magnetic lash']\n",
    "main_keywords_groups['eyelash_extension'] = ['eyelash extension', 'lash extension']\n",
    "\n",
    "one_words = ['faux mink', 'real mink', 'private label']"
   ]
  },
  {
   "cell_type": "code",
   "execution_count": 31,
   "metadata": {},
   "outputs": [
    {
     "name": "stdout",
     "output_type": "stream",
     "text": [
      "12 \t 0 \t 50 \t eyelash extension brands\n"
     ]
    }
   ],
   "source": [
    "brands = ['koko']\n",
    "for idx, kw in enumerate(sorted_kw_list):\n",
    "    row = idx+2\n",
    "    keyword = kw['keyword']\n",
    "    if 'brands' in keyword:\n",
    "        print(kw['supplier_competition'], '\\t', kw['showroom_count'], '\\t', kw['search_frequency'], '\\t', keyword)"
   ]
  },
  {
   "cell_type": "code",
   "execution_count": null,
   "metadata": {},
   "outputs": [],
   "source": []
  }
 ],
 "metadata": {
  "kernelspec": {
   "display_name": "Python 3",
   "language": "python",
   "name": "python3"
  },
  "language_info": {
   "codemirror_mode": {
    "name": "ipython",
    "version": 3
   },
   "file_extension": ".py",
   "mimetype": "text/x-python",
   "name": "python",
   "nbconvert_exporter": "python",
   "pygments_lexer": "ipython3",
   "version": "3.6.6"
  }
 },
 "nbformat": 4,
 "nbformat_minor": 2
}
