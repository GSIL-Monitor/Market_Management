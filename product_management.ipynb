{
 "cells": [
  {
   "cell_type": "code",
   "execution_count": 1,
   "metadata": {},
   "outputs": [],
   "source": [
    "from libs.alibaba.alibaba import Alibaba\n",
    "\n",
    "from selenium.webdriver.common.keys import Keys\n",
    "from selenium.webdriver.common.action_chains import ActionChains\n",
    "from selenium import webdriver\n",
    "from selenium.webdriver.common.by import By\n",
    "from selenium.webdriver.support.ui import WebDriverWait\n",
    "from selenium.webdriver.support import expected_conditions as EC\n",
    "from selenium.common.exceptions import WebDriverException\n",
    "from selenium.common.exceptions import NoSuchElementException\n",
    "from selenium.common.exceptions import TimeoutException\n",
    "from selenium.common.exceptions import StaleElementReferenceException\n",
    "from selenium.webdriver.support.select import Select\n",
    "\n",
    "from bs4 import BeautifulSoup\n",
    "from pyquery import PyQuery as pq\n",
    "from libs.CeleryTasks import tasks\n",
    "import html\n",
    "import time\n",
    "import re\n",
    "import traceback\n",
    "import types"
   ]
  },
  {
   "cell_type": "code",
   "execution_count": 3,
   "metadata": {},
   "outputs": [],
   "source": [
    "chrome_options = webdriver.ChromeOptions()\n",
    "chrome_options.add_argument('--disable-gpu')\n",
    "chrome_options.add_argument('--disable-software-rasterizer')\n",
    "chrome_options.add_argument('--disable-extensions')\n",
    "chrome_options.add_argument('--disable-logging')\n",
    "chrome_options.add_argument('--disable-infobars')\n",
    "chrome_options.add_argument('--ignore-certificate-errors')\n",
    "browser = webdriver.Chrome(chrome_options=chrome_options)"
   ]
  },
  {
   "cell_type": "code",
   "execution_count": 4,
   "metadata": {},
   "outputs": [
    {
     "name": "stdout",
     "output_type": "stream",
     "text": [
      "primary 打开网址：https://i.alibaba.com\n",
      "primary 等待登陆页面加载 ... ...\n",
      "primary 输入登录信息， 并登录\n",
      "success 成功 登录 阿里巴巴 国际站！用户名：Jeremy\n"
     ]
    }
   ],
   "source": [
    "lid = 'eyelash@glittergroupcn.com'\n",
    "lpwd = 'Wangzhen68970747'\n",
    "alibaba_eyelash = Alibaba(lid, lpwd, browser=browser)\n",
    "alibaba_eyelash.login()"
   ]
  },
  {
   "cell_type": "code",
   "execution_count": 8,
   "metadata": {},
   "outputs": [
    {
     "name": "stdout",
     "output_type": "stream",
     "text": [
      "primary 打开 产品管理 页面 ... ...\n",
      "primary 切换 至 显示全部产品 ... ...\n",
      "primary 查找 全部产品列表 第 1 页\n",
      "primary 完成 查找！\n",
      "primary 查找 全部产品列表 第 2 页\n",
      "primary 完成 查找！\n",
      "primary 查找 全部产品列表 第 3 页\n",
      "primary 完成 查找！\n",
      "primary 查找 全部产品列表 第 4 页\n",
      "primary 完成 查找！\n",
      "primary 查找 全部产品列表 第 5 页\n",
      "primary 完成 查找！\n",
      "primary 查找 全部产品列表 第 6 页\n",
      "primary 完成 查找！\n",
      "primary 查找 全部产品列表 第 7 页\n",
      "primary 完成 查找！\n",
      "primary 查找 全部产品列表 第 8 页\n",
      "primary 完成 查找！\n",
      "primary 查找 全部产品列表 第 9 页\n",
      "primary 完成 查找！\n",
      "primary 查找 全部产品列表 第 10 页\n",
      "primary 完成 查找！\n",
      "primary 查找 全部产品列表 第 11 页\n",
      "primary 完成 查找！\n",
      "primary 查找 全部产品列表 第 12 页\n",
      "primary 完成 查找！\n",
      "primary 查找 全部产品列表 第 13 页\n",
      "primary 完成 查找！\n",
      "primary 查找 全部产品列表 第 14 页\n",
      "primary 完成 查找！\n",
      "primary 查找 全部产品列表 第 15 页\n",
      "primary 完成 查找！\n",
      "primary 查找 全部产品列表 第 16 页\n",
      "primary 完成 查找！\n",
      "primary 查找 全部产品列表 第 17 页\n",
      "primary 完成 查找！\n",
      "primary 查找 全部产品列表 第 18 页\n",
      "primary 完成 查找！\n",
      "primary 查找 全部产品列表 第 19 页\n",
      "primary 完成 查找！\n",
      "primary 查找 全部产品列表 第 20 页\n",
      "primary 完成 查找！\n",
      "primary 查找 全部产品列表 第 21 页\n",
      "primary 完成 查找！\n",
      "primary 查找 全部产品列表 第 22 页\n",
      "primary 完成 查找！\n",
      "primary 查找 全部产品列表 第 23 页\n",
      "primary 完成 查找！\n",
      "primary 查找 全部产品列表 第 24 页\n",
      "primary 完成 查找！\n",
      "primary 查找 全部产品列表 第 25 页\n",
      "primary 完成 查找！\n",
      "primary 查找 全部产品列表 第 26 页\n",
      "primary 完成 查找！\n",
      "primary 查找 全部产品列表 第 27 页\n",
      "primary 完成 查找！\n",
      "primary 查找 全部产品列表 第 28 页\n"
     ]
    }
   ],
   "source": [
    "products = alibaba_eyelash.get_posted_product_info(99)"
   ]
  },
  {
   "cell_type": "code",
   "execution_count": 9,
   "metadata": {},
   "outputs": [
    {
     "data": {
      "text/plain": [
       "818"
      ]
     },
     "execution_count": 9,
     "metadata": {},
     "output_type": "execute_result"
    }
   ],
   "source": [
    "len(products)"
   ]
  },
  {
   "cell_type": "code",
   "execution_count": 14,
   "metadata": {},
   "outputs": [
    {
     "name": "stdout",
     "output_type": "stream",
     "text": [
      "Stored 'products' (list)\n"
     ]
    }
   ],
   "source": [
    "%store products"
   ]
  },
  {
   "cell_type": "code",
   "execution_count": 2,
   "metadata": {},
   "outputs": [
    {
     "data": {
      "text/plain": [
       "818"
      ]
     },
     "execution_count": 2,
     "metadata": {},
     "output_type": "execute_result"
    }
   ],
   "source": [
    "%store -r products\n",
    "len(products)"
   ]
  },
  {
   "cell_type": "code",
   "execution_count": 5,
   "metadata": {},
   "outputs": [],
   "source": [
    "successed = {}\n",
    "excepted = {}\n",
    "running_tasks = {}"
   ]
  },
  {
   "cell_type": "code",
   "execution_count": null,
   "metadata": {},
   "outputs": [],
   "source": [
    "data = {}\n",
    "data['product_detail'] = {}\n",
    "data['product_detail']['fp'] = {}\n",
    "data['product_detail']['lp'] = '<img src=\"//sc01.alicdn.com/kf/HTB15JbiB2iSBuNkSnhJq6zDcpXaX/231186930/HTB15JbiB2iSBuNkSnhJq6zDcpXaX.jpg\" alt=\"faq and contact\" ori-width=\"750\" ori-height=\"927\" />'\n"
   ]
  },
  {
   "cell_type": "code",
   "execution_count": 17,
   "metadata": {},
   "outputs": [
    {
     "name": "stdout",
     "output_type": "stream",
     "text": [
      "1 :\n",
      "['60763603063', True]\n",
      "['60795768066', True]\n",
      "60763603063 {'60763603063': <AsyncResult: 89562a3e-bca9-4514-bef9-033ab93c21aa>, '60795768066': <AsyncResult: 6ec416c4-7115-4170-ace8-74667277731b>, '60762691566': <AsyncResult: b5528401-b409-4ef1-90ab-9b3c5e427891>}\n",
      "60795768066 {'60795768066': <AsyncResult: 6ec416c4-7115-4170-ace8-74667277731b>, '60762691566': <AsyncResult: b5528401-b409-4ef1-90ab-9b3c5e427891>}\n",
      "\n",
      "2 :\n",
      "\n",
      "3 :\n",
      "wait and try ..., \n",
      "wait and try ..., \n",
      "wait and try ..., \n",
      "wait and try ..., \n",
      "wait and try ..., \n",
      "wait and try ..., \n",
      "wait and try ..., \n",
      "wait and try ..., \n",
      "wait and try ..., \n",
      "wait and try ..., \n",
      "wait and try ..., \n",
      "wait and try ..., \n",
      "wait and try ..., \n",
      "wait and try ..., \n",
      "wait and try ..., \n",
      "wait and try ..., \n",
      "wait and try ..., \n",
      "wait and try ..., \n",
      "wait and try ..., \n",
      "['60764043674', True]\n",
      "60764043674 {'60762691566': <AsyncResult: b5528401-b409-4ef1-90ab-9b3c5e427891>, '60762853342': <AsyncResult: 57a7fbd4-2441-46ba-bdc2-303d4e8290c2>, '60764043674': <AsyncResult: 86916910-956f-455b-bdd0-c4f5e78a5b65>}\n",
      "\n",
      "4 :\n",
      "wait and try ..., \n",
      "['60762691566', True]\n",
      "['60762853342', True]\n",
      "60762691566 {'60762691566': <AsyncResult: b5528401-b409-4ef1-90ab-9b3c5e427891>, '60762853342': <AsyncResult: 57a7fbd4-2441-46ba-bdc2-303d4e8290c2>, '60764046816': <AsyncResult: 9090601a-e70c-4cb9-ba98-7ec9a40d3271>}\n",
      "60762853342 {'60762853342': <AsyncResult: 57a7fbd4-2441-46ba-bdc2-303d4e8290c2>, '60764046816': <AsyncResult: 9090601a-e70c-4cb9-ba98-7ec9a40d3271>}\n",
      "\n",
      "5 :\n",
      "\n",
      "6 :\n",
      "wait and try ..., \n",
      "wait and try ..., \n",
      "wait and try ..., \n",
      "wait and try ..., \n",
      "wait and try ..., \n",
      "wait and try ..., \n",
      "wait and try ..., \n",
      "wait and try ..., \n",
      "wait and try ..., \n",
      "wait and try ..., \n",
      "wait and try ..., \n",
      "wait and try ..., \n",
      "wait and try ..., \n",
      "wait and try ..., \n",
      "wait and try ..., \n",
      "wait and try ..., \n",
      "wait and try ..., \n",
      "['60764046816', True]\n",
      "60764046816 {'60764046816': <AsyncResult: 9090601a-e70c-4cb9-ba98-7ec9a40d3271>, '60764402670': <AsyncResult: 7757c574-dea4-4854-b210-f8da0edac2fb>, '60764714245': <AsyncResult: 961ace7b-edee-42e6-be6a-c7db351735d2>}\n",
      "\n",
      "7 :\n",
      "wait and try ..., \n",
      "['60764402670', True]\n",
      "60764402670 {'60764402670': <AsyncResult: 7757c574-dea4-4854-b210-f8da0edac2fb>, '60764714245': <AsyncResult: 961ace7b-edee-42e6-be6a-c7db351735d2>, '60764715844': <AsyncResult: 89d5555d-080e-4572-8d2e-50b2aeb89653>}\n",
      "\n",
      "8 :\n",
      "wait and try ..., \n",
      "['60764714245', True]\n",
      "60764714245 {'60764714245': <AsyncResult: 961ace7b-edee-42e6-be6a-c7db351735d2>, '60764715844': <AsyncResult: 89d5555d-080e-4572-8d2e-50b2aeb89653>, '60764715857': <AsyncResult: 77134a96-c8d0-4c28-adc3-175438a0e9a5>}\n",
      "\n",
      "9 :\n",
      "wait and try ..., \n",
      "wait and try ..., \n",
      "wait and try ..., \n",
      "wait and try ..., \n",
      "wait and try ..., \n",
      "wait and try ..., \n",
      "wait and try ..., \n",
      "wait and try ..., \n",
      "wait and try ..., \n",
      "wait and try ..., \n",
      "wait and try ..., \n",
      "wait and try ..., \n",
      "wait and try ..., \n",
      "wait and try ..., \n",
      "wait and try ..., \n",
      "['60764715844', True]\n",
      "60764715844 {'60764715844': <AsyncResult: 89d5555d-080e-4572-8d2e-50b2aeb89653>, '60764715857': <AsyncResult: 77134a96-c8d0-4c28-adc3-175438a0e9a5>, '60765332171': <AsyncResult: dc38e505-4bba-4c6a-b241-4310ca65da87>}\n",
      "\n",
      "10 :\n",
      "wait and try ..., \n",
      "wait and try ..., \n",
      "['60765332171', True]\n",
      "60765332171 {'60764715857': <AsyncResult: 77134a96-c8d0-4c28-adc3-175438a0e9a5>, '60765332171': <AsyncResult: dc38e505-4bba-4c6a-b241-4310ca65da87>, '60796839297': <AsyncResult: 93af7b40-ddeb-408c-a595-1ae8e40781f4>}\n",
      "\n",
      "11 :\n",
      "wait and try ..., \n",
      "['60764715857', True]\n",
      "60764715857 {'60764715857': <AsyncResult: 77134a96-c8d0-4c28-adc3-175438a0e9a5>, '60796839297': <AsyncResult: 93af7b40-ddeb-408c-a595-1ae8e40781f4>, '60752396549': <AsyncResult: 0ae3214d-003d-4472-a144-94a9a87dab9d>}\n",
      "\n",
      "12 :\n",
      "wait and try ..., \n",
      "wait and try ..., \n",
      "wait and try ..., \n",
      "wait and try ..., \n",
      "wait and try ..., \n",
      "wait and try ..., \n",
      "wait and try ..., \n",
      "wait and try ..., \n",
      "wait and try ..., \n",
      "wait and try ..., \n",
      "wait and try ..., \n",
      "wait and try ..., \n",
      "wait and try ..., \n",
      "['60796839297', True]\n",
      "60796839297 {'60796839297': <AsyncResult: 93af7b40-ddeb-408c-a595-1ae8e40781f4>, '60752396549': <AsyncResult: 0ae3214d-003d-4472-a144-94a9a87dab9d>, '60762283935': <AsyncResult: 2299ed00-eaa1-42c5-93b7-8cf8f036fe8f>}\n",
      "\n",
      "13 :\n",
      "wait and try ..., \n",
      "wait and try ..., \n",
      "['60752396549', True]\n",
      "60752396549 {'60752396549': <AsyncResult: 0ae3214d-003d-4472-a144-94a9a87dab9d>, '60762283935': <AsyncResult: 2299ed00-eaa1-42c5-93b7-8cf8f036fe8f>, '60762958887': <AsyncResult: 9ccb8971-d768-455d-ab36-60a1cf7e71a8>}\n",
      "\n",
      "14 :\n",
      "wait and try ..., \n",
      "wait and try ..., \n",
      "wait and try ..., \n",
      "wait and try ..., \n",
      "['60762283935', True]\n",
      "60762283935 {'60762283935': <AsyncResult: 2299ed00-eaa1-42c5-93b7-8cf8f036fe8f>, '60762958887': <AsyncResult: 9ccb8971-d768-455d-ab36-60a1cf7e71a8>, '60763303403': <AsyncResult: 1441fe00-0bd8-4763-8f1c-e4308a867f27>}\n",
      "\n",
      "15 :\n",
      "wait and try ..., \n",
      "wait and try ..., \n",
      "wait and try ..., \n",
      "wait and try ..., \n",
      "wait and try ..., \n",
      "wait and try ..., \n",
      "wait and try ..., \n",
      "wait and try ..., \n",
      "wait and try ..., \n",
      "wait and try ..., \n",
      "wait and try ..., \n",
      "['60762958887', True]\n",
      "60762958887 {'60762958887': <AsyncResult: 9ccb8971-d768-455d-ab36-60a1cf7e71a8>, '60763303403': <AsyncResult: 1441fe00-0bd8-4763-8f1c-e4308a867f27>, '60763607039': <AsyncResult: f0eaad2d-c690-4bc8-9c6d-cb29dc58194d>}\n",
      "\n",
      "16 :\n",
      "wait and try ..., \n",
      "wait and try ..., \n",
      "['60763303403', True]\n",
      "60763303403 {'60763303403': <AsyncResult: 1441fe00-0bd8-4763-8f1c-e4308a867f27>, '60763607039': <AsyncResult: f0eaad2d-c690-4bc8-9c6d-cb29dc58194d>, '60764232167': <AsyncResult: 666e1a07-b4fb-4b22-ad43-ebd24dcdca53>}\n",
      "\n",
      "17 :\n",
      "wait and try ..., \n",
      "wait and try ..., \n",
      "wait and try ..., \n",
      "wait and try ..., \n",
      "wait and try ..., \n",
      "['60763607039', True]\n",
      "60763607039 {'60763607039': <AsyncResult: f0eaad2d-c690-4bc8-9c6d-cb29dc58194d>, '60764232167': <AsyncResult: 666e1a07-b4fb-4b22-ad43-ebd24dcdca53>, '60795768884': <AsyncResult: 67fe7bd5-ad89-4058-94df-54f5e0fff25f>}\n",
      "\n",
      "18 :\n",
      "wait and try ..., \n",
      "wait and try ..., \n",
      "wait and try ..., \n",
      "wait and try ..., \n",
      "wait and try ..., \n",
      "wait and try ..., \n",
      "wait and try ..., \n",
      "wait and try ..., \n",
      "wait and try ..., \n",
      "wait and try ..., \n",
      "['60764232167', True]\n",
      "60764232167 {'60764232167': <AsyncResult: 666e1a07-b4fb-4b22-ad43-ebd24dcdca53>, '60795768884': <AsyncResult: 67fe7bd5-ad89-4058-94df-54f5e0fff25f>, '60795769657': <AsyncResult: 8a34f431-7593-46a0-a782-f06ad8f74b63>}\n",
      "\n",
      "19 :\n",
      "wait and try ..., \n",
      "['60795768884', True]\n",
      "60795768884 {'60795768884': <AsyncResult: 67fe7bd5-ad89-4058-94df-54f5e0fff25f>, '60795769657': <AsyncResult: 8a34f431-7593-46a0-a782-f06ad8f74b63>, '60795769671': <AsyncResult: 3df27f06-b885-4cc3-9a5f-d2ef2ba0d063>}\n",
      "\n",
      "20 :\n",
      "wait and try ..., \n",
      "wait and try ..., \n",
      "wait and try ..., \n",
      "wait and try ..., \n",
      "wait and try ..., \n",
      "wait and try ..., \n",
      "['60795769657', True]\n",
      "60795769657 {'60795769657': <AsyncResult: 8a34f431-7593-46a0-a782-f06ad8f74b63>, '60795769671': <AsyncResult: 3df27f06-b885-4cc3-9a5f-d2ef2ba0d063>, '60763607812': <AsyncResult: 5b7dddcf-fac7-48b8-add5-f1e66c0f4a3e>}\n",
      "\n"
     ]
    }
   ],
   "source": [
    "# start-process celery -ArgumentList \"worker -A libs.CeleryTasks.tasks -c 4 -l info -Q Eyelashes_PM,celery -n Eyelashes[alibaba]@localhost\"\n",
    "# data = {'price': {'isTieredPricing': False, 'price_range':[0.8, 1.1]}}\n",
    "\n",
    "data = {\"ali_id\": \"60763603063\", \"detail_pictures\": []}\n",
    "pic = {}\n",
    "pic[\"old\"] = \"//sc02.alicdn.com/kf/HTB1Th0uqVOWBuNjy0Fiq6xFxVXal/231186930/HTB1Th0uqVOWBuNjy0Fiq6xFxVXal.jpg\"\n",
    "pic[\"new\"] = \"//sc01.alicdn.com/kf/HTB18_QhB5OYBuNjSsD4q6zSkFXag/231186930/HTB18_QhB5OYBuNjSsD4q6zSkFXag.jpg\"\n",
    "data[\"detail_pictures\"].append(pic)\n",
    "\n",
    "model = '31c'\n",
    "\n",
    "count = 0\n",
    "for p in products:\n",
    "    ali_id = p['ali_id']\n",
    "#     if p['pid'].lower == '31a06':\n",
    "#         continue\n",
    "    if ali_id in excepted:\n",
    "        continue\n",
    "    if ali_id in successed:\n",
    "        continue\n",
    "        \n",
    "    if p['pid'].lower().startswith(model):\n",
    "        count += 1\n",
    "        print(count, ':')\n",
    "        data['ali_id'] = ali_id\n",
    "        running_tasks[ali_id] = tasks.alibaba_update_product.apply_async(args=[data], queue='Eyelashes_PM')\n",
    "        \n",
    "        while True:\n",
    "            finished = []\n",
    "            for key in running_tasks:\n",
    "                task_result = running_tasks[key]\n",
    "                if task_result.ready():\n",
    "                    print(task_result.get())\n",
    "                    if task_result.get()[1]:\n",
    "                        successed[key] = p\n",
    "                    finished.append(key)\n",
    "                    \n",
    "            for key in finished:\n",
    "                print(key, running_tasks)\n",
    "                del running_tasks[key]\n",
    "            \n",
    "            if len(running_tasks.keys()) == 3:\n",
    "                print('wait and try ..., ')\n",
    "                time.sleep(1)\n",
    "                continue\n",
    "            else:\n",
    "                print('')\n",
    "                break"
   ]
  },
  {
   "cell_type": "code",
   "execution_count": 13,
   "metadata": {},
   "outputs": [
    {
     "data": {
      "text/plain": [
       "{'60762687569': {'href': '//www.alibaba.com/product-detail/Customizable-Packaging-Boxes-Easy-Application-Magnetic_60765324185.html',\n",
       "  'title': 'customizable packaging boxes easy application magnetic eyelashes',\n",
       "  'pid': '31A05',\n",
       "  'category': 'Magnetic Eyelashes>31A Series',\n",
       "  'update': '2018-09-02',\n",
       "  'price': 'US $1.2 - 1.5 / Pair',\n",
       "  'quality': ['精品'],\n",
       "  'tags': [],\n",
       "  'ali_id': '60765324185'},\n",
       " '60762845400': {'href': '//www.alibaba.com/product-detail/Wholesale-magnetic-eyelashes-3-magnet-custom_60761755703.html',\n",
       "  'title': 'wholesale magnetic eyelashes 3 magnet custom handmade dual magnetic eyelashes and 3magnet lashes with no moq',\n",
       "  'pid': '31A07',\n",
       "  'category': 'Magnetic Eyelashes>31A Series',\n",
       "  'update': '2018-09-02',\n",
       "  'price': 'US $1.2 - 1.5 / Pair',\n",
       "  'quality': ['精品'],\n",
       "  'tags': [],\n",
       "  'ali_id': '60761755703'}}"
      ]
     },
     "execution_count": 13,
     "metadata": {},
     "output_type": "execute_result"
    }
   ],
   "source": [
    "successed"
   ]
  },
  {
   "cell_type": "code",
   "execution_count": 15,
   "metadata": {},
   "outputs": [
    {
     "data": {
      "text/plain": [
       "<AsyncResult: 3b98e738-4642-4cdb-9af1-c727af39975e>"
      ]
     },
     "execution_count": 15,
     "metadata": {},
     "output_type": "execute_result"
    }
   ],
   "source": [
    "data = {\"ali_id\": \"60764039619\", \"detail_pictures\": []}\n",
    "pic = {}\n",
    "pic[\"old\"] = \"//sc02.alicdn.com/kf/HTB1Th0uqVOWBuNjy0Fiq6xFxVXal/231186930/HTB1Th0uqVOWBuNjy0Fiq6xFxVXal.jpg\"\n",
    "pic[\"new\"] = \"//sc01.alicdn.com/kf/HTB18_QhB5OYBuNjSsD4q6zSkFXag/231186930/HTB18_QhB5OYBuNjSsD4q6zSkFXag.jpg\"\n",
    "data[\"detail_pictures\"].append(pic)\n",
    "tasks.alibaba_update_product.apply_async(args=[data], queue='Eyelashes_PM')"
   ]
  },
  {
   "cell_type": "code",
   "execution_count": 3,
   "metadata": {},
   "outputs": [
    {
     "data": {
      "text/plain": [
       "{'href': '//www.alibaba.com/product-detail/OEM-service-custom-eyelash-packaging-false_60769492342.html',\n",
       " 'title': 'oem service custom eyelash packaging false eyelashes mink fur lashes 3d mink eyelashes',\n",
       " 'pid': '11A49',\n",
       " 'category': '3D Mink Eyelashes>11A Series',\n",
       " 'update': '2018-09-03',\n",
       " 'price': 'US $1.9 - 2.3 / Pair',\n",
       " 'quality': ['精品'],\n",
       " 'tags': [],\n",
       " 'ali_id': '60769492342'}"
      ]
     },
     "execution_count": 3,
     "metadata": {},
     "output_type": "execute_result"
    }
   ],
   "source": [
    "products[0]"
   ]
  },
  {
   "cell_type": "code",
   "execution_count": null,
   "metadata": {},
   "outputs": [],
   "source": []
  },
  {
   "cell_type": "code",
   "execution_count": null,
   "metadata": {},
   "outputs": [],
   "source": []
  }
 ],
 "metadata": {
  "kernelspec": {
   "display_name": "Python 3",
   "language": "python",
   "name": "python3"
  },
  "language_info": {
   "codemirror_mode": {
    "name": "ipython",
    "version": 3
   },
   "file_extension": ".py",
   "mimetype": "text/x-python",
   "name": "python",
   "nbconvert_exporter": "python",
   "pygments_lexer": "ipython3",
   "version": "3.6.6"
  }
 },
 "nbformat": 4,
 "nbformat_minor": 2
}
