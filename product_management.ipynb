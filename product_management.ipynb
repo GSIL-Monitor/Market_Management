{
 "cells": [
  {
   "cell_type": "code",
   "execution_count": 2,
   "metadata": {},
   "outputs": [],
   "source": [
    "from libs.alibaba.alibaba import Alibaba\n",
    "\n",
    "from selenium.webdriver.common.keys import Keys\n",
    "from selenium.webdriver.common.action_chains import ActionChains\n",
    "from selenium import webdriver\n",
    "from selenium.webdriver.common.by import By\n",
    "from selenium.webdriver.support.ui import WebDriverWait\n",
    "from selenium.webdriver.support import expected_conditions as EC\n",
    "from selenium.common.exceptions import WebDriverException\n",
    "from selenium.common.exceptions import NoSuchElementException\n",
    "from selenium.common.exceptions import TimeoutException\n",
    "from selenium.common.exceptions import StaleElementReferenceException\n",
    "from selenium.webdriver.support.select import Select\n",
    "\n",
    "from bs4 import BeautifulSoup\n",
    "from pyquery import PyQuery as pq\n",
    "from libs.CeleryTasks import tasks\n",
    "import html\n",
    "import time\n",
    "import re\n",
    "import traceback\n",
    "import types"
   ]
  },
  {
   "cell_type": "code",
   "execution_count": 3,
   "metadata": {},
   "outputs": [],
   "source": [
    "chrome_options = webdriver.ChromeOptions()\n",
    "chrome_options.add_argument('--disable-gpu')\n",
    "chrome_options.add_argument('--disable-software-rasterizer')\n",
    "chrome_options.add_argument('--disable-extensions')\n",
    "chrome_options.add_argument('--disable-logging')\n",
    "chrome_options.add_argument('--disable-infobars')\n",
    "chrome_options.add_argument('--ignore-certificate-errors')\n",
    "browser = webdriver.Chrome(chrome_options=chrome_options)"
   ]
  },
  {
   "cell_type": "code",
   "execution_count": 4,
   "metadata": {},
   "outputs": [
    {
     "name": "stdout",
     "output_type": "stream",
     "text": [
      "primary 打开网址：https://i.alibaba.com\n",
      "primary 等待登陆页面加载 ... ...\n",
      "primary 输入登录信息， 并登录\n",
      "success 成功 登录 阿里巴巴 国际站！用户名：Jeremy\n"
     ]
    }
   ],
   "source": [
    "lid = 'eyelash@glittergroupcn.com'\n",
    "lpwd = 'Wangzhen68970747'\n",
    "alibaba_eyelash = Alibaba(lid, lpwd, browser=browser)\n",
    "alibaba_eyelash.login()"
   ]
  },
  {
   "cell_type": "code",
   "execution_count": 8,
   "metadata": {},
   "outputs": [
    {
     "name": "stdout",
     "output_type": "stream",
     "text": [
      "primary 打开 产品管理 页面 ... ...\n",
      "primary 切换 至 显示全部产品 ... ...\n",
      "primary 查找 全部产品列表 第 1 页\n",
      "primary 完成 查找！\n",
      "primary 查找 全部产品列表 第 2 页\n",
      "primary 完成 查找！\n",
      "primary 查找 全部产品列表 第 3 页\n",
      "primary 完成 查找！\n",
      "primary 查找 全部产品列表 第 4 页\n",
      "primary 完成 查找！\n",
      "primary 查找 全部产品列表 第 5 页\n",
      "primary 完成 查找！\n",
      "primary 查找 全部产品列表 第 6 页\n",
      "primary 完成 查找！\n",
      "primary 查找 全部产品列表 第 7 页\n",
      "primary 完成 查找！\n",
      "primary 查找 全部产品列表 第 8 页\n",
      "primary 完成 查找！\n",
      "primary 查找 全部产品列表 第 9 页\n",
      "primary 完成 查找！\n",
      "primary 查找 全部产品列表 第 10 页\n",
      "primary 完成 查找！\n",
      "primary 查找 全部产品列表 第 11 页\n",
      "primary 完成 查找！\n",
      "primary 查找 全部产品列表 第 12 页\n",
      "primary 完成 查找！\n",
      "primary 查找 全部产品列表 第 13 页\n",
      "primary 完成 查找！\n",
      "primary 查找 全部产品列表 第 14 页\n",
      "primary 完成 查找！\n",
      "primary 查找 全部产品列表 第 15 页\n",
      "primary 完成 查找！\n",
      "primary 查找 全部产品列表 第 16 页\n",
      "primary 完成 查找！\n",
      "primary 查找 全部产品列表 第 17 页\n",
      "primary 完成 查找！\n",
      "primary 查找 全部产品列表 第 18 页\n",
      "primary 完成 查找！\n",
      "primary 查找 全部产品列表 第 19 页\n",
      "primary 完成 查找！\n",
      "primary 查找 全部产品列表 第 20 页\n",
      "primary 完成 查找！\n",
      "primary 查找 全部产品列表 第 21 页\n",
      "primary 完成 查找！\n",
      "primary 查找 全部产品列表 第 22 页\n",
      "primary 完成 查找！\n",
      "primary 查找 全部产品列表 第 23 页\n",
      "primary 完成 查找！\n",
      "primary 查找 全部产品列表 第 24 页\n",
      "primary 完成 查找！\n",
      "primary 查找 全部产品列表 第 25 页\n",
      "primary 完成 查找！\n",
      "primary 查找 全部产品列表 第 26 页\n",
      "primary 完成 查找！\n",
      "primary 查找 全部产品列表 第 27 页\n",
      "primary 完成 查找！\n",
      "primary 查找 全部产品列表 第 28 页\n"
     ]
    }
   ],
   "source": [
    "products = alibaba_eyelash.get_posted_product_info(99)"
   ]
  },
  {
   "cell_type": "code",
   "execution_count": 9,
   "metadata": {},
   "outputs": [
    {
     "data": {
      "text/plain": [
       "818"
      ]
     },
     "execution_count": 9,
     "metadata": {},
     "output_type": "execute_result"
    }
   ],
   "source": [
    "len(products)"
   ]
  },
  {
   "cell_type": "code",
   "execution_count": 14,
   "metadata": {},
   "outputs": [
    {
     "name": "stdout",
     "output_type": "stream",
     "text": [
      "Stored 'products' (list)\n"
     ]
    }
   ],
   "source": [
    "%store products"
   ]
  },
  {
   "cell_type": "code",
   "execution_count": 3,
   "metadata": {},
   "outputs": [
    {
     "data": {
      "text/plain": [
       "818"
      ]
     },
     "execution_count": 3,
     "metadata": {},
     "output_type": "execute_result"
    }
   ],
   "source": [
    "%store -r products\n",
    "len(products)"
   ]
  },
  {
   "cell_type": "code",
   "execution_count": 4,
   "metadata": {},
   "outputs": [],
   "source": [
    "successed = {}\n",
    "excepted = {}\n",
    "running_tasks = {}"
   ]
  },
  {
   "cell_type": "code",
   "execution_count": 35,
   "metadata": {},
   "outputs": [
    {
     "name": "stdout",
     "output_type": "stream",
     "text": [
      "1 :\n",
      "['60765052269', False]\n",
      "['60765051493', False]\n",
      "['60765052294', False]\n",
      "60765052269 {'60765052269': <AsyncResult: 0a1ff19b-1a29-4f0b-a5ee-d2cfb30d2684>, '60765051493': <AsyncResult: 6e951130-3d57-4c62-b076-f63639fce82e>, '60765052294': <AsyncResult: a0a49eda-2bc1-4d01-b1bb-51f5b6585d6e>, '60761678736': <AsyncResult: de9e69f0-c861-4654-af65-01f6b9342092>}\n",
      "60765051493 {'60765051493': <AsyncResult: 6e951130-3d57-4c62-b076-f63639fce82e>, '60765052294': <AsyncResult: a0a49eda-2bc1-4d01-b1bb-51f5b6585d6e>, '60761678736': <AsyncResult: de9e69f0-c861-4654-af65-01f6b9342092>}\n",
      "60765052294 {'60765052294': <AsyncResult: a0a49eda-2bc1-4d01-b1bb-51f5b6585d6e>, '60761678736': <AsyncResult: de9e69f0-c861-4654-af65-01f6b9342092>}\n",
      "\n",
      "2 :\n",
      "\n",
      "3 :\n",
      "\n",
      "4 :\n",
      "wait and try ..., \n",
      "wait and try ..., \n",
      "wait and try ..., \n",
      "wait and try ..., \n",
      "wait and try ..., \n",
      "wait and try ..., \n",
      "wait and try ..., \n",
      "wait and try ..., \n",
      "['60761678736', False]\n",
      "['60763079692', False]\n",
      "60761678736 {'60761678736': <AsyncResult: de9e69f0-c861-4654-af65-01f6b9342092>, '60763079692': <AsyncResult: ab56c462-a6aa-4bb4-83f6-71e6bd228b4d>, '60795873605': <AsyncResult: cae135d1-7335-48fc-b1eb-5b5618464f3b>, '60795873604': <AsyncResult: 9f804837-296c-4011-bb5e-e329c783dae6>}\n",
      "60763079692 {'60763079692': <AsyncResult: ab56c462-a6aa-4bb4-83f6-71e6bd228b4d>, '60795873605': <AsyncResult: cae135d1-7335-48fc-b1eb-5b5618464f3b>, '60795873604': <AsyncResult: 9f804837-296c-4011-bb5e-e329c783dae6>}\n",
      "\n",
      "5 :\n",
      "\n",
      "6 :\n",
      "wait and try ..., \n",
      "['60795872811', False]\n",
      "['60795870436', False]\n",
      "60795872811 {'60795873605': <AsyncResult: cae135d1-7335-48fc-b1eb-5b5618464f3b>, '60795873604': <AsyncResult: 9f804837-296c-4011-bb5e-e329c783dae6>, '60795872811': <AsyncResult: 2af52209-9c79-4939-806f-64020a202359>, '60795870436': <AsyncResult: e0575feb-ac3f-480d-a456-48fe71b03c0b>}\n",
      "60795870436 {'60795873605': <AsyncResult: cae135d1-7335-48fc-b1eb-5b5618464f3b>, '60795873604': <AsyncResult: 9f804837-296c-4011-bb5e-e329c783dae6>, '60795870436': <AsyncResult: e0575feb-ac3f-480d-a456-48fe71b03c0b>}\n",
      "\n",
      "7 :\n",
      "\n",
      "8 :\n",
      "wait and try ..., \n",
      "['60795870432', False]\n",
      "['60795868865', False]\n",
      "60795870432 {'60795873605': <AsyncResult: cae135d1-7335-48fc-b1eb-5b5618464f3b>, '60795873604': <AsyncResult: 9f804837-296c-4011-bb5e-e329c783dae6>, '60795870432': <AsyncResult: ade5eea8-e288-43ed-9792-108f289f6792>, '60795868865': <AsyncResult: 5794d029-97f2-43e0-8482-8754a23bc25e>}\n",
      "60795868865 {'60795873605': <AsyncResult: cae135d1-7335-48fc-b1eb-5b5618464f3b>, '60795873604': <AsyncResult: 9f804837-296c-4011-bb5e-e329c783dae6>, '60795868865': <AsyncResult: 5794d029-97f2-43e0-8482-8754a23bc25e>}\n",
      "\n",
      "9 :\n",
      "\n",
      "10 :\n",
      "wait and try ..., \n",
      "['60795873605', False]\n",
      "['60795873604', False]\n",
      "['60763699835', False]\n",
      "['60763082063', False]\n",
      "60795873605 {'60795873605': <AsyncResult: cae135d1-7335-48fc-b1eb-5b5618464f3b>, '60795873604': <AsyncResult: 9f804837-296c-4011-bb5e-e329c783dae6>, '60763699835': <AsyncResult: 31b21aa7-47f5-4cdc-9fdd-1bf42ee78480>, '60763082063': <AsyncResult: b65875a6-7d89-4130-a213-e2e50880a331>}\n",
      "60795873604 {'60795873604': <AsyncResult: 9f804837-296c-4011-bb5e-e329c783dae6>, '60763699835': <AsyncResult: 31b21aa7-47f5-4cdc-9fdd-1bf42ee78480>, '60763082063': <AsyncResult: b65875a6-7d89-4130-a213-e2e50880a331>}\n",
      "60763699835 {'60763699835': <AsyncResult: 31b21aa7-47f5-4cdc-9fdd-1bf42ee78480>, '60763082063': <AsyncResult: b65875a6-7d89-4130-a213-e2e50880a331>}\n",
      "60763082063 {'60763082063': <AsyncResult: b65875a6-7d89-4130-a213-e2e50880a331>}\n",
      "\n",
      "11 :\n",
      "\n",
      "12 :\n",
      "\n",
      "13 :\n",
      "\n",
      "14 :\n",
      "wait and try ..., \n",
      "['60763059667', False]\n",
      "['60762376757', False]\n",
      "60763059667 {'60763059667': <AsyncResult: beed9eaf-608a-4030-8abe-55f23c95db64>, '60762376757': <AsyncResult: d0b7716c-4353-4bb9-9c5c-37a1f470ec22>, '60762376749': <AsyncResult: 8783b220-ea89-46f6-8831-aacf83c075d6>, '60761677147': <AsyncResult: edae5910-8dac-4357-9ca2-7968eb222eae>}\n",
      "60762376757 {'60762376757': <AsyncResult: d0b7716c-4353-4bb9-9c5c-37a1f470ec22>, '60762376749': <AsyncResult: 8783b220-ea89-46f6-8831-aacf83c075d6>, '60761677147': <AsyncResult: edae5910-8dac-4357-9ca2-7968eb222eae>}\n",
      "\n",
      "15 :\n",
      "\n",
      "16 :\n",
      "wait and try ..., \n",
      "['60731611483', False]\n",
      "['60797628053', False]\n",
      "60731611483 {'60762376749': <AsyncResult: 8783b220-ea89-46f6-8831-aacf83c075d6>, '60761677147': <AsyncResult: edae5910-8dac-4357-9ca2-7968eb222eae>, '60731611483': <AsyncResult: fcc76aca-d719-46ab-88e8-eec0b8e3ab17>, '60797628053': <AsyncResult: 1316fa59-bd01-459d-a9ce-8034738bc277>}\n",
      "60797628053 {'60762376749': <AsyncResult: 8783b220-ea89-46f6-8831-aacf83c075d6>, '60761677147': <AsyncResult: edae5910-8dac-4357-9ca2-7968eb222eae>, '60797628053': <AsyncResult: 1316fa59-bd01-459d-a9ce-8034738bc277>}\n",
      "\n",
      "17 :\n",
      "\n",
      "18 :\n",
      "wait and try ..., \n",
      "['60797626442', False]\n",
      "['60797620893', False]\n",
      "60797626442 {'60762376749': <AsyncResult: 8783b220-ea89-46f6-8831-aacf83c075d6>, '60761677147': <AsyncResult: edae5910-8dac-4357-9ca2-7968eb222eae>, '60797626442': <AsyncResult: 8dbecece-68ba-4d0e-8381-e1011c6b9cef>, '60797620893': <AsyncResult: 4ddce06f-4111-4983-b3b3-c5b265cb6ebe>}\n",
      "60797620893 {'60762376749': <AsyncResult: 8783b220-ea89-46f6-8831-aacf83c075d6>, '60761677147': <AsyncResult: edae5910-8dac-4357-9ca2-7968eb222eae>, '60797620893': <AsyncResult: 4ddce06f-4111-4983-b3b3-c5b265cb6ebe>}\n",
      "\n",
      "19 :\n",
      "\n",
      "20 :\n",
      "wait and try ..., \n",
      "['60797620078', False]\n",
      "['60797616096', False]\n",
      "60797620078 {'60762376749': <AsyncResult: 8783b220-ea89-46f6-8831-aacf83c075d6>, '60761677147': <AsyncResult: edae5910-8dac-4357-9ca2-7968eb222eae>, '60797620078': <AsyncResult: bfbf84c8-cd35-4e14-b063-8410ae9b9503>, '60797616096': <AsyncResult: 0c8073f4-3633-4c10-aac9-5da393b0000d>}\n",
      "60797616096 {'60762376749': <AsyncResult: 8783b220-ea89-46f6-8831-aacf83c075d6>, '60761677147': <AsyncResult: edae5910-8dac-4357-9ca2-7968eb222eae>, '60797616096': <AsyncResult: 0c8073f4-3633-4c10-aac9-5da393b0000d>}\n",
      "\n",
      "21 :\n",
      "\n",
      "22 :\n",
      "wait and try ..., \n",
      "['60797615296', False]\n",
      "['60765456615', False]\n",
      "60797615296 {'60762376749': <AsyncResult: 8783b220-ea89-46f6-8831-aacf83c075d6>, '60761677147': <AsyncResult: edae5910-8dac-4357-9ca2-7968eb222eae>, '60797615296': <AsyncResult: f6459432-bd65-43c4-8031-b4bcc2849809>, '60765456615': <AsyncResult: be14bda0-da69-4f5c-bbec-007926633f9b>}\n",
      "60765456615 {'60762376749': <AsyncResult: 8783b220-ea89-46f6-8831-aacf83c075d6>, '60761677147': <AsyncResult: edae5910-8dac-4357-9ca2-7968eb222eae>, '60765456615': <AsyncResult: be14bda0-da69-4f5c-bbec-007926633f9b>}\n",
      "\n",
      "23 :\n",
      "\n",
      "24 :\n",
      "wait and try ..., \n",
      "['60765455801', False]\n",
      "['60765452678', False]\n",
      "60765455801 {'60762376749': <AsyncResult: 8783b220-ea89-46f6-8831-aacf83c075d6>, '60761677147': <AsyncResult: edae5910-8dac-4357-9ca2-7968eb222eae>, '60765455801': <AsyncResult: ec62e5d1-6cd6-4d60-b764-5c92033825ff>, '60765452678': <AsyncResult: 1b596307-916d-4868-864a-72bb6912c114>}\n",
      "60765452678 {'60762376749': <AsyncResult: 8783b220-ea89-46f6-8831-aacf83c075d6>, '60761677147': <AsyncResult: edae5910-8dac-4357-9ca2-7968eb222eae>, '60765452678': <AsyncResult: 1b596307-916d-4868-864a-72bb6912c114>}\n",
      "\n",
      "25 :\n",
      "\n",
      "26 :\n",
      "wait and try ..., \n",
      "['60765452670', False]\n",
      "60765452670 {'60762376749': <AsyncResult: 8783b220-ea89-46f6-8831-aacf83c075d6>, '60761677147': <AsyncResult: edae5910-8dac-4357-9ca2-7968eb222eae>, '60765452670': <AsyncResult: 24638a1d-8de2-405f-8d5b-544300c132b6>, '60764062359': <AsyncResult: d0a9ed1f-eada-4ada-b0ae-78548115b612>}\n",
      "\n",
      "27 :\n",
      "wait and try ..., \n",
      "wait and try ..., \n",
      "wait and try ..., \n",
      "['60762376749', False]\n",
      "60762376749 {'60762376749': <AsyncResult: 8783b220-ea89-46f6-8831-aacf83c075d6>, '60761677147': <AsyncResult: edae5910-8dac-4357-9ca2-7968eb222eae>, '60764062359': <AsyncResult: d0a9ed1f-eada-4ada-b0ae-78548115b612>, '60763612560': <AsyncResult: ed34f9dd-b052-4c9c-abac-28dd887cdf21>}\n",
      "\n",
      "28 :\n",
      "wait and try ..., \n",
      "['60761677147', False]\n",
      "60761677147 {'60761677147': <AsyncResult: edae5910-8dac-4357-9ca2-7968eb222eae>, '60764062359': <AsyncResult: d0a9ed1f-eada-4ada-b0ae-78548115b612>, '60763612560': <AsyncResult: ed34f9dd-b052-4c9c-abac-28dd887cdf21>, '60763610978': <AsyncResult: 87c415fd-45be-41e9-8d81-ad395c8bf180>}\n",
      "\n",
      "29 :\n",
      "wait and try ..., \n",
      "wait and try ..., \n",
      "wait and try ..., \n",
      "wait and try ..., \n",
      "wait and try ..., \n",
      "wait and try ..., \n",
      "wait and try ..., \n",
      "wait and try ..., \n",
      "wait and try ..., \n",
      "wait and try ..., \n",
      "['60764062359', False]\n",
      "['60763610978', False]\n",
      "60764062359 {'60764062359': <AsyncResult: d0a9ed1f-eada-4ada-b0ae-78548115b612>, '60763612560': <AsyncResult: ed34f9dd-b052-4c9c-abac-28dd887cdf21>, '60763610978': <AsyncResult: 87c415fd-45be-41e9-8d81-ad395c8bf180>, '60763610163': <AsyncResult: 9639b953-085b-49a7-a297-10c4437942f3>}\n",
      "60763610978 {'60763612560': <AsyncResult: ed34f9dd-b052-4c9c-abac-28dd887cdf21>, '60763610978': <AsyncResult: 87c415fd-45be-41e9-8d81-ad395c8bf180>, '60763610163': <AsyncResult: 9639b953-085b-49a7-a297-10c4437942f3>}\n",
      "\n",
      "30 :\n",
      "\n"
     ]
    }
   ],
   "source": [
    "# start-process celery -ArgumentList \"worker -A libs.CeleryTasks.tasks -c 4 -l info -Q Eyelashes_PM,celery -n Eyelashes[alibaba]@localhost\"\n",
    "# data = {'price': {'isTieredPricing': False, 'price_range':[0.8, 1.1]}}\n",
    "\n",
    "data = {}\n",
    "data['product_detail'] = {}\n",
    "data['product_detail']['fp'] = {}\n",
    "data['product_detail']['lp'] = '<img src=\"//sc01.alicdn.com/kf/HTB15JbiB2iSBuNkSnhJq6zDcpXaX/231186930/HTB15JbiB2iSBuNkSnhJq6zDcpXaX.jpg\" alt=\"faq and contact\" ori-width=\"750\" ori-height=\"927\" />'\n",
    "\n",
    "model = '51c'\n",
    "\n",
    "count = 0\n",
    "for p in products:\n",
    "    ali_id = p['ali_id']\n",
    "    if ali_id in excepted:\n",
    "        continue\n",
    "    if ali_id in successed:\n",
    "        continue\n",
    "        \n",
    "    if p['pid'].lower().startswith(model):\n",
    "        count += 1\n",
    "        print(count, ':')\n",
    "        data['ali_id'] = ali_id\n",
    "        running_tasks[ali_id] = tasks.alibaba_update_product.apply_async(args=[data], queue='Eyelashes_PM')\n",
    "        \n",
    "        while True:\n",
    "            finished = []\n",
    "            for key in running_tasks:\n",
    "                task_result = running_tasks[key]\n",
    "                if task_result.ready():\n",
    "                    print(task_result.get())\n",
    "                    if task_result.get()[1]:\n",
    "                        successed[key] = p\n",
    "                    finished.append(key)\n",
    "                    \n",
    "            for key in finished:\n",
    "                print(key, running_tasks)\n",
    "                del running_tasks[key]\n",
    "            \n",
    "            if len(running_tasks.keys()) == 4:\n",
    "                print('wait and try ..., ')\n",
    "                time.sleep(1)\n",
    "                continue\n",
    "            else:\n",
    "                print('')\n",
    "                break"
   ]
  },
  {
   "cell_type": "code",
   "execution_count": 13,
   "metadata": {},
   "outputs": [
    {
     "data": {
      "text/plain": [
       "{}"
      ]
     },
     "execution_count": 13,
     "metadata": {},
     "output_type": "execute_result"
    }
   ],
   "source": [
    "successed"
   ]
  },
  {
   "cell_type": "code",
   "execution_count": 55,
   "metadata": {},
   "outputs": [
    {
     "data": {
      "text/plain": [
       "<AsyncResult: acf1b3d1-78e0-44f4-aba4-bc53fec5c6f0>"
      ]
     },
     "execution_count": 55,
     "metadata": {},
     "output_type": "execute_result"
    }
   ],
   "source": [
    "data = {'ali_id':'60765452670'}\n",
    "data['product_detail'] = {}\n",
    "data['product_detail']['fp'] = {}\n",
    "data['product_detail']['lp'] = '<img src=\"//sc01.alicdn.com/kf/HTB15JbiB2iSBuNkSnhJq6zDcpXaX/231186930/HTB15JbiB2iSBuNkSnhJq6zDcpXaX.jpg\" alt=\"faq and contact\" ori-width=\"750\" ori-height=\"927\" />'\n",
    "\n",
    "tasks.alibaba_update_product.apply_async(args=[data], queue='Eyelashes_PM')"
   ]
  },
  {
   "cell_type": "code",
   "execution_count": 10,
   "metadata": {},
   "outputs": [
    {
     "data": {
      "text/plain": [
       "['4556', '3245']"
      ]
     },
     "execution_count": 10,
     "metadata": {},
     "output_type": "execute_result"
    }
   ],
   "source": []
  },
  {
   "cell_type": "code",
   "execution_count": null,
   "metadata": {},
   "outputs": [],
   "source": []
  },
  {
   "cell_type": "code",
   "execution_count": null,
   "metadata": {},
   "outputs": [],
   "source": []
  }
 ],
 "metadata": {
  "kernelspec": {
   "display_name": "Python 3",
   "language": "python",
   "name": "python3"
  },
  "language_info": {
   "codemirror_mode": {
    "name": "ipython",
    "version": 3
   },
   "file_extension": ".py",
   "mimetype": "text/x-python",
   "name": "python",
   "nbconvert_exporter": "python",
   "pygments_lexer": "ipython3",
   "version": "3.6.6"
  }
 },
 "nbformat": 4,
 "nbformat_minor": 2
}
