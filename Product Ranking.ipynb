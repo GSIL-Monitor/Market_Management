{
 "cells": [
  {
   "cell_type": "code",
   "execution_count": 1,
   "metadata": {},
   "outputs": [],
   "source": [
    "# from libs.alibaba.visitor import Visitor\n",
    "from libs.alibaba.alibaba import Alibaba\n",
    "from libs.json import JSON\n",
    "from openpyxl import load_workbook\n",
    "from selenium.webdriver.common.keys import Keys\n",
    "from selenium.webdriver.common.action_chains import ActionChains\n",
    "from selenium import webdriver\n",
    "from selenium.webdriver.common.by import By\n",
    "from selenium.webdriver.support.ui import WebDriverWait\n",
    "from selenium.webdriver.support import expected_conditions as EC\n",
    "from selenium.common.exceptions import WebDriverException\n",
    "from selenium.common.exceptions import NoSuchElementException\n",
    "from selenium.common.exceptions import TimeoutException\n",
    "from selenium.common.exceptions import StaleElementReferenceException\n",
    "from selenium.webdriver.support.select import Select\n",
    "from bs4 import BeautifulSoup\n",
    "from pyquery import PyQuery as pq\n",
    "from libs.CeleryTasks import tasks\n",
    "import html\n",
    "import time\n",
    "import re\n",
    "import os\n",
    "import traceback\n",
    "import types\n",
    "import pendulum"
   ]
  },
  {
   "cell_type": "code",
   "execution_count": 2,
   "metadata": {},
   "outputs": [
    {
     "name": "stdout",
     "output_type": "stream",
     "text": [
      ". storage markets.json\n",
      ".\\storage\\markets.json was deserialized!\n"
     ]
    }
   ],
   "source": [
    "market = JSON.deserialize('.', 'storage', 'markets.json')['Eyelashes']"
   ]
  },
  {
   "cell_type": "code",
   "execution_count": 3,
   "metadata": {},
   "outputs": [],
   "source": [
    "class Product_Ranking:\n",
    "    api = 'https://hz-productposting.alibaba.com/product/ranksearch/rankSearch.htm'\n",
    "    browser = None\n",
    "    \n",
    "    def __init__(self, market, headless=True, browser=None):\n",
    "        self.market = market\n",
    "        self.lid = market['lid']\n",
    "        self.lpwd = market['lpwd']\n",
    "\n",
    "        self.alibaba = None\n",
    "        self.browser = browser\n",
    "        self.headless = headless\n",
    "        \n",
    "    def login(self):\n",
    "        self.alibaba = Alibaba(self.lid, self.lpwd, headless=self.headless, browser=self.browser)\n",
    "        self.alibaba.login()\n",
    "        self.browser = self.alibaba.browser\n",
    "        \n",
    "    def find_product_rank(self, kw, product_id):\n",
    "        result = None\n",
    "        input = self.browser.find_element_by_css_selector('#queryString')\n",
    "        input.send_keys(Keys.CONTROL, 'a')\n",
    "        input.send_keys(kw)\n",
    "        input.send_keys(Keys.RETURN)\n",
    "\n",
    "        css_table = '#rank-searech-table'\n",
    "        table = WebDriverWait(self.browser, 10).until(\n",
    "            EC.presence_of_element_located((By.CSS_SELECTOR, css_table))\n",
    "        )\n",
    "        for tr in table.find_elements_by_css_selector('tbody tr'):\n",
    "            if '无匹配结果' in tr.text:\n",
    "                return None\n",
    "            a = tr.find_element_by_css_selector('td.products a')\n",
    "            if product_id in a.get_attribute('href'):\n",
    "                a = tr.find_element_by_css_selector('td.ranking a')\n",
    "                url = a.get_attribute('href')\n",
    "                text = a.text\n",
    "                page = re.search('约第(\\d+)页，第(\\d+)位', text).group(1)\n",
    "                pos = re.search('约第(\\d+)页，第(\\d+)位', text).group(2)\n",
    "                result = {'keyword':kw, 'url':url, 'page':page, 'position':pos}\n",
    "                break\n",
    "        return result\n",
    "    \n",
    "    def fill_excel_file(self, file):\n",
    "        wb = load_workbook(file)\n",
    "        sheet = wb.worksheets[0]\n",
    "        pid = str(sheet.cell(row=1,column=2).value)\n",
    "        for i in range(7, 9999):\n",
    "            cell = sheet.cell(row=i,column=1)\n",
    "            kw = cell.value\n",
    "            if kw is None:\n",
    "                break\n",
    "            print(kw, end='\\t')\n",
    "            ranking = self.find_product_rank(kw, pid)\n",
    "            if ranking:\n",
    "                result = ranking['page'] + '-' + ranking['position']\n",
    "            else:\n",
    "                result = 'X'\n",
    "            cell = sheet.cell(row=i,column=2)\n",
    "            cell.value = result\n",
    "            print(result)\n",
    "        wb.save(file)\n",
    "        \n",
    "    def find_keyword_ranking(self, kw):\n",
    "\n",
    "        result = []\n",
    "        input = self.browser.find_element_by_css_selector('#queryString')\n",
    "        input.send_keys(Keys.CONTROL, 'a')\n",
    "        input.send_keys(kw)\n",
    "        input.send_keys(Keys.RETURN)\n",
    "\n",
    "        css_table = '#rank-searech-table'\n",
    "        table = WebDriverWait(self.browser, 10).until(\n",
    "            EC.presence_of_element_located((By.CSS_SELECTOR, css_table))\n",
    "        )\n",
    "\n",
    "        for tr in table.find_elements_by_css_selector('tbody tr'):\n",
    "            if '无匹配结果' in tr.text:\n",
    "                break\n",
    "            a = tr.find_element_by_css_selector('td.products a')\n",
    "            url = a.get_attribute('href')\n",
    "            ali_id = re.search('\\?id=(\\d+)', url).group(1)\n",
    "            a = tr.find_element_by_css_selector('td.ranking a')\n",
    "            text = a.text\n",
    "            page = re.search('约第(\\d+)页，第(\\d+)位', text).group(1)\n",
    "            pos = re.search('约第(\\d+)页，第(\\d+)位', text).group(2)\n",
    "\n",
    "            result.append({'keyword':kw, 'url':url, 'ali_id': ali_id, 'page':page, 'position': pos})\n",
    "            break\n",
    "        return result"
   ]
  },
  {
   "cell_type": "code",
   "execution_count": 41,
   "metadata": {},
   "outputs": [],
   "source": [
    "def fill_excel_file(self, file):\n",
    "    wb = load_workbook(file)\n",
    "    sheet = wb.worksheets[0]\n",
    "    pid = str(sheet.cell(row=1,column=2).value)\n",
    "    for i in range(7, 9999):\n",
    "        cell = sheet.cell(row=i,column=1)\n",
    "        kw = cell.value\n",
    "        if kw is None:\n",
    "            break\n",
    "        print(kw, end='\\t')\n",
    "        ranking = self.find_product_rank(kw, pid)\n",
    "        if ranking:\n",
    "            result = ranking['page'] + '-' + ranking['position']\n",
    "        else:\n",
    "            result = 'X'\n",
    "        cell = sheet.cell(row=i,column=2)\n",
    "        cell.value = result\n",
    "        print(result)\n",
    "    wb.save(file)\n",
    "    \n",
    "pr.fill_excel_file = types.MethodType(fill_excel_file, pr)"
   ]
  },
  {
   "cell_type": "code",
   "execution_count": 77,
   "metadata": {},
   "outputs": [],
   "source": [
    "def find_keyword_ranking(self, kw):\n",
    "    \n",
    "    result = []\n",
    "    input = self.browser.find_element_by_css_selector('#queryString')\n",
    "    input.send_keys(Keys.CONTROL, 'a')\n",
    "    input.send_keys(kw)\n",
    "    input.send_keys(Keys.RETURN)\n",
    "\n",
    "    css_table = '#rank-searech-table'\n",
    "    table = WebDriverWait(self.browser, 10).until(\n",
    "        EC.presence_of_element_located((By.CSS_SELECTOR, css_table))\n",
    "    )\n",
    "    \n",
    "    for tr in table.find_elements_by_css_selector('tbody tr'):\n",
    "#         tr = table.find_element_by_css_selector('tbody tr')\n",
    "        if '无匹配结果' in tr.text:\n",
    "            break\n",
    "        a = tr.find_element_by_css_selector('td.products a')\n",
    "        url = a.get_attribute('href')\n",
    "        ali_id = re.search('\\?id=(\\d+)', url).group(1)\n",
    "        a = tr.find_element_by_css_selector('td.ranking a')\n",
    "        text = a.text\n",
    "        page = re.search('约第(\\d+)页，第(\\d+)位', text).group(1)\n",
    "        pos = re.search('约第(\\d+)页，第(\\d+)位', text).group(2)\n",
    "\n",
    "        result.append({'keyword':kw, 'url':url, 'ali_id': ali_id, 'page':page, 'position': pos})\n",
    "        break\n",
    "    return result\n",
    "pr.find_keyword_ranking = types.MethodType(find_keyword_ranking, pr)"
   ]
  },
  {
   "cell_type": "code",
   "execution_count": 4,
   "metadata": {},
   "outputs": [],
   "source": [
    "pr = Product_Ranking(market, headless=False)"
   ]
  },
  {
   "cell_type": "code",
   "execution_count": 5,
   "metadata": {},
   "outputs": [
    {
     "name": "stdout",
     "output_type": "stream",
     "text": [
      "primary 打开网址：https://i.alibaba.com\n",
      "primary 等待登陆页面加载 ... ...\n",
      "primary 输入登录信息， 并登录\n",
      "success 成功 登录 阿里巴巴 国际站！用户名：Jeremy\n"
     ]
    }
   ],
   "source": [
    "pr.login()"
   ]
  },
  {
   "cell_type": "code",
   "execution_count": 8,
   "metadata": {},
   "outputs": [],
   "source": [
    "pr.browser.get(pr.api)"
   ]
  },
  {
   "cell_type": "code",
   "execution_count": null,
   "metadata": {},
   "outputs": [],
   "source": [
    "#pr.find_keyword_ranking('mink eyelash')"
   ]
  },
  {
   "cell_type": "code",
   "execution_count": 8,
   "metadata": {},
   "outputs": [],
   "source": [
    "pr.find_product_rank(kw, pid)"
   ]
  },
  {
   "cell_type": "code",
   "execution_count": 12,
   "metadata": {},
   "outputs": [
    {
     "name": "stdout",
     "output_type": "stream",
     "text": [
      "blooming eyelash extension\tX\n",
      "blooming eyelash\t"
     ]
    },
    {
     "ename": "UnexpectedAlertPresentException",
     "evalue": "Alert Text: None\nMessage: unexpected alert open: {Alert text : 必须输入英文搜索关键词}\n  (Session info: chrome=69.0.3497.100)\n  (Driver info: chromedriver=2.40.565498 (ea082db3280dd6843ebfb08a625e3eb905c4f5ab),platform=Windows NT 10.0.17134 x86_64)\n",
     "output_type": "error",
     "traceback": [
      "\u001b[1;31m---------------------------------------------------------------------------\u001b[0m",
      "\u001b[1;31mUnexpectedAlertPresentException\u001b[0m           Traceback (most recent call last)",
      "\u001b[1;32m<ipython-input-12-bf6e6c7b3268>\u001b[0m in \u001b[0;36m<module>\u001b[1;34m()\u001b[0m\n\u001b[0;32m      1\u001b[0m \u001b[0mfiles\u001b[0m \u001b[1;33m=\u001b[0m \u001b[1;33m[\u001b[0m\u001b[1;34m'product_ranking_eyelash_extension.xlsx'\u001b[0m\u001b[1;33m,\u001b[0m \u001b[1;34m'product ranking magnetic eyelash.xlsx'\u001b[0m\u001b[1;33m,\u001b[0m \u001b[1;34m'product_ranking_Easy_Fan_Lashes.xlsx'\u001b[0m\u001b[1;33m]\u001b[0m\u001b[1;33m\u001b[0m\u001b[0m\n\u001b[0;32m      2\u001b[0m \u001b[0mfile\u001b[0m \u001b[1;33m=\u001b[0m \u001b[0mfiles\u001b[0m\u001b[1;33m[\u001b[0m\u001b[1;36m2\u001b[0m\u001b[1;33m]\u001b[0m\u001b[1;33m\u001b[0m\u001b[0m\n\u001b[1;32m----> 3\u001b[1;33m \u001b[0mpr\u001b[0m\u001b[1;33m.\u001b[0m\u001b[0mfill_excel_file\u001b[0m\u001b[1;33m(\u001b[0m\u001b[0mfile\u001b[0m\u001b[1;33m)\u001b[0m\u001b[1;33m\u001b[0m\u001b[0m\n\u001b[0m",
      "\u001b[1;32m<ipython-input-3-3dcd5c995af7>\u001b[0m in \u001b[0;36mfill_excel_file\u001b[1;34m(self, file)\u001b[0m\n\u001b[0;32m     52\u001b[0m                 \u001b[1;32mbreak\u001b[0m\u001b[1;33m\u001b[0m\u001b[0m\n\u001b[0;32m     53\u001b[0m             \u001b[0mprint\u001b[0m\u001b[1;33m(\u001b[0m\u001b[0mkw\u001b[0m\u001b[1;33m,\u001b[0m \u001b[0mend\u001b[0m\u001b[1;33m=\u001b[0m\u001b[1;34m'\\t'\u001b[0m\u001b[1;33m)\u001b[0m\u001b[1;33m\u001b[0m\u001b[0m\n\u001b[1;32m---> 54\u001b[1;33m             \u001b[0mranking\u001b[0m \u001b[1;33m=\u001b[0m \u001b[0mself\u001b[0m\u001b[1;33m.\u001b[0m\u001b[0mfind_product_rank\u001b[0m\u001b[1;33m(\u001b[0m\u001b[0mkw\u001b[0m\u001b[1;33m,\u001b[0m \u001b[0mpid\u001b[0m\u001b[1;33m)\u001b[0m\u001b[1;33m\u001b[0m\u001b[0m\n\u001b[0m\u001b[0;32m     55\u001b[0m             \u001b[1;32mif\u001b[0m \u001b[0mranking\u001b[0m\u001b[1;33m:\u001b[0m\u001b[1;33m\u001b[0m\u001b[0m\n\u001b[0;32m     56\u001b[0m                 \u001b[0mresult\u001b[0m \u001b[1;33m=\u001b[0m \u001b[0mranking\u001b[0m\u001b[1;33m[\u001b[0m\u001b[1;34m'page'\u001b[0m\u001b[1;33m]\u001b[0m \u001b[1;33m+\u001b[0m \u001b[1;34m'-'\u001b[0m \u001b[1;33m+\u001b[0m \u001b[0mranking\u001b[0m\u001b[1;33m[\u001b[0m\u001b[1;34m'position'\u001b[0m\u001b[1;33m]\u001b[0m\u001b[1;33m\u001b[0m\u001b[0m\n",
      "\u001b[1;32m<ipython-input-3-3dcd5c995af7>\u001b[0m in \u001b[0;36mfind_product_rank\u001b[1;34m(self, kw, product_id)\u001b[0m\n\u001b[0;32m     26\u001b[0m         \u001b[0mcss_table\u001b[0m \u001b[1;33m=\u001b[0m \u001b[1;34m'#rank-searech-table'\u001b[0m\u001b[1;33m\u001b[0m\u001b[0m\n\u001b[0;32m     27\u001b[0m         table = WebDriverWait(self.browser, 10).until(\n\u001b[1;32m---> 28\u001b[1;33m             \u001b[0mEC\u001b[0m\u001b[1;33m.\u001b[0m\u001b[0mpresence_of_element_located\u001b[0m\u001b[1;33m(\u001b[0m\u001b[1;33m(\u001b[0m\u001b[0mBy\u001b[0m\u001b[1;33m.\u001b[0m\u001b[0mCSS_SELECTOR\u001b[0m\u001b[1;33m,\u001b[0m \u001b[0mcss_table\u001b[0m\u001b[1;33m)\u001b[0m\u001b[1;33m)\u001b[0m\u001b[1;33m\u001b[0m\u001b[0m\n\u001b[0m\u001b[0;32m     29\u001b[0m         )\n\u001b[0;32m     30\u001b[0m         \u001b[1;32mfor\u001b[0m \u001b[0mtr\u001b[0m \u001b[1;32min\u001b[0m \u001b[0mtable\u001b[0m\u001b[1;33m.\u001b[0m\u001b[0mfind_elements_by_css_selector\u001b[0m\u001b[1;33m(\u001b[0m\u001b[1;34m'tbody tr'\u001b[0m\u001b[1;33m)\u001b[0m\u001b[1;33m:\u001b[0m\u001b[1;33m\u001b[0m\u001b[0m\n",
      "\u001b[1;32me:\\worksp~1\\python\\market~1\\venv\\lib\\site-packages\\selenium\\webdriver\\support\\wait.py\u001b[0m in \u001b[0;36muntil\u001b[1;34m(self, method, message)\u001b[0m\n\u001b[0;32m     69\u001b[0m         \u001b[1;32mwhile\u001b[0m \u001b[1;32mTrue\u001b[0m\u001b[1;33m:\u001b[0m\u001b[1;33m\u001b[0m\u001b[0m\n\u001b[0;32m     70\u001b[0m             \u001b[1;32mtry\u001b[0m\u001b[1;33m:\u001b[0m\u001b[1;33m\u001b[0m\u001b[0m\n\u001b[1;32m---> 71\u001b[1;33m                 \u001b[0mvalue\u001b[0m \u001b[1;33m=\u001b[0m \u001b[0mmethod\u001b[0m\u001b[1;33m(\u001b[0m\u001b[0mself\u001b[0m\u001b[1;33m.\u001b[0m\u001b[0m_driver\u001b[0m\u001b[1;33m)\u001b[0m\u001b[1;33m\u001b[0m\u001b[0m\n\u001b[0m\u001b[0;32m     72\u001b[0m                 \u001b[1;32mif\u001b[0m \u001b[0mvalue\u001b[0m\u001b[1;33m:\u001b[0m\u001b[1;33m\u001b[0m\u001b[0m\n\u001b[0;32m     73\u001b[0m                     \u001b[1;32mreturn\u001b[0m \u001b[0mvalue\u001b[0m\u001b[1;33m\u001b[0m\u001b[0m\n",
      "\u001b[1;32me:\\worksp~1\\python\\market~1\\venv\\lib\\site-packages\\selenium\\webdriver\\support\\expected_conditions.py\u001b[0m in \u001b[0;36m__call__\u001b[1;34m(self, driver)\u001b[0m\n\u001b[0;32m     62\u001b[0m \u001b[1;33m\u001b[0m\u001b[0m\n\u001b[0;32m     63\u001b[0m     \u001b[1;32mdef\u001b[0m \u001b[0m__call__\u001b[0m\u001b[1;33m(\u001b[0m\u001b[0mself\u001b[0m\u001b[1;33m,\u001b[0m \u001b[0mdriver\u001b[0m\u001b[1;33m)\u001b[0m\u001b[1;33m:\u001b[0m\u001b[1;33m\u001b[0m\u001b[0m\n\u001b[1;32m---> 64\u001b[1;33m         \u001b[1;32mreturn\u001b[0m \u001b[0m_find_element\u001b[0m\u001b[1;33m(\u001b[0m\u001b[0mdriver\u001b[0m\u001b[1;33m,\u001b[0m \u001b[0mself\u001b[0m\u001b[1;33m.\u001b[0m\u001b[0mlocator\u001b[0m\u001b[1;33m)\u001b[0m\u001b[1;33m\u001b[0m\u001b[0m\n\u001b[0m\u001b[0;32m     65\u001b[0m \u001b[1;33m\u001b[0m\u001b[0m\n\u001b[0;32m     66\u001b[0m \u001b[1;33m\u001b[0m\u001b[0m\n",
      "\u001b[1;32me:\\worksp~1\\python\\market~1\\venv\\lib\\site-packages\\selenium\\webdriver\\support\\expected_conditions.py\u001b[0m in \u001b[0;36m_find_element\u001b[1;34m(driver, by)\u001b[0m\n\u001b[0;32m    413\u001b[0m         \u001b[1;32mraise\u001b[0m \u001b[0me\u001b[0m\u001b[1;33m\u001b[0m\u001b[0m\n\u001b[0;32m    414\u001b[0m     \u001b[1;32mexcept\u001b[0m \u001b[0mWebDriverException\u001b[0m \u001b[1;32mas\u001b[0m \u001b[0me\u001b[0m\u001b[1;33m:\u001b[0m\u001b[1;33m\u001b[0m\u001b[0m\n\u001b[1;32m--> 415\u001b[1;33m         \u001b[1;32mraise\u001b[0m \u001b[0me\u001b[0m\u001b[1;33m\u001b[0m\u001b[0m\n\u001b[0m\u001b[0;32m    416\u001b[0m \u001b[1;33m\u001b[0m\u001b[0m\n\u001b[0;32m    417\u001b[0m \u001b[1;33m\u001b[0m\u001b[0m\n",
      "\u001b[1;32me:\\worksp~1\\python\\market~1\\venv\\lib\\site-packages\\selenium\\webdriver\\support\\expected_conditions.py\u001b[0m in \u001b[0;36m_find_element\u001b[1;34m(driver, by)\u001b[0m\n\u001b[0;32m    409\u001b[0m     if thrown.\"\"\"\n\u001b[0;32m    410\u001b[0m     \u001b[1;32mtry\u001b[0m\u001b[1;33m:\u001b[0m\u001b[1;33m\u001b[0m\u001b[0m\n\u001b[1;32m--> 411\u001b[1;33m         \u001b[1;32mreturn\u001b[0m \u001b[0mdriver\u001b[0m\u001b[1;33m.\u001b[0m\u001b[0mfind_element\u001b[0m\u001b[1;33m(\u001b[0m\u001b[1;33m*\u001b[0m\u001b[0mby\u001b[0m\u001b[1;33m)\u001b[0m\u001b[1;33m\u001b[0m\u001b[0m\n\u001b[0m\u001b[0;32m    412\u001b[0m     \u001b[1;32mexcept\u001b[0m \u001b[0mNoSuchElementException\u001b[0m \u001b[1;32mas\u001b[0m \u001b[0me\u001b[0m\u001b[1;33m:\u001b[0m\u001b[1;33m\u001b[0m\u001b[0m\n\u001b[0;32m    413\u001b[0m         \u001b[1;32mraise\u001b[0m \u001b[0me\u001b[0m\u001b[1;33m\u001b[0m\u001b[0m\n",
      "\u001b[1;32me:\\worksp~1\\python\\market~1\\venv\\lib\\site-packages\\selenium\\webdriver\\remote\\webdriver.py\u001b[0m in \u001b[0;36mfind_element\u001b[1;34m(self, by, value)\u001b[0m\n\u001b[0;32m    964\u001b[0m         return self.execute(Command.FIND_ELEMENT, {\n\u001b[0;32m    965\u001b[0m             \u001b[1;34m'using'\u001b[0m\u001b[1;33m:\u001b[0m \u001b[0mby\u001b[0m\u001b[1;33m,\u001b[0m\u001b[1;33m\u001b[0m\u001b[0m\n\u001b[1;32m--> 966\u001b[1;33m             'value': value})['value']\n\u001b[0m\u001b[0;32m    967\u001b[0m \u001b[1;33m\u001b[0m\u001b[0m\n\u001b[0;32m    968\u001b[0m     \u001b[1;32mdef\u001b[0m \u001b[0mfind_elements\u001b[0m\u001b[1;33m(\u001b[0m\u001b[0mself\u001b[0m\u001b[1;33m,\u001b[0m \u001b[0mby\u001b[0m\u001b[1;33m=\u001b[0m\u001b[0mBy\u001b[0m\u001b[1;33m.\u001b[0m\u001b[0mID\u001b[0m\u001b[1;33m,\u001b[0m \u001b[0mvalue\u001b[0m\u001b[1;33m=\u001b[0m\u001b[1;32mNone\u001b[0m\u001b[1;33m)\u001b[0m\u001b[1;33m:\u001b[0m\u001b[1;33m\u001b[0m\u001b[0m\n",
      "\u001b[1;32me:\\worksp~1\\python\\market~1\\venv\\lib\\site-packages\\selenium\\webdriver\\remote\\webdriver.py\u001b[0m in \u001b[0;36mexecute\u001b[1;34m(self, driver_command, params)\u001b[0m\n\u001b[0;32m    318\u001b[0m         \u001b[0mresponse\u001b[0m \u001b[1;33m=\u001b[0m \u001b[0mself\u001b[0m\u001b[1;33m.\u001b[0m\u001b[0mcommand_executor\u001b[0m\u001b[1;33m.\u001b[0m\u001b[0mexecute\u001b[0m\u001b[1;33m(\u001b[0m\u001b[0mdriver_command\u001b[0m\u001b[1;33m,\u001b[0m \u001b[0mparams\u001b[0m\u001b[1;33m)\u001b[0m\u001b[1;33m\u001b[0m\u001b[0m\n\u001b[0;32m    319\u001b[0m         \u001b[1;32mif\u001b[0m \u001b[0mresponse\u001b[0m\u001b[1;33m:\u001b[0m\u001b[1;33m\u001b[0m\u001b[0m\n\u001b[1;32m--> 320\u001b[1;33m             \u001b[0mself\u001b[0m\u001b[1;33m.\u001b[0m\u001b[0merror_handler\u001b[0m\u001b[1;33m.\u001b[0m\u001b[0mcheck_response\u001b[0m\u001b[1;33m(\u001b[0m\u001b[0mresponse\u001b[0m\u001b[1;33m)\u001b[0m\u001b[1;33m\u001b[0m\u001b[0m\n\u001b[0m\u001b[0;32m    321\u001b[0m             response['value'] = self._unwrap_value(\n\u001b[0;32m    322\u001b[0m                 response.get('value', None))\n",
      "\u001b[1;32me:\\worksp~1\\python\\market~1\\venv\\lib\\site-packages\\selenium\\webdriver\\remote\\errorhandler.py\u001b[0m in \u001b[0;36mcheck_response\u001b[1;34m(self, response)\u001b[0m\n\u001b[0;32m    239\u001b[0m             \u001b[1;32melif\u001b[0m \u001b[1;34m'alert'\u001b[0m \u001b[1;32min\u001b[0m \u001b[0mvalue\u001b[0m\u001b[1;33m:\u001b[0m\u001b[1;33m\u001b[0m\u001b[0m\n\u001b[0;32m    240\u001b[0m                 \u001b[0malert_text\u001b[0m \u001b[1;33m=\u001b[0m \u001b[0mvalue\u001b[0m\u001b[1;33m[\u001b[0m\u001b[1;34m'alert'\u001b[0m\u001b[1;33m]\u001b[0m\u001b[1;33m.\u001b[0m\u001b[0mget\u001b[0m\u001b[1;33m(\u001b[0m\u001b[1;34m'text'\u001b[0m\u001b[1;33m)\u001b[0m\u001b[1;33m\u001b[0m\u001b[0m\n\u001b[1;32m--> 241\u001b[1;33m             \u001b[1;32mraise\u001b[0m \u001b[0mexception_class\u001b[0m\u001b[1;33m(\u001b[0m\u001b[0mmessage\u001b[0m\u001b[1;33m,\u001b[0m \u001b[0mscreen\u001b[0m\u001b[1;33m,\u001b[0m \u001b[0mstacktrace\u001b[0m\u001b[1;33m,\u001b[0m \u001b[0malert_text\u001b[0m\u001b[1;33m)\u001b[0m\u001b[1;33m\u001b[0m\u001b[0m\n\u001b[0m\u001b[0;32m    242\u001b[0m         \u001b[1;32mraise\u001b[0m \u001b[0mexception_class\u001b[0m\u001b[1;33m(\u001b[0m\u001b[0mmessage\u001b[0m\u001b[1;33m,\u001b[0m \u001b[0mscreen\u001b[0m\u001b[1;33m,\u001b[0m \u001b[0mstacktrace\u001b[0m\u001b[1;33m)\u001b[0m\u001b[1;33m\u001b[0m\u001b[0m\n\u001b[0;32m    243\u001b[0m \u001b[1;33m\u001b[0m\u001b[0m\n",
      "\u001b[1;31mUnexpectedAlertPresentException\u001b[0m: Alert Text: None\nMessage: unexpected alert open: {Alert text : 必须输入英文搜索关键词}\n  (Session info: chrome=69.0.3497.100)\n  (Driver info: chromedriver=2.40.565498 (ea082db3280dd6843ebfb08a625e3eb905c4f5ab),platform=Windows NT 10.0.17134 x86_64)\n"
     ]
    }
   ],
   "source": [
    "files = ['product_ranking_eyelash_extension.xlsx', 'product ranking magnetic eyelash.xlsx', 'product_ranking_Easy_Fan_Lashes.xlsx']\n",
    "file = files[2]\n",
    "pr.fill_excel_file(file)"
   ]
  },
  {
   "cell_type": "code",
   "execution_count": null,
   "metadata": {
    "scrolled": true
   },
   "outputs": [],
   "source": [
    "product_ranking_overview"
   ]
  },
  {
   "cell_type": "code",
   "execution_count": 65,
   "metadata": {},
   "outputs": [],
   "source": [
    "%store -r sorted_kws"
   ]
  },
  {
   "cell_type": "code",
   "execution_count": null,
   "metadata": {},
   "outputs": [],
   "source": [
    "products = pr.alibaba.get_posted_product_info(999)"
   ]
  },
  {
   "cell_type": "code",
   "execution_count": 94,
   "metadata": {},
   "outputs": [],
   "source": [
    "ps = {}\n",
    "for p in products:\n",
    "    ps[p['ali_id']] = p"
   ]
  },
  {
   "cell_type": "code",
   "execution_count": null,
   "metadata": {},
   "outputs": [],
   "source": [
    "file = 'products ranking overview.xlsx'\n",
    "wb = load_workbook(file)\n",
    "sheet = wb.worksheets[0]\n",
    "for i in range(1,999):\n",
    "    kw = sheet.cell(row=i,column=2).value\n",
    "    if kw is None:\n",
    "        break\n",
    "    print(sheet.cell(row=i,column=1).value, kw, end=\"\\t\")\n",
    "    while True:\n",
    "        try:\n",
    "            result = pr.find_keyword_ranking(kw)\n",
    "            break\n",
    "        except TimeoutException:\n",
    "            pr.browser.get(pr.api)\n",
    "            continue\n",
    "    if result:\n",
    "        fp = result[0]\n",
    "        p = ps[fp['ali_id']]\n",
    "        sheet.cell(row=i, column=3).value = fp['page']\n",
    "        sheet.cell(row=i, column=4).value = fp['position']\n",
    "        sheet.cell(row=i, column=5).value = fp['ali_id']\n",
    "        sheet.cell(row=i, column=6).value = p['pid']\n",
    "        sheet.cell(row=i, column=7).value = p['title']\n",
    "    else:\n",
    "        sheet.cell(row=i, column=3).value = ' '\n",
    "        sheet.cell(row=i, column=4).value = ' '\n",
    "        sheet.cell(row=i, column=5).value = ' '\n",
    "        sheet.cell(row=i, column=6).value = ' '\n",
    "        sheet.cell(row=i, column=7).value = ' '\n",
    "        \n",
    "    print(fp['page'], fp['position'], fp['ali_id'], p['pid'], p['title'])\n",
    "#     break\n",
    "wb.save(file)"
   ]
  },
  {
   "cell_type": "code",
   "execution_count": null,
   "metadata": {},
   "outputs": [],
   "source": []
  },
  {
   "cell_type": "code",
   "execution_count": 100,
   "metadata": {},
   "outputs": [],
   "source": []
  },
  {
   "cell_type": "code",
   "execution_count": null,
   "metadata": {},
   "outputs": [],
   "source": []
  }
 ],
 "metadata": {
  "kernelspec": {
   "display_name": "Python 3",
   "language": "python",
   "name": "python3"
  },
  "language_info": {
   "codemirror_mode": {
    "name": "ipython",
    "version": 3
   },
   "file_extension": ".py",
   "mimetype": "text/x-python",
   "name": "python",
   "nbconvert_exporter": "python",
   "pygments_lexer": "ipython3",
   "version": "3.6.6"
  }
 },
 "nbformat": 4,
 "nbformat_minor": 2
}
