{
 "cells": [
  {
   "cell_type": "code",
   "execution_count": 2,
   "metadata": {},
   "outputs": [],
   "source": [
    "# from libs.alibaba.visitor import Visitor\n",
    "from libs.alibaba.alibaba import Alibaba\n",
    "from libs.json import JSON\n",
    "from openpyxl import load_workbook\n",
    "from selenium.webdriver.common.keys import Keys\n",
    "from selenium.webdriver.common.action_chains import ActionChains\n",
    "from selenium import webdriver\n",
    "from selenium.webdriver.common.by import By\n",
    "from selenium.webdriver.support.ui import WebDriverWait\n",
    "from selenium.webdriver.support import expected_conditions as EC\n",
    "from selenium.common.exceptions import WebDriverException\n",
    "from selenium.common.exceptions import NoSuchElementException\n",
    "from selenium.common.exceptions import TimeoutException\n",
    "from selenium.common.exceptions import StaleElementReferenceException\n",
    "from selenium.webdriver.support.select import Select\n",
    "from bs4 import BeautifulSoup\n",
    "from pyquery import PyQuery as pq\n",
    "from libs.CeleryTasks import tasks\n",
    "import html\n",
    "import time\n",
    "import re\n",
    "import os\n",
    "import traceback\n",
    "import types\n",
    "import pendulum"
   ]
  },
  {
   "cell_type": "code",
   "execution_count": 3,
   "metadata": {},
   "outputs": [
    {
     "name": "stdout",
     "output_type": "stream",
     "text": [
      ". storage markets.json\n",
      ".\\storage\\markets.json was deserialized!\n"
     ]
    }
   ],
   "source": [
    "market = JSON.deserialize('.', 'storage', 'markets.json')['Eyelashes']"
   ]
  },
  {
   "cell_type": "code",
   "execution_count": 4,
   "metadata": {},
   "outputs": [],
   "source": [
    "class Product_Ranking:\n",
    "    api = 'https://hz-productposting.alibaba.com/product/ranksearch/rankSearch.htm'\n",
    "    browser = None\n",
    "    \n",
    "    def __init__(self, market, headless=True, browser=None):\n",
    "        self.market = market\n",
    "        self.lid = market['lid']\n",
    "        self.lpwd = market['lpwd']\n",
    "\n",
    "        self.alibaba = None\n",
    "        self.browser = browser\n",
    "        self.headless = headless\n",
    "        \n",
    "    def login(self):\n",
    "        self.alibaba = Alibaba(self.lid, self.lpwd, headless=self.headless, browser=self.browser)\n",
    "        self.alibaba.login()\n",
    "        self.browser = self.alibaba.browser"
   ]
  },
  {
   "cell_type": "code",
   "execution_count": 5,
   "metadata": {},
   "outputs": [],
   "source": [
    "pr = Product_Ranking(market, headless=False)"
   ]
  },
  {
   "cell_type": "code",
   "execution_count": 9,
   "metadata": {},
   "outputs": [],
   "source": []
  },
  {
   "cell_type": "code",
   "execution_count": 6,
   "metadata": {},
   "outputs": [
    {
     "name": "stdout",
     "output_type": "stream",
     "text": [
      "primary 打开网址：https://i.alibaba.com\n",
      "primary 等待登陆页面加载 ... ...\n",
      "primary 输入登录信息， 并登录\n",
      "success 成功 登录 阿里巴巴 国际站！用户名：Jeremy\n"
     ]
    }
   ],
   "source": [
    "pr.login()"
   ]
  },
  {
   "cell_type": "code",
   "execution_count": 8,
   "metadata": {},
   "outputs": [],
   "source": [
    "pr.browser.get(pr.api)"
   ]
  },
  {
   "cell_type": "code",
   "execution_count": 51,
   "metadata": {},
   "outputs": [],
   "source": [
    "def find_product_rank(self, kw, product_id):\n",
    "    result = None\n",
    "    input = self.browser.find_element_by_css_selector('#queryString')\n",
    "    input.send_keys(Keys.CONTROL, 'a')\n",
    "    input.send_keys(kw)\n",
    "    input.send_keys(Keys.RETURN)\n",
    "    \n",
    "    css_table = '#rank-searech-table'\n",
    "    table = WebDriverWait(self.browser, 10).until(\n",
    "        EC.presence_of_element_located((By.CSS_SELECTOR, css_table))\n",
    "    )\n",
    "    for tr in table.find_elements_by_css_selector('tbody tr'):\n",
    "        a = tr.find_element_by_css_selector('td.products a')\n",
    "        if product_id in a.get_attribute('href'):\n",
    "            a = tr.find_element_by_css_selector('td.ranking a')\n",
    "            url = a.get_attribute('href')\n",
    "            text = a.text\n",
    "            page = re.search('约第(\\d+)页，第(\\d+)位', text).group(1)\n",
    "            pos = re.search('约第(\\d+)页，第(\\d+)位', text).group(2)\n",
    "            result = {'keyword':kw, 'page':page, 'position':pos}\n",
    "            break\n",
    "    return result\n",
    "pr.find_product_rank = types.MethodType(find_product_rank, pr)"
   ]
  },
  {
   "cell_type": "code",
   "execution_count": null,
   "metadata": {
    "scrolled": true
   },
   "outputs": [],
   "source": []
  },
  {
   "cell_type": "code",
   "execution_count": null,
   "metadata": {},
   "outputs": [],
   "source": []
  },
  {
   "cell_type": "code",
   "execution_count": 102,
   "metadata": {},
   "outputs": [
    {
     "name": "stdout",
     "output_type": "stream",
     "text": [
      "eyelash\tX\n",
      "lash\tX\n",
      "false eyelash\tX\n",
      "false lash\tX\n",
      "wholesale eyelash\tX\n",
      "wholesale lash\tX\n",
      "eyelash vendor\tX\n",
      "lash vendor\tX\n",
      "eyelash distributor\tX\n",
      "lash distributor\tX\n",
      "private label eyelash\tX\n",
      "private label lash\t3-1\n",
      "eyelash private label\tX\n",
      "lash private label\tX\n",
      "own brand eyelash\tX\n",
      "own brand lash\tX\n",
      "eyelash extension\tX\n",
      "silk eyelash extension\tX\n",
      "korean eyelash extension\tX\n",
      "premium eyelash extension\tX\n",
      "lash extension\tX\n",
      "individual eyelash\tX\n",
      "individual lash\t2-19\n",
      "individual eyelash extension\tX\n",
      "individual lash extension\tX\n",
      "eyelash extension private label\tX\n",
      "lash extension private label\tX\n",
      "private label eyelash extension\tX\n",
      "private label lash extension\tX\n",
      "synthetic mink eyelash extension\tX\n",
      "korean eyelash\tX\n"
     ]
    }
   ],
   "source": [
    "file = 'eyelash_product_ranking.xlsx'\n",
    "wb = load_workbook(file)\n",
    "sheet = wb.worksheets[0]\n",
    "pid = str(sheet.cell(row=1,column=2).value)\n",
    "for i in range(6, 9999):\n",
    "    cell = sheet.cell(row=i,column=1)\n",
    "    kw = cell.value\n",
    "    if kw is None:\n",
    "        break\n",
    "    print(kw, end='\\t')\n",
    "    ranking = pr.find_product_rank(kw, pid)\n",
    "    if ranking:\n",
    "        result = ranking['page'] + '-' + ranking['position']\n",
    "    else:\n",
    "        result = 'X'\n",
    "    cell = sheet.cell(row=i,column=2)\n",
    "    cell.value = result\n",
    "    print(result)\n",
    "wb.save(file)"
   ]
  },
  {
   "cell_type": "code",
   "execution_count": 99,
   "metadata": {},
   "outputs": [],
   "source": []
  },
  {
   "cell_type": "code",
   "execution_count": null,
   "metadata": {},
   "outputs": [],
   "source": []
  }
 ],
 "metadata": {
  "kernelspec": {
   "display_name": "Python 3",
   "language": "python",
   "name": "python3"
  },
  "language_info": {
   "codemirror_mode": {
    "name": "ipython",
    "version": 3
   },
   "file_extension": ".py",
   "mimetype": "text/x-python",
   "name": "python",
   "nbconvert_exporter": "python",
   "pygments_lexer": "ipython3",
   "version": "3.6.6"
  }
 },
 "nbformat": 4,
 "nbformat_minor": 2
}
