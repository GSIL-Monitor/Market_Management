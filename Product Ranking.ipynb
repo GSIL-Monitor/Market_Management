{
 "cells": [
  {
   "cell_type": "code",
   "execution_count": 1,
   "metadata": {},
   "outputs": [],
   "source": [
    "# from libs.alibaba.visitor import Visitor\n",
    "from libs.alibaba.alibaba import Alibaba\n",
    "from libs.json import JSON\n",
    "from openpyxl import load_workbook\n",
    "from selenium.webdriver.common.keys import Keys\n",
    "from selenium.webdriver.common.action_chains import ActionChains\n",
    "from selenium import webdriver\n",
    "from selenium.webdriver.common.by import By\n",
    "from selenium.webdriver.support.ui import WebDriverWait\n",
    "from selenium.webdriver.support import expected_conditions as EC\n",
    "from selenium.common.exceptions import WebDriverException\n",
    "from selenium.common.exceptions import NoSuchElementException\n",
    "from selenium.common.exceptions import TimeoutException\n",
    "from selenium.common.exceptions import StaleElementReferenceException\n",
    "from selenium.webdriver.support.select import Select\n",
    "from bs4 import BeautifulSoup\n",
    "from pyquery import PyQuery as pq\n",
    "from libs.CeleryTasks import tasks\n",
    "import html\n",
    "import time\n",
    "import re\n",
    "import os\n",
    "import traceback\n",
    "import types\n",
    "import pendulum"
   ]
  },
  {
   "cell_type": "code",
   "execution_count": 2,
   "metadata": {},
   "outputs": [
    {
     "name": "stdout",
     "output_type": "stream",
     "text": [
      ". storage markets.json\n",
      ".\\storage\\markets.json was deserialized!\n"
     ]
    }
   ],
   "source": [
    "market = JSON.deserialize('.', 'storage', 'markets.json')['Eyelashes']"
   ]
  },
  {
   "cell_type": "code",
   "execution_count": 6,
   "metadata": {},
   "outputs": [],
   "source": [
    "class Product_Ranking:\n",
    "    api = 'https://hz-productposting.alibaba.com/product/ranksearch/rankSearch.htm'\n",
    "    browser = None\n",
    "    \n",
    "    def __init__(self, market, headless=True, browser=None):\n",
    "        self.market = market\n",
    "        self.lid = market['lid']\n",
    "        self.lpwd = market['lpwd']\n",
    "\n",
    "        self.alibaba = None\n",
    "        self.browser = browser\n",
    "        self.headless = headless\n",
    "        \n",
    "    def login(self):\n",
    "        self.alibaba = Alibaba(self.lid, self.lpwd, headless=self.headless, browser=self.browser)\n",
    "        self.alibaba.login()\n",
    "        self.browser = self.alibaba.browser\n",
    "        \n",
    "    def find_product_rank(self, kw, product_id):\n",
    "        result = None\n",
    "        input = self.browser.find_element_by_css_selector('#queryString')\n",
    "        input.send_keys(Keys.CONTROL, 'a')\n",
    "        input.send_keys(kw)\n",
    "        input.send_keys(Keys.RETURN)\n",
    "\n",
    "        css_table = '#rank-searech-table'\n",
    "        table = WebDriverWait(self.browser, 10).until(\n",
    "            EC.presence_of_element_located((By.CSS_SELECTOR, css_table))\n",
    "        )\n",
    "        for tr in table.find_elements_by_css_selector('tbody tr'):\n",
    "            if '无匹配结果' in tr.text:\n",
    "                return None\n",
    "            a = tr.find_element_by_css_selector('td.products a')\n",
    "            if product_id in a.get_attribute('href'):\n",
    "                a = tr.find_element_by_css_selector('td.ranking a')\n",
    "                url = a.get_attribute('href')\n",
    "                text = a.text\n",
    "                page = re.search('约第(\\d+)页，第(\\d+)位', text).group(1)\n",
    "                pos = re.search('约第(\\d+)页，第(\\d+)位', text).group(2)\n",
    "                result = {'keyword':kw, 'url':url, 'page':page, 'position':pos}\n",
    "                break\n",
    "        return result\n",
    "    \n",
    "    def fill_excel_file(self, file):\n",
    "        wb = load_workbook(file)\n",
    "        sheet = wb.worksheets[0]\n",
    "        pid = str(sheet.cell(row=1,column=5).value)\n",
    "        dt_cell = sheet.cell(row=2, column=5)\n",
    "        dt_cell.value = pendulum.now().to_datetime_string()\n",
    "        for i in range(7, 9999):\n",
    "            cell = sheet.cell(row=i,column=4)\n",
    "            if cell.value is None:\n",
    "                break\n",
    "            kw = ' '.join(cell.value.strip().split('\\xa0'))\n",
    "            print(sheet.cell(row=i,column=1).value, end='\\t')\n",
    "            print(sheet.cell(row=i,column=2).value, end='\\t')\n",
    "            print(sheet.cell(row=i,column=3).value, end='\\t')\n",
    "            print(kw, end='\\t')\n",
    "            ranking = self.find_product_rank(kw, pid)\n",
    "            if ranking:\n",
    "                result = ranking['page'] + '-' + ranking['position']\n",
    "            else:\n",
    "                result = 'X'\n",
    "            cell = sheet.cell(row=i,column=5)\n",
    "            cell.value = result\n",
    "            print(result)\n",
    "        wb.save(file)\n",
    "        print('done!')\n",
    "        \n",
    "    def find_keyword_ranking(self, kw):\n",
    "\n",
    "        result = []\n",
    "        input = self.browser.find_element_by_css_selector('#queryString')\n",
    "        input.send_keys(Keys.CONTROL, 'a')\n",
    "        input.send_keys(kw)\n",
    "        input.send_keys(Keys.RETURN)\n",
    "\n",
    "        css_table = '#rank-searech-table'\n",
    "        table = WebDriverWait(self.browser, 10).until(\n",
    "            EC.presence_of_element_located((By.CSS_SELECTOR, css_table))\n",
    "        )\n",
    "\n",
    "        for tr in table.find_elements_by_css_selector('tbody tr'):\n",
    "            if '无匹配结果' in tr.text:\n",
    "                break\n",
    "            a = tr.find_element_by_css_selector('td.products a')\n",
    "            url = a.get_attribute('href')\n",
    "            ali_id = re.search('\\?id=(\\d+)', url).group(1)\n",
    "            a = tr.find_element_by_css_selector('td.ranking a')\n",
    "            text = a.text\n",
    "            page = re.search('约第(\\d+)页，第(\\d+)位', text).group(1)\n",
    "            pos = re.search('约第(\\d+)页，第(\\d+)位', text).group(2)\n",
    "\n",
    "            result.append({'keyword':kw, 'url':url, 'ali_id': ali_id, 'page':page, 'position': pos})\n",
    "            break\n",
    "        return result"
   ]
  },
  {
   "cell_type": "code",
   "execution_count": 17,
   "metadata": {},
   "outputs": [],
   "source": [
    "def fill_excel_file(self, file):\n",
    "    wb = load_workbook(file)\n",
    "    sheet = wb.worksheets[0]\n",
    "    pid = str(sheet.cell(row=1,column=5).value)\n",
    "    dt_cell = sheet.cell(row=2, column=5)\n",
    "    dt_cell.value = pendulum.now().to_datetime_string()\n",
    "    for i in range(7, 9999):\n",
    "        cell = sheet.cell(row=i,column=4)\n",
    "        if cell.value is None:\n",
    "            break\n",
    "        kw = ' '.join(cell.value.strip().split('\\xa0'))\n",
    "        print(sheet.cell(row=i,column=1).value, end='\\t')\n",
    "        print(sheet.cell(row=i,column=2).value, end='\\t')\n",
    "        print(sheet.cell(row=i,column=3).value, end='\\t')\n",
    "        print(kw, end='\\t')\n",
    "        ranking = self.find_product_rank(kw, pid)\n",
    "        if ranking:\n",
    "            result = ranking['page'] + '-' + ranking['position']\n",
    "        else:\n",
    "            result = 'X'\n",
    "        cell = sheet.cell(row=i,column=5)\n",
    "        cell.value = result\n",
    "        print(result)\n",
    "    wb.save(file)\n",
    "    print('done!')\n",
    "\n",
    "pr.fill_excel_file = types.MethodType(fill_excel_file, pr)"
   ]
  },
  {
   "cell_type": "code",
   "execution_count": null,
   "metadata": {},
   "outputs": [],
   "source": [
    "pr.find_keyword_ranking = types.MethodType(find_keyword_ranking, pr)"
   ]
  },
  {
   "cell_type": "code",
   "execution_count": 7,
   "metadata": {},
   "outputs": [],
   "source": [
    "pr = Product_Ranking(market, headless=False)"
   ]
  },
  {
   "cell_type": "code",
   "execution_count": 8,
   "metadata": {},
   "outputs": [
    {
     "name": "stdout",
     "output_type": "stream",
     "text": [
      "primary 打开网址：https://i.alibaba.com\n",
      "primary 等待登陆页面加载 ... ...\n",
      "primary 输入登录信息， 并登录\n",
      "success 成功 登录 阿里巴巴 国际站！用户名：Jeremy\n"
     ]
    }
   ],
   "source": [
    "pr.login()"
   ]
  },
  {
   "cell_type": "code",
   "execution_count": 9,
   "metadata": {},
   "outputs": [],
   "source": [
    "pr.browser.get(pr.api)"
   ]
  },
  {
   "cell_type": "code",
   "execution_count": null,
   "metadata": {},
   "outputs": [],
   "source": [
    "#pr.find_keyword_ranking('mink eyelash')"
   ]
  },
  {
   "cell_type": "code",
   "execution_count": 8,
   "metadata": {},
   "outputs": [],
   "source": [
    "# pr.find_product_rank(kw, pid)"
   ]
  },
  {
   "cell_type": "code",
   "execution_count": 23,
   "metadata": {},
   "outputs": [],
   "source": [
    "files = []\n",
    "for i in range(50):\n",
    "    files.append('')\n",
    "\n",
    "files[0] = 'product_ranking_eyelash_extension.xlsx'\n",
    "files[1] = 'product ranking magnetic eyelash.xlsx'\n",
    "files[2] = 'product_ranking_Easy_Fan_Lashes.xlsx'\n",
    "files[3] = 'product_ranking_mink_eyelash_extension.xlsx'\n",
    "files[4] = 'product_ranking_individual_eyelash_extension.xlsx'"
   ]
  },
  {
   "cell_type": "code",
   "execution_count": 44,
   "metadata": {},
   "outputs": [
    {
     "name": "stdout",
     "output_type": "stream",
     "text": [
      "727\t497\t3091\teyelash extension\t4-2\n",
      "340\t68\t489\tprivate label eyelash extension\t3-12\n",
      "146\t10\t463\teyelash extension professional\t1-28\n",
      "36\t0\t451\tindividual eyelash extension private label\tX\n",
      "104\t7\t395\teyelash extension silk\t2-5\n",
      "328\t109\t368\tkorean eyelash extension\t2-7\n",
      "183\t12\t361\teyelash extension supplies\t1-32\n",
      "116\t6\t326\textension lash\t4-20\n",
      "72\t4\t322\tpremium eyelash extension\t1-30\n",
      "111\t12\t310\teyelash extention\tX\n",
      "257\t52\t280\tsilk eyelash extension\t2-33\n",
      "212\t17\t263\teyelash extension wholesale\t3-1\n",
      "52\t3\t253\teyelash extension primer\tX\n",
      "107\t7\t247\teyelash extension lash\tX\n",
      "26\t0\t233\tlash extentions\tX\n",
      "12\t1\t231\teyelash-extension\t4-28\n",
      "55\t1\t224\tlash extension supplies\t1-17\n",
      "49\t2\t205\t0.03 eyelash extension\tX\n",
      "17\t0\t202\tsoft silk eyelash extension\t1-10\n",
      "152\t18\t187\textension eyelash\tX\n",
      "156\t10\t179\teye lash extension\tX\n",
      "30\t0\t179\tsilk individual lash\tX\n",
      "23\t0\t175\teyelash extension set\tX\n",
      "97\t6\t167\tindividual false eyelash\tX\n",
      "17\t2\t161\tsilk eye lash extension\tX\n",
      "1\t0\t160\tlash silk extension\tX\n",
      "53\t4\t160\tprivate label lash extension\tX\n",
      "3\t0\t157\tpbt korean eyelash extension\t1-12\n",
      "7\t0\t153\tlash extension primer\tX\n",
      "117\t3\t141\tbulk eyelash extension\t9-35\n",
      "16\t0\t138\teyelash extension faux mink\tX\n",
      "129\t15\t97\twholesale eyelash extension\t3-2\n",
      "105\t5\t87\twholesale individual eyelash extension\t2-2\n",
      "58\t1\t81\twholesale silk eyelash extension\t1-32\n",
      "38\t1\t74\tsilk individual eyelash extension\t1-31\n",
      "11\t0\t71\teyelash individual extension\tX\n",
      "5\t0\t71\tlash extension individual\tX\n",
      "36\t0\t63\twholesale lash extension\tX\n",
      "done!\n"
     ]
    }
   ],
   "source": [
    "file = files[4]\n",
    "pr.fill_excel_file(file)"
   ]
  },
  {
   "cell_type": "code",
   "execution_count": null,
   "metadata": {
    "scrolled": true
   },
   "outputs": [],
   "source": [
    "product_ranking_overview"
   ]
  },
  {
   "cell_type": "code",
   "execution_count": 65,
   "metadata": {},
   "outputs": [],
   "source": [
    "%store -r sorted_kws"
   ]
  },
  {
   "cell_type": "code",
   "execution_count": null,
   "metadata": {},
   "outputs": [],
   "source": [
    "products = pr.alibaba.get_posted_product_info(999)"
   ]
  },
  {
   "cell_type": "code",
   "execution_count": 94,
   "metadata": {},
   "outputs": [],
   "source": [
    "ps = {}\n",
    "for p in products:\n",
    "    ps[p['ali_id']] = p"
   ]
  },
  {
   "cell_type": "code",
   "execution_count": null,
   "metadata": {},
   "outputs": [],
   "source": [
    "file = 'products ranking overview.xlsx'\n",
    "wb = load_workbook(file)\n",
    "sheet = wb.worksheets[0]\n",
    "for i in range(1,999):\n",
    "    kw = sheet.cell(row=i,column=2).value\n",
    "    if kw is None:\n",
    "        break\n",
    "    print(sheet.cell(row=i,column=1).value, kw, end=\"\\t\")\n",
    "    while True:\n",
    "        try:\n",
    "            result = pr.find_keyword_ranking(kw)\n",
    "            break\n",
    "        except TimeoutException:\n",
    "            pr.browser.get(pr.api)\n",
    "            continue\n",
    "    if result:\n",
    "        fp = result[0]\n",
    "        p = ps[fp['ali_id']]\n",
    "        sheet.cell(row=i, column=3).value = fp['page']\n",
    "        sheet.cell(row=i, column=4).value = fp['position']\n",
    "        sheet.cell(row=i, column=5).value = fp['ali_id']\n",
    "        sheet.cell(row=i, column=6).value = p['pid']\n",
    "        sheet.cell(row=i, column=7).value = p['title']\n",
    "    else:\n",
    "        sheet.cell(row=i, column=3).value = ' '\n",
    "        sheet.cell(row=i, column=4).value = ' '\n",
    "        sheet.cell(row=i, column=5).value = ' '\n",
    "        sheet.cell(row=i, column=6).value = ' '\n",
    "        sheet.cell(row=i, column=7).value = ' '\n",
    "        \n",
    "    print(fp['page'], fp['position'], fp['ali_id'], p['pid'], p['title'])\n",
    "#     break\n",
    "wb.save(file)"
   ]
  },
  {
   "cell_type": "code",
   "execution_count": null,
   "metadata": {},
   "outputs": [],
   "source": []
  },
  {
   "cell_type": "code",
   "execution_count": 100,
   "metadata": {},
   "outputs": [],
   "source": []
  },
  {
   "cell_type": "code",
   "execution_count": null,
   "metadata": {},
   "outputs": [],
   "source": []
  },
  {
   "cell_type": "code",
   "execution_count": null,
   "metadata": {},
   "outputs": [],
   "source": []
  }
 ],
 "metadata": {
  "kernelspec": {
   "display_name": "Python 3",
   "language": "python",
   "name": "python3"
  }
 },
 "nbformat": 4,
 "nbformat_minor": 2
}
