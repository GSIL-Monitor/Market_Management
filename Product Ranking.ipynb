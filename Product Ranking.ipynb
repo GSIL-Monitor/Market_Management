{
 "cells": [
  {
   "cell_type": "code",
   "execution_count": 1,
   "metadata": {},
   "outputs": [],
   "source": [
    "# from libs.alibaba.visitor import Visitor\n",
    "from libs.alibaba.alibaba import Alibaba\n",
    "from libs.json import JSON\n",
    "from openpyxl import load_workbook\n",
    "from selenium.webdriver.common.keys import Keys\n",
    "from selenium.webdriver.common.action_chains import ActionChains\n",
    "from selenium import webdriver\n",
    "from selenium.webdriver.common.by import By\n",
    "from selenium.webdriver.support.ui import WebDriverWait\n",
    "from selenium.webdriver.support import expected_conditions as EC\n",
    "from selenium.common.exceptions import WebDriverException\n",
    "from selenium.common.exceptions import NoSuchElementException\n",
    "from selenium.common.exceptions import TimeoutException\n",
    "from selenium.common.exceptions import StaleElementReferenceException\n",
    "from selenium.webdriver.support.select import Select\n",
    "from bs4 import BeautifulSoup\n",
    "from pyquery import PyQuery as pq\n",
    "from libs.CeleryTasks import tasks\n",
    "import html\n",
    "import time\n",
    "import re\n",
    "import os\n",
    "import traceback\n",
    "import types\n",
    "import pendulum"
   ]
  },
  {
   "cell_type": "code",
   "execution_count": 2,
   "metadata": {},
   "outputs": [
    {
     "name": "stdout",
     "output_type": "stream",
     "text": [
      ". storage markets.json\n",
      ".\\storage\\markets.json was deserialized!\n"
     ]
    }
   ],
   "source": [
    "market = JSON.deserialize('.', 'storage', 'markets.json')['Eyelashes']"
   ]
  },
  {
   "cell_type": "code",
   "execution_count": 39,
   "metadata": {},
   "outputs": [],
   "source": [
    "class Product_Ranking:\n",
    "    api = 'https://hz-productposting.alibaba.com/product/ranksearch/rankSearch.htm'\n",
    "    browser = None\n",
    "    \n",
    "    def __init__(self, market, headless=True, browser=None):\n",
    "        self.market = market\n",
    "        self.lid = market['lid']\n",
    "        self.lpwd = market['lpwd']\n",
    "\n",
    "        self.alibaba = None\n",
    "        self.browser = browser\n",
    "        self.headless = headless\n",
    "        \n",
    "    def login(self):\n",
    "        self.alibaba = Alibaba(self.lid, self.lpwd, headless=self.headless, browser=self.browser)\n",
    "        self.alibaba.login()\n",
    "        self.browser = self.alibaba.browser\n",
    "        \n",
    "    def find_product_rank(self, kw, product_id):\n",
    "        result = None\n",
    "        input = self.browser.find_element_by_css_selector('#queryString')\n",
    "        input.send_keys(Keys.CONTROL, 'a')\n",
    "        input.send_keys(kw)\n",
    "        input.send_keys(Keys.RETURN)\n",
    "\n",
    "        css_table = '#rank-searech-table'\n",
    "        table = WebDriverWait(self.browser, 10).until(\n",
    "            EC.presence_of_element_located((By.CSS_SELECTOR, css_table))\n",
    "        )\n",
    "        idx = 0\n",
    "        for tr in table.find_elements_by_css_selector('tbody tr'):\n",
    "            if '无匹配结果' in tr.text:\n",
    "                return None\n",
    "            a = tr.find_element_by_css_selector('td.products a')\n",
    "            if product_id in a.get_attribute('href'):\n",
    "                a = tr.find_element_by_css_selector('td.ranking a')\n",
    "                url = a.get_attribute('href')\n",
    "                text = a.text\n",
    "                print(text, end='\\t')\n",
    "                page = re.search('约第(\\d+)页，第(\\d+)位', text).group(1)\n",
    "                pos = re.search('约第(\\d+)页，第(\\d+)位', text).group(2)\n",
    "                result = {'keyword':kw, 'url':url, 'index':idx, 'page':page, 'position':pos}\n",
    "                break\n",
    "            idx += 1\n",
    "        if result is None:\n",
    "            result = {'index': idx, 'keyword':kw, 'page':'', 'position':''}\n",
    "        return result\n",
    "    \n",
    "    def fill_excel_file(self, file):\n",
    "        wb = load_workbook(file)\n",
    "        sheet = wb.worksheets[0]\n",
    "        pid = str(sheet.cell(row=1,column=5).value)\n",
    "        dt_cell = sheet.cell(row=2, column=5)\n",
    "        dt_cell.value = pendulum.now().to_datetime_string()\n",
    "        for i in range(7, 9999):\n",
    "            cell = sheet.cell(row=i,column=4)\n",
    "            if cell.value is None:\n",
    "                break\n",
    "            kw = ' '.join(cell.value.strip().split('\\xa0'))\n",
    "            print(sheet.cell(row=i,column=1).value, end='\\t')\n",
    "            print(sheet.cell(row=i,column=2).value, end='\\t')\n",
    "            print(sheet.cell(row=i,column=3).value, end='\\t')\n",
    "            print(kw, end='\\t')\n",
    "            ranking = self.find_product_rank(kw, pid)\n",
    "            if ranking is None:\n",
    "                result = 'X'\n",
    "            elif ranking['page'] and ranking['position']:\n",
    "                result = str(ranking['index']) + '-' + ranking['page'] + '-' + ranking['position']\n",
    "            else:\n",
    "                result = str(ranking['index'])\n",
    "            cell = sheet.cell(row=i,column=5)\n",
    "            cell.value = result\n",
    "            print(result)\n",
    "        wb.save(file)\n",
    "        print('done!')\n",
    "        \n",
    "    def find_keyword_ranking(self, kw):\n",
    "\n",
    "        result = []\n",
    "        input = self.browser.find_element_by_css_selector('#queryString')\n",
    "        input.send_keys(Keys.CONTROL, 'a')\n",
    "        input.send_keys(kw)\n",
    "        input.send_keys(Keys.RETURN)\n",
    "\n",
    "        css_table = '#rank-searech-table'\n",
    "        table = WebDriverWait(self.browser, 10).until(\n",
    "            EC.presence_of_element_located((By.CSS_SELECTOR, css_table))\n",
    "        )\n",
    "\n",
    "        idx = 0\n",
    "        for tr in table.find_elements_by_css_selector('tbody tr'):\n",
    "            if '无匹配结果' in tr.text:\n",
    "                break\n",
    "            a = tr.find_element_by_css_selector('td.products a')\n",
    "            url = a.get_attribute('href')\n",
    "            ali_id = re.search('\\?id=(\\d+)', url).group(1)\n",
    "            a = tr.find_element_by_css_selector('td.ranking a')\n",
    "            text = a.text\n",
    "            page = re.search('约第(\\d+)页，第(\\d+)位', text).group(1)\n",
    "            pos = re.search('约第(\\d+)页，第(\\d+)位', text).group(2)\n",
    "\n",
    "            result.append({'keyword':kw, 'url':url, 'ali_id': ali_id, 'index':idx, 'page':page, 'position': pos})\n",
    "            idx += 1\n",
    "        return result"
   ]
  },
  {
   "cell_type": "code",
   "execution_count": null,
   "metadata": {},
   "outputs": [],
   "source": [
    "def fill_excel_file(self, file):\n",
    "    wb = load_workbook(file)\n",
    "    sheet = wb.worksheets[0]\n",
    "    pid = str(sheet.cell(row=1,column=5).value)\n",
    "    dt_cell = sheet.cell(row=2, column=5)\n",
    "    dt_cell.value = pendulum.now().to_datetime_string()\n",
    "    for i in range(7, 9999):\n",
    "        cell = sheet.cell(row=i,column=4)\n",
    "        if cell.value is None:\n",
    "            break\n",
    "        kw = ' '.join(cell.value.strip().split('\\xa0'))\n",
    "        print(sheet.cell(row=i,column=1).value, end='\\t')\n",
    "        print(sheet.cell(row=i,column=2).value, end='\\t')\n",
    "        print(sheet.cell(row=i,column=3).value, end='\\t')\n",
    "        print(kw, end='\\t')\n",
    "        ranking = self.find_product_rank(kw, pid)\n",
    "        if ranking:\n",
    "            result = ranking['page'] + '-' + ranking['position']\n",
    "        else:\n",
    "            result = 'X'\n",
    "        cell = sheet.cell(row=i,column=5)\n",
    "        cell.value = result\n",
    "        print(result)\n",
    "    wb.save(file)\n",
    "    print('done!')\n",
    "\n",
    "pr.fill_excel_file = types.MethodType(fill_excel_file, pr)"
   ]
  },
  {
   "cell_type": "code",
   "execution_count": null,
   "metadata": {},
   "outputs": [],
   "source": [
    "pr.find_keyword_ranking = types.MethodType(find_keyword_ranking, pr)"
   ]
  },
  {
   "cell_type": "code",
   "execution_count": null,
   "metadata": {},
   "outputs": [],
   "source": []
  },
  {
   "cell_type": "code",
   "execution_count": 40,
   "metadata": {},
   "outputs": [],
   "source": [
    "alibaba = pr.alibaba\n",
    "browser = pr.browser\n",
    "pr = Product_Ranking(market, headless=False)\n",
    "pr.alibaba = alibaba\n",
    "pr.browser = browser"
   ]
  },
  {
   "cell_type": "code",
   "execution_count": 4,
   "metadata": {},
   "outputs": [],
   "source": [
    "pr = Product_Ranking(market, headless=False)"
   ]
  },
  {
   "cell_type": "code",
   "execution_count": 5,
   "metadata": {},
   "outputs": [
    {
     "name": "stdout",
     "output_type": "stream",
     "text": [
      "primary 打开网址：https://i.alibaba.com\n",
      "primary 等待登陆页面加载 ... ...\n",
      "primary 输入登录信息， 并登录\n",
      "danger 登录 阿里巴巴 国际站 失败! Message: \n",
      "\n"
     ]
    },
    {
     "name": "stderr",
     "output_type": "stream",
     "text": [
      "Traceback (most recent call last):\n",
      "  File \"E:\\workspace\\python\\Market Management\\libs\\alibaba\\alibaba.py\", line 131, in login\n",
      "    EC.presence_of_element_located((By.CSS_SELECTOR, 'header div[data-role=\"user\"]')))\n",
      "  File \"e:\\worksp~1\\python\\market~1\\venv\\lib\\site-packages\\selenium\\webdriver\\support\\wait.py\", line 80, in until\n",
      "    raise TimeoutException(message, screen, stacktrace)\n",
      "selenium.common.exceptions.TimeoutException: Message: \n",
      "\n"
     ]
    }
   ],
   "source": [
    "pr.login()"
   ]
  },
  {
   "cell_type": "code",
   "execution_count": 7,
   "metadata": {},
   "outputs": [],
   "source": [
    "pr.browser.get(pr.api)"
   ]
  },
  {
   "cell_type": "code",
   "execution_count": null,
   "metadata": {},
   "outputs": [],
   "source": [
    "#pr.find_keyword_ranking('mink eyelash')"
   ]
  },
  {
   "cell_type": "code",
   "execution_count": null,
   "metadata": {},
   "outputs": [],
   "source": [
    "# pr.find_product_rank(kw, pid)"
   ]
  },
  {
   "cell_type": "code",
   "execution_count": 49,
   "metadata": {},
   "outputs": [],
   "source": [
    "files = []\n",
    "for i in range(50):\n",
    "    files.append('')\n",
    "\n",
    "files[0] = 'product_ranking_mink_eyelash.xlsx'\n",
    "files[1] = 'product_ranking_magnetic_eyelash.xlsx'\n",
    "files[2] = 'product_ranking_Easy_Fan_Lashes.xlsx'\n",
    "files[3] = 'product_ranking_mink_eyelash_extension.xlsx'\n",
    "files[4] = 'product_ranking_individual_eyelash_extension.xlsx'\n",
    "files[5] = 'product_ranking_brown_eyelash_extension.xlsx'\n",
    "files[6] = 'product_ranking_flat_eyelash_extension.xlsx'\n",
    "files[7] = 'product_ranking_colorful_eyelash_extension.xlsx'\n",
    "files[8] = 'product_ranking_blooming_eyelash_extension.xlsx'\n",
    "files[9] = 'product_ranking_camellia_eyelash_extension.xlsx'\n",
    "files[10] = 'product_ranking_ombre_eyelash_extension.xlsx'\n",
    "files[11] = 'product_ranking_flat_split_tips_eyelash_extension.xlsx'\n",
    "files[12] = 'product_ranking_premade_fans_eyelash_extension.xlsx'\n",
    "files[13] = 'product_ranking_premade_fans_eyelash_extension_01_60762376749.xlsx'\n",
    "files[14] = 'product_ranking_premade_fans_eyelash_extension_02_60795868865.xlsx'\n",
    "files[15] = 'product_ranking_premade_fans_eyelash_extension_03_60761678736.xlsx'"
   ]
  },
  {
   "cell_type": "code",
   "execution_count": 54,
   "metadata": {
    "scrolled": false
   },
   "outputs": [
    {
     "name": "stdout",
     "output_type": "stream",
     "text": [
      "230\t51\t539\tvolume lash\t2\n",
      "25\t4\t367\tpre made volume fan\t约第2页，第11位\t0-2-11\n",
      "41\t7\t338\tpre made fan\t5\n",
      "45\t3\t196\tfan lash\t4\n",
      "8\t0\t194\t10 eyelash\t2\n",
      "60\t3\t172\t3d volume eyelash extension\t2\n",
      "19\t0\t167\teyelash extension pre made fans\t约第2页，第5位\t0-2-5\n",
      "23\t1\t163\trussian eyelash\t4\n",
      "26\t1\t155\tmink volume lash\t2\n",
      "26\t1\t155\t4d lash\t1\n",
      "13\t0\t150\t4d eyelash\t1\n",
      "12\t0\t145\trussian volume mink eyelash extension\t约第10页，第2位\t2-10-2\n",
      "53\t8\t141\trussian volume eyelash\t3\n",
      "5\t0\t138\t10d lash\t3\n",
      "7\t0\t136\teyelash extension 6d\t3\n",
      "1\t0\t132\tlash 5d\t约第16页，第13位\t2-16-13\n",
      "29\t2\t124\t5d eyelash\t3\n",
      "2\t0\t122\teyelash extension pre made\t约第2页，第3位\t0-2-3\n",
      "5\t2\t122\t10d eyelash\t4\n",
      "37\t3\t122\tfanned lash\t4\n",
      "15\t0\t118\t3d premade volume fan\t4\n",
      "5\t1\t116\teyelash extension 10d\t4\n",
      "27\t0\t114\tpre made fan lash\t5\n",
      "3\t0\t112\teyelash 5d\t3\n",
      "3\t0\t112\teyelash russian\t3\n",
      "78\t3\t112\t3d lash extension\t1\n",
      "0\t0\t110\tlash russian\t4\n",
      "15\t0\t107\tmini fan eyelash\tX\n",
      "10\t0\t105\tvolume 3d 0.07 korea mink eyelash extension\tX\n",
      "15\t0\t105\teyelash 6d\t3\n",
      "2\t0\t105\thybrid lash\tX\n",
      "7\t0\t102\teyelash 3d extension\t2\n",
      "4\t0\t100\tkorean volume lash\t5\n",
      "done!\n"
     ]
    }
   ],
   "source": [
    "file = files[15]\n",
    "pr.fill_excel_file(file)"
   ]
  },
  {
   "cell_type": "code",
   "execution_count": null,
   "metadata": {},
   "outputs": [],
   "source": []
  },
  {
   "cell_type": "code",
   "execution_count": null,
   "metadata": {},
   "outputs": [],
   "source": []
  },
  {
   "cell_type": "code",
   "execution_count": null,
   "metadata": {},
   "outputs": [],
   "source": []
  },
  {
   "cell_type": "code",
   "execution_count": null,
   "metadata": {},
   "outputs": [],
   "source": []
  },
  {
   "cell_type": "code",
   "execution_count": null,
   "metadata": {
    "scrolled": true
   },
   "outputs": [],
   "source": [
    "product_ranking_overview"
   ]
  },
  {
   "cell_type": "code",
   "execution_count": null,
   "metadata": {},
   "outputs": [],
   "source": [
    "%store -r sorted_kws"
   ]
  },
  {
   "cell_type": "code",
   "execution_count": null,
   "metadata": {},
   "outputs": [],
   "source": [
    "products = pr.alibaba.get_posted_product_info(999)"
   ]
  },
  {
   "cell_type": "code",
   "execution_count": null,
   "metadata": {},
   "outputs": [],
   "source": [
    "ps = {}\n",
    "for p in products:\n",
    "    ps[p['ali_id']] = p"
   ]
  },
  {
   "cell_type": "code",
   "execution_count": null,
   "metadata": {},
   "outputs": [],
   "source": [
    "file = 'products ranking overview.xlsx'\n",
    "wb = load_workbook(file)\n",
    "sheet = wb.worksheets[0]\n",
    "for i in range(1,999):\n",
    "    kw = sheet.cell(row=i,column=2).value\n",
    "    if kw is None:\n",
    "        break\n",
    "    print(sheet.cell(row=i,column=1).value, kw, end=\"\\t\")\n",
    "    while True:\n",
    "        try:\n",
    "            result = pr.find_keyword_ranking(kw)\n",
    "            break\n",
    "        except TimeoutException:\n",
    "            pr.browser.get(pr.api)\n",
    "            continue\n",
    "    if result:\n",
    "        fp = result[0]\n",
    "        p = ps[fp['ali_id']]\n",
    "        sheet.cell(row=i, column=3).value = fp['page']\n",
    "        sheet.cell(row=i, column=4).value = fp['position']\n",
    "        sheet.cell(row=i, column=5).value = fp['ali_id']\n",
    "        sheet.cell(row=i, column=6).value = p['pid']\n",
    "        sheet.cell(row=i, column=7).value = p['title']\n",
    "    else:\n",
    "        sheet.cell(row=i, column=3).value = ' '\n",
    "        sheet.cell(row=i, column=4).value = ' '\n",
    "        sheet.cell(row=i, column=5).value = ' '\n",
    "        sheet.cell(row=i, column=6).value = ' '\n",
    "        sheet.cell(row=i, column=7).value = ' '\n",
    "        \n",
    "    print(fp['page'], fp['position'], fp['ali_id'], p['pid'], p['title'])\n",
    "#     break\n",
    "wb.save(file)"
   ]
  },
  {
   "cell_type": "code",
   "execution_count": null,
   "metadata": {},
   "outputs": [],
   "source": []
  },
  {
   "cell_type": "code",
   "execution_count": null,
   "metadata": {},
   "outputs": [],
   "source": [
    "Wangqingxia25160"
   ]
  },
  {
   "cell_type": "code",
   "execution_count": 6,
   "metadata": {},
   "outputs": [
    {
     "data": {
      "text/plain": [
       "{'name': 'Eyelashes',\n",
       " 'directory': 'E:\\\\glitter\\\\Eyelashes',\n",
       " 'lid': 'eyelash@glittergroupcn.com',\n",
       " 'lpwd': 'Wangzhen68970747',\n",
       " 'homepage': 'https://glittereyelash.en.alibaba.com',\n",
       " 'lname': 'Jeremy Wang',\n",
       " 'mobile': '17685593100',\n",
       " 'accounts': [{'lid': 'eyelash1@glittergroupcn.com',\n",
       "   'lpwd': 'Zhangying25160',\n",
       "   'lname': 'Emily Zhang',\n",
       "   'mobile': '17685593100',\n",
       "   'disabled': False},\n",
       "  {'lid': 'eyelash2@glittergroupcn.com',\n",
       "   'lpwd': 'Huyinping18130',\n",
       "   'lname': 'Ada Alva',\n",
       "   'mobile': '18563918130',\n",
       "   'disabled': False}]}"
      ]
     },
     "execution_count": 6,
     "metadata": {},
     "output_type": "execute_result"
    }
   ],
   "source": [
    "market"
   ]
  },
  {
   "cell_type": "code",
   "execution_count": null,
   "metadata": {},
   "outputs": [],
   "source": []
  }
 ],
 "metadata": {
  "kernelspec": {
   "display_name": "Python 3",
   "language": "python",
   "name": "python3"
  },
  "language_info": {
   "codemirror_mode": {
    "name": "ipython",
    "version": 3
   },
   "file_extension": ".py",
   "mimetype": "text/x-python",
   "name": "python",
   "nbconvert_exporter": "python",
   "pygments_lexer": "ipython3",
   "version": "3.6.6"
  }
 },
 "nbformat": 4,
 "nbformat_minor": 2
}
