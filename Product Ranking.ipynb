{
 "cells": [
  {
   "cell_type": "code",
   "execution_count": 1,
   "metadata": {},
   "outputs": [],
   "source": [
    "# from libs.alibaba.visitor import Visitor\n",
    "from libs.alibaba.alibaba import Alibaba\n",
    "from libs.json import JSON\n",
    "from openpyxl import load_workbook\n",
    "from selenium.webdriver.common.keys import Keys\n",
    "from selenium.webdriver.common.action_chains import ActionChains\n",
    "from selenium import webdriver\n",
    "from selenium.webdriver.common.by import By\n",
    "from selenium.webdriver.support.ui import WebDriverWait\n",
    "from selenium.webdriver.support import expected_conditions as EC\n",
    "from selenium.common.exceptions import WebDriverException\n",
    "from selenium.common.exceptions import NoSuchElementException\n",
    "from selenium.common.exceptions import TimeoutException\n",
    "from selenium.common.exceptions import StaleElementReferenceException\n",
    "from selenium.webdriver.support.select import Select\n",
    "from bs4 import BeautifulSoup\n",
    "from pyquery import PyQuery as pq\n",
    "from libs.CeleryTasks import tasks\n",
    "import html\n",
    "import time\n",
    "import re\n",
    "import os\n",
    "import traceback\n",
    "import types\n",
    "import pendulum"
   ]
  },
  {
   "cell_type": "code",
   "execution_count": 2,
   "metadata": {},
   "outputs": [
    {
     "name": "stdout",
     "output_type": "stream",
     "text": [
      ". storage markets.json\n",
      ".\\storage\\markets.json was deserialized!\n"
     ]
    }
   ],
   "source": [
    "market = JSON.deserialize('.', 'storage', 'markets.json')['Eyelashes']"
   ]
  },
  {
   "cell_type": "code",
   "execution_count": 3,
   "metadata": {},
   "outputs": [],
   "source": [
    "class Product_Ranking:\n",
    "    api = 'https://hz-productposting.alibaba.com/product/ranksearch/rankSearch.htm'\n",
    "    browser = None\n",
    "    \n",
    "    def __init__(self, market, headless=True, browser=None):\n",
    "        self.market = market\n",
    "        self.lid = market['lid']\n",
    "        self.lpwd = market['lpwd']\n",
    "\n",
    "        self.alibaba = None\n",
    "        self.browser = browser\n",
    "        self.headless = headless\n",
    "        \n",
    "    def login(self):\n",
    "        self.alibaba = Alibaba(self.lid, self.lpwd, headless=self.headless, browser=self.browser)\n",
    "        self.alibaba.login()\n",
    "        self.browser = self.alibaba.browser\n",
    "        \n",
    "    def find_product_rank(self, kw, product_id):\n",
    "        result = None\n",
    "        input = self.browser.find_element_by_css_selector('#queryString')\n",
    "        input.send_keys(Keys.CONTROL, 'a')\n",
    "        input.send_keys(kw)\n",
    "        input.send_keys(Keys.RETURN)\n",
    "\n",
    "        css_table = '#rank-searech-table'\n",
    "        table = WebDriverWait(self.browser, 10).until(\n",
    "            EC.presence_of_element_located((By.CSS_SELECTOR, css_table))\n",
    "        )\n",
    "        idx = 0\n",
    "        for tr in table.find_elements_by_css_selector('tbody tr'):\n",
    "            if '无匹配结果' in tr.text:\n",
    "                return None\n",
    "            a = tr.find_element_by_css_selector('td.products a')\n",
    "            if product_id in a.get_attribute('href'):\n",
    "                a = tr.find_element_by_css_selector('td.ranking a')\n",
    "                url = a.get_attribute('href')\n",
    "                text = a.text\n",
    "                print(text, end='\\t')\n",
    "                page = re.search('约第(\\d+)页，第(\\d+)位', text).group(1)\n",
    "                pos = re.search('约第(\\d+)页，第(\\d+)位', text).group(2)\n",
    "                result = {'keyword':kw, 'url':url, 'index':idx, 'page':page, 'position':pos}\n",
    "                break\n",
    "            idx += 1\n",
    "        if result is None:\n",
    "            result = {'index': idx, 'keyword':kw, 'page':'', 'position':''}\n",
    "        return result\n",
    "    \n",
    "    def fill_excel_file(self, file):\n",
    "        wb = load_workbook(file)\n",
    "        sheet = wb.worksheets[0]\n",
    "        pid = str(sheet.cell(row=1,column=5).value)\n",
    "        dt_cell = sheet.cell(row=2, column=5)\n",
    "        dt_cell.value = pendulum.now().to_datetime_string()\n",
    "        for i in range(7, 9999):\n",
    "            cell = sheet.cell(row=i,column=4)\n",
    "            if cell.value is None:\n",
    "                break\n",
    "            kw = ' '.join(cell.value.strip().split('\\xa0'))\n",
    "            print(sheet.cell(row=i,column=1).value, end='\\t')\n",
    "            print(sheet.cell(row=i,column=2).value, end='\\t')\n",
    "            print(sheet.cell(row=i,column=3).value, end='\\t')\n",
    "            print(kw, end='\\t')\n",
    "            ranking = self.find_product_rank(kw, pid)\n",
    "            if ranking is None:\n",
    "                result = 'X'\n",
    "            elif ranking['page'] and ranking['position']:\n",
    "                result = str(ranking['index']) + '-' + ranking['page'] + '-' + ranking['position']\n",
    "            else:\n",
    "                result = str(ranking['index'])\n",
    "            cell = sheet.cell(row=i,column=5)\n",
    "            cell.value = result\n",
    "            print(result)\n",
    "        wb.save(file)\n",
    "        print('done!')\n",
    "        \n",
    "    def find_keyword_ranking(self, kw):\n",
    "\n",
    "        result = []\n",
    "        input = self.browser.find_element_by_css_selector('#queryString')\n",
    "        input.send_keys(Keys.CONTROL, 'a')\n",
    "        input.send_keys(kw)\n",
    "        input.send_keys(Keys.RETURN)\n",
    "\n",
    "        css_table = '#rank-searech-table'\n",
    "        table = WebDriverWait(self.browser, 10).until(\n",
    "            EC.presence_of_element_located((By.CSS_SELECTOR, css_table))\n",
    "        )\n",
    "\n",
    "        idx = 0\n",
    "        for tr in table.find_elements_by_css_selector('tbody tr'):\n",
    "            if '无匹配结果' in tr.text:\n",
    "                break\n",
    "            a = tr.find_element_by_css_selector('td.products a')\n",
    "            url = a.get_attribute('href')\n",
    "            ali_id = re.search('\\?id=(\\d+)', url).group(1)\n",
    "            a = tr.find_element_by_css_selector('td.ranking a')\n",
    "            text = a.text\n",
    "            page = re.search('约第(\\d+)页，第(\\d+)位', text).group(1)\n",
    "            pos = re.search('约第(\\d+)页，第(\\d+)位', text).group(2)\n",
    "\n",
    "            result.append({'keyword':kw, 'url':url, 'ali_id': ali_id, 'index':idx, 'page':page, 'position': pos})\n",
    "            idx += 1\n",
    "        return result"
   ]
  },
  {
   "cell_type": "code",
   "execution_count": null,
   "metadata": {},
   "outputs": [],
   "source": [
    "def fill_excel_file(self, file):\n",
    "    wb = load_workbook(file)\n",
    "    sheet = wb.worksheets[0]\n",
    "    pid = str(sheet.cell(row=1,column=5).value)\n",
    "    dt_cell = sheet.cell(row=2, column=5)\n",
    "    dt_cell.value = pendulum.now().to_datetime_string()\n",
    "    for i in range(7, 9999):\n",
    "        cell = sheet.cell(row=i,column=4)\n",
    "        if cell.value is None:\n",
    "            break\n",
    "        kw = ' '.join(cell.value.strip().split('\\xa0'))\n",
    "        print(sheet.cell(row=i,column=1).value, end='\\t')\n",
    "        print(sheet.cell(row=i,column=2).value, end='\\t')\n",
    "        print(sheet.cell(row=i,column=3).value, end='\\t')\n",
    "        print(kw, end='\\t')\n",
    "        ranking = self.find_product_rank(kw, pid)\n",
    "        if ranking:\n",
    "            result = ranking['page'] + '-' + ranking['position']\n",
    "        else:\n",
    "            result = 'X'\n",
    "        cell = sheet.cell(row=i,column=5)\n",
    "        cell.value = result\n",
    "        print(result)\n",
    "    wb.save(file)\n",
    "    print('done!')\n",
    "\n",
    "pr.fill_excel_file = types.MethodType(fill_excel_file, pr)"
   ]
  },
  {
   "cell_type": "code",
   "execution_count": 5,
   "metadata": {},
   "outputs": [
    {
     "ename": "NameError",
     "evalue": "name 'find_keyword_ranking' is not defined",
     "output_type": "error",
     "traceback": [
      "\u001b[1;31m---------------------------------------------------------------------------\u001b[0m",
      "\u001b[1;31mNameError\u001b[0m                                 Traceback (most recent call last)",
      "\u001b[1;32m<ipython-input-5-6c1a69cb6f3e>\u001b[0m in \u001b[0;36m<module>\u001b[1;34m()\u001b[0m\n\u001b[1;32m----> 1\u001b[1;33m \u001b[0mpr\u001b[0m\u001b[1;33m.\u001b[0m\u001b[0mfind_keyword_ranking\u001b[0m \u001b[1;33m=\u001b[0m \u001b[0mtypes\u001b[0m\u001b[1;33m.\u001b[0m\u001b[0mMethodType\u001b[0m\u001b[1;33m(\u001b[0m\u001b[0mfind_keyword_ranking\u001b[0m\u001b[1;33m,\u001b[0m \u001b[0mpr\u001b[0m\u001b[1;33m)\u001b[0m\u001b[1;33m\u001b[0m\u001b[0m\n\u001b[0m",
      "\u001b[1;31mNameError\u001b[0m: name 'find_keyword_ranking' is not defined"
     ]
    }
   ],
   "source": [
    "pr.find_keyword_ranking = types.MethodType(find_keyword_ranking, pr)"
   ]
  },
  {
   "cell_type": "code",
   "execution_count": null,
   "metadata": {},
   "outputs": [],
   "source": []
  },
  {
   "cell_type": "code",
   "execution_count": 6,
   "metadata": {},
   "outputs": [
    {
     "ename": "NameError",
     "evalue": "name 'pr' is not defined",
     "output_type": "error",
     "traceback": [
      "\u001b[1;31m---------------------------------------------------------------------------\u001b[0m",
      "\u001b[1;31mNameError\u001b[0m                                 Traceback (most recent call last)",
      "\u001b[1;32m<ipython-input-6-410d909bdd39>\u001b[0m in \u001b[0;36m<module>\u001b[1;34m()\u001b[0m\n\u001b[1;32m----> 1\u001b[1;33m \u001b[0malibaba\u001b[0m \u001b[1;33m=\u001b[0m \u001b[0mpr\u001b[0m\u001b[1;33m.\u001b[0m\u001b[0malibaba\u001b[0m\u001b[1;33m\u001b[0m\u001b[0m\n\u001b[0m\u001b[0;32m      2\u001b[0m \u001b[0mbrowser\u001b[0m \u001b[1;33m=\u001b[0m \u001b[0mpr\u001b[0m\u001b[1;33m.\u001b[0m\u001b[0mbrowser\u001b[0m\u001b[1;33m\u001b[0m\u001b[0m\n\u001b[0;32m      3\u001b[0m \u001b[0mpr\u001b[0m \u001b[1;33m=\u001b[0m \u001b[0mProduct_Ranking\u001b[0m\u001b[1;33m(\u001b[0m\u001b[0mmarket\u001b[0m\u001b[1;33m,\u001b[0m \u001b[0mheadless\u001b[0m\u001b[1;33m=\u001b[0m\u001b[1;32mFalse\u001b[0m\u001b[1;33m)\u001b[0m\u001b[1;33m\u001b[0m\u001b[0m\n\u001b[0;32m      4\u001b[0m \u001b[0mpr\u001b[0m\u001b[1;33m.\u001b[0m\u001b[0malibaba\u001b[0m \u001b[1;33m=\u001b[0m \u001b[0malibaba\u001b[0m\u001b[1;33m\u001b[0m\u001b[0m\n\u001b[0;32m      5\u001b[0m \u001b[0mpr\u001b[0m\u001b[1;33m.\u001b[0m\u001b[0mbrowser\u001b[0m \u001b[1;33m=\u001b[0m \u001b[0mbrowser\u001b[0m\u001b[1;33m\u001b[0m\u001b[0m\n",
      "\u001b[1;31mNameError\u001b[0m: name 'pr' is not defined"
     ]
    }
   ],
   "source": [
    "alibaba = pr.alibaba\n",
    "browser = pr.browser\n",
    "pr = Product_Ranking(market, headless=False)\n",
    "pr.alibaba = alibaba\n",
    "pr.browser = browser"
   ]
  },
  {
   "cell_type": "code",
   "execution_count": 7,
   "metadata": {},
   "outputs": [],
   "source": [
    "pr = Product_Ranking(market, headless=False)"
   ]
  },
  {
   "cell_type": "code",
   "execution_count": 8,
   "metadata": {},
   "outputs": [
    {
     "name": "stdout",
     "output_type": "stream",
     "text": [
      "primary 打开网址：https://i.alibaba.com\n",
      "primary 等待登陆页面加载 ... ...\n",
      "primary 输入登录信息， 并登录\n",
      "success 成功 登录 阿里巴巴 国际站！用户名：Jeremy\n"
     ]
    }
   ],
   "source": [
    "pr.login()"
   ]
  },
  {
   "cell_type": "code",
   "execution_count": 7,
   "metadata": {},
   "outputs": [],
   "source": [
    "pr.browser.get(pr.api)"
   ]
  },
  {
   "cell_type": "code",
   "execution_count": null,
   "metadata": {},
   "outputs": [],
   "source": [
    "#pr.find_keyword_ranking('mink eyelash')"
   ]
  },
  {
   "cell_type": "code",
   "execution_count": null,
   "metadata": {},
   "outputs": [],
   "source": [
    "# pr.find_product_rank(kw, pid)"
   ]
  },
  {
   "cell_type": "code",
   "execution_count": 9,
   "metadata": {},
   "outputs": [],
   "source": [
    "files = []\n",
    "for i in range(50):\n",
    "    files.append('')\n",
    "\n",
    "files[0] = 'product_ranking_mink_eyelash.xlsx'\n",
    "files[1] = 'product_ranking_magnetic_eyelash.xlsx'\n",
    "files[2] = 'product_ranking_Easy_Fan_Lashes.xlsx'\n",
    "files[3] = 'product_ranking_mink_eyelash_extension.xlsx'\n",
    "files[4] = 'product_ranking_individual_eyelash_extension.xlsx'\n",
    "files[5] = 'product_ranking_brown_eyelash_extension.xlsx'\n",
    "files[6] = 'product_ranking_flat_eyelash_extension.xlsx'\n",
    "files[7] = 'product_ranking_colorful_eyelash_extension.xlsx'\n",
    "files[8] = 'product_ranking_blooming_eyelash_extension.xlsx'\n",
    "files[9] = 'product_ranking_camellia_eyelash_extension.xlsx'\n",
    "files[10] = 'product_ranking_ombre_eyelash_extension.xlsx'\n",
    "files[11] = 'product_ranking_flat_split_tips_eyelash_extension.xlsx'\n",
    "files[12] = 'product_ranking_premade_fans_eyelash_extension.xlsx'\n",
    "files[13] = 'product_ranking_premade_fans_eyelash_extension_01_60762376749.xlsx'\n",
    "files[14] = 'product_ranking_premade_fans_eyelash_extension_02_60795868865.xlsx'\n",
    "files[15] = 'product_ranking_premade_fans_eyelash_extension_03_60761678736.xlsx'"
   ]
  },
  {
   "cell_type": "code",
   "execution_count": 11,
   "metadata": {
    "scrolled": false
   },
   "outputs": [
    {
     "name": "stdout",
     "output_type": "stream",
     "text": [
      "517\t367\t4248\tmink eyelash\t约第1页，第40位\t0-1-40\n",
      "664\t342\t3829\teyelash\t约第2页，第17位\t0-2-17\n",
      "484\t362\t2946\t3d mink eyelash\t约第1页，第33位\t0-1-33\n",
      "352\t51\t2268\tprivate label eyelash\t2\n",
      "398\t242\t1879\tmink lash\t约第1页，第37位\t0-1-37\n",
      "730\t336\t1654\tfalse eyelash\t2\n",
      "91\t15\t1163\tmink eyelash vendor\t约第1页，第6位\t0-1-6\n",
      "340\t122\t1093\twholesale mink eyelash\t约第1页，第33位\t0-1-33\n",
      "379\t255\t1057\t3d mink lash\t3\n",
      "441\t194\t949\tprivate label mink eyelash\t约第1页，第33位\t0-1-33\n",
      "237\t26\t939\teyelash mink\t2\n",
      "96\t5\t786\teyelash sample\t3\n",
      "183\t26\t782\t3d mink eyelash private label\t约第1页，第28位\t0-1-28\n",
      "165\t6\t726\tmink 3d eyelash\t约第1页，第47位\t0-1-47\n",
      "333\t86\t643\town brand eyelash\t约第1页，第6位\t0-1-6\n",
      "380\t81\t620\t3d eyelash\t2\n",
      "352\t33\t577\tfake eyelash\t2\n",
      "223\t32\t556\tmink eyelash 3d\t约第1页，第30位\t0-1-30\n",
      "127\t8\t457\teyelash 3d mink\t3\n",
      "56\t6\t456\teyelash vendor\t约第5页，第36位\t0-5-36\n",
      "285\t48\t447\treal mink eyelash\t约第1页，第35位\t0-1-35\n",
      "239\t13\t431\tnatural eyelash\t2\n",
      "207\t12\t417\tcustom eyelash\t3\n",
      "43\t4\t411\tcruelty free 3d mink eyelash\t约第1页，第17位\t0-1-17\n",
      "105\t4\t403\teyelash 3d\t约第1页，第40位\t0-1-40\n",
      "135\t13\t397\teyelash mink 3d mink\t2\n",
      "250\t26\t369\twholesale eyelash\t2\n",
      "377\t101\t327\tmink strip eyelash\t约第1页，第27位\t0-1-27\n",
      "66\t7\t324\tvegan eyelash\t6\n",
      "83\t2\t317\teyelash strip\t3\n",
      "346\t27\t311\twholesale false eyelash\t2\n",
      "9\t0\t304\tmink eyelash with box\t2\n",
      "152\t8\t277\t100% mink eyelash\t3\n",
      "340\t75\t254\tmink fur eyelash\t2\n",
      "144\t12\t252\twholesale 3d mink eyelash\t约第1页，第43位\t0-1-43\n",
      "112\t4\t248\tnatural lashes\t3\n",
      "76\t1\t244\teyelash mink private label\t约第1页，第31位\t0-1-31\n",
      "173\t14\t244\tcustom lashes packaging mink lashes\t3\n",
      "52\t1\t232\tfree sample mink eyelash\t5\n",
      "103\t5\t218\tbulk mink lash\t约第1页，第33位\t0-1-33\n",
      "141\t6\t209\tcruelty free mink eyelash\t约第1页，第4位\t0-1-4\n",
      "105\t4\t204\tcustom mink lashes\t2\n",
      "7\t0\t199\tmink eyelash wholsale\tX\n",
      "140\t6\t199\tpremium mink eyelash\t3\n",
      "128\t9\t192\tmink eyelash wholesale\t约第1页，第38位\t0-1-38\n",
      "34\t2\t191\tmink lashes vendor\t约第1页，第5位\t0-1-5\n",
      "181\t15\t176\tprivate label mink lash\t约第1页，第34位\t0-1-34\n",
      "21\t1\t164\twholesale mink strip lash\t约第1页，第14位\t0-1-14\n",
      "104\t2\t155\tnatural mink eyelash\t2\n",
      "152\t3\t152\tfalse mink eyelashes\t约第13页，第15位\t1-13-15\n",
      "95\t4\t143\tfalse eyelash mink\t2\n",
      "58\t3\t140\tluxury 3d mink eyelash\t3\n",
      "82\t3\t136\tcustom mink eyelash\t3\n",
      "87\t3\t136\thandmade mink eyelash\t3\n",
      "done!\n"
     ]
    }
   ],
   "source": [
    "file = files[0]\n",
    "pr.fill_excel_file(file)"
   ]
  },
  {
   "cell_type": "code",
   "execution_count": null,
   "metadata": {},
   "outputs": [],
   "source": []
  },
  {
   "cell_type": "code",
   "execution_count": null,
   "metadata": {},
   "outputs": [],
   "source": []
  },
  {
   "cell_type": "code",
   "execution_count": null,
   "metadata": {},
   "outputs": [],
   "source": []
  },
  {
   "cell_type": "code",
   "execution_count": null,
   "metadata": {},
   "outputs": [],
   "source": []
  },
  {
   "cell_type": "code",
   "execution_count": null,
   "metadata": {
    "scrolled": true
   },
   "outputs": [],
   "source": [
    "product_ranking_overview"
   ]
  },
  {
   "cell_type": "code",
   "execution_count": null,
   "metadata": {},
   "outputs": [],
   "source": [
    "%store -r sorted_kws"
   ]
  },
  {
   "cell_type": "code",
   "execution_count": null,
   "metadata": {},
   "outputs": [],
   "source": [
    "products = pr.alibaba.get_posted_product_info(999)"
   ]
  },
  {
   "cell_type": "code",
   "execution_count": null,
   "metadata": {},
   "outputs": [],
   "source": [
    "ps = {}\n",
    "for p in products:\n",
    "    ps[p['ali_id']] = p"
   ]
  },
  {
   "cell_type": "code",
   "execution_count": null,
   "metadata": {},
   "outputs": [],
   "source": [
    "file = 'products ranking overview.xlsx'\n",
    "wb = load_workbook(file)\n",
    "sheet = wb.worksheets[0]\n",
    "for i in range(1,999):\n",
    "    kw = sheet.cell(row=i,column=2).value\n",
    "    if kw is None:\n",
    "        break\n",
    "    print(sheet.cell(row=i,column=1).value, kw, end=\"\\t\")\n",
    "    while True:\n",
    "        try:\n",
    "            result = pr.find_keyword_ranking(kw)\n",
    "            break\n",
    "        except TimeoutException:\n",
    "            pr.browser.get(pr.api)\n",
    "            continue\n",
    "    if result:\n",
    "        fp = result[0]\n",
    "        p = ps[fp['ali_id']]\n",
    "        sheet.cell(row=i, column=3).value = fp['page']\n",
    "        sheet.cell(row=i, column=4).value = fp['position']\n",
    "        sheet.cell(row=i, column=5).value = fp['ali_id']\n",
    "        sheet.cell(row=i, column=6).value = p['pid']\n",
    "        sheet.cell(row=i, column=7).value = p['title']\n",
    "    else:\n",
    "        sheet.cell(row=i, column=3).value = ' '\n",
    "        sheet.cell(row=i, column=4).value = ' '\n",
    "        sheet.cell(row=i, column=5).value = ' '\n",
    "        sheet.cell(row=i, column=6).value = ' '\n",
    "        sheet.cell(row=i, column=7).value = ' '\n",
    "        \n",
    "    print(fp['page'], fp['position'], fp['ali_id'], p['pid'], p['title'])\n",
    "#     break\n",
    "wb.save(file)"
   ]
  },
  {
   "cell_type": "code",
   "execution_count": null,
   "metadata": {},
   "outputs": [],
   "source": []
  },
  {
   "cell_type": "code",
   "execution_count": null,
   "metadata": {},
   "outputs": [],
   "source": [
    "Wangqingxia25160"
   ]
  },
  {
   "cell_type": "code",
   "execution_count": 6,
   "metadata": {},
   "outputs": [
    {
     "data": {
      "text/plain": [
       "{'name': 'Eyelashes',\n",
       " 'directory': 'E:\\\\glitter\\\\Eyelashes',\n",
       " 'lid': 'eyelash@glittergroupcn.com',\n",
       " 'lpwd': 'Wangzhen68970747',\n",
       " 'homepage': 'https://glittereyelash.en.alibaba.com',\n",
       " 'lname': 'Jeremy Wang',\n",
       " 'mobile': '17685593100',\n",
       " 'accounts': [{'lid': 'eyelash1@glittergroupcn.com',\n",
       "   'lpwd': 'Zhangying25160',\n",
       "   'lname': 'Emily Zhang',\n",
       "   'mobile': '17685593100',\n",
       "   'disabled': False},\n",
       "  {'lid': 'eyelash2@glittergroupcn.com',\n",
       "   'lpwd': 'Huyinping18130',\n",
       "   'lname': 'Ada Alva',\n",
       "   'mobile': '18563918130',\n",
       "   'disabled': False}]}"
      ]
     },
     "execution_count": 6,
     "metadata": {},
     "output_type": "execute_result"
    }
   ],
   "source": [
    "market"
   ]
  },
  {
   "cell_type": "code",
   "execution_count": null,
   "metadata": {},
   "outputs": [],
   "source": []
  }
 ],
 "metadata": {
  "kernelspec": {
   "display_name": "Python 3",
   "language": "python",
   "name": "python3"
  },
  "language_info": {
   "codemirror_mode": {
    "name": "ipython",
    "version": 3
   },
   "file_extension": ".py",
   "mimetype": "text/x-python",
   "name": "python",
   "nbconvert_exporter": "python",
   "pygments_lexer": "ipython3",
   "version": "3.6.6"
  }
 },
 "nbformat": 4,
 "nbformat_minor": 2
}
