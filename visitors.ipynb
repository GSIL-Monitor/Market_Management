{
 "cells": [
  {
   "cell_type": "code",
   "execution_count": 1,
   "metadata": {},
   "outputs": [],
   "source": [
    "from libs.alibaba.visitor import Visitor\n",
    "\n",
    "from libs.json import JSON\n",
    "\n",
    "from selenium.webdriver.common.keys import Keys\n",
    "from selenium.webdriver.common.action_chains import ActionChains\n",
    "from selenium import webdriver\n",
    "from selenium.webdriver.common.by import By\n",
    "from selenium.webdriver.support.ui import WebDriverWait\n",
    "from selenium.webdriver.support import expected_conditions as EC\n",
    "from selenium.common.exceptions import WebDriverException\n",
    "from selenium.common.exceptions import NoSuchElementException\n",
    "from selenium.common.exceptions import TimeoutException\n",
    "from selenium.common.exceptions import StaleElementReferenceException\n",
    "from selenium.webdriver.support.select import Select\n",
    "from bs4 import BeautifulSoup\n",
    "from pyquery import PyQuery as pq\n",
    "from libs.CeleryTasks import tasks\n",
    "import html\n",
    "import time\n",
    "import re\n",
    "import os\n",
    "import traceback\n",
    "import types\n",
    "import pendulum"
   ]
  },
  {
   "cell_type": "code",
   "execution_count": 2,
   "metadata": {},
   "outputs": [
    {
     "name": "stdout",
     "output_type": "stream",
     "text": [
      ". storage markets.json\n",
      ".\\storage\\markets.json was deserialized!\n"
     ]
    }
   ],
   "source": [
    "market = JSON.deserialize('.', 'storage', 'markets.json')['Eyelashes']\n",
    "visitor = Visitor(market, headless=False)"
   ]
  },
  {
   "cell_type": "code",
   "execution_count": 3,
   "metadata": {},
   "outputs": [
    {
     "name": "stdout",
     "output_type": "stream",
     "text": [
      "primary 打开网址：https://i.alibaba.com\n",
      "primary 等待登陆页面加载 ... ...\n",
      "primary 输入登录信息， 并登录\n",
      "success 成功 登录 阿里巴巴 国际站！用户名：Jeremy\n",
      "E:\\glitter\\Eyelashes_config\\visitors\\visitors_2018-09-07.json was serialized!\n",
      "E:\\glitter\\Eyelashes_config\\visitors\\visitors_2018-09-06.json was serialized!\n",
      "E:\\glitter\\Eyelashes_config\\visitors\\visitors_2018-09-05.json was serialized!\n",
      "E:\\glitter\\Eyelashes_config\\visitors\\visitors_2018-09-04.json was serialized!\n",
      "E:\\glitter\\Eyelashes_config\\visitors\\visitors_2018-09-03.json was serialized!\n",
      "E:\\glitter\\Eyelashes_config\\visitors\\visitors_2018-09-02.json was serialized!\n",
      "E:\\glitter\\Eyelashes_config\\visitors\\visitors_2018-09-01.json was serialized!\n",
      "E:\\glitter\\Eyelashes_config\\visitors\\visitors_2018-08-31.json was serialized!\n",
      "E:\\glitter\\Eyelashes_config\\visitors\\visitors_2018-08-30.json was serialized!\n",
      "E:\\glitter\\Eyelashes_config\\visitors\\visitors_2018-08-29.json was serialized!\n",
      "E:\\glitter\\Eyelashes_config\\visitors\\visitors_2018-08-28.json was serialized!\n",
      "E:\\glitter\\Eyelashes_config\\visitors\\visitors_2018-08-27.json was serialized!\n",
      "E:\\glitter\\Eyelashes_config\\visitors\\visitors_2018-08-26.json was serialized!\n",
      "E:\\glitter\\Eyelashes_config\\visitors\\visitors_2018-08-25.json was serialized!\n",
      "E:\\glitter\\Eyelashes_config\\visitors\\visitors_2018-08-24.json was serialized!\n",
      "E:\\glitter\\Eyelashes_config\\visitors\\visitors_2018-08-23.json was serialized!\n",
      "E:\\glitter\\Eyelashes_config\\visitors\\visitors_2018-08-22.json was serialized!\n",
      "E:\\glitter\\Eyelashes_config\\visitors\\visitors_2018-08-21.json was serialized!\n",
      "E:\\glitter\\Eyelashes_config\\visitors\\visitors_2018-08-20.json was serialized!\n",
      "E:\\glitter\\Eyelashes_config\\visitors\\visitors_2018-08-19.json was serialized!\n",
      "E:\\glitter\\Eyelashes_config\\visitors\\visitors_2018-08-18.json was serialized!\n",
      "E:\\glitter\\Eyelashes_config\\visitors\\visitors_2018-08-17.json was serialized!\n",
      "E:\\glitter\\Eyelashes_config\\visitors\\visitors_2018-08-16.json was serialized!\n",
      "E:\\glitter\\Eyelashes_config\\visitors\\visitors_2018-08-15.json was serialized!\n",
      "E:\\glitter\\Eyelashes_config\\visitors\\visitors_2018-08-14.json was serialized!\n",
      "E:\\glitter\\Eyelashes_config\\visitors\\visitors_2018-08-13.json was serialized!\n",
      "E:\\glitter\\Eyelashes_config\\visitors\\visitors_2018-08-12.json was serialized!\n",
      "E:\\glitter\\Eyelashes_config\\visitors\\visitors_2018-08-11.json was serialized!\n",
      "E:\\glitter\\Eyelashes_config\\visitors\\visitors_2018-08-10.json was serialized!\n",
      "E:\\glitter\\Eyelashes_config\\visitors\\visitors_2018-08-09.json was serialized!\n",
      "E:\\glitter\\Eyelashes_config\\visitors\\visitors_2018-08-08.json was serialized!\n"
     ]
    }
   ],
   "source": [
    "visitor.update()"
   ]
  },
  {
   "cell_type": "code",
   "execution_count": null,
   "metadata": {},
   "outputs": [],
   "source": [
    "def update(self):\n",
    "    self.login()\n",
    "    self.browser.get(self.api)\n",
    "    self.switch_to_last_31_days()\n",
    "    visitors = self.crawl_visitors()\n",
    "    self.serialize(visitors)\n",
    "visitor.update = types.MethodType(update, visitor)"
   ]
  },
  {
   "cell_type": "code",
   "execution_count": null,
   "metadata": {},
   "outputs": [],
   "source": [
    "len(deserialize())"
   ]
  },
  {
   "cell_type": "code",
   "execution_count": null,
   "metadata": {},
   "outputs": [],
   "source": [
    "browser.get(url)\n",
    "# switch_to_last_31_days()\n",
    "visitors = crawl_visitors()\n",
    "len(visitors)"
   ]
  },
  {
   "cell_type": "code",
   "execution_count": null,
   "metadata": {},
   "outputs": [],
   "source": [
    "serialize(visitors)"
   ]
  },
  {
   "cell_type": "code",
   "execution_count": null,
   "metadata": {},
   "outputs": [],
   "source": [
    "%store visitors"
   ]
  },
  {
   "cell_type": "code",
   "execution_count": null,
   "metadata": {},
   "outputs": [],
   "source": [
    "%store -r visitors"
   ]
  },
  {
   "cell_type": "code",
   "execution_count": null,
   "metadata": {},
   "outputs": [],
   "source": [
    "dt = visitors[0]['pv-detail'][0]['time']"
   ]
  },
  {
   "cell_type": "code",
   "execution_count": null,
   "metadata": {},
   "outputs": [],
   "source": [
    "pendulum.parse(dt, tz='America/Los_Angeles')"
   ]
  },
  {
   "cell_type": "code",
   "execution_count": null,
   "metadata": {},
   "outputs": [],
   "source": [
    "print(dt, pendulum.parse(dt, tz='America/Los_Angeles'), pendulum.parse(dt, tz='America/Los_Angeles').in_timezone('Asia/Shanghai'))"
   ]
  },
  {
   "cell_type": "code",
   "execution_count": null,
   "metadata": {},
   "outputs": [],
   "source": [
    "visitors[0]['date']"
   ]
  },
  {
   "cell_type": "code",
   "execution_count": null,
   "metadata": {},
   "outputs": [],
   "source": []
  },
  {
   "cell_type": "code",
   "execution_count": null,
   "metadata": {},
   "outputs": [],
   "source": [
    "start_date = '2018-09-03'\n",
    "end_date = '2018-09-06'\n",
    "files = os.listdir(visitor.visitor_dir)\n",
    "visitors = []\n",
    "for f in files:\n",
    "    if not f.startswith('visitors_') or not f.endswith('.json'):\n",
    "        continue\n",
    "    dt = re.search('visitors_(.*).json', f).group(1)\n",
    "    print(dt)\n",
    "    visitors += JSON.deserialize(visitor.confi_dir, 'visitors', f)\n",
    "return visitors"
   ]
  },
  {
   "cell_type": "code",
   "execution_count": null,
   "metadata": {},
   "outputs": [],
   "source": [
    "start_date = pendulum.parse('2018-09-03')\n",
    "end_date = pendulum.parse('2018-09-06')\n",
    "dt = pendulum.parse('2018-09-03')\n",
    "start_date <= dt <= end_date"
   ]
  },
  {
   "cell_type": "code",
   "execution_count": null,
   "metadata": {},
   "outputs": [],
   "source": []
  },
  {
   "cell_type": "code",
   "execution_count": null,
   "metadata": {},
   "outputs": [],
   "source": []
  }
 ],
 "metadata": {
  "kernelspec": {
   "display_name": "Python 3",
   "language": "python",
   "name": "python3"
  },
  "language_info": {
   "codemirror_mode": {
    "name": "ipython",
    "version": 3
   },
   "file_extension": ".py",
   "mimetype": "text/x-python",
   "name": "python",
   "nbconvert_exporter": "python",
   "pygments_lexer": "ipython3",
   "version": "3.6.6"
  }
 },
 "nbformat": 4,
 "nbformat_minor": 2
}
