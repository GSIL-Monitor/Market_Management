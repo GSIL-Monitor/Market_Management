{
 "cells": [
  {
   "cell_type": "code",
   "execution_count": 1,
   "metadata": {},
   "outputs": [],
   "source": [
    "from libs.alibaba.visitor import Visitor\n",
    "\n",
    "from libs.json import JSON\n",
    "from openpyxl import load_workbook\n",
    "\n",
    "from selenium.webdriver.common.keys import Keys\n",
    "from selenium.webdriver.common.action_chains import ActionChains\n",
    "from selenium import webdriver\n",
    "from selenium.webdriver.common.by import By\n",
    "from selenium.webdriver.support.ui import WebDriverWait\n",
    "from selenium.webdriver.support import expected_conditions as EC\n",
    "from selenium.common.exceptions import WebDriverException\n",
    "from selenium.common.exceptions import NoSuchElementException\n",
    "from selenium.common.exceptions import TimeoutException\n",
    "from selenium.common.exceptions import StaleElementReferenceException\n",
    "from selenium.webdriver.support.select import Select\n",
    "from bs4 import BeautifulSoup\n",
    "from pyquery import PyQuery as pq\n",
    "from libs.CeleryTasks import tasks\n",
    "import html\n",
    "import time\n",
    "import re\n",
    "import os\n",
    "import traceback\n",
    "import types\n",
    "import pendulum"
   ]
  },
  {
   "cell_type": "code",
   "execution_count": 2,
   "metadata": {},
   "outputs": [
    {
     "name": "stdout",
     "output_type": "stream",
     "text": [
      ". storage markets.json\n",
      ".\\storage\\markets.json was deserialized!\n"
     ]
    }
   ],
   "source": [
    "market = JSON.deserialize('.', 'storage', 'markets.json')['Eyelashes']\n",
    "visitor = Visitor(market, headless=False)"
   ]
  },
  {
   "cell_type": "code",
   "execution_count": 5,
   "metadata": {},
   "outputs": [
    {
     "name": "stdout",
     "output_type": "stream",
     "text": [
      "primary 打开网址：https://i.alibaba.com\n",
      "primary 等待登陆页面加载 ... ...\n",
      "primary 输入登录信息， 并登录\n",
      "success 成功 登录 阿里巴巴 国际站！用户名：Jeremy\n",
      "E:\\glitter\\Eyelashes_config\\visitors\\visitors_2018-09-10.json was serialized!\n"
     ]
    }
   ],
   "source": [
    "visitor.update()"
   ]
  },
  {
   "cell_type": "code",
   "execution_count": null,
   "metadata": {},
   "outputs": [],
   "source": [
    "visitor.update = types.MethodType(update, visitor)"
   ]
  },
  {
   "cell_type": "code",
   "execution_count": null,
   "metadata": {},
   "outputs": [],
   "source": [
    "visitors = visitor.deserialize()"
   ]
  },
  {
   "cell_type": "code",
   "execution_count": 8,
   "metadata": {},
   "outputs": [
    {
     "data": {
      "text/plain": [
       "663"
      ]
     },
     "execution_count": 8,
     "metadata": {},
     "output_type": "execute_result"
    }
   ],
   "source": [
    "len(visitors)"
   ]
  },
  {
   "cell_type": "code",
   "execution_count": 14,
   "metadata": {
    "scrolled": false
   },
   "outputs": [
    {
     "name": "stdout",
     "output_type": "stream",
     "text": [
      "78 mink eyelash\n",
      "50 eyelash\n",
      "32 eyelash extension\n",
      "31 private label eyelash\n",
      "28 3d mink eyelash\n",
      "27 magnetic eyelash\n",
      "16 mink eyelash private label\n",
      "14 lash\n",
      "14 false eyelash\n",
      "11 silk eyelash\n",
      "7 mink lash\n",
      "7 eyelash packaging box\n",
      "5 wholesale mink eyelash\n",
      "5 magnetic lash\n",
      "4 eyelash samples\n",
      "4 magnet eyelash\n",
      "4 eyelash package box\n",
      "4 eyelash packaging\n",
      "3 custom eyelash packaging\n",
      "3 own brand eyelash\n",
      "3 eyelash mink\n",
      "3 synthetic false lash\n",
      "3 3d eyelash\n",
      "3 3d mink lash\n",
      "2 custom eyelash box\n",
      "2 lash branding\n",
      "2 private label mink eyelash\n",
      "2 wholesale 3d mink eyelash\n",
      "2 mink eyelash vendor\n",
      "2 silk eyelash extension\n",
      "2 eyelash magnetic\n",
      "2 premium mink eyelash wholesale\n",
      "2 hair extension packaging\n",
      "2 hair extension\n",
      "2 custom lash packaging mink lash\n",
      "2 cluster eyelash\n",
      "2 wholesale lash\n",
      "2 korean eyelash\n",
      "2 korean eyelash extension\n",
      "2 clear band false eyelash synthetic\n",
      "2 clear band synthetic lash\n",
      "2 eyelash 3d mink\n",
      "1 custom eyelash package\n",
      "1 thin eyelash\n",
      "1 mink eyelash ve...\n",
      "1 free mink eyelash\n",
      "1 magnetic eye lash\n",
      "1 magnetized lash\n",
      "1 individual eyelash silk\n",
      "1 3d mink eyelash 100% real\n",
      "1 synthetic eyelash\n",
      "1 mink lash .15 c curl\n",
      "1 private label silk eyelash\n",
      "1 super soft eyelash\n",
      "1 natural strip lash clear band\n",
      "1 magnetic eyelash applicator\n",
      "1 oem eyelash\n",
      "1 magnet lash\n",
      "1 mink eyelash e11\n",
      "1 sky yang lash\n",
      "1 premium volume eyelash\n",
      "1 kirablash\n",
      "1 premium eyelash extension\n",
      "1 eyelash usa\n",
      "1 individual synthetic eyelash\n",
      "1 individual eyelash extension private label\n",
      "1 dolly lash eyelash extension\n",
      "1 glue for eyelash extention\n",
      "1 vivienne silk eyelash extension\n",
      "1 individual lash extension private label\n",
      "1 faux cils false eyelash\n",
      "1 nipoo magnetic lash\n",
      "1 lilly lash\n",
      "1 false eyelash private label eyelash packaging\n",
      "1 eyelash box packaging\n",
      "1 clear band lash\n",
      "1 3d mink eyelash false\n",
      "1 pallet acrylic eyelash\n",
      "1 lash extension professional\n",
      "1 eyelash extension crystal\n",
      "1 ipm eyelash\n",
      "1 false eye lash\n",
      "1 3d lash\n",
      "1 3d silk eyelash\n",
      "1 russian volume tweezers\n",
      "1 eyelash extension tweezers\n",
      "1 l shaped volume tweezers\n",
      "1 .06 volume lash\n",
      "1 wholesale natural lash with free shipment\n",
      "1 japan eyelash\n",
      "1 wholesale eyelash packaging\n",
      "1 lash packaging\n",
      "1 high quality 3d mink lash\n",
      "1 human hair lash\n",
      "1 naturaleyelash\n",
      "1 blonde eyelash\n",
      "1 eyelash clear band\n",
      "1 brand name eyelash\n",
      "1 eyelash distributors\n",
      "1 wholesale mink eyelash own brand\n",
      "1 3d faux mink eyelash\n",
      "1 eyelash type c\n",
      "1 eyelash d curl 0.15 thickness\n",
      "1 eyelash .18\n",
      "1 magnetic synthetic eyelash\n",
      "1 lash pr boxes\n",
      "1 5pairs eyelash\n",
      "1 d03 eyelash\n",
      "1 a07 eyelash\n",
      "1 d117 eyelash\n",
      "1 eyelahes eyelash extension\n",
      "1 mink false lash\n",
      "1 false lash\n",
      "1 carry sheng eyelash\n",
      "1 private label individual-eyelash\n",
      "1 sp lash\n",
      "1 custom lash tray\n",
      "1 synthetic lash label brand\n",
      "1 eyelash extension in japan\n",
      "1 bottom lash\n",
      "1 wholesale eyelash silver glitter packaging\n",
      "1 natural eyelash\n",
      "1 magnetic eyelash aerdel\n",
      "1 eyelash extension silk\n",
      "1 nagaraku eyelash extension\n",
      "1 fake eyelash\n",
      "1 fake eye lash\n",
      "1 faux mink eyelash\n",
      "1 mink 3d eyelash private label\n",
      "1 individual eyelash\n",
      "1 top quality wholesale korean eyelash extension\n",
      "1 eyelash vivienne\n",
      "1 eylash\n",
      "1 easy fan mega volume lash\n",
      "1 vegan mink lash for mega volume\n",
      "1 eyelash extension in korea\n",
      "1 eyeslasher magnet\n",
      "1 magnetic eyelash bulk\n",
      "1 eyelash chair\n",
      "1 1 dollar false eyelash\n",
      "1 wholesale eyelash 3d faux mink\n",
      "1 wholesale eyelash extension mink 3d\n",
      "1 volume fans\n",
      "1 volume fans .01\n",
      "1 faux mink eyelash private label\n",
      "1 false eyelash clear band\n",
      "1 reusable eyelash\n",
      "1 pointeye eyelashtm\n",
      "1 mink 3d eyelash\n",
      "1 eyelash clusters knot free\n",
      "1 eyelash clusters\n",
      "1 cc curl lash extension\n",
      "1 .05 d curl lash extension\n",
      "1 eyelash extention\n",
      "1 ellipse eyelash extension\n",
      "1 free shipping magnetic false eyelash\n",
      "1 eye eyelash\n",
      "1 eyelash glue private label\n",
      "1 eyelash boxes custom logo\n",
      "1 eyeslash\n",
      "1 slik lash private label\n",
      "1 mink eyelash private label thick\n",
      "1 100% mink lash\n",
      "1 3d magnetic eyelash\n",
      "1 clear band wispy false eyelash synthetic\n",
      "1 koko lash\n",
      "1 handmade eyelash indonesia\n",
      "1 private label eyelash russian\n",
      "1 ardell eyelash\n",
      "1 4 eyelash box\n",
      "1 eyelash packaging sleeve\n",
      "1 eyelash with glue\n",
      "1 wholesale mink lash\n",
      "1 qingdao eyelash\n",
      "1 strip eyelash invisible band\n",
      "1 synthetic individual eyelash\n",
      "1 mink synthetic eyelash extension 16 lines\n",
      "1 individual synthetic mink eyelash\n",
      "1 black party lash\n",
      "1 make your own eyelash box\n",
      "1 eyelash tools\n",
      "1 2018 droshipping silk magnet false eyelash 6d\n",
      "1 silk lash extens\n",
      "1 natural 3d mink eyelash\n",
      "1 eyelash packaging box custom mink lash\n",
      "1 private label wholesale house of lash\n",
      "1 soft natural 3d private label mink eyelash\n",
      "1 lash 3d mink\n",
      "1 eyelash extension so\n",
      "1 individual eye lash\n",
      "1 eye lash\n",
      "1 korean eyelash silk extension\n",
      "1 eyelash extension pads\n",
      "1 eyelash extension glue\n",
      "1 eyelash extension mink\n",
      "1 house of lash\n",
      "1 eye lash extension seda\n",
      "1 eyelash private label packaging custom\n",
      "1 eyelash box\n",
      "1 blink lash stylist\n",
      "1 blink lash stylist care\n",
      "1 eyelash extension professional\n",
      "1 qingdao origin lash\n",
      "1 mink eyelash extension\n"
     ]
    }
   ],
   "source": [
    "kws = {}\n",
    "words = {}\n",
    "expected_kws = ['volume', 'cluster', 'extension', 'flare', 'lash']\n",
    "# expected_kws = ['magnet']\n",
    "for v in visitors:\n",
    "    if v['region'].lower() == 'china':\n",
    "        continue\n",
    "        \n",
    "    for kw in v['keywords']:\n",
    "        kw = kw.lower()\n",
    "        kw = re.sub('eyelashes', 'eyelash', kw)\n",
    "        kw = re.sub('lashes', 'lash', kw)\n",
    "        kw = re.sub('extensions', 'extension', kw)\n",
    "        \n",
    "        for w in kw.split(' '):\n",
    "            if w not in words:\n",
    "                words[w] = 0\n",
    "            words[w] = words[w] + 1\n",
    "            \n",
    "        for ekw in expected_kws:\n",
    "            if ekw in kw:\n",
    "                if kw not in kws:\n",
    "                    kws[kw] = 0\n",
    "                kws[kw] = kws[kw] + 1\n",
    "                break\n",
    "\n",
    "word_list = []\n",
    "for w in words:\n",
    "    word_list.append([w, words[w]])\n",
    "sorted_words = sorted(word_list, key=lambda k: k[1], reverse=True)\n",
    "\n",
    "kw_list = []\n",
    "for kw in kws:\n",
    "    kw_list.append([kw, kws[kw]])\n",
    "    \n",
    "sorted_kws = sorted(kw_list, key=lambda k: k[1], reverse=True)\n",
    "for kw in sorted_kws:\n",
    "    print(kw[1], kw[0])"
   ]
  },
  {
   "cell_type": "code",
   "execution_count": 25,
   "metadata": {},
   "outputs": [
    {
     "name": "stdout",
     "output_type": "stream",
     "text": [
      "Stored 'sorted_kws' (list)\n"
     ]
    }
   ],
   "source": [
    "%store sorted_kws"
   ]
  },
  {
   "cell_type": "code",
   "execution_count": null,
   "metadata": {},
   "outputs": [],
   "source": []
  },
  {
   "cell_type": "code",
   "execution_count": 15,
   "metadata": {},
   "outputs": [],
   "source": [
    "import re"
   ]
  },
  {
   "cell_type": "code",
   "execution_count": 22,
   "metadata": {},
   "outputs": [],
   "source": [
    "href = \"//hz-productposting.alibaba.com/product/editing.htm?id=60762374394\"\n",
    "ali_id = re.search('\\?id=(\\d+)', href).group(1)"
   ]
  },
  {
   "cell_type": "code",
   "execution_count": 27,
   "metadata": {},
   "outputs": [],
   "source": [
    "from openpyxl import load_workbook"
   ]
  },
  {
   "cell_type": "code",
   "execution_count": 28,
   "metadata": {},
   "outputs": [],
   "source": [
    "file = 'products ranking overview.xlsx'\n",
    "wb = load_workbook(file)\n",
    "sheet = wb.worksheets[0]\n",
    "idx = 0\n",
    "for kw in sorted_kws:\n",
    "    idx += 1\n",
    "    cell = sheet.cell(row=idx,column=1)\n",
    "    cell.value = kw[1]\n",
    "    cell = sheet.cell(row=idx,column=2)\n",
    "    cell.value = kw[0]\n",
    "wb.save(file)"
   ]
  },
  {
   "cell_type": "code",
   "execution_count": null,
   "metadata": {},
   "outputs": [],
   "source": []
  },
  {
   "cell_type": "code",
   "execution_count": null,
   "metadata": {},
   "outputs": [],
   "source": []
  },
  {
   "cell_type": "code",
   "execution_count": null,
   "metadata": {},
   "outputs": [],
   "source": []
  },
  {
   "cell_type": "code",
   "execution_count": null,
   "metadata": {},
   "outputs": [],
   "source": []
  },
  {
   "cell_type": "code",
   "execution_count": null,
   "metadata": {},
   "outputs": [],
   "source": []
  },
  {
   "cell_type": "code",
   "execution_count": null,
   "metadata": {},
   "outputs": [],
   "source": []
  },
  {
   "cell_type": "code",
   "execution_count": null,
   "metadata": {},
   "outputs": [],
   "source": []
  }
 ],
 "metadata": {
  "kernelspec": {
   "display_name": "Python 3",
   "language": "python",
   "name": "python3"
  },
  "language_info": {
   "codemirror_mode": {
    "name": "ipython",
    "version": 3
   },
   "file_extension": ".py",
   "mimetype": "text/x-python",
   "name": "python",
   "nbconvert_exporter": "python",
   "pygments_lexer": "ipython3",
   "version": "3.6.6"
  }
 },
 "nbformat": 4,
 "nbformat_minor": 2
}
