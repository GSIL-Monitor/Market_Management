{
 "cells": [
  {
   "cell_type": "code",
   "execution_count": 7,
   "metadata": {},
   "outputs": [],
   "source": [
    "from libs.alibaba.visitor import Visitor\n",
    "\n",
    "from libs.json import JSON\n",
    "from openpyxl import load_workbook\n",
    "\n",
    "from selenium.webdriver.common.keys import Keys\n",
    "from selenium.webdriver.common.action_chains import ActionChains\n",
    "from selenium import webdriver\n",
    "from selenium.webdriver.common.by import By\n",
    "from selenium.webdriver.support.ui import WebDriverWait\n",
    "from selenium.webdriver.support import expected_conditions as EC\n",
    "from selenium.common.exceptions import WebDriverException\n",
    "from selenium.common.exceptions import NoSuchElementException\n",
    "from selenium.common.exceptions import TimeoutException\n",
    "from selenium.common.exceptions import StaleElementReferenceException\n",
    "from selenium.webdriver.support.select import Select\n",
    "from bs4 import BeautifulSoup\n",
    "from pyquery import PyQuery as pq\n",
    "import html\n",
    "import time\n",
    "import re\n",
    "import os\n",
    "import traceback\n",
    "import types\n",
    "import pendulum"
   ]
  },
  {
   "cell_type": "code",
   "execution_count": 8,
   "metadata": {},
   "outputs": [
    {
     "name": "stdout",
     "output_type": "stream",
     "text": [
      ". storage markets.json\n",
      ".\\storage\\markets.json was deserialized!\n",
      "E:\\glitter\\Eyelashes_config . product_list.json\n",
      "E:\\glitter\\Eyelashes_config\\.\\product_list.json was deserialized!\n"
     ]
    }
   ],
   "source": [
    "market = JSON.deserialize('.', 'storage', 'markets.json')['Eyelashes']\n",
    "visitor = Visitor(market, headless=False)"
   ]
  },
  {
   "cell_type": "code",
   "execution_count": 3,
   "metadata": {},
   "outputs": [],
   "source": [
    "# visitor.update()"
   ]
  },
  {
   "cell_type": "code",
   "execution_count": 43,
   "metadata": {},
   "outputs": [],
   "source": [
    "def parse_tr(self, tr):\n",
    "    visitor = {}\n",
    "    date = tr.find_element_by_css_selector('td.td-checkbox input').get_attribute('statdate')\n",
    "    visitor['id'] = tr.find_element_by_css_selector('td.td-checkbox input').get_attribute('visitorid')\n",
    "    visitor['idx'] = tr.find_element_by_css_selector('td.td-checkbox input').get_attribute('visitoridx')\n",
    "    visitor['date'] = date\n",
    "    visitor['region'] = tr.find_element_by_css_selector('td.td-region span').get_attribute('title')\n",
    "    \n",
    "    span_mailable = tr.find_element_by_css_selector('td.td-operate span:first-child')\n",
    "    visitor['mailable_status'] = span_mailable.get_attribute('class')\n",
    "    visitor['mailable_hint'] = span_mailable.get_attribute('hint')\n",
    "    span_mail_count = tr.find_elements_by_css_selector('td.td-operate span.send-count')\n",
    "    if span_mail_count:\n",
    "        visitor['mail_sent_count'] = span_mail_count[0].get_attribute('count')\n",
    "    else:\n",
    "        visitor['mail_sent_count'] = 0\n",
    "    \n",
    "    pv_span = tr.find_element_by_css_selector('td.td-pv span')\n",
    "    visitor['pv'] = pv_span.text\n",
    "\n",
    "    visitor['pv-detail'] = []\n",
    "    if visitor['pv'] != '0':\n",
    "        css_pv_detail = '#J-visitor-detail'\n",
    "        css_pv_detail_close = '#J-vistor-detail-close'\n",
    "        css_pv_detail_body = '#J-visitor-detail-tbl-tbody'\n",
    "        css_pv_detail_pagination = '#J-pagination-visitor-detail'\n",
    "        pv_span.click()\n",
    "        while True:\n",
    "            pv_detail_tbody = WebDriverWait(self.browser, 15).until(\n",
    "                EC.visibility_of_element_located((By.CSS_SELECTOR, css_pv_detail_body)))\n",
    "\n",
    "            for pv_tr in pv_detail_tbody.find_elements_by_css_selector('tr'):\n",
    "                pv = {}\n",
    "                pv['idx'] = pv_tr.find_element_by_css_selector('td.visitor-detail-index').text\n",
    "                pv['page'] = pv_tr.find_element_by_css_selector('td.visitor-detail-page a').get_attribute('href')\n",
    "                page_acts = pv_tr.find_element_by_css_selector('td.visitor-detail-page div').text\n",
    "                if '已发起询盘' in page_acts:\n",
    "                    pv['inquiried'] = True\n",
    "                else:\n",
    "                    pv['inquiried'] = False\n",
    "\n",
    "                if '已发起TradeManager咨询' in page_acts:\n",
    "                    pv['tm_inquiried'] = True\n",
    "                else:\n",
    "                    pv['tm_inquiried'] = False\n",
    "                pv['stay'] = pv_tr.find_element_by_css_selector('td.visitor-detail-stay').text\n",
    "                pv['time'] = pv_tr.find_element_by_css_selector('td.visitor-detail-time').text\n",
    "                visitor['pv-detail'].append(pv)\n",
    "\n",
    "            next_pv_detail_button = self.browser.find_elements_by_css_selector(css_pv_detail_pagination + ' .ui-pagination-active + a')\n",
    "            if next_pv_detail_button:\n",
    "                while True:\n",
    "                    try:\n",
    "                        ActionChains(self.browser).move_to_element(next_pv_detail_button[0]).perform()\n",
    "                        next_pv_detail_button[0].click()\n",
    "                        break\n",
    "                    except WebDriverException as e:\n",
    "                        if 'is not clickable at point' in str(e):\n",
    "                            self.browser.implicitly_wait(0.5)\n",
    "                            continue\n",
    "                        else:\n",
    "                            raise e\n",
    "            else:\n",
    "                break\n",
    "\n",
    "        while True:\n",
    "            try:\n",
    "                self.browser.find_element_by_css_selector(css_pv_detail_close).click()\n",
    "                break\n",
    "            except WebDriverException as e:\n",
    "                if 'is not clickable at point' in str(e):\n",
    "                    self.browser.implicitly_wait(0.5)\n",
    "                    continue\n",
    "                else:\n",
    "                    raise e\n",
    "\n",
    "    visitor['stay'] = tr.find_element_by_css_selector('td.td-stay-duration').text\n",
    "\n",
    "    kws_div = tr.find_elements_by_css_selector('td.td-search-keywords>div.search-keywords')\n",
    "    if kws_div:\n",
    "        kws_div = kws_div[0]\n",
    "        kws_text = kws_div.get_attribute('data-text')\n",
    "        visitor['keywords'] =  re.sub('</div><div>', ',', kws_text)[5:-6].split(',')\n",
    "        visitor['search_keyword_indices'] = []\n",
    "        for idx, div in enumerate(kws_div.find_elements_by_css_selector('div')):\n",
    "            if div.find_elements_by_css_selector('span.search-keyword'):\n",
    "                visitor['search_keyword_indices'].append(idx)\n",
    "    else:\n",
    "        visitor['keywords'] = []\n",
    "        visitor['search_keyword_indices'] = []\n",
    "\n",
    "    visitor['minisite-acts'] = []\n",
    "    for div in tr.find_elements_by_css_selector('td.td-minisite-active span'):\n",
    "        visitor['minisite-acts'].append(div.get_attribute('textContent'))\n",
    "    visitor['website-acts'] = []\n",
    "    for div in tr.find_elements_by_css_selector('td.td-website-active span'):\n",
    "        visitor['website-acts'].append(div.get_attribute('textContent'))\n",
    "\n",
    "    return visitor\n",
    "visitor.parse_tr = types.MethodType(parse_tr, visitor)"
   ]
  },
  {
   "cell_type": "code",
   "execution_count": 67,
   "metadata": {},
   "outputs": [],
   "source": [
    "def mail_to_current_page_visitors(self, remain):\n",
    "    css_tbody = '#J-visitors-tbl-tbody'\n",
    "    tbody = WebDriverWait(self.browser, 15).until(\n",
    "        EC.visibility_of_element_located((By.CSS_SELECTOR, css_tbody)))\n",
    "\n",
    "    count = 0\n",
    "    for tr in tbody.find_elements_by_css_selector(css_tbody+' tr.J-visitors-table-tr'):\n",
    "        if count >= remain:\n",
    "            break\n",
    "        ActionChains(self.browser).move_to_element(tr).perform()\n",
    "\n",
    "        visitor = self.parse_tr(tr)\n",
    "        \n",
    "        if not self.is_mail_needed(visitor):\n",
    "            continue\n",
    "    \n",
    "        rps = []\n",
    "        for pv in visitor['pv-detail']:\n",
    "            url = pv['page']\n",
    "            result = re.search('(_|\\/)(\\d+)(\\.html|\\/)', url, re.IGNORECASE)\n",
    "            if result:\n",
    "                ali_id = result.group(2)\n",
    "                category = self.products[ali_id]['category'].lower()\n",
    "                for key in self.recommended:\n",
    "                    if key in category:\n",
    "                        for rp in self.recommended[key]:\n",
    "                            if rp not in rps:\n",
    "                                rps.append(rp)\n",
    "                        break\n",
    "\n",
    "        self.mail_to_visitor(tr, rps)\n",
    "        count += 1\n",
    "\n",
    "    return remain - count\n",
    "visitor.mail_to_current_page_visitors = types.MethodType(mail_to_current_page_visitors, visitor)"
   ]
  },
  {
   "cell_type": "code",
   "execution_count": 64,
   "metadata": {},
   "outputs": [],
   "source": [
    "def is_mail_needed(self, visitor):\n",
    "    \n",
    "    if int(visitor['mail_sent_count']) > 0:\n",
    "        print('mail_sent_count > 0')\n",
    "        return False\n",
    "\n",
    "    if visitor['region'].lower() == 'china':\n",
    "        print('region is in china')\n",
    "        return False\n",
    "\n",
    "    mini_site_acts = ', '.join(visitor['minisite-acts'])\n",
    "    if '已发起询盘' in mini_site_acts:\n",
    "        print('已发起询盘')\n",
    "        return False\n",
    "    if '已发起TradeManager咨询' in mini_site_acts:\n",
    "        print('已发起TradeManager咨询')\n",
    "        return False\n",
    "\n",
    "    rkws = ['lash', 'fan', 'volume', 'exten', 'cils', 'wimpern', 'pesta']\n",
    "    found = False\n",
    "    for kw in visitor['keywords']:\n",
    "        kw = kw.lower()\n",
    "        for rkw in rkws:\n",
    "            if rkw in kw:\n",
    "                found = True\n",
    "                break\n",
    "        if found:\n",
    "            break\n",
    "    if not visitor['keywords']:\n",
    "        found = True\n",
    "    \n",
    "    pv_count = int(visitor['pv'])\n",
    "    stay = visitor['stay']\n",
    "    if stay == '-':\n",
    "        stay = 0\n",
    "    else:\n",
    "        stay = int(stay.split('s')[0])\n",
    "    if pv_count < 2 and stay < 10 and not found:\n",
    "        print('pv_count < 2 and stay < 10 and absence of realated keywords')\n",
    "        return False\n",
    "       \n",
    "    now = pendulum.now()\n",
    "    dt_1500 = pendulum.parse('15:00', tz='Asia/Shanghai')\n",
    "    dt_1600 = pendulum.parse('16:00', tz='Asia/Shanghai')\n",
    "    if now < dt_1500 or now > dt_1600:\n",
    "        if pv_count < 2 and stay < 10 and found:\n",
    "            print('(<15:00 or >16:00) and pv_count < 2 and stay < 10')\n",
    "            return False\n",
    "    return True\n",
    "visitor.is_mail_needed = types.MethodType(is_mail_needed, visitor)"
   ]
  },
  {
   "cell_type": "code",
   "execution_count": 2,
   "metadata": {},
   "outputs": [],
   "source": [
    "# visitors = visitor.deserialize()\n",
    "# len(visitors)"
   ]
  },
  {
   "cell_type": "code",
   "execution_count": 9,
   "metadata": {},
   "outputs": [
    {
     "name": "stdout",
     "output_type": "stream",
     "text": [
      "primary 打开网址：https://i.alibaba.com\n",
      "primary 等待登陆页面加载 ... ...\n",
      "primary 输入登录信息， 并登录\n",
      "success 成功 登录 阿里巴巴 国际站！用户名：Jeremy\n"
     ]
    }
   ],
   "source": [
    "visitor.load_url()"
   ]
  },
  {
   "cell_type": "code",
   "execution_count": 66,
   "metadata": {
    "scrolled": false
   },
   "outputs": [
    {
     "name": "stdout",
     "output_type": "stream",
     "text": [
      "region is in china\n",
      "{'id': 'D18120411', 'idx': '11', 'date': '2018-12-04', 'region': 'China', 'mailable_status': 'unmailable', 'mailable_hint': 'unmailable', 'mail_sent_count': 0, 'pv': '2', 'pv-detail': [{'idx': '1', 'page': 'http://glittereyelash.en.alibaba.com/company_profile.html?spm=a2700.supplier-normal.35.3.45d41bc0W9HpBx', 'inquiried': False, 'tm_inquiried': False, 'stay': '4s', 'time': '2018-12-04 18:29:25'}, {'idx': '2', 'page': 'http://glittereyelash.en.alibaba.com/contactinfo.html?spm=a2700.icbuShop.0.0.61ce594dYHnfT7', 'inquiried': False, 'tm_inquiried': False, 'stay': '10s', 'time': '2018-12-04 18:29:29'}], 'stay': '14s', 'keywords': ['qingdao', 'qingdao eyelashes', 'qingdao packing', 'eyelash'], 'search_keyword_indices': [3], 'minisite-acts': ['访问Company Profile', '访问Contacts'], 'website-acts': ['总浏览量331', '浏览126个供应商']}\n",
      "\n",
      "(<15:00 or >16:00) and pv_count < 2 and stay < 10\n",
      "{'id': 'D18120413', 'idx': '13', 'date': '2018-12-04', 'region': 'Australia', 'mailable_status': 'unmailable', 'mailable_hint': 'unmailable', 'mail_sent_count': 0, 'pv': '1', 'pv-detail': [{'idx': '1', 'page': 'http://www.alibaba.com/product-detail/bulk-synthetic-false-magnetic-eyelash-magnet_60763607812.html?spm=a2700.8443308.0.0.74c73e5fX0WzEp', 'inquiried': False, 'tm_inquiried': False, 'stay': '-', 'time': '2018-12-04 17:56:10'}], 'stay': '-', 'keywords': ['magnetic lash', 'eyelash curling tool', 'gold face tattoo', 'false eyelash colour'], 'search_keyword_indices': [3], 'minisite-acts': [], 'website-acts': ['总浏览量72', '发布1个RFQ', '浏览11个供应商']}\n",
      "\n",
      "(<15:00 or >16:00) and pv_count < 2 and stay < 10\n",
      "{'id': 'D18120414', 'idx': '14', 'date': '2018-12-04', 'region': 'United States', 'mailable_status': 'unmailable', 'mailable_hint': 'unmailable', 'mail_sent_count': 0, 'pv': '1', 'pv-detail': [{'idx': '1', 'page': 'http://m.spanish.alibaba.com/p-detail/lash-supplies-wholesale-individual-bulk-pbt-60732345735.html?s=p?spm=a2706.amp_goods', 'inquiried': False, 'tm_inquiried': False, 'stay': '-', 'time': '2018-12-04 17:13:13'}], 'stay': '-', 'keywords': ['pestañas coreano', 'pestañas postizas', 'pestaas coreano'], 'search_keyword_indices': [2], 'minisite-acts': [], 'website-acts': ['总浏览量12', '浏览4个供应商']}\n",
      "\n",
      "region is in china\n",
      "{'id': 'D18120416', 'idx': '16', 'date': '2018-12-04', 'region': 'China', 'mailable_status': 'unmailable', 'mailable_hint': 'unmailable', 'mail_sent_count': 0, 'pv': '1', 'pv-detail': [{'idx': '1', 'page': 'http://www.alibaba.com/product-detail/lash-supplies-wholesale-individual-bulk-pbt_60732345735.html?spm=a271v.8028085.0.0.3bbd3e5favRphy&s=p', 'inquiried': False, 'tm_inquiried': False, 'stay': '20s', 'time': '2018-12-04 14:20:12'}], 'stay': '20s', 'keywords': ['mink eyelash', 'mink eyelashes', 'eyelash'], 'search_keyword_indices': [], 'minisite-acts': [], 'website-acts': ['总浏览量253', '浏览1个供应商']}\n",
      "\n",
      "mail_sent_count > 0\n",
      "{'id': 'D18120417', 'idx': '17', 'date': '2018-12-04', 'region': 'Australia', 'mailable_status': 'unmailable', 'mailable_hint': 'tooFrequent', 'mail_sent_count': '1', 'pv': '1', 'pv-detail': [{'idx': '1', 'page': 'http://www.alibaba.com/product-detail/own-brand-mink-lashes-wholesale-vendor-cruelty-free-real-mink-strip-eyelash-private-label-3d-mink-eyelashes_60761530720.html', 'inquiried': False, 'tm_inquiried': False, 'stay': '21s', 'time': '2018-12-04 13:02:55'}], 'stay': '21s', 'keywords': ['mink strip eyelashes'], 'search_keyword_indices': [0], 'minisite-acts': [], 'website-acts': ['总浏览量28', '浏览9个供应商']}\n",
      "\n",
      "mail_sent_count > 0\n",
      "{'id': 'D18120418', 'idx': '18', 'date': '2018-12-04', 'region': 'Colombia', 'mailable_status': 'unmailable', 'mailable_hint': 'tooFrequent', 'mail_sent_count': '1', 'pv': '1', 'pv-detail': [{'idx': '1', 'page': 'http://www.alibaba.com/product-detail/private-label-flat-eyelash-extention-matt-cashmere-matte-black-flat-lash-ellipse-flat-eyelash-extension_60764332933.html', 'inquiried': False, 'tm_inquiried': False, 'stay': '76s', 'time': '2018-12-04 12:37:20'}], 'stay': '76s', 'keywords': ['ellipse flat eyelash extension'], 'search_keyword_indices': [0], 'minisite-acts': [], 'website-acts': ['总浏览量6', '浏览1个供应商']}\n",
      "\n",
      "(<15:00 or >16:00) and pv_count < 2 and stay < 10\n",
      "{'id': 'D18120419', 'idx': '19', 'date': '2018-12-04', 'region': 'United States', 'mailable_status': 'unmailable', 'mailable_hint': 'unmailable', 'mail_sent_count': 0, 'pv': '1', 'pv-detail': [{'idx': '1', 'page': 'http://m.alibaba.com/product/60732345735/lash-supplies-wholesale-individual-bulk-pbt.html?s=p', 'inquiried': False, 'tm_inquiried': False, 'stay': '-', 'time': '2018-12-04 12:24:39'}], 'stay': '-', 'keywords': [], 'search_keyword_indices': [], 'minisite-acts': [], 'website-acts': ['总浏览量2', '浏览1个供应商']}\n",
      "\n",
      "已发起询盘\n",
      "{'id': 'D18120420', 'idx': '20', 'date': '2018-12-04', 'region': 'United States', 'mailable_status': 'unmailable', 'mailable_hint': 'unmailable', 'mail_sent_count': 0, 'pv': '2', 'pv-detail': [{'idx': '1', 'page': 'http://m.alibaba.com/product/60761530720/own-brand-mink-lashes-wholesale-vendor.html?spm=a2706.8162073.0.0.16ee48da3J489E', 'inquiried': True, 'tm_inquiried': False, 'stay': '15s', 'time': '2018-12-04 11:28:03'}, {'idx': '2', 'page': 'http://m.alibaba.com/product/60761530720/own-brand-mink-lashes-wholesale-vendor.html?spm=a2706.8162073.0.0.16ee48da3J489E', 'inquiried': False, 'tm_inquiried': False, 'stay': '2s', 'time': '2018-12-04 11:28:30'}], 'stay': '17s', 'keywords': ['lash', 'alva ada', 'cosmetics containers and packaging'], 'search_keyword_indices': [2], 'minisite-acts': ['已发起询盘 '], 'website-acts': ['总浏览量70', '浏览5个供应商', '对2个供应商发起2个询盘']}\n",
      "\n"
     ]
    },
    {
     "data": {
      "text/plain": [
       "20"
      ]
     },
     "execution_count": 66,
     "metadata": {},
     "output_type": "execute_result"
    }
   ],
   "source": [
    "visitor.mail_to_current_page_visitors(20)"
   ]
  },
  {
   "cell_type": "code",
   "execution_count": null,
   "metadata": {},
   "outputs": [],
   "source": []
  },
  {
   "cell_type": "code",
   "execution_count": null,
   "metadata": {},
   "outputs": [],
   "source": []
  },
  {
   "cell_type": "code",
   "execution_count": null,
   "metadata": {},
   "outputs": [],
   "source": []
  },
  {
   "cell_type": "code",
   "execution_count": 27,
   "metadata": {},
   "outputs": [],
   "source": []
  },
  {
   "cell_type": "code",
   "execution_count": null,
   "metadata": {},
   "outputs": [],
   "source": []
  },
  {
   "cell_type": "code",
   "execution_count": null,
   "metadata": {},
   "outputs": [],
   "source": []
  },
  {
   "cell_type": "code",
   "execution_count": null,
   "metadata": {},
   "outputs": [],
   "source": []
  },
  {
   "cell_type": "code",
   "execution_count": null,
   "metadata": {},
   "outputs": [],
   "source": []
  },
  {
   "cell_type": "code",
   "execution_count": null,
   "metadata": {},
   "outputs": [],
   "source": []
  },
  {
   "cell_type": "code",
   "execution_count": null,
   "metadata": {},
   "outputs": [],
   "source": []
  },
  {
   "cell_type": "code",
   "execution_count": null,
   "metadata": {},
   "outputs": [],
   "source": [
    "%store sorted_kws"
   ]
  }
 ],
 "metadata": {
  "kernelspec": {
   "display_name": "Python 3",
   "language": "python",
   "name": "python3"
  }
 },
 "nbformat": 4,
 "nbformat_minor": 2
}
