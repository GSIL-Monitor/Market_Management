{
 "cells": [
  {
   "cell_type": "code",
   "execution_count": 1,
   "metadata": {},
   "outputs": [],
   "source": [
    "from libs.alibaba.alibaba import Alibaba\n",
    "\n",
    "from selenium.webdriver.common.keys import Keys\n",
    "from selenium.webdriver.common.action_chains import ActionChains\n",
    "from selenium import webdriver\n",
    "from selenium.webdriver.common.by import By\n",
    "from selenium.webdriver.support.ui import WebDriverWait\n",
    "from selenium.webdriver.support import expected_conditions as EC\n",
    "from selenium.common.exceptions import WebDriverException\n",
    "from selenium.common.exceptions import NoSuchElementException\n",
    "from selenium.common.exceptions import TimeoutException\n",
    "from selenium.common.exceptions import StaleElementReferenceException\n",
    "from selenium.webdriver.support.select import Select\n",
    "from bs4 import BeautifulSoup\n",
    "from pyquery import PyQuery as pq\n",
    "from libs.CeleryTasks import tasks\n",
    "import html\n",
    "import time\n",
    "import re\n",
    "import traceback\n",
    "import types"
   ]
  },
  {
   "cell_type": "code",
   "execution_count": 80,
   "metadata": {},
   "outputs": [],
   "source": [
    "import pendulum"
   ]
  },
  {
   "cell_type": "code",
   "execution_count": 2,
   "metadata": {},
   "outputs": [
    {
     "name": "stdout",
     "output_type": "stream",
     "text": [
      "primary 打开网址：https://i.alibaba.com\n",
      "primary 等待登陆页面加载 ... ...\n",
      "primary 输入登录信息， 并登录\n",
      "success 成功 登录 阿里巴巴 国际站！用户名：Jeremy\n"
     ]
    }
   ],
   "source": [
    "lid = 'eyelash@glittergroupcn.com'\n",
    "lpwd = 'Wangzhen68970747'\n",
    "alibaba_eyelash = Alibaba(lid, lpwd)\n",
    "alibaba_eyelash.login()"
   ]
  },
  {
   "cell_type": "code",
   "execution_count": 16,
   "metadata": {},
   "outputs": [
    {
     "data": {
      "text/plain": [
       "<selenium.webdriver.remote.webelement.WebElement (session=\"263f91b17375249705f15b47af27a5f1\", element=\"0.23244758982830382-1\")>"
      ]
     },
     "execution_count": 16,
     "metadata": {},
     "output_type": "execute_result"
    }
   ],
   "source": [
    "url = 'https://hz-mydata.alibaba.com/self/visitors.htm'\n",
    "css_tbody = '#J-visitors-tbl-tbody'\n",
    "browser = alibaba_eyelash.browser\n",
    "\n",
    "browser.get(url)\n",
    "webdriver.ActionChains(browser).send_keys(Keys.ESCAPE).perform()\n",
    "WebDriverWait(browser, 15).until(EC.visibility_of_element_located((By.CSS_SELECTOR, css_tbody)))"
   ]
  },
  {
   "cell_type": "code",
   "execution_count": 58,
   "metadata": {},
   "outputs": [],
   "source": [
    "def next_page():\n",
    "    css_pagination = '#J-pagination-visitors'\n",
    "    css_next_btn = '#J-pagination-visitors span.ui-pagination-active+a'\n",
    "    \n",
    "    pagination = browser.find_element_by_css_selector(css_pagination)\n",
    "    ActionChains(browser).move_to_element(pagination).perform()\n",
    "    next_btn = browser.find_elements_by_css_selector(css_next_btn)\n",
    "    if not next_btn:\n",
    "        return False\n",
    "    else:\n",
    "        next_btn[0].click()\n",
    "        WebDriverWait(browser, 15).until(EC.visibility_of_element_located((By.CSS_SELECTOR, css_tbody)))\n",
    "        return True"
   ]
  },
  {
   "cell_type": "code",
   "execution_count": 61,
   "metadata": {},
   "outputs": [],
   "source": [
    "def get_visitors_of_current_page():\n",
    "    css_current_page = '#J-pagination-visitors span.ui-pagination-active'\n",
    "    current_page_number = browser.find_element_by_css_selector(css_current_page).text\n",
    "    \n",
    "    visitors = []\n",
    "    trs = browser.find_elements_by_css_selector(css_tbody+' tr.J-visitors-table-tr')\n",
    "    for tr in trs:\n",
    "        ActionChains(browser).move_to_element(tr).perform()\n",
    "        visitor = {}\n",
    "        visitor['date'] = tr.find_element_by_css_selector('td.td-checkbox input').get_attribute('statdate')\n",
    "        visitor['id'] = tr.find_element_by_css_selector('td.td-visitor a').text\n",
    "        visitor['region'] = tr.find_element_by_css_selector('td.td-region span').get_attribute('title')\n",
    "        pv = tr.find_element_by_css_selector('td.td-pv span')\n",
    "        visitor['pv'] = pv.text\n",
    "        visitor['pv_detail'] = []\n",
    "        \n",
    "        if visitor['pv'] != '0':\n",
    "            pv.click()\n",
    "            pvd = WebDriverWait(browser, 15).until(EC.visibility_of_element_located((By.CSS_SELECTOR, '#J-visitor-detail')))\n",
    "            close_btn = pvd.find_element_by_css_selector('span.vistor-detail-close')\n",
    "\n",
    "            css_pv_detail_tbody = \"#J-visitor-detail-tbl-tbody\"\n",
    "            WebDriverWait(browser, 15).until(EC.visibility_of_element_located((By.CSS_SELECTOR, css_pv_detail_tbody)))\n",
    "            while True:\n",
    "                pv_trs = browser.find_elements_by_css_selector(css_pv_detail_tbody+' tr')\n",
    "                for pv_tr in pv_trs:\n",
    "                    item = {}\n",
    "                    item['idx'] = pv_tr.find_element_by_css_selector('td.visitor-detail-index').text\n",
    "                    item['page'] = pv_tr.find_element_by_css_selector('td.visitor-detail-page a.J-visited-url-a').get_attribute('href')\n",
    "                    item['stay'] = pv_tr.find_element_by_css_selector('td.visitor-detail-stay').text\n",
    "                    item['time'] = pv_tr.find_element_by_css_selector('td.visitor-detail-time').text\n",
    "                    visitor['pv_detail'].append(item)\n",
    "                next_btn = browser.find_elements_by_css_selector('#J-pagination-visitor-detail a.ui-pagination-next')\n",
    "                if next_btn:\n",
    "                    next_btn[0].click()\n",
    "                    WebDriverWait(browser, 15).until(EC.visibility_of_element_located((By.CSS_SELECTOR, css_pv_detail_tbody)))\n",
    "                else:\n",
    "                    close_btn.click()\n",
    "                    WebDriverWait(browser, 15).until(EC.invisibility_of_element_located((By.CSS_SELECTOR, css_pv_detail_tbody)))\n",
    "                    break\n",
    "                    \n",
    "        visitor['stay_duration'] = tr.find_element_by_css_selector('td.td-stay-duration').text\n",
    "        visitor['stay_minisite_activity'] = []\n",
    "        for span in tr.find_elements_by_css_selector('td.td-minisite-active span'):\n",
    "            visitor['stay_minisite_activity'].append(span.get_attribute('textContent'))\n",
    "        visitor['stay_website_activity'] = []\n",
    "        for span in tr.find_elements_by_css_selector('td.td-website-active span'):\n",
    "            visitor['stay_website_activity'].append(span.get_attribute('textContent'))\n",
    "        visitors.append(visitor)\n",
    "        \n",
    "    return visitors\n",
    "#     print(current_page_number, visitors)"
   ]
  },
  {
   "cell_type": "code",
   "execution_count": null,
   "metadata": {},
   "outputs": [],
   "source": []
  },
  {
   "cell_type": "code",
   "execution_count": 60,
   "metadata": {},
   "outputs": [
    {
     "data": {
      "text/plain": [
       "590"
      ]
     },
     "execution_count": 60,
     "metadata": {},
     "output_type": "execute_result"
    }
   ],
   "source": [
    "visitor_list = []\n",
    "while True:\n",
    "    visitor_list = visitor_list + get_visitors_of_current_page()\n",
    "    if not next_page():\n",
    "        break\n",
    "len(visitor_list)"
   ]
  },
  {
   "cell_type": "code",
   "execution_count": 62,
   "metadata": {},
   "outputs": [
    {
     "name": "stdout",
     "output_type": "stream",
     "text": [
      "Stored 'visitor_list' (list)\n"
     ]
    }
   ],
   "source": [
    "%store visitor_list"
   ]
  },
  {
   "cell_type": "code",
   "execution_count": 67,
   "metadata": {},
   "outputs": [
    {
     "data": {
      "text/plain": [
       "{'date': '2018-09-04',\n",
       " 'id': 'D1809041',\n",
       " 'region': 'Canada',\n",
       " 'pv': '3',\n",
       " 'pv_detail': [{'idx': '1',\n",
       "   'page': 'http://www.alibaba.com/product-detail/New-Styles-Super-Soft-Strip-False_60770970038.html?spm=a2700.7724857.normalList.137.c9947978sNcG4k',\n",
       "   'stay': '7s',\n",
       "   'time': '2018-09-04 23:53:14'},\n",
       "  {'idx': '2',\n",
       "   'page': 'http://glittereyelash.en.alibaba.com/productgrouplist-806057429/3D_Silk_Eyelashes.html?spm=a2700.details.pronpeci14.2.423f30e9VJc2L9',\n",
       "   'stay': '287s',\n",
       "   'time': '2018-09-04 23:48:27'},\n",
       "  {'idx': '3',\n",
       "   'page': 'http://www.alibaba.com/product-detail/New-Styles-Super-Soft-Strip-False_60770970038.html?spm=a2700.7724857.normalList.137.c9947978sNcG4k',\n",
       "   'stay': '457s',\n",
       "   'time': '2018-09-04 23:40:50'}],\n",
       " 'stay_duration': '751s',\n",
       " 'stay_minisite_activity': [],\n",
       " 'stay_website_activity': ['总浏览量20', '浏览8个供应商']}"
      ]
     },
     "execution_count": 67,
     "metadata": {},
     "output_type": "execute_result"
    }
   ],
   "source": [
    "visitor_list[0]"
   ]
  },
  {
   "cell_type": "code",
   "execution_count": 88,
   "metadata": {},
   "outputs": [
    {
     "name": "stdout",
     "output_type": "stream",
     "text": [
      "2018-09-04 23:53:14 2018-09-04T23:53:14-07:00 2018-09-05T14:53:14+08:00\n",
      "2018-09-04 23:48:27 2018-09-04T23:48:27-07:00 2018-09-05T14:48:27+08:00\n",
      "2018-09-04 23:40:50 2018-09-04T23:40:50-07:00 2018-09-05T14:40:50+08:00\n",
      "2018-09-04 Canada\n",
      "2018-09-04 19:57:58 2018-09-04T19:57:58-07:00 2018-09-05T10:57:58+08:00\n",
      "2018-09-04 Peru\n",
      "2018-09-04 16:54:30 2018-09-04T16:54:30-07:00 2018-09-05T07:54:30+08:00\n",
      "2018-09-04 16:54:52 2018-09-04T16:54:52-07:00 2018-09-05T07:54:52+08:00\n",
      "2018-09-04 United States\n",
      "2018-09-04 16:21:36 2018-09-04T16:21:36-07:00 2018-09-05T07:21:36+08:00\n",
      "2018-09-04 16:21:28 2018-09-04T16:21:28-07:00 2018-09-05T07:21:28+08:00\n",
      "2018-09-04 16:20:51 2018-09-04T16:20:51-07:00 2018-09-05T07:20:51+08:00\n",
      "2018-09-04 16:20:17 2018-09-04T16:20:17-07:00 2018-09-05T07:20:17+08:00\n",
      "2018-09-04 16:20:33 2018-09-04T16:20:33-07:00 2018-09-05T07:20:33+08:00\n",
      "2018-09-04 16:19:56 2018-09-04T16:19:56-07:00 2018-09-05T07:19:56+08:00\n",
      "2018-09-04 16:19:32 2018-09-04T16:19:32-07:00 2018-09-05T07:19:32+08:00\n",
      "2018-09-04 16:19:05 2018-09-04T16:19:05-07:00 2018-09-05T07:19:05+08:00\n",
      "2018-09-04 16:18:26 2018-09-04T16:18:26-07:00 2018-09-05T07:18:26+08:00\n",
      "2018-09-04 16:22:18 2018-09-04T16:22:18-07:00 2018-09-05T07:22:18+08:00\n",
      "2018-09-04 United States\n",
      "2018-09-04 16:03:25 2018-09-04T16:03:25-07:00 2018-09-05T07:03:25+08:00\n",
      "2018-09-04 16:02:07 2018-09-04T16:02:07-07:00 2018-09-05T07:02:07+08:00\n",
      "2018-09-04 United States\n",
      "2018-09-04 12:44:25 2018-09-04T12:44:25-07:00 2018-09-05T03:44:25+08:00\n",
      "2018-09-04 Poland\n",
      "2018-09-04 12:36:37 2018-09-04T12:36:37-07:00 2018-09-05T03:36:37+08:00\n",
      "2018-09-04 Czech Republic\n",
      "2018-09-04 12:33:14 2018-09-04T12:33:14-07:00 2018-09-05T03:33:14+08:00\n",
      "2018-09-04 12:35:40 2018-09-04T12:35:40-07:00 2018-09-05T03:35:40+08:00\n",
      "2018-09-04 12:33:23 2018-09-04T12:33:23-07:00 2018-09-05T03:33:23+08:00\n",
      "2018-09-04 India\n",
      "2018-09-04 10:04:22 2018-09-04T10:04:22-07:00 2018-09-05T01:04:22+08:00\n",
      "2018-09-04 Slovenia\n",
      "2018-09-04 09:59:39 2018-09-04T09:59:39-07:00 2018-09-05T00:59:39+08:00\n",
      "2018-09-04 United States\n",
      "2018-09-04 09:21:50 2018-09-04T09:21:50-07:00 2018-09-05T00:21:50+08:00\n",
      "2018-09-04 United States\n",
      "2018-09-04 08:29:52 2018-09-04T08:29:52-07:00 2018-09-04T23:29:52+08:00\n",
      "2018-09-04 United States\n",
      "2018-09-04 07:33:27 2018-09-04T07:33:27-07:00 2018-09-04T22:33:27+08:00\n",
      "2018-09-04 07:37:32 2018-09-04T07:37:32-07:00 2018-09-04T22:37:32+08:00\n",
      "2018-09-04 07:33:40 2018-09-04T07:33:40-07:00 2018-09-04T22:33:40+08:00\n",
      "2018-09-04 07:04:13 2018-09-04T07:04:13-07:00 2018-09-04T22:04:13+08:00\n",
      "2018-09-04 United Kingdom\n",
      "2018-09-04 07:08:20 2018-09-04T07:08:20-07:00 2018-09-04T22:08:20+08:00\n",
      "2018-09-04 United Kingdom\n",
      "2018-09-04 03:56:43 2018-09-04T03:56:43-07:00 2018-09-04T18:56:43+08:00\n",
      "2018-09-04 United States\n",
      "2018-09-04 03:25:46 2018-09-04T03:25:46-07:00 2018-09-04T18:25:46+08:00\n",
      "2018-09-04 Estonia\n"
     ]
    }
   ],
   "source": [
    "for v in visitor_list:\n",
    "    if not v['date'].startswith('2018-09-04'):\n",
    "        continue\n",
    "    if v['region'].lower() == 'china':\n",
    "        continue\n",
    "    \n",
    "    for pv in v['pv_detail']:\n",
    "        href = re.sub('\\?.*$', '',pv['page'])\n",
    "        dt = pendulum.parse(pv['time']+'-07:00')\n",
    "        print(pv['time'], dt, dt.in_timezone('Asia/Shanghai'))\n",
    "    print(v['date'], v['region'])"
   ]
  },
  {
   "cell_type": "code",
   "execution_count": null,
   "metadata": {},
   "outputs": [],
   "source": []
  }
 ],
 "metadata": {
  "kernelspec": {
   "display_name": "Python 3",
   "language": "python",
   "name": "python3"
  },
  "language_info": {
   "codemirror_mode": {
    "name": "ipython",
    "version": 3
   },
   "file_extension": ".py",
   "mimetype": "text/x-python",
   "name": "python",
   "nbconvert_exporter": "python",
   "pygments_lexer": "ipython3",
   "version": "3.6.6"
  }
 },
 "nbformat": 4,
 "nbformat_minor": 2
}
