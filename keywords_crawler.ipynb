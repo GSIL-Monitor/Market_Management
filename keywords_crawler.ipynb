{
 "cells": [
  {
   "cell_type": "code",
   "execution_count": 1,
   "metadata": {},
   "outputs": [],
   "source": [
    "from libs.crawlers.keywords_crawler_alibaba import KwclrAlibaba\n",
    "from libs.crawlers.keywords_crawler_ali_sr import KwclrAliSr\n",
    "from libs.crawlers.keywords_crawler_ali_sp import KwclrAliSp\n",
    "from libs.crawlers.keywords_crawler_amazon import KwclrAmazon\n",
    "from selenium import webdriver\n",
    "import re"
   ]
  },
  {
   "cell_type": "code",
   "execution_count": 2,
   "metadata": {},
   "outputs": [],
   "source": [
    "chrome_options = webdriver.ChromeOptions()\n",
    "# chrome_options.add_argument('--headless')\n",
    "chrome_options.add_argument('--disable-gpu')\n",
    "chrome_options.add_argument('--disable-extensions')\n",
    "chrome_options.add_argument('--disable-logging')\n",
    "chrome_options.add_argument('--disable-infobars')\n",
    "chrome_options.add_argument('--ignore-certificate-errors')\n",
    "browser = webdriver.Chrome(chrome_options=chrome_options)"
   ]
  },
  {
   "cell_type": "code",
   "execution_count": 3,
   "metadata": {},
   "outputs": [],
   "source": [
    "socketio=None\n",
    "sid=None"
   ]
  },
  {
   "cell_type": "code",
   "execution_count": null,
   "metadata": {},
   "outputs": [],
   "source": [
    "keyword = 'axe'\n",
    "page_quantity = 2\n",
    "crawler_name = re.sub( '', '_', keyword) + ' - ' + str(page_quantity) + '页 - 阿里(橱窗)'\n",
    "crawler = KwclrAliSr(browser, keyword, page_quantity, sid, socketio)"
   ]
  },
  {
   "cell_type": "code",
   "execution_count": null,
   "metadata": {},
   "outputs": [],
   "source": [
    "results = crawler.start()"
   ]
  },
  {
   "cell_type": "code",
   "execution_count": null,
   "metadata": {},
   "outputs": [],
   "source": [
    "results"
   ]
  },
  {
   "cell_type": "code",
   "execution_count": 6,
   "metadata": {},
   "outputs": [
    {
     "name": "stdout",
     "output_type": "stream",
     "text": [
      "notify {'type': 'primary', 'content': '正在抓取产品列表，第1页，网址：https://www.alibaba.com/products/axe.html'}\n",
      "notify {'type': 'primary', 'content': '正在抓取产品列表，第1页，第1个产品详情页，网址：https://www.alibaba.com/product-detail/Camp-and-outdoor-Axe-with-hammer_60817937638.html'}\n",
      "notify {'type': 'primary', 'content': '正在抓取产品列表，第1页，第2个产品详情页，网址：https://www.alibaba.com/product-detail/axe-with-fiberglass-and-hickory-handle_60762328594.html'}\n",
      "notify {'type': 'primary', 'content': '正在抓取产品列表，第1页，第3个产品详情页，网址：https://www.alibaba.com/product-detail/Creative-Wooden-Handle-MultiFunction-Outdoor-Camping_60676553437.html'}\n",
      "notify {'type': 'primary', 'content': '正在抓取产品列表，第1页，第4个产品详情页，网址：https://www.alibaba.com/product-detail/Hand-outdoor-tool-broad-plastic-coated_1845889254.html'}\n",
      "notify {'type': 'primary', 'content': '正在抓取产品列表，第1页，第5个产品详情页，网址：https://www.alibaba.com/product-detail/A601-Axe-With-100-Plastic-Coated_60657728477.html'}\n",
      "notify {'type': 'primary', 'content': '正在抓取产品列表，第1页，第6个产品详情页，网址：https://www.alibaba.com/product-detail/Hardware-Tool-Fiberglass-Handle-Hammer-Axe_60611094938.html'}\n",
      "notify {'type': 'primary', 'content': '正在抓取产品列表，第1页，第7个产品详情页，网址：https://www.alibaba.com/product-detail/A613-Axe-With-Wooden-Handle-Series_60677447654.html'}\n",
      "notify {'type': 'primary', 'content': '正在抓取产品列表，第1页，第8个产品详情页，网址：https://www.alibaba.com/product-detail/steel-forged-russian-fireman-camping-best_60098375079.html'}\n",
      "notify {'type': 'primary', 'content': '正在抓取产品列表，第1页，第9个产品详情页，网址：https://www.alibaba.com/product-detail/Stainless-steel-hunting-camping-fixed-axe_60757801342.html'}\n",
      "notify {'type': 'primary', 'content': '正在抓取产品列表，第1页，第10个产品详情页，网址：https://www.alibaba.com/product-detail/High-Quality-420-stainless-steel-Rescue_1878596039.html'}\n",
      "notify {'type': 'primary', 'content': '正在抓取产品列表，第1页，第11个产品详情页，网址：https://www.alibaba.com/product-detail/Multi-Functional-Hatchet-Carbon-Steel-with_60785495488.html'}\n",
      "notify {'type': 'primary', 'content': '正在抓取产品列表，第1页，第12个产品详情页，网址：https://www.alibaba.com/product-detail/2018-Hot-Sale-Multi-functional-Tactical_60774040827.html'}\n",
      "notify {'type': 'primary', 'content': '正在抓取产品列表，第1页，第13个产品详情页，网址：https://www.alibaba.com/product-detail/Camping-axe-GNDER00083-_2010561519.html'}\n",
      "notify {'type': 'primary', 'content': '正在抓取产品列表，第1页，第14个产品详情页，网址：https://www.alibaba.com/product-detail/damascus-steel-wood-cutting-axe_50039046810.html'}\n",
      "notify {'type': 'primary', 'content': '正在抓取产品列表，第1页，第15个产品详情页，网址：https://www.alibaba.com/product-detail/Forged-carbon-steel-axe-with-fiberglass_60754990385.html'}\n",
      "notify {'type': 'primary', 'content': '正在抓取产品列表，第1页，第16个产品详情页，网址：https://www.alibaba.com/product-detail/SDTX-splitting-axe-for-sale-fire_60541214311.html'}\n",
      "notify {'type': 'primary', 'content': '正在抓取产品列表，第1页，第17个产品详情页，网址：https://www.alibaba.com/product-detail/Russian-axe-A627-With-good-quality_60760675162.html'}\n",
      "notify {'type': 'primary', 'content': '正在抓取产品列表，第1页，第18个产品详情页，网址：https://www.alibaba.com/product-detail/splitting-axe-and-fireman-axe_534191208.html'}\n",
      "notify {'type': 'primary', 'content': '正在抓取产品列表，第1页，第19个产品详情页，网址：https://www.alibaba.com/product-detail/DAMASCUS-Steel-BLADE-DOUBLE-HEAD-FUNCTIONAL_50038897499.html'}\n",
      "notify {'type': 'primary', 'content': '正在抓取产品列表，第1页，第20个产品详情页，网址：https://www.alibaba.com/product-detail/Various-kinds-steel-forged-axe-head_210489712.html'}\n",
      "notify {'type': 'primary', 'content': '正在抓取产品列表，第1页，第21个产品详情页，网址：https://www.alibaba.com/product-detail/Damascus-Steel-Axe_50031593254.html'}\n",
      "notify {'type': 'primary', 'content': '正在抓取产品列表，第1页，第22个产品详情页，网址：https://www.alibaba.com/product-detail/3LB-axe-hand-axe-carbon-steel_60380354185.html'}\n",
      "notify {'type': 'primary', 'content': '正在抓取产品列表，第1页，第23个产品详情页，网址：https://www.alibaba.com/product-detail/engraved-axe_50040961630.html'}\n",
      "notify {'type': 'primary', 'content': '正在抓取产品列表，第1页，第24个产品详情页，网址：https://www.alibaba.com/product-detail/Ronix-All-Steel-Axe-with-Fiberglass_60766119830.html'}\n",
      "notify {'type': 'primary', 'content': '正在抓取产品列表，第1页，第25个产品详情页，网址：https://www.alibaba.com/product-detail/hand-made-damascus-steel-hatched-axe_50039071709.html'}\n",
      "notify {'type': 'primary', 'content': '正在抓取产品列表，第1页，第26个产品详情页，网址：https://www.alibaba.com/product-detail/FORGED-AXE-WITH-WOODEN-FIBERGLASS-HANDLE_1489554686.html'}\n",
      "notify {'type': 'primary', 'content': '正在抓取产品列表，第1页，第27个产品详情页，网址：https://www.alibaba.com/product-detail/Outdoor-Tools-Tactical-Survival-Axe-with_60779700215.html'}\n",
      "notify {'type': 'primary', 'content': '正在抓取产品列表，第1页，第28个产品详情页，网址：https://www.alibaba.com/product-detail/Oil-gas-tools-Non-sparking-beryllium_60762631108.html'}\n",
      "notify {'type': 'primary', 'content': '正在抓取产品列表，第1页，第29个产品详情页，网址：https://www.alibaba.com/product-detail/FIXTEC-hand-tools-600g-axe_60691247896.html'}\n",
      "notify {'type': 'primary', 'content': '正在抓取产品列表，第1页，第30个产品详情页，网址：https://www.alibaba.com/product-detail/Portable-steel-hatchet-fiberglass-handle-fire_60762106775.html'}\n",
      "notify {'type': 'primary', 'content': '正在抓取产品列表，第1页，第31个产品详情页，网址：https://www.alibaba.com/product-detail/firefighting-axe-with-fiberglass-handle_60167500770.html'}\n",
      "notify {'type': 'primary', 'content': '正在抓取产品列表，第1页，第32个产品详情页，网址：https://www.alibaba.com/product-detail/Goalmac-Wooden-Handle-tomahawk-ice-Axe_60757118415.html'}\n",
      "notify {'type': 'primary', 'content': '正在抓取产品列表，第1页，第33个产品详情页，网址：https://www.alibaba.com/product-detail/High-Quality-Stainless-Steel-Blade-Fiberglass_60716107597.html'}\n",
      "notify {'type': 'primary', 'content': '正在抓取产品列表，第1页，第34个产品详情页，网址：https://www.alibaba.com/product-detail/Camp-and-outdoor-Axe-with-paracord_60786128374.html'}\n",
      "notify {'type': 'primary', 'content': '正在抓取产品列表，第1页，第35个产品详情页，网址：https://www.alibaba.com/product-detail/Best-Quality-Outdoor-Survival-Fire-Pick_60761469915.html'}\n",
      "notify {'type': 'primary', 'content': '正在抓取产品列表，第1页，第36个产品详情页，网址：https://www.alibaba.com/product-detail/Axe-With-Double-color-Plastic-coating_60764571156.html'}\n",
      "notify {'type': 'primary', 'content': '正在抓取产品列表，第1页，第37个产品详情页，网址：https://www.alibaba.com/product-detail/Forged-carbon-steel-hand-axe-Broad_1863577891.html'}\n",
      "notify {'type': 'primary', 'content': '正在抓取产品列表，第1页，第38个产品详情页，网址：https://www.alibaba.com/product-detail/Drop-Forged-Steel-Axe-with-fiberglass_60445311294.html'}\n",
      "notify {'type': 'primary', 'content': '正在抓取产品列表，第1页，第39个产品详情页，网址：https://www.alibaba.com/product-detail/Fire-axe-double-plastic-fiber-handle_60585832331.html'}\n",
      "notify {'type': 'primary', 'content': '正在抓取产品列表，第1页，第40个产品详情页，网址：https://www.alibaba.com/product-detail/Hand-Steel-Axe-With-Nylon-Hollow_60783892394.html'}\n",
      "notify {'type': 'primary', 'content': '正在抓取产品列表，第1页，第41个产品详情页，网址：https://www.alibaba.com/product-detail/Aolai-hand-rescue-axe-for-earthquake_60611646843.html'}\n",
      "notify {'type': 'primary', 'content': '正在抓取产品列表，第1页，第42个产品详情页，网址：https://www.alibaba.com/product-detail/HIDA16-Wholesale-Damascus-Steel-Long-Wood_50037920259.html'}\n",
      "notify {'type': 'primary', 'content': '正在抓取产品列表，第1页，第43个产品详情页，网址：https://www.alibaba.com/product-detail/Carton-Steel-A613-Single-Fiberglass-Handle_60728441729.html'}\n",
      "notify {'type': 'primary', 'content': '正在抓取产品列表，第1页，第44个产品详情页，网址：https://www.alibaba.com/product-detail/Multi-Tools-Stainless-Steel-Axe-Hammer_60770230053.html'}\n",
      "notify {'type': 'primary', 'content': '正在抓取产品列表，第1页，第45个产品详情页，网址：https://www.alibaba.com/product-detail/Berrylion-tools-1000g-anti-fire-axe_60476985032.html'}\n",
      "notify {'type': 'primary', 'content': '正在抓取产品列表，第1页，第46个产品详情页，网址：https://www.alibaba.com/product-detail/Fiberglass-handle-axe_1910840882.html'}\n",
      "notify {'type': 'primary', 'content': '正在抓取产品列表，第1页，第47个产品详情页，网址：https://www.alibaba.com/product-detail/1-Kg-Wholesale-All-Kinds-of_60615497624.html'}\n",
      "notify {'type': 'primary', 'content': '正在抓取产品列表，第1页，第48个产品详情页，网址：https://www.alibaba.com/product-detail/wholesale-all-kinds-of-carbon-steel_60786220520.html'}\n",
      "notify {'type': 'primary', 'content': '正在抓取产品列表，第1页，第49个产品详情页，网址：https://www.alibaba.com/product-detail/HANDMADE-CARBON-STEEL-FORGED-AXE_50034325970.html'}\n",
      "notify {'type': 'primary', 'content': '正在抓取产品列表，第1页，第50个产品详情页，网址：https://www.alibaba.com/product-detail/direct-factory-sale-all-kinds-of_60285147287.html'}\n",
      "notify {'type': 'primary', 'content': '正在抓取产品列表，第2页，网址：https://www.alibaba.com/products/axe/2.html'}\n",
      "notify {'type': 'primary', 'content': '正在抓取产品列表，第2页，第1个产品详情页，网址：https://www.alibaba.com/product-detail/HAND-FORGED-DAMASCUS-STEEL-AXE_50039806281.html'}\n"
     ]
    },
    {
     "name": "stdout",
     "output_type": "stream",
     "text": [
      "notify {'type': 'primary', 'content': '正在抓取产品列表，第2页，第2个产品详情页，网址：https://www.alibaba.com/product-detail/multi-functional-camping-survival-tactical-hunting_60793234407.html'}\n",
      "notify {'type': 'primary', 'content': '正在抓取产品列表，第2页，第3个产品详情页，网址：https://www.alibaba.com/product-detail/Custom-Made-Damascus-Hand-Forge-Axe_50037386151.html'}\n",
      "notify {'type': 'primary', 'content': '正在抓取产品列表，第2页，第4个产品详情页，网址：https://www.alibaba.com/product-detail/Damascus-Custom-Handmade-Axe-Survival-Camping_50038547937.html'}\n",
      "notify {'type': 'primary', 'content': '正在抓取产品列表，第2页，第5个产品详情页，网址：https://www.alibaba.com/product-detail/High-Quality-Wood-Handle-Stainless-Steel_1959590455.html'}\n",
      "notify {'type': 'primary', 'content': '正在抓取产品列表，第2页，第6个产品详情页，网址：https://www.alibaba.com/product-detail/Metal-Axe_50037245300.html'}\n",
      "notify {'type': 'primary', 'content': '正在抓取产品列表，第2页，第7个产品详情页，网址：https://www.alibaba.com/product-detail/Wholesale-Chinese-kid-toys-wooden-battle_60207710998.html'}\n",
      "notify {'type': 'primary', 'content': '正在抓取产品列表，第2页，第8个产品详情页，网址：https://www.alibaba.com/product-detail/Handmade-Damascus-axe_50007467124.html'}\n",
      "notify {'type': 'primary', 'content': '正在抓取产品列表，第2页，第9个产品详情页，网址：https://www.alibaba.com/product-detail/Steel-Axe-with-Fiberglass-Shock-Absorbing_60787227866.html'}\n",
      "notify {'type': 'primary', 'content': '正在抓取产品列表，第2页，第10个产品详情页，网址：https://www.alibaba.com/product-detail/Hot-sell-professional-Survival-camping-axe_60419650742.html'}\n",
      "notify {'type': 'primary', 'content': '正在抓取产品列表，第2页，第11个产品详情页，网址：https://www.alibaba.com/product-detail/Fiberglass-handle-steel-tomahawk-axe_60552304259.html'}\n",
      "notify {'type': 'primary', 'content': '正在抓取产品列表，第2页，第12个产品详情页，网址：https://www.alibaba.com/product-detail/good-sale-fire-axe-with-steel_1765590894.html'}\n",
      "notify {'type': 'primary', 'content': '正在抓取产品列表，第2页，第13个产品详情页，网址：https://www.alibaba.com/product-detail/Wholesale-high-hardness-wooden-multifunctional-hand_60767984737.html'}\n",
      "notify {'type': 'primary', 'content': '正在抓取产品列表，第2页，第14个产品详情页，网址：https://www.alibaba.com/product-detail/special-design-55-carboon-steel-tomahawk_60338125207.html'}\n",
      "notify {'type': 'primary', 'content': '正在抓取产品列表，第2页，第15个产品详情页，网址：https://www.alibaba.com/product-detail/Axe-with-wooden-handle-A613_483467266.html'}\n",
      "notify {'type': 'primary', 'content': '正在抓取产品列表，第2页，第16个产品详情页，网址：https://www.alibaba.com/product-detail/axe-A603-and-axes-head_1938979013.html'}\n",
      "notify {'type': 'primary', 'content': '正在抓取产品列表，第2页，第17个产品详情页，网址：https://www.alibaba.com/product-detail/camping-Axe-with-wooden-handle_1494199212.html'}\n",
      "notify {'type': 'primary', 'content': '正在抓取产品列表，第2页，第18个产品详情页，网址：https://www.alibaba.com/product-detail/Custom-handmade-Damascus-Axe-with-Rose_50037393870.html'}\n",
      "notify {'type': 'primary', 'content': '正在抓取产品列表，第2页，第19个产品详情页，网址：https://www.alibaba.com/product-detail/Long-Wood-Handle-Axe_60674927804.html'}\n",
      "notify {'type': 'primary', 'content': '正在抓取产品列表，第2页，第20个产品详情页，网址：https://www.alibaba.com/product-detail/Big-axe_60761444479.html'}\n",
      "notify {'type': 'primary', 'content': '正在抓取产品列表，第2页，第21个产品详情页，网址：https://www.alibaba.com/product-detail/0-5KG-1KG-Russian-style-Sparkless_60674988253.html'}\n",
      "notify {'type': 'primary', 'content': '正在抓取产品列表，第2页，第22个产品详情页，网址：https://www.alibaba.com/product-detail/Hanbon-High-Quality-Steel-Axe-with_60374379943.html'}\n",
      "notify {'type': 'primary', 'content': '正在抓取产品列表，第2页，第23个产品详情页，网址：https://www.alibaba.com/product-detail/Outdoor-Excellent-Axe-Stainless-Steel-Axe_1909886471.html'}\n",
      "notify {'type': 'primary', 'content': '正在抓取产品列表，第2页，第24个产品详情页，网址：https://www.alibaba.com/product-detail/4x4-4wd-offroad-1800G-PP-coated_60055668394.html'}\n",
      "notify {'type': 'primary', 'content': '正在抓取产品列表，第2页，第25个产品详情页，网址：https://www.alibaba.com/product-detail/AMAZING-DAMASCUS-HANDMADE-VIKING-AXE-NMT_50034469095.html'}\n",
      "notify {'type': 'primary', 'content': '正在抓取产品列表，第2页，第26个产品详情页，网址：https://www.alibaba.com/product-detail/2014-Hot-sale-fire-axe-long_1664803875.html'}\n",
      "notify {'type': 'primary', 'content': '正在抓取产品列表，第2页，第27个产品详情页，网址：https://www.alibaba.com/product-detail/Safety-firefighter-protective-fire-man-axe_60496089653.html'}\n",
      "notify {'type': 'primary', 'content': '正在抓取产品列表，第2页，第28个产品详情页，网址：https://www.alibaba.com/product-detail/A613-Agricultural-Axe-With-Wooden-Handle_2006842616.html'}\n",
      "notify {'type': 'primary', 'content': '正在抓取产品列表，第2页，第29个产品详情页，网址：https://www.alibaba.com/product-detail/HAND-FORGED-DAMASCUS-TOMAHAWK-KNIFE-HATCHET_50038816796.html'}\n",
      "notify {'type': 'primary', 'content': '正在抓取产品列表，第2页，第30个产品详情页，网址：https://www.alibaba.com/product-detail/wood-handle-multi-tool-hammer-with_560144491.html'}\n",
      "notify {'type': 'primary', 'content': '正在抓取产品列表，第2页，第31个产品详情页，网址：https://www.alibaba.com/product-detail/Drop-Forged-S-Type-Axe-With_50038921490.html'}\n",
      "notify {'type': 'primary', 'content': '正在抓取产品列表，第2页，第32个产品详情页，网址：https://www.alibaba.com/product-detail/Camping-Axe_531959511.html'}\n",
      "notify {'type': 'primary', 'content': '正在抓取产品列表，第2页，第33个产品详情页，网址：https://www.alibaba.com/product-detail/A613-Axe-with-fiberglass-handle_337349306.html'}\n",
      "notify {'type': 'primary', 'content': '正在抓取产品列表，第2页，第34个产品详情页，网址：https://www.alibaba.com/product-detail/high-carbon-steel-axe-with-Fiberglass_1578622768.html'}\n",
      "notify {'type': 'primary', 'content': '正在抓取产品列表，第2页，第35个产品详情页，网址：https://www.alibaba.com/product-detail/China-Factory-Cutting-Trees-PP-Handle_60750347913.html'}\n",
      "notify {'type': 'primary', 'content': '正在抓取产品列表，第2页，第36个产品详情页，网址：https://www.alibaba.com/product-detail/Carton-Steel-A613-Single-Fiberglass-Handle_60788022596.html'}\n",
      "notify {'type': 'primary', 'content': '正在抓取产品列表，第2页，第37个产品详情页，网址：https://www.alibaba.com/product-detail/Faithfull-Kindling-Axe-Faithfull-FAIAXEKINDL-Kindling_60758512904.html'}\n",
      "notify {'type': 'primary', 'content': '正在抓取产品列表，第2页，第38个产品详情页，网址：https://www.alibaba.com/product-detail/Plastic-Costume-Axe_60054792643.html'}\n",
      "notify {'type': 'primary', 'content': '正在抓取产品列表，第2页，第39个产品详情页，网址：https://www.alibaba.com/product-detail/Agricaltural-plastic-coated-handle-axe_1881706487.html'}\n",
      "notify {'type': 'primary', 'content': '正在抓取产品列表，第2页，第40个产品详情页，网址：https://www.alibaba.com/product-detail/High-quality-hand-tools-beryllium-copper_60734783537.html'}\n",
      "notify {'type': 'primary', 'content': '正在抓取产品列表，第2页，第41个产品详情页，网址：https://www.alibaba.com/product-detail/Multi-Tool-Hammer-Axe-with-Camo_642355309.html'}\n",
      "notify {'type': 'primary', 'content': '正在抓取产品列表，第2页，第42个产品详情页，网址：https://www.alibaba.com/product-detail/titanium-carpenter-s-axe-for-China_60651063446.html'}\n",
      "notify {'type': 'primary', 'content': '正在抓取产品列表，第2页，第43个产品详情页，网址：https://www.alibaba.com/product-detail/AXE-Hatchet_225108485.html'}\n",
      "notify {'type': 'primary', 'content': '正在抓取产品列表，第2页，第44个产品详情页，网址：https://www.alibaba.com/product-detail/High-Quality-Multi-Function-Axe-with_60714534184.html'}\n",
      "notify {'type': 'primary', 'content': '正在抓取产品列表，第2页，第45个产品详情页，网址：https://www.alibaba.com/product-detail/Ronix-Handle-Axe-With-Double-Color_60782091358.html'}\n",
      "notify {'type': 'primary', 'content': '正在抓取产品列表，第2页，第46个产品详情页，网址：https://www.alibaba.com/product-detail/Multi-purpose-axe-with-finely-polished_218766263.html'}\n",
      "notify {'type': 'primary', 'content': '正在抓取产品列表，第2页，第47个产品详情页，网址：https://www.alibaba.com/product-detail/Stainless-Steel-Escape-Rescue-Axe-Fire_60781509359.html'}\n",
      "notify {'type': 'primary', 'content': '正在抓取产品列表，第2页，第48个产品详情页，网址：https://www.alibaba.com/product-detail/High-quality-household-axe-with-plastic_60787365870.html'}\n",
      "notify {'type': 'primary', 'content': '正在抓取产品列表，第2页，第49个产品详情页，网址：https://www.alibaba.com/product-detail/Short-Handheld-Fireman-Axe_60780222732.html'}\n",
      "notify {'type': 'primary', 'content': '正在抓取产品列表，第2页，第50个产品详情页，网址：https://www.alibaba.com/product-detail/fire-axe-with-ash-handle_1662560865.html'}\n"
     ]
    }
   ],
   "source": [
    "keyword = 'axe'\n",
    "page_quantity = 2\n",
    "crawler_name = re.sub(' ', '_', keyword) + ' - ' + str(page_quantity) + '页 - 阿里'\n",
    "crawler = KwclrAlibaba(browser, keyword, page_quantity, sid, socketio)\n",
    "results = crawler.start()"
   ]
  },
  {
   "cell_type": "code",
   "execution_count": 12,
   "metadata": {},
   "outputs": [
    {
     "data": {
      "text/plain": [
       "2"
      ]
     },
     "execution_count": 12,
     "metadata": {},
     "output_type": "execute_result"
    }
   ],
   "source": [
    "len(results)"
   ]
  },
  {
   "cell_type": "code",
   "execution_count": 19,
   "metadata": {},
   "outputs": [
    {
     "name": "stdout",
     "output_type": "stream",
     "text": [
      "True\n"
     ]
    }
   ],
   "source": [
    "s = False\n",
    "print(s is not True)"
   ]
  },
  {
   "cell_type": "code",
   "execution_count": null,
   "metadata": {},
   "outputs": [],
   "source": []
  }
 ],
 "metadata": {
  "kernelspec": {
   "display_name": "Python 3",
   "language": "python",
   "name": "python3"
  },
  "language_info": {
   "codemirror_mode": {
    "name": "ipython",
    "version": 3
   },
   "file_extension": ".py",
   "mimetype": "text/x-python",
   "name": "python",
   "nbconvert_exporter": "python",
   "pygments_lexer": "ipython3",
   "version": "3.6.6"
  }
 },
 "nbformat": 4,
 "nbformat_minor": 2
}
