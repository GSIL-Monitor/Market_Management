{
 "cells": [
  {
   "cell_type": "code",
   "execution_count": 4,
   "metadata": {},
   "outputs": [],
   "source": [
    "import platform\n",
    "import pyautogui\n",
    "import pywinauto\n",
    "from pywinauto.application import Application\n",
    "from pywinauto.win32functions import SetForegroundWindow"
   ]
  },
  {
   "cell_type": "code",
   "execution_count": 5,
   "metadata": {},
   "outputs": [],
   "source": [
    "def run_ali_workbench(market):\n",
    "    if platform.machine().endswith('64'):\n",
    "        app = Application(backend=\"uia\").start('C:\\Program Files (x86)\\AliWorkbench\\AliWorkbench.exe --force-renderer-accessibility')\n",
    "    else:\n",
    "        app = Application(backend=\"uia\").start('C:\\Program Files\\AliWorkbench\\AliWorkbench.exe --force-renderer-accessibility')\n",
    "    rect = app.dialog.rectangle()\n",
    "    left = rect.left\n",
    "    top = rect.top\n",
    "    SetForegroundWindow(app.top_window().wrapper_object())\n",
    "    x = left+434\n",
    "    y = top+228\n",
    "    if rect.height() == 550:\n",
    "        x = left + 535\n",
    "        y = top + 285\n",
    "    pyautogui.moveTo(x, y)\n",
    "    pyautogui.click()\n",
    "    pyautogui.keyDown('ctrl')\n",
    "    pyautogui.press('a')\n",
    "    pyautogui.keyUp('ctrl')\n",
    "    pyautogui.typewrite(market['lid'])\n",
    "    pyautogui.press('enter')\n",
    "    pyautogui.press('enter')"
   ]
  },
  {
   "cell_type": "code",
   "execution_count": 8,
   "metadata": {},
   "outputs": [],
   "source": [
    "market = {'lid': 'eyelash1@glittergroupcn.com', 'lpwd': 'Wangqingxia7696'}\n",
    "run_ali_workbench(market)"
   ]
  },
  {
   "cell_type": "code",
   "execution_count": 39,
   "metadata": {},
   "outputs": [],
   "source": [
    "app = Application(backend='uia').connect(title=\"cn1522874258zfxo - 接待中心\")"
   ]
  },
  {
   "cell_type": "code",
   "execution_count": 30,
   "metadata": {},
   "outputs": [
    {
     "name": "stdout",
     "output_type": "stream",
     "text": [
      "Control Identifiers:\n",
      "\n",
      "Pane - ''    (L-597, T70, R-275, B142)\n",
      "['', 'Pane', '0', '1', 'Pane0', 'Pane1']\n",
      "   | \n",
      "   | Pane - ''    (L-611, T60, R-261, B156)\n",
      "   | ['2', 'Pane2']\n",
      "   | \n",
      "   | Pane - ''    (L-523, T100, R-277, B140)\n",
      "   | ['3', 'Pane3']\n",
      "   | child_window(auto_id=\"1096\", control_type=\"Pane\")\n",
      "   | \n",
      "   | Button - ''    (L-539, T128, R-525, B142)\n",
      "   | ['4', 'Button']\n",
      "   | child_window(auto_id=\"1101\", control_type=\"Button\")\n"
     ]
    }
   ],
   "source": [
    "app.Pane10.print_control_identifiers()"
   ]
  },
  {
   "cell_type": "code",
   "execution_count": 37,
   "metadata": {},
   "outputs": [
    {
     "data": {
      "text/plain": [
       "1"
      ]
     },
     "execution_count": 37,
     "metadata": {},
     "output_type": "execute_result"
    }
   ],
   "source": [
    "SetForegroundWindow(app.dialog.wrapper_object())"
   ]
  },
  {
   "cell_type": "code",
   "execution_count": 107,
   "metadata": {},
   "outputs": [],
   "source": []
  },
  {
   "cell_type": "code",
   "execution_count": 132,
   "metadata": {},
   "outputs": [
    {
     "name": "stdout",
     "output_type": "stream",
     "text": [
      "Control Identifiers:\n",
      "\n",
      "Dialog - 'cn1522874258zfxo - 接待中心'    (L51, T319, R1046, B949)\n",
      "['cn1522874258zfxo - 接待中心Dialog', 'Dialog', 'cn1522874258zfxo - 接待中心', 'cn1522874258zfxo - 接待中心0', 'cn1522874258zfxo - 接待中心1', 'Dialog0', 'Dialog1']\n",
      "child_window(title=\"cn1522874258zfxo - 接待中心\", control_type=\"Window\")\n",
      "   | \n",
      "   | Pane - ''    (L37, T309, R1060, B963)\n",
      "   | ['', 'Pane', 'Pane0', 'Pane1', '0', '1']\n",
      "   | \n",
      "   | Pane - 'cn1522874258zfxo - 接待中心'    (L51, T319, R1046, B949)\n",
      "   | ['cn1522874258zfxo - 接待中心2', 'Pane2', 'cn1522874258zfxo - 接待中心Pane']\n",
      "   | child_window(title=\"cn1522874258zfxo - 接待中心\", auto_id=\"1562\", control_type=\"Pane\")\n",
      "   |    | \n",
      "   |    | Button - ''    (L904, T319, R928, B343)\n",
      "   |    | ['2', 'Button', 'Button0', 'Button1']\n",
      "   |    | child_window(auto_id=\"1114\", control_type=\"Button\")\n",
      "   |    | \n",
      "   |    | Pane - 'ID_ESERVICE_CONTROLPAGE'    (L52, T440, R270, B948)\n",
      "   |    | ['ID_ESERVICE_CONTROLPAGEPane', 'ID_ESERVICE_CONTROLPAGE', 'Pane3']\n",
      "   |    | child_window(title=\"ID_ESERVICE_CONTROLPAGE\", auto_id=\"1566\", control_type=\"Pane\")\n",
      "   |    |    | \n",
      "   |    |    | Pane - ''    (L52, T440, R272, B480)\n",
      "   |    |    | ['3', 'Pane4']\n",
      "   |    |    | child_window(auto_id=\"1568\", control_type=\"Pane\")\n",
      "   |    |    |    | \n",
      "   |    |    |    | RadioButton - ''    (L71, T450, R91, B477)\n",
      "   |    |    |    | ['4', 'RadioButton', 'RadioButton0', 'RadioButton1']\n",
      "   |    |    |    | child_window(auto_id=\"1570\", control_type=\"RadioButton\")\n",
      "   |    |    |    | \n",
      "   |    |    |    | RadioButton - ''    (L111, T450, R131, B477)\n",
      "   |    |    |    | ['5', 'RadioButton2']\n",
      "   |    |    |    | child_window(auto_id=\"1571\", control_type=\"RadioButton\")\n",
      "   |    |    |    | \n",
      "   |    |    |    | RadioButton - ''    (L151, T450, R171, B477)\n",
      "   |    |    |    | ['6', 'RadioButton3']\n",
      "   |    |    |    | child_window(auto_id=\"1573\", control_type=\"RadioButton\")\n",
      "   |    |    |    | \n",
      "   |    |    |    | RadioButton - ''    (L191, T450, R211, B477)\n",
      "   |    |    |    | ['7', 'RadioButton4']\n",
      "   |    |    |    | child_window(auto_id=\"1575\", control_type=\"RadioButton\")\n",
      "   |    |    | \n",
      "   |    |    | Pane - ''    (L52, T477, R270, B507)\n",
      "   |    |    | ['8', 'Pane5']\n",
      "   |    |    | child_window(auto_id=\"1577\", control_type=\"Pane\")\n",
      "   |    |    | \n",
      "   |    |    | Pane - ''    (L52, T510, R270, B909)\n",
      "   |    |    | ['9', 'Pane6']\n",
      "   |    |    | child_window(auto_id=\"1584\", control_type=\"Pane\")\n",
      "   |    |    |    | \n",
      "   |    |    |    | Pane - ''    (L52, T510, R270, B909)\n",
      "   |    |    |    | ['10', 'Pane7']\n",
      "   |    |    |    | child_window(auto_id=\"1590\", control_type=\"Pane\")\n",
      "   |    |    |    |    | \n",
      "   |    |    |    |    | Pane - ''    (L52, T510, R270, B909)\n",
      "   |    |    |    |    | ['11', 'Pane8']\n",
      "   |    |    |    |    | child_window(auto_id=\"1591\", control_type=\"Pane\")\n",
      "   |    |    | \n",
      "   |    |    | Button - ''    (L61, T917, R83, B939)\n",
      "   |    |    | ['12', 'Button2']\n",
      "   |    |    | child_window(auto_id=\"1587\", control_type=\"Button\")\n",
      "   |    |    | \n",
      "   |    |    | Button - ''    (L231, T916, R256, B939)\n",
      "   |    |    | ['13', 'Button3']\n",
      "   |    |    | child_window(auto_id=\"1589\", control_type=\"Button\")\n",
      "   |    |    | \n",
      "   |    |    | Pane - ''    (L97, T910, R230, B948)\n",
      "   |    |    | ['14', 'Pane9']\n",
      "   |    |    | child_window(auto_id=\"1592\", control_type=\"Pane\")\n",
      "   |    |    |    | \n",
      "   |    |    |    | Pane - ''    (L101, T917, R230, B955)\n",
      "   |    |    |    | ['15', 'Pane10']\n",
      "   |    |    |    | child_window(auto_id=\"1593\", control_type=\"Pane\")\n",
      "   |    | \n",
      "   |    | Pane - ''    (L271, T344, R1045, B948)\n",
      "   |    | ['16', 'Pane11']\n",
      "   |    | child_window(auto_id=\"1594\", control_type=\"Pane\")\n",
      "   |    |    | \n",
      "   |    |    | Pane - ''    (L271, T404, R316, B440)\n",
      "   |    |    | ['17', 'Pane12']\n",
      "   |    |    | child_window(auto_id=\"1617\", control_type=\"Pane\")\n",
      "   |    |    |    | \n",
      "   |    |    |    | Button - ''    (L287, T412, R307, B432)\n",
      "   |    |    |    | ['18', 'Button4']\n",
      "   |    |    |    | child_window(auto_id=\"1618\", control_type=\"Button\")\n",
      "   |    |    | \n",
      "   |    |    | Pane - ''    (L510, T409, R735, B440)\n",
      "   |    |    | ['19', 'Pane13']\n",
      "   |    |    | child_window(auto_id=\"1637\", control_type=\"Pane\")\n",
      "   |    |    | \n",
      "   |    |    | Pane - ''    (L271, T464, R734, B947)\n",
      "   |    |    | ['20', 'Pane14']\n",
      "   |    |    | child_window(auto_id=\"1639\", control_type=\"Pane\")\n",
      "   |    |    |    | \n",
      "   |    |    |    | Pane - ''    (L271, T464, R734, B827)\n",
      "   |    |    |    | ['21', 'Pane15']\n",
      "   |    |    |    | child_window(auto_id=\"1640\", control_type=\"Pane\")\n",
      "   |    |    |    |    | \n",
      "   |    |    |    |    | Pane - ''    (L271, T464, R734, B827)\n",
      "   |    |    |    |    | ['22', 'Pane16']\n",
      "   |    |    |    |    | child_window(auto_id=\"1641\", control_type=\"Pane\")\n",
      "   |    |    |    |    |    | \n",
      "   |    |    |    |    |    | Dialog - '当前聊天窗口'    (L271, T464, R734, B827)\n",
      "   |    |    |    |    |    | ['Dialog2', '当前聊天窗口', '当前聊天窗口Dialog']\n",
      "   |    |    |    |    |    | child_window(title=\"当前聊天窗口\", control_type=\"Window\")\n",
      "   |    |    |    |    |    |    | \n",
      "   |    |    |    |    |    |    | Document - ''    (L271, T464, R734, B827)\n",
      "   |    |    |    |    |    |    | ['23', 'Document', 'Document0', 'Document1']\n",
      "   |    |    |    |    |    |    | child_window(auto_id=\"422597752\", control_type=\"Document\")\n",
      "   |    |    |    |    |    |    | \n",
      "   |    |    |    |    |    |    | Custom - ''    (L271, T464, R734, B827)\n",
      "   |    |    |    |    |    |    | ['24', 'Custom', 'Custom0', 'Custom1']\n",
      "   |    |    |    |    |    |    |    | \n",
      "   |    |    |    |    |    |    |    | Custom - ''    (L271, T464, R734, B827)\n",
      "   |    |    |    |    |    |    |    | ['24', 'Custom', 'Custom0', 'Custom1']\n",
      "   |    |    |    |    |    |    |    |    | \n",
      "   |    |    |    |    |    |    |    |    | Document - ''    (L0, T0, R0, B0)\n",
      "   |    |    |    |    |    |    |    |    | ['26', 'Document2']\n",
      "   |    |    |    | \n",
      "   |    |    |    | Pane - ''    (L271, T829, R734, B947)\n",
      "   |    |    |    | ['27', 'Pane17']\n",
      "   |    |    |    | child_window(auto_id=\"1642\", control_type=\"Pane\")\n",
      "   |    |    |    |    | \n",
      "   |    |    |    |    | Pane - ''    (L271, T829, R734, B859)\n",
      "   |    |    |    |    | ['28', 'Pane18']\n",
      "   |    |    |    |    | child_window(auto_id=\"1666\", control_type=\"Pane\")\n",
      "   |    |    |    |    | \n",
      "   |    |    |    |    | Pane - ''    (L271, T859, R734, B923)\n",
      "   |    |    |    |    | ['29', 'Pane19']\n",
      "   |    |    |    |    | child_window(auto_id=\"1667\", control_type=\"Pane\")\n",
      "   |    |    |    |    | \n",
      "   |    |    |    |    | Button - '关闭'    (L590, T923, R646, B943)\n",
      "   |    |    |    |    | ['Button5', '关闭Button', '关闭']\n",
      "   |    |    |    |    | child_window(title=\"关闭\", auto_id=\"1668\", control_type=\"Button\")\n",
      "   |    |    |    |    | \n",
      "   |    |    |    |    | Button - '发送'    (L662, T923, R718, B943)\n",
      "   |    |    |    |    | ['Button6', '发送Button', '发送']\n",
      "   |    |    |    |    | child_window(title=\"发送\", auto_id=\"1669\", control_type=\"Button\")\n",
      "   |    |    | \n",
      "   |    |    | Pane - ''    (L735, T362, R1045, B948)\n",
      "   |    |    | ['30', 'Pane20']\n",
      "   |    |    | child_window(auto_id=\"1686\", control_type=\"Pane\")\n",
      "   |    |    |    | \n",
      "   |    |    |    | Pane - ''    (L997, T377, R1036, B396)\n",
      "   |    |    |    | ['31', 'Pane21']\n",
      "   |    |    |    | child_window(auto_id=\"1689\", control_type=\"Pane\")\n",
      "   |    |    |    |    | \n",
      "   |    |    |    |    | Button - ''    (L997, T377, R1016, B396)\n",
      "   |    |    |    |    | ['32', 'Button7']\n",
      "   |    |    |    |    | child_window(auto_id=\"1690\", control_type=\"Button\")\n",
      "   |    |    |    |    | \n",
      "   |    |    |    |    | Button - ''    (L1017, T377, R1036, B396)\n",
      "   |    |    |    |    | ['33', 'Button8']\n",
      "   |    |    |    |    | child_window(auto_id=\"1691\", control_type=\"Button\")\n",
      "   |    |    |    | \n",
      "   |    |    |    | Pane - ''    (L735, T404, R1045, B948)\n",
      "   |    |    |    | ['34', 'Pane22']\n",
      "   |    |    |    | child_window(auto_id=\"1221\", control_type=\"Pane\")\n",
      "   |    |    | \n",
      "   |    |    | Pane - ''    (L269, T440, R734, B464)\n",
      "   |    |    | ['35', 'Pane23']\n",
      "   |    |    | child_window(auto_id=\"1723\", control_type=\"Pane\")\n",
      "   |    | \n",
      "   |    | Pane - ''    (L67, T339, R277, B389)\n",
      "   |    | ['36', 'Pane24']\n",
      "   |    | child_window(auto_id=\"1703\", control_type=\"Pane\")\n",
      "   |    |    | \n",
      "   |    |    | Pane - ''    (L67, T339, R117, B389)\n",
      "   |    |    | ['37', 'Pane25']\n",
      "   |    |    | child_window(auto_id=\"1704\", control_type=\"Pane\")\n",
      "   |    |    |    | \n",
      "   |    |    |    | Button - ''    (L96, T370, R112, B384)\n",
      "   |    |    |    | ['38', 'Button9']\n",
      "   |    |    |    | child_window(auto_id=\"1101\", control_type=\"Button\")\n",
      "   |    |    | \n",
      "   |    |    | Pane - ''    (L124, T363, R277, B385)\n",
      "   |    |    | ['39', 'Pane26']\n",
      "   |    |    | child_window(auto_id=\"1707\", control_type=\"Pane\")\n",
      "   |    |    |    | \n",
      "   |    |    |    | Pane - ''    (L124, T364, R277, B387)\n",
      "   |    |    |    | ['40', 'Pane27']\n",
      "   |    |    |    | child_window(auto_id=\"1719\", control_type=\"Pane\")\n",
      "   |    |    |    |    | \n",
      "   |    |    |    |    | Pane - ''    (L124, T364, R277, B387)\n",
      "   |    |    |    |    | ['41', 'Pane28']\n"
     ]
    },
    {
     "name": "stdout",
     "output_type": "stream",
     "text": [
      "   |    |    |    |    | child_window(auto_id=\"1720\", control_type=\"Pane\")\n",
      "   |    | \n",
      "   |    | Pane - ''    (L52, T404, R270, B440)\n",
      "   |    | ['42', 'Pane29']\n",
      "   |    | child_window(auto_id=\"1710\", control_type=\"Pane\")\n",
      "   |    |    | \n",
      "   |    |    | Edit - ''    (L93, T414, R237, B434)\n",
      "   |    |    | ['43', 'Edit']\n",
      "   |    |    | child_window(auto_id=\"1712\", control_type=\"Edit\")\n",
      "   |    |    | \n",
      "   |    |    | Button - ''    (L72, T415, R85, B428)\n",
      "   |    |    | ['44', 'Button10']\n",
      "   |    |    | child_window(auto_id=\"1713\", control_type=\"Button\")\n"
     ]
    }
   ],
   "source": [
    "app.Dialog.print_control_identifiers()"
   ]
  },
  {
   "cell_type": "code",
   "execution_count": 19,
   "metadata": {},
   "outputs": [
    {
     "ename": "ElementNotEnabled",
     "evalue": "",
     "output_type": "error",
     "traceback": [
      "\u001b[1;31m---------------------------------------------------------------------------\u001b[0m",
      "\u001b[1;31mElementNotEnabled\u001b[0m                         Traceback (most recent call last)",
      "\u001b[1;32m<ipython-input-19-f3579db07c40>\u001b[0m in \u001b[0;36m<module>\u001b[1;34m()\u001b[0m\n\u001b[1;32m----> 1\u001b[1;33m \u001b[0mapp\u001b[0m\u001b[1;33m.\u001b[0m\u001b[0mDialog\u001b[0m\u001b[1;33m.\u001b[0m\u001b[0mPane21\u001b[0m\u001b[1;33m.\u001b[0m\u001b[0mtype_keys\u001b[0m\u001b[1;33m(\u001b[0m\u001b[1;34m'^alksdjalsd'\u001b[0m\u001b[1;33m)\u001b[0m\u001b[1;33m\u001b[0m\u001b[0m\n\u001b[0m",
      "\u001b[1;32me:\\worksp~1\\python\\market~1\\venv\\lib\\site-packages\\pywinauto\\base_wrapper.py\u001b[0m in \u001b[0;36mtype_keys\u001b[1;34m(self, keys, pause, with_spaces, with_tabs, with_newlines, turn_off_numlock, set_foreground)\u001b[0m\n\u001b[0;32m    843\u001b[0m         \u001b[1;33m.\u001b[0m\u001b[1;33m.\u001b[0m \u001b[0m_keyboard\u001b[0m\u001b[1;33m:\u001b[0m \u001b[0mpywinauto\u001b[0m\u001b[1;33m.\u001b[0m\u001b[0mkeyboard\u001b[0m\u001b[1;33m.\u001b[0m\u001b[0mhtml\u001b[0m\u001b[1;33m\u001b[0m\u001b[0m\n\u001b[0;32m    844\u001b[0m         \"\"\"\n\u001b[1;32m--> 845\u001b[1;33m         \u001b[0mself\u001b[0m\u001b[1;33m.\u001b[0m\u001b[0mverify_actionable\u001b[0m\u001b[1;33m(\u001b[0m\u001b[1;33m)\u001b[0m\u001b[1;33m\u001b[0m\u001b[0m\n\u001b[0m\u001b[0;32m    846\u001b[0m         \u001b[0mfriendly_class_name\u001b[0m \u001b[1;33m=\u001b[0m \u001b[0mself\u001b[0m\u001b[1;33m.\u001b[0m\u001b[0mfriendly_class_name\u001b[0m\u001b[1;33m(\u001b[0m\u001b[1;33m)\u001b[0m\u001b[1;33m\u001b[0m\u001b[0m\n\u001b[0;32m    847\u001b[0m \u001b[1;33m\u001b[0m\u001b[0m\n",
      "\u001b[1;32me:\\worksp~1\\python\\market~1\\venv\\lib\\site-packages\\pywinauto\\base_wrapper.py\u001b[0m in \u001b[0;36mverify_actionable\u001b[1;34m(self)\u001b[0m\n\u001b[0;32m    591\u001b[0m         \u001b[0mself\u001b[0m\u001b[1;33m.\u001b[0m\u001b[0mwait_for_idle\u001b[0m\u001b[1;33m(\u001b[0m\u001b[1;33m)\u001b[0m\u001b[1;33m\u001b[0m\u001b[0m\n\u001b[0;32m    592\u001b[0m         \u001b[0mself\u001b[0m\u001b[1;33m.\u001b[0m\u001b[0mverify_visible\u001b[0m\u001b[1;33m(\u001b[0m\u001b[1;33m)\u001b[0m\u001b[1;33m\u001b[0m\u001b[0m\n\u001b[1;32m--> 593\u001b[1;33m         \u001b[0mself\u001b[0m\u001b[1;33m.\u001b[0m\u001b[0mverify_enabled\u001b[0m\u001b[1;33m(\u001b[0m\u001b[1;33m)\u001b[0m\u001b[1;33m\u001b[0m\u001b[0m\n\u001b[0m\u001b[0;32m    594\u001b[0m \u001b[1;33m\u001b[0m\u001b[0m\n\u001b[0;32m    595\u001b[0m     \u001b[1;31m#-----------------------------------------------------------\u001b[0m\u001b[1;33m\u001b[0m\u001b[1;33m\u001b[0m\u001b[0m\n",
      "\u001b[1;32me:\\worksp~1\\python\\market~1\\venv\\lib\\site-packages\\pywinauto\\base_wrapper.py\u001b[0m in \u001b[0;36mverify_enabled\u001b[1;34m(self)\u001b[0m\n\u001b[0;32m    602\u001b[0m         \"\"\"\n\u001b[0;32m    603\u001b[0m         \u001b[1;32mif\u001b[0m \u001b[1;32mnot\u001b[0m \u001b[0mself\u001b[0m\u001b[1;33m.\u001b[0m\u001b[0mis_enabled\u001b[0m\u001b[1;33m(\u001b[0m\u001b[1;33m)\u001b[0m\u001b[1;33m:\u001b[0m\u001b[1;33m\u001b[0m\u001b[0m\n\u001b[1;32m--> 604\u001b[1;33m             \u001b[1;32mraise\u001b[0m \u001b[0mElementNotEnabled\u001b[0m\u001b[1;33m(\u001b[0m\u001b[1;33m)\u001b[0m\u001b[1;33m\u001b[0m\u001b[0m\n\u001b[0m\u001b[0;32m    605\u001b[0m \u001b[1;33m\u001b[0m\u001b[0m\n\u001b[0;32m    606\u001b[0m     \u001b[1;31m#-----------------------------------------------------------\u001b[0m\u001b[1;33m\u001b[0m\u001b[1;33m\u001b[0m\u001b[0m\n",
      "\u001b[1;31mElementNotEnabled\u001b[0m: "
     ]
    }
   ],
   "source": [
    "app.Dialog.Pane21.type_keys('^alksdjalsd')"
   ]
  },
  {
   "cell_type": "code",
   "execution_count": 179,
   "metadata": {},
   "outputs": [],
   "source": [
    "dialog = app.Dialog2"
   ]
  },
  {
   "cell_type": "code",
   "execution_count": 181,
   "metadata": {},
   "outputs": [
    {
     "ename": "AttributeError",
     "evalue": "WindowSpecification class has no 'click' method",
     "output_type": "error",
     "traceback": [
      "\u001b[1;31m---------------------------------------------------------------------------\u001b[0m",
      "\u001b[1;31mAttributeError\u001b[0m                            Traceback (most recent call last)",
      "\u001b[1;32m<ipython-input-181-aa0d3ab51235>\u001b[0m in \u001b[0;36m<module>\u001b[1;34m()\u001b[0m\n\u001b[1;32m----> 1\u001b[1;33m \u001b[0mdialog\u001b[0m\u001b[1;33m.\u001b[0m\u001b[0mclick\u001b[0m\u001b[1;33m(\u001b[0m\u001b[1;33m)\u001b[0m\u001b[1;33m.\u001b[0m\u001b[0mtype_keys\u001b[0m\u001b[1;33m(\u001b[0m\u001b[1;34m'^a'\u001b[0m\u001b[1;33m)\u001b[0m\u001b[1;33m\u001b[0m\u001b[0m\n\u001b[0m",
      "\u001b[1;32me:\\worksp~1\\python\\market~1\\venv\\lib\\site-packages\\pywinauto\\application.py\u001b[0m in \u001b[0;36m__call__\u001b[1;34m(self, *args, **kwargs)\u001b[0m\n\u001b[0;32m    171\u001b[0m             raise AttributeError(\n\u001b[0;32m    172\u001b[0m                 \u001b[1;34m\"WindowSpecification class has no '{0}' method\"\u001b[0m\u001b[1;33m.\u001b[0m\u001b[1;33m\u001b[0m\u001b[0m\n\u001b[1;32m--> 173\u001b[1;33m                 format(self.criteria[-1]['best_match']))\n\u001b[0m\u001b[0;32m    174\u001b[0m \u001b[1;33m\u001b[0m\u001b[0m\n\u001b[0;32m    175\u001b[0m         message = (\n",
      "\u001b[1;31mAttributeError\u001b[0m: WindowSpecification class has no 'click' method"
     ]
    }
   ],
   "source": [
    "dialog.type_keys('^a')"
   ]
  },
  {
   "cell_type": "code",
   "execution_count": 1,
   "metadata": {},
   "outputs": [],
   "source": [
    "import re"
   ]
  },
  {
   "cell_type": "code",
   "execution_count": 12,
   "metadata": {},
   "outputs": [
    {
     "data": {
      "text/plain": [
       "[6, 37]"
      ]
     },
     "execution_count": 12,
     "metadata": {},
     "output_type": "execute_result"
    }
   ],
   "source": [
    "text = 'Hello shubhamg199630@gmail.com Rohit neeraj@gmail.com'\n",
    "[m.start() for m in re.finditer(\"([a-zA-Z0-9_.+-]+@[a-zA-Z0-9-]+\\.[a-zA-Z0-9-.]+)\", text)]"
   ]
  },
  {
   "cell_type": "code",
   "execution_count": 14,
   "metadata": {},
   "outputs": [
    {
     "data": {
      "text/plain": [
       "<_sre.SRE_Match object; span=(6, 30), match='shubhamg199630@gmail.com'>"
      ]
     },
     "execution_count": 14,
     "metadata": {},
     "output_type": "execute_result"
    }
   ],
   "source": [
    "text = 'Hello shubhamg199630@gmail.com Rohit neeraj@gmail.com'\n",
    "re.search('([a-zA-Z0-9_.+-]+@[a-zA-Z0-9-]+\\.[a-zA-Z0-9-.]+)', text)"
   ]
  },
  {
   "cell_type": "code",
   "execution_count": null,
   "metadata": {},
   "outputs": [],
   "source": []
  }
 ],
 "metadata": {
  "kernelspec": {
   "display_name": "Python 3",
   "language": "python",
   "name": "python3"
  },
  "language_info": {
   "codemirror_mode": {
    "name": "ipython",
    "version": 3
   },
   "file_extension": ".py",
   "mimetype": "text/x-python",
   "name": "python",
   "nbconvert_exporter": "python",
   "pygments_lexer": "ipython3",
   "version": "3.6.6"
  }
 },
 "nbformat": 4,
 "nbformat_minor": 2
}
