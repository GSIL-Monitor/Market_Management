{
 "cells": [
  {
   "cell_type": "code",
   "execution_count": 3,
   "metadata": {},
   "outputs": [],
   "source": [
    "import time\n",
    "import re\n",
    "import requests\n",
    "from pyquery import PyQuery as pq\n",
    "import json"
   ]
  },
  {
   "cell_type": "code",
   "execution_count": 4,
   "metadata": {},
   "outputs": [],
   "source": [
    "url = 'https://www.alibaba.com/trade/search?fsb=y&IndexArea=product_en&viewtype=L&CatId=&SearchText=3d+mink+eyelash'\n",
    "headers = {'User-Agent': 'Mozilla/5.0 (Windows NT 10.0; Win64; x64) AppleWebKit/537.36 (KHTML, like Gecko) Chrome/67.0.3396.87 Safari/537.36'}\n",
    "headers['Accept'] = 'text/html,application/xhtml+xml,application/xml;q=0.9,image/webp,image/apng,*/*;q=0.8'\n",
    "headers['Accept-Encoding'] = 'gzip, deflate, br'\n",
    "headers['Accept-Language'] = 'zh-CN,zh;q=0.9,en;q=0.8'\n",
    "headers['Referer'] = url\n",
    "headers['Connection'] = 'Keep-Alive'\n",
    "headers['Host'] = 'www.alibaba.com'\n",
    "headers['Upgrade-Insecure-Requests'] = '1'\n",
    "# requests.session().cookies.clear()\n"
   ]
  },
  {
   "cell_type": "code",
   "execution_count": 40,
   "metadata": {
    "scrolled": false
   },
   "outputs": [
    {
     "name": "stdout",
     "output_type": "stream",
     "text": [
      "1.0015697479248047\n",
      "0.007996320724487305\n",
      "0.07895040512084961\n"
     ]
    }
   ],
   "source": [
    "t = time.time()\n",
    "response = requests.get(url, headers=headers)\n",
    "\n",
    "t0 = time.time()\n",
    "result = re.search(r'_search_result_data =(.*)page.setPageData\\(_search_result_data\\)', response.text, re.M|re.DOTALL)\n",
    "obj = json.loads(result.group(1))\n",
    "items = obj['normalList']\n",
    "for idx, item in enumerate(items):\n",
    "    company = {}\n",
    "    if(item['isBrandAd']):\n",
    "#             top_sponsor = company\n",
    "        pass\n",
    "    elif(item['isP4p']):\n",
    "#             sponsor_list.append(company)\n",
    "        pass\n",
    "    else:\n",
    "        break\n",
    "\n",
    "    company['years'] = item['supplierYear']\n",
    "    company['name'] = item['supplierName']\n",
    "    company['url'] = item['supplierHref']\n",
    "    if 'record' in item:\n",
    "        company['record'] = []\n",
    "        if 'transaction' in item['record']:\n",
    "            company['record'].append(item['record']['transaction']['num'])\n",
    "            company['record'].append('Transactions(6 months)')\n",
    "            company['record'].append(item['record']['transaction']['conducted'])\n",
    "        company['record'].append('Response Rate')\n",
    "        company['record'].append(item['record']['responseRate'])\n",
    "\n",
    "t1 = time.time()\n",
    "\n",
    "doc = pq(response.text)\n",
    "divs = doc('.m-product-item')\n",
    "for ediv in divs:\n",
    "    company = {}\n",
    "\n",
    "    div = pq(ediv)\n",
    "    if div.find('span.sking'):\n",
    "#         top_sponsor = company\n",
    "        pass\n",
    "    elif div.find('span.sl'):\n",
    "#         sponsor_list.append(company)\n",
    "        pass\n",
    "    else:\n",
    "        break\n",
    "\n",
    "    extra = div.find('.item-extra')\n",
    "    if extra:\n",
    "        i = extra.find('div.stitle i')\n",
    "        company['years'] = re.search('year-num(\\d+)', i.attr('class')).group(1)\n",
    "        a = extra.find('div.stitle a:last-child')\n",
    "        company['name'] = a.text().strip()\n",
    "        company['url'] = 'https:' + a.attr('href')\n",
    "        record = extra.find('ul.record')\n",
    "    else:\n",
    "        container = div.find('div.brand-right-container')\n",
    "        text = container.find('i.year-num').attr('class')\n",
    "        company['years'] = re.search('year-num(\\d+)', text).group(1)\n",
    "        a = container.find('div.supplier a')\n",
    "        company['name'] = a.text().strip()\n",
    "        company['url'] = 'https:' + a.attr('href')\n",
    "        record = container.find('ul.record-container')\n",
    "    if record:\n",
    "        company['record'] = []\n",
    "        company['record'].append(record.find('li:first-child div.lab b').text().strip())\n",
    "        company['record'].append('Transactions(6 months)')\n",
    "        company['record'].append(record.find('li:first-child div.num').text().strip())\n",
    "        company['record'].append('Response Rate')\n",
    "        company['record'].append(record.find('li:last-child div.num').text().strip())\n",
    "t2 = time.time()\n",
    "print(t0-t)\n",
    "print(t1-t0)\n",
    "print(t2-t1)"
   ]
  },
  {
   "cell_type": "code",
   "execution_count": null,
   "metadata": {},
   "outputs": [],
   "source": [
    "\n"
   ]
  },
  {
   "cell_type": "code",
   "execution_count": 266,
   "metadata": {},
   "outputs": [
    {
     "data": {
      "text/plain": [
       "50"
      ]
     },
     "execution_count": 266,
     "metadata": {},
     "output_type": "execute_result"
    }
   ],
   "source": [
    "\n",
    "# result = re.match(r'page.setPageData\\(_search_result_data\\)', response.text, re.M)\n",
    "obj = json.loads(result.group(1))\n",
    "len()"
   ]
  },
  {
   "cell_type": "code",
   "execution_count": 264,
   "metadata": {},
   "outputs": [
    {
     "data": {
      "text/plain": [
       "True"
      ]
     },
     "execution_count": 264,
     "metadata": {},
     "output_type": "execute_result"
    }
   ],
   "source": []
  },
  {
   "cell_type": "code",
   "execution_count": 240,
   "metadata": {},
   "outputs": [],
   "source": [
    "req = urllib.request.Request(url, headers=headers)\n",
    "response = urllib.request.urlopen(req).read()\n",
    "doc =  pq(response)"
   ]
  },
  {
   "cell_type": "code",
   "execution_count": 113,
   "metadata": {},
   "outputs": [
    {
     "data": {
      "text/plain": [
       "[<p>]"
      ]
     },
     "execution_count": 113,
     "metadata": {},
     "output_type": "execute_result"
    }
   ],
   "source": [
    "doc"
   ]
  },
  {
   "cell_type": "code",
   "execution_count": 51,
   "metadata": {},
   "outputs": [
    {
     "name": "stdout",
     "output_type": "stream",
     "text": [
      "{'years': '3', 'name': 'Yiwu Qiaoti E-Commerce Co., Ltd.', 'url': 'https://qtbeauty.en.alibaba.com/company_profile.html#top-nav-bar', 'record': ['331', 'Transactions(6 months)', '210,000+', 'Response Rate', '94.1%']}\n",
      "{'years': '5', 'name': 'Tianjin Yao Poly Import And Export Limited Company', 'url': 'https://tianjinyaoju.en.alibaba.com/company_profile.html#top-nav-bar', 'record': ['185', 'Transactions(6 months)', '90,000+', 'Response Rate', '99.0%']}\n",
      "{'years': '9', 'name': 'Qingdao Mermaid Hair Industry Co., Ltd.', 'url': 'https://mermaidhair.en.alibaba.com/company_profile.html#top-nav-bar', 'record': ['7', 'Transactions(6 months)', '400+', 'Response Rate', '95.9%']}\n",
      "{'years': '1', 'name': 'Qingdao Lody Love Hair Products Co., Ltd.', 'url': 'https://lodyhair.en.alibaba.com/company_profile.html#top-nav-bar', 'record': ['', 'Transactions(6 months)', '100.0%', 'Response Rate', '100.0%']}\n",
      "{'years': '1', 'name': 'Qingdao Xindongweitai Trading Co., Ltd.', 'url': 'https://xdvictoria.en.alibaba.com/company_profile.html#top-nav-bar', 'record': ['', 'Transactions(6 months)', '100.0%', 'Response Rate', '100.0%']}\n",
      "{'years': '3', 'name': 'Qingdao Dearry Eyelash Co., Ltd.', 'url': 'https://qddaierya.en.alibaba.com/company_profile.html#top-nav-bar', 'record': ['9', 'Transactions(6 months)', '2,000+', 'Response Rate', '100.0%']}\n",
      "{'years': '2', 'name': 'Qingdao Lashbeauty Cosmetic Co., Ltd.', 'url': 'https://luxuryminkeyelashes.en.alibaba.com/company_profile.html#top-nav-bar', 'record': ['156', 'Transactions(6 months)', '520,000+', 'Response Rate', '99.6%']}\n"
     ]
    }
   ],
   "source": []
  },
  {
   "cell_type": "code",
   "execution_count": 19,
   "metadata": {},
   "outputs": [],
   "source": [
    "from bs4 import BeautifulSoup\n"
   ]
  },
  {
   "cell_type": "code",
   "execution_count": 21,
   "metadata": {},
   "outputs": [
    {
     "name": "stdout",
     "output_type": "stream",
     "text": [
      "{'years': '3', 'name': 'Yiwu Qiaoti E-Commerce Co., Ltd.', 'url': 'https://qtbeauty.en.alibaba.com/company_profile.html#top-nav-bar', 'record': ['331', 'Transactions(6 months)', '210,000+', 'Response Rate', '94.1%']}\n"
     ]
    },
    {
     "ename": "NameError",
     "evalue": "name 'sponsor_list' is not defined",
     "output_type": "error",
     "traceback": [
      "\u001b[1;31m---------------------------------------------------------------------------\u001b[0m",
      "\u001b[1;31mNameError\u001b[0m                                 Traceback (most recent call last)",
      "\u001b[1;32m<ipython-input-21-0479c9655f2a>\u001b[0m in \u001b[0;36m<module>\u001b[1;34m()\u001b[0m\n\u001b[0;32m     29\u001b[0m         \u001b[0mtop_sponsor\u001b[0m \u001b[1;33m=\u001b[0m \u001b[0mcompany\u001b[0m\u001b[1;33m\u001b[0m\u001b[0m\n\u001b[0;32m     30\u001b[0m     \u001b[1;32melif\u001b[0m \u001b[0mdiv\u001b[0m\u001b[1;33m.\u001b[0m\u001b[0mfind\u001b[0m\u001b[1;33m(\u001b[0m\u001b[1;34m'span'\u001b[0m\u001b[1;33m,\u001b[0m \u001b[0mclass_\u001b[0m\u001b[1;33m=\u001b[0m\u001b[1;34m'sl'\u001b[0m\u001b[1;33m)\u001b[0m\u001b[1;33m:\u001b[0m\u001b[1;33m\u001b[0m\u001b[0m\n\u001b[1;32m---> 31\u001b[1;33m         \u001b[0msponsor_list\u001b[0m\u001b[1;33m.\u001b[0m\u001b[0mappend\u001b[0m\u001b[1;33m(\u001b[0m\u001b[0mcompany\u001b[0m\u001b[1;33m)\u001b[0m\u001b[1;33m\u001b[0m\u001b[0m\n\u001b[0m\u001b[0;32m     32\u001b[0m     \u001b[1;32melse\u001b[0m\u001b[1;33m:\u001b[0m\u001b[1;33m\u001b[0m\u001b[0m\n\u001b[0;32m     33\u001b[0m         \u001b[1;32mbreak\u001b[0m\u001b[1;33m\u001b[0m\u001b[0m\n",
      "\u001b[1;31mNameError\u001b[0m: name 'sponsor_list' is not defined"
     ]
    }
   ],
   "source": [
    "\n",
    "soup = BeautifulSoup(response.text, 'html.parser')\n",
    "divs = soup.find_all('div', class_='m-product-item')\n",
    "\n",
    "for idx,div in enumerate(divs):\n",
    "    # print(kws, idx)\n",
    "    company = {}\n",
    "    extra = div.find(class_='item-extra')\n",
    "    if extra:\n",
    "        a = extra.find('div', class_='stitle').a\n",
    "        company['years'] = re.search('year-num(\\d+)', str(a.i)).group(1)\n",
    "        a = a.next_sibling.next_sibling\n",
    "        company['name'] = a.string.strip()\n",
    "        company['url'] = 'https:' + a['href']\n",
    "        ul = extra.find('ul', class_='record')\n",
    "    else:\n",
    "        container = div.find('div', class_='brand-right-container')\n",
    "        text = str(container.find('i', class_='year-num'))\n",
    "        company['years'] = re.search('year-num(\\d+)', text).group(1)\n",
    "        a = container.find('div', class_='supplier').a\n",
    "        company['name'] = a.string.strip()\n",
    "        company['url'] = 'https:' + a['href']\n",
    "        ul = container.find('ul', class_='record-container')\n",
    "\n",
    "    if ul:\n",
    "        company['record'] = [re.sub('\\n', '', x).strip() for x in ul.findAll(text=True) if x != '\\n']\n",
    "\n",
    "    if div.find('span', class_='sking'):\n",
    "        top_sponsor = company\n",
    "    elif div.find('span', class_='sl'):\n",
    "        sponsor_list.append(company)\n",
    "    else:\n",
    "        break\n",
    "    print(company)"
   ]
  },
  {
   "cell_type": "code",
   "execution_count": null,
   "metadata": {},
   "outputs": [],
   "source": []
  }
 ],
 "metadata": {
  "kernelspec": {
   "display_name": "Python 3",
   "language": "python",
   "name": "python3"
  },
  "language_info": {
   "codemirror_mode": {
    "name": "ipython",
    "version": 3
   },
   "file_extension": ".py",
   "mimetype": "text/x-python",
   "name": "python",
   "nbconvert_exporter": "python",
   "pygments_lexer": "ipython3",
   "version": "3.6.5"
  }
 },
 "nbformat": 4,
 "nbformat_minor": 2
}
