{
 "cells": [
  {
   "cell_type": "code",
   "execution_count": 652,
   "metadata": {},
   "outputs": [],
   "source": [
    "from libs.alibaba.alibaba import Alibaba\n",
    "from libs.alibaba.products_ranking import ProductsRanking\n",
    "from libs.json import JSON\n",
    "\n",
    "from selenium import webdriver\n",
    "from selenium.webdriver.common.keys import Keys\n",
    "from selenium.webdriver.support.ui import WebDriverWait\n",
    "from selenium.webdriver.support import expected_conditions as EC\n",
    "from selenium.common.exceptions import WebDriverException\n",
    "from selenium.common.exceptions import TimeoutException\n",
    "from selenium.common.exceptions import NoSuchElementException\n",
    "from selenium.common.exceptions import StaleElementReferenceException\n",
    "from selenium.webdriver.common.by import By\n",
    "from selenium.webdriver.common.action_chains import ActionChains\n",
    "from selenium.webdriver.common.desired_capabilities import DesiredCapabilities\n",
    "\n",
    "from datetime import datetime\n",
    "from bs4 import BeautifulSoup\n",
    "from pyquery import PyQuery as pq\n",
    "\n",
    "import json\n",
    "import requests\n",
    "import redis\n",
    "import pendulum\n",
    "import arrow\n",
    "import imp\n",
    "import time\n",
    "import re\n",
    "\n",
    "import types\n",
    "import traceback \n",
    "import threading"
   ]
  },
  {
   "cell_type": "code",
   "execution_count": 533,
   "metadata": {},
   "outputs": [
    {
     "name": "stdout",
     "output_type": "stream",
     "text": [
      ". storage markets.json\n",
      ".\\storage\\markets.json was deserialized!\n"
     ]
    }
   ],
   "source": [
    "market = JSON.deserialize('.', 'storage', 'markets.json')['Eyelashes']"
   ]
  },
  {
   "cell_type": "code",
   "execution_count": 658,
   "metadata": {},
   "outputs": [],
   "source": [
    "class ProductsRanking:\n",
    "    chrome_options = webdriver.ChromeOptions()\n",
    "\n",
    "    headers = {'User-Agent': \"Mozilla/5.0 (Windows NT 10.0; Win64; x64) AppleWebKit/537.36 (KHTML, like Gecko) Chrome/67.0.3396.87 Safari/537.36\"}\n",
    "    api = 'https://www.alibaba.com/trade/search?fsb=y&IndexArea=product_en&viewtype=G&CatId=&SearchText='\n",
    "    current_page = 0\n",
    "    \n",
    "    market = None\n",
    "    \n",
    "    def __init__(self, market=None):\n",
    "        self.headers['Accept'] = 'application/json, text/javascript, */*; q=0.01'\n",
    "        self.headers['Accept-Encoding'] = 'gzip, deflate, br'\n",
    "        self.headers['Accept-Language'] = 'zh-CN,zh;q=0.9,en;q=0.8'\n",
    "        self.headers['cache-control'] = 'no-cache'\n",
    "        self.headers['Connection'] = 'Keep-Alive'\n",
    "        self.headers['Connection'] = 'close'\n",
    "        self.headers['Host'] = 'www.alibaba.com'\n",
    "        self.headers['Upgrade-Insecure-Requests'] = '1'\n",
    "        \n",
    "        self.chrome_options.add_argument('--disable-gpu')\n",
    "        self.chrome_options.add_argument('--disable-software-rasterizer')\n",
    "        self.chrome_options.add_argument('--disable-extensions')\n",
    "        self.chrome_options.add_argument('--disable-logging')\n",
    "        self.chrome_options.add_argument('--disable-infobars')\n",
    "        self.chrome_options.add_argument('--ignore-certificate-errors')\n",
    "        prefs = {\"profile.managed_default_content_settings.images\": 2}\n",
    "        self.chrome_options.add_experimental_option(\"prefs\", prefs)\n",
    "#         self.chrome_options.add_argument('--headless')\n",
    "        user_agent = 'Mozilla/5.0 (Windows NT 10.0; Win64; x64) AppleWebKit/537.36 (KHTML, like Gecko) Chrome/67.0.3396.99 Safari/537.36'\n",
    "        self.chrome_options.add_argument('--user-agent=\"'+user_agent+'\"')\n",
    "        \n",
    "        self.open_browser()\n",
    "        self.get('https://www.alibaba.com')\n",
    "        \n",
    "        self.market = market\n",
    "        \n",
    "    def open_browser(self):\n",
    "        caps = DesiredCapabilities().CHROME\n",
    "#         caps[\"pageLoadStrategy\"] = \"normal\"  #  complete\n",
    "#         caps[\"pageLoadStrategy\"] = \"eager\"  #  interactive\n",
    "        caps[\"pageLoadStrategy\"] = \"none\"\n",
    "        self.browser = webdriver.Chrome(chrome_options=self.chrome_options, desired_capabilities=caps)\n",
    "        \n",
    "        \n",
    "    def crawl_current_page(self, html, records=[]):\n",
    "        \n",
    "        for idx, item in enumerate(pq(html).find('div.item-main')):\n",
    "            record = {}\n",
    "            item = pq(item)\n",
    "            \n",
    "            record['location'] = {}\n",
    "            record['location']['page'] = self.current_page\n",
    "            record['location']['position'] = idx+1\n",
    "            \n",
    "            if item.find('h2.title i.ui2-icon-crown'):\n",
    "                record['is_top_sponsor'] = True\n",
    "            else:\n",
    "                record['is_top_sponsor'] = False\n",
    "\n",
    "            if item.find('h2.title div.sl'):\n",
    "                record['is_sponsor'] = True\n",
    "            else:\n",
    "                record['is_sponsor'] = False\n",
    "            \n",
    "            product = {}\n",
    "            record['product'] = product\n",
    "            product['id'] = item.parent().attr('data-ctrdot')\n",
    "            a = item.find('h2.title a')\n",
    "            product['title'] = a.attr('title')\n",
    "            product['href'] = a.attr('href')\n",
    "            product['img'] = item.find('div.item-img img').attr('src')\n",
    "\n",
    "            company = {}\n",
    "            record['company'] = company\n",
    "            div = item.find('div.stitle')\n",
    "            a = div.find('a')\n",
    "            company['name'] = a.attr('title')\n",
    "            company['href'] = a.attr('href')\n",
    "            company['years'] = a.prev().text().split(' ')[0]\n",
    "#             company['location'] = div.find('span.location').text().strip()\n",
    "            transaction = {'counts': '', 'volume': ''}\n",
    "            company['transaction'] = transaction\n",
    "            company['response_rate'] = ''\n",
    "\n",
    "            div = item.find('div.sstitle')\n",
    "            a = div.find('a.diamond-level-group')\n",
    "            diamond = len(a.find('i.ui2-icon-svg-diamond-level-one'))\n",
    "            half_diamond =len(a.find('i.ui2-icon-svg-diamond-level-half-filled'))\n",
    "            transaction['level'] = diamond + half_diamond*0.5\n",
    "#             if 'Transaction' in li.find('div.lab').text():\n",
    "#                 transaction['counts'] = div.find('ul.record li:first-child div.lab').text().split(' ')[0]\n",
    "#                 transaction['volume'] = div.find('ul.record li:first-child div.num').text()\n",
    "            div = item.find('div.num')\n",
    "            if div:\n",
    "                company['response_rate'] = div.find('i').text()\n",
    "\n",
    "#         doc = pq(html)\n",
    "        \n",
    "#         for idx, item in enumerate(doc.find('div.m-product-item')):\n",
    "#             item = pq(item)\n",
    "\n",
    "#             record = {}\n",
    "            \n",
    "#             record['location'] = {}\n",
    "#             record['location']['page'] = self.current_page\n",
    "#             record['location']['position'] = idx+1\n",
    "            \n",
    "#             if item.find('span.sking'):\n",
    "#                 record['is_top_sponsor'] = True\n",
    "#             else:\n",
    "#                 record['is_top_sponsor'] = False\n",
    "\n",
    "#             if item.find('span.sl'):\n",
    "#                 record['is_sponsor'] = True\n",
    "#             else:\n",
    "#                 record['is_sponsor'] = False\n",
    "\n",
    "#             product = {}\n",
    "#             record['product'] = product\n",
    "#             product['id'] = item.find('h2.title a').attr('data-hislog')\n",
    "#             product['title'] = item.find('h2.title').text()\n",
    "#             product['href'] = item.find('h2.title a').attr('href')\n",
    "#             product['img'] = item.find('div.item-sub div.img-wrap a img').attr('src')\n",
    "\n",
    "#             company = {}\n",
    "#             record['company'] = company\n",
    "#             div = item.find('div.item-extra')\n",
    "#             company['name'] = div.find('div.stitle a').text()\n",
    "#             company['href'] = div.find('div.stitle a').attr('href')\n",
    "#             company['years'] = div.find('div.stitle div').text().split(' ')[0]\n",
    "#             company['location'] = div.find('span.location').text().strip()\n",
    "#             transaction = {'counts': '', 'volume': ''}\n",
    "#             company['transaction'] = transaction\n",
    "#             company['response_rate'] = ''\n",
    "\n",
    "#             diamond = len(div.find('a.s-val i.ui2-icon-svg-diamond-level-one'))\n",
    "#             half_diamond =len(div.find('a.s-val i.ui2-icon-svg-diamond-level-half-filled'))\n",
    "#             transaction['level'] = diamond + half_diamond*0.5\n",
    "#             for li in div.find('ul.record li'):\n",
    "#                 li = pq(li)\n",
    "#                 if 'Transaction' in li.find('div.lab').text():\n",
    "#                     transaction['counts'] = div.find('ul.record li:first-child div.lab').text().split(' ')[0]\n",
    "#                     transaction['volume'] = div.find('ul.record li:first-child div.num').text()\n",
    "#                 if 'Response' in li.find('div.lab').text():\n",
    "#                     company['response_rate'] = div.find('ul.record li:last-child div.num').text()\n",
    "                    \n",
    "            records.append(record)\n",
    "        return records\n",
    "    \n",
    "    def next_page(self, keyword):\n",
    "        self.current_page += 1\n",
    "        if self.current_page == 1:\n",
    "            url = self.api + re.sub(' +', '+', keyword)\n",
    "        else:\n",
    "            url = self.api + re.sub(' +', '+', keyword) + '&page='+str(self.current_page)\n",
    "        print(str(self.current_page), end=', ')\n",
    "\n",
    "        self.get(url)\n",
    "        return self.browser.page_source\n",
    "    \n",
    "    def get(self, url):\n",
    "        while True:\n",
    "            try:\n",
    "                self.browser.get(url)\n",
    "                time.sleep(1)\n",
    "                break\n",
    "            except WebDriverException as e:\n",
    "                if 'chrome not reachable' in str(e):\n",
    "                    self.open_browser()\n",
    "                    if url != 'https://www.alibaba.com':\n",
    "                        self.get('https://www.alibaba.com')\n",
    "                    continue\n",
    "            \n",
    "        while True:\n",
    "            readyState = self.browser.execute_script('return document.readyState')\n",
    "            if readyState == 'interactive' or readyState == 'complete':\n",
    "                break\n",
    "            else:\n",
    "                time.sleep(0.1)\n",
    "    \n",
    "    def crawl_product_ranking(self, keyword, pages):\n",
    "        self.current_page = 0\n",
    "        records = []\n",
    "        print(keyword, end=': ')\n",
    "        \n",
    "        while self.current_page < pages:\n",
    "            html = self.next_page(keyword)\n",
    "            self.crawl_current_page(html, records=records)\n",
    "        print('length:', len(records), end=', ')\n",
    "        print('done!')\n",
    "        \n",
    "        obj = {'datetime': pendulum.now().to_datetime_string(), 'records': records}\n",
    "        JSON.serialize(obj, self.market['directory'] + '_config', 'products_ranking', keyword+'.json')\n",
    "        return obj"
   ]
  },
  {
   "cell_type": "code",
   "execution_count": 659,
   "metadata": {},
   "outputs": [],
   "source": [
    "pr = ProductsRanking(market=market)"
   ]
  },
  {
   "cell_type": "code",
   "execution_count": 637,
   "metadata": {},
   "outputs": [],
   "source": [
    "records = []"
   ]
  },
  {
   "cell_type": "code",
   "execution_count": 662,
   "metadata": {
    "scrolled": false
   },
   "outputs": [
    {
     "name": "stdout",
     "output_type": "stream",
     "text": [
      "mink eyelash: 1, 2, 3, 4, 5, length: 180, done!\n",
      "E:\\glitter\\Eyelashes_config\\products_ranking\\mink eyelash.json was serialized!\n",
      "Wall time: 27.1 s\n"
     ]
    }
   ],
   "source": [
    "%%time\n",
    "results = pr.crawl_product_ranking('mink eyelash', 5)"
   ]
  },
  {
   "cell_type": "code",
   "execution_count": 666,
   "metadata": {},
   "outputs": [
    {
     "name": "stdout",
     "output_type": "stream",
     "text": [
      "2018-10-21 22:35:19 , 180\n"
     ]
    }
   ],
   "source": [
    "print(results['datetime'], ',', len(results['records']))\n",
    "records = results['records']"
   ]
  },
  {
   "cell_type": "code",
   "execution_count": 667,
   "metadata": {},
   "outputs": [
    {
     "data": {
      "text/plain": [
       "{'location': {'page': 3, 'position': 2},\n",
       " 'is_top_sponsor': False,\n",
       " 'is_sponsor': False,\n",
       " 'product': {'id': '60685938147',\n",
       "  'title': 'Natural soft eyelashes private label mink eyelashes',\n",
       "  'href': '//www.alibaba.com/product-detail/Natural-soft-eyelashes-private-label-mink_60685938147.html',\n",
       "  'img': '//sc02.alicdn.com/kf/HTB1a4b2bVuWBuNjSspnq6x1NVXa3/Natural-soft-eyelashes-private-label-mink-eyelashes.jpg_300x300.jpg'},\n",
       " 'company': {'name': 'Qingdao Goodyard International E-commerce Co., Ltd.',\n",
       "  'href': '//goodyardhair.en.alibaba.com/company_profile.html#top-nav-bar',\n",
       "  'years': '7YRS',\n",
       "  'transaction': {'counts': '', 'volume': '', 'level': 3.5},\n",
       "  'response_rate': '96.9%'}}"
      ]
     },
     "execution_count": 667,
     "metadata": {},
     "output_type": "execute_result"
    }
   ],
   "source": [
    "records[73]"
   ]
  },
  {
   "cell_type": "code",
   "execution_count": 668,
   "metadata": {},
   "outputs": [
    {
     "name": "stdout",
     "output_type": "stream",
     "text": [
      "{'page': 1, 'position': 5}\n"
     ]
    }
   ],
   "source": [
    "for record in records:\n",
    "    if 'Glitter' in record['company']['name']:\n",
    "        print(record['location'])\n",
    "    "
   ]
  },
  {
   "cell_type": "code",
   "execution_count": 544,
   "metadata": {},
   "outputs": [
    {
     "data": {
      "text/plain": [
       "168"
      ]
     },
     "execution_count": 544,
     "metadata": {},
     "output_type": "execute_result"
    }
   ],
   "source": []
  },
  {
   "cell_type": "code",
   "execution_count": 545,
   "metadata": {},
   "outputs": [
    {
     "data": {
      "text/plain": [
       "182"
      ]
     },
     "execution_count": 545,
     "metadata": {},
     "output_type": "execute_result"
    }
   ],
   "source": []
  },
  {
   "cell_type": "code",
   "execution_count": null,
   "metadata": {},
   "outputs": [],
   "source": []
  },
  {
   "cell_type": "code",
   "execution_count": null,
   "metadata": {},
   "outputs": [],
   "source": []
  },
  {
   "cell_type": "code",
   "execution_count": null,
   "metadata": {},
   "outputs": [],
   "source": []
  }
 ],
 "metadata": {
  "kernelspec": {
   "display_name": "Python 3",
   "language": "python",
   "name": "python3"
  },
  "language_info": {
   "codemirror_mode": {
    "name": "ipython",
    "version": 3
   },
   "file_extension": ".py",
   "mimetype": "text/x-python",
   "name": "python",
   "nbconvert_exporter": "python",
   "pygments_lexer": "ipython3",
   "version": "3.6.6"
  }
 },
 "nbformat": 4,
 "nbformat_minor": 2
}
