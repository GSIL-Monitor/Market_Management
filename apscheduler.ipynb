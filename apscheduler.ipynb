{
 "cells": [
  {
   "cell_type": "code",
   "execution_count": 1,
   "metadata": {},
   "outputs": [
    {
     "data": {
      "text/plain": [
       "1"
      ]
     },
     "execution_count": 1,
     "metadata": {},
     "output_type": "execute_result"
    }
   ],
   "source": [
    "from libs.json import JSON\n",
    "from libs.alibaba.p4p import P4P\n",
    "from libs.task import Task\n",
    "\n",
    "from selenium.webdriver.support.ui import WebDriverWait\n",
    "from selenium.webdriver.support import expected_conditions as EC\n",
    "from selenium.common.exceptions import NoSuchElementException\n",
    "\n",
    "from apscheduler.schedulers.background import BackgroundScheduler\n",
    "from apscheduler.events import EVENT_JOB_EXECUTED\n",
    "from apscheduler.events import EVENT_JOB_ERROR\n",
    "from apscheduler.events import EVENT_JOB_MISSED\n",
    "from apscheduler.events import EVENT_JOB_ADDED\n",
    "from apscheduler.events import EVENT_JOB_REMOVED\n",
    "from apscheduler.events import EVENT_JOB_SUBMITTED\n",
    "from apscheduler.events import EVENT_ALL\n",
    "\n",
    "from datetime import datetime\n",
    "import arrow\n",
    "import json\n",
    "import gzip\n",
    "import os\n",
    "import re\n",
    "from bs4 import BeautifulSoup\n",
    "from pyquery import PyQuery as pq\n",
    "\n",
    "class socketio(object):\n",
    "    @classmethod\n",
    "    def emit(msg, msg1, msg2, **kw):\n",
    "        print(msg1, msg2)\n",
    "\n",
    "sched = BackgroundScheduler()\n",
    "sched.start()\n",
    "sched.state"
   ]
  },
  {
   "cell_type": "code",
   "execution_count": 2,
   "metadata": {},
   "outputs": [],
   "source": [
    "# sched.remove_listener(scheduler_listener)\n",
    "def scheduler_listener(event):\n",
    "    print(arrow.now().format('YYYY-MM-DD HH:mm:ss'), event.code)\n",
    "    if event.code == EVENT_JOB_ERROR:\n",
    "        print(event.exception)\n",
    "        traceback.print_exc()\n",
    "    elif event.code == EVENT_JOB_MISSED:\n",
    "        print('EVENT_JOB_MISSED', event)\n",
    "    elif event.code == EVENT_JOB_SUBMITTED:\n",
    "        print('EVENT_JOB_SUBMITTED', event)\n",
    "    elif event.code == EVENT_JOB_ADDED:\n",
    "        job = scheduler.get_job(event.job_id)\n",
    "        socketio.emit('event_task_added', Task(job).__dict__, namespace='/markets', broadcast=True)\n",
    "    elif event.code == EVENT_JOB_REMOVED:\n",
    "        socketio.emit('event_task_removed', event.job_id, namespace='/markets', broadcast=True)\n",
    "    elif event.code == EVENT_JOB_EXECUTED:\n",
    "        job = scheduler.get_job(event.job_id)\n",
    "        if job:\n",
    "            socketio.emit('event_task_executed', Task(job).__dict__, namespace='/markets', broadcast=True)\n",
    "\n",
    "sched.add_listener(scheduler_listener, EVENT_ALL)"
   ]
  },
  {
   "cell_type": "code",
   "execution_count": 3,
   "metadata": {
    "scrolled": true
   },
   "outputs": [
    {
     "name": "stdout",
     "output_type": "stream",
     "text": [
      "E:\\glitter\\Eyelashes_config [] p4p_keywords_list_recording.json\n",
      "E:\\glitter\\Eyelashes_config\\p4p_keywords_list_recording.json was deserialized!\n",
      "E:\\glitter\\Eyelashes_config [] p4p_keywords_list_monitor.json\n",
      "E:\\glitter\\Eyelashes_config\\p4p_keywords_list_monitor.json was deserialized!\n",
      "notify {'type': 'primary', 'content': '打开网址：https://i.alibaba.com'}\n",
      "notify {'type': 'primary', 'content': '等待登陆页面加载 ... ...'}\n",
      "notify {'type': 'primary', 'content': '输入登录信息， 并登录'}\n",
      "notify {'type': 'success', 'content': '成功 登录 阿里巴巴 国际站！用户名：Jeremy'}\n"
     ]
    }
   ],
   "source": [
    "market = {'name': 'Eyelash', 'directory': \"E:\\\\glitter\\\\Eyelashes\"}\n",
    "lid = 'eyelash@glittergroupcn.com'\n",
    "lpwd = 'Wangzhen68970747'\n",
    "p4p = P4P(market, lid, lpwd, socketio)"
   ]
  },
  {
   "cell_type": "code",
   "execution_count": 5,
   "metadata": {},
   "outputs": [
    {
     "name": "stderr",
     "output_type": "stream",
     "text": [
      "Error notifying listener\n",
      "Traceback (most recent call last):\n",
      "  File \"e:\\worksp~1\\python\\market~1\\venv\\lib\\site-packages\\apscheduler\\schedulers\\base.py\", line 825, in _dispatch_event\n",
      "    cb(event)\n",
      "  File \"<ipython-input-2-1bd2665347c7>\", line 12, in scheduler_listener\n",
      "    job = scheduler.get_job(event.job_id)\n",
      "NameError: name 'scheduler' is not defined\n"
     ]
    },
    {
     "name": "stdout",
     "output_type": "stream",
     "text": [
      "2018-05-31 22:57:45\n",
      "2018-06-01 22:57:45\n",
      "2018-05-31 22:57:45 512\n",
      "2018-05-31 22:57:45 2048\n"
     ]
    },
    {
     "data": {
      "text/plain": [
       "<Job (id=309e433d46c04d1f954bc31ab516ed7b name=P4P.crawl_keywords)>"
      ]
     },
     "execution_count": 5,
     "metadata": {},
     "output_type": "execute_result"
    },
    {
     "name": "stdout",
     "output_type": "stream",
     "text": [
      "2018-05-31 22:57:45 32768\n",
      "EVENT_JOB_SUBMITTED <JobSubmissionEvent (code=32768)>\n"
     ]
    },
    {
     "name": "stderr",
     "output_type": "stream",
     "text": [
      "Error notifying listener\n",
      "Traceback (most recent call last):\n",
      "  File \"e:\\worksp~1\\python\\market~1\\venv\\lib\\site-packages\\apscheduler\\schedulers\\base.py\", line 825, in _dispatch_event\n",
      "    cb(event)\n",
      "  File \"<ipython-input-2-1bd2665347c7>\", line 17, in scheduler_listener\n",
      "    job = scheduler.get_job(event.job_id)\n",
      "NameError: name 'scheduler' is not defined\n"
     ]
    },
    {
     "name": "stdout",
     "output_type": "stream",
     "text": [
      "next_page: True\n",
      "next_page: False\n",
      "E:\\glitter\\Eyelashes_config\\p4p_keywords_list.json was serialized!\n",
      "2018-05-31 22:57:47 4096\n"
     ]
    }
   ],
   "source": [
    "now = arrow.now()\n",
    "start_date = now.format('YYYY-MM-DD HH:mm:ss')\n",
    "end_date = now.shift(hours=24).format('YYYY-MM-DD HH:mm:ss')\n",
    "print(start_date)\n",
    "print(end_date)\n",
    "job = sched.add_job(p4p.crawl_keywords, trigger='interval', minutes=30, start_date=start_date, end_date=end_date)\n",
    "job.modify(next_run_time=datetime.now())"
   ]
  },
  {
   "cell_type": "code",
   "execution_count": 35,
   "metadata": {},
   "outputs": [
    {
     "name": "stdout",
     "output_type": "stream",
     "text": [
      "2018-05-30 15:31:40 512\n",
      "Job added <JobEvent (code=512)>\n"
     ]
    },
    {
     "data": {
      "text/plain": [
       "<Job (id=8f51ad25793f48f7b626ab679efab063 name=P4P.turn_all_off)>"
      ]
     },
     "execution_count": 35,
     "metadata": {},
     "output_type": "execute_result"
    }
   ],
   "source": [
    "def find_next_task_id(task_type='recording'):\n",
    "    max_tid = 0\n",
    "    for job in jobs:\n",
    "        text = job.id\n",
    "        if task_type in text:\n",
    "            tid = int(text.split('_')[1])\n",
    "            if tid > max_tid:\n",
    "                max_tid = tid\n",
    "    max_tid += 1\n",
    "    return task_type + '_' + str(max_tid)"
   ]
  },
  {
   "cell_type": "code",
   "execution_count": 1,
   "metadata": {},
   "outputs": [
    {
     "data": {
      "text/plain": [
       "True"
      ]
     },
     "execution_count": 1,
     "metadata": {},
     "output_type": "execute_result"
    }
   ],
   "source": [
    "task_type='recording'\n",
    "task_type in 'recording_2_64313'"
   ]
  },
  {
   "cell_type": "code",
   "execution_count": 6,
   "metadata": {},
   "outputs": [
    {
     "data": {
      "text/plain": [
       "[<Job (id=309e433d46c04d1f954bc31ab516ed7b name=P4P.crawl_keywords)>]"
      ]
     },
     "execution_count": 6,
     "metadata": {},
     "output_type": "execute_result"
    }
   ],
   "source": [
    "jobs = sched.get_jobs()\n",
    "jobs"
   ]
  },
  {
   "cell_type": "code",
   "execution_count": 13,
   "metadata": {},
   "outputs": [
    {
     "name": "stdout",
     "output_type": "stream",
     "text": [
      "next_page: True\n",
      "next_page: False\n",
      "E:\\glitter\\Eyelashes_config\\p4p_keywords_list.json was serialized!\n"
     ]
    },
    {
     "data": {
      "text/plain": [
       "[{'id': '77942874929',\n",
       "  'status': 'stop',\n",
       "  'kws': '3d eyelash extension',\n",
       "  'group': '高价词',\n",
       "  'my_price': '3.0',\n",
       "  'average_price': '8.8',\n",
       "  'match_level': '4',\n",
       "  'search_count': '100%',\n",
       "  'buy_count': '100%'},\n",
       " {'id': '77942874835',\n",
       "  'status': 'stop',\n",
       "  'kws': '3d mink eyelashes',\n",
       "  'group': '高价词',\n",
       "  'my_price': '3.1',\n",
       "  'average_price': '11.3',\n",
       "  'match_level': '5',\n",
       "  'search_count': '100%',\n",
       "  'buy_count': '100%'},\n",
       " {'id': '77942874870',\n",
       "  'status': 'stop',\n",
       "  'kws': '3d mink lashes private label',\n",
       "  'group': '未分组',\n",
       "  'my_price': '3.1',\n",
       "  'average_price': '9.5',\n",
       "  'match_level': '4',\n",
       "  'search_count': '100%',\n",
       "  'buy_count': '100%'},\n",
       " {'id': '77973520148',\n",
       "  'status': 'stop',\n",
       "  'kws': '3d silk eyelash',\n",
       "  'group': '高价词',\n",
       "  'my_price': '3.0',\n",
       "  'average_price': '9.5',\n",
       "  'match_level': '5',\n",
       "  'search_count': '100%',\n",
       "  'buy_count': '100%'},\n",
       " {'id': '77942874909',\n",
       "  'status': 'stop',\n",
       "  'kws': '3d silk lashes',\n",
       "  'group': '未分组',\n",
       "  'my_price': '3.1',\n",
       "  'average_price': '8.8',\n",
       "  'match_level': '4',\n",
       "  'search_count': '85%',\n",
       "  'buy_count': '100%'},\n",
       " {'id': '77973520149',\n",
       "  'status': 'stop',\n",
       "  'kws': 'best eyelash',\n",
       "  'group': '未分组',\n",
       "  'my_price': '3.1',\n",
       "  'average_price': '8.0',\n",
       "  'match_level': '5',\n",
       "  'search_count': '100%',\n",
       "  'buy_count': '100%'},\n",
       " {'id': '77942874897',\n",
       "  'status': 'stop',\n",
       "  'kws': 'brand eyelash',\n",
       "  'group': '未分组',\n",
       "  'my_price': '3.1',\n",
       "  'average_price': '7.2',\n",
       "  'match_level': '5',\n",
       "  'search_count': '100%',\n",
       "  'buy_count': '100%'},\n",
       " {'id': '77973520150',\n",
       "  'status': 'stop',\n",
       "  'kws': 'bulk eyelash extension',\n",
       "  'group': '未分组',\n",
       "  'my_price': '3.1',\n",
       "  'average_price': '7.7',\n",
       "  'match_level': '4',\n",
       "  'search_count': '100%',\n",
       "  'buy_count': '100%'},\n",
       " {'id': '77973520134',\n",
       "  'status': 'stop',\n",
       "  'kws': 'cluster eyelash',\n",
       "  'group': '未分组',\n",
       "  'my_price': '3.1',\n",
       "  'average_price': '7.9',\n",
       "  'match_level': '5',\n",
       "  'search_count': '100%',\n",
       "  'buy_count': '100%'},\n",
       " {'id': '77942874936',\n",
       "  'status': 'stop',\n",
       "  'kws': 'custom eyelash box',\n",
       "  'group': '未分组',\n",
       "  'my_price': '3.1',\n",
       "  'average_price': '6.3',\n",
       "  'match_level': '3',\n",
       "  'search_count': '100%',\n",
       "  'buy_count': '100%'},\n",
       " {'id': '77942874830',\n",
       "  'status': 'stop',\n",
       "  'kws': 'custom eyelash packaging',\n",
       "  'group': '未分组',\n",
       "  'my_price': '3.1',\n",
       "  'average_price': '6.7',\n",
       "  'match_level': '4',\n",
       "  'search_count': '100%',\n",
       "  'buy_count': '100%'},\n",
       " {'id': '77942874884',\n",
       "  'status': 'stop',\n",
       "  'kws': 'custom eyelashes',\n",
       "  'group': '未分组',\n",
       "  'my_price': '3.1',\n",
       "  'average_price': '8.6',\n",
       "  'match_level': '5',\n",
       "  'search_count': '100%',\n",
       "  'buy_count': '100%'},\n",
       " {'id': '77973520143',\n",
       "  'status': 'stop',\n",
       "  'kws': 'extension eyelash',\n",
       "  'group': '高价词',\n",
       "  'my_price': '4.1',\n",
       "  'average_price': '10.0',\n",
       "  'match_level': '5',\n",
       "  'search_count': '100%',\n",
       "  'buy_count': '100%'},\n",
       " {'id': '77942874822',\n",
       "  'status': 'stop',\n",
       "  'kws': 'eyelash box',\n",
       "  'group': '未分组',\n",
       "  'my_price': '3.1',\n",
       "  'average_price': '6.4',\n",
       "  'match_level': '3',\n",
       "  'search_count': '100%',\n",
       "  'buy_count': '100%'},\n",
       " {'id': '77959288691',\n",
       "  'status': 'stop',\n",
       "  'kws': 'eyelash case',\n",
       "  'group': '未分组',\n",
       "  'my_price': '3.1',\n",
       "  'average_price': '6.6',\n",
       "  'match_level': '4',\n",
       "  'search_count': '100%',\n",
       "  'buy_count': '100%'},\n",
       " {'id': '77942874890',\n",
       "  'status': 'stop',\n",
       "  'kws': 'eyelash extension',\n",
       "  'group': '未分组',\n",
       "  'my_price': '4.2',\n",
       "  'average_price': '10.0',\n",
       "  'match_level': '3',\n",
       "  'search_count': '100%',\n",
       "  'buy_count': '100%'},\n",
       " {'id': '77973520147',\n",
       "  'status': 'stop',\n",
       "  'kws': 'eyelash extension 3d',\n",
       "  'group': '未分组',\n",
       "  'my_price': '3.1',\n",
       "  'average_price': '8.1',\n",
       "  'match_level': '4',\n",
       "  'search_count': '85%',\n",
       "  'buy_count': '100%'},\n",
       " {'id': '77973520130',\n",
       "  'status': 'start',\n",
       "  'kws': 'eyelash extension factory',\n",
       "  'group': '价格常变词',\n",
       "  'my_price': '3.1',\n",
       "  'average_price': '9.2',\n",
       "  'match_level': '5',\n",
       "  'search_count': '100%',\n",
       "  'buy_count': '100%'},\n",
       " {'id': '77973520136',\n",
       "  'status': 'stop',\n",
       "  'kws': 'eyelash extension lashes',\n",
       "  'group': '未分组',\n",
       "  'my_price': '2.1',\n",
       "  'average_price': '7.9',\n",
       "  'match_level': '5',\n",
       "  'search_count': '85%',\n",
       "  'buy_count': '100%'},\n",
       " {'id': '77973520154',\n",
       "  'status': 'stop',\n",
       "  'kws': 'eyelash extension mink',\n",
       "  'group': '价格常变词',\n",
       "  'my_price': '3.1',\n",
       "  'average_price': '8.5',\n",
       "  'match_level': '4',\n",
       "  'search_count': '100%',\n",
       "  'buy_count': '100%'},\n",
       " {'id': '77973520153',\n",
       "  'status': 'stop',\n",
       "  'kws': 'eyelash extension silk',\n",
       "  'group': '未分组',\n",
       "  'my_price': '3.1',\n",
       "  'average_price': '8.6',\n",
       "  'match_level': '3',\n",
       "  'search_count': '100%',\n",
       "  'buy_count': '100%'},\n",
       " {'id': '77973520145',\n",
       "  'status': 'stop',\n",
       "  'kws': 'eyelash extension trays',\n",
       "  'group': '未分组',\n",
       "  'my_price': '3.1',\n",
       "  'average_price': '6.0',\n",
       "  'match_level': '3',\n",
       "  'search_count': '100%',\n",
       "  'buy_count': '100%'},\n",
       " {'id': '77942874828',\n",
       "  'status': 'start',\n",
       "  'kws': 'eyelash extension wholesale',\n",
       "  'group': '价格常变词',\n",
       "  'my_price': '3.1',\n",
       "  'average_price': '8.9',\n",
       "  'match_level': '5',\n",
       "  'search_count': '100%',\n",
       "  'buy_count': '100%'},\n",
       " {'id': '77942874905',\n",
       "  'status': 'stop',\n",
       "  'kws': 'eyelash extensions private label',\n",
       "  'group': '未分组',\n",
       "  'my_price': '3.1',\n",
       "  'average_price': '8.3',\n",
       "  'match_level': '3',\n",
       "  'search_count': '100%',\n",
       "  'buy_count': '100%'},\n",
       " {'id': '77973520137',\n",
       "  'status': 'stop',\n",
       "  'kws': 'eyelash extention',\n",
       "  'group': '未分组',\n",
       "  'my_price': '4.4',\n",
       "  'average_price': '7.3',\n",
       "  'match_level': '1',\n",
       "  'search_count': '100%',\n",
       "  'buy_count': '100%'},\n",
       " {'id': '77942874994',\n",
       "  'status': 'stop',\n",
       "  'kws': 'eyelash human',\n",
       "  'group': '价格常变词',\n",
       "  'my_price': '3.1',\n",
       "  'average_price': '4.4',\n",
       "  'match_level': '5',\n",
       "  'search_count': '100%',\n",
       "  'buy_count': '100%'},\n",
       " {'id': '77942874910',\n",
       "  'status': 'stop',\n",
       "  'kws': 'eyelash manufacturer',\n",
       "  'group': '未分组',\n",
       "  'my_price': '3.1',\n",
       "  'average_price': '8.2',\n",
       "  'match_level': '5',\n",
       "  'search_count': '100%',\n",
       "  'buy_count': '100%'},\n",
       " {'id': '77942874907',\n",
       "  'status': 'stop',\n",
       "  'kws': 'eyelash packaging',\n",
       "  'group': '未分组',\n",
       "  'my_price': '3.1',\n",
       "  'average_price': '6.4',\n",
       "  'match_level': '4',\n",
       "  'search_count': '100%',\n",
       "  'buy_count': '100%'},\n",
       " {'id': '77942874825',\n",
       "  'status': 'stop',\n",
       "  'kws': 'eyelash private label packages',\n",
       "  'group': '未分组',\n",
       "  'my_price': '3.1',\n",
       "  'average_price': '5.8',\n",
       "  'match_level': '5',\n",
       "  'search_count': '85%',\n",
       "  'buy_count': '100%'},\n",
       " {'id': '77958624415',\n",
       "  'status': 'stop',\n",
       "  'kws': 'eyelash tray',\n",
       "  'group': '未分组',\n",
       "  'my_price': '3.1',\n",
       "  'average_price': '7.1',\n",
       "  'match_level': '4',\n",
       "  'search_count': '100%',\n",
       "  'buy_count': '100%'},\n",
       " {'id': '77942874861',\n",
       "  'status': 'stop',\n",
       "  'kws': 'eyelashes',\n",
       "  'group': '高价词',\n",
       "  'my_price': '3.9',\n",
       "  'average_price': '9.5',\n",
       "  'match_level': '5',\n",
       "  'search_count': '100%',\n",
       "  'buy_count': '100%'},\n",
       " {'id': '77942874900',\n",
       "  'status': 'stop',\n",
       "  'kws': 'eyelashes package box',\n",
       "  'group': '未分组',\n",
       "  'my_price': '3.1',\n",
       "  'average_price': '6.9',\n",
       "  'match_level': '5',\n",
       "  'search_count': '100%',\n",
       "  'buy_count': '100%'},\n",
       " {'id': '77942874852',\n",
       "  'status': 'stop',\n",
       "  'kws': 'eyelashes private label',\n",
       "  'group': '未分组',\n",
       "  'my_price': '3.1',\n",
       "  'average_price': '8.2',\n",
       "  'match_level': '4',\n",
       "  'search_count': '100%',\n",
       "  'buy_count': '100%'},\n",
       " {'id': '77942874844',\n",
       "  'status': 'stop',\n",
       "  'kws': 'false lashes',\n",
       "  'group': '未分组',\n",
       "  'my_price': '4.5',\n",
       "  'average_price': '9.0',\n",
       "  'match_level': '3',\n",
       "  'search_count': '100%',\n",
       "  'buy_count': '100%'},\n",
       " {'id': '77942874975',\n",
       "  'status': 'stop',\n",
       "  'kws': 'faux silk lashes',\n",
       "  'group': '未分组',\n",
       "  'my_price': '3.0',\n",
       "  'average_price': '5.5',\n",
       "  'match_level': '5',\n",
       "  'search_count': '85%',\n",
       "  'buy_count': '100%'},\n",
       " {'id': '77973520132',\n",
       "  'status': 'stop',\n",
       "  'kws': 'fiber eyelash',\n",
       "  'group': '未分组',\n",
       "  'my_price': '3.1',\n",
       "  'average_price': '7.2',\n",
       "  'match_level': '5',\n",
       "  'search_count': '85%',\n",
       "  'buy_count': '100%'},\n",
       " {'id': '77961727066',\n",
       "  'status': 'stop',\n",
       "  'kws': 'flare eyelash',\n",
       "  'group': '未分组',\n",
       "  'my_price': '2.2',\n",
       "  'average_price': '5.3',\n",
       "  'match_level': '3',\n",
       "  'search_count': '85%',\n",
       "  'buy_count': '100%'},\n",
       " {'id': '77973520131',\n",
       "  'status': 'stop',\n",
       "  'kws': 'flat eyelash extensions',\n",
       "  'group': '未分组',\n",
       "  'my_price': '3.1',\n",
       "  'average_price': '8.1',\n",
       "  'match_level': '3',\n",
       "  'search_count': '100%',\n",
       "  'buy_count': '100%'},\n",
       " {'id': '77942874921',\n",
       "  'status': 'stop',\n",
       "  'kws': 'individual eyelash extensions',\n",
       "  'group': '未分组',\n",
       "  'my_price': '2.4',\n",
       "  'average_price': '7.8',\n",
       "  'match_level': '4',\n",
       "  'search_count': '100%',\n",
       "  'buy_count': '100%'},\n",
       " {'id': '77973520135',\n",
       "  'status': 'stop',\n",
       "  'kws': 'korea eyelash',\n",
       "  'group': '未分组',\n",
       "  'my_price': '3.1',\n",
       "  'average_price': '9.1',\n",
       "  'match_level': '4',\n",
       "  'search_count': '85%',\n",
       "  'buy_count': '100%'},\n",
       " {'id': '77973520138',\n",
       "  'status': 'stop',\n",
       "  'kws': 'korea eyelash extension',\n",
       "  'group': '未分组',\n",
       "  'my_price': '3.1',\n",
       "  'average_price': '7.2',\n",
       "  'match_level': '4',\n",
       "  'search_count': '85%',\n",
       "  'buy_count': '100%'},\n",
       " {'id': '77942874862',\n",
       "  'status': 'stop',\n",
       "  'kws': 'korean eyelash extensions',\n",
       "  'group': '未分组',\n",
       "  'my_price': '3.1',\n",
       "  'average_price': '7.8',\n",
       "  'match_level': '4',\n",
       "  'search_count': '100%',\n",
       "  'buy_count': '100%'},\n",
       " {'id': '77973520142',\n",
       "  'status': 'stop',\n",
       "  'kws': 'lovely eyelash extension',\n",
       "  'group': '未分组',\n",
       "  'my_price': '3.1',\n",
       "  'average_price': '5.4',\n",
       "  'match_level': '1',\n",
       "  'search_count': '85%',\n",
       "  'buy_count': '100%'},\n",
       " {'id': '77942874811',\n",
       "  'status': 'stop',\n",
       "  'kws': 'magnetic eyelashes',\n",
       "  'group': '高价词',\n",
       "  'my_price': '3.1',\n",
       "  'average_price': '9.4',\n",
       "  'match_level': '4',\n",
       "  'search_count': '100%',\n",
       "  'buy_count': '100%'},\n",
       " {'id': '77959183919',\n",
       "  'status': 'stop',\n",
       "  'kws': 'materials for eyelash extensions',\n",
       "  'group': '未分组',\n",
       "  'my_price': '3.1',\n",
       "  'average_price': '4.5',\n",
       "  'match_level': '2',\n",
       "  'search_count': '85%',\n",
       "  'buy_count': '100%'},\n",
       " {'id': '77942874898',\n",
       "  'status': 'stop',\n",
       "  'kws': 'mink 3d lashes',\n",
       "  'group': '未分组',\n",
       "  'my_price': '3.1',\n",
       "  'average_price': '9.2',\n",
       "  'match_level': '4',\n",
       "  'search_count': '100%',\n",
       "  'buy_count': '100%'},\n",
       " {'id': '77942874919',\n",
       "  'status': 'stop',\n",
       "  'kws': 'mink eyelash extensions',\n",
       "  'group': '未分组',\n",
       "  'my_price': '1.9',\n",
       "  'average_price': '7.4',\n",
       "  'match_level': '3',\n",
       "  'search_count': '100%',\n",
       "  'buy_count': '100%'},\n",
       " {'id': '77942874926',\n",
       "  'status': 'stop',\n",
       "  'kws': 'mink eyelashes',\n",
       "  'group': '未分组',\n",
       "  'my_price': '3.8',\n",
       "  'average_price': '10.8',\n",
       "  'match_level': '4',\n",
       "  'search_count': '100%',\n",
       "  'buy_count': '100%'},\n",
       " {'id': '77942874918',\n",
       "  'status': 'stop',\n",
       "  'kws': 'mink eyelashes private label',\n",
       "  'group': '价格常变词',\n",
       "  'my_price': '3.1',\n",
       "  'average_price': '9.5',\n",
       "  'match_level': '4',\n",
       "  'search_count': '100%',\n",
       "  'buy_count': '100%'},\n",
       " {'id': '77942874925',\n",
       "  'status': 'stop',\n",
       "  'kws': 'mink lashes',\n",
       "  'group': '未分组',\n",
       "  'my_price': '1.2',\n",
       "  'average_price': '10.2',\n",
       "  'match_level': '4',\n",
       "  'search_count': '100%',\n",
       "  'buy_count': '100%'},\n",
       " {'id': '77942874982',\n",
       "  'status': 'stop',\n",
       "  'kws': 'mink lashes and custom package',\n",
       "  'group': '未分组',\n",
       "  'my_price': '3.0',\n",
       "  'average_price': '8.1',\n",
       "  'match_level': '5',\n",
       "  'search_count': '100%',\n",
       "  'buy_count': '100%'},\n",
       " {'id': '77942874933',\n",
       "  'status': 'stop',\n",
       "  'kws': 'natural eyelashes',\n",
       "  'group': '未分组',\n",
       "  'my_price': '4.9',\n",
       "  'average_price': '9.1',\n",
       "  'match_level': '5',\n",
       "  'search_count': '100%',\n",
       "  'buy_count': '100%'},\n",
       " {'id': '77973520152',\n",
       "  'status': 'stop',\n",
       "  'kws': 'own brand eyelash extension',\n",
       "  'group': '价格常变词',\n",
       "  'my_price': '3.1',\n",
       "  'average_price': '6.5',\n",
       "  'match_level': '5',\n",
       "  'search_count': '85%',\n",
       "  'buy_count': '100%'},\n",
       " {'id': '77942874868',\n",
       "  'status': 'stop',\n",
       "  'kws': 'own brand eyelashes private label',\n",
       "  'group': '未分组',\n",
       "  'my_price': '3.1',\n",
       "  'average_price': '7.1',\n",
       "  'match_level': '5',\n",
       "  'search_count': '85%',\n",
       "  'buy_count': '100%'},\n",
       " {'id': '77973520141',\n",
       "  'status': 'stop',\n",
       "  'kws': 'private label 3d mink eyelash',\n",
       "  'group': '价格常变词',\n",
       "  'my_price': '3.1',\n",
       "  'average_price': '9.3',\n",
       "  'match_level': '4',\n",
       "  'search_count': '85%',\n",
       "  'buy_count': '100%'},\n",
       " {'id': '77973520144',\n",
       "  'status': 'stop',\n",
       "  'kws': 'private label eyelash box',\n",
       "  'group': '未分组',\n",
       "  'my_price': '3.1',\n",
       "  'average_price': '7.5',\n",
       "  'match_level': '4',\n",
       "  'search_count': '100%',\n",
       "  'buy_count': '100%'},\n",
       " {'id': '77942874866',\n",
       "  'status': 'stop',\n",
       "  'kws': 'private label eyelash extensions',\n",
       "  'group': '未分组',\n",
       "  'my_price': '3.1',\n",
       "  'average_price': '7.9',\n",
       "  'match_level': '4',\n",
       "  'search_count': '100%',\n",
       "  'buy_count': '100%'},\n",
       " {'id': '77942874869',\n",
       "  'status': 'stop',\n",
       "  'kws': 'private label eyelash packaging',\n",
       "  'group': '未分组',\n",
       "  'my_price': '3.1',\n",
       "  'average_price': '7.3',\n",
       "  'match_level': '4',\n",
       "  'search_count': '100%',\n",
       "  'buy_count': '100%'},\n",
       " {'id': '77942874872',\n",
       "  'status': 'stop',\n",
       "  'kws': 'real mink eyelashes',\n",
       "  'group': '价格常变词',\n",
       "  'my_price': '3.1',\n",
       "  'average_price': '9.0',\n",
       "  'match_level': '4',\n",
       "  'search_count': '100%',\n",
       "  'buy_count': '100%'},\n",
       " {'id': '77942874863',\n",
       "  'status': 'stop',\n",
       "  'kws': 'silk eyelash extension',\n",
       "  'group': '未分组',\n",
       "  'my_price': '3.1',\n",
       "  'average_price': '8.8',\n",
       "  'match_level': '3',\n",
       "  'search_count': '100%',\n",
       "  'buy_count': '100%'},\n",
       " {'id': '77942874823',\n",
       "  'status': 'stop',\n",
       "  'kws': 'strip eyelash',\n",
       "  'group': '未分组',\n",
       "  'my_price': '3.1',\n",
       "  'average_price': '7.5',\n",
       "  'match_level': '4',\n",
       "  'search_count': '100%',\n",
       "  'buy_count': '100%'},\n",
       " {'id': '77973520133',\n",
       "  'status': 'stop',\n",
       "  'kws': 'synthetic eyelash extension',\n",
       "  'group': '未分组',\n",
       "  'my_price': '3.1',\n",
       "  'average_price': '7.5',\n",
       "  'match_level': '5',\n",
       "  'search_count': '85%',\n",
       "  'buy_count': '100%'},\n",
       " {'id': '77942874901',\n",
       "  'status': 'stop',\n",
       "  'kws': 'synthetic eyelashes',\n",
       "  'group': '未分组',\n",
       "  'my_price': '3.6',\n",
       "  'average_price': '9.1',\n",
       "  'match_level': '4',\n",
       "  'search_count': '100%',\n",
       "  'buy_count': '100%'},\n",
       " {'id': '77962924277',\n",
       "  'status': 'stop',\n",
       "  'kws': 'volume eyelash',\n",
       "  'group': '高价词',\n",
       "  'my_price': '3.1',\n",
       "  'average_price': '7.2',\n",
       "  'match_level': '4',\n",
       "  'search_count': '100%',\n",
       "  'buy_count': '100%'},\n",
       " {'id': '77973520151',\n",
       "  'status': 'stop',\n",
       "  'kws': 'wholesale individual eyelash extension',\n",
       "  'group': '未分组',\n",
       "  'my_price': '3.1',\n",
       "  'average_price': '8.4',\n",
       "  'match_level': '5',\n",
       "  'search_count': '85%',\n",
       "  'buy_count': '100%'},\n",
       " {'id': '77942874903',\n",
       "  'status': 'stop',\n",
       "  'kws': 'wholesale mink eyelash',\n",
       "  'group': '未分组',\n",
       "  'my_price': '3.1',\n",
       "  'average_price': '9.3',\n",
       "  'match_level': '5',\n",
       "  'search_count': '100%',\n",
       "  'buy_count': '100%'}]"
      ]
     },
     "execution_count": 13,
     "metadata": {},
     "output_type": "execute_result"
    }
   ],
   "source": [
    "keywords = p4p.crawl_keywords()\n",
    "keywords"
   ]
  },
  {
   "cell_type": "code",
   "execution_count": 6,
   "metadata": {},
   "outputs": [
    {
     "data": {
      "text/plain": [
       "'所有关键词(66)'"
      ]
     },
     "execution_count": 6,
     "metadata": {},
     "output_type": "execute_result"
    }
   ],
   "source": [
    "p4p.load_url()\n",
    "p4p.browser.find_element_by_css_selector('a.all-kwcount span').text"
   ]
  },
  {
   "cell_type": "code",
   "execution_count": 17,
   "metadata": {},
   "outputs": [
    {
     "data": {
      "text/plain": [
       "100"
      ]
     },
     "execution_count": 17,
     "metadata": {},
     "output_type": "execute_result"
    }
   ],
   "source": []
  },
  {
   "cell_type": "code",
   "execution_count": 14,
   "metadata": {},
   "outputs": [
    {
     "data": {
      "text/plain": [
       "{'version': 1,\n",
       " 'id': '309e433d46c04d1f954bc31ab516ed7b',\n",
       " 'func': 'libs.alibaba.p4p:P4P.crawl_keywords',\n",
       " 'trigger': <IntervalTrigger (interval=datetime.timedelta(0, 1800), start_date='2018-05-31 22:57:45 CST', end_date='2018-06-01 22:57:45 CST', timezone='Asia/Shanghai')>,\n",
       " 'executor': 'default',\n",
       " 'args': (),\n",
       " 'kwargs': {},\n",
       " 'name': 'P4P.crawl_keywords',\n",
       " 'misfire_grace_time': 1,\n",
       " 'coalesce': True,\n",
       " 'max_instances': 1,\n",
       " 'next_run_time': datetime.datetime(2018, 5, 31, 23, 27, 45, 195467, tzinfo=<DstTzInfo 'Asia/Shanghai' CST+8:00:00 STD>)}"
      ]
     },
     "execution_count": 14,
     "metadata": {},
     "output_type": "execute_result"
    },
    {
     "name": "stdout",
     "output_type": "stream",
     "text": [
      "2018-05-31 23:27:45 32768\n",
      "EVENT_JOB_SUBMITTED <JobSubmissionEvent (code=32768)>\n"
     ]
    },
    {
     "name": "stderr",
     "output_type": "stream",
     "text": [
      "Job \"P4P.crawl_keywords (trigger: interval[0:30:00], next run at: 2018-05-31 23:57:45 CST)\" raised an exception\n",
      "Traceback (most recent call last):\n",
      "  File \"e:\\worksp~1\\python\\market~1\\venv\\lib\\site-packages\\apscheduler\\executors\\base.py\", line 125, in run_job\n",
      "    retval = job.func(*job.args, **job.kwargs)\n",
      "  File \"E:\\workspace\\python\\Market Management\\libs\\alibaba\\p4p.py\", line 82, in crawl_keywords\n",
      "    self.load_url()\n",
      "  File \"E:\\workspace\\python\\Market Management\\libs\\alibaba\\p4p.py\", line 315, in load_url\n",
      "    self.browser.get(self.api)\n",
      "  File \"e:\\worksp~1\\python\\market~1\\venv\\lib\\site-packages\\selenium\\webdriver\\remote\\webdriver.py\", line 324, in get\n",
      "    self.execute(Command.GET, {'url': url})\n",
      "  File \"e:\\worksp~1\\python\\market~1\\venv\\lib\\site-packages\\selenium\\webdriver\\remote\\webdriver.py\", line 312, in execute\n",
      "    self.error_handler.check_response(response)\n",
      "  File \"e:\\worksp~1\\python\\market~1\\venv\\lib\\site-packages\\selenium\\webdriver\\remote\\errorhandler.py\", line 242, in check_response\n",
      "    raise exception_class(message, screen, stacktrace)\n",
      "selenium.common.exceptions.WebDriverException: Message: chrome not reachable\n",
      "  (Session info: chrome=66.0.3359.181)\n",
      "  (Driver info: chromedriver=2.38.552522 (437e6fbedfa8762dec75e2c5b3ddb86763dc9dcb),platform=Windows NT 10.0.17134 x86_64)\n",
      "\n",
      "Error notifying listener\n",
      "Traceback (most recent call last):\n",
      "  File \"e:\\worksp~1\\python\\market~1\\venv\\lib\\site-packages\\apscheduler\\schedulers\\base.py\", line 825, in _dispatch_event\n",
      "    cb(event)\n",
      "  File \"<ipython-input-2-1bd2665347c7>\", line 6, in scheduler_listener\n",
      "    traceback.print_exc()\n",
      "NameError: name 'traceback' is not defined\n"
     ]
    },
    {
     "name": "stdout",
     "output_type": "stream",
     "text": [
      "2018-05-31 23:27:49 8192\n",
      "Message: chrome not reachable\n",
      "  (Session info: chrome=66.0.3359.181)\n",
      "  (Driver info: chromedriver=2.38.552522 (437e6fbedfa8762dec75e2c5b3ddb86763dc9dcb),platform=Windows NT 10.0.17134 x86_64)\n",
      "\n"
     ]
    }
   ],
   "source": [
    "jobs[0].__getstate__()"
   ]
  },
  {
   "cell_type": "code",
   "execution_count": 12,
   "metadata": {},
   "outputs": [
    {
     "name": "stdout",
     "output_type": "stream",
     "text": [
      "2018-05-30 09:03:25 1024\n",
      "Job removed <JobEvent (code=1024)>\n"
     ]
    }
   ],
   "source": [
    "sched.get_jobs()[0].remove()"
   ]
  },
  {
   "cell_type": "code",
   "execution_count": 6,
   "metadata": {},
   "outputs": [],
   "source": [
    "# p4p.crawl()"
   ]
  },
  {
   "cell_type": "code",
   "execution_count": 7,
   "metadata": {},
   "outputs": [
    {
     "name": "stdout",
     "output_type": "stream",
     "text": [
      "next_page: True\n",
      "next_page: False\n"
     ]
    }
   ],
   "source": []
  },
  {
   "cell_type": "code",
   "execution_count": 7,
   "metadata": {},
   "outputs": [],
   "source": [
    "# p4p.monitor()"
   ]
  },
  {
   "cell_type": "code",
   "execution_count": 9,
   "metadata": {},
   "outputs": [
    {
     "data": {
      "text/plain": [
       "{'77973520148': '3d silk eyelash',\n",
       " '77973520150': 'bulk eyelash extension',\n",
       " '77942874910': 'eyelash manufacturer',\n",
       " '77942874852': 'eyelashes private label',\n",
       " '77942874933': 'natural eyelashes'}"
      ]
     },
     "execution_count": 9,
     "metadata": {},
     "output_type": "execute_result"
    }
   ],
   "source": [
    "p4p.keywords_list['monitor']"
   ]
  },
  {
   "cell_type": "code",
   "execution_count": 12,
   "metadata": {},
   "outputs": [
    {
     "name": "stdout",
     "output_type": "stream",
     "text": [
      "skipped_not_monitored\n",
      "skipped_not_monitored\n",
      "skipped_not_monitored\n",
      "skipped_not_in_未分组\n",
      "skipped_not_monitored\n",
      "skipped_not_monitored\n",
      "skipped_not_monitored\n",
      "select > \n",
      "skipped_not_monitored\n",
      "skipped_not_monitored\n",
      "skipped_not_monitored\n",
      "skipped_not_monitored\n",
      "skipped_not_monitored\n",
      "skipped_not_monitored\n",
      "skipped_not_monitored\n",
      "skipped_not_monitored\n",
      "skipped_not_monitored\n",
      "skipped_not_monitored\n",
      "skipped_not_monitored\n",
      "skipped_not_monitored\n",
      "skipped_not_monitored\n",
      "skipped_not_monitored\n",
      "skipped_not_monitored\n",
      "skipped_not_monitored\n",
      "skipped_not_monitored\n",
      "skipped_not_monitored\n",
      "\n",
      "skipped_not_monitored\n",
      "skipped_not_monitored\n",
      "skipped_not_monitored\n",
      "skipped_not_monitored\n",
      "skipped_not_monitored\n",
      "select > \n",
      "skipped_not_monitored\n",
      "skipped_not_monitored\n",
      "skipped_not_monitored\n",
      "skipped_not_monitored\n",
      "skipped_not_monitored\n",
      "skipped_not_monitored\n",
      "skipped_not_monitored\n",
      "skipped_not_monitored\n",
      "skipped_not_monitored\n",
      "skipped_not_monitored\n",
      "skipped_not_monitored\n",
      "skipped_not_monitored\n",
      "skipped_not_monitored\n",
      "skipped_not_monitored\n",
      "skipped_not_monitored\n",
      "skipped_not_monitored\n",
      "skipped_not_monitored\n",
      "pause all selected keywords on this page\n",
      "next_page: True\n",
      "skipped_not_monitored\n",
      "\n",
      "skipped_not_monitored\n",
      "skipped_not_monitored\n",
      "skipped_not_monitored\n",
      "skipped_not_monitored\n",
      "skipped_not_monitored\n",
      "skipped_not_monitored\n",
      "skipped_not_monitored\n",
      "skipped_not_monitored\n",
      "skipped_not_monitored\n",
      "skipped_not_monitored\n",
      "skipped_not_monitored\n",
      "skipped_not_monitored\n",
      "skipped_not_monitored\n",
      "skipped_not_monitored\n",
      "next_page: False\n"
     ]
    }
   ],
   "source": [
    "p4p.turn_all_off(group='未分组')"
   ]
  },
  {
   "cell_type": "code",
   "execution_count": null,
   "metadata": {},
   "outputs": [],
   "source": []
  },
  {
   "cell_type": "code",
   "execution_count": 53,
   "metadata": {},
   "outputs": [],
   "source": []
  },
  {
   "cell_type": "code",
   "execution_count": null,
   "metadata": {},
   "outputs": [],
   "source": []
  },
  {
   "cell_type": "code",
   "execution_count": null,
   "metadata": {},
   "outputs": [],
   "source": []
  },
  {
   "cell_type": "code",
   "execution_count": 190,
   "metadata": {},
   "outputs": [],
   "source": []
  },
  {
   "cell_type": "code",
   "execution_count": null,
   "metadata": {},
   "outputs": [],
   "source": []
  },
  {
   "cell_type": "code",
   "execution_count": null,
   "metadata": {},
   "outputs": [],
   "source": []
  },
  {
   "cell_type": "code",
   "execution_count": null,
   "metadata": {},
   "outputs": [],
   "source": []
  },
  {
   "cell_type": "code",
   "execution_count": null,
   "metadata": {},
   "outputs": [],
   "source": []
  },
  {
   "cell_type": "code",
   "execution_count": 82,
   "metadata": {},
   "outputs": [],
   "source": []
  },
  {
   "cell_type": "code",
   "execution_count": null,
   "metadata": {},
   "outputs": [],
   "source": []
  },
  {
   "cell_type": "code",
   "execution_count": null,
   "metadata": {},
   "outputs": [],
   "source": []
  },
  {
   "cell_type": "code",
   "execution_count": 6,
   "metadata": {},
   "outputs": [],
   "source": []
  },
  {
   "cell_type": "code",
   "execution_count": null,
   "metadata": {},
   "outputs": [],
   "source": []
  },
  {
   "cell_type": "code",
   "execution_count": 73,
   "metadata": {},
   "outputs": [],
   "source": []
  },
  {
   "cell_type": "code",
   "execution_count": null,
   "metadata": {},
   "outputs": [],
   "source": []
  },
  {
   "cell_type": "code",
   "execution_count": null,
   "metadata": {},
   "outputs": [],
   "source": []
  },
  {
   "cell_type": "code",
   "execution_count": 21,
   "metadata": {},
   "outputs": [],
   "source": []
  },
  {
   "cell_type": "code",
   "execution_count": null,
   "metadata": {},
   "outputs": [],
   "source": []
  },
  {
   "cell_type": "raw",
   "metadata": {},
   "source": []
  },
  {
   "cell_type": "code",
   "execution_count": null,
   "metadata": {},
   "outputs": [],
   "source": []
  },
  {
   "cell_type": "code",
   "execution_count": null,
   "metadata": {},
   "outputs": [],
   "source": []
  },
  {
   "cell_type": "code",
   "execution_count": 17,
   "metadata": {},
   "outputs": [],
   "source": []
  },
  {
   "cell_type": "code",
   "execution_count": 3,
   "metadata": {},
   "outputs": [],
   "source": []
  },
  {
   "cell_type": "code",
   "execution_count": 12,
   "metadata": {},
   "outputs": [],
   "source": []
  },
  {
   "cell_type": "code",
   "execution_count": 41,
   "metadata": {},
   "outputs": [],
   "source": [
    "\n",
    "from selenium import webdriver\n",
    "from selenium.webdriver.common.keys import Keys\n",
    "from selenium.webdriver.support.ui import WebDriverWait\n",
    "from selenium.webdriver.support import expected_conditions as EC\n",
    "from selenium.common.exceptions import WebDriverException\n",
    "from selenium.common.exceptions import TimeoutException\n",
    "from selenium.common.exceptions import NoSuchElementException\n",
    "from selenium.common.exceptions import ElementNotVisibleException\n",
    "from selenium.common.exceptions import StaleElementReferenceException\n",
    "from selenium.webdriver.common.by import By"
   ]
  },
  {
   "cell_type": "code",
   "execution_count": null,
   "metadata": {},
   "outputs": [],
   "source": []
  }
 ],
 "metadata": {
  "kernelspec": {
   "display_name": "Python 3",
   "language": "python",
   "name": "python3"
  },
  "language_info": {
   "codemirror_mode": {
    "name": "ipython",
    "version": 3
   },
   "file_extension": ".py",
   "mimetype": "text/x-python",
   "name": "python",
   "nbconvert_exporter": "python",
   "pygments_lexer": "ipython3",
   "version": "3.6.5"
  }
 },
 "nbformat": 4,
 "nbformat_minor": 2
}
